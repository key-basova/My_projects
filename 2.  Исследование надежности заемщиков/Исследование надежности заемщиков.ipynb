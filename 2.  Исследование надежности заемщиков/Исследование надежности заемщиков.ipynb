{
 "cells": [
  {
   "cell_type": "markdown",
   "metadata": {},
   "source": [
    "# Содержание\n",
    "\n",
    "1. [Обзор данных](#start)\n",
    "2. [Предобработка данных](#pre)   \n",
    "    2.1. [Обработка пропусков](#pre_null)    \n",
    "    2.2. [Замена типов данных](#pre_type)   \n",
    "    2.3. [Обработка дубликатов](#pre_duplicates)   \n",
    "    2.4. [Лемматизация](#pre_lemmos)   \n",
    "    2.5. [Категоризация данных](#pre_category)   \n",
    "3. [Проверка гипотез](#hypotis)   \n",
    "    3.1. [Есть ли зависимость между наличием детей и возвратом кредита в срок?](#hyp1)   \n",
    "    3.2. [ Есть ли зависимость между семейным положением и возвратом кредита в срок?](#hyp2)   \n",
    "    3.3. [Есть ли зависимость между уровнем дохода и возвратом кредита в срок?](#hyp3)   \n",
    "    3.4. [Как разные цели кредита влияют на его возврат в срок?](#hyp4)\n",
    "4. [Общий вывод](#result)\n"
   ]
  },
  {
   "cell_type": "markdown",
   "metadata": {},
   "source": [
    "# Исследование надёжности заёмщиков\n",
    "\n",
    "Заказчик — кредитный отдел банка. Нужно разобраться, влияет ли семейное положение и количество детей клиента на факт погашения кредита в срок. Входные данные от банка — статистика о платёжеспособности клиентов.\n",
    "\n",
    "Результаты исследования будут учтены при построении модели **кредитного скоринга** — специальной системы, которая оценивает способность потенциального заёмщика вернуть кредит банку.\n",
    "\n",
    "**Цель исследования** - проверить несколько гипотез:\n",
    "- Количество детей заемщика влияет на погашение кредита. Большое количество детей увеличивает риск просрочки платежей.\n",
    "- Семейные люди чаще гасят кредит в срок по сравнению с холостыми. Они более платежеспособные.\n",
    "- Уровень дохода влияет на погашение кредита. Чем он выше, тем чаще нет задолженностей.\n",
    "- Какие цели кредита менее рискованные с точки зрения возврата кредита."
   ]
  },
  {
   "cell_type": "markdown",
   "metadata": {},
   "source": [
    "##  Обзор данных\n",
    "<a id='start'></a>"
   ]
  },
  {
   "cell_type": "code",
   "execution_count": 1,
   "metadata": {},
   "outputs": [
    {
     "name": "stdout",
     "output_type": "stream",
     "text": [
      "Requirement already satisfied: pymystem3==0.2.0 in c:\\users\\basova\\anaconda3\\lib\\site-packages (0.2.0)\n",
      "Requirement already satisfied: requests in c:\\users\\basova\\anaconda3\\lib\\site-packages (from pymystem3==0.2.0) (2.26.0)\n",
      "Requirement already satisfied: idna<4,>=2.5 in c:\\users\\basova\\anaconda3\\lib\\site-packages (from requests->pymystem3==0.2.0) (3.2)\n",
      "Requirement already satisfied: charset-normalizer~=2.0.0 in c:\\users\\basova\\anaconda3\\lib\\site-packages (from requests->pymystem3==0.2.0) (2.0.4)\n",
      "Requirement already satisfied: certifi>=2017.4.17 in c:\\users\\basova\\anaconda3\\lib\\site-packages (from requests->pymystem3==0.2.0) (2021.10.8)\n",
      "Requirement already satisfied: urllib3<1.27,>=1.21.1 in c:\\users\\basova\\anaconda3\\lib\\site-packages (from requests->pymystem3==0.2.0) (1.26.7)\n"
     ]
    }
   ],
   "source": [
    "!pip install pymystem3==0.2.0 -U"
   ]
  },
  {
   "cell_type": "code",
   "execution_count": 2,
   "metadata": {},
   "outputs": [],
   "source": [
    "import pandas as pd # импорт бибилиотеки pandas \n",
    "\n",
    "from pymystem3 import Mystem # импортируем из библиотеки pymystem3 функцию Mystem()\n",
    "m = Mystem() # сохраняем функцию Mystem() в переменную\n",
    "\n",
    "from collections import Counter # импортируем контейнер Counter из модуля collections"
   ]
  },
  {
   "cell_type": "code",
   "execution_count": 3,
   "metadata": {},
   "outputs": [
    {
     "data": {
      "text/html": [
       "<div>\n",
       "<style scoped>\n",
       "    .dataframe tbody tr th:only-of-type {\n",
       "        vertical-align: middle;\n",
       "    }\n",
       "\n",
       "    .dataframe tbody tr th {\n",
       "        vertical-align: top;\n",
       "    }\n",
       "\n",
       "    .dataframe thead th {\n",
       "        text-align: right;\n",
       "    }\n",
       "</style>\n",
       "<table border=\"1\" class=\"dataframe\">\n",
       "  <thead>\n",
       "    <tr style=\"text-align: right;\">\n",
       "      <th></th>\n",
       "      <th>children</th>\n",
       "      <th>days_employed</th>\n",
       "      <th>dob_years</th>\n",
       "      <th>education</th>\n",
       "      <th>education_id</th>\n",
       "      <th>family_status</th>\n",
       "      <th>family_status_id</th>\n",
       "      <th>gender</th>\n",
       "      <th>income_type</th>\n",
       "      <th>debt</th>\n",
       "      <th>total_income</th>\n",
       "      <th>purpose</th>\n",
       "    </tr>\n",
       "  </thead>\n",
       "  <tbody>\n",
       "    <tr>\n",
       "      <th>0</th>\n",
       "      <td>1</td>\n",
       "      <td>-8437.673028</td>\n",
       "      <td>42</td>\n",
       "      <td>высшее</td>\n",
       "      <td>0</td>\n",
       "      <td>женат / замужем</td>\n",
       "      <td>0</td>\n",
       "      <td>F</td>\n",
       "      <td>сотрудник</td>\n",
       "      <td>0</td>\n",
       "      <td>253875.639453</td>\n",
       "      <td>покупка жилья</td>\n",
       "    </tr>\n",
       "    <tr>\n",
       "      <th>1</th>\n",
       "      <td>1</td>\n",
       "      <td>-4024.803754</td>\n",
       "      <td>36</td>\n",
       "      <td>среднее</td>\n",
       "      <td>1</td>\n",
       "      <td>женат / замужем</td>\n",
       "      <td>0</td>\n",
       "      <td>F</td>\n",
       "      <td>сотрудник</td>\n",
       "      <td>0</td>\n",
       "      <td>112080.014102</td>\n",
       "      <td>приобретение автомобиля</td>\n",
       "    </tr>\n",
       "    <tr>\n",
       "      <th>2</th>\n",
       "      <td>0</td>\n",
       "      <td>-5623.422610</td>\n",
       "      <td>33</td>\n",
       "      <td>Среднее</td>\n",
       "      <td>1</td>\n",
       "      <td>женат / замужем</td>\n",
       "      <td>0</td>\n",
       "      <td>M</td>\n",
       "      <td>сотрудник</td>\n",
       "      <td>0</td>\n",
       "      <td>145885.952297</td>\n",
       "      <td>покупка жилья</td>\n",
       "    </tr>\n",
       "    <tr>\n",
       "      <th>3</th>\n",
       "      <td>3</td>\n",
       "      <td>-4124.747207</td>\n",
       "      <td>32</td>\n",
       "      <td>среднее</td>\n",
       "      <td>1</td>\n",
       "      <td>женат / замужем</td>\n",
       "      <td>0</td>\n",
       "      <td>M</td>\n",
       "      <td>сотрудник</td>\n",
       "      <td>0</td>\n",
       "      <td>267628.550329</td>\n",
       "      <td>дополнительное образование</td>\n",
       "    </tr>\n",
       "    <tr>\n",
       "      <th>4</th>\n",
       "      <td>0</td>\n",
       "      <td>340266.072047</td>\n",
       "      <td>53</td>\n",
       "      <td>среднее</td>\n",
       "      <td>1</td>\n",
       "      <td>гражданский брак</td>\n",
       "      <td>1</td>\n",
       "      <td>F</td>\n",
       "      <td>пенсионер</td>\n",
       "      <td>0</td>\n",
       "      <td>158616.077870</td>\n",
       "      <td>сыграть свадьбу</td>\n",
       "    </tr>\n",
       "    <tr>\n",
       "      <th>5</th>\n",
       "      <td>0</td>\n",
       "      <td>-926.185831</td>\n",
       "      <td>27</td>\n",
       "      <td>высшее</td>\n",
       "      <td>0</td>\n",
       "      <td>гражданский брак</td>\n",
       "      <td>1</td>\n",
       "      <td>M</td>\n",
       "      <td>компаньон</td>\n",
       "      <td>0</td>\n",
       "      <td>255763.565419</td>\n",
       "      <td>покупка жилья</td>\n",
       "    </tr>\n",
       "    <tr>\n",
       "      <th>6</th>\n",
       "      <td>0</td>\n",
       "      <td>-2879.202052</td>\n",
       "      <td>43</td>\n",
       "      <td>высшее</td>\n",
       "      <td>0</td>\n",
       "      <td>женат / замужем</td>\n",
       "      <td>0</td>\n",
       "      <td>F</td>\n",
       "      <td>компаньон</td>\n",
       "      <td>0</td>\n",
       "      <td>240525.971920</td>\n",
       "      <td>операции с жильем</td>\n",
       "    </tr>\n",
       "    <tr>\n",
       "      <th>7</th>\n",
       "      <td>0</td>\n",
       "      <td>-152.779569</td>\n",
       "      <td>50</td>\n",
       "      <td>СРЕДНЕЕ</td>\n",
       "      <td>1</td>\n",
       "      <td>женат / замужем</td>\n",
       "      <td>0</td>\n",
       "      <td>M</td>\n",
       "      <td>сотрудник</td>\n",
       "      <td>0</td>\n",
       "      <td>135823.934197</td>\n",
       "      <td>образование</td>\n",
       "    </tr>\n",
       "    <tr>\n",
       "      <th>8</th>\n",
       "      <td>2</td>\n",
       "      <td>-6929.865299</td>\n",
       "      <td>35</td>\n",
       "      <td>ВЫСШЕЕ</td>\n",
       "      <td>0</td>\n",
       "      <td>гражданский брак</td>\n",
       "      <td>1</td>\n",
       "      <td>F</td>\n",
       "      <td>сотрудник</td>\n",
       "      <td>0</td>\n",
       "      <td>95856.832424</td>\n",
       "      <td>на проведение свадьбы</td>\n",
       "    </tr>\n",
       "    <tr>\n",
       "      <th>9</th>\n",
       "      <td>0</td>\n",
       "      <td>-2188.756445</td>\n",
       "      <td>41</td>\n",
       "      <td>среднее</td>\n",
       "      <td>1</td>\n",
       "      <td>женат / замужем</td>\n",
       "      <td>0</td>\n",
       "      <td>M</td>\n",
       "      <td>сотрудник</td>\n",
       "      <td>0</td>\n",
       "      <td>144425.938277</td>\n",
       "      <td>покупка жилья для семьи</td>\n",
       "    </tr>\n",
       "  </tbody>\n",
       "</table>\n",
       "</div>"
      ],
      "text/plain": [
       "   children  days_employed  dob_years education  education_id  \\\n",
       "0         1   -8437.673028         42    высшее             0   \n",
       "1         1   -4024.803754         36   среднее             1   \n",
       "2         0   -5623.422610         33   Среднее             1   \n",
       "3         3   -4124.747207         32   среднее             1   \n",
       "4         0  340266.072047         53   среднее             1   \n",
       "5         0    -926.185831         27    высшее             0   \n",
       "6         0   -2879.202052         43    высшее             0   \n",
       "7         0    -152.779569         50   СРЕДНЕЕ             1   \n",
       "8         2   -6929.865299         35    ВЫСШЕЕ             0   \n",
       "9         0   -2188.756445         41   среднее             1   \n",
       "\n",
       "      family_status  family_status_id gender income_type  debt   total_income  \\\n",
       "0   женат / замужем                 0      F   сотрудник     0  253875.639453   \n",
       "1   женат / замужем                 0      F   сотрудник     0  112080.014102   \n",
       "2   женат / замужем                 0      M   сотрудник     0  145885.952297   \n",
       "3   женат / замужем                 0      M   сотрудник     0  267628.550329   \n",
       "4  гражданский брак                 1      F   пенсионер     0  158616.077870   \n",
       "5  гражданский брак                 1      M   компаньон     0  255763.565419   \n",
       "6   женат / замужем                 0      F   компаньон     0  240525.971920   \n",
       "7   женат / замужем                 0      M   сотрудник     0  135823.934197   \n",
       "8  гражданский брак                 1      F   сотрудник     0   95856.832424   \n",
       "9   женат / замужем                 0      M   сотрудник     0  144425.938277   \n",
       "\n",
       "                      purpose  \n",
       "0               покупка жилья  \n",
       "1     приобретение автомобиля  \n",
       "2               покупка жилья  \n",
       "3  дополнительное образование  \n",
       "4             сыграть свадьбу  \n",
       "5               покупка жилья  \n",
       "6           операции с жильем  \n",
       "7                 образование  \n",
       "8       на проведение свадьбы  \n",
       "9     покупка жилья для семьи  "
      ]
     },
     "execution_count": 3,
     "metadata": {},
     "output_type": "execute_result"
    }
   ],
   "source": [
    "df = pd.read_csv('data.csv') # чтение исходного файла и сохранение его в переменную df\n",
    "df.head(10) # вывод первых 10 строк таблицы"
   ]
  },
  {
   "cell_type": "markdown",
   "metadata": {},
   "source": [
    "Дополнительно получаем общую информацию о таблице:"
   ]
  },
  {
   "cell_type": "code",
   "execution_count": 4,
   "metadata": {},
   "outputs": [
    {
     "name": "stdout",
     "output_type": "stream",
     "text": [
      "<class 'pandas.core.frame.DataFrame'>\n",
      "RangeIndex: 21525 entries, 0 to 21524\n",
      "Data columns (total 12 columns):\n",
      " #   Column            Non-Null Count  Dtype  \n",
      "---  ------            --------------  -----  \n",
      " 0   children          21525 non-null  int64  \n",
      " 1   days_employed     19351 non-null  float64\n",
      " 2   dob_years         21525 non-null  int64  \n",
      " 3   education         21525 non-null  object \n",
      " 4   education_id      21525 non-null  int64  \n",
      " 5   family_status     21525 non-null  object \n",
      " 6   family_status_id  21525 non-null  int64  \n",
      " 7   gender            21525 non-null  object \n",
      " 8   income_type       21525 non-null  object \n",
      " 9   debt              21525 non-null  int64  \n",
      " 10  total_income      19351 non-null  float64\n",
      " 11  purpose           21525 non-null  object \n",
      "dtypes: float64(2), int64(5), object(5)\n",
      "memory usage: 2.0+ MB\n"
     ]
    }
   ],
   "source": [
    "df.info() # вывод общей информации о таблице"
   ]
  },
  {
   "cell_type": "markdown",
   "metadata": {},
   "source": [
    "Таблица содержит 12 столбцов:\n",
    "- `children` — количество детей в семье;\n",
    "- `days_employed` — общий трудовой стаж в днях;\n",
    "- `dob_years` — возраст клиента в годах;\n",
    "- `education` — уровень образования клиента;\n",
    "- `education_id` — идентификатор уровня образования;\n",
    "- `family_status` — семейное положение;\n",
    "- `family_status_id` — идентификатор семейного положения;\n",
    "- `gender` — пол клиента;\n",
    "- `income_type` — тип занятости;\n",
    "- `debt` — имел ли задолженность по возврату кредитов;\n",
    "- `total_income` — ежемесячный доход;\n",
    "- `purpose`— цель получения кредита.\n",
    "\n",
    "В названиях столбщов все корректно. \n",
    "\n",
    "В данных видны проблемы со значениями:\n",
    "1. Общий трудовой стаж имеет отрицательные значения, указан в днях (что неудобно для анализа) и имеет тип данных float.\n",
    "2. Уровень образования клиентов типа object и имеет разный способ написания\n",
    "\n",
    "Количество значений в столбцах `days_employed` и `total_income` однинаково и ниже, чем в остальных. Значит есть пропущенные значения и, возможно, они взаимосвязаны."
   ]
  },
  {
   "cell_type": "markdown",
   "metadata": {},
   "source": [
    "В таблице указаны общие данные о заемщиках - их уровень образования, возраст, пол, семейное положение и количество детей. Также есть информация о рабочем стаже, доходе, целях кредитования. Для каждого заемщика известно, имел ли он ранее задолженности по возврату кредита.\n",
    "\n",
    "Для того, чтобы двигаться дальше, необходимо проверить данные на пропуски, удалить повторения и привести ряд значений к удобному для анализа виду. "
   ]
  },
  {
   "cell_type": "markdown",
   "metadata": {},
   "source": [
    "## Предобработка данных\n",
    "<a id='pre'></a>"
   ]
  },
  {
   "cell_type": "markdown",
   "metadata": {},
   "source": [
    "### Обработка пропусков\n",
    "<a id='pre_null'></a>\n",
    "\n",
    "Сначала посчитаем пропущенные значения в таблице:"
   ]
  },
  {
   "cell_type": "code",
   "execution_count": 5,
   "metadata": {},
   "outputs": [
    {
     "data": {
      "text/plain": [
       "children               0\n",
       "days_employed       2174\n",
       "dob_years              0\n",
       "education              0\n",
       "education_id           0\n",
       "family_status          0\n",
       "family_status_id       0\n",
       "gender                 0\n",
       "income_type            0\n",
       "debt                   0\n",
       "total_income        2174\n",
       "purpose                0\n",
       "dtype: int64"
      ]
     },
     "execution_count": 5,
     "metadata": {},
     "output_type": "execute_result"
    }
   ],
   "source": [
    "df.isna().sum() # считаем количество пропусков"
   ]
  },
  {
   "cell_type": "markdown",
   "metadata": {},
   "source": [
    "Проверим, есть ли связь между отсутствием данных и определенной занятостью потребителей:"
   ]
  },
  {
   "cell_type": "code",
   "execution_count": 6,
   "metadata": {},
   "outputs": [
    {
     "data": {
      "text/plain": [
       "income_type\n",
       "госслужащий         147\n",
       "компаньон           508\n",
       "пенсионер           413\n",
       "предприниматель       1\n",
       "сотрудник          1105\n",
       "Name: income_type, dtype: int64"
      ]
     },
     "execution_count": 6,
     "metadata": {},
     "output_type": "execute_result"
    }
   ],
   "source": [
    "# группируем строки с отсутствующими данными по типу занятости\n",
    "df[df['total_income'].isna() & df['days_employed'].isna()].groupby('income_type')['income_type'].count()"
   ]
  },
  {
   "cell_type": "markdown",
   "metadata": {},
   "source": [
    "**Выводы**\n",
    "\n",
    "Отсутствие данных по стажу и доходу в одних и тех же строках.\n",
    "\n",
    "Это отсутствие не привязано к конкретной занятости. Скорее всего, это техническая ошибка. "
   ]
  },
  {
   "cell_type": "markdown",
   "metadata": {},
   "source": [
    "### Замена типа данных\n",
    "<a id='pre_type'></a>\n",
    "\n",
    "Строки с отсутствующими данными занимают около 10% и содержат другую ключевую информацию для исследования.\n",
    "\n",
    "Поэтому отсутствующие данные по стажу и доходу заменим на медианные значения для минимизации влияния выбросов.\n",
    "\n",
    "Перед тем, как заполнять пропуски, проверим все столбцы на корректность существущих значений, в том числе:\n",
    "- Возраст заемщиков `dob_years` - от 18 лет\n",
    "- В столбце `days_employed` количество лет стажа иногда превышает возраст заемщика, а также имеет отрицательные значения;\n",
    "- Значения в столбце `education` написаны в разном стиле написания\n",
    "- Цели кредита `purpose` имеют разное написание, но много одинаковых по смыслу."
   ]
  },
  {
   "cell_type": "code",
   "execution_count": 7,
   "metadata": {},
   "outputs": [
    {
     "data": {
      "text/plain": [
       "0    101\n",
       "Name: dob_years, dtype: int64"
      ]
     },
     "execution_count": 7,
     "metadata": {},
     "output_type": "execute_result"
    }
   ],
   "source": [
    "df.loc[df['dob_years'] < 18, 'dob_years'].value_counts() # выведем тех, кому меньше 18"
   ]
  },
  {
   "cell_type": "markdown",
   "metadata": {},
   "source": [
    "В таблице заемщики младше 18 - только с нулевым значением. Проверим, связано ли это с типом занятости."
   ]
  },
  {
   "cell_type": "code",
   "execution_count": 8,
   "metadata": {},
   "outputs": [
    {
     "data": {
      "text/plain": [
       "income_type\n",
       "госслужащий     6\n",
       "компаньон      20\n",
       "пенсионер      20\n",
       "сотрудник      55\n",
       "Name: income_type, dtype: int64"
      ]
     },
     "execution_count": 8,
     "metadata": {},
     "output_type": "execute_result"
    }
   ],
   "source": [
    "# выведем тип занятости income_type тех, у кого возраст dob_years 0\n",
    "df[df['dob_years'] == 0].groupby('income_type')['income_type'].count()"
   ]
  },
  {
   "cell_type": "markdown",
   "metadata": {},
   "source": [
    "Не прослеживается зависимости нулевого возраста с типом занятости. Скорее всего, это ошибка ввода или техническая ошибка. Таких значений менее 0,5%, поэтому удалим их."
   ]
  },
  {
   "cell_type": "code",
   "execution_count": 9,
   "metadata": {},
   "outputs": [],
   "source": [
    "df.drop(df[df['dob_years'] == 0].index, inplace=True) # удаляем строки, где возраст dob_years равен нулю\n",
    "df = df.reset_index(drop=True) # обновляем индексацию"
   ]
  },
  {
   "cell_type": "markdown",
   "metadata": {},
   "source": [
    "Проверим также стаж `days_employed` и доход `total_income` на нулевые значения."
   ]
  },
  {
   "cell_type": "code",
   "execution_count": 10,
   "metadata": {},
   "outputs": [
    {
     "data": {
      "text/plain": [
       "0"
      ]
     },
     "execution_count": 10,
     "metadata": {},
     "output_type": "execute_result"
    }
   ],
   "source": [
    "df.loc[df['days_employed'] == 0, 'income_type'].count() # выведем нулевые значения days_employed"
   ]
  },
  {
   "cell_type": "code",
   "execution_count": 11,
   "metadata": {},
   "outputs": [
    {
     "data": {
      "text/plain": [
       "0"
      ]
     },
     "execution_count": 11,
     "metadata": {},
     "output_type": "execute_result"
    }
   ],
   "source": [
    "df.loc[df['total_income'] == 0, 'income_type'].count() # выведем нулевые значения total_income"
   ]
  },
  {
   "cell_type": "markdown",
   "metadata": {},
   "source": [
    "Нулевых значений нет. Поэтому пока для дальнейших математических расчетов, заменим пропуски нулями и преобразуем значения из вещественного типа в целочисленный."
   ]
  },
  {
   "cell_type": "code",
   "execution_count": 12,
   "metadata": {},
   "outputs": [
    {
     "name": "stdout",
     "output_type": "stream",
     "text": [
      "<class 'pandas.core.frame.DataFrame'>\n",
      "RangeIndex: 21424 entries, 0 to 21423\n",
      "Data columns (total 12 columns):\n",
      " #   Column            Non-Null Count  Dtype \n",
      "---  ------            --------------  ----- \n",
      " 0   children          21424 non-null  int64 \n",
      " 1   days_employed     21424 non-null  int32 \n",
      " 2   dob_years         21424 non-null  int64 \n",
      " 3   education         21424 non-null  object\n",
      " 4   education_id      21424 non-null  int64 \n",
      " 5   family_status     21424 non-null  object\n",
      " 6   family_status_id  21424 non-null  int64 \n",
      " 7   gender            21424 non-null  object\n",
      " 8   income_type       21424 non-null  object\n",
      " 9   debt              21424 non-null  int64 \n",
      " 10  total_income      21424 non-null  int32 \n",
      " 11  purpose           21424 non-null  object\n",
      "dtypes: int32(2), int64(5), object(5)\n",
      "memory usage: 1.8+ MB\n"
     ]
    }
   ],
   "source": [
    "# заменяем пропуски в столбцах days_employed и total_income на нули\n",
    "df[['days_employed','total_income']] = df[['days_employed','total_income']].fillna(0)\n",
    "# меняем тип данных в столбцах days_employed и total_income на целочисленный\n",
    "df[['days_employed','total_income']] = df[['days_employed','total_income']].astype('int')\n",
    "df.info() # проверяем отсутствие пропусков и тип данных"
   ]
  },
  {
   "cell_type": "markdown",
   "metadata": {},
   "source": [
    "Теперь вернемся к самим значениям таблицы. В столбце `days_employed` количество лет стажа иногда превышает возраст заемщика, а также иногда имеет отрицательные значения."
   ]
  },
  {
   "cell_type": "code",
   "execution_count": 13,
   "metadata": {},
   "outputs": [],
   "source": [
    "df['days_employed'] = abs(df['days_employed']) # заменим отрицательные значения days_employed на положительные"
   ]
  },
  {
   "cell_type": "code",
   "execution_count": 14,
   "metadata": {},
   "outputs": [
    {
     "data": {
      "text/plain": [
       "пенсионер      3426\n",
       "безработный       2\n",
       "Name: income_type, dtype: int64"
      ]
     },
     "execution_count": 14,
     "metadata": {},
     "output_type": "execute_result"
    }
   ],
   "source": [
    "# выведем те типы занятости income_type, для кого стаж days_employed превышает возраст dob_years\n",
    "df.loc[df['days_employed'] >= df['dob_years']*365,'income_type'].value_counts()"
   ]
  },
  {
   "cell_type": "markdown",
   "metadata": {},
   "source": [
    "Аномально высокое значение стажа встречается преимущестенно у пенсионеров. Посмотрим, сколько всего пенсионеров в таблице и что со стажем у остальных."
   ]
  },
  {
   "cell_type": "code",
   "execution_count": 15,
   "metadata": {},
   "outputs": [
    {
     "data": {
      "text/plain": [
       "3836"
      ]
     },
     "execution_count": 15,
     "metadata": {},
     "output_type": "execute_result"
    }
   ],
   "source": [
    "df.loc[df['income_type'] == 'пенсионер', 'income_type'].count() # сколько всего пенсионеров income_type"
   ]
  },
  {
   "cell_type": "code",
   "execution_count": 16,
   "metadata": {},
   "outputs": [
    {
     "data": {
      "text/plain": [
       "0.0"
      ]
     },
     "execution_count": 16,
     "metadata": {},
     "output_type": "execute_result"
    }
   ],
   "source": [
    "# посчитаем среднее значение стажа days_employed для пенсионеров income_type, \n",
    "# чей возраст dob_years больше стажа days_employed\n",
    "df.loc[(df['income_type'] == 'пенсионер') & (df['days_employed'] < df['dob_years']*365 ), 'days_employed'].mean()"
   ]
  },
  {
   "cell_type": "markdown",
   "metadata": {},
   "source": [
    "У большинства пенсионеров аномально высокое значение стажа, у остальных ноль (т.е. отсутствуют значения). Скорее всего это ошибка при вводе связана с единицами измерения. Возможно дни посчитаны в часах. Проверим это по значениям стажа во всей таблице. Далее исправим это значение у тех, где оно есть, а отсутсвующие заменим на медианное по всем пенсионерам."
   ]
  },
  {
   "cell_type": "code",
   "execution_count": 17,
   "metadata": {},
   "outputs": [
    {
     "name": "stdout",
     "output_type": "stream",
     "text": [
      "Аномальный стаж - 1000 лет.\n",
      "Максимальный адекватный стаж 50 лет.\n",
      "Средний адекватный стаж 6 лет.\n"
     ]
    }
   ],
   "source": [
    "print('Аномальный стаж -', round(df.loc[df['days_employed'] > df['dob_years']*365,'days_employed'].mean()/365), 'лет.')\n",
    "print('Максимальный адекватный стаж', round(df.loc[df['days_employed'] < df['dob_years']*365,'days_employed'].max()/365), 'лет.')\n",
    "print('Средний адекватный стаж', round(df.loc[df['days_employed'] < df['dob_years']*365,'days_employed'].mean()/365), 'лет.')"
   ]
  },
  {
   "cell_type": "code",
   "execution_count": 18,
   "metadata": {},
   "outputs": [
    {
     "name": "stdout",
     "output_type": "stream",
     "text": [
      "<class 'pandas.core.frame.DataFrame'>\n",
      "RangeIndex: 21424 entries, 0 to 21423\n",
      "Data columns (total 12 columns):\n",
      " #   Column            Non-Null Count  Dtype \n",
      "---  ------            --------------  ----- \n",
      " 0   children          21424 non-null  int64 \n",
      " 1   days_employed     21424 non-null  int32 \n",
      " 2   dob_years         21424 non-null  int64 \n",
      " 3   education         21424 non-null  object\n",
      " 4   education_id      21424 non-null  int64 \n",
      " 5   family_status     21424 non-null  object\n",
      " 6   family_status_id  21424 non-null  int64 \n",
      " 7   gender            21424 non-null  object\n",
      " 8   income_type       21424 non-null  object\n",
      " 9   debt              21424 non-null  int64 \n",
      " 10  total_income      21424 non-null  int32 \n",
      " 11  purpose           21424 non-null  object\n",
      "dtypes: int32(2), int64(5), object(5)\n",
      "memory usage: 1.8+ MB\n"
     ]
    }
   ],
   "source": [
    "df.info() # выведм информацю об измененной таблице "
   ]
  },
  {
   "cell_type": "code",
   "execution_count": 19,
   "metadata": {},
   "outputs": [
    {
     "data": {
      "text/plain": [
       "54"
      ]
     },
     "execution_count": 19,
     "metadata": {},
     "output_type": "execute_result"
    }
   ],
   "source": [
    "def days_employed_replace(row):     # создадим функцию по замене значения стажа \n",
    "    days = row['days_employed']     # стаж days возьмем из столбца days_employed\n",
    "    age = row['dob_years']          # возраст age возьмем из столбца dob_years\n",
    "    if days/365 >= age:             # если стаж days больше возраста age\n",
    "        days_replace = days / 24                   # делим стаж days на 24\n",
    "        return days_replace                 # возвращаем стаж days\n",
    "    return days\n",
    "df['days_employed'] = df.apply(days_employed_replace, axis=1) # применим функцию days_employed_replace\n",
    "df.loc[df['days_employed'] >= df['dob_years']*365, 'income_type'].count() # проверяем результаты функции"
   ]
  },
  {
   "cell_type": "code",
   "execution_count": 20,
   "metadata": {},
   "outputs": [
    {
     "name": "stdout",
     "output_type": "stream",
     "text": [
      "<class 'pandas.core.frame.DataFrame'>\n",
      "RangeIndex: 21424 entries, 0 to 21423\n",
      "Data columns (total 12 columns):\n",
      " #   Column            Non-Null Count  Dtype  \n",
      "---  ------            --------------  -----  \n",
      " 0   children          21424 non-null  int64  \n",
      " 1   days_employed     21424 non-null  float64\n",
      " 2   dob_years         21424 non-null  int64  \n",
      " 3   education         21424 non-null  object \n",
      " 4   education_id      21424 non-null  int64  \n",
      " 5   family_status     21424 non-null  object \n",
      " 6   family_status_id  21424 non-null  int64  \n",
      " 7   gender            21424 non-null  object \n",
      " 8   income_type       21424 non-null  object \n",
      " 9   debt              21424 non-null  int64  \n",
      " 10  total_income      21424 non-null  int32  \n",
      " 11  purpose           21424 non-null  object \n",
      "dtypes: float64(1), int32(1), int64(5), object(5)\n",
      "memory usage: 1.9+ MB\n"
     ]
    }
   ],
   "source": [
    "df.info() # выведм информацю об измененной таблице "
   ]
  },
  {
   "cell_type": "code",
   "execution_count": 21,
   "metadata": {},
   "outputs": [
    {
     "data": {
      "text/html": [
       "<div>\n",
       "<style scoped>\n",
       "    .dataframe tbody tr th:only-of-type {\n",
       "        vertical-align: middle;\n",
       "    }\n",
       "\n",
       "    .dataframe tbody tr th {\n",
       "        vertical-align: top;\n",
       "    }\n",
       "\n",
       "    .dataframe thead th {\n",
       "        text-align: right;\n",
       "    }\n",
       "</style>\n",
       "<table border=\"1\" class=\"dataframe\">\n",
       "  <thead>\n",
       "    <tr style=\"text-align: right;\">\n",
       "      <th></th>\n",
       "      <th>children</th>\n",
       "      <th>days_employed</th>\n",
       "      <th>dob_years</th>\n",
       "      <th>education</th>\n",
       "      <th>education_id</th>\n",
       "      <th>family_status</th>\n",
       "      <th>family_status_id</th>\n",
       "      <th>gender</th>\n",
       "      <th>income_type</th>\n",
       "      <th>debt</th>\n",
       "      <th>total_income</th>\n",
       "      <th>purpose</th>\n",
       "    </tr>\n",
       "  </thead>\n",
       "  <tbody>\n",
       "    <tr>\n",
       "      <th>155</th>\n",
       "      <td>0</td>\n",
       "      <td>14517.250000</td>\n",
       "      <td>38</td>\n",
       "      <td>среднее</td>\n",
       "      <td>1</td>\n",
       "      <td>женат / замужем</td>\n",
       "      <td>0</td>\n",
       "      <td>F</td>\n",
       "      <td>пенсионер</td>\n",
       "      <td>1</td>\n",
       "      <td>113560</td>\n",
       "      <td>сделка с автомобилем</td>\n",
       "    </tr>\n",
       "    <tr>\n",
       "      <th>747</th>\n",
       "      <td>0</td>\n",
       "      <td>16281.458333</td>\n",
       "      <td>41</td>\n",
       "      <td>среднее</td>\n",
       "      <td>1</td>\n",
       "      <td>женат / замужем</td>\n",
       "      <td>0</td>\n",
       "      <td>M</td>\n",
       "      <td>пенсионер</td>\n",
       "      <td>0</td>\n",
       "      <td>151898</td>\n",
       "      <td>операции со своей недвижимостью</td>\n",
       "    </tr>\n",
       "    <tr>\n",
       "      <th>772</th>\n",
       "      <td>0</td>\n",
       "      <td>15222.333333</td>\n",
       "      <td>38</td>\n",
       "      <td>среднее</td>\n",
       "      <td>1</td>\n",
       "      <td>женат / замужем</td>\n",
       "      <td>0</td>\n",
       "      <td>F</td>\n",
       "      <td>пенсионер</td>\n",
       "      <td>0</td>\n",
       "      <td>73859</td>\n",
       "      <td>покупка недвижимости</td>\n",
       "    </tr>\n",
       "    <tr>\n",
       "      <th>1235</th>\n",
       "      <td>0</td>\n",
       "      <td>13948.500000</td>\n",
       "      <td>22</td>\n",
       "      <td>Среднее</td>\n",
       "      <td>1</td>\n",
       "      <td>Не женат / не замужем</td>\n",
       "      <td>4</td>\n",
       "      <td>F</td>\n",
       "      <td>пенсионер</td>\n",
       "      <td>0</td>\n",
       "      <td>89368</td>\n",
       "      <td>получение высшего образования</td>\n",
       "    </tr>\n",
       "    <tr>\n",
       "      <th>1376</th>\n",
       "      <td>0</td>\n",
       "      <td>14741.750000</td>\n",
       "      <td>37</td>\n",
       "      <td>среднее</td>\n",
       "      <td>1</td>\n",
       "      <td>вдовец / вдова</td>\n",
       "      <td>2</td>\n",
       "      <td>F</td>\n",
       "      <td>пенсионер</td>\n",
       "      <td>0</td>\n",
       "      <td>216452</td>\n",
       "      <td>строительство недвижимости</td>\n",
       "    </tr>\n",
       "    <tr>\n",
       "      <th>1438</th>\n",
       "      <td>0</td>\n",
       "      <td>14122.458333</td>\n",
       "      <td>37</td>\n",
       "      <td>СРЕДНЕЕ</td>\n",
       "      <td>1</td>\n",
       "      <td>гражданский брак</td>\n",
       "      <td>1</td>\n",
       "      <td>M</td>\n",
       "      <td>пенсионер</td>\n",
       "      <td>0</td>\n",
       "      <td>148657</td>\n",
       "      <td>свадьба</td>\n",
       "    </tr>\n",
       "    <tr>\n",
       "      <th>1629</th>\n",
       "      <td>0</td>\n",
       "      <td>16635.833333</td>\n",
       "      <td>39</td>\n",
       "      <td>среднее</td>\n",
       "      <td>1</td>\n",
       "      <td>женат / замужем</td>\n",
       "      <td>0</td>\n",
       "      <td>M</td>\n",
       "      <td>пенсионер</td>\n",
       "      <td>0</td>\n",
       "      <td>211513</td>\n",
       "      <td>операции с недвижимостью</td>\n",
       "    </tr>\n",
       "    <tr>\n",
       "      <th>1744</th>\n",
       "      <td>1</td>\n",
       "      <td>16249.125000</td>\n",
       "      <td>38</td>\n",
       "      <td>ВЫСШЕЕ</td>\n",
       "      <td>0</td>\n",
       "      <td>Не женат / не замужем</td>\n",
       "      <td>4</td>\n",
       "      <td>F</td>\n",
       "      <td>пенсионер</td>\n",
       "      <td>0</td>\n",
       "      <td>311574</td>\n",
       "      <td>покупка недвижимости</td>\n",
       "    </tr>\n",
       "    <tr>\n",
       "      <th>2976</th>\n",
       "      <td>0</td>\n",
       "      <td>15114.208333</td>\n",
       "      <td>39</td>\n",
       "      <td>среднее</td>\n",
       "      <td>1</td>\n",
       "      <td>в разводе</td>\n",
       "      <td>3</td>\n",
       "      <td>F</td>\n",
       "      <td>пенсионер</td>\n",
       "      <td>0</td>\n",
       "      <td>96891</td>\n",
       "      <td>покупка недвижимости</td>\n",
       "    </tr>\n",
       "    <tr>\n",
       "      <th>3116</th>\n",
       "      <td>1</td>\n",
       "      <td>14063.500000</td>\n",
       "      <td>31</td>\n",
       "      <td>среднее</td>\n",
       "      <td>1</td>\n",
       "      <td>женат / замужем</td>\n",
       "      <td>0</td>\n",
       "      <td>M</td>\n",
       "      <td>безработный</td>\n",
       "      <td>1</td>\n",
       "      <td>59956</td>\n",
       "      <td>покупка жилья для сдачи</td>\n",
       "    </tr>\n",
       "    <tr>\n",
       "      <th>3486</th>\n",
       "      <td>2</td>\n",
       "      <td>16456.208333</td>\n",
       "      <td>38</td>\n",
       "      <td>среднее</td>\n",
       "      <td>1</td>\n",
       "      <td>женат / замужем</td>\n",
       "      <td>0</td>\n",
       "      <td>F</td>\n",
       "      <td>пенсионер</td>\n",
       "      <td>1</td>\n",
       "      <td>117596</td>\n",
       "      <td>получение дополнительного образования</td>\n",
       "    </tr>\n",
       "    <tr>\n",
       "      <th>3944</th>\n",
       "      <td>0</td>\n",
       "      <td>16331.708333</td>\n",
       "      <td>34</td>\n",
       "      <td>среднее</td>\n",
       "      <td>1</td>\n",
       "      <td>Не женат / не замужем</td>\n",
       "      <td>4</td>\n",
       "      <td>M</td>\n",
       "      <td>пенсионер</td>\n",
       "      <td>0</td>\n",
       "      <td>79906</td>\n",
       "      <td>высшее образование</td>\n",
       "    </tr>\n",
       "    <tr>\n",
       "      <th>4728</th>\n",
       "      <td>0</td>\n",
       "      <td>15554.041667</td>\n",
       "      <td>41</td>\n",
       "      <td>среднее</td>\n",
       "      <td>1</td>\n",
       "      <td>гражданский брак</td>\n",
       "      <td>1</td>\n",
       "      <td>F</td>\n",
       "      <td>пенсионер</td>\n",
       "      <td>0</td>\n",
       "      <td>158776</td>\n",
       "      <td>строительство жилой недвижимости</td>\n",
       "    </tr>\n",
       "    <tr>\n",
       "      <th>4889</th>\n",
       "      <td>0</td>\n",
       "      <td>16127.500000</td>\n",
       "      <td>38</td>\n",
       "      <td>высшее</td>\n",
       "      <td>0</td>\n",
       "      <td>Не женат / не замужем</td>\n",
       "      <td>4</td>\n",
       "      <td>F</td>\n",
       "      <td>пенсионер</td>\n",
       "      <td>0</td>\n",
       "      <td>376300</td>\n",
       "      <td>получение образования</td>\n",
       "    </tr>\n",
       "    <tr>\n",
       "      <th>5693</th>\n",
       "      <td>0</td>\n",
       "      <td>16579.375000</td>\n",
       "      <td>33</td>\n",
       "      <td>среднее</td>\n",
       "      <td>1</td>\n",
       "      <td>гражданский брак</td>\n",
       "      <td>1</td>\n",
       "      <td>M</td>\n",
       "      <td>пенсионер</td>\n",
       "      <td>0</td>\n",
       "      <td>94270</td>\n",
       "      <td>на проведение свадьбы</td>\n",
       "    </tr>\n",
       "    <tr>\n",
       "      <th>5818</th>\n",
       "      <td>2</td>\n",
       "      <td>16564.500000</td>\n",
       "      <td>34</td>\n",
       "      <td>среднее</td>\n",
       "      <td>1</td>\n",
       "      <td>женат / замужем</td>\n",
       "      <td>0</td>\n",
       "      <td>F</td>\n",
       "      <td>пенсионер</td>\n",
       "      <td>0</td>\n",
       "      <td>298041</td>\n",
       "      <td>операции с коммерческой недвижимостью</td>\n",
       "    </tr>\n",
       "    <tr>\n",
       "      <th>6329</th>\n",
       "      <td>0</td>\n",
       "      <td>16041.458333</td>\n",
       "      <td>43</td>\n",
       "      <td>среднее</td>\n",
       "      <td>1</td>\n",
       "      <td>Не женат / не замужем</td>\n",
       "      <td>4</td>\n",
       "      <td>M</td>\n",
       "      <td>пенсионер</td>\n",
       "      <td>1</td>\n",
       "      <td>95013</td>\n",
       "      <td>заняться высшим образованием</td>\n",
       "    </tr>\n",
       "    <tr>\n",
       "      <th>6525</th>\n",
       "      <td>1</td>\n",
       "      <td>14766.541667</td>\n",
       "      <td>36</td>\n",
       "      <td>среднее</td>\n",
       "      <td>1</td>\n",
       "      <td>в разводе</td>\n",
       "      <td>3</td>\n",
       "      <td>F</td>\n",
       "      <td>пенсионер</td>\n",
       "      <td>0</td>\n",
       "      <td>115340</td>\n",
       "      <td>операции с коммерческой недвижимостью</td>\n",
       "    </tr>\n",
       "    <tr>\n",
       "      <th>6913</th>\n",
       "      <td>1</td>\n",
       "      <td>16526.916667</td>\n",
       "      <td>41</td>\n",
       "      <td>среднее</td>\n",
       "      <td>1</td>\n",
       "      <td>женат / замужем</td>\n",
       "      <td>0</td>\n",
       "      <td>M</td>\n",
       "      <td>пенсионер</td>\n",
       "      <td>0</td>\n",
       "      <td>158482</td>\n",
       "      <td>недвижимость</td>\n",
       "    </tr>\n",
       "    <tr>\n",
       "      <th>7194</th>\n",
       "      <td>1</td>\n",
       "      <td>13701.125000</td>\n",
       "      <td>32</td>\n",
       "      <td>среднее</td>\n",
       "      <td>1</td>\n",
       "      <td>гражданский брак</td>\n",
       "      <td>1</td>\n",
       "      <td>F</td>\n",
       "      <td>пенсионер</td>\n",
       "      <td>0</td>\n",
       "      <td>122162</td>\n",
       "      <td>сыграть свадьбу</td>\n",
       "    </tr>\n",
       "    <tr>\n",
       "      <th>7980</th>\n",
       "      <td>0</td>\n",
       "      <td>16227.500000</td>\n",
       "      <td>40</td>\n",
       "      <td>среднее</td>\n",
       "      <td>1</td>\n",
       "      <td>в разводе</td>\n",
       "      <td>3</td>\n",
       "      <td>M</td>\n",
       "      <td>пенсионер</td>\n",
       "      <td>0</td>\n",
       "      <td>144546</td>\n",
       "      <td>покупка жилья для сдачи</td>\n",
       "    </tr>\n",
       "    <tr>\n",
       "      <th>8061</th>\n",
       "      <td>0</td>\n",
       "      <td>15287.666667</td>\n",
       "      <td>39</td>\n",
       "      <td>высшее</td>\n",
       "      <td>0</td>\n",
       "      <td>гражданский брак</td>\n",
       "      <td>1</td>\n",
       "      <td>F</td>\n",
       "      <td>пенсионер</td>\n",
       "      <td>0</td>\n",
       "      <td>85531</td>\n",
       "      <td>на проведение свадьбы</td>\n",
       "    </tr>\n",
       "    <tr>\n",
       "      <th>8618</th>\n",
       "      <td>2</td>\n",
       "      <td>15805.208333</td>\n",
       "      <td>39</td>\n",
       "      <td>Среднее</td>\n",
       "      <td>1</td>\n",
       "      <td>женат / замужем</td>\n",
       "      <td>0</td>\n",
       "      <td>M</td>\n",
       "      <td>пенсионер</td>\n",
       "      <td>0</td>\n",
       "      <td>117098</td>\n",
       "      <td>жилье</td>\n",
       "    </tr>\n",
       "    <tr>\n",
       "      <th>9688</th>\n",
       "      <td>0</td>\n",
       "      <td>16021.333333</td>\n",
       "      <td>42</td>\n",
       "      <td>высшее</td>\n",
       "      <td>0</td>\n",
       "      <td>гражданский брак</td>\n",
       "      <td>1</td>\n",
       "      <td>M</td>\n",
       "      <td>пенсионер</td>\n",
       "      <td>0</td>\n",
       "      <td>283079</td>\n",
       "      <td>получение дополнительного образования</td>\n",
       "    </tr>\n",
       "    <tr>\n",
       "      <th>9801</th>\n",
       "      <td>0</td>\n",
       "      <td>15441.458333</td>\n",
       "      <td>40</td>\n",
       "      <td>среднее</td>\n",
       "      <td>1</td>\n",
       "      <td>гражданский брак</td>\n",
       "      <td>1</td>\n",
       "      <td>M</td>\n",
       "      <td>пенсионер</td>\n",
       "      <td>0</td>\n",
       "      <td>82667</td>\n",
       "      <td>свадьба</td>\n",
       "    </tr>\n",
       "    <tr>\n",
       "      <th>10241</th>\n",
       "      <td>0</td>\n",
       "      <td>16689.708333</td>\n",
       "      <td>42</td>\n",
       "      <td>начальное</td>\n",
       "      <td>3</td>\n",
       "      <td>гражданский брак</td>\n",
       "      <td>1</td>\n",
       "      <td>F</td>\n",
       "      <td>пенсионер</td>\n",
       "      <td>1</td>\n",
       "      <td>136297</td>\n",
       "      <td>свадьба</td>\n",
       "    </tr>\n",
       "    <tr>\n",
       "      <th>11100</th>\n",
       "      <td>3</td>\n",
       "      <td>13966.166667</td>\n",
       "      <td>38</td>\n",
       "      <td>среднее</td>\n",
       "      <td>1</td>\n",
       "      <td>женат / замужем</td>\n",
       "      <td>0</td>\n",
       "      <td>F</td>\n",
       "      <td>пенсионер</td>\n",
       "      <td>0</td>\n",
       "      <td>104207</td>\n",
       "      <td>жилье</td>\n",
       "    </tr>\n",
       "    <tr>\n",
       "      <th>12179</th>\n",
       "      <td>1</td>\n",
       "      <td>16514.875000</td>\n",
       "      <td>43</td>\n",
       "      <td>среднее</td>\n",
       "      <td>1</td>\n",
       "      <td>гражданский брак</td>\n",
       "      <td>1</td>\n",
       "      <td>F</td>\n",
       "      <td>пенсионер</td>\n",
       "      <td>1</td>\n",
       "      <td>133040</td>\n",
       "      <td>получение образования</td>\n",
       "    </tr>\n",
       "    <tr>\n",
       "      <th>12347</th>\n",
       "      <td>0</td>\n",
       "      <td>16334.583333</td>\n",
       "      <td>42</td>\n",
       "      <td>среднее</td>\n",
       "      <td>1</td>\n",
       "      <td>гражданский брак</td>\n",
       "      <td>1</td>\n",
       "      <td>M</td>\n",
       "      <td>пенсионер</td>\n",
       "      <td>0</td>\n",
       "      <td>156461</td>\n",
       "      <td>свадьба</td>\n",
       "    </tr>\n",
       "    <tr>\n",
       "      <th>12360</th>\n",
       "      <td>0</td>\n",
       "      <td>14980.708333</td>\n",
       "      <td>35</td>\n",
       "      <td>среднее</td>\n",
       "      <td>1</td>\n",
       "      <td>гражданский брак</td>\n",
       "      <td>1</td>\n",
       "      <td>M</td>\n",
       "      <td>пенсионер</td>\n",
       "      <td>0</td>\n",
       "      <td>113760</td>\n",
       "      <td>свадьба</td>\n",
       "    </tr>\n",
       "    <tr>\n",
       "      <th>12444</th>\n",
       "      <td>0</td>\n",
       "      <td>15812.166667</td>\n",
       "      <td>27</td>\n",
       "      <td>среднее</td>\n",
       "      <td>1</td>\n",
       "      <td>Не женат / не замужем</td>\n",
       "      <td>4</td>\n",
       "      <td>F</td>\n",
       "      <td>пенсионер</td>\n",
       "      <td>0</td>\n",
       "      <td>50969</td>\n",
       "      <td>сделка с автомобилем</td>\n",
       "    </tr>\n",
       "    <tr>\n",
       "      <th>12629</th>\n",
       "      <td>0</td>\n",
       "      <td>14710.666667</td>\n",
       "      <td>32</td>\n",
       "      <td>среднее</td>\n",
       "      <td>1</td>\n",
       "      <td>женат / замужем</td>\n",
       "      <td>0</td>\n",
       "      <td>M</td>\n",
       "      <td>пенсионер</td>\n",
       "      <td>1</td>\n",
       "      <td>165724</td>\n",
       "      <td>автомобиль</td>\n",
       "    </tr>\n",
       "    <tr>\n",
       "      <th>12670</th>\n",
       "      <td>0</td>\n",
       "      <td>16272.333333</td>\n",
       "      <td>44</td>\n",
       "      <td>среднее</td>\n",
       "      <td>1</td>\n",
       "      <td>женат / замужем</td>\n",
       "      <td>0</td>\n",
       "      <td>F</td>\n",
       "      <td>пенсионер</td>\n",
       "      <td>0</td>\n",
       "      <td>41209</td>\n",
       "      <td>покупка своего жилья</td>\n",
       "    </tr>\n",
       "    <tr>\n",
       "      <th>12671</th>\n",
       "      <td>0</td>\n",
       "      <td>14008.875000</td>\n",
       "      <td>32</td>\n",
       "      <td>Среднее</td>\n",
       "      <td>1</td>\n",
       "      <td>гражданский брак</td>\n",
       "      <td>1</td>\n",
       "      <td>M</td>\n",
       "      <td>пенсионер</td>\n",
       "      <td>0</td>\n",
       "      <td>127022</td>\n",
       "      <td>операции с коммерческой недвижимостью</td>\n",
       "    </tr>\n",
       "    <tr>\n",
       "      <th>12689</th>\n",
       "      <td>1</td>\n",
       "      <td>13740.875000</td>\n",
       "      <td>27</td>\n",
       "      <td>среднее</td>\n",
       "      <td>1</td>\n",
       "      <td>женат / замужем</td>\n",
       "      <td>0</td>\n",
       "      <td>F</td>\n",
       "      <td>пенсионер</td>\n",
       "      <td>0</td>\n",
       "      <td>65198</td>\n",
       "      <td>получение образования</td>\n",
       "    </tr>\n",
       "    <tr>\n",
       "      <th>12815</th>\n",
       "      <td>2</td>\n",
       "      <td>15387.583333</td>\n",
       "      <td>36</td>\n",
       "      <td>высшее</td>\n",
       "      <td>0</td>\n",
       "      <td>женат / замужем</td>\n",
       "      <td>0</td>\n",
       "      <td>F</td>\n",
       "      <td>пенсионер</td>\n",
       "      <td>0</td>\n",
       "      <td>143707</td>\n",
       "      <td>заняться высшим образованием</td>\n",
       "    </tr>\n",
       "    <tr>\n",
       "      <th>12942</th>\n",
       "      <td>0</td>\n",
       "      <td>15404.500000</td>\n",
       "      <td>37</td>\n",
       "      <td>среднее</td>\n",
       "      <td>1</td>\n",
       "      <td>гражданский брак</td>\n",
       "      <td>1</td>\n",
       "      <td>M</td>\n",
       "      <td>пенсионер</td>\n",
       "      <td>0</td>\n",
       "      <td>21205</td>\n",
       "      <td>заняться высшим образованием</td>\n",
       "    </tr>\n",
       "    <tr>\n",
       "      <th>13520</th>\n",
       "      <td>0</td>\n",
       "      <td>14619.083333</td>\n",
       "      <td>38</td>\n",
       "      <td>среднее</td>\n",
       "      <td>1</td>\n",
       "      <td>Не женат / не замужем</td>\n",
       "      <td>4</td>\n",
       "      <td>F</td>\n",
       "      <td>пенсионер</td>\n",
       "      <td>0</td>\n",
       "      <td>60457</td>\n",
       "      <td>жилье</td>\n",
       "    </tr>\n",
       "    <tr>\n",
       "      <th>13881</th>\n",
       "      <td>0</td>\n",
       "      <td>15701.000000</td>\n",
       "      <td>27</td>\n",
       "      <td>среднее</td>\n",
       "      <td>1</td>\n",
       "      <td>в разводе</td>\n",
       "      <td>3</td>\n",
       "      <td>M</td>\n",
       "      <td>пенсионер</td>\n",
       "      <td>0</td>\n",
       "      <td>97961</td>\n",
       "      <td>операции с жильем</td>\n",
       "    </tr>\n",
       "    <tr>\n",
       "      <th>13962</th>\n",
       "      <td>1</td>\n",
       "      <td>14886.000000</td>\n",
       "      <td>40</td>\n",
       "      <td>среднее</td>\n",
       "      <td>1</td>\n",
       "      <td>женат / замужем</td>\n",
       "      <td>0</td>\n",
       "      <td>F</td>\n",
       "      <td>пенсионер</td>\n",
       "      <td>0</td>\n",
       "      <td>82854</td>\n",
       "      <td>заняться высшим образованием</td>\n",
       "    </tr>\n",
       "    <tr>\n",
       "      <th>14618</th>\n",
       "      <td>1</td>\n",
       "      <td>14524.791667</td>\n",
       "      <td>38</td>\n",
       "      <td>среднее</td>\n",
       "      <td>1</td>\n",
       "      <td>гражданский брак</td>\n",
       "      <td>1</td>\n",
       "      <td>F</td>\n",
       "      <td>пенсионер</td>\n",
       "      <td>1</td>\n",
       "      <td>115598</td>\n",
       "      <td>свадьба</td>\n",
       "    </tr>\n",
       "    <tr>\n",
       "      <th>14721</th>\n",
       "      <td>0</td>\n",
       "      <td>16470.916667</td>\n",
       "      <td>45</td>\n",
       "      <td>Высшее</td>\n",
       "      <td>0</td>\n",
       "      <td>гражданский брак</td>\n",
       "      <td>1</td>\n",
       "      <td>F</td>\n",
       "      <td>безработный</td>\n",
       "      <td>0</td>\n",
       "      <td>202722</td>\n",
       "      <td>ремонт жилью</td>\n",
       "    </tr>\n",
       "    <tr>\n",
       "      <th>15379</th>\n",
       "      <td>0</td>\n",
       "      <td>14815.416667</td>\n",
       "      <td>37</td>\n",
       "      <td>среднее</td>\n",
       "      <td>1</td>\n",
       "      <td>гражданский брак</td>\n",
       "      <td>1</td>\n",
       "      <td>M</td>\n",
       "      <td>пенсионер</td>\n",
       "      <td>0</td>\n",
       "      <td>246814</td>\n",
       "      <td>на проведение свадьбы</td>\n",
       "    </tr>\n",
       "    <tr>\n",
       "      <th>16050</th>\n",
       "      <td>0</td>\n",
       "      <td>16431.791667</td>\n",
       "      <td>45</td>\n",
       "      <td>высшее</td>\n",
       "      <td>0</td>\n",
       "      <td>гражданский брак</td>\n",
       "      <td>1</td>\n",
       "      <td>F</td>\n",
       "      <td>пенсионер</td>\n",
       "      <td>0</td>\n",
       "      <td>579005</td>\n",
       "      <td>сыграть свадьбу</td>\n",
       "    </tr>\n",
       "    <tr>\n",
       "      <th>16082</th>\n",
       "      <td>0</td>\n",
       "      <td>15181.166667</td>\n",
       "      <td>26</td>\n",
       "      <td>среднее</td>\n",
       "      <td>1</td>\n",
       "      <td>гражданский брак</td>\n",
       "      <td>1</td>\n",
       "      <td>M</td>\n",
       "      <td>пенсионер</td>\n",
       "      <td>0</td>\n",
       "      <td>80044</td>\n",
       "      <td>автомобиль</td>\n",
       "    </tr>\n",
       "    <tr>\n",
       "      <th>16330</th>\n",
       "      <td>0</td>\n",
       "      <td>16569.625000</td>\n",
       "      <td>45</td>\n",
       "      <td>высшее</td>\n",
       "      <td>0</td>\n",
       "      <td>гражданский брак</td>\n",
       "      <td>1</td>\n",
       "      <td>M</td>\n",
       "      <td>пенсионер</td>\n",
       "      <td>0</td>\n",
       "      <td>151002</td>\n",
       "      <td>сыграть свадьбу</td>\n",
       "    </tr>\n",
       "    <tr>\n",
       "      <th>16735</th>\n",
       "      <td>0</td>\n",
       "      <td>16365.625000</td>\n",
       "      <td>40</td>\n",
       "      <td>среднее</td>\n",
       "      <td>1</td>\n",
       "      <td>женат / замужем</td>\n",
       "      <td>0</td>\n",
       "      <td>F</td>\n",
       "      <td>пенсионер</td>\n",
       "      <td>0</td>\n",
       "      <td>288573</td>\n",
       "      <td>покупка жилья для сдачи</td>\n",
       "    </tr>\n",
       "    <tr>\n",
       "      <th>18607</th>\n",
       "      <td>0</td>\n",
       "      <td>15356.500000</td>\n",
       "      <td>34</td>\n",
       "      <td>среднее</td>\n",
       "      <td>1</td>\n",
       "      <td>гражданский брак</td>\n",
       "      <td>1</td>\n",
       "      <td>M</td>\n",
       "      <td>пенсионер</td>\n",
       "      <td>0</td>\n",
       "      <td>73720</td>\n",
       "      <td>сыграть свадьбу</td>\n",
       "    </tr>\n",
       "    <tr>\n",
       "      <th>18772</th>\n",
       "      <td>0</td>\n",
       "      <td>15717.041667</td>\n",
       "      <td>36</td>\n",
       "      <td>начальное</td>\n",
       "      <td>3</td>\n",
       "      <td>Не женат / не замужем</td>\n",
       "      <td>4</td>\n",
       "      <td>M</td>\n",
       "      <td>пенсионер</td>\n",
       "      <td>0</td>\n",
       "      <td>88367</td>\n",
       "      <td>операции с коммерческой недвижимостью</td>\n",
       "    </tr>\n",
       "    <tr>\n",
       "      <th>19321</th>\n",
       "      <td>-1</td>\n",
       "      <td>14597.500000</td>\n",
       "      <td>28</td>\n",
       "      <td>среднее</td>\n",
       "      <td>1</td>\n",
       "      <td>в разводе</td>\n",
       "      <td>3</td>\n",
       "      <td>F</td>\n",
       "      <td>пенсионер</td>\n",
       "      <td>0</td>\n",
       "      <td>52872</td>\n",
       "      <td>автомобили</td>\n",
       "    </tr>\n",
       "    <tr>\n",
       "      <th>19343</th>\n",
       "      <td>0</td>\n",
       "      <td>16224.875000</td>\n",
       "      <td>26</td>\n",
       "      <td>высшее</td>\n",
       "      <td>0</td>\n",
       "      <td>женат / замужем</td>\n",
       "      <td>0</td>\n",
       "      <td>F</td>\n",
       "      <td>пенсионер</td>\n",
       "      <td>0</td>\n",
       "      <td>214963</td>\n",
       "      <td>покупка недвижимости</td>\n",
       "    </tr>\n",
       "    <tr>\n",
       "      <th>20174</th>\n",
       "      <td>0</td>\n",
       "      <td>15993.000000</td>\n",
       "      <td>37</td>\n",
       "      <td>высшее</td>\n",
       "      <td>0</td>\n",
       "      <td>женат / замужем</td>\n",
       "      <td>0</td>\n",
       "      <td>F</td>\n",
       "      <td>пенсионер</td>\n",
       "      <td>0</td>\n",
       "      <td>188236</td>\n",
       "      <td>на покупку автомобиля</td>\n",
       "    </tr>\n",
       "    <tr>\n",
       "      <th>20462</th>\n",
       "      <td>0</td>\n",
       "      <td>13891.416667</td>\n",
       "      <td>33</td>\n",
       "      <td>Среднее</td>\n",
       "      <td>1</td>\n",
       "      <td>женат / замужем</td>\n",
       "      <td>0</td>\n",
       "      <td>M</td>\n",
       "      <td>пенсионер</td>\n",
       "      <td>0</td>\n",
       "      <td>163411</td>\n",
       "      <td>образование</td>\n",
       "    </tr>\n",
       "    <tr>\n",
       "      <th>20730</th>\n",
       "      <td>1</td>\n",
       "      <td>16591.916667</td>\n",
       "      <td>40</td>\n",
       "      <td>среднее</td>\n",
       "      <td>1</td>\n",
       "      <td>женат / замужем</td>\n",
       "      <td>0</td>\n",
       "      <td>F</td>\n",
       "      <td>пенсионер</td>\n",
       "      <td>0</td>\n",
       "      <td>39107</td>\n",
       "      <td>получение образования</td>\n",
       "    </tr>\n",
       "  </tbody>\n",
       "</table>\n",
       "</div>"
      ],
      "text/plain": [
       "       children  days_employed  dob_years  education  education_id  \\\n",
       "155           0   14517.250000         38    среднее             1   \n",
       "747           0   16281.458333         41    среднее             1   \n",
       "772           0   15222.333333         38    среднее             1   \n",
       "1235          0   13948.500000         22    Среднее             1   \n",
       "1376          0   14741.750000         37    среднее             1   \n",
       "1438          0   14122.458333         37    СРЕДНЕЕ             1   \n",
       "1629          0   16635.833333         39    среднее             1   \n",
       "1744          1   16249.125000         38     ВЫСШЕЕ             0   \n",
       "2976          0   15114.208333         39    среднее             1   \n",
       "3116          1   14063.500000         31    среднее             1   \n",
       "3486          2   16456.208333         38    среднее             1   \n",
       "3944          0   16331.708333         34    среднее             1   \n",
       "4728          0   15554.041667         41    среднее             1   \n",
       "4889          0   16127.500000         38     высшее             0   \n",
       "5693          0   16579.375000         33    среднее             1   \n",
       "5818          2   16564.500000         34    среднее             1   \n",
       "6329          0   16041.458333         43    среднее             1   \n",
       "6525          1   14766.541667         36    среднее             1   \n",
       "6913          1   16526.916667         41    среднее             1   \n",
       "7194          1   13701.125000         32    среднее             1   \n",
       "7980          0   16227.500000         40    среднее             1   \n",
       "8061          0   15287.666667         39     высшее             0   \n",
       "8618          2   15805.208333         39    Среднее             1   \n",
       "9688          0   16021.333333         42     высшее             0   \n",
       "9801          0   15441.458333         40    среднее             1   \n",
       "10241         0   16689.708333         42  начальное             3   \n",
       "11100         3   13966.166667         38    среднее             1   \n",
       "12179         1   16514.875000         43    среднее             1   \n",
       "12347         0   16334.583333         42    среднее             1   \n",
       "12360         0   14980.708333         35    среднее             1   \n",
       "12444         0   15812.166667         27    среднее             1   \n",
       "12629         0   14710.666667         32    среднее             1   \n",
       "12670         0   16272.333333         44    среднее             1   \n",
       "12671         0   14008.875000         32    Среднее             1   \n",
       "12689         1   13740.875000         27    среднее             1   \n",
       "12815         2   15387.583333         36     высшее             0   \n",
       "12942         0   15404.500000         37    среднее             1   \n",
       "13520         0   14619.083333         38    среднее             1   \n",
       "13881         0   15701.000000         27    среднее             1   \n",
       "13962         1   14886.000000         40    среднее             1   \n",
       "14618         1   14524.791667         38    среднее             1   \n",
       "14721         0   16470.916667         45     Высшее             0   \n",
       "15379         0   14815.416667         37    среднее             1   \n",
       "16050         0   16431.791667         45     высшее             0   \n",
       "16082         0   15181.166667         26    среднее             1   \n",
       "16330         0   16569.625000         45     высшее             0   \n",
       "16735         0   16365.625000         40    среднее             1   \n",
       "18607         0   15356.500000         34    среднее             1   \n",
       "18772         0   15717.041667         36  начальное             3   \n",
       "19321        -1   14597.500000         28    среднее             1   \n",
       "19343         0   16224.875000         26     высшее             0   \n",
       "20174         0   15993.000000         37     высшее             0   \n",
       "20462         0   13891.416667         33    Среднее             1   \n",
       "20730         1   16591.916667         40    среднее             1   \n",
       "\n",
       "               family_status  family_status_id gender  income_type  debt  \\\n",
       "155          женат / замужем                 0      F    пенсионер     1   \n",
       "747          женат / замужем                 0      M    пенсионер     0   \n",
       "772          женат / замужем                 0      F    пенсионер     0   \n",
       "1235   Не женат / не замужем                 4      F    пенсионер     0   \n",
       "1376          вдовец / вдова                 2      F    пенсионер     0   \n",
       "1438        гражданский брак                 1      M    пенсионер     0   \n",
       "1629         женат / замужем                 0      M    пенсионер     0   \n",
       "1744   Не женат / не замужем                 4      F    пенсионер     0   \n",
       "2976               в разводе                 3      F    пенсионер     0   \n",
       "3116         женат / замужем                 0      M  безработный     1   \n",
       "3486         женат / замужем                 0      F    пенсионер     1   \n",
       "3944   Не женат / не замужем                 4      M    пенсионер     0   \n",
       "4728        гражданский брак                 1      F    пенсионер     0   \n",
       "4889   Не женат / не замужем                 4      F    пенсионер     0   \n",
       "5693        гражданский брак                 1      M    пенсионер     0   \n",
       "5818         женат / замужем                 0      F    пенсионер     0   \n",
       "6329   Не женат / не замужем                 4      M    пенсионер     1   \n",
       "6525               в разводе                 3      F    пенсионер     0   \n",
       "6913         женат / замужем                 0      M    пенсионер     0   \n",
       "7194        гражданский брак                 1      F    пенсионер     0   \n",
       "7980               в разводе                 3      M    пенсионер     0   \n",
       "8061        гражданский брак                 1      F    пенсионер     0   \n",
       "8618         женат / замужем                 0      M    пенсионер     0   \n",
       "9688        гражданский брак                 1      M    пенсионер     0   \n",
       "9801        гражданский брак                 1      M    пенсионер     0   \n",
       "10241       гражданский брак                 1      F    пенсионер     1   \n",
       "11100        женат / замужем                 0      F    пенсионер     0   \n",
       "12179       гражданский брак                 1      F    пенсионер     1   \n",
       "12347       гражданский брак                 1      M    пенсионер     0   \n",
       "12360       гражданский брак                 1      M    пенсионер     0   \n",
       "12444  Не женат / не замужем                 4      F    пенсионер     0   \n",
       "12629        женат / замужем                 0      M    пенсионер     1   \n",
       "12670        женат / замужем                 0      F    пенсионер     0   \n",
       "12671       гражданский брак                 1      M    пенсионер     0   \n",
       "12689        женат / замужем                 0      F    пенсионер     0   \n",
       "12815        женат / замужем                 0      F    пенсионер     0   \n",
       "12942       гражданский брак                 1      M    пенсионер     0   \n",
       "13520  Не женат / не замужем                 4      F    пенсионер     0   \n",
       "13881              в разводе                 3      M    пенсионер     0   \n",
       "13962        женат / замужем                 0      F    пенсионер     0   \n",
       "14618       гражданский брак                 1      F    пенсионер     1   \n",
       "14721       гражданский брак                 1      F  безработный     0   \n",
       "15379       гражданский брак                 1      M    пенсионер     0   \n",
       "16050       гражданский брак                 1      F    пенсионер     0   \n",
       "16082       гражданский брак                 1      M    пенсионер     0   \n",
       "16330       гражданский брак                 1      M    пенсионер     0   \n",
       "16735        женат / замужем                 0      F    пенсионер     0   \n",
       "18607       гражданский брак                 1      M    пенсионер     0   \n",
       "18772  Не женат / не замужем                 4      M    пенсионер     0   \n",
       "19321              в разводе                 3      F    пенсионер     0   \n",
       "19343        женат / замужем                 0      F    пенсионер     0   \n",
       "20174        женат / замужем                 0      F    пенсионер     0   \n",
       "20462        женат / замужем                 0      M    пенсионер     0   \n",
       "20730        женат / замужем                 0      F    пенсионер     0   \n",
       "\n",
       "       total_income                                purpose  \n",
       "155          113560                   сделка с автомобилем  \n",
       "747          151898        операции со своей недвижимостью  \n",
       "772           73859                   покупка недвижимости  \n",
       "1235          89368          получение высшего образования  \n",
       "1376         216452             строительство недвижимости  \n",
       "1438         148657                                свадьба  \n",
       "1629         211513               операции с недвижимостью  \n",
       "1744         311574                   покупка недвижимости  \n",
       "2976          96891                   покупка недвижимости  \n",
       "3116          59956                покупка жилья для сдачи  \n",
       "3486         117596  получение дополнительного образования  \n",
       "3944          79906                     высшее образование  \n",
       "4728         158776       строительство жилой недвижимости  \n",
       "4889         376300                  получение образования  \n",
       "5693          94270                  на проведение свадьбы  \n",
       "5818         298041  операции с коммерческой недвижимостью  \n",
       "6329          95013           заняться высшим образованием  \n",
       "6525         115340  операции с коммерческой недвижимостью  \n",
       "6913         158482                           недвижимость  \n",
       "7194         122162                        сыграть свадьбу  \n",
       "7980         144546                покупка жилья для сдачи  \n",
       "8061          85531                  на проведение свадьбы  \n",
       "8618         117098                                  жилье  \n",
       "9688         283079  получение дополнительного образования  \n",
       "9801          82667                                свадьба  \n",
       "10241        136297                                свадьба  \n",
       "11100        104207                                  жилье  \n",
       "12179        133040                  получение образования  \n",
       "12347        156461                                свадьба  \n",
       "12360        113760                                свадьба  \n",
       "12444         50969                   сделка с автомобилем  \n",
       "12629        165724                             автомобиль  \n",
       "12670         41209                   покупка своего жилья  \n",
       "12671        127022  операции с коммерческой недвижимостью  \n",
       "12689         65198                  получение образования  \n",
       "12815        143707           заняться высшим образованием  \n",
       "12942         21205           заняться высшим образованием  \n",
       "13520         60457                                  жилье  \n",
       "13881         97961                      операции с жильем  \n",
       "13962         82854           заняться высшим образованием  \n",
       "14618        115598                                свадьба  \n",
       "14721        202722                           ремонт жилью  \n",
       "15379        246814                  на проведение свадьбы  \n",
       "16050        579005                        сыграть свадьбу  \n",
       "16082         80044                             автомобиль  \n",
       "16330        151002                        сыграть свадьбу  \n",
       "16735        288573                покупка жилья для сдачи  \n",
       "18607         73720                        сыграть свадьбу  \n",
       "18772         88367  операции с коммерческой недвижимостью  \n",
       "19321         52872                             автомобили  \n",
       "19343        214963                   покупка недвижимости  \n",
       "20174        188236                  на покупку автомобиля  \n",
       "20462        163411                            образование  \n",
       "20730         39107                  получение образования  "
      ]
     },
     "execution_count": 21,
     "metadata": {},
     "output_type": "execute_result"
    }
   ],
   "source": [
    "df[df['days_employed'] >= df['dob_years']*365] # выводим данные об оставшихся"
   ]
  },
  {
   "cell_type": "markdown",
   "metadata": {},
   "source": [
    "В таблице мы видим, что в 54 строках не соответствуют друг другу сразу три столбца - `days_employed`, `dob_years` `income_type`. Стаж все еще (после уменьшения в 24 раза!) превышает возраст, а возраст существенно ниже пенсионного. Цели кредита ясности тоже не вносят. Эти строки лучше удалить (включая строки с двумя безработными)."
   ]
  },
  {
   "cell_type": "code",
   "execution_count": 22,
   "metadata": {},
   "outputs": [],
   "source": [
    "# удаляем строки, где стаж days_employed все еще больше возраста dob_years\n",
    "df.drop(df[df['days_employed'] >= df['dob_years']*365].index, inplace=True)\n",
    "df = df.reset_index(drop=True) # обновляем индексацию"
   ]
  },
  {
   "cell_type": "markdown",
   "metadata": {},
   "source": [
    "Теперь восполним нулевые (пропущенные) значения стажа `days_employed` и дохода `total_income` медианными значениями в соответствии с возрастом `dob_years` и типом занятости `income_type` соответственно."
   ]
  },
  {
   "cell_type": "code",
   "execution_count": 23,
   "metadata": {},
   "outputs": [],
   "source": [
    "for dob_years in df['dob_years'].unique():\n",
    "    median = df.loc[(df['days_employed'] != 0) & (df['dob_years'] == dob_years), 'days_employed'].median()\n",
    "    df.loc[(df['days_employed'] == 0) & (df['dob_years'] == dob_years), 'days_employed'] = median"
   ]
  },
  {
   "cell_type": "code",
   "execution_count": 24,
   "metadata": {},
   "outputs": [],
   "source": [
    "for income_type in df['income_type'].unique():\n",
    "    median = df.loc[(df['total_income'] != 0) & (df['income_type'] == income_type), 'total_income'].median()\n",
    "    df.loc[(df['total_income'] == 0) & (df['income_type'] == income_type), 'total_income'] = median"
   ]
  },
  {
   "cell_type": "markdown",
   "metadata": {},
   "source": [
    "Проверим типы данных в таблице:"
   ]
  },
  {
   "cell_type": "markdown",
   "metadata": {},
   "source": [
    "Для удобства анализа данных изменим тип данных дохода в столбце `total_income` и `days_employed` методом `astype()` - с целыми числами работать удобнее."
   ]
  },
  {
   "cell_type": "code",
   "execution_count": 25,
   "metadata": {},
   "outputs": [],
   "source": [
    "# изменим тип данных total_income и days_employed на целочисленный\n",
    "df[['days_employed','total_income']] = df[['days_employed','total_income']].astype('int') "
   ]
  },
  {
   "cell_type": "markdown",
   "metadata": {},
   "source": [
    "Заменим значения в столбце `education` на однотипные. А также проверим `education` и `education_id` на соответствие."
   ]
  },
  {
   "cell_type": "code",
   "execution_count": 26,
   "metadata": {},
   "outputs": [
    {
     "data": {
      "text/plain": [
       "среднее                15127\n",
       "высшее                  5215\n",
       "неоконченное высшее      742\n",
       "начальное                280\n",
       "ученая степень             6\n",
       "Name: education, dtype: int64"
      ]
     },
     "execution_count": 26,
     "metadata": {},
     "output_type": "execute_result"
    }
   ],
   "source": [
    "df['education'] = df['education'].str.lower() # сделаем написание значений в столбце education строчными буквами\n",
    "df['education'].value_counts() # выводим все возможные значения с столбце education"
   ]
  },
  {
   "cell_type": "code",
   "execution_count": 27,
   "metadata": {
    "scrolled": true
   },
   "outputs": [
    {
     "data": {
      "text/plain": [
       "1    15127\n",
       "0     5215\n",
       "2      742\n",
       "3      280\n",
       "4        6\n",
       "Name: education_id, dtype: int64"
      ]
     },
     "execution_count": 27,
     "metadata": {},
     "output_type": "execute_result"
    }
   ],
   "source": [
    "df['education_id'].value_counts() # выведем уникальные значения в столбце education_id"
   ]
  },
  {
   "cell_type": "markdown",
   "metadata": {},
   "source": [
    "Значения в столбцах `education` и `education_id` соответствуют соответствуют друг другу.\n",
    "\n",
    "Проверим типы написания в столбцах `family_status` и `family_status_id`, и их соответствие."
   ]
  },
  {
   "cell_type": "code",
   "execution_count": 28,
   "metadata": {},
   "outputs": [
    {
     "data": {
      "text/plain": [
       "женат / замужем          12311\n",
       "гражданский брак          4136\n",
       "Не женат / не замужем     2789\n",
       "в разводе                 1180\n",
       "вдовец / вдова             954\n",
       "Name: family_status, dtype: int64"
      ]
     },
     "execution_count": 28,
     "metadata": {},
     "output_type": "execute_result"
    }
   ],
   "source": [
    "df['family_status'].value_counts() # выведем уникальные значения в столбце family_status"
   ]
  },
  {
   "cell_type": "code",
   "execution_count": 29,
   "metadata": {},
   "outputs": [
    {
     "data": {
      "text/plain": [
       "0    12311\n",
       "1     4136\n",
       "4     2789\n",
       "3     1180\n",
       "2      954\n",
       "Name: family_status_id, dtype: int64"
      ]
     },
     "execution_count": 29,
     "metadata": {},
     "output_type": "execute_result"
    }
   ],
   "source": [
    "df['family_status_id'].value_counts() # выведем уникальные значения в столбце family_status_id"
   ]
  },
  {
   "cell_type": "markdown",
   "metadata": {},
   "source": [
    "В `family_status` и `family_status_id` все в порядке.\n",
    "\n",
    "Теперь пройдемся по столбцу `children`:"
   ]
  },
  {
   "cell_type": "code",
   "execution_count": 30,
   "metadata": {},
   "outputs": [
    {
     "data": {
      "text/plain": [
       " 0     14042\n",
       " 1      4792\n",
       " 2      2038\n",
       " 3       327\n",
       " 20       75\n",
       "-1        46\n",
       " 4        41\n",
       " 5         9\n",
       "Name: children, dtype: int64"
      ]
     },
     "execution_count": 30,
     "metadata": {},
     "output_type": "execute_result"
    }
   ],
   "source": [
    "df['children'].value_counts() # выведем уникальные значения в столбце children"
   ]
  },
  {
   "cell_type": "markdown",
   "metadata": {},
   "source": [
    "Предположим, что значения -1 это опечатка и значение соответствует 1. А значение 20 тоже опечатка и соответствует 2.\n",
    "Заменим указанные значения:"
   ]
  },
  {
   "cell_type": "code",
   "execution_count": 31,
   "metadata": {},
   "outputs": [],
   "source": [
    "df.loc[df['children'] == 20, 'children'] = 2 # заменим значения 20 на 2\n",
    "df.loc[df['children'] == -1, 'children'] = 1 # заменим значения -1 на 1"
   ]
  },
  {
   "cell_type": "markdown",
   "metadata": {},
   "source": [
    "Теперь проверим столбец `income_type` на повторы:"
   ]
  },
  {
   "cell_type": "code",
   "execution_count": 32,
   "metadata": {
    "scrolled": true
   },
   "outputs": [
    {
     "data": {
      "text/plain": [
       "сотрудник          11064\n",
       "компаньон           5065\n",
       "пенсионер           3784\n",
       "госслужащий         1453\n",
       "предприниматель        2\n",
       "студент                1\n",
       "в декрете              1\n",
       "Name: income_type, dtype: int64"
      ]
     },
     "execution_count": 32,
     "metadata": {},
     "output_type": "execute_result"
    }
   ],
   "source": [
    "df['income_type'].value_counts() # выведем уникальные значения income_type"
   ]
  },
  {
   "cell_type": "markdown",
   "metadata": {},
   "source": [
    "Теперь проверим столбец `purpose` на повторы:"
   ]
  },
  {
   "cell_type": "code",
   "execution_count": 33,
   "metadata": {},
   "outputs": [
    {
     "data": {
      "text/plain": [
       "свадьба                                   786\n",
       "на проведение свадьбы                     770\n",
       "сыграть свадьбу                           765\n",
       "операции с недвижимостью                  672\n",
       "покупка коммерческой недвижимости         661\n",
       "покупка жилья для сдачи                   648\n",
       "операции с жильем                         646\n",
       "операции с коммерческой недвижимостью     645\n",
       "покупка жилья                             641\n",
       "покупка жилья для семьи                   640\n",
       "жилье                                     638\n",
       "строительство собственной недвижимости    633\n",
       "операции со своей недвижимостью           629\n",
       "недвижимость                              629\n",
       "строительство жилой недвижимости          622\n",
       "строительство недвижимости                619\n",
       "покупка своего жилья                      618\n",
       "покупка недвижимости                      617\n",
       "ремонт жилью                              609\n",
       "покупка жилой недвижимости                604\n",
       "на покупку своего автомобиля              502\n",
       "автомобиль                                489\n",
       "заняться высшим образованием              489\n",
       "сделка с подержанным автомобилем          487\n",
       "на покупку подержанного автомобиля        479\n",
       "свой автомобиль                           477\n",
       "автомобили                                475\n",
       "на покупку автомобиля                     466\n",
       "приобретение автомобиля                   460\n",
       "дополнительное образование                460\n",
       "сделка с автомобилем                      452\n",
       "высшее образование                        449\n",
       "получение дополнительного образования     443\n",
       "образование                               443\n",
       "получение образования                     438\n",
       "профильное образование                    435\n",
       "получение высшего образования             423\n",
       "заняться образованием                     411\n",
       "Name: purpose, dtype: int64"
      ]
     },
     "execution_count": 33,
     "metadata": {},
     "output_type": "execute_result"
    }
   ],
   "source": [
    "df['purpose'].value_counts() # выведем уникальные значения purpose"
   ]
  },
  {
   "cell_type": "markdown",
   "metadata": {},
   "source": [
    "**Выводы**\n",
    "\n",
    "Пропущенные данные дополнены. Написание в толбце `education` приведены к единому стилю. Найдены следующие артефакты в некторых строках:\n",
    "- Стаж превышает возраст;\n",
    "- Возраст заемщиков равен нулю;\n",
    "- Столбец `purpose` нуждается в категоризации."
   ]
  },
  {
   "cell_type": "markdown",
   "metadata": {},
   "source": [
    "### Обработка дубликатов\n",
    "<a id='pre_duplicates'></a>\n",
    "\n",
    "Будем искать явные дубликаты:"
   ]
  },
  {
   "cell_type": "code",
   "execution_count": 34,
   "metadata": {},
   "outputs": [
    {
     "data": {
      "text/plain": [
       "71"
      ]
     },
     "execution_count": 34,
     "metadata": {},
     "output_type": "execute_result"
    }
   ],
   "source": [
    "df.duplicated().sum() # узнаем количество явных повторов"
   ]
  },
  {
   "cell_type": "code",
   "execution_count": 35,
   "metadata": {},
   "outputs": [],
   "source": [
    "df = df.drop_duplicates().reset_index(drop=True) # удаляем явные дубликаты, заново индексируем строки"
   ]
  },
  {
   "cell_type": "markdown",
   "metadata": {},
   "source": [
    "**Выводы**\n",
    "\n",
    "Явные дубликаты удалены. Количество дублекатов увеличилось после устранения разночтений в столбцах. Все это говорит об ошибках при вводе данных, а также о вероятной техничекой ошибке при формировании архива. Других неявных дубликатов найти нет возможности в связи с отсутствием id заемщика (или аналогичного идентификатора)."
   ]
  },
  {
   "cell_type": "markdown",
   "metadata": {},
   "source": [
    "### Лемматизация\n",
    "<a id='pre_lemmos'></a>\n",
    "\n",
    "Для дальнейшего анализа необходимо выполнить лемматизацию значений столбца `purpose`, для дальнейшей катерогизации."
   ]
  },
  {
   "cell_type": "code",
   "execution_count": 36,
   "metadata": {
    "scrolled": true
   },
   "outputs": [
    {
     "data": {
      "text/plain": [
       "Counter({'покупка': 5861,\n",
       "         ' ': 54660,\n",
       "         'жилье': 4427,\n",
       "         'приобретение': 459,\n",
       "         'автомобиль': 4278,\n",
       "         'дополнительный': 900,\n",
       "         'образование': 3982,\n",
       "         'сыграть': 756,\n",
       "         'свадьба': 2297,\n",
       "         'операция': 2586,\n",
       "         'с': 2896,\n",
       "         'на': 2206,\n",
       "         'проведение': 761,\n",
       "         'для': 1283,\n",
       "         'семья': 637,\n",
       "         'недвижимость': 6315,\n",
       "         'коммерческий': 1302,\n",
       "         'жилой': 1223,\n",
       "         'строительство': 1871,\n",
       "         'собственный': 633,\n",
       "         'подержать': 850,\n",
       "         'свой': 2221,\n",
       "         'со': 626,\n",
       "         'заниматься': 896,\n",
       "         'сделка': 936,\n",
       "         'получение': 1302,\n",
       "         'высокий': 1360,\n",
       "         'подержанный': 112,\n",
       "         'профильный': 435,\n",
       "         'сдача': 646,\n",
       "         'ремонт': 604,\n",
       "         '\\n': 1})"
      ]
     },
     "execution_count": 36,
     "metadata": {},
     "output_type": "execute_result"
    }
   ],
   "source": [
    "Counter(m.lemmatize(' '.join(df['purpose'].tolist()))) # посчитаем леммы целей кредита purpose"
   ]
  },
  {
   "cell_type": "markdown",
   "metadata": {},
   "source": [
    "По смыслу можно выделить следующие ключевые цели:\n",
    "- покупка/строительство жилья (недвижимости);\n",
    "- покупка автомобиля;\n",
    "- оплата образования;\n",
    "- и другое."
   ]
  },
  {
   "cell_type": "code",
   "execution_count": 37,
   "metadata": {
    "scrolled": true
   },
   "outputs": [
    {
     "data": {
      "text/plain": [
       "недвижимость    10742\n",
       "автомобиль       4278\n",
       "образование      3982\n",
       "свадьба          2297\n",
       "Name: purpose_group, dtype: int64"
      ]
     },
     "execution_count": 37,
     "metadata": {},
     "output_type": "execute_result"
    }
   ],
   "source": [
    "# добавим в таблицу столбец с назначениями целей\n",
    "new_txt=[]\n",
    "text_total=''\n",
    "for text_part in df['purpose']:\n",
    "    text_total += (text_part + ' br ')\n",
    "lemmos = m.lemmatize(text_total)    \n",
    "for word in lemmos:\n",
    "    if word != 'br' and word.strip() != '':\n",
    "        if word == 'свадьба':\n",
    "            new_txt.append(word)\n",
    "        elif word == 'образование':\n",
    "            new_txt.append(word)\n",
    "        elif word == 'автомобиль':\n",
    "            new_txt.append(word)\n",
    "        elif (word == 'жилье') | (word == 'недвижимость'):\n",
    "            new_txt.append('недвижимость')\n",
    "            \n",
    "purpose_group = pd.Series(data=new_txt)\n",
    "df['purpose_group'] = purpose_group\n",
    "\n",
    "df['purpose_group'].value_counts() # выведем уникальные новых категорий purpose"
   ]
  },
  {
   "cell_type": "markdown",
   "metadata": {},
   "source": [
    "**Выводы**\n",
    "\n",
    "При внимательном рассмотрении целей займов, их можно объединить в четыре группы:\n",
    "- покупка недвижимости;\n",
    "- покупка автомобиля;\n",
    "- оплата образования;\n",
    "- организация свадьбы.\n",
    "\n",
    "Покупка недвижимости - самый востребованный вид займа. Примерно половина от всех займов."
   ]
  },
  {
   "cell_type": "markdown",
   "metadata": {},
   "source": [
    "### Категоризация данных\n",
    "<a id='pre_category'></a>"
   ]
  },
  {
   "cell_type": "markdown",
   "metadata": {},
   "source": [
    "Заемщиков с детьми разделим на три категории:\n",
    "- без детей\n",
    "- с детьми (1-2 ребенка)\n",
    "- многодетные (от 3х детей)"
   ]
  },
  {
   "cell_type": "code",
   "execution_count": 38,
   "metadata": {},
   "outputs": [
    {
     "data": {
      "text/plain": [
       "без детей      13984\n",
       "с детьми        6938\n",
       "многодетный      377\n",
       "Name: children_group, dtype: int64"
      ]
     },
     "execution_count": 38,
     "metadata": {},
     "output_type": "execute_result"
    }
   ],
   "source": [
    "def children_group(data):         # создаем функцию children_group для разделения заемщиков на три группы\n",
    "    children = data['children']   # значение для группировки по количеству детей в столбце children\n",
    "    if children >= 3:             # если не менее трех\n",
    "        return 'многодетный'      # возвращаем многодетный\n",
    "    elif children > 0:            # если 1-2 \n",
    "        return 'с детьми'         # возвращаем с детьми\n",
    "    else:                         # если ноль\n",
    "        return 'без детей'        # возвращаем без детей\n",
    "\n",
    "df['children_group'] = df.apply(children_group, axis=1) # применяем функцию children_group к таблице\n",
    "df['children_group'].value_counts() # выведем уникальные новых категорий children"
   ]
  },
  {
   "cell_type": "markdown",
   "metadata": {},
   "source": [
    "Основные заемщики - люди, не имеющие детей. Их примерно 2/3. Совсем редко кредиты берут многодетные заемщики - менее 2%.\n",
    "\n",
    "Теперь рассмотрим заемщиков по семейному положению. Для этого разделим всех заемщиков на две группы:\n",
    "- семейные\n",
    "- холостые"
   ]
  },
  {
   "cell_type": "code",
   "execution_count": 39,
   "metadata": {},
   "outputs": [
    {
     "data": {
      "text/plain": [
       "семейный    16380\n",
       "холостой     4919\n",
       "Name: family_group, dtype: int64"
      ]
     },
     "execution_count": 39,
     "metadata": {},
     "output_type": "execute_result"
    }
   ],
   "source": [
    "def family_group(data):                             # создаем функцию family_group для разделения заемщиков на две группы\n",
    "    family_status = data['family_status']           # значение для группировки из столбца family_status\n",
    "    if ('женат / замужем' in family_status or       # если статус женат/замужем или\n",
    "        'гражданский брак' in family_status):       # гражданский брак\n",
    "        return 'семейный'                           # возвращаем семейный\n",
    "    else:                                           # если другое\n",
    "        return 'холостой'                           # возвращаем холостой\n",
    "\n",
    "df['family_group'] = df.apply(family_group, axis=1) # применяем функцию family_group к таблице\n",
    "\n",
    "df['family_group'].value_counts() # выведем уникальные новых категорий family_status"
   ]
  },
  {
   "cell_type": "markdown",
   "metadata": {},
   "source": [
    "В целом среди всех заемщиков семейных больше холостых более чем в три раза.\n",
    "\n",
    "Далее будем рассматривать заемщиков по уровню дохода. Сначала определим минимальное и максимальное значения и сравним их со средним значением."
   ]
  },
  {
   "cell_type": "code",
   "execution_count": 40,
   "metadata": {},
   "outputs": [
    {
     "name": "stdout",
     "output_type": "stream",
     "text": [
      "Минимальный ежемесячный доход: 20667 рублей\n",
      "Максимальный ежемесячный доход: 2265604 рублей\n",
      "Средний ежемесячный доход 142594.0 рублей\n"
     ]
    }
   ],
   "source": [
    "print('Минимальный ежемесячный доход:', df['total_income'].min(), 'рублей')  # минимальный доход\n",
    "print('Максимальный ежемесячный доход:', df['total_income'].max(), 'рублей') # максимальный доход\n",
    "print('Средний ежемесячный доход', df['total_income'].median(), 'рублей') # средний доход (медианное значение)"
   ]
  },
  {
   "cell_type": "markdown",
   "metadata": {},
   "source": [
    "Судить о корректности данных по доходам сложно, поскольку не ясно, как эти доходы указывались - со слов заемщиков или подтверждались документально.\n",
    "\n",
    "Разделим заемщиков по доходу на следущие группы:\n",
    "- ниже среднего \n",
    "- выше среднего "
   ]
  },
  {
   "cell_type": "code",
   "execution_count": 41,
   "metadata": {},
   "outputs": [
    {
     "data": {
      "text/plain": [
       "ниже среднего    11535\n",
       "выше среднего     9764\n",
       "Name: total_income_group, dtype: int64"
      ]
     },
     "execution_count": 41,
     "metadata": {},
     "output_type": "execute_result"
    }
   ],
   "source": [
    "def total_income_group(data):                   # создаем функцию total_income_group для разделения заемщиков на четыре группы\n",
    "    total_income = data['total_income']         # значение для группировки по доходу в столбце total_income\n",
    "    if total_income < 150000:                   # если доход до 150 000\n",
    "        return 'ниже среднего'                  # возвращаем ниже среднего\n",
    "    else:                                       # если выше 150 000\n",
    "        return 'выше среднего'                  # возвращаем выше среднего\n",
    "    \n",
    "\n",
    "df['total_income_group'] = df.apply(total_income_group, axis=1) # применяем функцию total_income_group к таблице\n",
    "df['total_income_group'].value_counts() # выведем уникальные новых категорий total_income"
   ]
  },
  {
   "cell_type": "markdown",
   "metadata": {},
   "source": [
    "Разделили заемщиков на две группы отномительно среднего дохода. Их количество сопоставимо."
   ]
  },
  {
   "cell_type": "markdown",
   "metadata": {},
   "source": [
    "**Вывод**"
   ]
  },
  {
   "cell_type": "markdown",
   "metadata": {},
   "source": [
    "Категории выделены. Теперь можно переходить к проверке гипотез."
   ]
  },
  {
   "cell_type": "markdown",
   "metadata": {},
   "source": [
    "## Проверка гипотез\n",
    "<a id='hypotis'></a>"
   ]
  },
  {
   "cell_type": "markdown",
   "metadata": {},
   "source": [
    "### Есть ли зависимость между наличием детей и возвратом кредита в срок?\n",
    "<a id='hyp1'></a>"
   ]
  },
  {
   "cell_type": "code",
   "execution_count": 42,
   "metadata": {},
   "outputs": [
    {
     "data": {
      "text/html": [
       "<div>\n",
       "<style scoped>\n",
       "    .dataframe tbody tr th:only-of-type {\n",
       "        vertical-align: middle;\n",
       "    }\n",
       "\n",
       "    .dataframe tbody tr th {\n",
       "        vertical-align: top;\n",
       "    }\n",
       "\n",
       "    .dataframe thead tr th {\n",
       "        text-align: left;\n",
       "    }\n",
       "</style>\n",
       "<table border=\"1\" class=\"dataframe\">\n",
       "  <thead>\n",
       "    <tr>\n",
       "      <th></th>\n",
       "      <th>children</th>\n",
       "      <th colspan=\"3\" halign=\"left\">debt</th>\n",
       "    </tr>\n",
       "    <tr>\n",
       "      <th></th>\n",
       "      <th></th>\n",
       "      <th>&lt;lambda_0&gt;</th>\n",
       "      <th>count</th>\n",
       "      <th>sum</th>\n",
       "    </tr>\n",
       "  </thead>\n",
       "  <tbody>\n",
       "    <tr>\n",
       "      <th>0</th>\n",
       "      <td>0</td>\n",
       "      <td>7.5%</td>\n",
       "      <td>13984</td>\n",
       "      <td>1054</td>\n",
       "    </tr>\n",
       "    <tr>\n",
       "      <th>1</th>\n",
       "      <td>1</td>\n",
       "      <td>9.1%</td>\n",
       "      <td>4828</td>\n",
       "      <td>439</td>\n",
       "    </tr>\n",
       "    <tr>\n",
       "      <th>2</th>\n",
       "      <td>2</td>\n",
       "      <td>9.5%</td>\n",
       "      <td>2110</td>\n",
       "      <td>201</td>\n",
       "    </tr>\n",
       "    <tr>\n",
       "      <th>3</th>\n",
       "      <td>3</td>\n",
       "      <td>8.3%</td>\n",
       "      <td>327</td>\n",
       "      <td>27</td>\n",
       "    </tr>\n",
       "    <tr>\n",
       "      <th>4</th>\n",
       "      <td>4</td>\n",
       "      <td>9.8%</td>\n",
       "      <td>41</td>\n",
       "      <td>4</td>\n",
       "    </tr>\n",
       "    <tr>\n",
       "      <th>5</th>\n",
       "      <td>5</td>\n",
       "      <td>0.0%</td>\n",
       "      <td>9</td>\n",
       "      <td>0</td>\n",
       "    </tr>\n",
       "  </tbody>\n",
       "</table>\n",
       "</div>"
      ],
      "text/plain": [
       "  children       debt             \n",
       "           <lambda_0>  count   sum\n",
       "0        0       7.5%  13984  1054\n",
       "1        1       9.1%   4828   439\n",
       "2        2       9.5%   2110   201\n",
       "3        3       8.3%    327    27\n",
       "4        4       9.8%     41     4\n",
       "5        5       0.0%      9     0"
      ]
     },
     "execution_count": 42,
     "metadata": {},
     "output_type": "execute_result"
    }
   ],
   "source": [
    "format_per='{:.1%}' # задаем формат вывода значений в процентах\n",
    "# процент невозврата кредита в зависимости от количества детей\n",
    "df.groupby('children').agg({'debt': [lambda x: format_per.format(x.mean()), 'count', 'sum']}).reset_index()"
   ]
  },
  {
   "cell_type": "code",
   "execution_count": 43,
   "metadata": {},
   "outputs": [
    {
     "data": {
      "text/html": [
       "<div>\n",
       "<style scoped>\n",
       "    .dataframe tbody tr th:only-of-type {\n",
       "        vertical-align: middle;\n",
       "    }\n",
       "\n",
       "    .dataframe tbody tr th {\n",
       "        vertical-align: top;\n",
       "    }\n",
       "\n",
       "    .dataframe thead tr th {\n",
       "        text-align: left;\n",
       "    }\n",
       "</style>\n",
       "<table border=\"1\" class=\"dataframe\">\n",
       "  <thead>\n",
       "    <tr>\n",
       "      <th></th>\n",
       "      <th>children_group</th>\n",
       "      <th colspan=\"3\" halign=\"left\">debt</th>\n",
       "    </tr>\n",
       "    <tr>\n",
       "      <th></th>\n",
       "      <th></th>\n",
       "      <th>&lt;lambda_0&gt;</th>\n",
       "      <th>count</th>\n",
       "      <th>sum</th>\n",
       "    </tr>\n",
       "  </thead>\n",
       "  <tbody>\n",
       "    <tr>\n",
       "      <th>0</th>\n",
       "      <td>без детей</td>\n",
       "      <td>7.5%</td>\n",
       "      <td>13984</td>\n",
       "      <td>1054</td>\n",
       "    </tr>\n",
       "    <tr>\n",
       "      <th>1</th>\n",
       "      <td>многодетный</td>\n",
       "      <td>8.2%</td>\n",
       "      <td>377</td>\n",
       "      <td>31</td>\n",
       "    </tr>\n",
       "    <tr>\n",
       "      <th>2</th>\n",
       "      <td>с детьми</td>\n",
       "      <td>9.2%</td>\n",
       "      <td>6938</td>\n",
       "      <td>640</td>\n",
       "    </tr>\n",
       "  </tbody>\n",
       "</table>\n",
       "</div>"
      ],
      "text/plain": [
       "  children_group       debt             \n",
       "                 <lambda_0>  count   sum\n",
       "0      без детей       7.5%  13984  1054\n",
       "1    многодетный       8.2%    377    31\n",
       "2       с детьми       9.2%   6938   640"
      ]
     },
     "execution_count": 43,
     "metadata": {},
     "output_type": "execute_result"
    }
   ],
   "source": [
    "# процент возврата кредита разными категориями заемщиков по наличию детей\n",
    "df.groupby('children_group').agg({'debt': [lambda x: format_per.format(x.mean()), 'count', 'sum']}).reset_index()"
   ]
  },
  {
   "cell_type": "markdown",
   "metadata": {},
   "source": [
    "**Выводы**\n",
    "\n",
    "1. Заемщики, не имеющие детей, реже имеют задолженность по кредитам. Среди заемщиков их существенно больше.\n",
    "2. Многодетные заемщики чаще выплачивают кредит, чем заемщики с одним или двумя детьми. Однако, их очень немного в выборке."
   ]
  },
  {
   "cell_type": "markdown",
   "metadata": {},
   "source": [
    "### Есть ли зависимость между семейным положением и возвратом кредита в срок?\n",
    "<a id='hyp2'></a>"
   ]
  },
  {
   "cell_type": "code",
   "execution_count": 44,
   "metadata": {},
   "outputs": [
    {
     "data": {
      "text/html": [
       "<div>\n",
       "<style scoped>\n",
       "    .dataframe tbody tr th:only-of-type {\n",
       "        vertical-align: middle;\n",
       "    }\n",
       "\n",
       "    .dataframe tbody tr th {\n",
       "        vertical-align: top;\n",
       "    }\n",
       "\n",
       "    .dataframe thead tr th {\n",
       "        text-align: left;\n",
       "    }\n",
       "</style>\n",
       "<table border=\"1\" class=\"dataframe\">\n",
       "  <thead>\n",
       "    <tr>\n",
       "      <th></th>\n",
       "      <th>family_status</th>\n",
       "      <th colspan=\"3\" halign=\"left\">debt</th>\n",
       "    </tr>\n",
       "    <tr>\n",
       "      <th></th>\n",
       "      <th></th>\n",
       "      <th>&lt;lambda_0&gt;</th>\n",
       "      <th>count</th>\n",
       "      <th>sum</th>\n",
       "    </tr>\n",
       "  </thead>\n",
       "  <tbody>\n",
       "    <tr>\n",
       "      <th>0</th>\n",
       "      <td>Не женат / не замужем</td>\n",
       "      <td>9.8%</td>\n",
       "      <td>2786</td>\n",
       "      <td>272</td>\n",
       "    </tr>\n",
       "    <tr>\n",
       "      <th>1</th>\n",
       "      <td>в разводе</td>\n",
       "      <td>7.2%</td>\n",
       "      <td>1180</td>\n",
       "      <td>85</td>\n",
       "    </tr>\n",
       "    <tr>\n",
       "      <th>2</th>\n",
       "      <td>вдовец / вдова</td>\n",
       "      <td>6.5%</td>\n",
       "      <td>953</td>\n",
       "      <td>62</td>\n",
       "    </tr>\n",
       "    <tr>\n",
       "      <th>3</th>\n",
       "      <td>гражданский брак</td>\n",
       "      <td>9.3%</td>\n",
       "      <td>4110</td>\n",
       "      <td>383</td>\n",
       "    </tr>\n",
       "    <tr>\n",
       "      <th>4</th>\n",
       "      <td>женат / замужем</td>\n",
       "      <td>7.5%</td>\n",
       "      <td>12270</td>\n",
       "      <td>923</td>\n",
       "    </tr>\n",
       "  </tbody>\n",
       "</table>\n",
       "</div>"
      ],
      "text/plain": [
       "           family_status       debt            \n",
       "                         <lambda_0>  count  sum\n",
       "0  Не женат / не замужем       9.8%   2786  272\n",
       "1              в разводе       7.2%   1180   85\n",
       "2         вдовец / вдова       6.5%    953   62\n",
       "3       гражданский брак       9.3%   4110  383\n",
       "4        женат / замужем       7.5%  12270  923"
      ]
     },
     "execution_count": 44,
     "metadata": {},
     "output_type": "execute_result"
    }
   ],
   "source": [
    "# среднее значение возвратов кредита с разным семейным статусом\n",
    "df.groupby('family_status').agg({'debt': [lambda x: format_per.format(x.mean()), 'count', 'sum']}).reset_index()"
   ]
  },
  {
   "cell_type": "code",
   "execution_count": 45,
   "metadata": {},
   "outputs": [
    {
     "data": {
      "text/html": [
       "<div>\n",
       "<style scoped>\n",
       "    .dataframe tbody tr th:only-of-type {\n",
       "        vertical-align: middle;\n",
       "    }\n",
       "\n",
       "    .dataframe tbody tr th {\n",
       "        vertical-align: top;\n",
       "    }\n",
       "\n",
       "    .dataframe thead tr th {\n",
       "        text-align: left;\n",
       "    }\n",
       "</style>\n",
       "<table border=\"1\" class=\"dataframe\">\n",
       "  <thead>\n",
       "    <tr>\n",
       "      <th></th>\n",
       "      <th>family_group</th>\n",
       "      <th colspan=\"3\" halign=\"left\">debt</th>\n",
       "    </tr>\n",
       "    <tr>\n",
       "      <th></th>\n",
       "      <th></th>\n",
       "      <th>&lt;lambda_0&gt;</th>\n",
       "      <th>count</th>\n",
       "      <th>sum</th>\n",
       "    </tr>\n",
       "  </thead>\n",
       "  <tbody>\n",
       "    <tr>\n",
       "      <th>0</th>\n",
       "      <td>семейный</td>\n",
       "      <td>8.0%</td>\n",
       "      <td>16380</td>\n",
       "      <td>1306</td>\n",
       "    </tr>\n",
       "    <tr>\n",
       "      <th>1</th>\n",
       "      <td>холостой</td>\n",
       "      <td>8.5%</td>\n",
       "      <td>4919</td>\n",
       "      <td>419</td>\n",
       "    </tr>\n",
       "  </tbody>\n",
       "</table>\n",
       "</div>"
      ],
      "text/plain": [
       "  family_group       debt             \n",
       "               <lambda_0>  count   sum\n",
       "0     семейный       8.0%  16380  1306\n",
       "1     холостой       8.5%   4919   419"
      ]
     },
     "execution_count": 45,
     "metadata": {},
     "output_type": "execute_result"
    }
   ],
   "source": [
    "# среднее значение возвратов кредита для семейных и холостых\n",
    "df.groupby('family_group').agg({'debt': [lambda x: format_per.format(x.mean()), 'count', 'sum']}).reset_index()"
   ]
  },
  {
   "cell_type": "markdown",
   "metadata": {},
   "source": [
    "**Выводы**\n",
    "\n",
    "1. В целом семейные заемщики возвращают кредит чаще, чем холостые - примерно на 0,5%. Семейных заемщиков в разы больше холостых.\n",
    "2. При этом самые надежные заемщики - вдовы и вдовцы, а самые ненадежные - не женатые и не замужние."
   ]
  },
  {
   "cell_type": "markdown",
   "metadata": {},
   "source": [
    "### Есть ли зависимость между уровнем дохода и возвратом кредита в срок?\n",
    "<a id='hyp3'></a>"
   ]
  },
  {
   "cell_type": "code",
   "execution_count": 46,
   "metadata": {},
   "outputs": [
    {
     "data": {
      "text/html": [
       "<div>\n",
       "<style scoped>\n",
       "    .dataframe tbody tr th:only-of-type {\n",
       "        vertical-align: middle;\n",
       "    }\n",
       "\n",
       "    .dataframe tbody tr th {\n",
       "        vertical-align: top;\n",
       "    }\n",
       "\n",
       "    .dataframe thead tr th {\n",
       "        text-align: left;\n",
       "    }\n",
       "</style>\n",
       "<table border=\"1\" class=\"dataframe\">\n",
       "  <thead>\n",
       "    <tr>\n",
       "      <th></th>\n",
       "      <th>total_income_group</th>\n",
       "      <th colspan=\"3\" halign=\"left\">debt</th>\n",
       "    </tr>\n",
       "    <tr>\n",
       "      <th></th>\n",
       "      <th></th>\n",
       "      <th>&lt;lambda_0&gt;</th>\n",
       "      <th>count</th>\n",
       "      <th>sum</th>\n",
       "    </tr>\n",
       "  </thead>\n",
       "  <tbody>\n",
       "    <tr>\n",
       "      <th>0</th>\n",
       "      <td>выше среднего</td>\n",
       "      <td>7.8%</td>\n",
       "      <td>9764</td>\n",
       "      <td>758</td>\n",
       "    </tr>\n",
       "    <tr>\n",
       "      <th>1</th>\n",
       "      <td>ниже среднего</td>\n",
       "      <td>8.4%</td>\n",
       "      <td>11535</td>\n",
       "      <td>967</td>\n",
       "    </tr>\n",
       "  </tbody>\n",
       "</table>\n",
       "</div>"
      ],
      "text/plain": [
       "  total_income_group       debt            \n",
       "                     <lambda_0>  count  sum\n",
       "0      выше среднего       7.8%   9764  758\n",
       "1      ниже среднего       8.4%  11535  967"
      ]
     },
     "execution_count": 46,
     "metadata": {},
     "output_type": "execute_result"
    }
   ],
   "source": [
    "# среднее значение возвратов кредита в зависимости от уровня дохода\n",
    "df.groupby('total_income_group').agg({'debt': [lambda x: format_per.format(x.mean()), 'count', 'sum']}).reset_index()"
   ]
  },
  {
   "cell_type": "markdown",
   "metadata": {},
   "source": [
    "**Выводы**\n",
    "\n",
    "1. Заемщики, имеющие доход ниже среднего, хуже возвращают кредит в срок.\n",
    "2. Люди с доходом ниже среднего берут кредит чаще. Или, возможно, их просто больше."
   ]
  },
  {
   "cell_type": "markdown",
   "metadata": {},
   "source": [
    "### Как разные цели кредита влияют на его возврат в срок?\n",
    "<a id='hyp4'></a>"
   ]
  },
  {
   "cell_type": "code",
   "execution_count": 47,
   "metadata": {},
   "outputs": [
    {
     "data": {
      "text/html": [
       "<div>\n",
       "<style scoped>\n",
       "    .dataframe tbody tr th:only-of-type {\n",
       "        vertical-align: middle;\n",
       "    }\n",
       "\n",
       "    .dataframe tbody tr th {\n",
       "        vertical-align: top;\n",
       "    }\n",
       "\n",
       "    .dataframe thead tr th {\n",
       "        text-align: left;\n",
       "    }\n",
       "</style>\n",
       "<table border=\"1\" class=\"dataframe\">\n",
       "  <thead>\n",
       "    <tr>\n",
       "      <th></th>\n",
       "      <th>purpose_group</th>\n",
       "      <th colspan=\"3\" halign=\"left\">debt</th>\n",
       "    </tr>\n",
       "    <tr>\n",
       "      <th></th>\n",
       "      <th></th>\n",
       "      <th>&lt;lambda_0&gt;</th>\n",
       "      <th>count</th>\n",
       "      <th>sum</th>\n",
       "    </tr>\n",
       "  </thead>\n",
       "  <tbody>\n",
       "    <tr>\n",
       "      <th>0</th>\n",
       "      <td>автомобиль</td>\n",
       "      <td>9.3%</td>\n",
       "      <td>4278</td>\n",
       "      <td>398</td>\n",
       "    </tr>\n",
       "    <tr>\n",
       "      <th>1</th>\n",
       "      <td>недвижимость</td>\n",
       "      <td>7.2%</td>\n",
       "      <td>10742</td>\n",
       "      <td>778</td>\n",
       "    </tr>\n",
       "    <tr>\n",
       "      <th>2</th>\n",
       "      <td>образование</td>\n",
       "      <td>9.2%</td>\n",
       "      <td>3982</td>\n",
       "      <td>367</td>\n",
       "    </tr>\n",
       "    <tr>\n",
       "      <th>3</th>\n",
       "      <td>свадьба</td>\n",
       "      <td>7.9%</td>\n",
       "      <td>2297</td>\n",
       "      <td>182</td>\n",
       "    </tr>\n",
       "  </tbody>\n",
       "</table>\n",
       "</div>"
      ],
      "text/plain": [
       "  purpose_group       debt            \n",
       "                <lambda_0>  count  sum\n",
       "0    автомобиль       9.3%   4278  398\n",
       "1  недвижимость       7.2%  10742  778\n",
       "2   образование       9.2%   3982  367\n",
       "3       свадьба       7.9%   2297  182"
      ]
     },
     "execution_count": 47,
     "metadata": {},
     "output_type": "execute_result"
    }
   ],
   "source": [
    "# среднее значение возвратов кредита в зависимости от цели кредита\n",
    "df.groupby('purpose_group').agg({'debt': [lambda x: format_per.format(x.mean()), 'count', 'sum']}).reset_index()"
   ]
  },
  {
   "cell_type": "markdown",
   "metadata": {},
   "source": [
    "**Выводы**\n",
    "\n",
    "1. Возвраты кредитов в срок, взятые с целью покупки недвижимости, чаще других. При том, что эта цель самая популярная.\n",
    "2. Больше всего задолженностей по кредитам, взятым на покупку автомобиля и оплату образования."
   ]
  },
  {
   "cell_type": "markdown",
   "metadata": {},
   "source": [
    "## Общий вывод\n",
    "<a id='result'></a>\n",
    "\n",
    "Мы проверили четыре гипотезы:\n",
    "\n",
    "1. Наличие детей влияет на возврат кредита в срок. \n",
    "\n",
    "Первая гипотеза подвтвердилась частично - заемщики без детей имеют задолженность по кредиту реже. Но судить о том, что увеличение детей увеличивает количество задолженностей не можем, т.к. заемщиков с детьми больше 2х мало.\n",
    "\n",
    "2. Семейные заемщики чаще возвращают кредит в срок.\n",
    "\n",
    "Вторая гипотеза подтвердилась полностью. Семейные заемщики чаще холостых возвращают кредит в срок. Интересно, что овдовевшие заемщики возвращают кредит существенно лучше не женатых заемщиков.\n",
    "\n",
    "3. Возврат кредита в срок связан с уровенем ежемесячного дохода.\n",
    "\n",
    "Третья гипотеза подтвердилась полностью. Заемщики с более низким доходом возвращают кредит хуже.\n",
    "\n",
    "4. Влияют ли цели кредита на срок его возврата.\n",
    "\n",
    "Гипотеза подтвердилась - кредиты, взятые с целью покупки недвижимости, возвращаются в срок лучше других. Кредиты на приобритение автомобиля или оплату образования чаще имеют просрочку. \n",
    "\n",
    "**В целом общий процент невозврата кредита заемщиками не превышает 10%**"
   ]
  }
 ],
 "metadata": {
  "ExecuteTimeLog": [
   {
    "duration": 919,
    "start_time": "2021-12-18T10:45:01.246Z"
   },
   {
    "duration": 85,
    "start_time": "2021-12-18T10:45:29.085Z"
   },
   {
    "duration": 79,
    "start_time": "2021-12-18T10:45:40.095Z"
   },
   {
    "duration": 79,
    "start_time": "2021-12-18T10:45:45.658Z"
   },
   {
    "duration": 16,
    "start_time": "2021-12-18T11:14:41.064Z"
   },
   {
    "duration": 75,
    "start_time": "2021-12-18T11:15:51.944Z"
   },
   {
    "duration": 77,
    "start_time": "2021-12-18T11:16:20.541Z"
   },
   {
    "duration": 5,
    "start_time": "2021-12-18T12:06:16.255Z"
   },
   {
    "duration": 7,
    "start_time": "2021-12-18T12:06:35.341Z"
   },
   {
    "duration": 29,
    "start_time": "2021-12-18T12:08:31.605Z"
   },
   {
    "duration": 15,
    "start_time": "2021-12-18T12:08:51.525Z"
   },
   {
    "duration": 14,
    "start_time": "2021-12-18T12:20:03.311Z"
   },
   {
    "duration": 11,
    "start_time": "2021-12-18T12:20:22.155Z"
   },
   {
    "duration": 12,
    "start_time": "2021-12-18T12:20:36.727Z"
   },
   {
    "duration": 23,
    "start_time": "2021-12-18T12:31:54.984Z"
   },
   {
    "duration": 30,
    "start_time": "2021-12-18T12:32:16.024Z"
   },
   {
    "duration": 14,
    "start_time": "2021-12-18T12:33:24.489Z"
   },
   {
    "duration": 15,
    "start_time": "2021-12-18T12:34:01.837Z"
   },
   {
    "duration": 6,
    "start_time": "2021-12-18T12:35:34.866Z"
   },
   {
    "duration": 22,
    "start_time": "2021-12-18T12:38:04.017Z"
   },
   {
    "duration": 10,
    "start_time": "2021-12-18T12:40:10.927Z"
   },
   {
    "duration": 9,
    "start_time": "2021-12-18T12:42:45.451Z"
   },
   {
    "duration": 11,
    "start_time": "2021-12-18T12:42:53.040Z"
   },
   {
    "duration": 99,
    "start_time": "2021-12-18T12:46:25.542Z"
   },
   {
    "duration": 134,
    "start_time": "2021-12-18T12:47:46.049Z"
   },
   {
    "duration": 494,
    "start_time": "2021-12-18T12:49:04.805Z"
   },
   {
    "duration": 280,
    "start_time": "2021-12-18T12:50:05.959Z"
   },
   {
    "duration": 9,
    "start_time": "2021-12-18T12:52:17.071Z"
   },
   {
    "duration": 312,
    "start_time": "2021-12-18T21:03:49.800Z"
   },
   {
    "duration": 618,
    "start_time": "2021-12-18T21:04:13.918Z"
   },
   {
    "duration": 16,
    "start_time": "2021-12-18T21:04:14.538Z"
   },
   {
    "duration": 12,
    "start_time": "2021-12-18T21:04:14.557Z"
   },
   {
    "duration": 18,
    "start_time": "2021-12-18T21:04:14.571Z"
   },
   {
    "duration": 259,
    "start_time": "2021-12-18T21:04:14.591Z"
   },
   {
    "duration": -638,
    "start_time": "2021-12-18T21:04:15.490Z"
   },
   {
    "duration": 54,
    "start_time": "2021-12-18T21:04:26.677Z"
   },
   {
    "duration": 9,
    "start_time": "2021-12-18T21:04:26.734Z"
   },
   {
    "duration": 9,
    "start_time": "2021-12-18T21:04:26.745Z"
   },
   {
    "duration": 8,
    "start_time": "2021-12-18T21:04:26.756Z"
   },
   {
    "duration": 10,
    "start_time": "2021-12-18T21:04:26.788Z"
   },
   {
    "duration": 6,
    "start_time": "2021-12-18T21:04:26.800Z"
   },
   {
    "duration": 10,
    "start_time": "2021-12-18T21:05:00.709Z"
   },
   {
    "duration": 239,
    "start_time": "2021-12-18T21:07:23.610Z"
   },
   {
    "duration": 242,
    "start_time": "2021-12-18T21:07:33.436Z"
   },
   {
    "duration": 5,
    "start_time": "2021-12-18T21:08:21.744Z"
   },
   {
    "duration": 4,
    "start_time": "2021-12-18T21:08:38.394Z"
   },
   {
    "duration": 3,
    "start_time": "2021-12-18T21:15:31.097Z"
   },
   {
    "duration": 17,
    "start_time": "2021-12-18T21:15:46.131Z"
   },
   {
    "duration": 16,
    "start_time": "2021-12-18T21:16:17.078Z"
   },
   {
    "duration": 22,
    "start_time": "2021-12-18T21:20:14.401Z"
   },
   {
    "duration": 20,
    "start_time": "2021-12-18T21:20:53.253Z"
   },
   {
    "duration": 13,
    "start_time": "2021-12-18T21:21:11.649Z"
   },
   {
    "duration": 13,
    "start_time": "2021-12-18T21:21:30.802Z"
   },
   {
    "duration": 17,
    "start_time": "2021-12-18T21:21:36.089Z"
   },
   {
    "duration": 16,
    "start_time": "2021-12-18T21:21:46.970Z"
   },
   {
    "duration": 15,
    "start_time": "2021-12-18T21:21:51.797Z"
   },
   {
    "duration": 57,
    "start_time": "2021-12-18T21:22:01.985Z"
   },
   {
    "duration": 12,
    "start_time": "2021-12-18T21:22:02.044Z"
   },
   {
    "duration": 14,
    "start_time": "2021-12-18T21:22:02.058Z"
   },
   {
    "duration": 19,
    "start_time": "2021-12-18T21:22:02.074Z"
   },
   {
    "duration": 10,
    "start_time": "2021-12-18T21:22:02.095Z"
   },
   {
    "duration": 7,
    "start_time": "2021-12-18T21:22:02.106Z"
   },
   {
    "duration": 16,
    "start_time": "2021-12-18T21:22:05.754Z"
   },
   {
    "duration": 57,
    "start_time": "2021-12-18T21:23:16.955Z"
   },
   {
    "duration": 10,
    "start_time": "2021-12-18T21:23:17.014Z"
   },
   {
    "duration": 24,
    "start_time": "2021-12-18T21:23:17.026Z"
   },
   {
    "duration": 19,
    "start_time": "2021-12-18T21:23:17.052Z"
   },
   {
    "duration": 13,
    "start_time": "2021-12-18T21:23:17.072Z"
   },
   {
    "duration": 8,
    "start_time": "2021-12-18T21:23:17.087Z"
   },
   {
    "duration": 34,
    "start_time": "2021-12-18T21:23:17.096Z"
   },
   {
    "duration": 79,
    "start_time": "2021-12-18T21:23:47.341Z"
   },
   {
    "duration": 16,
    "start_time": "2021-12-18T21:23:47.422Z"
   },
   {
    "duration": 14,
    "start_time": "2021-12-18T21:23:47.440Z"
   },
   {
    "duration": 32,
    "start_time": "2021-12-18T21:23:47.456Z"
   },
   {
    "duration": 9,
    "start_time": "2021-12-18T21:23:47.490Z"
   },
   {
    "duration": 8,
    "start_time": "2021-12-18T21:23:47.501Z"
   },
   {
    "duration": 25,
    "start_time": "2021-12-18T21:23:47.511Z"
   },
   {
    "duration": 4,
    "start_time": "2021-12-18T21:25:53.895Z"
   },
   {
    "duration": 11,
    "start_time": "2021-12-18T21:26:04.288Z"
   },
   {
    "duration": 3,
    "start_time": "2021-12-18T21:26:06.702Z"
   },
   {
    "duration": 11,
    "start_time": "2021-12-18T21:26:18.222Z"
   },
   {
    "duration": 53,
    "start_time": "2021-12-18T21:26:45.358Z"
   },
   {
    "duration": 10,
    "start_time": "2021-12-18T21:26:45.413Z"
   },
   {
    "duration": 9,
    "start_time": "2021-12-18T21:26:45.425Z"
   },
   {
    "duration": 9,
    "start_time": "2021-12-18T21:26:45.436Z"
   },
   {
    "duration": 8,
    "start_time": "2021-12-18T21:26:45.447Z"
   },
   {
    "duration": 5,
    "start_time": "2021-12-18T21:26:45.457Z"
   },
   {
    "duration": 36,
    "start_time": "2021-12-18T21:26:45.464Z"
   },
   {
    "duration": 12,
    "start_time": "2021-12-18T21:26:45.502Z"
   },
   {
    "duration": 451,
    "start_time": "2021-12-19T10:25:14.708Z"
   },
   {
    "duration": 891,
    "start_time": "2021-12-19T10:25:29.707Z"
   },
   {
    "duration": 15,
    "start_time": "2021-12-19T10:25:30.601Z"
   },
   {
    "duration": 42,
    "start_time": "2021-12-19T10:25:30.619Z"
   },
   {
    "duration": 12,
    "start_time": "2021-12-19T10:25:30.663Z"
   },
   {
    "duration": 10,
    "start_time": "2021-12-19T10:25:30.677Z"
   },
   {
    "duration": 7,
    "start_time": "2021-12-19T10:25:30.690Z"
   },
   {
    "duration": 63,
    "start_time": "2021-12-19T10:25:30.699Z"
   },
   {
    "duration": 20,
    "start_time": "2021-12-19T10:25:30.764Z"
   },
   {
    "duration": 422,
    "start_time": "2021-12-19T10:27:08.317Z"
   },
   {
    "duration": 17,
    "start_time": "2021-12-19T10:31:05.957Z"
   },
   {
    "duration": 15,
    "start_time": "2021-12-19T10:31:17.994Z"
   },
   {
    "duration": 80,
    "start_time": "2021-12-19T10:31:41.053Z"
   },
   {
    "duration": 117,
    "start_time": "2021-12-19T10:32:02.209Z"
   },
   {
    "duration": 77,
    "start_time": "2021-12-19T10:32:16.988Z"
   },
   {
    "duration": 15,
    "start_time": "2021-12-19T10:32:25.183Z"
   },
   {
    "duration": 386,
    "start_time": "2021-12-19T10:32:34.620Z"
   },
   {
    "duration": 53,
    "start_time": "2021-12-19T10:35:13.037Z"
   },
   {
    "duration": 41,
    "start_time": "2021-12-19T10:36:05.058Z"
   },
   {
    "duration": 27,
    "start_time": "2021-12-19T10:36:52.917Z"
   },
   {
    "duration": 79,
    "start_time": "2021-12-19T10:37:43.758Z"
   },
   {
    "duration": 19,
    "start_time": "2021-12-19T10:37:43.840Z"
   },
   {
    "duration": 26,
    "start_time": "2021-12-19T10:37:43.862Z"
   },
   {
    "duration": 3,
    "start_time": "2021-12-19T10:37:43.891Z"
   },
   {
    "duration": 10,
    "start_time": "2021-12-19T10:37:43.897Z"
   },
   {
    "duration": 4,
    "start_time": "2021-12-19T10:37:43.910Z"
   },
   {
    "duration": 4,
    "start_time": "2021-12-19T10:37:43.917Z"
   },
   {
    "duration": 36,
    "start_time": "2021-12-19T10:37:43.923Z"
   },
   {
    "duration": 174,
    "start_time": "2021-12-19T10:38:38.732Z"
   },
   {
    "duration": 18,
    "start_time": "2021-12-19T10:38:46.685Z"
   },
   {
    "duration": 16,
    "start_time": "2021-12-19T10:39:03.493Z"
   },
   {
    "duration": 13,
    "start_time": "2021-12-19T10:39:58.257Z"
   },
   {
    "duration": 11,
    "start_time": "2021-12-19T10:41:15.633Z"
   },
   {
    "duration": 17,
    "start_time": "2021-12-19T10:42:47.850Z"
   },
   {
    "duration": 32,
    "start_time": "2021-12-19T10:52:06.255Z"
   },
   {
    "duration": 448,
    "start_time": "2021-12-19T10:53:51.588Z"
   },
   {
    "duration": 35,
    "start_time": "2021-12-19T10:54:07.822Z"
   },
   {
    "duration": 12,
    "start_time": "2021-12-19T10:54:37.662Z"
   },
   {
    "duration": 12,
    "start_time": "2021-12-19T10:55:08.802Z"
   },
   {
    "duration": 383,
    "start_time": "2021-12-19T10:55:23.160Z"
   },
   {
    "duration": 14,
    "start_time": "2021-12-19T10:55:33.747Z"
   },
   {
    "duration": 13,
    "start_time": "2021-12-19T11:05:00.223Z"
   },
   {
    "duration": 411,
    "start_time": "2021-12-19T11:14:07.500Z"
   },
   {
    "duration": 5,
    "start_time": "2021-12-19T11:14:37.750Z"
   },
   {
    "duration": 6,
    "start_time": "2021-12-19T11:14:40.357Z"
   },
   {
    "duration": 22,
    "start_time": "2021-12-19T11:14:59.882Z"
   },
   {
    "duration": 77,
    "start_time": "2021-12-19T11:15:28.170Z"
   },
   {
    "duration": 14,
    "start_time": "2021-12-19T11:15:28.249Z"
   },
   {
    "duration": 12,
    "start_time": "2021-12-19T11:15:28.266Z"
   },
   {
    "duration": 13,
    "start_time": "2021-12-19T11:15:28.280Z"
   },
   {
    "duration": 20,
    "start_time": "2021-12-19T11:15:28.295Z"
   },
   {
    "duration": 3,
    "start_time": "2021-12-19T11:15:28.317Z"
   },
   {
    "duration": 384,
    "start_time": "2021-12-19T11:29:12.805Z"
   },
   {
    "duration": 386,
    "start_time": "2021-12-19T11:29:29.202Z"
   },
   {
    "duration": 79,
    "start_time": "2021-12-19T11:29:41.206Z"
   },
   {
    "duration": 14,
    "start_time": "2021-12-19T11:29:41.287Z"
   },
   {
    "duration": 14,
    "start_time": "2021-12-19T11:29:41.305Z"
   },
   {
    "duration": 41,
    "start_time": "2021-12-19T11:29:41.322Z"
   },
   {
    "duration": 20,
    "start_time": "2021-12-19T11:29:41.365Z"
   },
   {
    "duration": 379,
    "start_time": "2021-12-19T11:29:41.387Z"
   },
   {
    "duration": 28,
    "start_time": "2021-12-19T11:30:44.616Z"
   },
   {
    "duration": 79,
    "start_time": "2021-12-19T11:31:00.050Z"
   },
   {
    "duration": 14,
    "start_time": "2021-12-19T11:31:00.132Z"
   },
   {
    "duration": 13,
    "start_time": "2021-12-19T11:31:00.161Z"
   },
   {
    "duration": 11,
    "start_time": "2021-12-19T11:31:00.177Z"
   },
   {
    "duration": 23,
    "start_time": "2021-12-19T11:31:00.191Z"
   },
   {
    "duration": 120,
    "start_time": "2021-12-19T11:31:00.259Z"
   },
   {
    "duration": 372,
    "start_time": "2021-12-19T11:33:41.551Z"
   },
   {
    "duration": 469,
    "start_time": "2021-12-19T11:34:51.669Z"
   },
   {
    "duration": 10155,
    "start_time": "2021-12-19T11:42:15.349Z"
   },
   {
    "duration": 38,
    "start_time": "2021-12-19T11:42:38.434Z"
   },
   {
    "duration": 378,
    "start_time": "2021-12-19T11:43:11.534Z"
   },
   {
    "duration": 15,
    "start_time": "2021-12-19T11:43:20.058Z"
   },
   {
    "duration": 10,
    "start_time": "2021-12-19T11:43:44.987Z"
   },
   {
    "duration": 13,
    "start_time": "2021-12-19T11:46:29.056Z"
   },
   {
    "duration": 7,
    "start_time": "2021-12-19T11:46:35.991Z"
   },
   {
    "duration": 12,
    "start_time": "2021-12-19T11:46:56.664Z"
   },
   {
    "duration": 1551,
    "start_time": "2021-12-19T11:47:30.180Z"
   },
   {
    "duration": 7,
    "start_time": "2021-12-19T11:50:47.987Z"
   },
   {
    "duration": 9,
    "start_time": "2021-12-19T11:50:52.144Z"
   },
   {
    "duration": 7,
    "start_time": "2021-12-19T11:51:24.340Z"
   },
   {
    "duration": 8,
    "start_time": "2021-12-19T11:51:26.801Z"
   },
   {
    "duration": 8,
    "start_time": "2021-12-19T11:51:46.540Z"
   },
   {
    "duration": 1490,
    "start_time": "2021-12-19T11:54:22.424Z"
   },
   {
    "duration": 21,
    "start_time": "2021-12-19T11:55:11.817Z"
   },
   {
    "duration": 84,
    "start_time": "2021-12-19T11:57:57.764Z"
   },
   {
    "duration": 15,
    "start_time": "2021-12-19T11:57:57.850Z"
   },
   {
    "duration": 12,
    "start_time": "2021-12-19T11:57:57.868Z"
   },
   {
    "duration": 14,
    "start_time": "2021-12-19T11:57:57.883Z"
   },
   {
    "duration": 7,
    "start_time": "2021-12-19T11:58:13.309Z"
   },
   {
    "duration": 77,
    "start_time": "2021-12-19T11:58:19.946Z"
   },
   {
    "duration": 14,
    "start_time": "2021-12-19T11:58:20.026Z"
   },
   {
    "duration": 26,
    "start_time": "2021-12-19T11:58:20.043Z"
   },
   {
    "duration": 11,
    "start_time": "2021-12-19T11:58:20.071Z"
   },
   {
    "duration": 82,
    "start_time": "2021-12-19T12:00:01.316Z"
   },
   {
    "duration": 15,
    "start_time": "2021-12-19T12:00:01.401Z"
   },
   {
    "duration": 48,
    "start_time": "2021-12-19T12:00:01.420Z"
   },
   {
    "duration": 37,
    "start_time": "2021-12-19T12:00:01.471Z"
   },
   {
    "duration": 10,
    "start_time": "2021-12-19T12:00:01.512Z"
   },
   {
    "duration": 27,
    "start_time": "2021-12-19T12:00:01.525Z"
   },
   {
    "duration": 80,
    "start_time": "2021-12-19T12:01:04.151Z"
   },
   {
    "duration": 25,
    "start_time": "2021-12-19T12:01:04.234Z"
   },
   {
    "duration": 14,
    "start_time": "2021-12-19T12:01:04.263Z"
   },
   {
    "duration": 13,
    "start_time": "2021-12-19T12:01:04.280Z"
   },
   {
    "duration": 10,
    "start_time": "2021-12-19T12:01:04.296Z"
   },
   {
    "duration": 52,
    "start_time": "2021-12-19T12:01:04.308Z"
   },
   {
    "duration": 82,
    "start_time": "2021-12-19T12:01:23.318Z"
   },
   {
    "duration": 16,
    "start_time": "2021-12-19T12:01:23.403Z"
   },
   {
    "duration": 37,
    "start_time": "2021-12-19T12:01:23.422Z"
   },
   {
    "duration": 13,
    "start_time": "2021-12-19T12:01:23.463Z"
   },
   {
    "duration": 29,
    "start_time": "2021-12-19T12:01:23.479Z"
   },
   {
    "duration": 3,
    "start_time": "2021-12-19T12:01:23.511Z"
   },
   {
    "duration": 23,
    "start_time": "2021-12-19T12:05:28.246Z"
   },
   {
    "duration": 78,
    "start_time": "2021-12-19T12:05:39.639Z"
   },
   {
    "duration": 13,
    "start_time": "2021-12-19T12:05:39.720Z"
   },
   {
    "duration": 27,
    "start_time": "2021-12-19T12:05:39.736Z"
   },
   {
    "duration": 14,
    "start_time": "2021-12-19T12:05:39.765Z"
   },
   {
    "duration": 20,
    "start_time": "2021-12-19T12:05:39.781Z"
   },
   {
    "duration": 2,
    "start_time": "2021-12-19T12:05:39.804Z"
   },
   {
    "duration": 16,
    "start_time": "2021-12-19T12:06:08.081Z"
   },
   {
    "duration": 78,
    "start_time": "2021-12-19T12:09:23.210Z"
   },
   {
    "duration": 14,
    "start_time": "2021-12-19T12:09:23.290Z"
   },
   {
    "duration": 12,
    "start_time": "2021-12-19T12:09:23.307Z"
   },
   {
    "duration": 37,
    "start_time": "2021-12-19T12:09:23.322Z"
   },
   {
    "duration": 43,
    "start_time": "2021-12-19T12:09:23.362Z"
   },
   {
    "duration": 3,
    "start_time": "2021-12-19T12:09:23.408Z"
   },
   {
    "duration": 37,
    "start_time": "2021-12-19T12:09:47.987Z"
   },
   {
    "duration": 11,
    "start_time": "2021-12-19T12:11:36.752Z"
   },
   {
    "duration": 12,
    "start_time": "2021-12-19T12:11:49.396Z"
   },
   {
    "duration": 382,
    "start_time": "2021-12-19T12:12:31.680Z"
   },
   {
    "duration": 12,
    "start_time": "2021-12-19T12:13:05.428Z"
   },
   {
    "duration": 25,
    "start_time": "2021-12-19T12:14:08.700Z"
   },
   {
    "duration": 28,
    "start_time": "2021-12-19T12:14:23.624Z"
   },
   {
    "duration": 79,
    "start_time": "2021-12-19T12:22:51.088Z"
   },
   {
    "duration": 14,
    "start_time": "2021-12-19T12:22:51.171Z"
   },
   {
    "duration": 16,
    "start_time": "2021-12-19T12:22:51.189Z"
   },
   {
    "duration": 53,
    "start_time": "2021-12-19T12:22:51.208Z"
   },
   {
    "duration": 15,
    "start_time": "2021-12-19T12:22:51.264Z"
   },
   {
    "duration": 8,
    "start_time": "2021-12-19T12:22:51.283Z"
   },
   {
    "duration": 25,
    "start_time": "2021-12-19T12:22:51.294Z"
   },
   {
    "duration": 38,
    "start_time": "2021-12-19T12:22:51.322Z"
   },
   {
    "duration": 78,
    "start_time": "2021-12-19T12:47:15.991Z"
   },
   {
    "duration": 13,
    "start_time": "2021-12-19T12:47:16.072Z"
   },
   {
    "duration": 13,
    "start_time": "2021-12-19T12:47:16.088Z"
   },
   {
    "duration": 10,
    "start_time": "2021-12-19T12:47:16.104Z"
   },
   {
    "duration": 170,
    "start_time": "2021-12-19T12:47:16.116Z"
   },
   {
    "duration": -2183,
    "start_time": "2021-12-19T12:47:18.472Z"
   },
   {
    "duration": -2188,
    "start_time": "2021-12-19T12:47:18.478Z"
   },
   {
    "duration": -2190,
    "start_time": "2021-12-19T12:47:18.481Z"
   },
   {
    "duration": 78,
    "start_time": "2021-12-19T12:48:10.429Z"
   },
   {
    "duration": 14,
    "start_time": "2021-12-19T12:48:10.510Z"
   },
   {
    "duration": 12,
    "start_time": "2021-12-19T12:48:10.527Z"
   },
   {
    "duration": 13,
    "start_time": "2021-12-19T12:48:10.560Z"
   },
   {
    "duration": 4,
    "start_time": "2021-12-19T12:48:10.575Z"
   },
   {
    "duration": 10,
    "start_time": "2021-12-19T12:48:10.582Z"
   },
   {
    "duration": 6,
    "start_time": "2021-12-19T12:48:10.594Z"
   },
   {
    "duration": 14,
    "start_time": "2021-12-19T12:48:10.603Z"
   },
   {
    "duration": 586,
    "start_time": "2021-12-19T12:48:52.555Z"
   },
   {
    "duration": 620,
    "start_time": "2021-12-19T12:50:42.623Z"
   },
   {
    "duration": 44,
    "start_time": "2021-12-19T12:51:10.431Z"
   },
   {
    "duration": 79,
    "start_time": "2021-12-19T12:51:45.597Z"
   },
   {
    "duration": 14,
    "start_time": "2021-12-19T12:51:45.679Z"
   },
   {
    "duration": 12,
    "start_time": "2021-12-19T12:51:45.696Z"
   },
   {
    "duration": 11,
    "start_time": "2021-12-19T12:51:45.711Z"
   },
   {
    "duration": 695,
    "start_time": "2021-12-19T12:51:45.724Z"
   },
   {
    "duration": 53,
    "start_time": "2021-12-19T12:51:46.423Z"
   },
   {
    "duration": 6,
    "start_time": "2021-12-19T12:51:46.478Z"
   },
   {
    "duration": 22,
    "start_time": "2021-12-19T12:51:46.487Z"
   },
   {
    "duration": 83,
    "start_time": "2021-12-19T13:01:36.107Z"
   },
   {
    "duration": 14,
    "start_time": "2021-12-19T13:01:36.193Z"
   },
   {
    "duration": 13,
    "start_time": "2021-12-19T13:01:36.210Z"
   },
   {
    "duration": 15,
    "start_time": "2021-12-19T13:01:36.259Z"
   },
   {
    "duration": 81,
    "start_time": "2021-12-19T13:01:52.963Z"
   },
   {
    "duration": 20,
    "start_time": "2021-12-19T13:01:53.048Z"
   },
   {
    "duration": 12,
    "start_time": "2021-12-19T13:01:53.072Z"
   },
   {
    "duration": 13,
    "start_time": "2021-12-19T13:01:53.086Z"
   },
   {
    "duration": 76,
    "start_time": "2021-12-19T13:01:53.101Z"
   },
   {
    "duration": 5,
    "start_time": "2021-12-19T13:01:53.180Z"
   },
   {
    "duration": 21,
    "start_time": "2021-12-19T13:01:53.188Z"
   },
   {
    "duration": 55,
    "start_time": "2021-12-19T13:24:40.659Z"
   },
   {
    "duration": 45,
    "start_time": "2021-12-19T13:25:04.785Z"
   },
   {
    "duration": 25,
    "start_time": "2021-12-19T13:25:52.308Z"
   },
   {
    "duration": 419,
    "start_time": "2021-12-19T13:26:18.715Z"
   },
   {
    "duration": 21,
    "start_time": "2021-12-19T13:28:29.996Z"
   },
   {
    "duration": 23,
    "start_time": "2021-12-19T13:30:51.925Z"
   },
   {
    "duration": 17,
    "start_time": "2021-12-19T13:35:44.483Z"
   },
   {
    "duration": 18,
    "start_time": "2021-12-19T13:35:55.908Z"
   },
   {
    "duration": 18,
    "start_time": "2021-12-19T13:36:04.582Z"
   },
   {
    "duration": 10,
    "start_time": "2021-12-19T13:39:29.190Z"
   },
   {
    "duration": 18,
    "start_time": "2021-12-19T13:39:43.591Z"
   },
   {
    "duration": 21,
    "start_time": "2021-12-19T13:40:10.586Z"
   },
   {
    "duration": 39,
    "start_time": "2021-12-19T13:43:38.563Z"
   },
   {
    "duration": 82,
    "start_time": "2021-12-19T13:44:05.357Z"
   },
   {
    "duration": 20,
    "start_time": "2021-12-19T13:44:05.443Z"
   },
   {
    "duration": 14,
    "start_time": "2021-12-19T13:44:05.465Z"
   },
   {
    "duration": 13,
    "start_time": "2021-12-19T13:44:05.481Z"
   },
   {
    "duration": 68,
    "start_time": "2021-12-19T13:44:05.498Z"
   },
   {
    "duration": 19,
    "start_time": "2021-12-19T13:44:05.569Z"
   },
   {
    "duration": 17,
    "start_time": "2021-12-19T13:44:05.591Z"
   },
   {
    "duration": 8,
    "start_time": "2021-12-19T13:44:05.610Z"
   },
   {
    "duration": 15,
    "start_time": "2021-12-19T13:44:05.658Z"
   },
   {
    "duration": 81,
    "start_time": "2021-12-19T13:46:47.452Z"
   },
   {
    "duration": 23,
    "start_time": "2021-12-19T13:46:47.536Z"
   },
   {
    "duration": 11,
    "start_time": "2021-12-19T13:46:47.562Z"
   },
   {
    "duration": 12,
    "start_time": "2021-12-19T13:46:47.576Z"
   },
   {
    "duration": 10,
    "start_time": "2021-12-19T13:46:47.591Z"
   },
   {
    "duration": 60,
    "start_time": "2021-12-19T13:46:47.603Z"
   },
   {
    "duration": 17,
    "start_time": "2021-12-19T13:46:47.666Z"
   },
   {
    "duration": 7,
    "start_time": "2021-12-19T13:46:47.687Z"
   },
   {
    "duration": 17,
    "start_time": "2021-12-19T13:46:47.697Z"
   },
   {
    "duration": 85,
    "start_time": "2021-12-19T13:53:56.162Z"
   },
   {
    "duration": 16,
    "start_time": "2021-12-19T13:53:56.258Z"
   },
   {
    "duration": 15,
    "start_time": "2021-12-19T13:53:56.278Z"
   },
   {
    "duration": 12,
    "start_time": "2021-12-19T13:53:56.296Z"
   },
   {
    "duration": 52,
    "start_time": "2021-12-19T13:53:56.310Z"
   },
   {
    "duration": 6,
    "start_time": "2021-12-19T13:53:56.364Z"
   },
   {
    "duration": 16,
    "start_time": "2021-12-19T13:53:56.372Z"
   },
   {
    "duration": 16,
    "start_time": "2021-12-19T13:57:58.128Z"
   },
   {
    "duration": 17,
    "start_time": "2021-12-19T13:58:15.271Z"
   },
   {
    "duration": 17,
    "start_time": "2021-12-19T13:58:27.886Z"
   },
   {
    "duration": 18,
    "start_time": "2021-12-19T13:59:20.535Z"
   },
   {
    "duration": 18,
    "start_time": "2021-12-19T13:59:49.442Z"
   },
   {
    "duration": 381,
    "start_time": "2021-12-19T14:00:11.795Z"
   },
   {
    "duration": 19,
    "start_time": "2021-12-19T14:00:24.406Z"
   },
   {
    "duration": 11,
    "start_time": "2021-12-19T14:01:31.296Z"
   },
   {
    "duration": 12,
    "start_time": "2021-12-19T14:03:29.501Z"
   },
   {
    "duration": 6,
    "start_time": "2021-12-19T14:03:31.080Z"
   },
   {
    "duration": 21,
    "start_time": "2021-12-19T14:03:33.396Z"
   },
   {
    "duration": 14,
    "start_time": "2021-12-19T14:12:03.867Z"
   },
   {
    "duration": 27,
    "start_time": "2021-12-19T14:18:48.662Z"
   },
   {
    "duration": 24,
    "start_time": "2021-12-19T14:26:15.413Z"
   },
   {
    "duration": 22,
    "start_time": "2021-12-19T14:26:58.791Z"
   },
   {
    "duration": 25,
    "start_time": "2021-12-19T14:28:27.174Z"
   },
   {
    "duration": 26,
    "start_time": "2021-12-19T14:30:38.825Z"
   },
   {
    "duration": 10,
    "start_time": "2021-12-19T14:33:01.726Z"
   },
   {
    "duration": 10,
    "start_time": "2021-12-19T14:33:40.018Z"
   },
   {
    "duration": 10,
    "start_time": "2021-12-19T14:37:10.084Z"
   },
   {
    "duration": 12,
    "start_time": "2021-12-19T14:44:57.877Z"
   },
   {
    "duration": 8,
    "start_time": "2021-12-19T14:50:59.008Z"
   },
   {
    "duration": 16,
    "start_time": "2021-12-19T14:51:09.075Z"
   },
   {
    "duration": 18,
    "start_time": "2021-12-19T14:51:31.380Z"
   },
   {
    "duration": 12,
    "start_time": "2021-12-19T14:52:29.707Z"
   },
   {
    "duration": 10,
    "start_time": "2021-12-19T14:54:16.307Z"
   },
   {
    "duration": 11,
    "start_time": "2021-12-19T14:56:08.369Z"
   },
   {
    "duration": 226,
    "start_time": "2021-12-19T19:40:30.021Z"
   },
   {
    "duration": 719,
    "start_time": "2021-12-19T19:40:37.873Z"
   },
   {
    "duration": 13,
    "start_time": "2021-12-19T19:40:38.594Z"
   },
   {
    "duration": 9,
    "start_time": "2021-12-19T19:40:38.609Z"
   },
   {
    "duration": 8,
    "start_time": "2021-12-19T19:40:38.620Z"
   },
   {
    "duration": 10,
    "start_time": "2021-12-19T19:40:38.629Z"
   },
   {
    "duration": 4,
    "start_time": "2021-12-19T19:40:38.640Z"
   },
   {
    "duration": 49,
    "start_time": "2021-12-19T19:40:38.646Z"
   },
   {
    "duration": 17,
    "start_time": "2021-12-19T19:40:38.697Z"
   },
   {
    "duration": 9,
    "start_time": "2021-12-19T19:40:38.717Z"
   },
   {
    "duration": 8,
    "start_time": "2021-12-19T19:40:38.728Z"
   },
   {
    "duration": 6,
    "start_time": "2021-12-19T19:40:38.738Z"
   },
   {
    "duration": 5,
    "start_time": "2021-12-19T19:40:38.746Z"
   },
   {
    "duration": 45,
    "start_time": "2021-12-19T19:40:38.753Z"
   },
   {
    "duration": 10,
    "start_time": "2021-12-19T19:40:38.800Z"
   },
   {
    "duration": 11,
    "start_time": "2021-12-19T19:40:38.812Z"
   },
   {
    "duration": 27,
    "start_time": "2021-12-19T19:40:38.825Z"
   },
   {
    "duration": 55,
    "start_time": "2021-12-19T19:40:38.855Z"
   },
   {
    "duration": 197,
    "start_time": "2021-12-19T19:40:42.835Z"
   },
   {
    "duration": 4196,
    "start_time": "2021-12-19T19:44:49.844Z"
   },
   {
    "duration": 849,
    "start_time": "2021-12-19T19:45:37.956Z"
   },
   {
    "duration": -151,
    "start_time": "2021-12-19T19:49:06.066Z"
   },
   {
    "duration": -165,
    "start_time": "2021-12-19T19:49:14.331Z"
   },
   {
    "duration": 354,
    "start_time": "2021-12-19T19:56:21.174Z"
   },
   {
    "duration": 305,
    "start_time": "2021-12-19T19:57:24.018Z"
   },
   {
    "duration": 307,
    "start_time": "2021-12-19T20:01:10.768Z"
   },
   {
    "duration": 344,
    "start_time": "2021-12-19T20:08:05.891Z"
   },
   {
    "duration": 320,
    "start_time": "2021-12-19T20:08:37.698Z"
   },
   {
    "duration": 774,
    "start_time": "2021-12-19T20:10:27.990Z"
   },
   {
    "duration": 784,
    "start_time": "2021-12-19T20:12:09.122Z"
   },
   {
    "duration": 167,
    "start_time": "2021-12-19T20:15:02.320Z"
   },
   {
    "duration": 169,
    "start_time": "2021-12-19T20:16:04.367Z"
   },
   {
    "duration": 60,
    "start_time": "2021-12-19T20:17:38.023Z"
   },
   {
    "duration": 179,
    "start_time": "2021-12-19T20:17:54.024Z"
   },
   {
    "duration": 671,
    "start_time": "2021-12-19T20:19:09.774Z"
   },
   {
    "duration": 55,
    "start_time": "2021-12-19T20:19:39.573Z"
   },
   {
    "duration": 61,
    "start_time": "2021-12-19T20:19:46.281Z"
   },
   {
    "duration": 688,
    "start_time": "2021-12-19T20:20:01.782Z"
   },
   {
    "duration": 204,
    "start_time": "2021-12-19T20:22:04.670Z"
   },
   {
    "duration": 171,
    "start_time": "2021-12-19T20:22:53.651Z"
   },
   {
    "duration": 836,
    "start_time": "2021-12-19T20:38:58.535Z"
   },
   {
    "duration": 953,
    "start_time": "2021-12-19T20:45:35.683Z"
   },
   {
    "duration": 5,
    "start_time": "2021-12-19T20:46:20.125Z"
   },
   {
    "duration": 3,
    "start_time": "2021-12-19T20:46:27.047Z"
   },
   {
    "duration": 63,
    "start_time": "2021-12-19T20:47:00.118Z"
   },
   {
    "duration": 11,
    "start_time": "2021-12-19T20:47:00.183Z"
   },
   {
    "duration": 11,
    "start_time": "2021-12-19T20:47:00.196Z"
   },
   {
    "duration": 10,
    "start_time": "2021-12-19T20:47:00.208Z"
   },
   {
    "duration": 8,
    "start_time": "2021-12-19T20:47:00.220Z"
   },
   {
    "duration": 6,
    "start_time": "2021-12-19T20:47:00.230Z"
   },
   {
    "duration": 14,
    "start_time": "2021-12-19T20:47:00.238Z"
   },
   {
    "duration": 62,
    "start_time": "2021-12-19T20:47:00.254Z"
   },
   {
    "duration": 15,
    "start_time": "2021-12-19T20:47:00.319Z"
   },
   {
    "duration": 11,
    "start_time": "2021-12-19T20:47:00.336Z"
   },
   {
    "duration": 8,
    "start_time": "2021-12-19T20:47:00.349Z"
   },
   {
    "duration": 8,
    "start_time": "2021-12-19T20:47:00.359Z"
   },
   {
    "duration": 29,
    "start_time": "2021-12-19T20:47:00.369Z"
   },
   {
    "duration": 14,
    "start_time": "2021-12-19T20:47:00.399Z"
   },
   {
    "duration": 18,
    "start_time": "2021-12-19T20:47:00.415Z"
   },
   {
    "duration": 23,
    "start_time": "2021-12-19T20:47:00.434Z"
   },
   {
    "duration": 32,
    "start_time": "2021-12-19T20:47:00.459Z"
   },
   {
    "duration": 4,
    "start_time": "2021-12-19T20:47:00.494Z"
   },
   {
    "duration": 61,
    "start_time": "2021-12-19T20:48:31.282Z"
   },
   {
    "duration": 11,
    "start_time": "2021-12-19T20:48:31.345Z"
   },
   {
    "duration": 10,
    "start_time": "2021-12-19T20:48:31.358Z"
   },
   {
    "duration": 9,
    "start_time": "2021-12-19T20:48:31.392Z"
   },
   {
    "duration": 10,
    "start_time": "2021-12-19T20:48:31.404Z"
   },
   {
    "duration": 5,
    "start_time": "2021-12-19T20:48:31.415Z"
   },
   {
    "duration": 14,
    "start_time": "2021-12-19T20:48:31.421Z"
   },
   {
    "duration": 56,
    "start_time": "2021-12-19T20:48:31.439Z"
   },
   {
    "duration": 10,
    "start_time": "2021-12-19T20:48:31.498Z"
   },
   {
    "duration": 11,
    "start_time": "2021-12-19T20:48:31.510Z"
   },
   {
    "duration": 7,
    "start_time": "2021-12-19T20:48:31.523Z"
   },
   {
    "duration": 7,
    "start_time": "2021-12-19T20:48:31.532Z"
   },
   {
    "duration": 8,
    "start_time": "2021-12-19T20:48:31.541Z"
   },
   {
    "duration": 45,
    "start_time": "2021-12-19T20:48:31.550Z"
   },
   {
    "duration": 12,
    "start_time": "2021-12-19T20:48:31.597Z"
   },
   {
    "duration": 24,
    "start_time": "2021-12-19T20:48:31.611Z"
   },
   {
    "duration": 16,
    "start_time": "2021-12-19T20:48:31.636Z"
   },
   {
    "duration": 3537,
    "start_time": "2021-12-19T20:48:31.654Z"
   },
   {
    "duration": 64,
    "start_time": "2021-12-19T20:52:48.496Z"
   },
   {
    "duration": 10,
    "start_time": "2021-12-19T20:52:48.562Z"
   },
   {
    "duration": 22,
    "start_time": "2021-12-19T20:52:48.575Z"
   },
   {
    "duration": 8,
    "start_time": "2021-12-19T20:52:48.599Z"
   },
   {
    "duration": 9,
    "start_time": "2021-12-19T20:52:48.609Z"
   },
   {
    "duration": 4,
    "start_time": "2021-12-19T20:52:48.619Z"
   },
   {
    "duration": 14,
    "start_time": "2021-12-19T20:52:48.625Z"
   },
   {
    "duration": 16,
    "start_time": "2021-12-19T20:52:48.642Z"
   },
   {
    "duration": 6,
    "start_time": "2021-12-19T20:52:48.692Z"
   },
   {
    "duration": 9,
    "start_time": "2021-12-19T20:52:48.700Z"
   },
   {
    "duration": 6,
    "start_time": "2021-12-19T20:52:48.711Z"
   },
   {
    "duration": 5,
    "start_time": "2021-12-19T20:52:48.719Z"
   },
   {
    "duration": 8,
    "start_time": "2021-12-19T20:52:48.726Z"
   },
   {
    "duration": 6,
    "start_time": "2021-12-19T20:52:48.736Z"
   },
   {
    "duration": 51,
    "start_time": "2021-12-19T20:52:48.744Z"
   },
   {
    "duration": 17,
    "start_time": "2021-12-19T20:52:48.796Z"
   },
   {
    "duration": 18,
    "start_time": "2021-12-19T20:52:48.815Z"
   },
   {
    "duration": 3702,
    "start_time": "2021-12-19T20:52:48.834Z"
   },
   {
    "duration": 61,
    "start_time": "2021-12-19T20:53:47.415Z"
   },
   {
    "duration": 11,
    "start_time": "2021-12-19T20:53:47.478Z"
   },
   {
    "duration": 10,
    "start_time": "2021-12-19T20:53:47.491Z"
   },
   {
    "duration": 8,
    "start_time": "2021-12-19T20:53:47.503Z"
   },
   {
    "duration": 8,
    "start_time": "2021-12-19T20:53:47.513Z"
   },
   {
    "duration": 5,
    "start_time": "2021-12-19T20:53:47.523Z"
   },
   {
    "duration": 12,
    "start_time": "2021-12-19T20:53:47.529Z"
   },
   {
    "duration": 58,
    "start_time": "2021-12-19T20:53:47.543Z"
   },
   {
    "duration": 6,
    "start_time": "2021-12-19T20:53:47.603Z"
   },
   {
    "duration": 8,
    "start_time": "2021-12-19T20:53:47.610Z"
   },
   {
    "duration": 6,
    "start_time": "2021-12-19T20:53:47.619Z"
   },
   {
    "duration": 6,
    "start_time": "2021-12-19T20:53:47.627Z"
   },
   {
    "duration": 7,
    "start_time": "2021-12-19T20:53:47.635Z"
   },
   {
    "duration": 51,
    "start_time": "2021-12-19T20:53:47.644Z"
   },
   {
    "duration": 11,
    "start_time": "2021-12-19T20:53:47.697Z"
   },
   {
    "duration": 18,
    "start_time": "2021-12-19T20:53:47.709Z"
   },
   {
    "duration": 16,
    "start_time": "2021-12-19T20:53:47.729Z"
   },
   {
    "duration": 3548,
    "start_time": "2021-12-19T20:53:47.746Z"
   },
   {
    "duration": 64,
    "start_time": "2021-12-19T20:54:40.552Z"
   },
   {
    "duration": 11,
    "start_time": "2021-12-19T20:54:40.617Z"
   },
   {
    "duration": 10,
    "start_time": "2021-12-19T20:54:40.630Z"
   },
   {
    "duration": 8,
    "start_time": "2021-12-19T20:54:40.642Z"
   },
   {
    "duration": 8,
    "start_time": "2021-12-19T20:54:40.651Z"
   },
   {
    "duration": 34,
    "start_time": "2021-12-19T20:54:40.660Z"
   },
   {
    "duration": 14,
    "start_time": "2021-12-19T20:54:40.696Z"
   },
   {
    "duration": 16,
    "start_time": "2021-12-19T20:54:40.713Z"
   },
   {
    "duration": 6,
    "start_time": "2021-12-19T20:54:40.731Z"
   },
   {
    "duration": 8,
    "start_time": "2021-12-19T20:54:40.738Z"
   },
   {
    "duration": 7,
    "start_time": "2021-12-19T20:54:40.748Z"
   },
   {
    "duration": 42,
    "start_time": "2021-12-19T20:54:40.757Z"
   },
   {
    "duration": 9,
    "start_time": "2021-12-19T20:54:40.800Z"
   },
   {
    "duration": 6,
    "start_time": "2021-12-19T20:54:40.811Z"
   },
   {
    "duration": 8,
    "start_time": "2021-12-19T20:54:40.819Z"
   },
   {
    "duration": 20,
    "start_time": "2021-12-19T20:54:40.829Z"
   },
   {
    "duration": 41,
    "start_time": "2021-12-19T20:54:40.850Z"
   },
   {
    "duration": 3466,
    "start_time": "2021-12-19T20:54:40.893Z"
   },
   {
    "duration": 64,
    "start_time": "2021-12-19T20:55:50.548Z"
   },
   {
    "duration": 11,
    "start_time": "2021-12-19T20:55:50.614Z"
   },
   {
    "duration": 9,
    "start_time": "2021-12-19T20:55:50.627Z"
   },
   {
    "duration": 9,
    "start_time": "2021-12-19T20:55:50.638Z"
   },
   {
    "duration": 12,
    "start_time": "2021-12-19T20:55:50.648Z"
   },
   {
    "duration": 33,
    "start_time": "2021-12-19T20:55:50.662Z"
   },
   {
    "duration": 12,
    "start_time": "2021-12-19T20:55:50.697Z"
   },
   {
    "duration": 16,
    "start_time": "2021-12-19T20:55:50.712Z"
   },
   {
    "duration": 5,
    "start_time": "2021-12-19T20:55:50.730Z"
   },
   {
    "duration": 8,
    "start_time": "2021-12-19T20:55:50.737Z"
   },
   {
    "duration": 7,
    "start_time": "2021-12-19T20:55:50.746Z"
   },
   {
    "duration": 40,
    "start_time": "2021-12-19T20:55:50.755Z"
   },
   {
    "duration": 9,
    "start_time": "2021-12-19T20:55:50.797Z"
   },
   {
    "duration": 9,
    "start_time": "2021-12-19T20:55:50.807Z"
   },
   {
    "duration": 9,
    "start_time": "2021-12-19T20:55:50.817Z"
   },
   {
    "duration": 19,
    "start_time": "2021-12-19T20:55:50.828Z"
   },
   {
    "duration": 46,
    "start_time": "2021-12-19T20:55:50.849Z"
   },
   {
    "duration": 56,
    "start_time": "2021-12-19T20:55:50.896Z"
   },
   {
    "duration": 62,
    "start_time": "2021-12-19T20:57:00.615Z"
   },
   {
    "duration": 12,
    "start_time": "2021-12-19T20:57:00.678Z"
   },
   {
    "duration": 9,
    "start_time": "2021-12-19T20:57:00.692Z"
   },
   {
    "duration": 9,
    "start_time": "2021-12-19T20:57:00.703Z"
   },
   {
    "duration": 8,
    "start_time": "2021-12-19T20:57:00.714Z"
   },
   {
    "duration": 7,
    "start_time": "2021-12-19T20:57:00.723Z"
   },
   {
    "duration": 23,
    "start_time": "2021-12-19T20:57:00.732Z"
   },
   {
    "duration": 36,
    "start_time": "2021-12-19T20:57:00.758Z"
   },
   {
    "duration": 15,
    "start_time": "2021-12-19T20:57:00.796Z"
   },
   {
    "duration": 10,
    "start_time": "2021-12-19T20:57:00.813Z"
   },
   {
    "duration": 9,
    "start_time": "2021-12-19T20:57:00.824Z"
   },
   {
    "duration": 16,
    "start_time": "2021-12-19T20:57:00.835Z"
   },
   {
    "duration": 11,
    "start_time": "2021-12-19T20:57:00.853Z"
   },
   {
    "duration": 7,
    "start_time": "2021-12-19T20:57:00.865Z"
   },
   {
    "duration": 21,
    "start_time": "2021-12-19T20:57:00.874Z"
   },
   {
    "duration": 22,
    "start_time": "2021-12-19T20:57:00.897Z"
   },
   {
    "duration": 19,
    "start_time": "2021-12-19T20:57:00.920Z"
   },
   {
    "duration": 57,
    "start_time": "2021-12-19T20:57:00.941Z"
   },
   {
    "duration": 59,
    "start_time": "2021-12-19T20:57:24.278Z"
   },
   {
    "duration": 10,
    "start_time": "2021-12-19T20:57:24.338Z"
   },
   {
    "duration": 10,
    "start_time": "2021-12-19T20:57:24.350Z"
   },
   {
    "duration": 36,
    "start_time": "2021-12-19T20:57:24.361Z"
   },
   {
    "duration": 7,
    "start_time": "2021-12-19T20:57:24.400Z"
   },
   {
    "duration": 4,
    "start_time": "2021-12-19T20:57:24.409Z"
   },
   {
    "duration": 12,
    "start_time": "2021-12-19T20:57:24.415Z"
   },
   {
    "duration": 17,
    "start_time": "2021-12-19T20:57:24.429Z"
   },
   {
    "duration": 6,
    "start_time": "2021-12-19T20:57:24.447Z"
   },
   {
    "duration": 41,
    "start_time": "2021-12-19T20:57:24.454Z"
   },
   {
    "duration": 6,
    "start_time": "2021-12-19T20:57:24.497Z"
   },
   {
    "duration": 5,
    "start_time": "2021-12-19T20:57:24.505Z"
   },
   {
    "duration": 8,
    "start_time": "2021-12-19T20:57:24.512Z"
   },
   {
    "duration": 6,
    "start_time": "2021-12-19T20:57:24.522Z"
   },
   {
    "duration": 8,
    "start_time": "2021-12-19T20:57:24.530Z"
   },
   {
    "duration": 54,
    "start_time": "2021-12-19T20:57:24.539Z"
   },
   {
    "duration": 18,
    "start_time": "2021-12-19T20:57:24.594Z"
   },
   {
    "duration": 57,
    "start_time": "2021-12-19T20:57:24.614Z"
   },
   {
    "duration": 71,
    "start_time": "2021-12-19T20:57:52.433Z"
   },
   {
    "duration": 11,
    "start_time": "2021-12-19T20:57:52.505Z"
   },
   {
    "duration": 14,
    "start_time": "2021-12-19T20:57:52.519Z"
   },
   {
    "duration": 10,
    "start_time": "2021-12-19T20:57:52.535Z"
   },
   {
    "duration": 10,
    "start_time": "2021-12-19T20:57:52.546Z"
   },
   {
    "duration": 38,
    "start_time": "2021-12-19T20:57:52.558Z"
   },
   {
    "duration": 11,
    "start_time": "2021-12-19T20:57:52.597Z"
   },
   {
    "duration": 16,
    "start_time": "2021-12-19T20:57:52.610Z"
   },
   {
    "duration": 6,
    "start_time": "2021-12-19T20:57:52.628Z"
   },
   {
    "duration": 10,
    "start_time": "2021-12-19T20:57:52.636Z"
   },
   {
    "duration": 8,
    "start_time": "2021-12-19T20:57:52.647Z"
   },
   {
    "duration": 36,
    "start_time": "2021-12-19T20:57:52.656Z"
   },
   {
    "duration": 9,
    "start_time": "2021-12-19T20:57:52.694Z"
   },
   {
    "duration": 7,
    "start_time": "2021-12-19T20:57:52.705Z"
   },
   {
    "duration": 8,
    "start_time": "2021-12-19T20:57:52.714Z"
   },
   {
    "duration": 17,
    "start_time": "2021-12-19T20:57:52.724Z"
   },
   {
    "duration": 50,
    "start_time": "2021-12-19T20:57:52.743Z"
   },
   {
    "duration": 4023,
    "start_time": "2021-12-19T20:57:52.795Z"
   },
   {
    "duration": 64,
    "start_time": "2021-12-19T20:59:49.055Z"
   },
   {
    "duration": 10,
    "start_time": "2021-12-19T20:59:49.121Z"
   },
   {
    "duration": 9,
    "start_time": "2021-12-19T20:59:49.133Z"
   },
   {
    "duration": 8,
    "start_time": "2021-12-19T20:59:49.143Z"
   },
   {
    "duration": 40,
    "start_time": "2021-12-19T20:59:49.152Z"
   },
   {
    "duration": 4,
    "start_time": "2021-12-19T20:59:49.193Z"
   },
   {
    "duration": 13,
    "start_time": "2021-12-19T20:59:49.199Z"
   },
   {
    "duration": 16,
    "start_time": "2021-12-19T20:59:49.213Z"
   },
   {
    "duration": 5,
    "start_time": "2021-12-19T20:59:49.232Z"
   },
   {
    "duration": 8,
    "start_time": "2021-12-19T20:59:49.239Z"
   },
   {
    "duration": 45,
    "start_time": "2021-12-19T20:59:49.248Z"
   },
   {
    "duration": 7,
    "start_time": "2021-12-19T20:59:49.294Z"
   },
   {
    "duration": 8,
    "start_time": "2021-12-19T20:59:49.302Z"
   },
   {
    "duration": 7,
    "start_time": "2021-12-19T20:59:49.312Z"
   },
   {
    "duration": 12,
    "start_time": "2021-12-19T20:59:49.320Z"
   },
   {
    "duration": 18,
    "start_time": "2021-12-19T20:59:49.334Z"
   },
   {
    "duration": 55,
    "start_time": "2021-12-19T20:59:49.354Z"
   },
   {
    "duration": 4882,
    "start_time": "2021-12-19T20:59:49.410Z"
   },
   {
    "duration": 58,
    "start_time": "2021-12-19T21:06:34.762Z"
   },
   {
    "duration": 11,
    "start_time": "2021-12-19T21:06:34.822Z"
   },
   {
    "duration": 10,
    "start_time": "2021-12-19T21:06:34.835Z"
   },
   {
    "duration": 7,
    "start_time": "2021-12-19T21:06:34.847Z"
   },
   {
    "duration": 41,
    "start_time": "2021-12-19T21:06:34.855Z"
   },
   {
    "duration": 3,
    "start_time": "2021-12-19T21:06:34.898Z"
   },
   {
    "duration": 14,
    "start_time": "2021-12-19T21:06:34.903Z"
   },
   {
    "duration": 16,
    "start_time": "2021-12-19T21:06:34.919Z"
   },
   {
    "duration": 6,
    "start_time": "2021-12-19T21:06:34.937Z"
   },
   {
    "duration": 8,
    "start_time": "2021-12-19T21:06:34.945Z"
   },
   {
    "duration": 38,
    "start_time": "2021-12-19T21:06:34.954Z"
   },
   {
    "duration": 6,
    "start_time": "2021-12-19T21:06:34.994Z"
   },
   {
    "duration": 31,
    "start_time": "2021-12-19T21:06:35.001Z"
   },
   {
    "duration": 9,
    "start_time": "2021-12-19T21:06:35.033Z"
   },
   {
    "duration": 16,
    "start_time": "2021-12-19T21:06:35.044Z"
   },
   {
    "duration": 18,
    "start_time": "2021-12-19T21:06:35.062Z"
   },
   {
    "duration": 18,
    "start_time": "2021-12-19T21:06:35.081Z"
   },
   {
    "duration": 6638,
    "start_time": "2021-12-19T21:06:35.101Z"
   },
   {
    "duration": 60,
    "start_time": "2021-12-19T21:07:08.990Z"
   },
   {
    "duration": 10,
    "start_time": "2021-12-19T21:07:09.052Z"
   },
   {
    "duration": 9,
    "start_time": "2021-12-19T21:07:09.064Z"
   },
   {
    "duration": 9,
    "start_time": "2021-12-19T21:07:09.092Z"
   },
   {
    "duration": 8,
    "start_time": "2021-12-19T21:07:09.103Z"
   },
   {
    "duration": 4,
    "start_time": "2021-12-19T21:07:09.113Z"
   },
   {
    "duration": 12,
    "start_time": "2021-12-19T21:07:09.119Z"
   },
   {
    "duration": 16,
    "start_time": "2021-12-19T21:07:09.133Z"
   },
   {
    "duration": 7,
    "start_time": "2021-12-19T21:07:09.151Z"
   },
   {
    "duration": 42,
    "start_time": "2021-12-19T21:07:09.159Z"
   },
   {
    "duration": 6,
    "start_time": "2021-12-19T21:07:09.203Z"
   },
   {
    "duration": 6,
    "start_time": "2021-12-19T21:07:09.211Z"
   },
   {
    "duration": 9,
    "start_time": "2021-12-19T21:07:09.218Z"
   },
   {
    "duration": 7,
    "start_time": "2021-12-19T21:07:09.229Z"
   },
   {
    "duration": 9,
    "start_time": "2021-12-19T21:07:09.238Z"
   },
   {
    "duration": 56,
    "start_time": "2021-12-19T21:07:09.249Z"
   },
   {
    "duration": 20,
    "start_time": "2021-12-19T21:07:09.307Z"
   },
   {
    "duration": 3889,
    "start_time": "2021-12-19T21:07:09.329Z"
   },
   {
    "duration": 63,
    "start_time": "2021-12-19T21:17:59.194Z"
   },
   {
    "duration": 11,
    "start_time": "2021-12-19T21:17:59.259Z"
   },
   {
    "duration": 24,
    "start_time": "2021-12-19T21:17:59.272Z"
   },
   {
    "duration": 7,
    "start_time": "2021-12-19T21:17:59.299Z"
   },
   {
    "duration": 8,
    "start_time": "2021-12-19T21:17:59.308Z"
   },
   {
    "duration": 11,
    "start_time": "2021-12-19T21:17:59.317Z"
   },
   {
    "duration": 15,
    "start_time": "2021-12-19T21:17:59.329Z"
   },
   {
    "duration": 46,
    "start_time": "2021-12-19T21:17:59.346Z"
   },
   {
    "duration": 6,
    "start_time": "2021-12-19T21:17:59.394Z"
   },
   {
    "duration": 9,
    "start_time": "2021-12-19T21:17:59.401Z"
   },
   {
    "duration": 7,
    "start_time": "2021-12-19T21:17:59.411Z"
   },
   {
    "duration": 13,
    "start_time": "2021-12-19T21:17:59.419Z"
   },
   {
    "duration": 8,
    "start_time": "2021-12-19T21:17:59.434Z"
   },
   {
    "duration": 7,
    "start_time": "2021-12-19T21:17:59.444Z"
   },
   {
    "duration": 43,
    "start_time": "2021-12-19T21:17:59.452Z"
   },
   {
    "duration": 20,
    "start_time": "2021-12-19T21:17:59.497Z"
   },
   {
    "duration": 19,
    "start_time": "2021-12-19T21:17:59.518Z"
   },
   {
    "duration": 3714,
    "start_time": "2021-12-19T21:17:59.538Z"
   },
   {
    "duration": 63,
    "start_time": "2021-12-19T21:20:00.429Z"
   },
   {
    "duration": 10,
    "start_time": "2021-12-19T21:20:00.494Z"
   },
   {
    "duration": 18,
    "start_time": "2021-12-19T21:20:00.506Z"
   },
   {
    "duration": 23,
    "start_time": "2021-12-19T21:20:00.526Z"
   },
   {
    "duration": 14,
    "start_time": "2021-12-19T21:20:00.551Z"
   },
   {
    "duration": 27,
    "start_time": "2021-12-19T21:20:00.567Z"
   },
   {
    "duration": 16,
    "start_time": "2021-12-19T21:20:00.596Z"
   },
   {
    "duration": 18,
    "start_time": "2021-12-19T21:20:00.614Z"
   },
   {
    "duration": 10,
    "start_time": "2021-12-19T21:20:00.634Z"
   },
   {
    "duration": 11,
    "start_time": "2021-12-19T21:20:00.646Z"
   },
   {
    "duration": 9,
    "start_time": "2021-12-19T21:20:00.659Z"
   },
   {
    "duration": 27,
    "start_time": "2021-12-19T21:20:00.670Z"
   },
   {
    "duration": 11,
    "start_time": "2021-12-19T21:20:00.699Z"
   },
   {
    "duration": 13,
    "start_time": "2021-12-19T21:20:00.711Z"
   },
   {
    "duration": 28,
    "start_time": "2021-12-19T21:20:00.726Z"
   },
   {
    "duration": 21,
    "start_time": "2021-12-19T21:20:00.756Z"
   },
   {
    "duration": 28,
    "start_time": "2021-12-19T21:20:00.779Z"
   },
   {
    "duration": 3624,
    "start_time": "2021-12-19T21:20:00.810Z"
   },
   {
    "duration": 62,
    "start_time": "2021-12-19T22:12:00.784Z"
   },
   {
    "duration": 10,
    "start_time": "2021-12-19T22:12:00.848Z"
   },
   {
    "duration": 33,
    "start_time": "2021-12-19T22:12:00.861Z"
   },
   {
    "duration": 10,
    "start_time": "2021-12-19T22:12:00.896Z"
   },
   {
    "duration": 12,
    "start_time": "2021-12-19T22:12:00.908Z"
   },
   {
    "duration": 7,
    "start_time": "2021-12-19T22:12:00.922Z"
   },
   {
    "duration": 12,
    "start_time": "2021-12-19T22:12:00.931Z"
   },
   {
    "duration": 46,
    "start_time": "2021-12-19T22:12:00.947Z"
   },
   {
    "duration": 10,
    "start_time": "2021-12-19T22:12:00.995Z"
   },
   {
    "duration": 10,
    "start_time": "2021-12-19T22:12:01.007Z"
   },
   {
    "duration": 11,
    "start_time": "2021-12-19T22:12:01.019Z"
   },
   {
    "duration": 10,
    "start_time": "2021-12-19T22:12:01.031Z"
   },
   {
    "duration": 14,
    "start_time": "2021-12-19T22:12:01.043Z"
   },
   {
    "duration": 7,
    "start_time": "2021-12-19T22:12:01.059Z"
   },
   {
    "duration": 30,
    "start_time": "2021-12-19T22:12:01.068Z"
   },
   {
    "duration": 19,
    "start_time": "2021-12-19T22:12:01.100Z"
   },
   {
    "duration": 19,
    "start_time": "2021-12-19T22:12:01.121Z"
   },
   {
    "duration": 4481,
    "start_time": "2021-12-19T22:12:01.142Z"
   },
   {
    "duration": 62,
    "start_time": "2021-12-19T22:13:16.664Z"
   },
   {
    "duration": 10,
    "start_time": "2021-12-19T22:13:16.728Z"
   },
   {
    "duration": 9,
    "start_time": "2021-12-19T22:13:16.742Z"
   },
   {
    "duration": 8,
    "start_time": "2021-12-19T22:13:16.753Z"
   },
   {
    "duration": 11,
    "start_time": "2021-12-19T22:13:16.792Z"
   },
   {
    "duration": 5,
    "start_time": "2021-12-19T22:13:16.805Z"
   },
   {
    "duration": 16,
    "start_time": "2021-12-19T22:13:16.812Z"
   },
   {
    "duration": 21,
    "start_time": "2021-12-19T22:13:16.831Z"
   },
   {
    "duration": 6,
    "start_time": "2021-12-19T22:13:16.855Z"
   },
   {
    "duration": 7,
    "start_time": "2021-12-19T22:13:16.892Z"
   },
   {
    "duration": 6,
    "start_time": "2021-12-19T22:13:16.901Z"
   },
   {
    "duration": 8,
    "start_time": "2021-12-19T22:13:16.908Z"
   },
   {
    "duration": 12,
    "start_time": "2021-12-19T22:13:16.918Z"
   },
   {
    "duration": 9,
    "start_time": "2021-12-19T22:13:16.931Z"
   },
   {
    "duration": 8,
    "start_time": "2021-12-19T22:13:16.941Z"
   },
   {
    "duration": 49,
    "start_time": "2021-12-19T22:13:16.951Z"
   },
   {
    "duration": 18,
    "start_time": "2021-12-19T22:13:17.001Z"
   },
   {
    "duration": 3691,
    "start_time": "2021-12-19T22:13:17.021Z"
   },
   {
    "duration": 67,
    "start_time": "2021-12-19T22:15:38.766Z"
   },
   {
    "duration": 12,
    "start_time": "2021-12-19T22:15:38.835Z"
   },
   {
    "duration": 9,
    "start_time": "2021-12-19T22:15:38.849Z"
   },
   {
    "duration": 37,
    "start_time": "2021-12-19T22:15:38.861Z"
   },
   {
    "duration": 11,
    "start_time": "2021-12-19T22:15:38.900Z"
   },
   {
    "duration": 4,
    "start_time": "2021-12-19T22:15:38.913Z"
   },
   {
    "duration": 12,
    "start_time": "2021-12-19T22:15:38.919Z"
   },
   {
    "duration": 16,
    "start_time": "2021-12-19T22:15:38.932Z"
   },
   {
    "duration": 6,
    "start_time": "2021-12-19T22:15:38.950Z"
   },
   {
    "duration": 37,
    "start_time": "2021-12-19T22:15:38.958Z"
   },
   {
    "duration": 10,
    "start_time": "2021-12-19T22:15:38.996Z"
   },
   {
    "duration": 9,
    "start_time": "2021-12-19T22:15:39.008Z"
   },
   {
    "duration": 11,
    "start_time": "2021-12-19T22:15:39.018Z"
   },
   {
    "duration": 15,
    "start_time": "2021-12-19T22:15:39.030Z"
   },
   {
    "duration": 30,
    "start_time": "2021-12-19T22:15:39.046Z"
   },
   {
    "duration": 27,
    "start_time": "2021-12-19T22:15:39.078Z"
   },
   {
    "duration": 30,
    "start_time": "2021-12-19T22:15:39.107Z"
   },
   {
    "duration": 875,
    "start_time": "2021-12-19T22:15:39.139Z"
   },
   {
    "duration": 60,
    "start_time": "2021-12-19T22:16:42.721Z"
   },
   {
    "duration": 9,
    "start_time": "2021-12-19T22:16:42.783Z"
   },
   {
    "duration": 8,
    "start_time": "2021-12-19T22:16:42.794Z"
   },
   {
    "duration": 7,
    "start_time": "2021-12-19T22:16:42.804Z"
   },
   {
    "duration": 7,
    "start_time": "2021-12-19T22:16:42.813Z"
   },
   {
    "duration": 5,
    "start_time": "2021-12-19T22:16:42.821Z"
   },
   {
    "duration": 12,
    "start_time": "2021-12-19T22:16:42.827Z"
   },
   {
    "duration": 16,
    "start_time": "2021-12-19T22:16:42.841Z"
   },
   {
    "duration": 6,
    "start_time": "2021-12-19T22:16:42.892Z"
   },
   {
    "duration": 8,
    "start_time": "2021-12-19T22:16:42.900Z"
   },
   {
    "duration": 6,
    "start_time": "2021-12-19T22:16:42.910Z"
   },
   {
    "duration": 6,
    "start_time": "2021-12-19T22:16:42.918Z"
   },
   {
    "duration": 8,
    "start_time": "2021-12-19T22:16:42.925Z"
   },
   {
    "duration": 5,
    "start_time": "2021-12-19T22:16:42.935Z"
   },
   {
    "duration": 12,
    "start_time": "2021-12-19T22:16:42.942Z"
   },
   {
    "duration": 52,
    "start_time": "2021-12-19T22:16:42.955Z"
   },
   {
    "duration": 18,
    "start_time": "2021-12-19T22:16:43.008Z"
   },
   {
    "duration": 5597,
    "start_time": "2021-12-19T22:16:43.028Z"
   },
   {
    "duration": 858,
    "start_time": "2021-12-20T10:19:49.869Z"
   },
   {
    "duration": 15,
    "start_time": "2021-12-20T10:19:50.729Z"
   },
   {
    "duration": 29,
    "start_time": "2021-12-20T10:19:50.747Z"
   },
   {
    "duration": 39,
    "start_time": "2021-12-20T10:19:50.778Z"
   },
   {
    "duration": 26,
    "start_time": "2021-12-20T10:19:50.819Z"
   },
   {
    "duration": 15,
    "start_time": "2021-12-20T10:19:50.847Z"
   },
   {
    "duration": 28,
    "start_time": "2021-12-20T10:19:50.864Z"
   },
   {
    "duration": 23,
    "start_time": "2021-12-20T10:19:50.895Z"
   },
   {
    "duration": 26,
    "start_time": "2021-12-20T10:19:50.920Z"
   },
   {
    "duration": 37,
    "start_time": "2021-12-20T10:19:50.949Z"
   },
   {
    "duration": 25,
    "start_time": "2021-12-20T10:19:50.988Z"
   },
   {
    "duration": 25,
    "start_time": "2021-12-20T10:19:51.015Z"
   },
   {
    "duration": 23,
    "start_time": "2021-12-20T10:19:51.042Z"
   },
   {
    "duration": 26,
    "start_time": "2021-12-20T10:19:51.067Z"
   },
   {
    "duration": 19,
    "start_time": "2021-12-20T10:19:51.096Z"
   },
   {
    "duration": 66,
    "start_time": "2021-12-20T10:19:51.118Z"
   },
   {
    "duration": 25,
    "start_time": "2021-12-20T10:19:51.187Z"
   },
   {
    "duration": 5497,
    "start_time": "2021-12-20T10:19:51.214Z"
   },
   {
    "duration": 86,
    "start_time": "2021-12-20T10:20:38.182Z"
   },
   {
    "duration": 15,
    "start_time": "2021-12-20T10:20:38.270Z"
   },
   {
    "duration": 12,
    "start_time": "2021-12-20T10:20:38.287Z"
   },
   {
    "duration": 10,
    "start_time": "2021-12-20T10:20:38.302Z"
   },
   {
    "duration": 51,
    "start_time": "2021-12-20T10:20:38.314Z"
   },
   {
    "duration": 5,
    "start_time": "2021-12-20T10:20:38.368Z"
   },
   {
    "duration": 16,
    "start_time": "2021-12-20T10:20:38.375Z"
   },
   {
    "duration": 23,
    "start_time": "2021-12-20T10:20:38.394Z"
   },
   {
    "duration": 8,
    "start_time": "2021-12-20T10:20:38.419Z"
   },
   {
    "duration": 12,
    "start_time": "2021-12-20T10:20:38.462Z"
   },
   {
    "duration": 10,
    "start_time": "2021-12-20T10:20:38.476Z"
   },
   {
    "duration": 9,
    "start_time": "2021-12-20T10:20:38.489Z"
   },
   {
    "duration": 64,
    "start_time": "2021-12-20T10:20:38.501Z"
   },
   {
    "duration": 9,
    "start_time": "2021-12-20T10:20:38.567Z"
   },
   {
    "duration": 11,
    "start_time": "2021-12-20T10:20:38.579Z"
   },
   {
    "duration": 27,
    "start_time": "2021-12-20T10:20:38.592Z"
   },
   {
    "duration": 63,
    "start_time": "2021-12-20T10:20:38.622Z"
   },
   {
    "duration": 5313,
    "start_time": "2021-12-20T10:20:38.688Z"
   },
   {
    "duration": 84,
    "start_time": "2021-12-20T10:24:36.835Z"
   },
   {
    "duration": 14,
    "start_time": "2021-12-20T10:24:36.921Z"
   },
   {
    "duration": 33,
    "start_time": "2021-12-20T10:24:36.938Z"
   },
   {
    "duration": 21,
    "start_time": "2021-12-20T10:24:36.973Z"
   },
   {
    "duration": 16,
    "start_time": "2021-12-20T10:24:36.997Z"
   },
   {
    "duration": 11,
    "start_time": "2021-12-20T10:24:37.015Z"
   },
   {
    "duration": 35,
    "start_time": "2021-12-20T10:24:37.028Z"
   },
   {
    "duration": 25,
    "start_time": "2021-12-20T10:24:37.065Z"
   },
   {
    "duration": 27,
    "start_time": "2021-12-20T10:24:37.094Z"
   },
   {
    "duration": 27,
    "start_time": "2021-12-20T10:24:37.124Z"
   },
   {
    "duration": 13,
    "start_time": "2021-12-20T10:24:37.154Z"
   },
   {
    "duration": 7,
    "start_time": "2021-12-20T10:24:37.169Z"
   },
   {
    "duration": 11,
    "start_time": "2021-12-20T10:24:37.178Z"
   },
   {
    "duration": 9,
    "start_time": "2021-12-20T10:24:37.192Z"
   },
   {
    "duration": 12,
    "start_time": "2021-12-20T10:24:37.203Z"
   },
   {
    "duration": 66,
    "start_time": "2021-12-20T10:24:37.217Z"
   },
   {
    "duration": 26,
    "start_time": "2021-12-20T10:24:37.285Z"
   },
   {
    "duration": 4940,
    "start_time": "2021-12-20T10:24:37.313Z"
   },
   {
    "duration": 85,
    "start_time": "2021-12-20T10:35:27.366Z"
   },
   {
    "duration": 14,
    "start_time": "2021-12-20T10:35:27.462Z"
   },
   {
    "duration": 19,
    "start_time": "2021-12-20T10:35:27.478Z"
   },
   {
    "duration": 35,
    "start_time": "2021-12-20T10:35:27.500Z"
   },
   {
    "duration": 37,
    "start_time": "2021-12-20T10:35:27.537Z"
   },
   {
    "duration": 17,
    "start_time": "2021-12-20T10:35:27.577Z"
   },
   {
    "duration": 42,
    "start_time": "2021-12-20T10:35:27.596Z"
   },
   {
    "duration": 38,
    "start_time": "2021-12-20T10:35:27.642Z"
   },
   {
    "duration": 8,
    "start_time": "2021-12-20T10:35:27.683Z"
   },
   {
    "duration": 56,
    "start_time": "2021-12-20T10:35:27.694Z"
   },
   {
    "duration": 22,
    "start_time": "2021-12-20T10:35:27.752Z"
   },
   {
    "duration": 29,
    "start_time": "2021-12-20T10:35:27.777Z"
   },
   {
    "duration": 29,
    "start_time": "2021-12-20T10:35:27.808Z"
   },
   {
    "duration": 33,
    "start_time": "2021-12-20T10:35:27.840Z"
   },
   {
    "duration": 39,
    "start_time": "2021-12-20T10:35:27.875Z"
   },
   {
    "duration": 49,
    "start_time": "2021-12-20T10:35:27.917Z"
   },
   {
    "duration": 34,
    "start_time": "2021-12-20T10:35:27.968Z"
   },
   {
    "duration": 4601,
    "start_time": "2021-12-20T10:35:28.005Z"
   },
   {
    "duration": 8722,
    "start_time": "2021-12-20T10:35:32.609Z"
   },
   {
    "duration": 8548,
    "start_time": "2021-12-20T10:36:10.841Z"
   },
   {
    "duration": 9092,
    "start_time": "2021-12-20T10:38:07.688Z"
   },
   {
    "duration": 9200,
    "start_time": "2021-12-20T10:49:44.209Z"
   },
   {
    "duration": 102,
    "start_time": "2021-12-20T11:11:33.628Z"
   },
   {
    "duration": 100162,
    "start_time": "2021-12-20T11:11:48.389Z"
   },
   {
    "duration": 59536,
    "start_time": "2021-12-20T11:15:15.299Z"
   },
   {
    "duration": 146686,
    "start_time": "2021-12-20T11:16:32.436Z"
   },
   {
    "duration": 282,
    "start_time": "2021-12-20T11:20:33.319Z"
   },
   {
    "duration": -804,
    "start_time": "2021-12-20T11:27:20.769Z"
   },
   {
    "duration": -807,
    "start_time": "2021-12-20T11:27:20.775Z"
   },
   {
    "duration": -807,
    "start_time": "2021-12-20T11:27:20.777Z"
   },
   {
    "duration": -808,
    "start_time": "2021-12-20T11:27:20.780Z"
   },
   {
    "duration": -808,
    "start_time": "2021-12-20T11:27:20.783Z"
   },
   {
    "duration": -812,
    "start_time": "2021-12-20T11:27:20.790Z"
   },
   {
    "duration": -813,
    "start_time": "2021-12-20T11:27:20.793Z"
   },
   {
    "duration": -814,
    "start_time": "2021-12-20T11:27:20.795Z"
   },
   {
    "duration": -816,
    "start_time": "2021-12-20T11:27:20.799Z"
   },
   {
    "duration": -816,
    "start_time": "2021-12-20T11:27:20.802Z"
   },
   {
    "duration": -817,
    "start_time": "2021-12-20T11:27:20.805Z"
   },
   {
    "duration": -841,
    "start_time": "2021-12-20T11:27:20.831Z"
   },
   {
    "duration": -844,
    "start_time": "2021-12-20T11:27:20.837Z"
   },
   {
    "duration": -844,
    "start_time": "2021-12-20T11:27:20.839Z"
   },
   {
    "duration": -846,
    "start_time": "2021-12-20T11:27:20.842Z"
   },
   {
    "duration": -848,
    "start_time": "2021-12-20T11:27:20.845Z"
   },
   {
    "duration": -854,
    "start_time": "2021-12-20T11:27:20.852Z"
   },
   {
    "duration": -855,
    "start_time": "2021-12-20T11:27:20.855Z"
   },
   {
    "duration": -856,
    "start_time": "2021-12-20T11:27:20.857Z"
   },
   {
    "duration": 82,
    "start_time": "2021-12-20T11:27:49.393Z"
   },
   {
    "duration": 15,
    "start_time": "2021-12-20T11:27:49.478Z"
   },
   {
    "duration": 37,
    "start_time": "2021-12-20T11:27:49.497Z"
   },
   {
    "duration": 39,
    "start_time": "2021-12-20T11:27:49.537Z"
   },
   {
    "duration": 27,
    "start_time": "2021-12-20T11:27:49.579Z"
   },
   {
    "duration": 8,
    "start_time": "2021-12-20T11:27:49.609Z"
   },
   {
    "duration": 30,
    "start_time": "2021-12-20T11:27:49.620Z"
   },
   {
    "duration": 41,
    "start_time": "2021-12-20T11:27:49.655Z"
   },
   {
    "duration": 8,
    "start_time": "2021-12-20T11:27:49.699Z"
   },
   {
    "duration": 34,
    "start_time": "2021-12-20T11:27:49.710Z"
   },
   {
    "duration": 18,
    "start_time": "2021-12-20T11:27:49.747Z"
   },
   {
    "duration": 17,
    "start_time": "2021-12-20T11:27:49.769Z"
   },
   {
    "duration": 13,
    "start_time": "2021-12-20T11:27:49.788Z"
   },
   {
    "duration": 13,
    "start_time": "2021-12-20T11:27:49.804Z"
   },
   {
    "duration": 57,
    "start_time": "2021-12-20T11:27:49.820Z"
   },
   {
    "duration": 37,
    "start_time": "2021-12-20T11:27:49.880Z"
   },
   {
    "duration": 46,
    "start_time": "2021-12-20T11:27:49.919Z"
   },
   {
    "duration": 4854,
    "start_time": "2021-12-20T11:27:49.967Z"
   },
   {
    "duration": 31813,
    "start_time": "2021-12-20T11:27:54.824Z"
   },
   {
    "duration": 87,
    "start_time": "2021-12-20T11:41:06.527Z"
   },
   {
    "duration": 20,
    "start_time": "2021-12-20T11:41:06.616Z"
   },
   {
    "duration": 33,
    "start_time": "2021-12-20T11:41:06.640Z"
   },
   {
    "duration": 15,
    "start_time": "2021-12-20T11:41:06.676Z"
   },
   {
    "duration": 14,
    "start_time": "2021-12-20T11:41:06.694Z"
   },
   {
    "duration": 7,
    "start_time": "2021-12-20T11:41:06.711Z"
   },
   {
    "duration": 61,
    "start_time": "2021-12-20T11:41:06.721Z"
   },
   {
    "duration": 37,
    "start_time": "2021-12-20T11:41:06.787Z"
   },
   {
    "duration": 43,
    "start_time": "2021-12-20T11:41:06.828Z"
   },
   {
    "duration": 11,
    "start_time": "2021-12-20T11:41:06.874Z"
   },
   {
    "duration": 8,
    "start_time": "2021-12-20T11:41:06.887Z"
   },
   {
    "duration": 7,
    "start_time": "2021-12-20T11:41:06.897Z"
   },
   {
    "duration": 10,
    "start_time": "2021-12-20T11:41:06.907Z"
   },
   {
    "duration": 48,
    "start_time": "2021-12-20T11:41:06.919Z"
   },
   {
    "duration": 18,
    "start_time": "2021-12-20T11:41:06.969Z"
   },
   {
    "duration": 41,
    "start_time": "2021-12-20T11:41:06.991Z"
   },
   {
    "duration": 41,
    "start_time": "2021-12-20T11:41:07.034Z"
   },
   {
    "duration": 4822,
    "start_time": "2021-12-20T11:41:07.078Z"
   },
   {
    "duration": 770,
    "start_time": "2021-12-20T11:42:37.055Z"
   },
   {
    "duration": 4950,
    "start_time": "2021-12-20T11:47:08.962Z"
   },
   {
    "duration": 549,
    "start_time": "2021-12-20T11:47:31.770Z"
   },
   {
    "duration": 6828,
    "start_time": "2021-12-20T11:47:59.651Z"
   },
   {
    "duration": 5431,
    "start_time": "2021-12-20T11:57:00.498Z"
   },
   {
    "duration": 5684,
    "start_time": "2021-12-20T11:58:28.930Z"
   },
   {
    "duration": 4337,
    "start_time": "2021-12-20T12:06:36.527Z"
   },
   {
    "duration": 5447,
    "start_time": "2021-12-20T12:07:05.304Z"
   },
   {
    "duration": 5562,
    "start_time": "2021-12-20T12:07:31.369Z"
   },
   {
    "duration": 6297,
    "start_time": "2021-12-20T12:20:12.573Z"
   },
   {
    "duration": 5142,
    "start_time": "2021-12-20T12:23:09.604Z"
   },
   {
    "duration": 37694,
    "start_time": "2021-12-20T12:23:33.093Z"
   },
   {
    "duration": 41074,
    "start_time": "2021-12-20T12:24:51.250Z"
   },
   {
    "duration": 5286,
    "start_time": "2021-12-20T12:25:37.089Z"
   },
   {
    "duration": 41855,
    "start_time": "2021-12-20T12:29:02.471Z"
   },
   {
    "duration": 72576,
    "start_time": "2021-12-20T12:32:10.195Z"
   },
   {
    "duration": 70733,
    "start_time": "2021-12-20T12:35:37.204Z"
   },
   {
    "duration": 80459,
    "start_time": "2021-12-20T12:38:56.248Z"
   },
   {
    "duration": 88,
    "start_time": "2021-12-20T12:52:04.358Z"
   },
   {
    "duration": 25,
    "start_time": "2021-12-20T12:52:04.450Z"
   },
   {
    "duration": 29,
    "start_time": "2021-12-20T12:52:04.479Z"
   },
   {
    "duration": 25,
    "start_time": "2021-12-20T12:52:04.512Z"
   },
   {
    "duration": 29,
    "start_time": "2021-12-20T12:52:04.540Z"
   },
   {
    "duration": 23,
    "start_time": "2021-12-20T12:52:04.572Z"
   },
   {
    "duration": 23,
    "start_time": "2021-12-20T12:52:04.598Z"
   },
   {
    "duration": 32,
    "start_time": "2021-12-20T12:52:04.624Z"
   },
   {
    "duration": 17,
    "start_time": "2021-12-20T12:52:04.660Z"
   },
   {
    "duration": 31,
    "start_time": "2021-12-20T12:52:04.679Z"
   },
   {
    "duration": 25,
    "start_time": "2021-12-20T12:52:04.713Z"
   },
   {
    "duration": 23,
    "start_time": "2021-12-20T12:52:04.740Z"
   },
   {
    "duration": 29,
    "start_time": "2021-12-20T12:52:04.765Z"
   },
   {
    "duration": 21,
    "start_time": "2021-12-20T12:52:04.797Z"
   },
   {
    "duration": 45,
    "start_time": "2021-12-20T12:52:04.820Z"
   },
   {
    "duration": 58,
    "start_time": "2021-12-20T12:52:04.868Z"
   },
   {
    "duration": 27,
    "start_time": "2021-12-20T12:52:04.928Z"
   },
   {
    "duration": 74921,
    "start_time": "2021-12-20T12:52:04.957Z"
   },
   {
    "duration": 73842,
    "start_time": "2021-12-20T12:55:52.339Z"
   },
   {
    "duration": 529,
    "start_time": "2021-12-20T13:04:51.766Z"
   },
   {
    "duration": 69989,
    "start_time": "2021-12-20T13:07:14.917Z"
   },
   {
    "duration": 274251,
    "start_time": "2021-12-20T13:15:06.485Z"
   },
   {
    "duration": -969,
    "start_time": "2021-12-20T13:21:47.333Z"
   },
   {
    "duration": 1153,
    "start_time": "2021-12-20T17:46:57.210Z"
   },
   {
    "duration": 13,
    "start_time": "2021-12-20T17:46:58.364Z"
   },
   {
    "duration": 11,
    "start_time": "2021-12-20T17:46:58.379Z"
   },
   {
    "duration": 9,
    "start_time": "2021-12-20T17:46:58.392Z"
   },
   {
    "duration": 13,
    "start_time": "2021-12-20T17:46:58.403Z"
   },
   {
    "duration": 25,
    "start_time": "2021-12-20T17:46:58.418Z"
   },
   {
    "duration": 24,
    "start_time": "2021-12-20T17:46:58.445Z"
   },
   {
    "duration": 18,
    "start_time": "2021-12-20T17:46:58.470Z"
   },
   {
    "duration": 8,
    "start_time": "2021-12-20T17:46:58.490Z"
   },
   {
    "duration": 12,
    "start_time": "2021-12-20T17:46:58.500Z"
   },
   {
    "duration": 29,
    "start_time": "2021-12-20T17:46:58.514Z"
   },
   {
    "duration": 13,
    "start_time": "2021-12-20T17:46:58.545Z"
   },
   {
    "duration": 10,
    "start_time": "2021-12-20T17:46:58.560Z"
   },
   {
    "duration": 9,
    "start_time": "2021-12-20T17:46:58.572Z"
   },
   {
    "duration": 16,
    "start_time": "2021-12-20T17:46:58.582Z"
   },
   {
    "duration": 23,
    "start_time": "2021-12-20T17:46:58.600Z"
   },
   {
    "duration": 20,
    "start_time": "2021-12-20T17:46:58.642Z"
   },
   {
    "duration": 68313,
    "start_time": "2021-12-20T17:46:58.664Z"
   },
   {
    "duration": 70,
    "start_time": "2021-12-20T17:49:19.257Z"
   },
   {
    "duration": 11,
    "start_time": "2021-12-20T17:49:19.329Z"
   },
   {
    "duration": 11,
    "start_time": "2021-12-20T17:49:19.343Z"
   },
   {
    "duration": 9,
    "start_time": "2021-12-20T17:49:19.357Z"
   },
   {
    "duration": 10,
    "start_time": "2021-12-20T17:49:19.368Z"
   },
   {
    "duration": 5,
    "start_time": "2021-12-20T17:49:19.380Z"
   },
   {
    "duration": 13,
    "start_time": "2021-12-20T17:49:19.387Z"
   },
   {
    "duration": 56,
    "start_time": "2021-12-20T17:49:19.402Z"
   },
   {
    "duration": 6,
    "start_time": "2021-12-20T17:49:19.460Z"
   },
   {
    "duration": 8,
    "start_time": "2021-12-20T17:49:19.468Z"
   },
   {
    "duration": 6,
    "start_time": "2021-12-20T17:49:19.478Z"
   },
   {
    "duration": 9,
    "start_time": "2021-12-20T17:49:19.486Z"
   },
   {
    "duration": 49,
    "start_time": "2021-12-20T17:49:19.496Z"
   },
   {
    "duration": 7,
    "start_time": "2021-12-20T17:49:19.548Z"
   },
   {
    "duration": 10,
    "start_time": "2021-12-20T17:49:19.557Z"
   },
   {
    "duration": 18,
    "start_time": "2021-12-20T17:49:19.569Z"
   },
   {
    "duration": 19,
    "start_time": "2021-12-20T17:49:19.589Z"
   },
   {
    "duration": 673,
    "start_time": "2021-12-20T17:49:19.610Z"
   },
   {
    "duration": 63,
    "start_time": "2021-12-20T17:49:39.298Z"
   },
   {
    "duration": 18,
    "start_time": "2021-12-20T17:49:39.364Z"
   },
   {
    "duration": 14,
    "start_time": "2021-12-20T17:49:39.384Z"
   },
   {
    "duration": 27,
    "start_time": "2021-12-20T17:49:39.400Z"
   },
   {
    "duration": 27,
    "start_time": "2021-12-20T17:49:39.429Z"
   },
   {
    "duration": 18,
    "start_time": "2021-12-20T17:49:39.458Z"
   },
   {
    "duration": 26,
    "start_time": "2021-12-20T17:49:39.478Z"
   },
   {
    "duration": 37,
    "start_time": "2021-12-20T17:49:39.506Z"
   },
   {
    "duration": 30,
    "start_time": "2021-12-20T17:49:39.547Z"
   },
   {
    "duration": 21,
    "start_time": "2021-12-20T17:49:39.579Z"
   },
   {
    "duration": 18,
    "start_time": "2021-12-20T17:49:39.602Z"
   },
   {
    "duration": 24,
    "start_time": "2021-12-20T17:49:39.622Z"
   },
   {
    "duration": 33,
    "start_time": "2021-12-20T17:49:39.648Z"
   },
   {
    "duration": 27,
    "start_time": "2021-12-20T17:49:39.684Z"
   },
   {
    "duration": 26,
    "start_time": "2021-12-20T17:49:39.713Z"
   },
   {
    "duration": 39,
    "start_time": "2021-12-20T17:49:39.741Z"
   },
   {
    "duration": 20,
    "start_time": "2021-12-20T17:49:39.782Z"
   },
   {
    "duration": 68269,
    "start_time": "2021-12-20T17:49:39.804Z"
   },
   {
    "duration": 65,
    "start_time": "2021-12-20T17:51:05.945Z"
   },
   {
    "duration": 11,
    "start_time": "2021-12-20T17:51:06.012Z"
   },
   {
    "duration": 27,
    "start_time": "2021-12-20T17:51:06.026Z"
   },
   {
    "duration": 12,
    "start_time": "2021-12-20T17:51:06.055Z"
   },
   {
    "duration": 21,
    "start_time": "2021-12-20T17:51:06.069Z"
   },
   {
    "duration": 9,
    "start_time": "2021-12-20T17:51:06.092Z"
   },
   {
    "duration": 15,
    "start_time": "2021-12-20T17:51:06.103Z"
   },
   {
    "duration": 33,
    "start_time": "2021-12-20T17:51:06.120Z"
   },
   {
    "duration": 12,
    "start_time": "2021-12-20T17:51:06.157Z"
   },
   {
    "duration": 9,
    "start_time": "2021-12-20T17:51:06.171Z"
   },
   {
    "duration": 7,
    "start_time": "2021-12-20T17:51:06.182Z"
   },
   {
    "duration": 12,
    "start_time": "2021-12-20T17:51:06.191Z"
   },
   {
    "duration": 22,
    "start_time": "2021-12-20T17:51:06.205Z"
   },
   {
    "duration": 15,
    "start_time": "2021-12-20T17:51:06.229Z"
   },
   {
    "duration": 13,
    "start_time": "2021-12-20T17:51:06.245Z"
   },
   {
    "duration": 24,
    "start_time": "2021-12-20T17:51:06.260Z"
   },
   {
    "duration": 19,
    "start_time": "2021-12-20T17:51:06.285Z"
   },
   {
    "duration": 20484,
    "start_time": "2021-12-20T17:51:06.306Z"
   },
   {
    "duration": 8419,
    "start_time": "2021-12-20T17:51:47.463Z"
   },
   {
    "duration": 4044,
    "start_time": "2021-12-20T17:52:59.221Z"
   },
   {
    "duration": 86,
    "start_time": "2021-12-20T17:54:42.296Z"
   },
   {
    "duration": 7838,
    "start_time": "2021-12-20T17:55:23.123Z"
   },
   {
    "duration": 7007,
    "start_time": "2021-12-20T17:56:56.835Z"
   },
   {
    "duration": 22317,
    "start_time": "2021-12-20T17:57:46.177Z"
   },
   {
    "duration": 270,
    "start_time": "2021-12-20T18:00:11.830Z"
   },
   {
    "duration": 274,
    "start_time": "2021-12-20T18:00:24.830Z"
   },
   {
    "duration": 252,
    "start_time": "2021-12-20T18:00:59.457Z"
   },
   {
    "duration": 268,
    "start_time": "2021-12-20T18:01:19.182Z"
   },
   {
    "duration": 3501,
    "start_time": "2021-12-20T18:06:24.922Z"
   },
   {
    "duration": 3641,
    "start_time": "2021-12-20T18:09:23.738Z"
   },
   {
    "duration": 418,
    "start_time": "2021-12-20T18:10:14.599Z"
   },
   {
    "duration": 15,
    "start_time": "2021-12-20T18:10:15.020Z"
   },
   {
    "duration": 11,
    "start_time": "2021-12-20T18:10:15.038Z"
   },
   {
    "duration": 10,
    "start_time": "2021-12-20T18:10:15.051Z"
   },
   {
    "duration": 11,
    "start_time": "2021-12-20T18:10:15.063Z"
   },
   {
    "duration": 4,
    "start_time": "2021-12-20T18:10:15.076Z"
   },
   {
    "duration": 19,
    "start_time": "2021-12-20T18:10:15.082Z"
   },
   {
    "duration": 47,
    "start_time": "2021-12-20T18:10:15.103Z"
   },
   {
    "duration": 9,
    "start_time": "2021-12-20T18:10:15.153Z"
   },
   {
    "duration": 23,
    "start_time": "2021-12-20T18:10:15.164Z"
   },
   {
    "duration": 20,
    "start_time": "2021-12-20T18:10:15.190Z"
   },
   {
    "duration": 35,
    "start_time": "2021-12-20T18:10:15.212Z"
   },
   {
    "duration": 23,
    "start_time": "2021-12-20T18:10:15.249Z"
   },
   {
    "duration": 26,
    "start_time": "2021-12-20T18:10:15.275Z"
   },
   {
    "duration": 21,
    "start_time": "2021-12-20T18:10:15.303Z"
   },
   {
    "duration": 34,
    "start_time": "2021-12-20T18:10:15.326Z"
   },
   {
    "duration": 28,
    "start_time": "2021-12-20T18:10:15.363Z"
   },
   {
    "duration": 3890,
    "start_time": "2021-12-20T18:10:15.393Z"
   },
   {
    "duration": 71,
    "start_time": "2021-12-20T18:12:29.639Z"
   },
   {
    "duration": 12,
    "start_time": "2021-12-20T18:12:29.712Z"
   },
   {
    "duration": 39,
    "start_time": "2021-12-20T18:12:29.726Z"
   },
   {
    "duration": 25,
    "start_time": "2021-12-20T18:12:29.767Z"
   },
   {
    "duration": 35,
    "start_time": "2021-12-20T18:12:29.794Z"
   },
   {
    "duration": 21,
    "start_time": "2021-12-20T18:12:29.832Z"
   },
   {
    "duration": 29,
    "start_time": "2021-12-20T18:12:29.854Z"
   },
   {
    "duration": 20,
    "start_time": "2021-12-20T18:12:29.886Z"
   },
   {
    "duration": 8,
    "start_time": "2021-12-20T18:12:29.908Z"
   },
   {
    "duration": 33,
    "start_time": "2021-12-20T18:12:29.918Z"
   },
   {
    "duration": 15,
    "start_time": "2021-12-20T18:12:29.954Z"
   },
   {
    "duration": 22,
    "start_time": "2021-12-20T18:12:29.971Z"
   },
   {
    "duration": 37,
    "start_time": "2021-12-20T18:12:29.995Z"
   },
   {
    "duration": 31,
    "start_time": "2021-12-20T18:12:30.034Z"
   },
   {
    "duration": 53,
    "start_time": "2021-12-20T18:12:30.066Z"
   },
   {
    "duration": 31,
    "start_time": "2021-12-20T18:12:30.121Z"
   },
   {
    "duration": 54,
    "start_time": "2021-12-20T18:12:30.155Z"
   },
   {
    "duration": 7519,
    "start_time": "2021-12-20T18:12:30.211Z"
   },
   {
    "duration": 69,
    "start_time": "2021-12-20T18:19:47.476Z"
   },
   {
    "duration": 11,
    "start_time": "2021-12-20T18:19:47.547Z"
   },
   {
    "duration": 14,
    "start_time": "2021-12-20T18:19:47.561Z"
   },
   {
    "duration": 10,
    "start_time": "2021-12-20T18:19:47.577Z"
   },
   {
    "duration": 11,
    "start_time": "2021-12-20T18:19:47.589Z"
   },
   {
    "duration": 4,
    "start_time": "2021-12-20T18:19:47.602Z"
   },
   {
    "duration": 42,
    "start_time": "2021-12-20T18:19:47.608Z"
   },
   {
    "duration": 19,
    "start_time": "2021-12-20T18:19:47.653Z"
   },
   {
    "duration": 8,
    "start_time": "2021-12-20T18:19:47.675Z"
   },
   {
    "duration": 9,
    "start_time": "2021-12-20T18:19:47.685Z"
   },
   {
    "duration": 9,
    "start_time": "2021-12-20T18:19:47.696Z"
   },
   {
    "duration": 40,
    "start_time": "2021-12-20T18:19:47.706Z"
   },
   {
    "duration": 17,
    "start_time": "2021-12-20T18:19:47.748Z"
   },
   {
    "duration": 10,
    "start_time": "2021-12-20T18:19:47.767Z"
   },
   {
    "duration": 13,
    "start_time": "2021-12-20T18:19:47.779Z"
   },
   {
    "duration": 47,
    "start_time": "2021-12-20T18:19:47.795Z"
   },
   {
    "duration": 22,
    "start_time": "2021-12-20T18:19:47.845Z"
   },
   {
    "duration": 3632,
    "start_time": "2021-12-20T18:19:47.869Z"
   },
   {
    "duration": 3436,
    "start_time": "2021-12-20T18:20:03.341Z"
   },
   {
    "duration": 3391,
    "start_time": "2021-12-20T18:20:33.081Z"
   },
   {
    "duration": 3875,
    "start_time": "2021-12-20T18:22:23.979Z"
   },
   {
    "duration": 3704,
    "start_time": "2021-12-20T18:23:41.765Z"
   },
   {
    "duration": 3708,
    "start_time": "2021-12-20T18:26:04.355Z"
   },
   {
    "duration": 3923,
    "start_time": "2021-12-20T18:28:51.223Z"
   },
   {
    "duration": 4078,
    "start_time": "2021-12-20T18:29:06.725Z"
   },
   {
    "duration": 4039,
    "start_time": "2021-12-20T18:29:37.510Z"
   },
   {
    "duration": 6845,
    "start_time": "2021-12-20T18:32:45.901Z"
   },
   {
    "duration": 73,
    "start_time": "2021-12-20T18:33:05.546Z"
   },
   {
    "duration": 19,
    "start_time": "2021-12-20T18:33:05.622Z"
   },
   {
    "duration": 13,
    "start_time": "2021-12-20T18:33:05.643Z"
   },
   {
    "duration": 13,
    "start_time": "2021-12-20T18:33:05.658Z"
   },
   {
    "duration": 9,
    "start_time": "2021-12-20T18:33:05.673Z"
   },
   {
    "duration": 5,
    "start_time": "2021-12-20T18:33:05.684Z"
   },
   {
    "duration": 19,
    "start_time": "2021-12-20T18:33:05.690Z"
   },
   {
    "duration": 47,
    "start_time": "2021-12-20T18:33:05.711Z"
   },
   {
    "duration": 7,
    "start_time": "2021-12-20T18:33:05.760Z"
   },
   {
    "duration": 7,
    "start_time": "2021-12-20T18:33:05.769Z"
   },
   {
    "duration": 8,
    "start_time": "2021-12-20T18:33:05.778Z"
   },
   {
    "duration": 10,
    "start_time": "2021-12-20T18:33:05.788Z"
   },
   {
    "duration": 41,
    "start_time": "2021-12-20T18:33:05.800Z"
   },
   {
    "duration": 12,
    "start_time": "2021-12-20T18:33:05.843Z"
   },
   {
    "duration": 11,
    "start_time": "2021-12-20T18:33:05.857Z"
   },
   {
    "duration": 23,
    "start_time": "2021-12-20T18:33:05.870Z"
   },
   {
    "duration": 20,
    "start_time": "2021-12-20T18:33:05.895Z"
   },
   {
    "duration": 6776,
    "start_time": "2021-12-20T18:33:05.917Z"
   },
   {
    "duration": 301,
    "start_time": "2021-12-20T18:42:50.297Z"
   },
   {
    "duration": 7,
    "start_time": "2021-12-20T18:43:13.343Z"
   },
   {
    "duration": 6,
    "start_time": "2021-12-20T18:43:23.598Z"
   },
   {
    "duration": 5,
    "start_time": "2021-12-20T18:44:13.785Z"
   },
   {
    "duration": 9,
    "start_time": "2021-12-20T18:44:41.863Z"
   },
   {
    "duration": 90,
    "start_time": "2021-12-20T18:47:09.944Z"
   },
   {
    "duration": 110,
    "start_time": "2021-12-20T18:47:19.092Z"
   },
   {
    "duration": 12,
    "start_time": "2021-12-20T18:47:52.724Z"
   },
   {
    "duration": 7,
    "start_time": "2021-12-20T18:48:00.993Z"
   },
   {
    "duration": 9,
    "start_time": "2021-12-20T18:48:18.595Z"
   },
   {
    "duration": 28,
    "start_time": "2021-12-20T18:49:37.488Z"
   },
   {
    "duration": 10,
    "start_time": "2021-12-20T18:50:50.849Z"
   },
   {
    "duration": 66,
    "start_time": "2021-12-20T18:53:17.709Z"
   },
   {
    "duration": 80,
    "start_time": "2021-12-20T18:53:17.777Z"
   },
   {
    "duration": 11,
    "start_time": "2021-12-20T18:53:17.859Z"
   },
   {
    "duration": 10,
    "start_time": "2021-12-20T18:53:17.872Z"
   },
   {
    "duration": 9,
    "start_time": "2021-12-20T18:53:17.884Z"
   },
   {
    "duration": 5,
    "start_time": "2021-12-20T18:53:17.895Z"
   },
   {
    "duration": 47,
    "start_time": "2021-12-20T18:53:17.902Z"
   },
   {
    "duration": 1477,
    "start_time": "2021-12-20T18:53:17.952Z"
   },
   {
    "duration": -1905,
    "start_time": "2021-12-20T18:53:21.337Z"
   },
   {
    "duration": -1908,
    "start_time": "2021-12-20T18:53:21.342Z"
   },
   {
    "duration": -1910,
    "start_time": "2021-12-20T18:53:21.346Z"
   },
   {
    "duration": -1911,
    "start_time": "2021-12-20T18:53:21.349Z"
   },
   {
    "duration": -1918,
    "start_time": "2021-12-20T18:53:21.357Z"
   },
   {
    "duration": -1920,
    "start_time": "2021-12-20T18:53:21.361Z"
   },
   {
    "duration": -1922,
    "start_time": "2021-12-20T18:53:21.364Z"
   },
   {
    "duration": -1923,
    "start_time": "2021-12-20T18:53:21.367Z"
   },
   {
    "duration": -1923,
    "start_time": "2021-12-20T18:53:21.369Z"
   },
   {
    "duration": -1924,
    "start_time": "2021-12-20T18:53:21.372Z"
   },
   {
    "duration": -1925,
    "start_time": "2021-12-20T18:53:21.374Z"
   },
   {
    "duration": -1926,
    "start_time": "2021-12-20T18:53:21.377Z"
   },
   {
    "duration": 70,
    "start_time": "2021-12-20T18:58:09.456Z"
   },
   {
    "duration": 12,
    "start_time": "2021-12-20T18:58:09.528Z"
   },
   {
    "duration": 11,
    "start_time": "2021-12-20T18:58:09.542Z"
   },
   {
    "duration": 9,
    "start_time": "2021-12-20T18:58:09.555Z"
   },
   {
    "duration": 9,
    "start_time": "2021-12-20T18:58:09.566Z"
   },
   {
    "duration": 5,
    "start_time": "2021-12-20T18:58:09.578Z"
   },
   {
    "duration": 15,
    "start_time": "2021-12-20T18:58:09.585Z"
   },
   {
    "duration": 41,
    "start_time": "2021-12-20T18:58:09.603Z"
   },
   {
    "duration": 22,
    "start_time": "2021-12-20T18:58:09.646Z"
   },
   {
    "duration": 11,
    "start_time": "2021-12-20T18:58:09.670Z"
   },
   {
    "duration": 10,
    "start_time": "2021-12-20T18:58:09.683Z"
   },
   {
    "duration": 9,
    "start_time": "2021-12-20T18:58:09.695Z"
   },
   {
    "duration": 8,
    "start_time": "2021-12-20T18:58:09.706Z"
   },
   {
    "duration": 12,
    "start_time": "2021-12-20T18:58:09.742Z"
   },
   {
    "duration": 8,
    "start_time": "2021-12-20T18:58:09.756Z"
   },
   {
    "duration": 12,
    "start_time": "2021-12-20T18:58:09.766Z"
   },
   {
    "duration": 23,
    "start_time": "2021-12-20T18:58:09.780Z"
   },
   {
    "duration": 44,
    "start_time": "2021-12-20T18:58:09.805Z"
   },
   {
    "duration": 6795,
    "start_time": "2021-12-20T18:58:09.850Z"
   },
   {
    "duration": 12,
    "start_time": "2021-12-20T18:58:16.648Z"
   },
   {
    "duration": 12,
    "start_time": "2021-12-20T19:09:21.730Z"
   },
   {
    "duration": 18,
    "start_time": "2021-12-20T20:02:34.426Z"
   },
   {
    "duration": 19,
    "start_time": "2021-12-20T20:03:23.072Z"
   },
   {
    "duration": 79,
    "start_time": "2021-12-20T20:07:56.089Z"
   },
   {
    "duration": 14,
    "start_time": "2021-12-20T20:07:56.170Z"
   },
   {
    "duration": 17,
    "start_time": "2021-12-20T20:07:56.187Z"
   },
   {
    "duration": 34,
    "start_time": "2021-12-20T20:07:56.206Z"
   },
   {
    "duration": 19,
    "start_time": "2021-12-20T20:07:56.242Z"
   },
   {
    "duration": 24,
    "start_time": "2021-12-20T20:07:56.263Z"
   },
   {
    "duration": 30,
    "start_time": "2021-12-20T20:07:56.290Z"
   },
   {
    "duration": 11,
    "start_time": "2021-12-20T20:07:56.323Z"
   },
   {
    "duration": 52,
    "start_time": "2021-12-20T20:07:56.338Z"
   },
   {
    "duration": 29,
    "start_time": "2021-12-20T20:07:56.393Z"
   },
   {
    "duration": 35,
    "start_time": "2021-12-20T20:07:56.424Z"
   },
   {
    "duration": 17,
    "start_time": "2021-12-20T20:07:56.461Z"
   },
   {
    "duration": 34,
    "start_time": "2021-12-20T20:07:56.480Z"
   },
   {
    "duration": 29,
    "start_time": "2021-12-20T20:07:56.518Z"
   },
   {
    "duration": 25,
    "start_time": "2021-12-20T20:07:56.549Z"
   },
   {
    "duration": 28,
    "start_time": "2021-12-20T20:07:56.576Z"
   },
   {
    "duration": 50,
    "start_time": "2021-12-20T20:07:56.607Z"
   },
   {
    "duration": 21,
    "start_time": "2021-12-20T20:07:56.659Z"
   },
   {
    "duration": 8349,
    "start_time": "2021-12-20T20:07:56.682Z"
   },
   {
    "duration": 83,
    "start_time": "2021-12-20T20:09:40.101Z"
   },
   {
    "duration": 16,
    "start_time": "2021-12-20T20:09:40.186Z"
   },
   {
    "duration": 10,
    "start_time": "2021-12-20T20:09:40.205Z"
   },
   {
    "duration": 42,
    "start_time": "2021-12-20T20:09:40.217Z"
   },
   {
    "duration": 10,
    "start_time": "2021-12-20T20:09:40.261Z"
   },
   {
    "duration": 6,
    "start_time": "2021-12-20T20:09:40.274Z"
   },
   {
    "duration": 15,
    "start_time": "2021-12-20T20:09:40.282Z"
   },
   {
    "duration": 5,
    "start_time": "2021-12-20T20:09:40.299Z"
   },
   {
    "duration": 51,
    "start_time": "2021-12-20T20:09:40.307Z"
   },
   {
    "duration": 9,
    "start_time": "2021-12-20T20:09:40.360Z"
   },
   {
    "duration": 9,
    "start_time": "2021-12-20T20:09:40.371Z"
   },
   {
    "duration": 9,
    "start_time": "2021-12-20T20:09:40.382Z"
   },
   {
    "duration": 9,
    "start_time": "2021-12-20T20:09:40.393Z"
   },
   {
    "duration": 39,
    "start_time": "2021-12-20T20:09:40.404Z"
   },
   {
    "duration": 12,
    "start_time": "2021-12-20T20:09:40.445Z"
   },
   {
    "duration": 14,
    "start_time": "2021-12-20T20:09:40.459Z"
   },
   {
    "duration": 32,
    "start_time": "2021-12-20T20:09:40.476Z"
   },
   {
    "duration": 52,
    "start_time": "2021-12-20T20:09:40.510Z"
   },
   {
    "duration": 7706,
    "start_time": "2021-12-20T20:09:40.565Z"
   },
   {
    "duration": 293,
    "start_time": "2021-12-20T20:31:17.695Z"
   },
   {
    "duration": 22,
    "start_time": "2021-12-20T20:31:26.970Z"
   },
   {
    "duration": 23,
    "start_time": "2021-12-20T20:33:22.273Z"
   },
   {
    "duration": 11,
    "start_time": "2021-12-20T20:33:38.806Z"
   },
   {
    "duration": 73,
    "start_time": "2021-12-20T20:50:55.086Z"
   },
   {
    "duration": 15,
    "start_time": "2021-12-20T20:50:55.161Z"
   },
   {
    "duration": 25,
    "start_time": "2021-12-20T20:50:55.179Z"
   },
   {
    "duration": 22,
    "start_time": "2021-12-20T20:50:55.206Z"
   },
   {
    "duration": 32,
    "start_time": "2021-12-20T20:50:55.230Z"
   },
   {
    "duration": 24,
    "start_time": "2021-12-20T20:50:55.265Z"
   },
   {
    "duration": 25,
    "start_time": "2021-12-20T20:50:55.291Z"
   },
   {
    "duration": 14,
    "start_time": "2021-12-20T20:50:55.318Z"
   },
   {
    "duration": 53,
    "start_time": "2021-12-20T20:50:55.335Z"
   },
   {
    "duration": 11,
    "start_time": "2021-12-20T20:50:55.390Z"
   },
   {
    "duration": 11,
    "start_time": "2021-12-20T20:50:55.403Z"
   },
   {
    "duration": 7,
    "start_time": "2021-12-20T20:50:55.416Z"
   },
   {
    "duration": 9,
    "start_time": "2021-12-20T20:50:55.424Z"
   },
   {
    "duration": 30,
    "start_time": "2021-12-20T20:50:55.434Z"
   },
   {
    "duration": 10,
    "start_time": "2021-12-20T20:50:55.467Z"
   },
   {
    "duration": 15,
    "start_time": "2021-12-20T20:50:55.479Z"
   },
   {
    "duration": 21,
    "start_time": "2021-12-20T20:50:55.496Z"
   },
   {
    "duration": 35,
    "start_time": "2021-12-20T20:50:55.518Z"
   },
   {
    "duration": 7900,
    "start_time": "2021-12-20T20:50:55.556Z"
   },
   {
    "duration": 87,
    "start_time": "2021-12-20T20:51:03.458Z"
   },
   {
    "duration": -1684,
    "start_time": "2021-12-20T20:51:05.232Z"
   },
   {
    "duration": 310,
    "start_time": "2021-12-20T20:51:23.678Z"
   },
   {
    "duration": 304,
    "start_time": "2021-12-20T20:52:48.618Z"
   },
   {
    "duration": 287,
    "start_time": "2021-12-20T20:53:04.381Z"
   },
   {
    "duration": 269,
    "start_time": "2021-12-20T20:55:57.179Z"
   },
   {
    "duration": 97,
    "start_time": "2021-12-20T20:56:36.009Z"
   },
   {
    "duration": 292,
    "start_time": "2021-12-20T20:57:05.304Z"
   },
   {
    "duration": 85,
    "start_time": "2021-12-20T20:59:40.521Z"
   },
   {
    "duration": 102,
    "start_time": "2021-12-20T21:00:04.862Z"
   },
   {
    "duration": 280,
    "start_time": "2021-12-20T21:00:15.498Z"
   },
   {
    "duration": 293,
    "start_time": "2021-12-20T21:00:46.375Z"
   },
   {
    "duration": 411,
    "start_time": "2021-12-20T21:00:53.061Z"
   },
   {
    "duration": 294,
    "start_time": "2021-12-20T21:01:09.092Z"
   },
   {
    "duration": 286,
    "start_time": "2021-12-20T21:01:35.223Z"
   },
   {
    "duration": 313,
    "start_time": "2021-12-20T21:01:46.912Z"
   },
   {
    "duration": 523,
    "start_time": "2021-12-20T21:09:56.777Z"
   },
   {
    "duration": 517,
    "start_time": "2021-12-20T21:10:43.413Z"
   },
   {
    "duration": 255,
    "start_time": "2021-12-20T21:11:38.881Z"
   },
   {
    "duration": 257,
    "start_time": "2021-12-20T21:11:43.245Z"
   },
   {
    "duration": 259,
    "start_time": "2021-12-20T21:16:15.182Z"
   },
   {
    "duration": 263,
    "start_time": "2021-12-20T21:16:37.571Z"
   },
   {
    "duration": 248,
    "start_time": "2021-12-20T21:17:06.402Z"
   },
   {
    "duration": 286,
    "start_time": "2021-12-20T21:18:29.847Z"
   },
   {
    "duration": 557,
    "start_time": "2021-12-20T21:19:06.767Z"
   },
   {
    "duration": 255,
    "start_time": "2021-12-20T21:19:17.858Z"
   },
   {
    "duration": 672,
    "start_time": "2021-12-20T21:19:23.890Z"
   },
   {
    "duration": 323,
    "start_time": "2021-12-20T21:19:36.911Z"
   },
   {
    "duration": 284,
    "start_time": "2021-12-20T21:19:45.337Z"
   },
   {
    "duration": 415,
    "start_time": "2021-12-20T21:19:58.559Z"
   },
   {
    "duration": 279,
    "start_time": "2021-12-20T21:20:32.206Z"
   },
   {
    "duration": 272,
    "start_time": "2021-12-20T21:20:58.876Z"
   },
   {
    "duration": 266,
    "start_time": "2021-12-20T21:21:02.679Z"
   },
   {
    "duration": 253,
    "start_time": "2021-12-20T21:21:16.090Z"
   },
   {
    "duration": 66,
    "start_time": "2021-12-20T21:21:22.967Z"
   },
   {
    "duration": 12,
    "start_time": "2021-12-20T21:21:23.035Z"
   },
   {
    "duration": 11,
    "start_time": "2021-12-20T21:21:23.049Z"
   },
   {
    "duration": 9,
    "start_time": "2021-12-20T21:21:23.062Z"
   },
   {
    "duration": 9,
    "start_time": "2021-12-20T21:21:23.073Z"
   },
   {
    "duration": 5,
    "start_time": "2021-12-20T21:21:23.084Z"
   },
   {
    "duration": 14,
    "start_time": "2021-12-20T21:21:23.090Z"
   },
   {
    "duration": 36,
    "start_time": "2021-12-20T21:21:23.106Z"
   },
   {
    "duration": 19,
    "start_time": "2021-12-20T21:21:23.145Z"
   },
   {
    "duration": 8,
    "start_time": "2021-12-20T21:21:23.166Z"
   },
   {
    "duration": 9,
    "start_time": "2021-12-20T21:21:23.176Z"
   },
   {
    "duration": 11,
    "start_time": "2021-12-20T21:21:23.187Z"
   },
   {
    "duration": 42,
    "start_time": "2021-12-20T21:21:23.199Z"
   },
   {
    "duration": 11,
    "start_time": "2021-12-20T21:21:23.243Z"
   },
   {
    "duration": 8,
    "start_time": "2021-12-20T21:21:23.256Z"
   },
   {
    "duration": 14,
    "start_time": "2021-12-20T21:21:23.266Z"
   },
   {
    "duration": 21,
    "start_time": "2021-12-20T21:21:23.282Z"
   },
   {
    "duration": 49,
    "start_time": "2021-12-20T21:21:23.305Z"
   },
   {
    "duration": 7520,
    "start_time": "2021-12-20T21:21:23.356Z"
   },
   {
    "duration": 287,
    "start_time": "2021-12-20T21:21:30.878Z"
   },
   {
    "duration": 251,
    "start_time": "2021-12-20T21:25:58.459Z"
   },
   {
    "duration": 11,
    "start_time": "2021-12-20T21:26:17.484Z"
   },
   {
    "duration": 252,
    "start_time": "2021-12-20T21:26:42.325Z"
   },
   {
    "duration": 11,
    "start_time": "2021-12-20T21:39:00.548Z"
   },
   {
    "duration": 428,
    "start_time": "2021-12-20T21:43:54.226Z"
   },
   {
    "duration": 14,
    "start_time": "2021-12-20T21:44:10.590Z"
   },
   {
    "duration": 68,
    "start_time": "2021-12-20T21:50:51.758Z"
   },
   {
    "duration": 12,
    "start_time": "2021-12-20T21:50:51.828Z"
   },
   {
    "duration": 15,
    "start_time": "2021-12-20T21:50:51.843Z"
   },
   {
    "duration": 16,
    "start_time": "2021-12-20T21:50:51.860Z"
   },
   {
    "duration": 9,
    "start_time": "2021-12-20T21:50:51.878Z"
   },
   {
    "duration": 5,
    "start_time": "2021-12-20T21:50:51.889Z"
   },
   {
    "duration": 14,
    "start_time": "2021-12-20T21:50:51.896Z"
   },
   {
    "duration": 32,
    "start_time": "2021-12-20T21:50:51.912Z"
   },
   {
    "duration": 28,
    "start_time": "2021-12-20T21:50:51.947Z"
   },
   {
    "duration": 8,
    "start_time": "2021-12-20T21:50:51.978Z"
   },
   {
    "duration": 10,
    "start_time": "2021-12-20T21:50:51.988Z"
   },
   {
    "duration": 14,
    "start_time": "2021-12-20T21:50:52.000Z"
   },
   {
    "duration": 29,
    "start_time": "2021-12-20T21:50:52.016Z"
   },
   {
    "duration": 14,
    "start_time": "2021-12-20T21:50:52.047Z"
   },
   {
    "duration": 14,
    "start_time": "2021-12-20T21:50:52.063Z"
   },
   {
    "duration": 12,
    "start_time": "2021-12-20T21:50:52.079Z"
   },
   {
    "duration": 24,
    "start_time": "2021-12-20T21:50:52.093Z"
   },
   {
    "duration": 23,
    "start_time": "2021-12-20T21:50:52.142Z"
   },
   {
    "duration": 7204,
    "start_time": "2021-12-20T21:50:52.168Z"
   },
   {
    "duration": 558,
    "start_time": "2021-12-20T21:50:59.374Z"
   },
   {
    "duration": -1603,
    "start_time": "2021-12-20T21:51:01.537Z"
   },
   {
    "duration": -1609,
    "start_time": "2021-12-20T21:51:01.545Z"
   },
   {
    "duration": 549,
    "start_time": "2021-12-20T21:51:27.035Z"
   },
   {
    "duration": 258,
    "start_time": "2021-12-20T21:52:03.361Z"
   },
   {
    "duration": 21,
    "start_time": "2021-12-20T21:52:14.424Z"
   },
   {
    "duration": 14,
    "start_time": "2021-12-20T21:52:17.668Z"
   },
   {
    "duration": 435,
    "start_time": "2021-12-20T21:52:59.544Z"
   },
   {
    "duration": 281,
    "start_time": "2021-12-20T21:53:06.852Z"
   },
   {
    "duration": 21,
    "start_time": "2021-12-20T21:53:10.970Z"
   },
   {
    "duration": 10,
    "start_time": "2021-12-20T21:57:22.026Z"
   },
   {
    "duration": 12,
    "start_time": "2021-12-20T21:57:41.239Z"
   },
   {
    "duration": 271,
    "start_time": "2021-12-20T22:10:58.887Z"
   },
   {
    "duration": 259,
    "start_time": "2021-12-20T22:14:59.360Z"
   },
   {
    "duration": 366,
    "start_time": "2021-12-20T22:17:09.939Z"
   },
   {
    "duration": 252,
    "start_time": "2021-12-20T22:17:33.835Z"
   },
   {
    "duration": 10,
    "start_time": "2021-12-20T22:23:33.618Z"
   },
   {
    "duration": 10,
    "start_time": "2021-12-20T22:32:54.515Z"
   },
   {
    "duration": 11,
    "start_time": "2021-12-20T22:32:54.527Z"
   },
   {
    "duration": 11,
    "start_time": "2021-12-20T22:32:54.540Z"
   },
   {
    "duration": 10,
    "start_time": "2021-12-20T22:32:54.553Z"
   },
   {
    "duration": 4,
    "start_time": "2021-12-20T22:35:21.524Z"
   },
   {
    "duration": 5,
    "start_time": "2021-12-20T22:36:49.820Z"
   },
   {
    "duration": 8,
    "start_time": "2021-12-20T22:36:58.770Z"
   },
   {
    "duration": 5,
    "start_time": "2021-12-20T22:38:02.388Z"
   },
   {
    "duration": 5,
    "start_time": "2021-12-20T22:43:51.594Z"
   },
   {
    "duration": 7,
    "start_time": "2021-12-20T22:44:14.937Z"
   },
   {
    "duration": 5,
    "start_time": "2021-12-20T22:46:06.037Z"
   },
   {
    "duration": 5,
    "start_time": "2021-12-20T22:46:09.586Z"
   },
   {
    "duration": 277,
    "start_time": "2021-12-20T22:55:28.733Z"
   },
   {
    "duration": 268,
    "start_time": "2021-12-20T23:02:29.713Z"
   },
   {
    "duration": 284,
    "start_time": "2021-12-20T23:03:29.195Z"
   },
   {
    "duration": 11,
    "start_time": "2021-12-20T23:10:34.177Z"
   },
   {
    "duration": 10,
    "start_time": "2021-12-20T23:21:22.600Z"
   },
   {
    "duration": 253,
    "start_time": "2021-12-20T23:23:12.829Z"
   },
   {
    "duration": 268,
    "start_time": "2021-12-20T23:23:50.681Z"
   },
   {
    "duration": 11,
    "start_time": "2021-12-20T23:24:17.028Z"
   },
   {
    "duration": 11,
    "start_time": "2021-12-20T23:24:35.133Z"
   },
   {
    "duration": 71,
    "start_time": "2021-12-20T23:26:04.069Z"
   },
   {
    "duration": 18,
    "start_time": "2021-12-20T23:26:04.143Z"
   },
   {
    "duration": 18,
    "start_time": "2021-12-20T23:26:04.163Z"
   },
   {
    "duration": 11,
    "start_time": "2021-12-20T23:26:04.184Z"
   },
   {
    "duration": 12,
    "start_time": "2021-12-20T23:26:04.197Z"
   },
   {
    "duration": 31,
    "start_time": "2021-12-20T23:26:04.210Z"
   },
   {
    "duration": 16,
    "start_time": "2021-12-20T23:26:04.244Z"
   },
   {
    "duration": 6,
    "start_time": "2021-12-20T23:26:04.263Z"
   },
   {
    "duration": 23,
    "start_time": "2021-12-20T23:26:04.272Z"
   },
   {
    "duration": 13,
    "start_time": "2021-12-20T23:26:04.297Z"
   },
   {
    "duration": 41,
    "start_time": "2021-12-20T23:26:04.312Z"
   },
   {
    "duration": 14,
    "start_time": "2021-12-20T23:26:04.356Z"
   },
   {
    "duration": 15,
    "start_time": "2021-12-20T23:26:04.372Z"
   },
   {
    "duration": 9,
    "start_time": "2021-12-20T23:26:04.389Z"
   },
   {
    "duration": 10,
    "start_time": "2021-12-20T23:26:04.400Z"
   },
   {
    "duration": 12,
    "start_time": "2021-12-20T23:26:04.412Z"
   },
   {
    "duration": 37,
    "start_time": "2021-12-20T23:26:04.426Z"
   },
   {
    "duration": 20,
    "start_time": "2021-12-20T23:26:04.466Z"
   },
   {
    "duration": 6995,
    "start_time": "2021-12-20T23:26:04.488Z"
   },
   {
    "duration": 280,
    "start_time": "2021-12-20T23:26:11.486Z"
   },
   {
    "duration": 265,
    "start_time": "2021-12-20T23:26:11.768Z"
   },
   {
    "duration": 11,
    "start_time": "2021-12-20T23:26:12.035Z"
   },
   {
    "duration": 275,
    "start_time": "2021-12-20T23:26:12.049Z"
   },
   {
    "duration": 23,
    "start_time": "2021-12-20T23:26:12.326Z"
   },
   {
    "duration": 12,
    "start_time": "2021-12-20T23:26:12.351Z"
   },
   {
    "duration": 11,
    "start_time": "2021-12-20T23:26:12.365Z"
   },
   {
    "duration": 11,
    "start_time": "2021-12-20T23:26:12.379Z"
   },
   {
    "duration": 12,
    "start_time": "2021-12-20T23:26:12.392Z"
   },
   {
    "duration": 46,
    "start_time": "2021-12-20T23:26:12.406Z"
   },
   {
    "duration": 22,
    "start_time": "2021-12-20T23:31:46.448Z"
   },
   {
    "duration": 17,
    "start_time": "2021-12-20T23:32:18.110Z"
   },
   {
    "duration": 22,
    "start_time": "2021-12-20T23:32:31.961Z"
   },
   {
    "duration": 15,
    "start_time": "2021-12-20T23:32:50.978Z"
   },
   {
    "duration": 83,
    "start_time": "2021-12-20T23:36:24.320Z"
   },
   {
    "duration": 28,
    "start_time": "2021-12-20T23:36:57.768Z"
   },
   {
    "duration": 23,
    "start_time": "2021-12-20T23:37:43.608Z"
   },
   {
    "duration": 79,
    "start_time": "2021-12-20T23:39:43.703Z"
   },
   {
    "duration": 244,
    "start_time": "2021-12-20T23:40:00.453Z"
   },
   {
    "duration": 22,
    "start_time": "2021-12-20T23:40:21.164Z"
   },
   {
    "duration": 25,
    "start_time": "2021-12-20T23:40:30.369Z"
   },
   {
    "duration": 24,
    "start_time": "2021-12-20T23:40:55.094Z"
   },
   {
    "duration": 78,
    "start_time": "2021-12-20T23:46:26.355Z"
   },
   {
    "duration": 78,
    "start_time": "2021-12-20T23:47:04.366Z"
   },
   {
    "duration": 78,
    "start_time": "2021-12-20T23:48:38.856Z"
   },
   {
    "duration": 27,
    "start_time": "2021-12-20T23:49:12.618Z"
   },
   {
    "duration": 38,
    "start_time": "2021-12-20T23:49:29.503Z"
   },
   {
    "duration": 26,
    "start_time": "2021-12-20T23:50:56.636Z"
   },
   {
    "duration": 39,
    "start_time": "2021-12-20T23:51:16.988Z"
   },
   {
    "duration": 20,
    "start_time": "2021-12-20T23:58:18.917Z"
   },
   {
    "duration": 22,
    "start_time": "2021-12-20T23:59:52.280Z"
   },
   {
    "duration": 82,
    "start_time": "2021-12-21T00:19:04.082Z"
   },
   {
    "duration": 21,
    "start_time": "2021-12-21T00:19:15.666Z"
   },
   {
    "duration": 32,
    "start_time": "2021-12-21T00:19:22.715Z"
   },
   {
    "duration": 26,
    "start_time": "2021-12-21T00:21:46.639Z"
   },
   {
    "duration": 27,
    "start_time": "2021-12-21T00:23:57.221Z"
   },
   {
    "duration": 26,
    "start_time": "2021-12-21T00:24:40.500Z"
   },
   {
    "duration": 30,
    "start_time": "2021-12-21T00:27:40.873Z"
   },
   {
    "duration": 30,
    "start_time": "2021-12-21T00:28:04.198Z"
   },
   {
    "duration": 29,
    "start_time": "2021-12-21T00:28:34.397Z"
   },
   {
    "duration": 25,
    "start_time": "2021-12-21T00:28:54.305Z"
   },
   {
    "duration": 24,
    "start_time": "2021-12-21T00:30:56.409Z"
   },
   {
    "duration": 25,
    "start_time": "2021-12-21T00:31:17.178Z"
   },
   {
    "duration": 202,
    "start_time": "2021-12-21T07:54:51.091Z"
   },
   {
    "duration": 152,
    "start_time": "2021-12-21T07:56:27.931Z"
   },
   {
    "duration": 148,
    "start_time": "2021-12-21T08:18:40.031Z"
   },
   {
    "duration": 486,
    "start_time": "2021-12-21T08:18:58.183Z"
   },
   {
    "duration": 1700,
    "start_time": "2021-12-21T08:19:08.591Z"
   },
   {
    "duration": 19,
    "start_time": "2021-12-21T08:19:10.294Z"
   },
   {
    "duration": 15,
    "start_time": "2021-12-21T08:19:10.316Z"
   },
   {
    "duration": 10,
    "start_time": "2021-12-21T08:19:10.334Z"
   },
   {
    "duration": 12,
    "start_time": "2021-12-21T08:19:10.347Z"
   },
   {
    "duration": 5,
    "start_time": "2021-12-21T08:19:10.361Z"
   },
   {
    "duration": 45,
    "start_time": "2021-12-21T08:19:10.368Z"
   },
   {
    "duration": 5,
    "start_time": "2021-12-21T08:19:10.415Z"
   },
   {
    "duration": 32,
    "start_time": "2021-12-21T08:19:10.422Z"
   },
   {
    "duration": 7,
    "start_time": "2021-12-21T08:19:10.456Z"
   },
   {
    "duration": 16,
    "start_time": "2021-12-21T08:19:10.464Z"
   },
   {
    "duration": 11,
    "start_time": "2021-12-21T08:19:10.482Z"
   },
   {
    "duration": 17,
    "start_time": "2021-12-21T08:19:10.494Z"
   },
   {
    "duration": 12,
    "start_time": "2021-12-21T08:19:10.512Z"
   },
   {
    "duration": 9,
    "start_time": "2021-12-21T08:19:10.525Z"
   },
   {
    "duration": 9,
    "start_time": "2021-12-21T08:19:10.536Z"
   },
   {
    "duration": 19,
    "start_time": "2021-12-21T08:19:10.548Z"
   },
   {
    "duration": 47,
    "start_time": "2021-12-21T08:19:10.568Z"
   },
   {
    "duration": 6630,
    "start_time": "2021-12-21T08:19:10.617Z"
   },
   {
    "duration": 251,
    "start_time": "2021-12-21T08:19:17.249Z"
   },
   {
    "duration": 242,
    "start_time": "2021-12-21T08:19:17.502Z"
   },
   {
    "duration": 6,
    "start_time": "2021-12-21T08:19:17.745Z"
   },
   {
    "duration": 239,
    "start_time": "2021-12-21T08:19:17.754Z"
   },
   {
    "duration": 3745,
    "start_time": "2021-12-21T08:19:17.995Z"
   },
   {
    "duration": -100,
    "start_time": "2021-12-21T08:19:21.843Z"
   },
   {
    "duration": -106,
    "start_time": "2021-12-21T08:19:21.850Z"
   },
   {
    "duration": -138,
    "start_time": "2021-12-21T08:19:21.884Z"
   },
   {
    "duration": -141,
    "start_time": "2021-12-21T08:19:21.888Z"
   },
   {
    "duration": -143,
    "start_time": "2021-12-21T08:19:21.892Z"
   },
   {
    "duration": -146,
    "start_time": "2021-12-21T08:19:21.896Z"
   },
   {
    "duration": 13,
    "start_time": "2021-12-21T08:21:22.932Z"
   },
   {
    "duration": 165,
    "start_time": "2021-12-21T08:58:11.311Z"
   },
   {
    "duration": 195,
    "start_time": "2021-12-21T09:01:21.807Z"
   },
   {
    "duration": 115,
    "start_time": "2021-12-21T09:14:02.421Z"
   },
   {
    "duration": 10,
    "start_time": "2021-12-21T09:14:19.133Z"
   },
   {
    "duration": 11,
    "start_time": "2021-12-21T09:15:00.898Z"
   },
   {
    "duration": 3419,
    "start_time": "2021-12-21T09:18:55.581Z"
   },
   {
    "duration": 11,
    "start_time": "2021-12-21T09:19:19.271Z"
   },
   {
    "duration": 11,
    "start_time": "2021-12-21T09:48:13.527Z"
   },
   {
    "duration": 12,
    "start_time": "2021-12-21T09:48:21.602Z"
   },
   {
    "duration": 11,
    "start_time": "2021-12-21T09:49:55.346Z"
   },
   {
    "duration": 11,
    "start_time": "2021-12-21T09:50:59.450Z"
   },
   {
    "duration": 11,
    "start_time": "2021-12-21T09:51:25.841Z"
   },
   {
    "duration": 11,
    "start_time": "2021-12-21T09:51:38.625Z"
   },
   {
    "duration": 12,
    "start_time": "2021-12-21T10:03:20.754Z"
   },
   {
    "duration": 10,
    "start_time": "2021-12-21T10:03:29.149Z"
   },
   {
    "duration": 954,
    "start_time": "2021-12-21T10:03:50.985Z"
   },
   {
    "duration": 12,
    "start_time": "2021-12-21T10:21:46.005Z"
   },
   {
    "duration": 11,
    "start_time": "2021-12-21T10:23:03.784Z"
   },
   {
    "duration": 11,
    "start_time": "2021-12-21T10:26:44.074Z"
   },
   {
    "duration": 12,
    "start_time": "2021-12-21T10:26:57.702Z"
   },
   {
    "duration": 12,
    "start_time": "2021-12-21T10:27:15.243Z"
   },
   {
    "duration": 12,
    "start_time": "2021-12-21T10:39:07.019Z"
   },
   {
    "duration": 66,
    "start_time": "2021-12-21T10:41:40.153Z"
   },
   {
    "duration": 11,
    "start_time": "2021-12-21T10:41:40.221Z"
   },
   {
    "duration": 10,
    "start_time": "2021-12-21T10:41:40.235Z"
   },
   {
    "duration": 8,
    "start_time": "2021-12-21T10:41:40.247Z"
   },
   {
    "duration": 8,
    "start_time": "2021-12-21T10:41:40.257Z"
   },
   {
    "duration": 40,
    "start_time": "2021-12-21T10:41:40.267Z"
   },
   {
    "duration": 13,
    "start_time": "2021-12-21T10:41:40.308Z"
   },
   {
    "duration": 3,
    "start_time": "2021-12-21T10:41:40.323Z"
   },
   {
    "duration": 22,
    "start_time": "2021-12-21T10:41:40.329Z"
   },
   {
    "duration": 6,
    "start_time": "2021-12-21T10:41:40.353Z"
   },
   {
    "duration": 9,
    "start_time": "2021-12-21T10:41:40.360Z"
   },
   {
    "duration": 38,
    "start_time": "2021-12-21T10:41:40.371Z"
   },
   {
    "duration": 7,
    "start_time": "2021-12-21T10:41:40.410Z"
   },
   {
    "duration": 24,
    "start_time": "2021-12-21T10:41:40.418Z"
   },
   {
    "duration": 17,
    "start_time": "2021-12-21T10:41:40.444Z"
   },
   {
    "duration": 25,
    "start_time": "2021-12-21T10:41:40.463Z"
   },
   {
    "duration": 25,
    "start_time": "2021-12-21T10:41:40.489Z"
   },
   {
    "duration": 17,
    "start_time": "2021-12-21T10:41:40.516Z"
   },
   {
    "duration": 86,
    "start_time": "2021-12-21T10:41:47.659Z"
   },
   {
    "duration": 12,
    "start_time": "2021-12-21T10:41:47.747Z"
   },
   {
    "duration": 11,
    "start_time": "2021-12-21T10:41:47.761Z"
   },
   {
    "duration": 37,
    "start_time": "2021-12-21T10:41:47.775Z"
   },
   {
    "duration": 10,
    "start_time": "2021-12-21T10:41:47.814Z"
   },
   {
    "duration": 6,
    "start_time": "2021-12-21T10:41:47.826Z"
   },
   {
    "duration": 12,
    "start_time": "2021-12-21T10:41:47.833Z"
   },
   {
    "duration": 4,
    "start_time": "2021-12-21T10:41:47.847Z"
   },
   {
    "duration": 58,
    "start_time": "2021-12-21T10:41:47.853Z"
   },
   {
    "duration": 6,
    "start_time": "2021-12-21T10:41:47.913Z"
   },
   {
    "duration": 8,
    "start_time": "2021-12-21T10:41:47.921Z"
   },
   {
    "duration": 7,
    "start_time": "2021-12-21T10:41:47.931Z"
   },
   {
    "duration": 5,
    "start_time": "2021-12-21T10:41:47.940Z"
   },
   {
    "duration": 9,
    "start_time": "2021-12-21T10:41:47.947Z"
   },
   {
    "duration": 7,
    "start_time": "2021-12-21T10:41:47.958Z"
   },
   {
    "duration": 8,
    "start_time": "2021-12-21T10:41:48.006Z"
   },
   {
    "duration": 18,
    "start_time": "2021-12-21T10:41:48.016Z"
   },
   {
    "duration": 27,
    "start_time": "2021-12-21T10:41:48.036Z"
   },
   {
    "duration": 6075,
    "start_time": "2021-12-21T10:41:48.065Z"
   },
   {
    "duration": 242,
    "start_time": "2021-12-21T10:41:54.142Z"
   },
   {
    "duration": 239,
    "start_time": "2021-12-21T10:41:54.386Z"
   },
   {
    "duration": 4,
    "start_time": "2021-12-21T10:41:54.627Z"
   },
   {
    "duration": 246,
    "start_time": "2021-12-21T10:41:54.633Z"
   },
   {
    "duration": 11,
    "start_time": "2021-12-21T10:41:54.881Z"
   },
   {
    "duration": 20,
    "start_time": "2021-12-21T10:41:54.894Z"
   },
   {
    "duration": 11,
    "start_time": "2021-12-21T10:41:54.916Z"
   },
   {
    "duration": 11,
    "start_time": "2021-12-21T10:41:54.929Z"
   },
   {
    "duration": 12,
    "start_time": "2021-12-21T10:41:54.941Z"
   },
   {
    "duration": 12,
    "start_time": "2021-12-21T10:41:54.954Z"
   },
   {
    "duration": 57,
    "start_time": "2021-12-21T10:41:54.968Z"
   },
   {
    "duration": 109,
    "start_time": "2021-12-21T10:52:33.560Z"
   },
   {
    "duration": 13,
    "start_time": "2021-12-21T10:57:03.451Z"
   },
   {
    "duration": 11,
    "start_time": "2021-12-21T10:57:34.684Z"
   },
   {
    "duration": 351,
    "start_time": "2021-12-21T12:22:20.881Z"
   },
   {
    "duration": 420,
    "start_time": "2021-12-21T12:22:51.773Z"
   },
   {
    "duration": 363,
    "start_time": "2021-12-21T12:31:31.204Z"
   },
   {
    "duration": 339,
    "start_time": "2021-12-21T12:31:57.990Z"
   },
   {
    "duration": 11116,
    "start_time": "2021-12-21T12:33:38.152Z"
   },
   {
    "duration": 10,
    "start_time": "2021-12-21T12:34:38.072Z"
   },
   {
    "duration": 11,
    "start_time": "2021-12-21T12:35:10.611Z"
   },
   {
    "duration": 10,
    "start_time": "2021-12-21T12:35:17.019Z"
   },
   {
    "duration": 12,
    "start_time": "2021-12-21T12:35:22.039Z"
   },
   {
    "duration": 9,
    "start_time": "2021-12-21T12:35:35.398Z"
   },
   {
    "duration": 10,
    "start_time": "2021-12-21T12:35:48.636Z"
   },
   {
    "duration": 10,
    "start_time": "2021-12-21T12:35:53.592Z"
   },
   {
    "duration": 11,
    "start_time": "2021-12-21T12:35:57.883Z"
   },
   {
    "duration": 10,
    "start_time": "2021-12-21T12:36:07.136Z"
   },
   {
    "duration": 8,
    "start_time": "2021-12-21T12:36:11.044Z"
   },
   {
    "duration": 19,
    "start_time": "2021-12-21T13:12:25.829Z"
   },
   {
    "duration": 62,
    "start_time": "2021-12-21T13:12:33.860Z"
   },
   {
    "duration": 11,
    "start_time": "2021-12-21T13:12:33.923Z"
   },
   {
    "duration": 17,
    "start_time": "2021-12-21T13:12:33.936Z"
   },
   {
    "duration": 14,
    "start_time": "2021-12-21T13:12:33.954Z"
   },
   {
    "duration": 16,
    "start_time": "2021-12-21T13:12:33.969Z"
   },
   {
    "duration": 10,
    "start_time": "2021-12-21T13:12:34.007Z"
   },
   {
    "duration": 6,
    "start_time": "2021-12-21T13:12:34.019Z"
   },
   {
    "duration": 11,
    "start_time": "2021-12-21T13:12:34.027Z"
   },
   {
    "duration": 3,
    "start_time": "2021-12-21T13:12:34.040Z"
   },
   {
    "duration": 20,
    "start_time": "2021-12-21T13:12:34.045Z"
   },
   {
    "duration": 5,
    "start_time": "2021-12-21T13:12:34.067Z"
   },
   {
    "duration": 8,
    "start_time": "2021-12-21T13:12:34.107Z"
   },
   {
    "duration": 9,
    "start_time": "2021-12-21T13:12:34.117Z"
   },
   {
    "duration": 7,
    "start_time": "2021-12-21T13:12:34.128Z"
   },
   {
    "duration": 11,
    "start_time": "2021-12-21T13:12:34.136Z"
   },
   {
    "duration": 9,
    "start_time": "2021-12-21T13:12:34.149Z"
   },
   {
    "duration": 9,
    "start_time": "2021-12-21T13:12:34.160Z"
   },
   {
    "duration": 46,
    "start_time": "2021-12-21T13:12:34.170Z"
   },
   {
    "duration": 18,
    "start_time": "2021-12-21T13:12:34.217Z"
   },
   {
    "duration": 6109,
    "start_time": "2021-12-21T13:12:34.237Z"
   },
   {
    "duration": 244,
    "start_time": "2021-12-21T13:12:40.348Z"
   },
   {
    "duration": 235,
    "start_time": "2021-12-21T13:12:40.593Z"
   },
   {
    "duration": 5,
    "start_time": "2021-12-21T13:12:40.832Z"
   },
   {
    "duration": 277,
    "start_time": "2021-12-21T13:12:40.839Z"
   },
   {
    "duration": 11,
    "start_time": "2021-12-21T13:12:41.118Z"
   },
   {
    "duration": 12,
    "start_time": "2021-12-21T13:12:41.131Z"
   },
   {
    "duration": 12,
    "start_time": "2021-12-21T13:12:41.144Z"
   },
   {
    "duration": 11,
    "start_time": "2021-12-21T13:12:41.157Z"
   },
   {
    "duration": 45,
    "start_time": "2021-12-21T13:12:41.170Z"
   },
   {
    "duration": 11,
    "start_time": "2021-12-21T13:12:41.216Z"
   },
   {
    "duration": 23,
    "start_time": "2021-12-21T13:12:41.229Z"
   },
   {
    "duration": 68,
    "start_time": "2021-12-21T13:17:32.245Z"
   },
   {
    "duration": 11,
    "start_time": "2021-12-21T13:17:32.315Z"
   },
   {
    "duration": 17,
    "start_time": "2021-12-21T13:17:32.328Z"
   },
   {
    "duration": 10,
    "start_time": "2021-12-21T13:17:32.347Z"
   },
   {
    "duration": 9,
    "start_time": "2021-12-21T13:17:32.358Z"
   },
   {
    "duration": 9,
    "start_time": "2021-12-21T13:17:32.407Z"
   },
   {
    "duration": 5,
    "start_time": "2021-12-21T13:17:32.418Z"
   },
   {
    "duration": 11,
    "start_time": "2021-12-21T13:17:32.425Z"
   },
   {
    "duration": 4,
    "start_time": "2021-12-21T13:17:32.438Z"
   },
   {
    "duration": 18,
    "start_time": "2021-12-21T13:17:32.444Z"
   },
   {
    "duration": 6,
    "start_time": "2021-12-21T13:17:32.463Z"
   },
   {
    "duration": 8,
    "start_time": "2021-12-21T13:17:32.507Z"
   },
   {
    "duration": 7,
    "start_time": "2021-12-21T13:17:32.516Z"
   },
   {
    "duration": 7,
    "start_time": "2021-12-21T13:17:32.525Z"
   },
   {
    "duration": 12,
    "start_time": "2021-12-21T13:17:32.534Z"
   },
   {
    "duration": 8,
    "start_time": "2021-12-21T13:17:32.547Z"
   },
   {
    "duration": 52,
    "start_time": "2021-12-21T13:17:32.557Z"
   },
   {
    "duration": 25,
    "start_time": "2021-12-21T13:17:32.611Z"
   },
   {
    "duration": 25,
    "start_time": "2021-12-21T13:17:32.638Z"
   },
   {
    "duration": 7013,
    "start_time": "2021-12-21T13:17:32.665Z"
   },
   {
    "duration": 259,
    "start_time": "2021-12-21T13:17:39.680Z"
   },
   {
    "duration": 245,
    "start_time": "2021-12-21T13:17:39.941Z"
   },
   {
    "duration": 6,
    "start_time": "2021-12-21T13:17:40.189Z"
   },
   {
    "duration": 247,
    "start_time": "2021-12-21T13:17:40.207Z"
   },
   {
    "duration": 11,
    "start_time": "2021-12-21T13:17:40.455Z"
   },
   {
    "duration": 11,
    "start_time": "2021-12-21T13:17:40.467Z"
   },
   {
    "duration": 33,
    "start_time": "2021-12-21T13:17:40.481Z"
   },
   {
    "duration": 13,
    "start_time": "2021-12-21T13:17:40.516Z"
   },
   {
    "duration": 12,
    "start_time": "2021-12-21T13:17:40.531Z"
   },
   {
    "duration": 11,
    "start_time": "2021-12-21T13:17:40.544Z"
   },
   {
    "duration": 56,
    "start_time": "2021-12-21T13:17:40.557Z"
   },
   {
    "duration": 8412,
    "start_time": "2021-12-21T13:29:14.147Z"
   },
   {
    "duration": 229,
    "start_time": "2021-12-21T13:30:29.832Z"
   },
   {
    "duration": 70,
    "start_time": "2021-12-21T13:33:03.584Z"
   },
   {
    "duration": 13,
    "start_time": "2021-12-21T13:33:03.656Z"
   },
   {
    "duration": 41,
    "start_time": "2021-12-21T13:33:03.671Z"
   },
   {
    "duration": 16,
    "start_time": "2021-12-21T13:33:03.714Z"
   },
   {
    "duration": 12,
    "start_time": "2021-12-21T13:33:03.732Z"
   },
   {
    "duration": 6,
    "start_time": "2021-12-21T13:33:03.746Z"
   },
   {
    "duration": 14,
    "start_time": "2021-12-21T13:33:03.754Z"
   },
   {
    "duration": 5,
    "start_time": "2021-12-21T13:33:03.770Z"
   },
   {
    "duration": 50,
    "start_time": "2021-12-21T13:33:03.777Z"
   },
   {
    "duration": 6,
    "start_time": "2021-12-21T13:33:03.829Z"
   },
   {
    "duration": 15,
    "start_time": "2021-12-21T13:33:03.837Z"
   },
   {
    "duration": 6,
    "start_time": "2021-12-21T13:33:03.854Z"
   },
   {
    "duration": 9,
    "start_time": "2021-12-21T13:33:03.862Z"
   },
   {
    "duration": 33,
    "start_time": "2021-12-21T13:33:03.873Z"
   },
   {
    "duration": 8,
    "start_time": "2021-12-21T13:33:03.908Z"
   },
   {
    "duration": 14,
    "start_time": "2021-12-21T13:33:03.918Z"
   },
   {
    "duration": 19,
    "start_time": "2021-12-21T13:33:03.934Z"
   },
   {
    "duration": 19,
    "start_time": "2021-12-21T13:33:03.956Z"
   },
   {
    "duration": 6221,
    "start_time": "2021-12-21T13:33:03.977Z"
   },
   {
    "duration": 248,
    "start_time": "2021-12-21T13:33:10.207Z"
   },
   {
    "duration": 266,
    "start_time": "2021-12-21T13:33:10.456Z"
   },
   {
    "duration": 5,
    "start_time": "2021-12-21T13:33:10.724Z"
   },
   {
    "duration": 258,
    "start_time": "2021-12-21T13:33:10.733Z"
   },
   {
    "duration": 24,
    "start_time": "2021-12-21T13:33:10.993Z"
   },
   {
    "duration": 12,
    "start_time": "2021-12-21T13:33:11.019Z"
   },
   {
    "duration": 13,
    "start_time": "2021-12-21T13:33:11.033Z"
   },
   {
    "duration": 12,
    "start_time": "2021-12-21T13:33:11.047Z"
   },
   {
    "duration": 12,
    "start_time": "2021-12-21T13:33:11.060Z"
   },
   {
    "duration": 43,
    "start_time": "2021-12-21T13:33:11.073Z"
   },
   {
    "duration": 24,
    "start_time": "2021-12-21T13:33:11.117Z"
   },
   {
    "duration": 860,
    "start_time": "2021-12-22T10:05:52.946Z"
   },
   {
    "duration": 24,
    "start_time": "2021-12-22T10:05:53.809Z"
   },
   {
    "duration": 19,
    "start_time": "2021-12-22T10:05:53.839Z"
   },
   {
    "duration": 12,
    "start_time": "2021-12-22T10:05:53.861Z"
   },
   {
    "duration": 9,
    "start_time": "2021-12-22T10:05:53.875Z"
   },
   {
    "duration": 42,
    "start_time": "2021-12-22T10:05:53.886Z"
   },
   {
    "duration": 5,
    "start_time": "2021-12-22T10:05:53.931Z"
   },
   {
    "duration": 27,
    "start_time": "2021-12-22T10:05:53.939Z"
   },
   {
    "duration": 13,
    "start_time": "2021-12-22T10:05:53.970Z"
   },
   {
    "duration": 5,
    "start_time": "2021-12-22T10:05:53.986Z"
   },
   {
    "duration": 52,
    "start_time": "2021-12-22T10:05:53.994Z"
   },
   {
    "duration": 5,
    "start_time": "2021-12-22T10:05:54.049Z"
   },
   {
    "duration": 24,
    "start_time": "2021-12-22T10:05:54.057Z"
   },
   {
    "duration": 11,
    "start_time": "2021-12-22T10:05:54.084Z"
   },
   {
    "duration": 35,
    "start_time": "2021-12-22T10:05:54.097Z"
   },
   {
    "duration": 19,
    "start_time": "2021-12-22T10:05:54.135Z"
   },
   {
    "duration": 11,
    "start_time": "2021-12-22T10:05:54.157Z"
   },
   {
    "duration": 14,
    "start_time": "2021-12-22T10:05:54.171Z"
   },
   {
    "duration": 45,
    "start_time": "2021-12-22T10:05:54.188Z"
   },
   {
    "duration": 18,
    "start_time": "2021-12-22T10:05:54.235Z"
   },
   {
    "duration": 27,
    "start_time": "2021-12-22T10:05:54.255Z"
   },
   {
    "duration": 55,
    "start_time": "2021-12-22T10:05:54.285Z"
   },
   {
    "duration": 9194,
    "start_time": "2021-12-22T10:05:54.343Z"
   },
   {
    "duration": 438,
    "start_time": "2021-12-22T10:06:03.540Z"
   },
   {
    "duration": 433,
    "start_time": "2021-12-22T10:06:03.981Z"
   },
   {
    "duration": 12,
    "start_time": "2021-12-22T10:06:04.417Z"
   },
   {
    "duration": 451,
    "start_time": "2021-12-22T10:06:04.437Z"
   },
   {
    "duration": 34,
    "start_time": "2021-12-22T10:06:04.891Z"
   },
   {
    "duration": 20,
    "start_time": "2021-12-22T10:06:04.928Z"
   },
   {
    "duration": 19,
    "start_time": "2021-12-22T10:06:04.951Z"
   },
   {
    "duration": 60,
    "start_time": "2021-12-22T10:06:04.973Z"
   },
   {
    "duration": 20,
    "start_time": "2021-12-22T10:06:05.036Z"
   },
   {
    "duration": 18,
    "start_time": "2021-12-22T10:06:05.059Z"
   },
   {
    "duration": 79,
    "start_time": "2021-12-22T10:06:05.080Z"
   },
   {
    "duration": 80,
    "start_time": "2021-12-22T10:07:13.317Z"
   },
   {
    "duration": 26,
    "start_time": "2021-12-22T10:07:13.400Z"
   },
   {
    "duration": 33,
    "start_time": "2021-12-22T10:07:13.430Z"
   },
   {
    "duration": 53,
    "start_time": "2021-12-22T10:07:13.467Z"
   },
   {
    "duration": 43,
    "start_time": "2021-12-22T10:07:13.523Z"
   },
   {
    "duration": 36,
    "start_time": "2021-12-22T10:07:13.569Z"
   },
   {
    "duration": 103,
    "start_time": "2021-12-22T10:07:13.608Z"
   },
   {
    "duration": 398,
    "start_time": "2021-12-22T10:07:16.537Z"
   },
   {
    "duration": 395,
    "start_time": "2021-12-22T10:08:14.716Z"
   },
   {
    "duration": 300,
    "start_time": "2021-12-22T10:08:34.616Z"
   },
   {
    "duration": 2078,
    "start_time": "2021-12-22T10:09:14.113Z"
   },
   {
    "duration": 125,
    "start_time": "2021-12-22T10:09:37.781Z"
   },
   {
    "duration": 2295,
    "start_time": "2021-12-22T10:09:46.264Z"
   },
   {
    "duration": 13,
    "start_time": "2021-12-22T10:10:50.539Z"
   },
   {
    "duration": 12,
    "start_time": "2021-12-22T10:13:30.789Z"
   },
   {
    "duration": 8,
    "start_time": "2021-12-22T10:16:28.397Z"
   },
   {
    "duration": 10,
    "start_time": "2021-12-22T10:18:10.038Z"
   },
   {
    "duration": 11,
    "start_time": "2021-12-22T10:19:24.343Z"
   },
   {
    "duration": 11,
    "start_time": "2021-12-22T10:19:41.533Z"
   },
   {
    "duration": 333,
    "start_time": "2021-12-22T10:19:49.597Z"
   },
   {
    "duration": 12,
    "start_time": "2021-12-22T10:20:49.411Z"
   },
   {
    "duration": 12,
    "start_time": "2021-12-22T10:21:10.679Z"
   },
   {
    "duration": 19,
    "start_time": "2021-12-22T10:22:37.025Z"
   },
   {
    "duration": 12,
    "start_time": "2021-12-22T10:22:57.437Z"
   },
   {
    "duration": 15,
    "start_time": "2021-12-22T10:25:38.306Z"
   },
   {
    "duration": 14,
    "start_time": "2021-12-22T10:26:22.959Z"
   },
   {
    "duration": 13,
    "start_time": "2021-12-22T10:26:39.652Z"
   },
   {
    "duration": 14,
    "start_time": "2021-12-22T10:27:10.166Z"
   },
   {
    "duration": 11,
    "start_time": "2021-12-22T10:31:59.629Z"
   },
   {
    "duration": 11,
    "start_time": "2021-12-22T10:36:40.885Z"
   },
   {
    "duration": 11,
    "start_time": "2021-12-22T10:37:05.998Z"
   },
   {
    "duration": 11,
    "start_time": "2021-12-22T10:37:30.074Z"
   },
   {
    "duration": 11,
    "start_time": "2021-12-22T10:37:37.049Z"
   },
   {
    "duration": 84,
    "start_time": "2021-12-22T10:37:48.387Z"
   },
   {
    "duration": 17,
    "start_time": "2021-12-22T10:37:48.475Z"
   },
   {
    "duration": 43,
    "start_time": "2021-12-22T10:37:48.495Z"
   },
   {
    "duration": 12,
    "start_time": "2021-12-22T10:37:48.542Z"
   },
   {
    "duration": 8,
    "start_time": "2021-12-22T10:37:48.557Z"
   },
   {
    "duration": 13,
    "start_time": "2021-12-22T10:37:48.567Z"
   },
   {
    "duration": 4,
    "start_time": "2021-12-22T10:37:48.582Z"
   },
   {
    "duration": 25,
    "start_time": "2021-12-22T10:37:48.630Z"
   },
   {
    "duration": 8,
    "start_time": "2021-12-22T10:37:48.658Z"
   },
   {
    "duration": 12,
    "start_time": "2021-12-22T10:37:53.761Z"
   },
   {
    "duration": 11,
    "start_time": "2021-12-22T10:38:42.657Z"
   },
   {
    "duration": 99,
    "start_time": "2021-12-22T10:38:58.005Z"
   },
   {
    "duration": 17,
    "start_time": "2021-12-22T10:39:03.750Z"
   },
   {
    "duration": 79,
    "start_time": "2021-12-22T10:40:19.135Z"
   },
   {
    "duration": 19,
    "start_time": "2021-12-22T10:40:19.217Z"
   },
   {
    "duration": 15,
    "start_time": "2021-12-22T10:40:19.241Z"
   },
   {
    "duration": 11,
    "start_time": "2021-12-22T10:40:19.259Z"
   },
   {
    "duration": 51,
    "start_time": "2021-12-22T10:40:19.273Z"
   },
   {
    "duration": 15,
    "start_time": "2021-12-22T10:40:19.327Z"
   },
   {
    "duration": 5,
    "start_time": "2021-12-22T10:40:19.345Z"
   },
   {
    "duration": 11,
    "start_time": "2021-12-22T10:40:19.353Z"
   },
   {
    "duration": 8,
    "start_time": "2021-12-22T10:40:19.367Z"
   },
   {
    "duration": 58,
    "start_time": "2021-12-22T10:40:19.377Z"
   },
   {
    "duration": 16,
    "start_time": "2021-12-22T10:42:11.735Z"
   },
   {
    "duration": 14,
    "start_time": "2021-12-22T10:42:52.264Z"
   },
   {
    "duration": 15,
    "start_time": "2021-12-22T10:43:30.041Z"
   },
   {
    "duration": 933,
    "start_time": "2021-12-22T10:46:01.916Z"
   },
   {
    "duration": 17,
    "start_time": "2021-12-22T10:46:02.851Z"
   },
   {
    "duration": 14,
    "start_time": "2021-12-22T10:46:02.871Z"
   },
   {
    "duration": 37,
    "start_time": "2021-12-22T10:46:02.888Z"
   },
   {
    "duration": 13,
    "start_time": "2021-12-22T10:46:02.929Z"
   },
   {
    "duration": 9,
    "start_time": "2021-12-22T10:46:02.945Z"
   },
   {
    "duration": 4,
    "start_time": "2021-12-22T10:46:02.957Z"
   },
   {
    "duration": 33,
    "start_time": "2021-12-22T10:46:02.964Z"
   },
   {
    "duration": 10,
    "start_time": "2021-12-22T10:46:07.171Z"
   },
   {
    "duration": 16,
    "start_time": "2021-12-22T10:46:10.200Z"
   },
   {
    "duration": 12,
    "start_time": "2021-12-22T10:47:59.582Z"
   },
   {
    "duration": 11,
    "start_time": "2021-12-22T10:55:49.245Z"
   },
   {
    "duration": 16,
    "start_time": "2021-12-22T11:07:49.728Z"
   },
   {
    "duration": 668,
    "start_time": "2021-12-22T11:10:49.505Z"
   },
   {
    "duration": 460,
    "start_time": "2021-12-22T11:14:43.399Z"
   },
   {
    "duration": 338,
    "start_time": "2021-12-22T11:16:10.905Z"
   },
   {
    "duration": 10,
    "start_time": "2021-12-22T11:16:30.128Z"
   },
   {
    "duration": 9,
    "start_time": "2021-12-22T11:16:52.651Z"
   },
   {
    "duration": 11,
    "start_time": "2021-12-22T11:17:59.452Z"
   },
   {
    "duration": 536,
    "start_time": "2021-12-22T11:18:13.661Z"
   },
   {
    "duration": 14,
    "start_time": "2021-12-22T11:18:14.200Z"
   },
   {
    "duration": 17,
    "start_time": "2021-12-22T11:18:14.217Z"
   },
   {
    "duration": 27,
    "start_time": "2021-12-22T11:18:14.238Z"
   },
   {
    "duration": 12,
    "start_time": "2021-12-22T11:18:14.268Z"
   },
   {
    "duration": 13,
    "start_time": "2021-12-22T11:18:14.282Z"
   },
   {
    "duration": 12,
    "start_time": "2021-12-22T11:18:14.298Z"
   },
   {
    "duration": 44,
    "start_time": "2021-12-22T11:18:14.313Z"
   },
   {
    "duration": 11,
    "start_time": "2021-12-22T11:18:14.361Z"
   },
   {
    "duration": 13,
    "start_time": "2021-12-22T11:18:18.655Z"
   },
   {
    "duration": 14,
    "start_time": "2021-12-22T11:18:23.702Z"
   },
   {
    "duration": 18,
    "start_time": "2021-12-22T11:18:44.530Z"
   },
   {
    "duration": 16,
    "start_time": "2021-12-22T11:18:52.393Z"
   },
   {
    "duration": 622,
    "start_time": "2021-12-22T11:18:53.405Z"
   },
   {
    "duration": 9,
    "start_time": "2021-12-22T11:19:12.561Z"
   },
   {
    "duration": 94,
    "start_time": "2021-12-22T11:20:28.564Z"
   },
   {
    "duration": 11,
    "start_time": "2021-12-22T11:20:34.450Z"
   },
   {
    "duration": 102,
    "start_time": "2021-12-22T11:22:08.016Z"
   },
   {
    "duration": 662,
    "start_time": "2021-12-22T11:22:13.122Z"
   },
   {
    "duration": 664,
    "start_time": "2021-12-22T11:22:30.050Z"
   },
   {
    "duration": 80,
    "start_time": "2021-12-22T11:22:56.642Z"
   },
   {
    "duration": 21,
    "start_time": "2021-12-22T11:22:56.725Z"
   },
   {
    "duration": 18,
    "start_time": "2021-12-22T11:22:56.750Z"
   },
   {
    "duration": 12,
    "start_time": "2021-12-22T11:22:56.771Z"
   },
   {
    "duration": 49,
    "start_time": "2021-12-22T11:22:56.785Z"
   },
   {
    "duration": 20,
    "start_time": "2021-12-22T11:22:56.838Z"
   },
   {
    "duration": 5,
    "start_time": "2021-12-22T11:22:56.860Z"
   },
   {
    "duration": 11,
    "start_time": "2021-12-22T11:22:56.868Z"
   },
   {
    "duration": 8,
    "start_time": "2021-12-22T11:22:56.883Z"
   },
   {
    "duration": 16,
    "start_time": "2021-12-22T11:22:56.929Z"
   },
   {
    "duration": 21,
    "start_time": "2021-12-22T11:22:56.948Z"
   },
   {
    "duration": 15,
    "start_time": "2021-12-22T11:23:02.009Z"
   },
   {
    "duration": 939,
    "start_time": "2021-12-22T11:23:30.677Z"
   },
   {
    "duration": 23,
    "start_time": "2021-12-22T11:23:31.619Z"
   },
   {
    "duration": 16,
    "start_time": "2021-12-22T11:23:31.645Z"
   },
   {
    "duration": 11,
    "start_time": "2021-12-22T11:23:31.664Z"
   },
   {
    "duration": 10,
    "start_time": "2021-12-22T11:23:31.678Z"
   },
   {
    "duration": 15,
    "start_time": "2021-12-22T11:23:31.723Z"
   },
   {
    "duration": 10,
    "start_time": "2021-12-22T11:23:31.742Z"
   },
   {
    "duration": 16,
    "start_time": "2021-12-22T11:23:31.755Z"
   },
   {
    "duration": 8,
    "start_time": "2021-12-22T11:23:31.774Z"
   },
   {
    "duration": 55,
    "start_time": "2021-12-22T11:23:31.785Z"
   },
   {
    "duration": 14,
    "start_time": "2021-12-22T11:23:31.843Z"
   },
   {
    "duration": 14,
    "start_time": "2021-12-22T11:23:34.679Z"
   },
   {
    "duration": 18,
    "start_time": "2021-12-22T11:23:55.931Z"
   },
   {
    "duration": 38,
    "start_time": "2021-12-22T11:24:06.756Z"
   },
   {
    "duration": 689,
    "start_time": "2021-12-22T11:24:29.060Z"
   },
   {
    "duration": 11,
    "start_time": "2021-12-22T11:25:38.737Z"
   },
   {
    "duration": 12,
    "start_time": "2021-12-22T11:29:59.983Z"
   },
   {
    "duration": 49,
    "start_time": "2021-12-22T11:30:30.512Z"
   },
   {
    "duration": 1276,
    "start_time": "2021-12-22T11:33:56.596Z"
   },
   {
    "duration": 14,
    "start_time": "2021-12-22T11:33:57.875Z"
   },
   {
    "duration": 46,
    "start_time": "2021-12-22T11:33:57.892Z"
   },
   {
    "duration": 26,
    "start_time": "2021-12-22T11:33:57.942Z"
   },
   {
    "duration": 9,
    "start_time": "2021-12-22T11:33:57.970Z"
   },
   {
    "duration": 12,
    "start_time": "2021-12-22T11:33:57.982Z"
   },
   {
    "duration": 4,
    "start_time": "2021-12-22T11:33:57.997Z"
   },
   {
    "duration": 41,
    "start_time": "2021-12-22T11:33:58.005Z"
   },
   {
    "duration": 22,
    "start_time": "2021-12-22T11:33:58.050Z"
   },
   {
    "duration": 11,
    "start_time": "2021-12-22T11:33:58.075Z"
   },
   {
    "duration": 54,
    "start_time": "2021-12-22T11:33:58.089Z"
   },
   {
    "duration": 42,
    "start_time": "2021-12-22T11:33:58.147Z"
   },
   {
    "duration": 943,
    "start_time": "2021-12-22T11:33:58.192Z"
   },
   {
    "duration": 2331,
    "start_time": "2021-12-22T11:34:54.529Z"
   },
   {
    "duration": 897,
    "start_time": "2021-12-22T11:36:09.715Z"
   },
   {
    "duration": 27,
    "start_time": "2021-12-22T11:36:10.615Z"
   },
   {
    "duration": 45,
    "start_time": "2021-12-22T11:36:10.645Z"
   },
   {
    "duration": 21,
    "start_time": "2021-12-22T11:36:10.693Z"
   },
   {
    "duration": 24,
    "start_time": "2021-12-22T11:36:10.716Z"
   },
   {
    "duration": 36,
    "start_time": "2021-12-22T11:36:10.743Z"
   },
   {
    "duration": 31,
    "start_time": "2021-12-22T11:36:10.783Z"
   },
   {
    "duration": 34,
    "start_time": "2021-12-22T11:36:10.818Z"
   },
   {
    "duration": 22,
    "start_time": "2021-12-22T11:36:10.854Z"
   },
   {
    "duration": 32,
    "start_time": "2021-12-22T11:36:10.879Z"
   },
   {
    "duration": 55,
    "start_time": "2021-12-22T11:36:10.913Z"
   },
   {
    "duration": 53,
    "start_time": "2021-12-22T11:36:10.972Z"
   },
   {
    "duration": 636,
    "start_time": "2021-12-22T11:36:11.029Z"
   },
   {
    "duration": 8,
    "start_time": "2021-12-22T11:36:15.211Z"
   },
   {
    "duration": 9,
    "start_time": "2021-12-22T11:36:49.159Z"
   },
   {
    "duration": 17,
    "start_time": "2021-12-22T11:39:29.104Z"
   },
   {
    "duration": 15,
    "start_time": "2021-12-22T11:39:44.673Z"
   },
   {
    "duration": 13,
    "start_time": "2021-12-22T11:42:12.444Z"
   },
   {
    "duration": 1014,
    "start_time": "2021-12-22T11:43:39.614Z"
   },
   {
    "duration": 16,
    "start_time": "2021-12-22T11:43:40.631Z"
   },
   {
    "duration": 16,
    "start_time": "2021-12-22T11:43:40.651Z"
   },
   {
    "duration": 15,
    "start_time": "2021-12-22T11:43:40.671Z"
   },
   {
    "duration": 13,
    "start_time": "2021-12-22T11:43:40.724Z"
   },
   {
    "duration": 12,
    "start_time": "2021-12-22T11:43:40.740Z"
   },
   {
    "duration": 6,
    "start_time": "2021-12-22T11:43:40.754Z"
   },
   {
    "duration": 22,
    "start_time": "2021-12-22T11:43:40.765Z"
   },
   {
    "duration": 48,
    "start_time": "2021-12-22T11:43:40.790Z"
   },
   {
    "duration": 12,
    "start_time": "2021-12-22T11:43:40.840Z"
   },
   {
    "duration": 17,
    "start_time": "2021-12-22T11:43:40.854Z"
   },
   {
    "duration": 658,
    "start_time": "2021-12-22T11:43:45.713Z"
   },
   {
    "duration": 11,
    "start_time": "2021-12-22T11:44:42.147Z"
   },
   {
    "duration": 37,
    "start_time": "2021-12-22T11:45:04.479Z"
   },
   {
    "duration": 604,
    "start_time": "2021-12-22T11:47:46.550Z"
   },
   {
    "duration": 14,
    "start_time": "2021-12-22T11:47:58.105Z"
   },
   {
    "duration": 10,
    "start_time": "2021-12-22T11:48:27.384Z"
   },
   {
    "duration": 776,
    "start_time": "2021-12-22T19:28:36.673Z"
   },
   {
    "duration": 16,
    "start_time": "2021-12-22T19:28:46.719Z"
   },
   {
    "duration": 13,
    "start_time": "2021-12-22T19:29:19.306Z"
   },
   {
    "duration": 16,
    "start_time": "2021-12-22T19:30:55.196Z"
   },
   {
    "duration": 11,
    "start_time": "2021-12-22T19:31:38.520Z"
   },
   {
    "duration": 87,
    "start_time": "2021-12-22T19:35:03.547Z"
   },
   {
    "duration": 74,
    "start_time": "2021-12-22T19:35:14.595Z"
   },
   {
    "duration": 10,
    "start_time": "2021-12-22T19:51:30.176Z"
   },
   {
    "duration": 10,
    "start_time": "2021-12-22T19:58:01.983Z"
   },
   {
    "duration": 397,
    "start_time": "2021-12-22T20:06:57.124Z"
   },
   {
    "duration": 13,
    "start_time": "2021-12-22T20:07:20.187Z"
   },
   {
    "duration": 16,
    "start_time": "2021-12-22T20:08:25.262Z"
   },
   {
    "duration": 9,
    "start_time": "2021-12-22T20:08:39.661Z"
   },
   {
    "duration": 43,
    "start_time": "2021-12-22T20:09:30.048Z"
   },
   {
    "duration": 1451,
    "start_time": "2021-12-22T20:10:27.561Z"
   },
   {
    "duration": 21,
    "start_time": "2021-12-22T20:10:29.015Z"
   },
   {
    "duration": 1331,
    "start_time": "2021-12-22T20:10:29.040Z"
   },
   {
    "duration": 1218,
    "start_time": "2021-12-22T20:10:30.373Z"
   },
   {
    "duration": 1804,
    "start_time": "2021-12-22T20:10:31.593Z"
   },
   {
    "duration": 1424,
    "start_time": "2021-12-22T20:10:33.399Z"
   },
   {
    "duration": 385,
    "start_time": "2021-12-22T20:10:38.761Z"
   },
   {
    "duration": 344,
    "start_time": "2021-12-22T20:11:01.894Z"
   },
   {
    "duration": 14,
    "start_time": "2021-12-22T20:11:38.685Z"
   },
   {
    "duration": 10,
    "start_time": "2021-12-22T20:11:51.204Z"
   },
   {
    "duration": 5,
    "start_time": "2021-12-22T20:13:15.866Z"
   },
   {
    "duration": 16,
    "start_time": "2021-12-22T20:13:22.477Z"
   },
   {
    "duration": 9,
    "start_time": "2021-12-22T20:14:28.319Z"
   },
   {
    "duration": 11,
    "start_time": "2021-12-22T20:19:33.963Z"
   },
   {
    "duration": 15,
    "start_time": "2021-12-22T20:21:02.815Z"
   },
   {
    "duration": 618,
    "start_time": "2021-12-22T20:22:29.479Z"
   },
   {
    "duration": 611,
    "start_time": "2021-12-22T20:45:30.676Z"
   },
   {
    "duration": 621,
    "start_time": "2021-12-22T20:45:46.766Z"
   },
   {
    "duration": 495,
    "start_time": "2021-12-22T20:46:49.572Z"
   },
   {
    "duration": 490,
    "start_time": "2021-12-22T20:47:17.719Z"
   },
   {
    "duration": 568,
    "start_time": "2021-12-22T20:48:56.950Z"
   },
   {
    "duration": 965,
    "start_time": "2021-12-22T20:50:01.907Z"
   },
   {
    "duration": 15,
    "start_time": "2021-12-22T20:50:02.875Z"
   },
   {
    "duration": 266,
    "start_time": "2021-12-22T20:50:02.892Z"
   },
   {
    "duration": 314,
    "start_time": "2021-12-22T20:50:03.161Z"
   },
   {
    "duration": 492,
    "start_time": "2021-12-22T20:50:03.478Z"
   },
   {
    "duration": 411,
    "start_time": "2021-12-22T20:50:03.973Z"
   },
   {
    "duration": 254,
    "start_time": "2021-12-22T20:50:04.387Z"
   },
   {
    "duration": 261,
    "start_time": "2021-12-22T20:50:04.645Z"
   },
   {
    "duration": 314,
    "start_time": "2021-12-22T20:50:04.909Z"
   },
   {
    "duration": 862,
    "start_time": "2021-12-22T20:50:05.226Z"
   },
   {
    "duration": 810,
    "start_time": "2021-12-22T20:50:06.090Z"
   },
   {
    "duration": 638,
    "start_time": "2021-12-22T20:50:06.902Z"
   },
   {
    "duration": 631,
    "start_time": "2021-12-22T20:50:10.188Z"
   },
   {
    "duration": 822,
    "start_time": "2021-12-22T20:56:11.458Z"
   },
   {
    "duration": 16,
    "start_time": "2021-12-22T20:56:12.282Z"
   },
   {
    "duration": 819,
    "start_time": "2021-12-22T20:56:12.301Z"
   },
   {
    "duration": 900,
    "start_time": "2021-12-22T20:56:13.122Z"
   },
   {
    "duration": 928,
    "start_time": "2021-12-22T20:56:14.025Z"
   },
   {
    "duration": 1105,
    "start_time": "2021-12-22T20:56:14.955Z"
   },
   {
    "duration": 589,
    "start_time": "2021-12-22T20:56:16.063Z"
   },
   {
    "duration": 505,
    "start_time": "2021-12-22T20:56:16.656Z"
   },
   {
    "duration": 418,
    "start_time": "2021-12-22T20:56:17.164Z"
   },
   {
    "duration": 572,
    "start_time": "2021-12-22T20:56:17.584Z"
   },
   {
    "duration": 628,
    "start_time": "2021-12-22T20:56:18.158Z"
   },
   {
    "duration": 706,
    "start_time": "2021-12-22T20:56:18.789Z"
   },
   {
    "duration": 13,
    "start_time": "2021-12-22T20:56:21.620Z"
   },
   {
    "duration": 13,
    "start_time": "2021-12-22T20:56:25.693Z"
   },
   {
    "duration": 1957,
    "start_time": "2021-12-22T20:57:10.915Z"
   },
   {
    "duration": 1914,
    "start_time": "2021-12-22T20:57:18.112Z"
   },
   {
    "duration": 287,
    "start_time": "2021-12-22T20:58:18.120Z"
   },
   {
    "duration": 9,
    "start_time": "2021-12-22T20:58:35.903Z"
   },
   {
    "duration": 911,
    "start_time": "2021-12-22T21:08:21.515Z"
   },
   {
    "duration": 15,
    "start_time": "2021-12-22T21:08:22.429Z"
   },
   {
    "duration": 1176,
    "start_time": "2021-12-22T21:08:22.447Z"
   },
   {
    "duration": 1218,
    "start_time": "2021-12-22T21:08:23.626Z"
   },
   {
    "duration": 600,
    "start_time": "2021-12-22T21:08:24.846Z"
   },
   {
    "duration": 787,
    "start_time": "2021-12-22T21:08:25.448Z"
   },
   {
    "duration": 886,
    "start_time": "2021-12-22T21:08:26.237Z"
   },
   {
    "duration": 596,
    "start_time": "2021-12-22T21:08:27.126Z"
   },
   {
    "duration": 2813,
    "start_time": "2021-12-22T21:08:27.724Z"
   },
   {
    "duration": 10,
    "start_time": "2021-12-22T21:09:43.059Z"
   },
   {
    "duration": 1879,
    "start_time": "2021-12-22T21:09:53.955Z"
   },
   {
    "duration": 303,
    "start_time": "2021-12-22T21:10:11.351Z"
   },
   {
    "duration": 7,
    "start_time": "2021-12-22T21:10:17.878Z"
   },
   {
    "duration": 16,
    "start_time": "2021-12-22T21:10:26.507Z"
   },
   {
    "duration": 283,
    "start_time": "2021-12-22T21:16:47.967Z"
   },
   {
    "duration": 317,
    "start_time": "2021-12-22T21:17:00.930Z"
   },
   {
    "duration": 20,
    "start_time": "2021-12-22T21:18:08.476Z"
   },
   {
    "duration": 316,
    "start_time": "2021-12-22T21:18:56.997Z"
   },
   {
    "duration": 810,
    "start_time": "2021-12-22T21:19:18.662Z"
   },
   {
    "duration": 16,
    "start_time": "2021-12-22T21:19:19.476Z"
   },
   {
    "duration": 409,
    "start_time": "2021-12-22T21:19:19.496Z"
   },
   {
    "duration": 449,
    "start_time": "2021-12-22T21:19:19.909Z"
   },
   {
    "duration": 825,
    "start_time": "2021-12-22T21:19:20.361Z"
   },
   {
    "duration": 1600,
    "start_time": "2021-12-22T21:19:21.189Z"
   },
   {
    "duration": 777,
    "start_time": "2021-12-22T21:19:22.791Z"
   },
   {
    "duration": 750,
    "start_time": "2021-12-22T21:19:23.571Z"
   },
   {
    "duration": 301,
    "start_time": "2021-12-22T21:19:24.324Z"
   },
   {
    "duration": 21,
    "start_time": "2021-12-22T21:19:27.264Z"
   },
   {
    "duration": 6,
    "start_time": "2021-12-22T21:22:57.050Z"
   },
   {
    "duration": 11,
    "start_time": "2021-12-22T21:23:04.026Z"
   },
   {
    "duration": 9,
    "start_time": "2021-12-22T21:23:17.527Z"
   },
   {
    "duration": 11,
    "start_time": "2021-12-22T21:23:32.116Z"
   },
   {
    "duration": 15,
    "start_time": "2021-12-22T21:25:09.784Z"
   },
   {
    "duration": 638,
    "start_time": "2021-12-22T21:26:04.091Z"
   },
   {
    "duration": 711,
    "start_time": "2021-12-22T21:28:29.716Z"
   },
   {
    "duration": 556,
    "start_time": "2021-12-22T21:29:48.563Z"
   },
   {
    "duration": 1485,
    "start_time": "2021-12-22T21:31:20.603Z"
   },
   {
    "duration": 17,
    "start_time": "2021-12-22T21:31:22.091Z"
   },
   {
    "duration": 1051,
    "start_time": "2021-12-22T21:31:22.111Z"
   },
   {
    "duration": 545,
    "start_time": "2021-12-22T21:31:23.165Z"
   },
   {
    "duration": 449,
    "start_time": "2021-12-22T21:31:23.713Z"
   },
   {
    "duration": 416,
    "start_time": "2021-12-22T21:31:24.164Z"
   },
   {
    "duration": 688,
    "start_time": "2021-12-22T21:31:24.582Z"
   },
   {
    "duration": 420,
    "start_time": "2021-12-22T21:31:25.274Z"
   },
   {
    "duration": 463,
    "start_time": "2021-12-22T21:31:25.697Z"
   },
   {
    "duration": 525,
    "start_time": "2021-12-22T21:31:26.162Z"
   },
   {
    "duration": 523,
    "start_time": "2021-12-22T21:31:26.689Z"
   },
   {
    "duration": 785,
    "start_time": "2021-12-22T21:31:27.214Z"
   },
   {
    "duration": 569,
    "start_time": "2021-12-22T21:31:28.001Z"
   },
   {
    "duration": 609,
    "start_time": "2021-12-22T21:31:28.572Z"
   },
   {
    "duration": 573,
    "start_time": "2021-12-22T21:31:29.184Z"
   },
   {
    "duration": 607,
    "start_time": "2021-12-22T21:31:32.326Z"
   },
   {
    "duration": 599,
    "start_time": "2021-12-22T21:31:41.302Z"
   },
   {
    "duration": 836,
    "start_time": "2021-12-22T21:32:53.101Z"
   },
   {
    "duration": 16,
    "start_time": "2021-12-22T21:32:53.940Z"
   },
   {
    "duration": 250,
    "start_time": "2021-12-22T21:32:53.959Z"
   },
   {
    "duration": 240,
    "start_time": "2021-12-22T21:32:54.212Z"
   },
   {
    "duration": 320,
    "start_time": "2021-12-22T21:32:54.454Z"
   },
   {
    "duration": 339,
    "start_time": "2021-12-22T21:32:54.776Z"
   },
   {
    "duration": 312,
    "start_time": "2021-12-22T21:32:55.119Z"
   },
   {
    "duration": 265,
    "start_time": "2021-12-22T21:32:55.436Z"
   },
   {
    "duration": 421,
    "start_time": "2021-12-22T21:32:55.704Z"
   },
   {
    "duration": 668,
    "start_time": "2021-12-22T21:32:56.128Z"
   },
   {
    "duration": 800,
    "start_time": "2021-12-22T21:32:56.799Z"
   },
   {
    "duration": 854,
    "start_time": "2021-12-22T21:32:57.602Z"
   },
   {
    "duration": 512,
    "start_time": "2021-12-22T21:32:58.458Z"
   },
   {
    "duration": 942,
    "start_time": "2021-12-22T21:32:58.973Z"
   },
   {
    "duration": 1085,
    "start_time": "2021-12-22T21:32:59.917Z"
   },
   {
    "duration": 591,
    "start_time": "2021-12-22T21:33:28.833Z"
   },
   {
    "duration": 808,
    "start_time": "2021-12-22T21:34:30.044Z"
   },
   {
    "duration": 15,
    "start_time": "2021-12-22T21:34:30.855Z"
   },
   {
    "duration": 465,
    "start_time": "2021-12-22T21:34:30.873Z"
   },
   {
    "duration": 383,
    "start_time": "2021-12-22T21:34:31.341Z"
   },
   {
    "duration": 482,
    "start_time": "2021-12-22T21:34:31.726Z"
   },
   {
    "duration": 475,
    "start_time": "2021-12-22T21:34:32.210Z"
   },
   {
    "duration": 407,
    "start_time": "2021-12-22T21:34:32.687Z"
   },
   {
    "duration": 468,
    "start_time": "2021-12-22T21:34:33.097Z"
   },
   {
    "duration": 416,
    "start_time": "2021-12-22T21:34:33.568Z"
   },
   {
    "duration": 357,
    "start_time": "2021-12-22T21:34:33.986Z"
   },
   {
    "duration": 261,
    "start_time": "2021-12-22T21:34:34.345Z"
   },
   {
    "duration": 286,
    "start_time": "2021-12-22T21:34:34.609Z"
   },
   {
    "duration": 437,
    "start_time": "2021-12-22T21:34:34.898Z"
   },
   {
    "duration": 263,
    "start_time": "2021-12-22T21:34:35.338Z"
   },
   {
    "duration": 364,
    "start_time": "2021-12-22T21:34:35.603Z"
   },
   {
    "duration": 834,
    "start_time": "2021-12-22T21:34:35.969Z"
   },
   {
    "duration": 36,
    "start_time": "2021-12-22T21:35:03.545Z"
   },
   {
    "duration": 8,
    "start_time": "2021-12-22T21:38:44.169Z"
   },
   {
    "duration": 109,
    "start_time": "2021-12-22T21:40:31.022Z"
   },
   {
    "duration": 41,
    "start_time": "2021-12-22T21:40:48.029Z"
   },
   {
    "duration": 11,
    "start_time": "2021-12-22T21:50:15.498Z"
   },
   {
    "duration": 9,
    "start_time": "2021-12-22T21:50:32.552Z"
   },
   {
    "duration": 289,
    "start_time": "2021-12-23T05:53:30.289Z"
   },
   {
    "duration": 677,
    "start_time": "2021-12-23T05:53:42.542Z"
   },
   {
    "duration": 10,
    "start_time": "2021-12-23T05:53:43.222Z"
   },
   {
    "duration": 13,
    "start_time": "2021-12-23T05:53:43.235Z"
   },
   {
    "duration": 9,
    "start_time": "2021-12-23T05:53:43.249Z"
   },
   {
    "duration": 5,
    "start_time": "2021-12-23T05:53:43.259Z"
   },
   {
    "duration": 5,
    "start_time": "2021-12-23T05:53:43.266Z"
   },
   {
    "duration": 8,
    "start_time": "2021-12-23T05:53:43.272Z"
   },
   {
    "duration": 4,
    "start_time": "2021-12-23T05:53:43.282Z"
   },
   {
    "duration": 5,
    "start_time": "2021-12-23T05:53:43.288Z"
   },
   {
    "duration": 49,
    "start_time": "2021-12-23T05:53:43.295Z"
   },
   {
    "duration": 3,
    "start_time": "2021-12-23T05:53:43.345Z"
   },
   {
    "duration": 14,
    "start_time": "2021-12-23T05:53:43.349Z"
   },
   {
    "duration": 6,
    "start_time": "2021-12-23T05:53:43.364Z"
   },
   {
    "duration": 12,
    "start_time": "2021-12-23T05:53:43.372Z"
   },
   {
    "duration": 11,
    "start_time": "2021-12-23T05:53:43.386Z"
   },
   {
    "duration": 344,
    "start_time": "2021-12-23T05:53:43.398Z"
   },
   {
    "duration": 21,
    "start_time": "2021-12-23T05:53:43.743Z"
   },
   {
    "duration": 8,
    "start_time": "2021-12-23T05:53:43.766Z"
   },
   {
    "duration": 266,
    "start_time": "2021-12-23T05:53:50.572Z"
   },
   {
    "duration": 12,
    "start_time": "2021-12-23T05:54:57.021Z"
   },
   {
    "duration": 10,
    "start_time": "2021-12-23T05:56:22.676Z"
   },
   {
    "duration": 11,
    "start_time": "2021-12-23T05:56:30.489Z"
   },
   {
    "duration": 8,
    "start_time": "2021-12-23T05:57:27.064Z"
   },
   {
    "duration": 7,
    "start_time": "2021-12-23T05:58:11.344Z"
   },
   {
    "duration": 9,
    "start_time": "2021-12-23T05:58:27.281Z"
   },
   {
    "duration": 7,
    "start_time": "2021-12-23T05:58:55.376Z"
   },
   {
    "duration": 9,
    "start_time": "2021-12-23T05:59:47.838Z"
   },
   {
    "duration": 7,
    "start_time": "2021-12-23T06:00:09.801Z"
   },
   {
    "duration": 661,
    "start_time": "2021-12-23T06:00:20.202Z"
   },
   {
    "duration": 10,
    "start_time": "2021-12-23T06:00:20.864Z"
   },
   {
    "duration": 25,
    "start_time": "2021-12-23T06:00:20.876Z"
   },
   {
    "duration": 10,
    "start_time": "2021-12-23T06:00:20.902Z"
   },
   {
    "duration": 6,
    "start_time": "2021-12-23T06:00:20.914Z"
   },
   {
    "duration": 13,
    "start_time": "2021-12-23T06:00:20.921Z"
   },
   {
    "duration": 17,
    "start_time": "2021-12-23T06:00:20.936Z"
   },
   {
    "duration": 6,
    "start_time": "2021-12-23T06:00:20.956Z"
   },
   {
    "duration": 4,
    "start_time": "2021-12-23T06:00:20.964Z"
   },
   {
    "duration": 16,
    "start_time": "2021-12-23T06:00:20.970Z"
   },
   {
    "duration": 4,
    "start_time": "2021-12-23T06:00:20.988Z"
   },
   {
    "duration": 17,
    "start_time": "2021-12-23T06:00:20.993Z"
   },
   {
    "duration": 6,
    "start_time": "2021-12-23T06:00:21.012Z"
   },
   {
    "duration": 10,
    "start_time": "2021-12-23T06:00:21.019Z"
   },
   {
    "duration": 17,
    "start_time": "2021-12-23T06:00:21.031Z"
   },
   {
    "duration": 336,
    "start_time": "2021-12-23T06:00:21.049Z"
   },
   {
    "duration": 21,
    "start_time": "2021-12-23T06:00:21.386Z"
   },
   {
    "duration": 13,
    "start_time": "2021-12-23T06:00:21.409Z"
   },
   {
    "duration": 8,
    "start_time": "2021-12-23T06:00:45.597Z"
   },
   {
    "duration": 6,
    "start_time": "2021-12-23T06:01:21.856Z"
   },
   {
    "duration": 10,
    "start_time": "2021-12-23T06:03:02.677Z"
   },
   {
    "duration": 7,
    "start_time": "2021-12-23T06:04:02.775Z"
   },
   {
    "duration": 6,
    "start_time": "2021-12-23T06:04:13.423Z"
   },
   {
    "duration": 83,
    "start_time": "2021-12-23T06:10:37.465Z"
   },
   {
    "duration": 88,
    "start_time": "2021-12-23T06:11:10.337Z"
   },
   {
    "duration": 88,
    "start_time": "2021-12-23T06:11:25.740Z"
   },
   {
    "duration": 82,
    "start_time": "2021-12-23T06:12:35.675Z"
   },
   {
    "duration": 305,
    "start_time": "2021-12-23T06:12:53.585Z"
   },
   {
    "duration": 10,
    "start_time": "2021-12-23T06:13:31.046Z"
   },
   {
    "duration": 228,
    "start_time": "2021-12-23T06:13:46.857Z"
   },
   {
    "duration": 96,
    "start_time": "2021-12-23T10:55:19.623Z"
   },
   {
    "duration": 167780,
    "start_time": "2021-12-23T10:56:16.723Z"
   },
   {
    "duration": 693,
    "start_time": "2021-12-23T10:59:47.774Z"
   },
   {
    "duration": 16,
    "start_time": "2021-12-23T10:59:48.470Z"
   },
   {
    "duration": 18,
    "start_time": "2021-12-23T10:59:48.488Z"
   },
   {
    "duration": 27,
    "start_time": "2021-12-23T10:59:48.508Z"
   },
   {
    "duration": 12,
    "start_time": "2021-12-23T10:59:48.536Z"
   },
   {
    "duration": 28,
    "start_time": "2021-12-23T10:59:48.550Z"
   },
   {
    "duration": 20,
    "start_time": "2021-12-23T10:59:48.580Z"
   },
   {
    "duration": 13,
    "start_time": "2021-12-23T10:59:48.602Z"
   },
   {
    "duration": 19,
    "start_time": "2021-12-23T10:59:48.617Z"
   },
   {
    "duration": 26,
    "start_time": "2021-12-23T10:59:48.637Z"
   },
   {
    "duration": 18,
    "start_time": "2021-12-23T10:59:48.665Z"
   },
   {
    "duration": 28,
    "start_time": "2021-12-23T10:59:48.685Z"
   },
   {
    "duration": 5,
    "start_time": "2021-12-23T10:59:48.715Z"
   },
   {
    "duration": 12,
    "start_time": "2021-12-23T10:59:48.722Z"
   },
   {
    "duration": 32,
    "start_time": "2021-12-23T10:59:48.735Z"
   },
   {
    "duration": 347,
    "start_time": "2021-12-23T10:59:48.769Z"
   },
   {
    "duration": 25,
    "start_time": "2021-12-23T10:59:49.118Z"
   },
   {
    "duration": 17,
    "start_time": "2021-12-23T10:59:49.144Z"
   },
   {
    "duration": 22,
    "start_time": "2021-12-23T10:59:49.163Z"
   },
   {
    "duration": 31,
    "start_time": "2021-12-23T10:59:49.187Z"
   },
   {
    "duration": 266774,
    "start_time": "2021-12-23T11:00:19.826Z"
   },
   {
    "duration": 7,
    "start_time": "2021-12-23T11:10:06.840Z"
   },
   {
    "duration": 11,
    "start_time": "2021-12-23T11:26:46.143Z"
   },
   {
    "duration": 726,
    "start_time": "2021-12-23T11:29:45.564Z"
   },
   {
    "duration": 11,
    "start_time": "2021-12-23T11:29:46.291Z"
   },
   {
    "duration": 14,
    "start_time": "2021-12-23T11:29:46.304Z"
   },
   {
    "duration": 21,
    "start_time": "2021-12-23T11:29:46.320Z"
   },
   {
    "duration": 6,
    "start_time": "2021-12-23T11:29:46.343Z"
   },
   {
    "duration": 12,
    "start_time": "2021-12-23T11:29:46.350Z"
   },
   {
    "duration": 12,
    "start_time": "2021-12-23T11:29:46.363Z"
   },
   {
    "duration": 6,
    "start_time": "2021-12-23T11:29:46.377Z"
   },
   {
    "duration": 14,
    "start_time": "2021-12-23T11:29:46.385Z"
   },
   {
    "duration": 45,
    "start_time": "2021-12-23T11:29:46.402Z"
   },
   {
    "duration": 3,
    "start_time": "2021-12-23T11:29:46.449Z"
   },
   {
    "duration": 13,
    "start_time": "2021-12-23T11:29:46.454Z"
   },
   {
    "duration": 9,
    "start_time": "2021-12-23T11:29:46.469Z"
   },
   {
    "duration": 17,
    "start_time": "2021-12-23T11:29:46.480Z"
   },
   {
    "duration": 16,
    "start_time": "2021-12-23T11:29:46.499Z"
   },
   {
    "duration": 470,
    "start_time": "2021-12-23T11:29:46.516Z"
   },
   {
    "duration": 39,
    "start_time": "2021-12-23T11:29:46.988Z"
   },
   {
    "duration": 21,
    "start_time": "2021-12-23T11:29:47.029Z"
   },
   {
    "duration": 12,
    "start_time": "2021-12-23T11:29:47.052Z"
   },
   {
    "duration": 10,
    "start_time": "2021-12-23T11:29:47.065Z"
   },
   {
    "duration": 280810,
    "start_time": "2021-12-23T11:29:47.077Z"
   },
   {
    "duration": 14,
    "start_time": "2021-12-23T11:34:27.889Z"
   },
   {
    "duration": 737,
    "start_time": "2021-12-23T11:35:11.054Z"
   },
   {
    "duration": 15,
    "start_time": "2021-12-23T11:35:11.793Z"
   },
   {
    "duration": 34,
    "start_time": "2021-12-23T11:35:11.811Z"
   },
   {
    "duration": 27,
    "start_time": "2021-12-23T11:35:11.848Z"
   },
   {
    "duration": 27,
    "start_time": "2021-12-23T11:35:11.877Z"
   },
   {
    "duration": 31,
    "start_time": "2021-12-23T11:35:11.906Z"
   },
   {
    "duration": 13,
    "start_time": "2021-12-23T11:35:11.938Z"
   },
   {
    "duration": 42,
    "start_time": "2021-12-23T11:35:11.953Z"
   },
   {
    "duration": 33,
    "start_time": "2021-12-23T11:35:11.998Z"
   },
   {
    "duration": 39,
    "start_time": "2021-12-23T11:35:12.033Z"
   },
   {
    "duration": 17,
    "start_time": "2021-12-23T11:35:12.074Z"
   },
   {
    "duration": 37,
    "start_time": "2021-12-23T11:35:12.092Z"
   },
   {
    "duration": 30,
    "start_time": "2021-12-23T11:35:12.131Z"
   },
   {
    "duration": 20,
    "start_time": "2021-12-23T11:35:12.163Z"
   },
   {
    "duration": 37,
    "start_time": "2021-12-23T11:35:12.185Z"
   },
   {
    "duration": 432,
    "start_time": "2021-12-23T11:35:12.224Z"
   },
   {
    "duration": 22,
    "start_time": "2021-12-23T11:35:12.658Z"
   },
   {
    "duration": 45,
    "start_time": "2021-12-23T11:35:12.681Z"
   },
   {
    "duration": 33,
    "start_time": "2021-12-23T11:35:12.729Z"
   },
   {
    "duration": 41,
    "start_time": "2021-12-23T11:35:12.764Z"
   },
   {
    "duration": 37,
    "start_time": "2021-12-23T11:35:12.807Z"
   },
   {
    "duration": 657,
    "start_time": "2021-12-23T11:36:28.074Z"
   },
   {
    "duration": 13,
    "start_time": "2021-12-23T11:36:28.733Z"
   },
   {
    "duration": 11,
    "start_time": "2021-12-23T11:36:28.748Z"
   },
   {
    "duration": 9,
    "start_time": "2021-12-23T11:36:28.761Z"
   },
   {
    "duration": 9,
    "start_time": "2021-12-23T11:36:28.772Z"
   },
   {
    "duration": 9,
    "start_time": "2021-12-23T11:36:28.783Z"
   },
   {
    "duration": 13,
    "start_time": "2021-12-23T11:36:28.794Z"
   },
   {
    "duration": 32,
    "start_time": "2021-12-23T11:36:28.810Z"
   },
   {
    "duration": 5,
    "start_time": "2021-12-23T11:36:28.844Z"
   },
   {
    "duration": 25,
    "start_time": "2021-12-23T11:36:28.851Z"
   },
   {
    "duration": 4,
    "start_time": "2021-12-23T11:36:28.878Z"
   },
   {
    "duration": 17,
    "start_time": "2021-12-23T11:36:28.883Z"
   },
   {
    "duration": 9,
    "start_time": "2021-12-23T11:36:28.902Z"
   },
   {
    "duration": 33,
    "start_time": "2021-12-23T11:36:28.913Z"
   },
   {
    "duration": 14,
    "start_time": "2021-12-23T11:36:28.948Z"
   },
   {
    "duration": 13,
    "start_time": "2021-12-23T11:36:28.965Z"
   },
   {
    "duration": 456,
    "start_time": "2021-12-23T11:36:33.549Z"
   },
   {
    "duration": 11,
    "start_time": "2021-12-23T11:36:36.662Z"
   },
   {
    "duration": 715,
    "start_time": "2021-12-23T11:39:11.712Z"
   },
   {
    "duration": 11,
    "start_time": "2021-12-23T11:39:12.430Z"
   },
   {
    "duration": 12,
    "start_time": "2021-12-23T11:39:12.443Z"
   },
   {
    "duration": 8,
    "start_time": "2021-12-23T11:39:12.457Z"
   },
   {
    "duration": 8,
    "start_time": "2021-12-23T11:39:12.467Z"
   },
   {
    "duration": 11,
    "start_time": "2021-12-23T11:39:12.477Z"
   },
   {
    "duration": 8,
    "start_time": "2021-12-23T11:39:12.490Z"
   },
   {
    "duration": 7,
    "start_time": "2021-12-23T11:39:12.500Z"
   },
   {
    "duration": 40,
    "start_time": "2021-12-23T11:39:12.509Z"
   },
   {
    "duration": 18,
    "start_time": "2021-12-23T11:39:12.551Z"
   },
   {
    "duration": 4,
    "start_time": "2021-12-23T11:39:12.571Z"
   },
   {
    "duration": 17,
    "start_time": "2021-12-23T11:39:12.577Z"
   },
   {
    "duration": 8,
    "start_time": "2021-12-23T11:39:12.597Z"
   },
   {
    "duration": 37,
    "start_time": "2021-12-23T11:39:12.607Z"
   },
   {
    "duration": 13,
    "start_time": "2021-12-23T11:39:12.646Z"
   },
   {
    "duration": 11,
    "start_time": "2021-12-23T11:39:12.661Z"
   },
   {
    "duration": 409,
    "start_time": "2021-12-23T11:39:12.673Z"
   },
   {
    "duration": 14,
    "start_time": "2021-12-23T11:39:13.084Z"
   },
   {
    "duration": 26,
    "start_time": "2021-12-23T11:40:16.153Z"
   },
   {
    "duration": 11,
    "start_time": "2021-12-23T11:40:18.047Z"
   },
   {
    "duration": 8,
    "start_time": "2021-12-23T11:40:20.878Z"
   },
   {
    "duration": 10,
    "start_time": "2021-12-23T11:40:21.313Z"
   },
   {
    "duration": 15,
    "start_time": "2021-12-23T11:40:21.841Z"
   },
   {
    "duration": 290306,
    "start_time": "2021-12-23T11:40:44.179Z"
   },
   {
    "duration": 11,
    "start_time": "2021-12-23T11:45:34.487Z"
   },
   {
    "duration": 6523,
    "start_time": "2021-12-23T11:46:44.754Z"
   },
   {
    "duration": 410,
    "start_time": "2021-12-23T11:47:06.101Z"
   },
   {
    "duration": 260,
    "start_time": "2021-12-23T11:48:08.531Z"
   },
   {
    "duration": 293,
    "start_time": "2021-12-23T11:52:11.648Z"
   },
   {
    "duration": 754,
    "start_time": "2021-12-23T11:52:26.136Z"
   },
   {
    "duration": 11,
    "start_time": "2021-12-23T11:52:26.892Z"
   },
   {
    "duration": 13,
    "start_time": "2021-12-23T11:52:26.905Z"
   },
   {
    "duration": 26,
    "start_time": "2021-12-23T11:52:26.921Z"
   },
   {
    "duration": 6,
    "start_time": "2021-12-23T11:52:26.950Z"
   },
   {
    "duration": 12,
    "start_time": "2021-12-23T11:52:26.959Z"
   },
   {
    "duration": 10,
    "start_time": "2021-12-23T11:52:26.973Z"
   },
   {
    "duration": 6,
    "start_time": "2021-12-23T11:52:26.986Z"
   },
   {
    "duration": 7,
    "start_time": "2021-12-23T11:52:26.994Z"
   },
   {
    "duration": 24,
    "start_time": "2021-12-23T11:52:27.042Z"
   },
   {
    "duration": 19,
    "start_time": "2021-12-23T11:52:27.068Z"
   },
   {
    "duration": 12,
    "start_time": "2021-12-23T11:52:27.090Z"
   },
   {
    "duration": 6,
    "start_time": "2021-12-23T11:52:27.104Z"
   },
   {
    "duration": 32,
    "start_time": "2021-12-23T11:52:27.113Z"
   },
   {
    "duration": 16,
    "start_time": "2021-12-23T11:52:27.147Z"
   },
   {
    "duration": 12,
    "start_time": "2021-12-23T11:52:27.165Z"
   },
   {
    "duration": 427,
    "start_time": "2021-12-23T11:52:27.180Z"
   },
   {
    "duration": 12,
    "start_time": "2021-12-23T11:52:27.609Z"
   },
   {
    "duration": 40,
    "start_time": "2021-12-23T11:52:27.623Z"
   },
   {
    "duration": 14,
    "start_time": "2021-12-23T11:52:27.665Z"
   },
   {
    "duration": 24,
    "start_time": "2021-12-23T11:52:27.681Z"
   },
   {
    "duration": 15,
    "start_time": "2021-12-23T11:52:27.708Z"
   },
   {
    "duration": 19,
    "start_time": "2021-12-23T11:52:27.727Z"
   },
   {
    "duration": 287232,
    "start_time": "2021-12-23T11:52:27.748Z"
   },
   {
    "duration": 18,
    "start_time": "2021-12-23T11:57:14.984Z"
   },
   {
    "duration": 6,
    "start_time": "2021-12-23T11:57:15.005Z"
   },
   {
    "duration": 6,
    "start_time": "2021-12-23T11:58:34.908Z"
   },
   {
    "duration": 705,
    "start_time": "2021-12-23T12:04:56.673Z"
   },
   {
    "duration": 11,
    "start_time": "2021-12-23T12:04:57.380Z"
   },
   {
    "duration": 14,
    "start_time": "2021-12-23T12:04:57.393Z"
   },
   {
    "duration": 24,
    "start_time": "2021-12-23T12:04:57.410Z"
   },
   {
    "duration": 12,
    "start_time": "2021-12-23T12:04:57.435Z"
   },
   {
    "duration": 17,
    "start_time": "2021-12-23T12:04:57.449Z"
   },
   {
    "duration": 10,
    "start_time": "2021-12-23T12:04:57.468Z"
   },
   {
    "duration": 8,
    "start_time": "2021-12-23T12:04:57.480Z"
   },
   {
    "duration": 5,
    "start_time": "2021-12-23T12:04:57.490Z"
   },
   {
    "duration": 51,
    "start_time": "2021-12-23T12:04:57.497Z"
   },
   {
    "duration": 5,
    "start_time": "2021-12-23T12:04:57.550Z"
   },
   {
    "duration": 12,
    "start_time": "2021-12-23T12:04:57.557Z"
   },
   {
    "duration": 7,
    "start_time": "2021-12-23T12:04:57.571Z"
   },
   {
    "duration": 11,
    "start_time": "2021-12-23T12:04:57.581Z"
   },
   {
    "duration": 18,
    "start_time": "2021-12-23T12:04:57.594Z"
   },
   {
    "duration": 33,
    "start_time": "2021-12-23T12:04:57.614Z"
   },
   {
    "duration": 429,
    "start_time": "2021-12-23T12:04:57.650Z"
   },
   {
    "duration": 16,
    "start_time": "2021-12-23T12:04:58.081Z"
   },
   {
    "duration": 44,
    "start_time": "2021-12-23T12:04:58.099Z"
   },
   {
    "duration": 8,
    "start_time": "2021-12-23T12:04:58.144Z"
   },
   {
    "duration": 8,
    "start_time": "2021-12-23T12:04:58.154Z"
   },
   {
    "duration": 8,
    "start_time": "2021-12-23T12:04:58.164Z"
   },
   {
    "duration": 14,
    "start_time": "2021-12-23T12:04:58.176Z"
   },
   {
    "duration": 84,
    "start_time": "2021-12-23T12:04:58.192Z"
   },
   {
    "duration": 11,
    "start_time": "2021-12-23T12:04:58.278Z"
   },
   {
    "duration": 7,
    "start_time": "2021-12-23T12:04:58.290Z"
   },
   {
    "duration": 60,
    "start_time": "2021-12-23T12:07:01.414Z"
   },
   {
    "duration": 5427,
    "start_time": "2021-12-23T12:09:46.367Z"
   },
   {
    "duration": 62,
    "start_time": "2021-12-23T12:09:51.796Z"
   },
   {
    "duration": 14,
    "start_time": "2021-12-23T12:09:55.301Z"
   },
   {
    "duration": 5,
    "start_time": "2021-12-23T12:10:00.563Z"
   },
   {
    "duration": 735,
    "start_time": "2021-12-23T12:12:23.942Z"
   },
   {
    "duration": 12,
    "start_time": "2021-12-23T12:12:24.679Z"
   },
   {
    "duration": 16,
    "start_time": "2021-12-23T12:12:24.693Z"
   },
   {
    "duration": 30,
    "start_time": "2021-12-23T12:12:24.711Z"
   },
   {
    "duration": 8,
    "start_time": "2021-12-23T12:12:24.743Z"
   },
   {
    "duration": 11,
    "start_time": "2021-12-23T12:12:24.753Z"
   },
   {
    "duration": 12,
    "start_time": "2021-12-23T12:12:24.765Z"
   },
   {
    "duration": 6,
    "start_time": "2021-12-23T12:12:24.780Z"
   },
   {
    "duration": 8,
    "start_time": "2021-12-23T12:12:24.788Z"
   },
   {
    "duration": 52,
    "start_time": "2021-12-23T12:12:24.797Z"
   },
   {
    "duration": 4,
    "start_time": "2021-12-23T12:12:24.850Z"
   },
   {
    "duration": 13,
    "start_time": "2021-12-23T12:12:24.856Z"
   },
   {
    "duration": 8,
    "start_time": "2021-12-23T12:12:24.871Z"
   },
   {
    "duration": 16,
    "start_time": "2021-12-23T12:12:24.881Z"
   },
   {
    "duration": 16,
    "start_time": "2021-12-23T12:12:24.898Z"
   },
   {
    "duration": 34,
    "start_time": "2021-12-23T12:12:24.916Z"
   },
   {
    "duration": 395,
    "start_time": "2021-12-23T12:12:24.953Z"
   },
   {
    "duration": 9,
    "start_time": "2021-12-23T12:12:25.350Z"
   },
   {
    "duration": 23,
    "start_time": "2021-12-23T12:12:25.361Z"
   },
   {
    "duration": 13,
    "start_time": "2021-12-23T12:12:25.386Z"
   },
   {
    "duration": 258,
    "start_time": "2021-12-23T12:12:25.402Z"
   },
   {
    "duration": 7,
    "start_time": "2021-12-23T12:12:25.662Z"
   },
   {
    "duration": 46,
    "start_time": "2021-12-23T12:12:25.673Z"
   },
   {
    "duration": 25,
    "start_time": "2021-12-23T12:12:25.721Z"
   },
   {
    "duration": 5,
    "start_time": "2021-12-23T12:12:25.748Z"
   },
   {
    "duration": 8,
    "start_time": "2021-12-23T12:13:43.366Z"
   },
   {
    "duration": 6,
    "start_time": "2021-12-23T12:13:52.872Z"
   },
   {
    "duration": 10,
    "start_time": "2021-12-23T12:14:02.566Z"
   },
   {
    "duration": 13,
    "start_time": "2021-12-23T12:15:47.557Z"
   },
   {
    "duration": 769,
    "start_time": "2021-12-23T12:18:59.855Z"
   },
   {
    "duration": 11,
    "start_time": "2021-12-23T12:19:00.626Z"
   },
   {
    "duration": 29,
    "start_time": "2021-12-23T12:19:00.639Z"
   },
   {
    "duration": 21,
    "start_time": "2021-12-23T12:19:00.670Z"
   },
   {
    "duration": 23,
    "start_time": "2021-12-23T12:19:00.693Z"
   },
   {
    "duration": 30,
    "start_time": "2021-12-23T12:19:00.718Z"
   },
   {
    "duration": 27,
    "start_time": "2021-12-23T12:19:00.751Z"
   },
   {
    "duration": 15,
    "start_time": "2021-12-23T12:19:00.781Z"
   },
   {
    "duration": 29,
    "start_time": "2021-12-23T12:19:00.799Z"
   },
   {
    "duration": 33,
    "start_time": "2021-12-23T12:19:00.830Z"
   },
   {
    "duration": 20,
    "start_time": "2021-12-23T12:19:00.866Z"
   },
   {
    "duration": 41,
    "start_time": "2021-12-23T12:19:00.889Z"
   },
   {
    "duration": 10,
    "start_time": "2021-12-23T12:19:00.931Z"
   },
   {
    "duration": 25,
    "start_time": "2021-12-23T12:19:00.943Z"
   },
   {
    "duration": 22,
    "start_time": "2021-12-23T12:19:00.970Z"
   },
   {
    "duration": 18,
    "start_time": "2021-12-23T12:19:00.994Z"
   },
   {
    "duration": 587,
    "start_time": "2021-12-23T12:19:01.014Z"
   },
   {
    "duration": 16,
    "start_time": "2021-12-23T12:19:01.603Z"
   },
   {
    "duration": 48,
    "start_time": "2021-12-23T12:19:01.621Z"
   },
   {
    "duration": 32,
    "start_time": "2021-12-23T12:19:01.671Z"
   },
   {
    "duration": 220,
    "start_time": "2021-12-23T12:19:01.705Z"
   },
   {
    "duration": 45,
    "start_time": "2021-12-23T12:19:01.927Z"
   },
   {
    "duration": 5,
    "start_time": "2021-12-23T12:19:01.975Z"
   },
   {
    "duration": 44,
    "start_time": "2021-12-23T12:19:01.982Z"
   },
   {
    "duration": 73,
    "start_time": "2021-12-23T12:19:02.028Z"
   },
   {
    "duration": 22,
    "start_time": "2021-12-23T12:19:02.104Z"
   },
   {
    "duration": 26,
    "start_time": "2021-12-23T12:19:02.129Z"
   },
   {
    "duration": 50,
    "start_time": "2021-12-23T12:19:02.157Z"
   },
   {
    "duration": 33,
    "start_time": "2021-12-23T12:19:02.210Z"
   },
   {
    "duration": 41,
    "start_time": "2021-12-23T12:19:02.245Z"
   },
   {
    "duration": 44,
    "start_time": "2021-12-23T12:19:02.288Z"
   },
   {
    "duration": 44,
    "start_time": "2021-12-23T12:19:02.333Z"
   },
   {
    "duration": 42,
    "start_time": "2021-12-23T12:19:02.379Z"
   },
   {
    "duration": 7265,
    "start_time": "2021-12-23T12:19:02.423Z"
   },
   {
    "duration": 292,
    "start_time": "2021-12-23T12:19:09.690Z"
   },
   {
    "duration": 241,
    "start_time": "2021-12-23T12:19:09.984Z"
   },
   {
    "duration": 370,
    "start_time": "2021-12-23T12:19:10.227Z"
   },
   {
    "duration": -449,
    "start_time": "2021-12-23T12:19:11.049Z"
   },
   {
    "duration": -452,
    "start_time": "2021-12-23T12:19:11.054Z"
   },
   {
    "duration": -456,
    "start_time": "2021-12-23T12:19:11.059Z"
   },
   {
    "duration": -458,
    "start_time": "2021-12-23T12:19:11.063Z"
   },
   {
    "duration": -462,
    "start_time": "2021-12-23T12:19:11.068Z"
   },
   {
    "duration": -464,
    "start_time": "2021-12-23T12:19:11.071Z"
   },
   {
    "duration": -467,
    "start_time": "2021-12-23T12:19:11.075Z"
   },
   {
    "duration": -471,
    "start_time": "2021-12-23T12:19:11.080Z"
   },
   {
    "duration": 6,
    "start_time": "2021-12-23T12:21:17.690Z"
   },
   {
    "duration": 267,
    "start_time": "2021-12-23T12:21:47.626Z"
   },
   {
    "duration": 15,
    "start_time": "2021-12-23T12:21:47.895Z"
   },
   {
    "duration": 33,
    "start_time": "2021-12-23T12:21:47.913Z"
   },
   {
    "duration": 16,
    "start_time": "2021-12-23T12:21:47.949Z"
   },
   {
    "duration": 10,
    "start_time": "2021-12-23T12:21:47.967Z"
   },
   {
    "duration": 16,
    "start_time": "2021-12-23T12:21:47.979Z"
   },
   {
    "duration": 45,
    "start_time": "2021-12-23T12:21:47.997Z"
   },
   {
    "duration": 23,
    "start_time": "2021-12-23T12:21:48.045Z"
   },
   {
    "duration": 84,
    "start_time": "2021-12-23T12:31:08.157Z"
   },
   {
    "duration": 13,
    "start_time": "2021-12-23T12:31:16.973Z"
   },
   {
    "duration": 91,
    "start_time": "2021-12-23T12:36:40.440Z"
   },
   {
    "duration": 9,
    "start_time": "2021-12-23T12:37:09.802Z"
   },
   {
    "duration": 14,
    "start_time": "2021-12-23T12:37:26.623Z"
   },
   {
    "duration": 285,
    "start_time": "2021-12-23T12:38:21.881Z"
   },
   {
    "duration": 293,
    "start_time": "2021-12-23T12:38:56.844Z"
   },
   {
    "duration": 280,
    "start_time": "2021-12-23T12:39:26.462Z"
   },
   {
    "duration": 14,
    "start_time": "2021-12-23T12:40:00.107Z"
   },
   {
    "duration": 298,
    "start_time": "2021-12-23T12:40:43.042Z"
   },
   {
    "duration": 20,
    "start_time": "2021-12-23T12:41:05.986Z"
   },
   {
    "duration": 19,
    "start_time": "2021-12-23T12:42:11.523Z"
   },
   {
    "duration": 20,
    "start_time": "2021-12-23T12:42:36.981Z"
   },
   {
    "duration": 17,
    "start_time": "2021-12-23T12:42:43.884Z"
   },
   {
    "duration": 23,
    "start_time": "2021-12-23T12:43:54.205Z"
   },
   {
    "duration": 20,
    "start_time": "2021-12-23T12:44:03.318Z"
   },
   {
    "duration": 17,
    "start_time": "2021-12-23T12:44:10.751Z"
   },
   {
    "duration": 19,
    "start_time": "2021-12-23T12:44:18.102Z"
   },
   {
    "duration": 22,
    "start_time": "2021-12-23T12:44:35.161Z"
   },
   {
    "duration": 968,
    "start_time": "2021-12-23T19:50:53.746Z"
   },
   {
    "duration": 19,
    "start_time": "2021-12-23T19:50:54.717Z"
   },
   {
    "duration": 30,
    "start_time": "2021-12-23T19:50:54.740Z"
   },
   {
    "duration": 12,
    "start_time": "2021-12-23T19:50:54.773Z"
   },
   {
    "duration": 8,
    "start_time": "2021-12-23T19:50:54.788Z"
   },
   {
    "duration": 11,
    "start_time": "2021-12-23T19:50:54.799Z"
   },
   {
    "duration": 55,
    "start_time": "2021-12-23T19:50:54.812Z"
   },
   {
    "duration": 7,
    "start_time": "2021-12-23T19:50:54.871Z"
   },
   {
    "duration": 8,
    "start_time": "2021-12-23T19:50:54.881Z"
   },
   {
    "duration": 25,
    "start_time": "2021-12-23T19:50:54.891Z"
   },
   {
    "duration": 42,
    "start_time": "2021-12-23T19:50:54.919Z"
   },
   {
    "duration": 24,
    "start_time": "2021-12-23T19:50:54.965Z"
   },
   {
    "duration": 10,
    "start_time": "2021-12-23T19:50:54.992Z"
   },
   {
    "duration": 11,
    "start_time": "2021-12-23T19:50:55.005Z"
   },
   {
    "duration": 53,
    "start_time": "2021-12-23T19:50:55.019Z"
   },
   {
    "duration": 18,
    "start_time": "2021-12-23T19:50:55.074Z"
   },
   {
    "duration": 682,
    "start_time": "2021-12-23T19:50:55.095Z"
   },
   {
    "duration": 18,
    "start_time": "2021-12-23T19:50:55.780Z"
   },
   {
    "duration": 60,
    "start_time": "2021-12-23T19:50:55.801Z"
   },
   {
    "duration": 14,
    "start_time": "2021-12-23T19:50:55.864Z"
   },
   {
    "duration": 346,
    "start_time": "2021-12-23T19:50:55.881Z"
   },
   {
    "duration": 99,
    "start_time": "2021-12-23T19:50:56.229Z"
   },
   {
    "duration": 8,
    "start_time": "2021-12-23T19:50:56.333Z"
   },
   {
    "duration": 36,
    "start_time": "2021-12-23T19:50:56.344Z"
   },
   {
    "duration": 10,
    "start_time": "2021-12-23T19:50:56.383Z"
   },
   {
    "duration": 15,
    "start_time": "2021-12-23T19:50:56.396Z"
   },
   {
    "duration": 16,
    "start_time": "2021-12-23T19:50:56.414Z"
   },
   {
    "duration": 8,
    "start_time": "2021-12-23T19:50:56.460Z"
   },
   {
    "duration": 13,
    "start_time": "2021-12-23T19:50:56.471Z"
   },
   {
    "duration": 10,
    "start_time": "2021-12-23T19:50:56.486Z"
   },
   {
    "duration": 13,
    "start_time": "2021-12-23T19:50:56.498Z"
   },
   {
    "duration": 66,
    "start_time": "2021-12-23T19:50:56.513Z"
   },
   {
    "duration": 24,
    "start_time": "2021-12-23T19:50:56.582Z"
   },
   {
    "duration": 9581,
    "start_time": "2021-12-23T19:50:56.609Z"
   },
   {
    "duration": 585,
    "start_time": "2021-12-23T19:51:06.192Z"
   },
   {
    "duration": 588,
    "start_time": "2021-12-23T19:51:06.779Z"
   },
   {
    "duration": 9,
    "start_time": "2021-12-23T19:51:07.369Z"
   },
   {
    "duration": 443,
    "start_time": "2021-12-23T19:51:07.381Z"
   },
   {
    "duration": 49,
    "start_time": "2021-12-23T19:51:07.827Z"
   },
   {
    "duration": 24,
    "start_time": "2021-12-23T19:51:07.878Z"
   },
   {
    "duration": 54,
    "start_time": "2021-12-23T19:51:07.905Z"
   },
   {
    "duration": 28,
    "start_time": "2021-12-23T19:51:07.962Z"
   },
   {
    "duration": 34,
    "start_time": "2021-12-23T19:51:07.993Z"
   },
   {
    "duration": 26,
    "start_time": "2021-12-23T19:51:08.059Z"
   },
   {
    "duration": 466,
    "start_time": "2021-12-23T19:57:12.771Z"
   },
   {
    "duration": 828,
    "start_time": "2021-12-23T19:57:18.332Z"
   },
   {
    "duration": 105,
    "start_time": "2021-12-23T19:57:19.163Z"
   },
   {
    "duration": 22,
    "start_time": "2021-12-23T19:57:19.272Z"
   },
   {
    "duration": 18,
    "start_time": "2021-12-23T19:57:19.297Z"
   },
   {
    "duration": 44,
    "start_time": "2021-12-23T19:57:19.318Z"
   },
   {
    "duration": 10,
    "start_time": "2021-12-23T19:57:19.364Z"
   },
   {
    "duration": 12,
    "start_time": "2021-12-23T19:57:19.376Z"
   },
   {
    "duration": 16,
    "start_time": "2021-12-23T19:57:19.392Z"
   },
   {
    "duration": 47,
    "start_time": "2021-12-23T19:57:19.412Z"
   },
   {
    "duration": 8,
    "start_time": "2021-12-23T19:57:19.461Z"
   },
   {
    "duration": 26,
    "start_time": "2021-12-23T19:57:19.471Z"
   },
   {
    "duration": 5,
    "start_time": "2021-12-23T19:57:19.500Z"
   },
   {
    "duration": 52,
    "start_time": "2021-12-23T19:57:19.507Z"
   },
   {
    "duration": 9,
    "start_time": "2021-12-23T19:57:19.562Z"
   },
   {
    "duration": 14,
    "start_time": "2021-12-23T19:57:19.574Z"
   },
   {
    "duration": 18,
    "start_time": "2021-12-23T19:57:19.591Z"
   },
   {
    "duration": 58,
    "start_time": "2021-12-23T19:57:19.612Z"
   },
   {
    "duration": 732,
    "start_time": "2021-12-23T19:57:19.673Z"
   },
   {
    "duration": 17,
    "start_time": "2021-12-23T19:57:20.407Z"
   },
   {
    "duration": 64,
    "start_time": "2021-12-23T19:57:20.428Z"
   },
   {
    "duration": 14,
    "start_time": "2021-12-23T19:57:20.494Z"
   },
   {
    "duration": 335,
    "start_time": "2021-12-23T19:57:20.511Z"
   },
   {
    "duration": 71,
    "start_time": "2021-12-23T19:57:20.858Z"
   },
   {
    "duration": 7,
    "start_time": "2021-12-23T19:57:20.932Z"
   },
   {
    "duration": 41,
    "start_time": "2021-12-23T19:57:20.942Z"
   },
   {
    "duration": 14,
    "start_time": "2021-12-23T19:57:20.986Z"
   },
   {
    "duration": 10,
    "start_time": "2021-12-23T19:57:21.003Z"
   },
   {
    "duration": 45,
    "start_time": "2021-12-23T19:57:21.016Z"
   },
   {
    "duration": 10,
    "start_time": "2021-12-23T19:57:21.064Z"
   },
   {
    "duration": 22,
    "start_time": "2021-12-23T19:57:21.078Z"
   },
   {
    "duration": 22,
    "start_time": "2021-12-23T19:57:21.103Z"
   },
   {
    "duration": 34,
    "start_time": "2021-12-23T19:57:21.128Z"
   },
   {
    "duration": 34,
    "start_time": "2021-12-23T19:57:21.165Z"
   },
   {
    "duration": 57,
    "start_time": "2021-12-23T19:57:21.202Z"
   },
   {
    "duration": 408,
    "start_time": "2021-12-23T19:57:24.148Z"
   },
   {
    "duration": 2140,
    "start_time": "2021-12-23T19:57:32.895Z"
   },
   {
    "duration": 388,
    "start_time": "2021-12-23T19:57:51.574Z"
   },
   {
    "duration": 5846,
    "start_time": "2021-12-23T20:03:11.132Z"
   },
   {
    "duration": 121,
    "start_time": "2021-12-23T20:04:32.432Z"
   },
   {
    "duration": 382,
    "start_time": "2021-12-23T20:04:49.061Z"
   },
   {
    "duration": 4325,
    "start_time": "2021-12-23T20:05:48.770Z"
   },
   {
    "duration": 125,
    "start_time": "2021-12-23T20:07:19.257Z"
   },
   {
    "duration": 5027,
    "start_time": "2021-12-23T20:07:45.187Z"
   },
   {
    "duration": 566,
    "start_time": "2021-12-23T20:12:45.185Z"
   },
   {
    "duration": 423,
    "start_time": "2021-12-23T20:15:02.471Z"
   },
   {
    "duration": 4222,
    "start_time": "2021-12-23T20:19:43.389Z"
   },
   {
    "duration": 3975,
    "start_time": "2021-12-23T20:21:00.049Z"
   },
   {
    "duration": 377,
    "start_time": "2021-12-23T20:22:18.045Z"
   },
   {
    "duration": 4008,
    "start_time": "2021-12-23T20:23:34.434Z"
   },
   {
    "duration": 4019,
    "start_time": "2021-12-23T20:24:02.792Z"
   },
   {
    "duration": 3920,
    "start_time": "2021-12-23T20:24:26.205Z"
   },
   {
    "duration": 363,
    "start_time": "2021-12-23T20:25:40.609Z"
   },
   {
    "duration": 4051,
    "start_time": "2021-12-23T20:26:17.699Z"
   },
   {
    "duration": 609,
    "start_time": "2021-12-23T20:33:05.171Z"
   },
   {
    "duration": 377,
    "start_time": "2021-12-23T20:33:13.023Z"
   },
   {
    "duration": 7764,
    "start_time": "2021-12-23T20:33:22.300Z"
   },
   {
    "duration": 3527,
    "start_time": "2021-12-23T20:33:57.240Z"
   },
   {
    "duration": 8355,
    "start_time": "2021-12-23T20:34:20.352Z"
   },
   {
    "duration": 7673,
    "start_time": "2021-12-23T20:35:19.965Z"
   },
   {
    "duration": 7939,
    "start_time": "2021-12-23T20:41:19.791Z"
   },
   {
    "duration": 7411,
    "start_time": "2021-12-23T20:42:00.098Z"
   },
   {
    "duration": 741,
    "start_time": "2021-12-23T20:43:36.254Z"
   },
   {
    "duration": 1075,
    "start_time": "2021-12-23T20:43:52.000Z"
   },
   {
    "duration": 668,
    "start_time": "2021-12-23T20:44:09.339Z"
   },
   {
    "duration": 7582,
    "start_time": "2021-12-23T20:45:41.348Z"
   },
   {
    "duration": 8056,
    "start_time": "2021-12-23T20:46:07.541Z"
   },
   {
    "duration": 7511,
    "start_time": "2021-12-23T20:47:21.060Z"
   },
   {
    "duration": 9633,
    "start_time": "2021-12-23T20:49:40.501Z"
   },
   {
    "duration": 614,
    "start_time": "2021-12-23T20:59:47.837Z"
   },
   {
    "duration": 8019,
    "start_time": "2021-12-23T21:00:39.784Z"
   },
   {
    "duration": 10313,
    "start_time": "2021-12-23T21:02:20.441Z"
   },
   {
    "duration": 8260,
    "start_time": "2021-12-23T21:02:39.346Z"
   },
   {
    "duration": 7600,
    "start_time": "2021-12-23T21:04:04.128Z"
   },
   {
    "duration": 35,
    "start_time": "2021-12-23T21:11:55.731Z"
   },
   {
    "duration": 371,
    "start_time": "2021-12-23T21:14:47.853Z"
   },
   {
    "duration": 6,
    "start_time": "2021-12-23T21:15:02.606Z"
   },
   {
    "duration": 26,
    "start_time": "2021-12-23T21:15:14.137Z"
   },
   {
    "duration": 22,
    "start_time": "2021-12-23T21:16:21.815Z"
   },
   {
    "duration": 31,
    "start_time": "2021-12-23T21:17:41.448Z"
   },
   {
    "duration": 1132,
    "start_time": "2021-12-23T21:20:04.124Z"
   },
   {
    "duration": 3005,
    "start_time": "2021-12-23T21:20:15.627Z"
   },
   {
    "duration": 2835,
    "start_time": "2021-12-23T21:21:19.324Z"
   },
   {
    "duration": 2437,
    "start_time": "2021-12-23T21:21:39.908Z"
   },
   {
    "duration": 883,
    "start_time": "2021-12-24T13:14:13.215Z"
   },
   {
    "duration": 113,
    "start_time": "2021-12-24T13:14:14.102Z"
   },
   {
    "duration": 23,
    "start_time": "2021-12-24T13:14:14.219Z"
   },
   {
    "duration": 27,
    "start_time": "2021-12-24T13:14:14.244Z"
   },
   {
    "duration": 21,
    "start_time": "2021-12-24T13:14:14.279Z"
   },
   {
    "duration": 28,
    "start_time": "2021-12-24T13:14:14.303Z"
   },
   {
    "duration": 11,
    "start_time": "2021-12-24T13:14:14.333Z"
   },
   {
    "duration": 19,
    "start_time": "2021-12-24T13:14:14.371Z"
   },
   {
    "duration": 10,
    "start_time": "2021-12-24T13:14:14.394Z"
   },
   {
    "duration": 20,
    "start_time": "2021-12-24T13:14:14.407Z"
   },
   {
    "duration": 62,
    "start_time": "2021-12-24T13:14:14.430Z"
   },
   {
    "duration": 8,
    "start_time": "2021-12-24T13:14:14.496Z"
   },
   {
    "duration": 25,
    "start_time": "2021-12-24T13:14:14.507Z"
   },
   {
    "duration": 9,
    "start_time": "2021-12-24T13:14:14.535Z"
   },
   {
    "duration": 17,
    "start_time": "2021-12-24T13:14:14.546Z"
   },
   {
    "duration": 44,
    "start_time": "2021-12-24T13:14:14.565Z"
   },
   {
    "duration": 18,
    "start_time": "2021-12-24T13:14:14.612Z"
   },
   {
    "duration": 803,
    "start_time": "2021-12-24T13:14:14.633Z"
   },
   {
    "duration": 30,
    "start_time": "2021-12-24T13:14:15.439Z"
   },
   {
    "duration": 54,
    "start_time": "2021-12-24T13:14:15.471Z"
   },
   {
    "duration": 41,
    "start_time": "2021-12-24T13:14:15.528Z"
   },
   {
    "duration": 404,
    "start_time": "2021-12-24T13:14:15.572Z"
   },
   {
    "duration": 90,
    "start_time": "2021-12-24T13:14:15.983Z"
   },
   {
    "duration": 6,
    "start_time": "2021-12-24T13:14:16.076Z"
   },
   {
    "duration": 31,
    "start_time": "2021-12-24T13:14:16.085Z"
   },
   {
    "duration": 15,
    "start_time": "2021-12-24T13:14:16.118Z"
   },
   {
    "duration": 15,
    "start_time": "2021-12-24T13:14:16.161Z"
   },
   {
    "duration": 9,
    "start_time": "2021-12-24T13:14:16.179Z"
   },
   {
    "duration": 11,
    "start_time": "2021-12-24T13:14:16.191Z"
   },
   {
    "duration": 16,
    "start_time": "2021-12-24T13:14:16.205Z"
   },
   {
    "duration": 13,
    "start_time": "2021-12-24T13:14:16.260Z"
   },
   {
    "duration": 23,
    "start_time": "2021-12-24T13:14:16.275Z"
   },
   {
    "duration": 30,
    "start_time": "2021-12-24T13:14:16.301Z"
   },
   {
    "duration": 52,
    "start_time": "2021-12-24T13:14:16.333Z"
   },
   {
    "duration": 5051,
    "start_time": "2021-12-24T13:14:16.389Z"
   },
   {
    "duration": 9833,
    "start_time": "2021-12-24T13:14:21.443Z"
   },
   {
    "duration": 582,
    "start_time": "2021-12-24T13:14:31.279Z"
   },
   {
    "duration": 535,
    "start_time": "2021-12-24T13:14:31.865Z"
   },
   {
    "duration": 9,
    "start_time": "2021-12-24T13:14:32.403Z"
   },
   {
    "duration": 560,
    "start_time": "2021-12-24T13:14:32.415Z"
   },
   {
    "duration": 40,
    "start_time": "2021-12-24T13:14:32.978Z"
   },
   {
    "duration": 59,
    "start_time": "2021-12-24T13:14:33.020Z"
   },
   {
    "duration": 33,
    "start_time": "2021-12-24T13:14:33.082Z"
   },
   {
    "duration": 49,
    "start_time": "2021-12-24T13:14:33.118Z"
   },
   {
    "duration": 35,
    "start_time": "2021-12-24T13:14:33.170Z"
   },
   {
    "duration": 51,
    "start_time": "2021-12-24T13:14:33.207Z"
   },
   {
    "duration": 913,
    "start_time": "2021-12-24T14:22:24.247Z"
   },
   {
    "duration": 107,
    "start_time": "2021-12-24T14:22:25.163Z"
   },
   {
    "duration": 23,
    "start_time": "2021-12-24T14:22:25.273Z"
   },
   {
    "duration": 14,
    "start_time": "2021-12-24T14:22:25.299Z"
   },
   {
    "duration": 20,
    "start_time": "2021-12-24T14:22:25.315Z"
   },
   {
    "duration": 29,
    "start_time": "2021-12-24T14:22:25.338Z"
   },
   {
    "duration": 27,
    "start_time": "2021-12-24T14:22:25.370Z"
   },
   {
    "duration": 15,
    "start_time": "2021-12-24T14:22:25.402Z"
   },
   {
    "duration": 12,
    "start_time": "2021-12-24T14:22:25.421Z"
   },
   {
    "duration": 9,
    "start_time": "2021-12-24T14:22:25.463Z"
   },
   {
    "duration": 43,
    "start_time": "2021-12-24T14:22:25.475Z"
   },
   {
    "duration": 5,
    "start_time": "2021-12-24T14:22:25.520Z"
   },
   {
    "duration": 38,
    "start_time": "2021-12-24T14:22:25.527Z"
   },
   {
    "duration": 12,
    "start_time": "2021-12-24T14:22:25.568Z"
   },
   {
    "duration": 14,
    "start_time": "2021-12-24T14:22:25.583Z"
   },
   {
    "duration": 14,
    "start_time": "2021-12-24T14:22:25.599Z"
   },
   {
    "duration": 16,
    "start_time": "2021-12-24T14:22:25.615Z"
   },
   {
    "duration": 820,
    "start_time": "2021-12-24T14:22:25.668Z"
   },
   {
    "duration": 15,
    "start_time": "2021-12-24T14:22:26.491Z"
   },
   {
    "duration": 67,
    "start_time": "2021-12-24T14:22:26.509Z"
   },
   {
    "duration": 24,
    "start_time": "2021-12-24T14:22:26.579Z"
   },
   {
    "duration": 325,
    "start_time": "2021-12-24T14:22:26.606Z"
   },
   {
    "duration": 77,
    "start_time": "2021-12-24T14:22:26.936Z"
   },
   {
    "duration": 7,
    "start_time": "2021-12-24T14:22:27.016Z"
   },
   {
    "duration": 49,
    "start_time": "2021-12-24T14:22:27.025Z"
   },
   {
    "duration": 13,
    "start_time": "2021-12-24T14:22:27.077Z"
   },
   {
    "duration": 11,
    "start_time": "2021-12-24T14:22:27.092Z"
   },
   {
    "duration": 10,
    "start_time": "2021-12-24T14:22:27.106Z"
   },
   {
    "duration": 47,
    "start_time": "2021-12-24T14:22:27.119Z"
   },
   {
    "duration": 17,
    "start_time": "2021-12-24T14:22:27.170Z"
   },
   {
    "duration": 12,
    "start_time": "2021-12-24T14:22:27.192Z"
   },
   {
    "duration": 10,
    "start_time": "2021-12-24T14:22:27.207Z"
   },
   {
    "duration": 55,
    "start_time": "2021-12-24T14:22:27.219Z"
   },
   {
    "duration": 24,
    "start_time": "2021-12-24T14:22:27.277Z"
   },
   {
    "duration": 4344,
    "start_time": "2021-12-24T14:22:27.304Z"
   },
   {
    "duration": 8612,
    "start_time": "2021-12-24T14:22:31.651Z"
   },
   {
    "duration": 437,
    "start_time": "2021-12-24T14:22:40.265Z"
   },
   {
    "duration": 441,
    "start_time": "2021-12-24T14:22:40.705Z"
   },
   {
    "duration": 14,
    "start_time": "2021-12-24T14:22:41.149Z"
   },
   {
    "duration": 457,
    "start_time": "2021-12-24T14:22:41.167Z"
   },
   {
    "duration": 42,
    "start_time": "2021-12-24T14:22:41.626Z"
   },
   {
    "duration": 27,
    "start_time": "2021-12-24T14:22:41.671Z"
   },
   {
    "duration": 28,
    "start_time": "2021-12-24T14:22:41.701Z"
   },
   {
    "duration": 56,
    "start_time": "2021-12-24T14:22:41.732Z"
   },
   {
    "duration": 23,
    "start_time": "2021-12-24T14:22:41.791Z"
   },
   {
    "duration": 64,
    "start_time": "2021-12-24T14:22:41.816Z"
   },
   {
    "duration": 960,
    "start_time": "2021-12-24T14:35:02.054Z"
   },
   {
    "duration": 112,
    "start_time": "2021-12-24T14:35:03.017Z"
   },
   {
    "duration": 39,
    "start_time": "2021-12-24T14:35:03.134Z"
   },
   {
    "duration": 17,
    "start_time": "2021-12-24T14:35:03.176Z"
   },
   {
    "duration": 13,
    "start_time": "2021-12-24T14:35:03.196Z"
   },
   {
    "duration": 10,
    "start_time": "2021-12-24T14:35:03.212Z"
   },
   {
    "duration": 54,
    "start_time": "2021-12-24T14:35:03.225Z"
   },
   {
    "duration": 15,
    "start_time": "2021-12-24T14:35:03.284Z"
   },
   {
    "duration": 8,
    "start_time": "2021-12-24T14:35:03.302Z"
   },
   {
    "duration": 9,
    "start_time": "2021-12-24T14:35:03.313Z"
   },
   {
    "duration": 34,
    "start_time": "2021-12-24T14:35:03.360Z"
   },
   {
    "duration": 6,
    "start_time": "2021-12-24T14:35:03.397Z"
   },
   {
    "duration": 23,
    "start_time": "2021-12-24T14:35:03.406Z"
   },
   {
    "duration": 12,
    "start_time": "2021-12-24T14:35:03.463Z"
   },
   {
    "duration": 15,
    "start_time": "2021-12-24T14:35:03.478Z"
   },
   {
    "duration": 19,
    "start_time": "2021-12-24T14:35:03.497Z"
   },
   {
    "duration": 53,
    "start_time": "2021-12-24T14:35:03.519Z"
   },
   {
    "duration": 712,
    "start_time": "2021-12-24T14:35:03.576Z"
   },
   {
    "duration": 14,
    "start_time": "2021-12-24T14:35:04.291Z"
   },
   {
    "duration": 74,
    "start_time": "2021-12-24T14:35:04.308Z"
   },
   {
    "duration": 13,
    "start_time": "2021-12-24T14:35:04.385Z"
   },
   {
    "duration": 320,
    "start_time": "2021-12-24T14:35:04.400Z"
   },
   {
    "duration": 79,
    "start_time": "2021-12-24T14:35:04.725Z"
   },
   {
    "duration": 8,
    "start_time": "2021-12-24T14:35:04.807Z"
   },
   {
    "duration": 46,
    "start_time": "2021-12-24T14:35:04.817Z"
   },
   {
    "duration": 17,
    "start_time": "2021-12-24T14:35:04.869Z"
   },
   {
    "duration": 13,
    "start_time": "2021-12-24T14:35:04.890Z"
   },
   {
    "duration": 10,
    "start_time": "2021-12-24T14:35:04.906Z"
   },
   {
    "duration": 47,
    "start_time": "2021-12-24T14:35:04.919Z"
   },
   {
    "duration": 29,
    "start_time": "2021-12-24T14:35:04.969Z"
   },
   {
    "duration": 11,
    "start_time": "2021-12-24T14:35:05.000Z"
   },
   {
    "duration": 13,
    "start_time": "2021-12-24T14:35:05.013Z"
   },
   {
    "duration": 48,
    "start_time": "2021-12-24T14:35:05.029Z"
   },
   {
    "duration": 27,
    "start_time": "2021-12-24T14:35:05.079Z"
   },
   {
    "duration": 4015,
    "start_time": "2021-12-24T14:35:05.108Z"
   },
   {
    "duration": 9409,
    "start_time": "2021-12-24T14:35:09.127Z"
   },
   {
    "duration": 478,
    "start_time": "2021-12-24T14:35:18.538Z"
   },
   {
    "duration": 560,
    "start_time": "2021-12-24T14:35:19.019Z"
   },
   {
    "duration": 14,
    "start_time": "2021-12-24T14:35:19.582Z"
   },
   {
    "duration": 553,
    "start_time": "2021-12-24T14:35:19.600Z"
   },
   {
    "duration": 33,
    "start_time": "2021-12-24T14:35:20.155Z"
   },
   {
    "duration": 36,
    "start_time": "2021-12-24T14:35:20.191Z"
   },
   {
    "duration": 36,
    "start_time": "2021-12-24T14:35:20.260Z"
   },
   {
    "duration": 25,
    "start_time": "2021-12-24T14:35:20.299Z"
   },
   {
    "duration": 66,
    "start_time": "2021-12-24T14:35:20.326Z"
   },
   {
    "duration": 25,
    "start_time": "2021-12-24T14:35:20.395Z"
   },
   {
    "duration": 7,
    "start_time": "2021-12-24T19:11:30.871Z"
   }
  ],
  "kernelspec": {
   "display_name": "Python 3 (ipykernel)",
   "language": "python",
   "name": "python3"
  },
  "language_info": {
   "codemirror_mode": {
    "name": "ipython",
    "version": 3
   },
   "file_extension": ".py",
   "mimetype": "text/x-python",
   "name": "python",
   "nbconvert_exporter": "python",
   "pygments_lexer": "ipython3",
   "version": "3.9.7"
  },
  "toc": {
   "base_numbering": 1,
   "nav_menu": {},
   "number_sections": true,
   "sideBar": true,
   "skip_h1_title": true,
   "title_cell": "Table of Contents",
   "title_sidebar": "Contents",
   "toc_cell": false,
   "toc_position": {
    "height": "calc(100% - 180px)",
    "left": "10px",
    "top": "150px",
    "width": "290px"
   },
   "toc_section_display": true,
   "toc_window_display": true
  }
 },
 "nbformat": 4,
 "nbformat_minor": 2
}
