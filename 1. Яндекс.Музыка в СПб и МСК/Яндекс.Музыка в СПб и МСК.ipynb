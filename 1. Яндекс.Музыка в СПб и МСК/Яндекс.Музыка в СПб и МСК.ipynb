{
 "cells": [
  {
   "cell_type": "markdown",
   "metadata": {},
   "source": [
    "# Содержание\n",
    "\n",
    "1. [Обзор данных](#start)\n",
    "2. [Предобработка данных](#pre)  \n",
    "    2.1. [Стиль заголовков](#pre_style)   \n",
    "    2.2. [Пропуски значений](#pre_null)   \n",
    "    2.3. [Дубликаты](#pre_duplicates)   \n",
    "3. [Проверка гипотез](#hypothesis)   \n",
    "    3.1. [Сравнение поведения пользователей двух столиц](#hyp1)   \n",
    "    3.1. [Музыка в начале и конце недели](#hyp2)   \n",
    "    3.1. [Жанровые предпочтения в Москве и Петербурге](#hyp3)   \n",
    "4. [Итоги исследования](#result)"
   ]
  },
  {
   "cell_type": "markdown",
   "metadata": {
    "id": "E0vqbgi9ay0H"
   },
   "source": [
    "# Яндекс.Музыка"
   ]
  },
  {
   "cell_type": "markdown",
   "metadata": {
    "id": "VUC88oWjTJw2"
   },
   "source": [
    "Сравнение Москвы и Петербурга окружено мифами. Например:\n",
    " * Москва — мегаполис, подчинённый жёсткому ритму рабочей недели;\n",
    " * Петербург — культурная столица, со своими вкусами.\n",
    "\n",
    "На данных Яндекс.Музыки вы сравните поведение пользователей двух столиц.\n",
    "\n",
    "**Цель исследования** — проверить три гипотезы:\n",
    "1. Активность пользователей зависит от дня недели. Причём в Москве и Петербурге это проявляется по-разному.\n",
    "2. В понедельник утром в Москве преобладают одни жанры, а в Петербурге — другие. Так же и вечером пятницы преобладают разные жанры — в зависимости от города. \n",
    "3. Москва и Петербург предпочитают разные жанры музыки. В Москве чаще слушают поп-музыку, в Петербурге — русский рэп.\n",
    "\n",
    "**Ход исследования**\n",
    "\n",
    "Данные о поведении пользователей получим из файла `yandex_music_project.csv`. О качестве данных ничего не известно. Поэтому перед проверкой гипотез понадобится обзор данных. \n",
    "\n",
    "Проверим данные на ошибки и оценим их влияние на исследование. Затем, на этапе предобработки поищем возможность исправить самые критичные ошибки данных.\n",
    " \n",
    "Таким образом, исследование пройдёт в три этапа:\n",
    " 1. Обзор данных.\n",
    " 2. Предобработка данных.\n",
    " 3. Проверка гипотез.\n",
    "\n"
   ]
  },
  {
   "cell_type": "markdown",
   "metadata": {
    "id": "Ml1hmfXC_Zcs"
   },
   "source": [
    "## Обзор данных\n",
    "<a id='start'></a>\n",
    "\n",
    "Составим первое представление о данных Яндекс.Музыки.\n",
    "\n",
    "\n"
   ]
  },
  {
   "cell_type": "code",
   "execution_count": 1,
   "metadata": {
    "id": "AXN7PHPN_Zcs"
   },
   "outputs": [],
   "source": [
    "import pandas as pd # импорт библиотеки pandas"
   ]
  },
  {
   "cell_type": "markdown",
   "metadata": {
    "id": "SG23P8tt_Zcs"
   },
   "source": [
    "Прочитаем исходный файл и сохраним его в переменной `df`:"
   ]
  },
  {
   "cell_type": "code",
   "execution_count": 2,
   "metadata": {
    "id": "fFVu7vqh_Zct"
   },
   "outputs": [],
   "source": [
    "df = pd.read_csv('dataset.csv') # чтение файла с данными и сохранение в df"
   ]
  },
  {
   "cell_type": "markdown",
   "metadata": {
    "id": "rDoOMd3uTqnZ"
   },
   "source": [
    "Выведим на экран первые десять строк таблицы:"
   ]
  },
  {
   "cell_type": "code",
   "execution_count": 3,
   "metadata": {
    "id": "oWTVX3gW_Zct"
   },
   "outputs": [
    {
     "data": {
      "text/html": [
       "<div>\n",
       "<style scoped>\n",
       "    .dataframe tbody tr th:only-of-type {\n",
       "        vertical-align: middle;\n",
       "    }\n",
       "\n",
       "    .dataframe tbody tr th {\n",
       "        vertical-align: top;\n",
       "    }\n",
       "\n",
       "    .dataframe thead th {\n",
       "        text-align: right;\n",
       "    }\n",
       "</style>\n",
       "<table border=\"1\" class=\"dataframe\">\n",
       "  <thead>\n",
       "    <tr style=\"text-align: right;\">\n",
       "      <th></th>\n",
       "      <th>Unnamed: 0</th>\n",
       "      <th>userID</th>\n",
       "      <th>Track</th>\n",
       "      <th>artist</th>\n",
       "      <th>genre</th>\n",
       "      <th>City</th>\n",
       "      <th>time</th>\n",
       "      <th>Day</th>\n",
       "    </tr>\n",
       "  </thead>\n",
       "  <tbody>\n",
       "    <tr>\n",
       "      <th>0</th>\n",
       "      <td>0</td>\n",
       "      <td>FFB692EC</td>\n",
       "      <td>Kamigata To Boots</td>\n",
       "      <td>The Mass Missile</td>\n",
       "      <td>rock</td>\n",
       "      <td>Saint-Petersburg</td>\n",
       "      <td>20:28:33</td>\n",
       "      <td>Wednesday</td>\n",
       "    </tr>\n",
       "    <tr>\n",
       "      <th>1</th>\n",
       "      <td>1</td>\n",
       "      <td>55204538</td>\n",
       "      <td>Delayed Because of Accident</td>\n",
       "      <td>Andreas Rönnberg</td>\n",
       "      <td>rock</td>\n",
       "      <td>Moscow</td>\n",
       "      <td>14:07:09</td>\n",
       "      <td>Friday</td>\n",
       "    </tr>\n",
       "    <tr>\n",
       "      <th>2</th>\n",
       "      <td>2</td>\n",
       "      <td>20EC38</td>\n",
       "      <td>Funiculì funiculà</td>\n",
       "      <td>Mario Lanza</td>\n",
       "      <td>pop</td>\n",
       "      <td>Saint-Petersburg</td>\n",
       "      <td>20:58:07</td>\n",
       "      <td>Wednesday</td>\n",
       "    </tr>\n",
       "    <tr>\n",
       "      <th>3</th>\n",
       "      <td>3</td>\n",
       "      <td>A3DD03C9</td>\n",
       "      <td>Dragons in the Sunset</td>\n",
       "      <td>Fire + Ice</td>\n",
       "      <td>folk</td>\n",
       "      <td>Saint-Petersburg</td>\n",
       "      <td>08:37:09</td>\n",
       "      <td>Monday</td>\n",
       "    </tr>\n",
       "    <tr>\n",
       "      <th>4</th>\n",
       "      <td>4</td>\n",
       "      <td>E2DC1FAE</td>\n",
       "      <td>Soul People</td>\n",
       "      <td>Space Echo</td>\n",
       "      <td>dance</td>\n",
       "      <td>Moscow</td>\n",
       "      <td>08:34:34</td>\n",
       "      <td>Monday</td>\n",
       "    </tr>\n",
       "    <tr>\n",
       "      <th>5</th>\n",
       "      <td>5</td>\n",
       "      <td>842029A1</td>\n",
       "      <td>Преданная</td>\n",
       "      <td>IMPERVTOR</td>\n",
       "      <td>rusrap</td>\n",
       "      <td>Saint-Petersburg</td>\n",
       "      <td>13:09:41</td>\n",
       "      <td>Friday</td>\n",
       "    </tr>\n",
       "    <tr>\n",
       "      <th>6</th>\n",
       "      <td>6</td>\n",
       "      <td>4CB90AA5</td>\n",
       "      <td>True</td>\n",
       "      <td>Roman Messer</td>\n",
       "      <td>dance</td>\n",
       "      <td>Moscow</td>\n",
       "      <td>13:00:07</td>\n",
       "      <td>Wednesday</td>\n",
       "    </tr>\n",
       "    <tr>\n",
       "      <th>7</th>\n",
       "      <td>7</td>\n",
       "      <td>F03E1C1F</td>\n",
       "      <td>Feeling This Way</td>\n",
       "      <td>Polina Griffith</td>\n",
       "      <td>dance</td>\n",
       "      <td>Moscow</td>\n",
       "      <td>20:47:49</td>\n",
       "      <td>Wednesday</td>\n",
       "    </tr>\n",
       "    <tr>\n",
       "      <th>8</th>\n",
       "      <td>8</td>\n",
       "      <td>8FA1D3BE</td>\n",
       "      <td>И вновь продолжается бой</td>\n",
       "      <td>NaN</td>\n",
       "      <td>ruspop</td>\n",
       "      <td>Moscow</td>\n",
       "      <td>09:17:40</td>\n",
       "      <td>Friday</td>\n",
       "    </tr>\n",
       "    <tr>\n",
       "      <th>9</th>\n",
       "      <td>9</td>\n",
       "      <td>E772D5C0</td>\n",
       "      <td>Pessimist</td>\n",
       "      <td>NaN</td>\n",
       "      <td>dance</td>\n",
       "      <td>Saint-Petersburg</td>\n",
       "      <td>21:20:49</td>\n",
       "      <td>Wednesday</td>\n",
       "    </tr>\n",
       "  </tbody>\n",
       "</table>\n",
       "</div>"
      ],
      "text/plain": [
       "   Unnamed: 0    userID                        Track            artist  \\\n",
       "0           0  FFB692EC            Kamigata To Boots  The Mass Missile   \n",
       "1           1  55204538  Delayed Because of Accident  Andreas Rönnberg   \n",
       "2           2    20EC38            Funiculì funiculà       Mario Lanza   \n",
       "3           3  A3DD03C9        Dragons in the Sunset        Fire + Ice   \n",
       "4           4  E2DC1FAE                  Soul People        Space Echo   \n",
       "5           5  842029A1                    Преданная         IMPERVTOR   \n",
       "6           6  4CB90AA5                         True      Roman Messer   \n",
       "7           7  F03E1C1F             Feeling This Way   Polina Griffith   \n",
       "8           8  8FA1D3BE     И вновь продолжается бой               NaN   \n",
       "9           9  E772D5C0                    Pessimist               NaN   \n",
       "\n",
       "    genre            City        time        Day  \n",
       "0    rock  Saint-Petersburg  20:28:33  Wednesday  \n",
       "1    rock            Moscow  14:07:09     Friday  \n",
       "2     pop  Saint-Petersburg  20:58:07  Wednesday  \n",
       "3    folk  Saint-Petersburg  08:37:09     Monday  \n",
       "4   dance            Moscow  08:34:34     Monday  \n",
       "5  rusrap  Saint-Petersburg  13:09:41     Friday  \n",
       "6   dance            Moscow  13:00:07  Wednesday  \n",
       "7   dance            Moscow  20:47:49  Wednesday  \n",
       "8  ruspop            Moscow  09:17:40     Friday  \n",
       "9   dance  Saint-Petersburg  21:20:49  Wednesday  "
      ]
     },
     "execution_count": 3,
     "metadata": {},
     "output_type": "execute_result"
    }
   ],
   "source": [
    "df.head(10) # получение первых 10 строк таблицы df"
   ]
  },
  {
   "cell_type": "markdown",
   "metadata": {
    "id": "EO73Kwic_Zct"
   },
   "source": [
    "Получим общую информацию о таблице:"
   ]
  },
  {
   "cell_type": "code",
   "execution_count": 4,
   "metadata": {
    "id": "DSf2kIb-_Zct"
   },
   "outputs": [
    {
     "name": "stdout",
     "output_type": "stream",
     "text": [
      "<class 'pandas.core.frame.DataFrame'>\n",
      "RangeIndex: 65079 entries, 0 to 65078\n",
      "Data columns (total 8 columns):\n",
      " #   Column      Non-Null Count  Dtype \n",
      "---  ------      --------------  ----- \n",
      " 0   Unnamed: 0  65079 non-null  int64 \n",
      " 1     userID    65079 non-null  object\n",
      " 2   Track       63848 non-null  object\n",
      " 3   artist      57876 non-null  object\n",
      " 4   genre       63881 non-null  object\n",
      " 5     City      65079 non-null  object\n",
      " 6   time        65079 non-null  object\n",
      " 7   Day         65079 non-null  object\n",
      "dtypes: int64(1), object(7)\n",
      "memory usage: 4.0+ MB\n"
     ]
    }
   ],
   "source": [
    "df.info() # получение общей информации о данных в таблице df"
   ]
  },
  {
   "cell_type": "markdown",
   "metadata": {
    "id": "TaQ2Iwbr_Zct"
   },
   "source": [
    "Итак, в таблице семь столбцов. Тип данных во всех столбцах — `object`.\n",
    "\n",
    "Согласно документации к данным:\n",
    "* `userID` — идентификатор пользователя;\n",
    "* `Track` — название трека;  \n",
    "* `artist` — имя исполнителя;\n",
    "* `genre` — название жанра;\n",
    "* `City` — город пользователя;\n",
    "* `time` — время начала прослушивания;\n",
    "* `Day` — день недели.\n",
    "\n",
    "В названиях колонок видны три нарушения стиля:\n",
    "1. Строчные буквы сочетаются с прописными.\n",
    "2. Встречаются пробелы.\n",
    "3. Использован не \"змеиный\" стиль написания.\n",
    "\n",
    "\n",
    "\n",
    "Количество значений в столбцах различается. Значит, в данных есть пропущенные значения.\n"
   ]
  },
  {
   "cell_type": "markdown",
   "metadata": {
    "id": "MCB6-dXG_Zct"
   },
   "source": [
    "**Выводы**\n",
    "\n",
    "В каждой строке таблицы — данные о прослушанном треке. Часть колонок описывает саму композицию: название, исполнителя и жанр. Остальные данные рассказывают о пользователе: из какого он города, когда он слушал музыку. \n",
    "\n",
    "Предварительно можно утверждать, что, данных достаточно для проверки гипотез. Но встречаются пропуски в данных, а в названиях колонок — расхождения с хорошим стилем.\n",
    "\n",
    "Чтобы двигаться дальше, нужно устранить проблемы в данных."
   ]
  },
  {
   "cell_type": "markdown",
   "metadata": {
    "id": "SjYF6Ub9_Zct"
   },
   "source": [
    "## Предобработка данных\n",
    "<a id='pre'></a>\n",
    "Исправим стиль в заголовках столбцов, исключим пропуски. Затем проверим данные на дубликаты."
   ]
  },
  {
   "cell_type": "markdown",
   "metadata": {
    "id": "dIaKXr29_Zct"
   },
   "source": [
    "### Стиль заголовков\n",
    "<a id='pre_style'></a>\n",
    "Выведим на экран названия столбцов:"
   ]
  },
  {
   "cell_type": "code",
   "execution_count": 5,
   "metadata": {
    "id": "oKOTdF_Q_Zct"
   },
   "outputs": [
    {
     "data": {
      "text/plain": [
       "Index(['Unnamed: 0', '  userID', 'Track', 'artist', 'genre', '  City  ',\n",
       "       'time', 'Day'],\n",
       "      dtype='object')"
      ]
     },
     "execution_count": 5,
     "metadata": {},
     "output_type": "execute_result"
    }
   ],
   "source": [
    "df.columns # перечень названий столбцов таблицы df"
   ]
  },
  {
   "cell_type": "markdown",
   "metadata": {
    "id": "zj5534cv_Zct"
   },
   "source": [
    "Приведем названия в соответствие с хорошим стилем:\n",
    "* несколько слов в названии запишем в «змеином_регистре»,\n",
    "* все символы сделаем строчными,\n",
    "* устраним пробелы.\n",
    "\n",
    "Для этого переименуем колонки так:\n",
    "* `'  userID'` → `'user_id'`;\n",
    "* `'Track'` → `'track'`;\n",
    "* `'  City  '` → `'city'`;\n",
    "* `'Day'` → `'day'`."
   ]
  },
  {
   "cell_type": "code",
   "execution_count": 6,
   "metadata": {
    "id": "ISlFqs5y_Zct"
   },
   "outputs": [],
   "source": [
    "df = df.rename(columns={'  userID':'user_id', 'Track':'track', '  City  ':'city', 'Day':'day'}) # переименование столбцов"
   ]
  },
  {
   "cell_type": "markdown",
   "metadata": {
    "id": "1dqbh00J_Zct"
   },
   "source": [
    "Проверим результат. Для этого ещё раз выведим на экран названия столбцов:"
   ]
  },
  {
   "cell_type": "code",
   "execution_count": 7,
   "metadata": {
    "id": "d4NOAmTW_Zct"
   },
   "outputs": [
    {
     "data": {
      "text/plain": [
       "Index(['Unnamed: 0', 'user_id', 'track', 'artist', 'genre', 'city', 'time',\n",
       "       'day'],\n",
       "      dtype='object')"
      ]
     },
     "execution_count": 7,
     "metadata": {},
     "output_type": "execute_result"
    }
   ],
   "source": [
    "df.columns # проверка результатов - перечень названий столбцов"
   ]
  },
  {
   "cell_type": "markdown",
   "metadata": {
    "id": "5ISfbcfY_Zct"
   },
   "source": [
    "### Пропуски значений\n",
    "<a id='pre_null'></a>\n",
    "Сначала посчитайем, сколько в таблице пропущенных значений. Для этого достаточно двух методов `pandas`:"
   ]
  },
  {
   "cell_type": "code",
   "execution_count": 8,
   "metadata": {
    "id": "RskX29qr_Zct"
   },
   "outputs": [
    {
     "data": {
      "text/plain": [
       "Unnamed: 0       0\n",
       "user_id          0\n",
       "track         1231\n",
       "artist        7203\n",
       "genre         1198\n",
       "city             0\n",
       "time             0\n",
       "day              0\n",
       "dtype: int64"
      ]
     },
     "execution_count": 8,
     "metadata": {},
     "output_type": "execute_result"
    }
   ],
   "source": [
    "df.isna().sum() # подсчёт пропусков"
   ]
  },
  {
   "cell_type": "markdown",
   "metadata": {
    "id": "qubhgnlO_Zct"
   },
   "source": [
    "Не все пропущенные значения влияют на исследование. Так в `track` и `artist` пропуски не важны для нашей работы. Достаточно заменить их явными обозначениями.\n",
    "\n",
    "Но пропуски в `genre` могут помешать сравнению музыкальных вкусов в Москве и Санкт-Петербурге. На практике было бы правильно установить причину пропусков и восстановить данные. Такой возможности нет в учебном проекте. Придётся:\n",
    "* заполнить и эти пропуски явными обозначениями,\n",
    "* оценить, насколько они повредят расчётам. "
   ]
  },
  {
   "cell_type": "markdown",
   "metadata": {
    "id": "fSv2laPA_Zct"
   },
   "source": [
    "Заменим пропущенные значения в столбцах `track`, `artist` и `genre` на строку `'unknown'`. Для этого создадим список `columns_to_replace`, переберем его элементы циклом `for` и для каждого столбца выполните замену пропущенных значений:"
   ]
  },
  {
   "cell_type": "code",
   "execution_count": 9,
   "metadata": {
    "id": "KplB5qWs_Zct"
   },
   "outputs": [],
   "source": [
    "# перебор названий столбцов в цикле и замена пропущенных значений на 'unknown'\n",
    "columns_to_replace = ['track', 'artist', 'genre']\n",
    "for column in columns_to_replace:\n",
    "    df[column] = df[column].fillna('unknown')"
   ]
  },
  {
   "cell_type": "markdown",
   "metadata": {
    "id": "Ilsm-MZo_Zct"
   },
   "source": [
    "Убедимся, что в таблице не осталось пропусков. Для этого ещё раз посчитаем пропущенные значения."
   ]
  },
  {
   "cell_type": "code",
   "execution_count": 10,
   "metadata": {
    "id": "Tq4nYRX4_Zct"
   },
   "outputs": [
    {
     "data": {
      "text/plain": [
       "Unnamed: 0    0\n",
       "user_id       0\n",
       "track         0\n",
       "artist        0\n",
       "genre         0\n",
       "city          0\n",
       "time          0\n",
       "day           0\n",
       "dtype: int64"
      ]
     },
     "execution_count": 10,
     "metadata": {},
     "output_type": "execute_result"
    }
   ],
   "source": [
    "df.isna().sum() # подсчёт пропусков"
   ]
  },
  {
   "cell_type": "markdown",
   "metadata": {
    "id": "BWKRtBJ3_Zct"
   },
   "source": [
    "### Дубликаты\n",
    "<a id='pre_duplicates'></a>\n",
    "Посчитаем явные дубликаты в таблице:"
   ]
  },
  {
   "cell_type": "code",
   "execution_count": 11,
   "metadata": {
    "id": "36eES_S0_Zct"
   },
   "outputs": [
    {
     "data": {
      "text/plain": [
       "0"
      ]
     },
     "execution_count": 11,
     "metadata": {},
     "output_type": "execute_result"
    }
   ],
   "source": [
    "df.duplicated().sum() # подсчёт явных дубликатов"
   ]
  },
  {
   "cell_type": "markdown",
   "metadata": {
    "id": "Ot25h6XR_Zct"
   },
   "source": [
    "Вызовим специальный метод `pandas`, чтобы удалить явные дубликаты:"
   ]
  },
  {
   "cell_type": "code",
   "execution_count": 12,
   "metadata": {
    "id": "exFHq6tt_Zct"
   },
   "outputs": [],
   "source": [
    "# удаление явных дубликатов (с удалением старых индексов и формированием новых)\n",
    "df = df.drop_duplicates().reset_index(drop=True) "
   ]
  },
  {
   "cell_type": "markdown",
   "metadata": {
    "id": "Im2YwBEG_Zct"
   },
   "source": [
    "Ещё раз посчитаем явные дубликаты в таблице — убедимся, что полностью от них избавились:"
   ]
  },
  {
   "cell_type": "code",
   "execution_count": 13,
   "metadata": {
    "id": "-8PuNWQ0_Zct"
   },
   "outputs": [
    {
     "data": {
      "text/plain": [
       "0"
      ]
     },
     "execution_count": 13,
     "metadata": {},
     "output_type": "execute_result"
    }
   ],
   "source": [
    "df.duplicated().sum() # проверка на отсутствие дубликатов"
   ]
  },
  {
   "cell_type": "markdown",
   "metadata": {
    "id": "QlFBsxAr_Zct"
   },
   "source": [
    "Теперь избавимся от неявных дубликатов в колонке `genre`. Например, название одного и того же жанра может быть записано немного по-разному. Такие ошибки тоже повлияют на результат исследования."
   ]
  },
  {
   "cell_type": "markdown",
   "metadata": {
    "id": "eSjWwsOh_Zct"
   },
   "source": [
    "Выведим на экран список уникальных названий жанров, отсортированный в алфавитном порядке. Для этого:\n",
    "* извлечем нужный столбец датафрейма, \n",
    "* применим к нему метод сортировки,\n",
    "* для отсортированного столбца вызовим метод, который вернёт уникальные значения из столбца."
   ]
  },
  {
   "cell_type": "code",
   "execution_count": 14,
   "metadata": {
    "id": "JIUcqzZN_Zct"
   },
   "outputs": [
    {
     "data": {
      "text/plain": [
       "array(['acid', 'acoustic', 'action', 'adult', 'africa', 'afrikaans',\n",
       "       'alternative', 'alternativepunk', 'ambient', 'americana',\n",
       "       'animated', 'anime', 'arabesk', 'arabic', 'arena',\n",
       "       'argentinetango', 'art', 'audiobook', 'author', 'avantgarde',\n",
       "       'axé', 'baile', 'balkan', 'beats', 'bigroom', 'black', 'bluegrass',\n",
       "       'blues', 'bollywood', 'bossa', 'brazilian', 'breakbeat', 'breaks',\n",
       "       'broadway', 'cantautori', 'cantopop', 'canzone', 'caribbean',\n",
       "       'caucasian', 'celtic', 'chamber', 'chanson', 'children', 'chill',\n",
       "       'chinese', 'choral', 'christian', 'christmas', 'classical',\n",
       "       'classicmetal', 'club', 'colombian', 'comedy', 'conjazz',\n",
       "       'contemporary', 'country', 'cuban', 'dance', 'dancehall',\n",
       "       'dancepop', 'dark', 'death', 'deep', 'deutschrock', 'deutschspr',\n",
       "       'dirty', 'disco', 'dnb', 'documentary', 'downbeat', 'downtempo',\n",
       "       'drum', 'dub', 'dubstep', 'eastern', 'easy', 'electronic',\n",
       "       'electropop', 'emo', 'entehno', 'epicmetal', 'estrada', 'ethnic',\n",
       "       'eurofolk', 'european', 'experimental', 'extrememetal', 'fado',\n",
       "       'fairytail', 'film', 'fitness', 'flamenco', 'folk', 'folklore',\n",
       "       'folkmetal', 'folkrock', 'folktronica', 'forró', 'frankreich',\n",
       "       'französisch', 'french', 'funk', 'future', 'gangsta', 'garage',\n",
       "       'german', 'ghazal', 'gitarre', 'glitch', 'gospel', 'gothic',\n",
       "       'grime', 'grunge', 'gypsy', 'handsup', \"hard'n'heavy\", 'hardcore',\n",
       "       'hardstyle', 'hardtechno', 'hip', 'hip-hop', 'hiphop',\n",
       "       'historisch', 'holiday', 'hop', 'horror', 'house', 'hymn', 'idm',\n",
       "       'independent', 'indian', 'indie', 'indipop', 'industrial',\n",
       "       'inspirational', 'instrumental', 'international', 'irish', 'jam',\n",
       "       'japanese', 'jazz', 'jewish', 'jpop', 'jungle', 'k-pop',\n",
       "       'karadeniz', 'karaoke', 'kayokyoku', 'korean', 'laiko', 'latin',\n",
       "       'latino', 'leftfield', 'local', 'lounge', 'loungeelectronic',\n",
       "       'lovers', 'malaysian', 'mandopop', 'marschmusik', 'meditative',\n",
       "       'mediterranean', 'melodic', 'metal', 'metalcore', 'mexican',\n",
       "       'middle', 'minimal', 'miscellaneous', 'modern', 'mood', 'mpb',\n",
       "       'muslim', 'native', 'neoklassik', 'neue', 'new', 'newage',\n",
       "       'newwave', 'nu', 'nujazz', 'numetal', 'oceania', 'old', 'opera',\n",
       "       'orchestral', 'other', 'piano', 'podcasts', 'pop', 'popdance',\n",
       "       'popelectronic', 'popeurodance', 'poprussian', 'post',\n",
       "       'posthardcore', 'postrock', 'power', 'progmetal', 'progressive',\n",
       "       'psychedelic', 'punjabi', 'punk', 'quebecois', 'ragga', 'ram',\n",
       "       'rancheras', 'rap', 'rave', 'reggae', 'reggaeton', 'regional',\n",
       "       'relax', 'religious', 'retro', 'rhythm', 'rnb', 'rnr', 'rock',\n",
       "       'rockabilly', 'rockalternative', 'rockindie', 'rockother',\n",
       "       'romance', 'roots', 'ruspop', 'rusrap', 'rusrock', 'russian',\n",
       "       'salsa', 'samba', 'scenic', 'schlager', 'self', 'sertanejo',\n",
       "       'shanson', 'shoegazing', 'showtunes', 'singer', 'ska', 'skarock',\n",
       "       'slow', 'smooth', 'soft', 'soul', 'soulful', 'sound', 'soundtrack',\n",
       "       'southern', 'specialty', 'speech', 'spiritual', 'sport',\n",
       "       'stonerrock', 'surf', 'swing', 'synthpop', 'synthrock',\n",
       "       'sängerportrait', 'tango', 'tanzorchester', 'taraftar', 'tatar',\n",
       "       'tech', 'techno', 'teen', 'thrash', 'top', 'traditional',\n",
       "       'tradjazz', 'trance', 'tribal', 'trip', 'triphop', 'tropical',\n",
       "       'türk', 'türkçe', 'ukrrock', 'unknown', 'urban', 'uzbek',\n",
       "       'variété', 'vi', 'videogame', 'vocal', 'western', 'world',\n",
       "       'worldbeat', 'ïîï', 'электроника'], dtype=object)"
      ]
     },
     "execution_count": 14,
     "metadata": {},
     "output_type": "execute_result"
    }
   ],
   "source": [
    "df['genre'].sort_values().unique() # Просмотр уникальных названий жанров"
   ]
  },
  {
   "cell_type": "markdown",
   "metadata": {
    "id": "qej-Qmuo_Zct"
   },
   "source": [
    "Просмотрим список и найдем неявные дубликаты названия `hiphop`. Это могут быть названия с ошибками или альтернативные названия того же жанра.\n",
    "\n",
    "Видим следующие неявные дубликаты:\n",
    "* *hip*,\n",
    "* *hop*,\n",
    "* *hip-hop*.\n",
    "\n",
    "Чтобы очистить от них таблицу, напишите функцию `replace_wrong_genres()` с двумя параметрами: \n",
    "* `wrong_genres` — список дубликатов,\n",
    "* `correct_genre` — строка с правильным значением.\n",
    "\n",
    "Функция должна исправить колонку `genre` в таблице `df`: заменить каждое значение из списка `wrong_genres` на значение из `correct_genre`."
   ]
  },
  {
   "cell_type": "code",
   "execution_count": 15,
   "metadata": {
    "id": "ErNDkmns_Zct"
   },
   "outputs": [],
   "source": [
    "# Функция для замены неявных дубликатов\n",
    "def replace_wrong_genres(wrong_genres, correct_genre):\n",
    "    for wrong_genre in wrong_genres:\n",
    "        df['genre'] = df['genre'].replace(wrong_genre, correct_genre)"
   ]
  },
  {
   "cell_type": "markdown",
   "metadata": {
    "id": "aDoBJxbA_Zct"
   },
   "source": [
    "Вызовем `replace_wrong_genres()` и передайте ей такие аргументы, чтобы она устранила неявные дубликаты: вместо `hip`, `hop` и `hip-hop` в таблице должно быть значение `hiphop`:"
   ]
  },
  {
   "cell_type": "code",
   "execution_count": 16,
   "metadata": {
    "id": "YN5i2hpmSo09"
   },
   "outputs": [],
   "source": [
    "# Устранение неявных дубликатов\n",
    "replace_wrong_genres(['hip', 'hop', 'hip-hop'], 'hiphop')\n",
    "replace_wrong_genres('электроника', 'electronic')"
   ]
  },
  {
   "cell_type": "markdown",
   "metadata": {
    "id": "zQKF16_RG15m"
   },
   "source": [
    "Проверим, что заменили неправильные названия:\n",
    "\n",
    "*   hip\n",
    "*   hop\n",
    "*   hip-hop\n",
    "*   электроника\n",
    "\n",
    "Выведим отсортированный список уникальных значений столбца `genre`:"
   ]
  },
  {
   "cell_type": "code",
   "execution_count": 17,
   "metadata": {
    "id": "wvixALnFG15m"
   },
   "outputs": [
    {
     "data": {
      "text/plain": [
       "['acid',\n",
       " 'acoustic',\n",
       " 'action',\n",
       " 'adult',\n",
       " 'africa',\n",
       " 'afrikaans',\n",
       " 'alternative',\n",
       " 'alternativepunk',\n",
       " 'ambient',\n",
       " 'americana',\n",
       " 'animated',\n",
       " 'anime',\n",
       " 'arabesk',\n",
       " 'arabic',\n",
       " 'arena',\n",
       " 'argentinetango',\n",
       " 'art',\n",
       " 'audiobook',\n",
       " 'author',\n",
       " 'avantgarde',\n",
       " 'axé',\n",
       " 'baile',\n",
       " 'balkan',\n",
       " 'beats',\n",
       " 'bigroom',\n",
       " 'black',\n",
       " 'bluegrass',\n",
       " 'blues',\n",
       " 'bollywood',\n",
       " 'bossa',\n",
       " 'brazilian',\n",
       " 'breakbeat',\n",
       " 'breaks',\n",
       " 'broadway',\n",
       " 'cantautori',\n",
       " 'cantopop',\n",
       " 'canzone',\n",
       " 'caribbean',\n",
       " 'caucasian',\n",
       " 'celtic',\n",
       " 'chamber',\n",
       " 'chanson',\n",
       " 'children',\n",
       " 'chill',\n",
       " 'chinese',\n",
       " 'choral',\n",
       " 'christian',\n",
       " 'christmas',\n",
       " 'classical',\n",
       " 'classicmetal',\n",
       " 'club',\n",
       " 'colombian',\n",
       " 'comedy',\n",
       " 'conjazz',\n",
       " 'contemporary',\n",
       " 'country',\n",
       " 'cuban',\n",
       " 'dance',\n",
       " 'dancehall',\n",
       " 'dancepop',\n",
       " 'dark',\n",
       " 'death',\n",
       " 'deep',\n",
       " 'deutschrock',\n",
       " 'deutschspr',\n",
       " 'dirty',\n",
       " 'disco',\n",
       " 'dnb',\n",
       " 'documentary',\n",
       " 'downbeat',\n",
       " 'downtempo',\n",
       " 'drum',\n",
       " 'dub',\n",
       " 'dubstep',\n",
       " 'eastern',\n",
       " 'easy',\n",
       " 'electronic',\n",
       " 'electropop',\n",
       " 'emo',\n",
       " 'entehno',\n",
       " 'epicmetal',\n",
       " 'estrada',\n",
       " 'ethnic',\n",
       " 'eurofolk',\n",
       " 'european',\n",
       " 'experimental',\n",
       " 'extrememetal',\n",
       " 'fado',\n",
       " 'fairytail',\n",
       " 'film',\n",
       " 'fitness',\n",
       " 'flamenco',\n",
       " 'folk',\n",
       " 'folklore',\n",
       " 'folkmetal',\n",
       " 'folkrock',\n",
       " 'folktronica',\n",
       " 'forró',\n",
       " 'frankreich',\n",
       " 'französisch',\n",
       " 'french',\n",
       " 'funk',\n",
       " 'future',\n",
       " 'gangsta',\n",
       " 'garage',\n",
       " 'german',\n",
       " 'ghazal',\n",
       " 'gitarre',\n",
       " 'glitch',\n",
       " 'gospel',\n",
       " 'gothic',\n",
       " 'grime',\n",
       " 'grunge',\n",
       " 'gypsy',\n",
       " 'handsup',\n",
       " \"hard'n'heavy\",\n",
       " 'hardcore',\n",
       " 'hardstyle',\n",
       " 'hardtechno',\n",
       " 'hiphop',\n",
       " 'historisch',\n",
       " 'holiday',\n",
       " 'horror',\n",
       " 'house',\n",
       " 'hymn',\n",
       " 'idm',\n",
       " 'independent',\n",
       " 'indian',\n",
       " 'indie',\n",
       " 'indipop',\n",
       " 'industrial',\n",
       " 'inspirational',\n",
       " 'instrumental',\n",
       " 'international',\n",
       " 'irish',\n",
       " 'jam',\n",
       " 'japanese',\n",
       " 'jazz',\n",
       " 'jewish',\n",
       " 'jpop',\n",
       " 'jungle',\n",
       " 'k-pop',\n",
       " 'karadeniz',\n",
       " 'karaoke',\n",
       " 'kayokyoku',\n",
       " 'korean',\n",
       " 'laiko',\n",
       " 'latin',\n",
       " 'latino',\n",
       " 'leftfield',\n",
       " 'local',\n",
       " 'lounge',\n",
       " 'loungeelectronic',\n",
       " 'lovers',\n",
       " 'malaysian',\n",
       " 'mandopop',\n",
       " 'marschmusik',\n",
       " 'meditative',\n",
       " 'mediterranean',\n",
       " 'melodic',\n",
       " 'metal',\n",
       " 'metalcore',\n",
       " 'mexican',\n",
       " 'middle',\n",
       " 'minimal',\n",
       " 'miscellaneous',\n",
       " 'modern',\n",
       " 'mood',\n",
       " 'mpb',\n",
       " 'muslim',\n",
       " 'native',\n",
       " 'neoklassik',\n",
       " 'neue',\n",
       " 'new',\n",
       " 'newage',\n",
       " 'newwave',\n",
       " 'nu',\n",
       " 'nujazz',\n",
       " 'numetal',\n",
       " 'oceania',\n",
       " 'old',\n",
       " 'opera',\n",
       " 'orchestral',\n",
       " 'other',\n",
       " 'piano',\n",
       " 'podcasts',\n",
       " 'pop',\n",
       " 'popdance',\n",
       " 'popelectronic',\n",
       " 'popeurodance',\n",
       " 'poprussian',\n",
       " 'post',\n",
       " 'posthardcore',\n",
       " 'postrock',\n",
       " 'power',\n",
       " 'progmetal',\n",
       " 'progressive',\n",
       " 'psychedelic',\n",
       " 'punjabi',\n",
       " 'punk',\n",
       " 'quebecois',\n",
       " 'ragga',\n",
       " 'ram',\n",
       " 'rancheras',\n",
       " 'rap',\n",
       " 'rave',\n",
       " 'reggae',\n",
       " 'reggaeton',\n",
       " 'regional',\n",
       " 'relax',\n",
       " 'religious',\n",
       " 'retro',\n",
       " 'rhythm',\n",
       " 'rnb',\n",
       " 'rnr',\n",
       " 'rock',\n",
       " 'rockabilly',\n",
       " 'rockalternative',\n",
       " 'rockindie',\n",
       " 'rockother',\n",
       " 'romance',\n",
       " 'roots',\n",
       " 'ruspop',\n",
       " 'rusrap',\n",
       " 'rusrock',\n",
       " 'russian',\n",
       " 'salsa',\n",
       " 'samba',\n",
       " 'scenic',\n",
       " 'schlager',\n",
       " 'self',\n",
       " 'sertanejo',\n",
       " 'shanson',\n",
       " 'shoegazing',\n",
       " 'showtunes',\n",
       " 'singer',\n",
       " 'ska',\n",
       " 'skarock',\n",
       " 'slow',\n",
       " 'smooth',\n",
       " 'soft',\n",
       " 'soul',\n",
       " 'soulful',\n",
       " 'sound',\n",
       " 'soundtrack',\n",
       " 'southern',\n",
       " 'specialty',\n",
       " 'speech',\n",
       " 'spiritual',\n",
       " 'sport',\n",
       " 'stonerrock',\n",
       " 'surf',\n",
       " 'swing',\n",
       " 'synthpop',\n",
       " 'synthrock',\n",
       " 'sängerportrait',\n",
       " 'tango',\n",
       " 'tanzorchester',\n",
       " 'taraftar',\n",
       " 'tatar',\n",
       " 'tech',\n",
       " 'techno',\n",
       " 'teen',\n",
       " 'thrash',\n",
       " 'top',\n",
       " 'traditional',\n",
       " 'tradjazz',\n",
       " 'trance',\n",
       " 'tribal',\n",
       " 'trip',\n",
       " 'triphop',\n",
       " 'tropical',\n",
       " 'türk',\n",
       " 'türkçe',\n",
       " 'ukrrock',\n",
       " 'unknown',\n",
       " 'urban',\n",
       " 'uzbek',\n",
       " 'variété',\n",
       " 'vi',\n",
       " 'videogame',\n",
       " 'vocal',\n",
       " 'western',\n",
       " 'world',\n",
       " 'worldbeat',\n",
       " 'ïîï',\n",
       " 'электроника']"
      ]
     },
     "execution_count": 17,
     "metadata": {},
     "output_type": "execute_result"
    }
   ],
   "source": [
    "sorted(df['genre'].unique()) # Проверка на неявные дубликаты"
   ]
  },
  {
   "cell_type": "markdown",
   "metadata": {
    "id": "jz6a9-7HQUDd"
   },
   "source": [
    "**Выводы**\n",
    "\n",
    "Предобработка обнаружила три проблемы в данных:\n",
    "\n",
    "- нарушения в стиле заголовков,\n",
    "- пропущенные значения,\n",
    "- дубликаты — явные и неявные.\n",
    "\n",
    "Мы исправили заголовки, чтобы упростить работу с таблицей. Без дубликатов исследование станет более точным.\n",
    "\n",
    "Пропущенные значения заменили на `'unknown'`. Ещё предстоит увидеть, не повредят ли исследованию пропуски в колонке `genre`.\n",
    "\n",
    "Теперь можно перейти к проверке гипотез. "
   ]
  },
  {
   "cell_type": "markdown",
   "metadata": {
    "id": "WttZHXH0SqKk"
   },
   "source": [
    "## Проверка гипотез\n",
    "<a id='hypothesis'></a>"
   ]
  },
  {
   "cell_type": "markdown",
   "metadata": {
    "id": "Im936VVi_Zcu"
   },
   "source": [
    "### Сравнение поведения пользователей двух столиц\n",
    "<a id='hyp1'></a>"
   ]
  },
  {
   "cell_type": "markdown",
   "metadata": {
    "id": "nwt_MuaL_Zcu"
   },
   "source": [
    "Первая гипотеза утверждает, что пользователи по-разному слушают музыку в Москве и Санкт-Петербурге. Проверим это предположение по данным о трёх днях недели — понедельнике, среде и пятнице. Для этого:\n",
    "\n",
    "* Разделим пользователей Москвы и Санкт-Петербурга\n",
    "* Сравним, сколько треков послушала каждая группа пользователей в понедельник, среду и пятницу.\n"
   ]
  },
  {
   "cell_type": "markdown",
   "metadata": {
    "id": "8Dw_YMmT_Zcu"
   },
   "source": [
    "Оценим активность пользователей в каждом городе. Сгруппируем данные по городу и посчитаем прослушивания в каждой группе."
   ]
  },
  {
   "cell_type": "code",
   "execution_count": 18,
   "metadata": {
    "id": "0_Qs96oh_Zcu"
   },
   "outputs": [
    {
     "data": {
      "text/plain": [
       "city\n",
       "Moscow              45360\n",
       "Saint-Petersburg    19719\n",
       "Name: time, dtype: int64"
      ]
     },
     "execution_count": 18,
     "metadata": {},
     "output_type": "execute_result"
    }
   ],
   "source": [
    "df.groupby('city')['time'].count() # Подсчёт прослушиваний в каждом городе"
   ]
  },
  {
   "cell_type": "markdown",
   "metadata": {
    "id": "dzli3w8o_Zcu"
   },
   "source": [
    "В Москве прослушиваний больше, чем в Петербурге. Из этого не следует, что московские пользователи чаще слушают музыку. Просто самих пользователей в Москве больше.\n",
    "\n",
    "Теперь сгруппируем данные по дню недели и подсчитем прослушивания в понедельник, среду и пятницу. Учтем, что в данных есть информация только о прослушиваниях только за эти дни."
   ]
  },
  {
   "cell_type": "code",
   "execution_count": 19,
   "metadata": {
    "id": "uZMKjiJz_Zcu"
   },
   "outputs": [
    {
     "data": {
      "text/plain": [
       "day\n",
       "Friday       23149\n",
       "Monday       22697\n",
       "Wednesday    19233\n",
       "Name: time, dtype: int64"
      ]
     },
     "execution_count": 19,
     "metadata": {},
     "output_type": "execute_result"
    }
   ],
   "source": [
    "df.groupby('day')['time'].count() # Подсчёт прослушиваний в каждый из трёх дней"
   ]
  },
  {
   "cell_type": "markdown",
   "metadata": {
    "id": "cC2tNrlL_Zcu"
   },
   "source": [
    "В среднем пользователи из двух городов менее активны по средам. Но картина может измениться, если рассмотреть каждый город в отдельности."
   ]
  },
  {
   "cell_type": "markdown",
   "metadata": {
    "id": "POzs8bGa_Zcu"
   },
   "source": [
    "Мы видели, как работает группировка по городу и по дням недели. Теперь напишем функцию, которая объединит два эти расчёта.\n",
    "\n",
    "Создадим функцию `number_tracks()`, которая посчитает прослушивания для заданного дня и города. Ей понадобятся два параметра:\n",
    "* день недели,\n",
    "* название города.\n",
    "\n",
    "В функции сохраним в переменную строки исходной таблицы, у которых значение:\n",
    "  * в колонке `day` равно параметру `day`,\n",
    "  * в колонке `city` равно параметру `city`.\n",
    "\n",
    "Для этого применим последовательную фильтрацию с логической индексацией.\n",
    "\n",
    "Затем посчитаем значения в столбце `user_id` получившейся таблицы. Результат сохраним в новую переменную. Вернем эту переменную из функции."
   ]
  },
  {
   "cell_type": "code",
   "execution_count": 20,
   "metadata": {
    "id": "Nz3GdQB1_Zcu"
   },
   "outputs": [],
   "source": [
    "# <создание функции number_tracks()>\n",
    "def number_tracks(day, city): # Объявляется функция с двумя параметрами: day, city.\n",
    "    track_list = df[df['day'] == day]   # В переменной track_list сохраняются те строки таблицы df, для которых \n",
    "                                        # значение в столбце 'day' равно параметру day и одновременно значение\n",
    "    track_list = track_list[track_list['city'] == city] # в столбце 'city' равно параметру city (используйте последовательную фильтрацию\n",
    "                                                        # с помощью логической индексации).\n",
    "    track_list_count = track_list['user_id'].count() # В переменной track_list_count сохраняется число значений столбца 'user_id',\n",
    "                                                     # рассчитанное методом count() для таблицы track_list.\n",
    "    return track_list_count # Функция возвращает число - значение track_list_count.\n",
    "\n",
    "# Функция для подсчёта прослушиваний для конкретного города и дня.\n",
    "# С помощью последовательной фильтрации с логической индексацией она \n",
    "# сначала получит из исходной таблицы строки с нужным днём,\n",
    "# затем из результата отфильтрует строки с нужным городом,\n",
    "# методом count() посчитает количество значений в колонке user_id. \n",
    "# Это количество функция вернёт в качестве результата"
   ]
  },
  {
   "cell_type": "markdown",
   "metadata": {
    "id": "ytf7xFrFJQ2r"
   },
   "source": [
    "Вызовим `number_tracks()` шесть раз, меняя значение параметров — так, чтобы получить данные для каждого города в каждый из трёх дней."
   ]
  },
  {
   "cell_type": "code",
   "execution_count": 21,
   "metadata": {
    "id": "rJcRATNQ_Zcu"
   },
   "outputs": [
    {
     "data": {
      "text/plain": [
       "16715"
      ]
     },
     "execution_count": 21,
     "metadata": {},
     "output_type": "execute_result"
    }
   ],
   "source": [
    "number_tracks('Monday', 'Moscow') # количество прослушиваний в Москве по понедельникам"
   ]
  },
  {
   "cell_type": "code",
   "execution_count": 22,
   "metadata": {
    "id": "hq_ncZ5T_Zcu"
   },
   "outputs": [
    {
     "data": {
      "text/plain": [
       "5982"
      ]
     },
     "execution_count": 22,
     "metadata": {},
     "output_type": "execute_result"
    }
   ],
   "source": [
    "number_tracks('Monday', 'Saint-Petersburg') # количество прослушиваний в Санкт-Петербурге по понедельникам"
   ]
  },
  {
   "cell_type": "code",
   "execution_count": 23,
   "metadata": {
    "id": "_NTy2VPU_Zcu"
   },
   "outputs": [
    {
     "data": {
      "text/plain": [
       "11755"
      ]
     },
     "execution_count": 23,
     "metadata": {},
     "output_type": "execute_result"
    }
   ],
   "source": [
    "number_tracks('Wednesday', 'Moscow')# количество прослушиваний в Москве по средам"
   ]
  },
  {
   "cell_type": "code",
   "execution_count": 24,
   "metadata": {
    "id": "j2y3TAwo_Zcu"
   },
   "outputs": [
    {
     "data": {
      "text/plain": [
       "7478"
      ]
     },
     "execution_count": 24,
     "metadata": {},
     "output_type": "execute_result"
    }
   ],
   "source": [
    "number_tracks('Wednesday', 'Saint-Petersburg') # количество прослушиваний в Санкт-Петербурге по средам"
   ]
  },
  {
   "cell_type": "code",
   "execution_count": 25,
   "metadata": {
    "id": "vYDw5u_K_Zcu"
   },
   "outputs": [
    {
     "data": {
      "text/plain": [
       "16890"
      ]
     },
     "execution_count": 25,
     "metadata": {},
     "output_type": "execute_result"
    }
   ],
   "source": [
    "number_tracks('Friday', 'Moscow') # количество прослушиваний в Москве по пятницам"
   ]
  },
  {
   "cell_type": "code",
   "execution_count": 26,
   "metadata": {
    "id": "8_yzFtW3_Zcu"
   },
   "outputs": [
    {
     "data": {
      "text/plain": [
       "6259"
      ]
     },
     "execution_count": 26,
     "metadata": {},
     "output_type": "execute_result"
    }
   ],
   "source": [
    "number_tracks('Friday', 'Saint-Petersburg') # количество прослушиваний в Санкт-Петербурге по пятницам"
   ]
  },
  {
   "cell_type": "markdown",
   "metadata": {
    "id": "7QXffbO-_Zcu"
   },
   "source": [
    "Создадим c помощью конструктора `pd.DataFrame` таблицу, где\n",
    "* названия колонок — `['city', 'monday', 'wednesday', 'friday']`;\n",
    "* данные — результаты, которые вы получили с помощью `number_tracks`."
   ]
  },
  {
   "cell_type": "code",
   "execution_count": 27,
   "metadata": {
    "id": "APAcLpOr_Zcu"
   },
   "outputs": [
    {
     "data": {
      "text/html": [
       "<div>\n",
       "<style scoped>\n",
       "    .dataframe tbody tr th:only-of-type {\n",
       "        vertical-align: middle;\n",
       "    }\n",
       "\n",
       "    .dataframe tbody tr th {\n",
       "        vertical-align: top;\n",
       "    }\n",
       "\n",
       "    .dataframe thead th {\n",
       "        text-align: right;\n",
       "    }\n",
       "</style>\n",
       "<table border=\"1\" class=\"dataframe\">\n",
       "  <thead>\n",
       "    <tr style=\"text-align: right;\">\n",
       "      <th></th>\n",
       "      <th>city</th>\n",
       "      <th>monday</th>\n",
       "      <th>wednesday</th>\n",
       "      <th>friday</th>\n",
       "    </tr>\n",
       "  </thead>\n",
       "  <tbody>\n",
       "    <tr>\n",
       "      <th>0</th>\n",
       "      <td>Moscow</td>\n",
       "      <td>15740</td>\n",
       "      <td>11056</td>\n",
       "      <td>15945</td>\n",
       "    </tr>\n",
       "    <tr>\n",
       "      <th>1</th>\n",
       "      <td>Saint-Petersburg</td>\n",
       "      <td>5614</td>\n",
       "      <td>7003</td>\n",
       "      <td>5895</td>\n",
       "    </tr>\n",
       "  </tbody>\n",
       "</table>\n",
       "</div>"
      ],
      "text/plain": [
       "               city  monday  wednesday  friday\n",
       "0            Moscow   15740      11056   15945\n",
       "1  Saint-Petersburg    5614       7003    5895"
      ]
     },
     "metadata": {},
     "output_type": "display_data"
    }
   ],
   "source": [
    "number_tracks_result = [['Moscow',15740,11056,15945],['Saint-Petersburg',5614,7003,5895]]   \n",
    "column_name = ['city', 'monday', 'wednesday', 'friday']\n",
    "gip_one = pd.DataFrame(data=number_tracks_result, columns=column_name) \n",
    "display(gip_one) # Таблица с результатами"
   ]
  },
  {
   "cell_type": "markdown",
   "metadata": {
    "id": "-EgPIHYu_Zcu"
   },
   "source": [
    "**Выводы**\n",
    "\n",
    "Данные показывают разницу поведения пользователей:\n",
    "\n",
    "- В Москве пик прослушиваний приходится на понедельник и пятницу, а в среду заметен спад.\n",
    "- В Петербурге, наоборот, больше слушают музыку по средам. Активность в понедельник и пятницу здесь почти в равной мере уступает среде.\n",
    "\n",
    "Значит, данные говорят в пользу первой гипотезы."
   ]
  },
  {
   "cell_type": "markdown",
   "metadata": {
    "id": "atZAxtq4_Zcu"
   },
   "source": [
    "### Музыка в начале и в конце недели\n",
    "<a id='hyp2'></a>"
   ]
  },
  {
   "cell_type": "markdown",
   "metadata": {
    "id": "eXrQqXFH_Zcu"
   },
   "source": [
    "Согласно второй гипотезе, утром в понедельник в Москве преобладают одни жанры, а в Петербурге — другие. Так же и вечером пятницы преобладают разные жанры — в зависимости от города."
   ]
  },
  {
   "cell_type": "markdown",
   "metadata": {
    "id": "S8UcW6Hw_Zcu"
   },
   "source": [
    "Сохраним таблицы с данными в две переменные:\n",
    "* по Москве — в `moscow_general`;\n",
    "* по Санкт-Петербургу — в `spb_general`."
   ]
  },
  {
   "cell_type": "code",
   "execution_count": 28,
   "metadata": {
    "id": "qeaFfM_P_Zcu"
   },
   "outputs": [],
   "source": [
    "# получение таблицы moscow_general из тех строк таблицы df, \n",
    "# для которых значение в столбце 'city' равно 'Moscow'\n",
    "moscow_general = df[df['city'] == 'Moscow']"
   ]
  },
  {
   "cell_type": "code",
   "execution_count": 29,
   "metadata": {
    "id": "ORaVRKto_Zcu"
   },
   "outputs": [],
   "source": [
    "# получение таблицы spb_general из тех строк таблицы df,\n",
    "# для которых значение в столбце 'city' равно 'Saint-Petersburg'\n",
    "spb_general = df[df['city'] == 'Saint-Petersburg']"
   ]
  },
  {
   "cell_type": "markdown",
   "metadata": {
    "id": "MEJV-CX2_Zcu"
   },
   "source": [
    "Создадим функцию `genre_weekday()` с четырьмя параметрами:\n",
    "* таблица (датафрейм) с данными,\n",
    "* день недели,\n",
    "* начальная временная метка в формате 'hh:mm', \n",
    "* последняя временная метка в формате 'hh:mm'.\n",
    "\n",
    "Функция должна вернуть информацию о топ-10 жанров тех треков, которые прослушивали в указанный день, в промежутке между двумя отметками времени."
   ]
  },
  {
   "cell_type": "code",
   "execution_count": 30,
   "metadata": {
    "id": "laJT9BYl_Zcu"
   },
   "outputs": [],
   "source": [
    "def genre_weekday(table, day, time1, time2): # Объявление функции genre_weekday() с параметрами table, day, time1, time2,\n",
    "                                             # которая возвращает информацию о самых популярных жанрах в указанный день в\n",
    "                                             # заданное время:\n",
    "    # 1) в переменную genre_df сохраняются те строки переданного датафрейма table, для\n",
    "    #    которых одновременно:\n",
    "    #    - значение в столбце day равно значению аргумента day\n",
    "    #    - значение в столбце time больше значения аргумента time1\n",
    "    #    - значение в столбце time меньше значения аргумента time2\n",
    "    #    Используйте последовательную фильтрацию с помощью логической индексации.\n",
    "    genre_df = table[(table['day'] == day) & (table['time'] > time1) & (table['time'] < time2)]\n",
    "    genre_df_count = genre_df.groupby('genre')['genre'].count() # 2) сгруппировать датафрейм genre_df по столбцу genre, взять один из его\n",
    "                                                                #    столбцов и посчитать методом count() количество записей для каждого из\n",
    "                                                                #    присутствующих жанров, получившийся Series записать в переменную\n",
    "                                                                #    genre_df_count\n",
    "    genre_df_sorted = genre_df_count.sort_values(ascending=False) # 3) отсортировать genre_df_count по убыванию встречаемости и сохранить\n",
    "                                                                  #    в переменную genre_df_sorted\n",
    "    return genre_df_sorted.head(10) # 4) вернуть Series из 10 первых значений genre_df_sorted, это будут топ-10\n",
    "                                    #    популярных жанров (в указанный день, в заданное время)"
   ]
  },
  {
   "cell_type": "markdown",
   "metadata": {
    "id": "la2s2_PF_Zcu"
   },
   "source": [
    "Cравним результаты функции `genre_weekday()` для Москвы и Санкт-Петербурга в понедельник утром (с 7:00 до 11:00) и в пятницу вечером (с 17:00 до 23:00):"
   ]
  },
  {
   "cell_type": "code",
   "execution_count": 31,
   "metadata": {
    "id": "yz7itPUQ_Zcu"
   },
   "outputs": [
    {
     "data": {
      "text/plain": [
       "genre\n",
       "pop            830\n",
       "dance          589\n",
       "rock           511\n",
       "electronic     501\n",
       "hiphop         311\n",
       "ruspop         203\n",
       "world          190\n",
       "rusrap         188\n",
       "alternative    175\n",
       "unknown        172\n",
       "Name: genre, dtype: int64"
      ]
     },
     "execution_count": 31,
     "metadata": {},
     "output_type": "execute_result"
    }
   ],
   "source": [
    "# вызов функции для утра понедельника в Москве (вместо df — таблица moscow_general)\n",
    "# объекты, хранящие время, являются строками и сравниваются как строки\n",
    "genre_weekday(moscow_general, 'Monday', '07:00', '11:00')"
   ]
  },
  {
   "cell_type": "code",
   "execution_count": 32,
   "metadata": {
    "id": "kwUcHPdy_Zcu"
   },
   "outputs": [
    {
     "data": {
      "text/plain": [
       "genre\n",
       "pop            238\n",
       "dance          192\n",
       "rock           173\n",
       "electronic     154\n",
       "hiphop          88\n",
       "ruspop          68\n",
       "alternative     65\n",
       "rusrap          56\n",
       "jazz            47\n",
       "classical       42\n",
       "Name: genre, dtype: int64"
      ]
     },
     "execution_count": 32,
     "metadata": {},
     "output_type": "execute_result"
    }
   ],
   "source": [
    "# вызов функции для утра понедельника в Петербурге (вместо df — таблица spb_general)\n",
    "genre_weekday(spb_general, 'Monday', '07:00', '11:00') "
   ]
  },
  {
   "cell_type": "code",
   "execution_count": 33,
   "metadata": {
    "id": "EzXVRE1o_Zcu"
   },
   "outputs": [
    {
     "data": {
      "text/plain": [
       "genre\n",
       "pop            761\n",
       "rock           546\n",
       "dance          521\n",
       "electronic     510\n",
       "hiphop         282\n",
       "world          220\n",
       "ruspop         184\n",
       "alternative    176\n",
       "classical      171\n",
       "rusrap         151\n",
       "Name: genre, dtype: int64"
      ]
     },
     "execution_count": 33,
     "metadata": {},
     "output_type": "execute_result"
    }
   ],
   "source": [
    "genre_weekday(moscow_general, 'Friday', '17:00', '23:00') # вызов функции для вечера пятницы в Москве"
   ]
  },
  {
   "cell_type": "code",
   "execution_count": 34,
   "metadata": {
    "id": "JZaEKu5v_Zcu"
   },
   "outputs": [
    {
     "data": {
      "text/plain": [
       "genre\n",
       "pop            279\n",
       "rock           230\n",
       "electronic     227\n",
       "dance          221\n",
       "hiphop         103\n",
       "alternative     67\n",
       "jazz            66\n",
       "rusrap          66\n",
       "classical       64\n",
       "world           60\n",
       "Name: genre, dtype: int64"
      ]
     },
     "execution_count": 34,
     "metadata": {},
     "output_type": "execute_result"
    }
   ],
   "source": [
    "genre_weekday(spb_general, 'Friday', '17:00', '23:00') # вызов функции для вечера пятницы в Петербурге"
   ]
  },
  {
   "cell_type": "markdown",
   "metadata": {
    "id": "wrCe4MNX_Zcu"
   },
   "source": [
    "**Выводы**\n",
    "\n",
    "Если сравнить топ-10 жанров в понедельник утром, можно сделать такие выводы:\n",
    "\n",
    "1. В Москве и Петербурге слушают похожую музыку. Единственное отличие — в московский рейтинг вошёл жанр “world”, а в петербургский — джаз и классика.\n",
    "\n",
    "2. В Москве пропущенных значений оказалось так много, что значение `'unknown'` заняло десятое место среди самых популярных жанров. Значит, пропущенные значения занимают существенную долю в данных и угрожают достоверности исследования.\n",
    "\n",
    "Вечер пятницы не меняет эту картину. Некоторые жанры поднимаются немного выше, другие спускаются, но в целом топ-10 остаётся тем же самым.\n",
    "\n",
    "Таким образом, вторая гипотеза подтвердилась лишь частично:\n",
    "* Пользователи слушают похожую музыку в начале недели и в конце.\n",
    "* Разница между Москвой и Петербургом не слишком выражена. В Москве чаще слушают русскую популярную музыку, в Петербурге — джаз.\n",
    "\n",
    "Однако пропуски в данных ставят под сомнение этот результат. В Москве их так много, что рейтинг топ-10 мог бы выглядеть иначе, если бы не утерянные  данные о жанрах."
   ]
  },
  {
   "cell_type": "markdown",
   "metadata": {
    "id": "JolODAqr_Zcu"
   },
   "source": [
    "### Жанровые предпочтения в Москве и Петербурге\n",
    "<a id='hyp3'></a>\n",
    "\n",
    "Гипотеза: Петербург — столица рэпа, музыку этого жанра там слушают чаще, чем в Москве.  А Москва — город контрастов, в котором, тем не менее, преобладает поп-музыка."
   ]
  },
  {
   "cell_type": "markdown",
   "metadata": {
    "id": "DlegSvaT_Zcu"
   },
   "source": [
    "Сгруппируем таблицу `moscow_general` по жанру и посчитаем прослушивания треков каждого жанра методом `count()`. Затем отсортируем результат в порядке убывания и сохраните его в таблице `moscow_genres`."
   ]
  },
  {
   "cell_type": "code",
   "execution_count": 35,
   "metadata": {
    "id": "r19lIPke_Zcu"
   },
   "outputs": [],
   "source": [
    "# группировка таблицы moscow_general по столбцу 'genre', \n",
    "# подсчёт числа значений 'genre' в этой группировке методом count(), \n",
    "# сортировка получившегося Series в порядке убывания и сохранение в moscow_genres\n",
    "moscow_genres = moscow_general.groupby('genre')['genre'].count().sort_values(ascending=False)"
   ]
  },
  {
   "cell_type": "markdown",
   "metadata": {
    "id": "6kMuomxTiIr8"
   },
   "source": [
    "Выведим на экран первые десять строк `moscow_genres`:"
   ]
  },
  {
   "cell_type": "code",
   "execution_count": 36,
   "metadata": {
    "id": "WhCSooF8_Zcv"
   },
   "outputs": [
    {
     "data": {
      "text/plain": [
       "genre\n",
       "pop            6253\n",
       "dance          4707\n",
       "rock           4188\n",
       "electronic     4010\n",
       "hiphop         2215\n",
       "classical      1712\n",
       "world          1516\n",
       "alternative    1466\n",
       "ruspop         1453\n",
       "rusrap         1239\n",
       "Name: genre, dtype: int64"
      ]
     },
     "execution_count": 36,
     "metadata": {},
     "output_type": "execute_result"
    }
   ],
   "source": [
    "moscow_genres.head(10) # просмотр первых 10 строк moscow_genres"
   ]
  },
  {
   "cell_type": "markdown",
   "metadata": {
    "id": "cnPG2vnN_Zcv"
   },
   "source": [
    "Теперь повторим то же и для Петербурга.\n",
    "\n",
    "Сгруппируем таблицу `spb_general` по жанру. Посчитаем прослушивания треков каждого жанра. Результат отсортируем в порядке убывания и сохраните в таблице `spb_genres`:\n"
   ]
  },
  {
   "cell_type": "code",
   "execution_count": 37,
   "metadata": {
    "id": "gluLIpE7_Zcv"
   },
   "outputs": [],
   "source": [
    "# группировка таблицы spb_general по столбцу 'genre', \n",
    "# подсчёт числа значений 'genre' в этой группировке методом count(), \n",
    "# сортировка получившегося Series в порядке убывания и сохранение в spb_genres\n",
    "spb_genres = spb_general.groupby('genre')['genre'].count().sort_values(ascending=False)"
   ]
  },
  {
   "cell_type": "markdown",
   "metadata": {
    "id": "5Doha_ODgyQ8"
   },
   "source": [
    "Выведем на экран первые десять строк `spb_genres`:"
   ]
  },
  {
   "cell_type": "code",
   "execution_count": 38,
   "metadata": {
    "id": "uaGJHjVU_Zcv"
   },
   "outputs": [
    {
     "data": {
      "text/plain": [
       "genre\n",
       "pop            2597\n",
       "dance          2054\n",
       "rock           2004\n",
       "electronic     1842\n",
       "hiphop         1020\n",
       "alternative     700\n",
       "classical       684\n",
       "rusrap          604\n",
       "ruspop          565\n",
       "world           553\n",
       "Name: genre, dtype: int64"
      ]
     },
     "execution_count": 38,
     "metadata": {},
     "output_type": "execute_result"
    }
   ],
   "source": [
    "spb_genres.head(10) # просмотр первых 10 строк spb_genres"
   ]
  },
  {
   "cell_type": "markdown",
   "metadata": {
    "id": "RY51YJYu_Zcv"
   },
   "source": [
    "**Выводы**"
   ]
  },
  {
   "cell_type": "markdown",
   "metadata": {
    "id": "nVhnJEm__Zcv"
   },
   "source": [
    "Гипотеза частично подтвердилась:\n",
    "* Поп-музыка — самый популярный жанр в Москве, как и предполагала гипотеза. Более того, в топ-10 жанров встречается близкий жанр — русская популярная музыка.\n",
    "* Вопреки ожиданиям, рэп одинаково популярен в Москве и Петербурге. \n"
   ]
  },
  {
   "cell_type": "markdown",
   "metadata": {
    "id": "ykKQ0N65_Zcv"
   },
   "source": [
    "## Итоги исследования\n",
    "<a id='result'></a>"
   ]
  },
  {
   "cell_type": "markdown",
   "metadata": {
    "id": "tjUwbHb3_Zcv"
   },
   "source": [
    "Мы проверили три гипотезы и установили:\n",
    "\n",
    "1. День недели по-разному влияет на активность пользователей в Москве и Петербурге. \n",
    "\n",
    "Первая гипотеза полностью подтвердилась.\n",
    "\n",
    "2. Музыкальные предпочтения не сильно меняются в течение недели — будь то Москва или Петербург. Небольшие различия заметны в начале недели, по понедельникам:\n",
    "* в Москве слушают музыку жанра “world”,\n",
    "* в Петербурге — джаз и классику.\n",
    "\n",
    "Таким образом, вторая гипотеза подтвердилась лишь отчасти. Этот результат мог оказаться иным, если бы не пропуски в данных.\n",
    "\n",
    "3. Во вкусах пользователей Москвы и Петербурга больше общего чем различий. Вопреки ожиданиям, предпочтения жанров в Петербурге напоминают московские.\n",
    "\n",
    "Третья гипотеза не подтвердилась. Если различия в предпочтениях и существуют, на основной массе пользователей они незаметны."
   ]
  }
 ],
 "metadata": {
  "ExecuteTimeLog": [
   {
    "duration": 331,
    "start_time": "2021-12-06T04:53:52.389Z"
   },
   {
    "duration": 704,
    "start_time": "2021-12-06T04:54:00.420Z"
   },
   {
    "duration": 190,
    "start_time": "2021-12-06T04:54:04.271Z"
   },
   {
    "duration": 203,
    "start_time": "2021-12-06T04:54:08.231Z"
   },
   {
    "duration": 775,
    "start_time": "2021-12-06T04:55:59.153Z"
   },
   {
    "duration": 196,
    "start_time": "2021-12-06T04:55:59.930Z"
   },
   {
    "duration": 391,
    "start_time": "2021-12-06T04:56:00.129Z"
   },
   {
    "duration": -695,
    "start_time": "2021-12-06T04:56:01.219Z"
   },
   {
    "duration": -702,
    "start_time": "2021-12-06T04:56:01.227Z"
   },
   {
    "duration": -711,
    "start_time": "2021-12-06T04:56:01.238Z"
   },
   {
    "duration": -716,
    "start_time": "2021-12-06T04:56:01.244Z"
   },
   {
    "duration": -722,
    "start_time": "2021-12-06T04:56:01.251Z"
   },
   {
    "duration": -725,
    "start_time": "2021-12-06T04:56:01.256Z"
   },
   {
    "duration": -729,
    "start_time": "2021-12-06T04:56:01.261Z"
   },
   {
    "duration": -734,
    "start_time": "2021-12-06T04:56:01.267Z"
   },
   {
    "duration": -738,
    "start_time": "2021-12-06T04:56:01.273Z"
   },
   {
    "duration": -742,
    "start_time": "2021-12-06T04:56:01.278Z"
   },
   {
    "duration": -748,
    "start_time": "2021-12-06T04:56:01.285Z"
   },
   {
    "duration": -751,
    "start_time": "2021-12-06T04:56:01.289Z"
   },
   {
    "duration": -765,
    "start_time": "2021-12-06T04:56:01.304Z"
   },
   {
    "duration": -767,
    "start_time": "2021-12-06T04:56:01.308Z"
   },
   {
    "duration": -774,
    "start_time": "2021-12-06T04:56:01.316Z"
   },
   {
    "duration": -777,
    "start_time": "2021-12-06T04:56:01.320Z"
   },
   {
    "duration": -781,
    "start_time": "2021-12-06T04:56:01.325Z"
   },
   {
    "duration": -786,
    "start_time": "2021-12-06T04:56:01.331Z"
   },
   {
    "duration": -790,
    "start_time": "2021-12-06T04:56:01.336Z"
   },
   {
    "duration": -793,
    "start_time": "2021-12-06T04:56:01.341Z"
   },
   {
    "duration": -798,
    "start_time": "2021-12-06T04:56:01.347Z"
   },
   {
    "duration": -800,
    "start_time": "2021-12-06T04:56:01.351Z"
   },
   {
    "duration": -804,
    "start_time": "2021-12-06T04:56:01.356Z"
   },
   {
    "duration": -810,
    "start_time": "2021-12-06T04:56:01.364Z"
   },
   {
    "duration": -815,
    "start_time": "2021-12-06T04:56:01.370Z"
   },
   {
    "duration": -821,
    "start_time": "2021-12-06T04:56:01.377Z"
   },
   {
    "duration": -828,
    "start_time": "2021-12-06T04:56:01.385Z"
   },
   {
    "duration": -831,
    "start_time": "2021-12-06T04:56:01.390Z"
   },
   {
    "duration": -836,
    "start_time": "2021-12-06T04:56:01.396Z"
   },
   {
    "duration": -850,
    "start_time": "2021-12-06T04:56:01.411Z"
   },
   {
    "duration": -856,
    "start_time": "2021-12-06T04:56:01.418Z"
   },
   {
    "duration": -860,
    "start_time": "2021-12-06T04:56:01.423Z"
   },
   {
    "duration": -863,
    "start_time": "2021-12-06T04:56:01.427Z"
   },
   {
    "duration": -868,
    "start_time": "2021-12-06T04:56:01.433Z"
   },
   {
    "duration": -872,
    "start_time": "2021-12-06T04:56:01.439Z"
   },
   {
    "duration": 3,
    "start_time": "2021-12-06T04:56:50.311Z"
   },
   {
    "duration": 196,
    "start_time": "2021-12-06T04:56:50.317Z"
   },
   {
    "duration": 17,
    "start_time": "2021-12-06T04:57:05.436Z"
   },
   {
    "duration": 33,
    "start_time": "2021-12-06T04:57:29.095Z"
   },
   {
    "duration": 6,
    "start_time": "2021-12-06T05:05:10.756Z"
   },
   {
    "duration": 24,
    "start_time": "2021-12-06T05:08:35.083Z"
   },
   {
    "duration": 5,
    "start_time": "2021-12-06T05:08:37.172Z"
   },
   {
    "duration": 33,
    "start_time": "2021-12-06T05:10:19.235Z"
   },
   {
    "duration": 6990,
    "start_time": "2021-12-06T05:14:29.242Z"
   },
   {
    "duration": 26,
    "start_time": "2021-12-06T05:15:21.271Z"
   },
   {
    "duration": 31,
    "start_time": "2021-12-06T05:15:55.099Z"
   },
   {
    "duration": 83,
    "start_time": "2021-12-06T05:16:45.795Z"
   },
   {
    "duration": 269,
    "start_time": "2021-12-06T05:18:15.682Z"
   },
   {
    "duration": 93,
    "start_time": "2021-12-06T05:19:52.190Z"
   },
   {
    "duration": 77,
    "start_time": "2021-12-06T05:20:05.319Z"
   },
   {
    "duration": 13,
    "start_time": "2021-12-06T05:22:27.319Z"
   },
   {
    "duration": 14,
    "start_time": "2021-12-06T05:22:43.229Z"
   },
   {
    "duration": 14,
    "start_time": "2021-12-06T05:22:50.649Z"
   },
   {
    "duration": 4,
    "start_time": "2021-12-06T05:48:58.374Z"
   },
   {
    "duration": 14,
    "start_time": "2021-12-06T05:52:51.753Z"
   },
   {
    "duration": 14,
    "start_time": "2021-12-06T05:52:54.963Z"
   },
   {
    "duration": 46,
    "start_time": "2021-12-06T05:56:11.746Z"
   },
   {
    "duration": 15,
    "start_time": "2021-12-06T05:56:48.176Z"
   },
   {
    "duration": 15,
    "start_time": "2021-12-06T05:58:54.099Z"
   },
   {
    "duration": 4,
    "start_time": "2021-12-06T06:09:40.700Z"
   },
   {
    "duration": 629,
    "start_time": "2021-12-06T06:10:51.253Z"
   },
   {
    "duration": 30,
    "start_time": "2021-12-06T06:11:11.339Z"
   },
   {
    "duration": 27,
    "start_time": "2021-12-06T06:11:44.577Z"
   },
   {
    "duration": 31,
    "start_time": "2021-12-06T06:12:05.958Z"
   },
   {
    "duration": 5,
    "start_time": "2021-12-06T06:13:03.520Z"
   },
   {
    "duration": 3720,
    "start_time": "2021-12-06T06:13:07.691Z"
   },
   {
    "duration": -779,
    "start_time": "2021-12-06T06:13:16.244Z"
   },
   {
    "duration": 3801,
    "start_time": "2021-12-06T06:13:20.381Z"
   },
   {
    "duration": -784,
    "start_time": "2021-12-06T06:13:24.970Z"
   },
   {
    "duration": 5,
    "start_time": "2021-12-06T06:14:14.192Z"
   },
   {
    "duration": 34,
    "start_time": "2021-12-06T06:14:17.319Z"
   },
   {
    "duration": 27,
    "start_time": "2021-12-06T06:14:19.322Z"
   },
   {
    "duration": 32,
    "start_time": "2021-12-06T06:14:21.672Z"
   },
   {
    "duration": 25,
    "start_time": "2021-12-06T06:14:53.234Z"
   },
   {
    "duration": 30,
    "start_time": "2021-12-06T06:16:19.575Z"
   },
   {
    "duration": 26,
    "start_time": "2021-12-06T06:16:21.709Z"
   },
   {
    "duration": 5,
    "start_time": "2021-12-06T06:17:14.744Z"
   },
   {
    "duration": 22,
    "start_time": "2021-12-06T06:17:20.557Z"
   },
   {
    "duration": 21,
    "start_time": "2021-12-06T06:17:23.139Z"
   },
   {
    "duration": 20,
    "start_time": "2021-12-06T06:17:25.779Z"
   },
   {
    "duration": 19,
    "start_time": "2021-12-06T06:17:28.678Z"
   },
   {
    "duration": 22,
    "start_time": "2021-12-06T06:17:30.431Z"
   },
   {
    "duration": 21,
    "start_time": "2021-12-06T06:17:31.589Z"
   },
   {
    "duration": 320,
    "start_time": "2021-12-06T06:19:25.032Z"
   },
   {
    "duration": 277,
    "start_time": "2021-12-06T06:20:34.104Z"
   },
   {
    "duration": 325,
    "start_time": "2021-12-06T06:22:01.407Z"
   },
   {
    "duration": 415,
    "start_time": "2021-12-06T06:26:01.583Z"
   },
   {
    "duration": 622,
    "start_time": "2021-12-06T06:28:07.087Z"
   },
   {
    "duration": 393,
    "start_time": "2021-12-06T06:29:16.119Z"
   },
   {
    "duration": 416,
    "start_time": "2021-12-06T06:30:03.785Z"
   },
   {
    "duration": 573,
    "start_time": "2021-12-06T06:32:28.339Z"
   },
   {
    "duration": 6,
    "start_time": "2021-12-06T06:34:04.793Z"
   },
   {
    "duration": 5,
    "start_time": "2021-12-06T06:34:09.712Z"
   },
   {
    "duration": 12,
    "start_time": "2021-12-06T06:34:42.983Z"
   },
   {
    "duration": 356,
    "start_time": "2021-12-06T06:35:17.985Z"
   },
   {
    "duration": 13,
    "start_time": "2021-12-06T06:35:27.140Z"
   },
   {
    "duration": 13,
    "start_time": "2021-12-06T06:36:22.281Z"
   },
   {
    "duration": 5,
    "start_time": "2021-12-06T06:36:27.325Z"
   },
   {
    "duration": 14,
    "start_time": "2021-12-06T06:37:02.510Z"
   },
   {
    "duration": 13,
    "start_time": "2021-12-06T06:37:27.161Z"
   },
   {
    "duration": 10,
    "start_time": "2021-12-06T06:40:21.704Z"
   },
   {
    "duration": 12,
    "start_time": "2021-12-06T06:40:24.189Z"
   },
   {
    "duration": 438,
    "start_time": "2021-12-06T11:53:45.498Z"
   },
   {
    "duration": 6,
    "start_time": "2021-12-06T11:54:01.338Z"
   },
   {
    "duration": 469,
    "start_time": "2021-12-06T11:55:24.997Z"
   },
   {
    "duration": 754,
    "start_time": "2021-12-06T11:55:46.293Z"
   },
   {
    "duration": 195,
    "start_time": "2021-12-06T11:55:47.050Z"
   },
   {
    "duration": 31,
    "start_time": "2021-12-06T11:55:47.249Z"
   },
   {
    "duration": 32,
    "start_time": "2021-12-06T11:55:47.283Z"
   },
   {
    "duration": 5,
    "start_time": "2021-12-06T11:55:47.318Z"
   },
   {
    "duration": 64,
    "start_time": "2021-12-06T11:55:47.325Z"
   },
   {
    "duration": 11,
    "start_time": "2021-12-06T11:55:47.391Z"
   },
   {
    "duration": 36,
    "start_time": "2021-12-06T11:55:47.406Z"
   },
   {
    "duration": 37,
    "start_time": "2021-12-06T11:55:47.445Z"
   },
   {
    "duration": 31,
    "start_time": "2021-12-06T11:55:47.484Z"
   },
   {
    "duration": 118,
    "start_time": "2021-12-06T11:55:47.517Z"
   },
   {
    "duration": 109,
    "start_time": "2021-12-06T11:55:47.637Z"
   },
   {
    "duration": 80,
    "start_time": "2021-12-06T11:55:47.748Z"
   },
   {
    "duration": 13,
    "start_time": "2021-12-06T11:55:47.830Z"
   },
   {
    "duration": 23,
    "start_time": "2021-12-06T11:55:47.845Z"
   },
   {
    "duration": 19,
    "start_time": "2021-12-06T11:55:47.870Z"
   },
   {
    "duration": 14,
    "start_time": "2021-12-06T11:55:47.891Z"
   },
   {
    "duration": 15,
    "start_time": "2021-12-06T11:55:47.907Z"
   },
   {
    "duration": 52,
    "start_time": "2021-12-06T11:55:47.924Z"
   },
   {
    "duration": 5,
    "start_time": "2021-12-06T11:55:47.978Z"
   },
   {
    "duration": 32,
    "start_time": "2021-12-06T11:55:47.985Z"
   },
   {
    "duration": 49,
    "start_time": "2021-12-06T11:55:48.019Z"
   },
   {
    "duration": 20,
    "start_time": "2021-12-06T11:55:48.072Z"
   },
   {
    "duration": 19,
    "start_time": "2021-12-06T11:55:48.094Z"
   },
   {
    "duration": 52,
    "start_time": "2021-12-06T11:55:48.116Z"
   },
   {
    "duration": 19,
    "start_time": "2021-12-06T11:55:48.170Z"
   },
   {
    "duration": 11,
    "start_time": "2021-12-06T11:55:48.192Z"
   },
   {
    "duration": 12,
    "start_time": "2021-12-06T11:55:48.206Z"
   },
   {
    "duration": 49,
    "start_time": "2021-12-06T11:55:48.221Z"
   },
   {
    "duration": 6,
    "start_time": "2021-12-06T11:55:53.432Z"
   },
   {
    "duration": 579,
    "start_time": "2021-12-06T11:55:57.713Z"
   },
   {
    "duration": 6,
    "start_time": "2021-12-06T12:07:32.604Z"
   },
   {
    "duration": 564,
    "start_time": "2021-12-06T12:07:38.677Z"
   },
   {
    "duration": 147,
    "start_time": "2021-12-06T12:08:10.788Z"
   },
   {
    "duration": 6,
    "start_time": "2021-12-06T12:08:47.248Z"
   },
   {
    "duration": 9,
    "start_time": "2021-12-06T12:08:51.316Z"
   },
   {
    "duration": 6,
    "start_time": "2021-12-06T12:09:06.665Z"
   },
   {
    "duration": 11,
    "start_time": "2021-12-06T12:09:08.969Z"
   },
   {
    "duration": 19,
    "start_time": "2021-12-06T12:09:56.405Z"
   },
   {
    "duration": 11,
    "start_time": "2021-12-06T12:10:00.668Z"
   },
   {
    "duration": 10,
    "start_time": "2021-12-06T12:10:10.328Z"
   },
   {
    "duration": 6,
    "start_time": "2021-12-06T12:10:43.958Z"
   },
   {
    "duration": 10,
    "start_time": "2021-12-06T12:10:46.653Z"
   },
   {
    "duration": 19,
    "start_time": "2021-12-06T12:10:49.712Z"
   },
   {
    "duration": 10,
    "start_time": "2021-12-06T12:11:45.585Z"
   },
   {
    "duration": 15,
    "start_time": "2021-12-06T12:12:06.553Z"
   },
   {
    "duration": 12,
    "start_time": "2021-12-06T12:12:55.111Z"
   },
   {
    "duration": 14,
    "start_time": "2021-12-06T12:13:03.192Z"
   },
   {
    "duration": 26,
    "start_time": "2021-12-06T12:13:11.893Z"
   },
   {
    "duration": 22,
    "start_time": "2021-12-06T12:13:15.853Z"
   },
   {
    "duration": 6,
    "start_time": "2021-12-06T12:16:26.521Z"
   },
   {
    "duration": 26,
    "start_time": "2021-12-06T12:16:45.911Z"
   },
   {
    "duration": 6,
    "start_time": "2021-12-06T12:18:57.014Z"
   },
   {
    "duration": 28,
    "start_time": "2021-12-06T12:18:59.818Z"
   },
   {
    "duration": 18,
    "start_time": "2021-12-06T12:19:03.521Z"
   },
   {
    "duration": 6,
    "start_time": "2021-12-06T12:19:29.378Z"
   },
   {
    "duration": 29,
    "start_time": "2021-12-06T12:19:31.940Z"
   },
   {
    "duration": 18,
    "start_time": "2021-12-06T12:19:36.188Z"
   },
   {
    "duration": 23,
    "start_time": "2021-12-06T12:19:38.479Z"
   },
   {
    "duration": 18,
    "start_time": "2021-12-06T12:19:40.926Z"
   },
   {
    "duration": 3,
    "start_time": "2021-12-06T12:23:15.743Z"
   },
   {
    "duration": 222,
    "start_time": "2021-12-06T12:23:15.749Z"
   },
   {
    "duration": 17,
    "start_time": "2021-12-06T12:23:15.974Z"
   },
   {
    "duration": 34,
    "start_time": "2021-12-06T12:23:15.994Z"
   },
   {
    "duration": 37,
    "start_time": "2021-12-06T12:23:16.031Z"
   },
   {
    "duration": 23,
    "start_time": "2021-12-06T12:23:16.071Z"
   },
   {
    "duration": 5,
    "start_time": "2021-12-06T12:23:16.099Z"
   },
   {
    "duration": 71,
    "start_time": "2021-12-06T12:23:16.108Z"
   },
   {
    "duration": 25,
    "start_time": "2021-12-06T12:23:16.182Z"
   },
   {
    "duration": 60,
    "start_time": "2021-12-06T12:23:16.209Z"
   },
   {
    "duration": 96,
    "start_time": "2021-12-06T12:23:16.272Z"
   },
   {
    "duration": 108,
    "start_time": "2021-12-06T12:23:16.370Z"
   },
   {
    "duration": 93,
    "start_time": "2021-12-06T12:23:16.480Z"
   },
   {
    "duration": 17,
    "start_time": "2021-12-06T12:23:16.576Z"
   },
   {
    "duration": 5,
    "start_time": "2021-12-06T12:23:16.596Z"
   },
   {
    "duration": 18,
    "start_time": "2021-12-06T12:23:16.604Z"
   },
   {
    "duration": 52,
    "start_time": "2021-12-06T12:23:16.625Z"
   },
   {
    "duration": 18,
    "start_time": "2021-12-06T12:23:16.680Z"
   },
   {
    "duration": 15,
    "start_time": "2021-12-06T12:23:16.704Z"
   },
   {
    "duration": 45,
    "start_time": "2021-12-06T12:23:16.723Z"
   },
   {
    "duration": 26,
    "start_time": "2021-12-06T12:23:16.770Z"
   },
   {
    "duration": 21,
    "start_time": "2021-12-06T12:23:16.798Z"
   },
   {
    "duration": 49,
    "start_time": "2021-12-06T12:23:16.821Z"
   },
   {
    "duration": 19,
    "start_time": "2021-12-06T12:23:16.872Z"
   },
   {
    "duration": 22,
    "start_time": "2021-12-06T12:23:16.894Z"
   },
   {
    "duration": 58,
    "start_time": "2021-12-06T12:23:16.919Z"
   },
   {
    "duration": 12,
    "start_time": "2021-12-06T12:23:16.980Z"
   },
   {
    "duration": 21,
    "start_time": "2021-12-06T12:23:16.994Z"
   },
   {
    "duration": 14,
    "start_time": "2021-12-06T12:23:17.017Z"
   },
   {
    "duration": 34,
    "start_time": "2021-12-06T12:23:17.033Z"
   },
   {
    "duration": 34,
    "start_time": "2021-12-06T12:23:17.070Z"
   },
   {
    "duration": 18,
    "start_time": "2021-12-06T12:23:17.106Z"
   },
   {
    "duration": 52,
    "start_time": "2021-12-06T12:23:17.127Z"
   },
   {
    "duration": 5,
    "start_time": "2021-12-06T12:24:12.380Z"
   },
   {
    "duration": 27,
    "start_time": "2021-12-06T12:24:16.144Z"
   },
   {
    "duration": 20,
    "start_time": "2021-12-06T12:24:20.776Z"
   },
   {
    "duration": 25,
    "start_time": "2021-12-06T12:24:21.816Z"
   },
   {
    "duration": 16,
    "start_time": "2021-12-06T12:24:23.048Z"
   },
   {
    "duration": 6,
    "start_time": "2021-12-06T12:27:03.615Z"
   },
   {
    "duration": 22,
    "start_time": "2021-12-06T12:27:06.547Z"
   },
   {
    "duration": 15,
    "start_time": "2021-12-06T12:27:07.561Z"
   },
   {
    "duration": 22,
    "start_time": "2021-12-06T12:27:08.234Z"
   },
   {
    "duration": 16,
    "start_time": "2021-12-06T12:27:09.009Z"
   },
   {
    "duration": 6,
    "start_time": "2021-12-06T12:27:56.360Z"
   },
   {
    "duration": 24,
    "start_time": "2021-12-06T12:27:59.737Z"
   },
   {
    "duration": 17,
    "start_time": "2021-12-06T12:28:01.042Z"
   },
   {
    "duration": 21,
    "start_time": "2021-12-06T12:28:01.615Z"
   },
   {
    "duration": 16,
    "start_time": "2021-12-06T12:28:02.373Z"
   },
   {
    "duration": 7,
    "start_time": "2021-12-06T12:30:56.868Z"
   },
   {
    "duration": 25,
    "start_time": "2021-12-06T12:30:59.754Z"
   },
   {
    "duration": 17,
    "start_time": "2021-12-06T12:31:00.767Z"
   },
   {
    "duration": 23,
    "start_time": "2021-12-06T12:31:01.539Z"
   },
   {
    "duration": 19,
    "start_time": "2021-12-06T12:31:02.339Z"
   },
   {
    "duration": 13,
    "start_time": "2021-12-06T12:35:09.516Z"
   },
   {
    "duration": 7,
    "start_time": "2021-12-06T12:35:30.939Z"
   },
   {
    "duration": 9,
    "start_time": "2021-12-06T12:36:31.199Z"
   },
   {
    "duration": 7,
    "start_time": "2021-12-06T12:36:33.150Z"
   },
   {
    "duration": 4,
    "start_time": "2021-12-06T12:37:32.794Z"
   },
   {
    "duration": 209,
    "start_time": "2021-12-06T12:37:32.801Z"
   },
   {
    "duration": 16,
    "start_time": "2021-12-06T12:37:33.014Z"
   },
   {
    "duration": 58,
    "start_time": "2021-12-06T12:37:33.034Z"
   },
   {
    "duration": 13,
    "start_time": "2021-12-06T12:37:33.095Z"
   },
   {
    "duration": 24,
    "start_time": "2021-12-06T12:37:33.111Z"
   },
   {
    "duration": 7,
    "start_time": "2021-12-06T12:37:33.137Z"
   },
   {
    "duration": 52,
    "start_time": "2021-12-06T12:37:33.148Z"
   },
   {
    "duration": 24,
    "start_time": "2021-12-06T12:37:33.204Z"
   },
   {
    "duration": 60,
    "start_time": "2021-12-06T12:37:33.230Z"
   },
   {
    "duration": 106,
    "start_time": "2021-12-06T12:37:33.292Z"
   },
   {
    "duration": 109,
    "start_time": "2021-12-06T12:37:33.401Z"
   },
   {
    "duration": 87,
    "start_time": "2021-12-06T12:37:33.513Z"
   },
   {
    "duration": 14,
    "start_time": "2021-12-06T12:37:33.603Z"
   },
   {
    "duration": 4,
    "start_time": "2021-12-06T12:37:33.619Z"
   },
   {
    "duration": 42,
    "start_time": "2021-12-06T12:37:33.625Z"
   },
   {
    "duration": 15,
    "start_time": "2021-12-06T12:37:33.669Z"
   },
   {
    "duration": 16,
    "start_time": "2021-12-06T12:37:33.686Z"
   },
   {
    "duration": 15,
    "start_time": "2021-12-06T12:37:33.704Z"
   },
   {
    "duration": 6,
    "start_time": "2021-12-06T12:37:33.722Z"
   },
   {
    "duration": 24,
    "start_time": "2021-12-06T12:37:33.768Z"
   },
   {
    "duration": 21,
    "start_time": "2021-12-06T12:37:33.795Z"
   },
   {
    "duration": 57,
    "start_time": "2021-12-06T12:37:33.823Z"
   },
   {
    "duration": 18,
    "start_time": "2021-12-06T12:37:33.883Z"
   },
   {
    "duration": 23,
    "start_time": "2021-12-06T12:37:33.903Z"
   },
   {
    "duration": 54,
    "start_time": "2021-12-06T12:37:33.929Z"
   },
   {
    "duration": 15,
    "start_time": "2021-12-06T12:37:33.986Z"
   },
   {
    "duration": 23,
    "start_time": "2021-12-06T12:37:34.004Z"
   },
   {
    "duration": 48,
    "start_time": "2021-12-06T12:37:34.029Z"
   },
   {
    "duration": 7,
    "start_time": "2021-12-06T12:37:34.080Z"
   },
   {
    "duration": 30,
    "start_time": "2021-12-06T12:37:34.090Z"
   },
   {
    "duration": 46,
    "start_time": "2021-12-06T12:37:34.123Z"
   },
   {
    "duration": 22,
    "start_time": "2021-12-06T12:37:34.172Z"
   },
   {
    "duration": 17,
    "start_time": "2021-12-06T12:37:34.196Z"
   },
   {
    "duration": 11,
    "start_time": "2021-12-06T12:37:34.215Z"
   },
   {
    "duration": 6,
    "start_time": "2021-12-06T12:37:34.267Z"
   },
   {
    "duration": 13,
    "start_time": "2021-12-06T12:37:34.276Z"
   },
   {
    "duration": 9,
    "start_time": "2021-12-06T12:37:34.291Z"
   },
   {
    "duration": 502,
    "start_time": "2021-12-07T04:51:34.651Z"
   },
   {
    "duration": 142,
    "start_time": "2021-12-07T04:51:35.155Z"
   },
   {
    "duration": 16,
    "start_time": "2021-12-07T04:51:35.299Z"
   },
   {
    "duration": 31,
    "start_time": "2021-12-07T04:51:35.317Z"
   },
   {
    "duration": 12,
    "start_time": "2021-12-07T04:51:35.349Z"
   },
   {
    "duration": 32,
    "start_time": "2021-12-07T04:51:35.362Z"
   },
   {
    "duration": 6,
    "start_time": "2021-12-07T04:51:35.396Z"
   },
   {
    "duration": 24,
    "start_time": "2021-12-07T04:51:35.403Z"
   },
   {
    "duration": 16,
    "start_time": "2021-12-07T04:51:35.429Z"
   },
   {
    "duration": 21,
    "start_time": "2021-12-07T04:51:35.447Z"
   },
   {
    "duration": 76,
    "start_time": "2021-12-07T04:51:35.470Z"
   },
   {
    "duration": 71,
    "start_time": "2021-12-07T04:51:35.548Z"
   },
   {
    "duration": 49,
    "start_time": "2021-12-07T04:51:35.621Z"
   },
   {
    "duration": 21,
    "start_time": "2021-12-07T04:51:35.671Z"
   },
   {
    "duration": 3,
    "start_time": "2021-12-07T04:51:35.694Z"
   },
   {
    "duration": 11,
    "start_time": "2021-12-07T04:51:35.698Z"
   },
   {
    "duration": 8,
    "start_time": "2021-12-07T04:51:35.711Z"
   },
   {
    "duration": 10,
    "start_time": "2021-12-07T04:51:35.721Z"
   },
   {
    "duration": 10,
    "start_time": "2021-12-07T04:51:35.732Z"
   },
   {
    "duration": 3,
    "start_time": "2021-12-07T04:51:35.743Z"
   },
   {
    "duration": 49,
    "start_time": "2021-12-07T04:51:35.748Z"
   },
   {
    "duration": 21,
    "start_time": "2021-12-07T04:51:35.799Z"
   },
   {
    "duration": 14,
    "start_time": "2021-12-07T04:51:35.821Z"
   },
   {
    "duration": 12,
    "start_time": "2021-12-07T04:51:35.836Z"
   },
   {
    "duration": 15,
    "start_time": "2021-12-07T04:51:35.850Z"
   },
   {
    "duration": 38,
    "start_time": "2021-12-07T04:51:35.866Z"
   },
   {
    "duration": 8,
    "start_time": "2021-12-07T04:51:35.907Z"
   },
   {
    "duration": 18,
    "start_time": "2021-12-07T04:51:35.917Z"
   },
   {
    "duration": 23,
    "start_time": "2021-12-07T04:51:35.937Z"
   },
   {
    "duration": 7,
    "start_time": "2021-12-07T04:51:35.961Z"
   },
   {
    "duration": 39,
    "start_time": "2021-12-07T04:51:35.970Z"
   },
   {
    "duration": 12,
    "start_time": "2021-12-07T04:51:36.011Z"
   },
   {
    "duration": 15,
    "start_time": "2021-12-07T04:51:36.024Z"
   },
   {
    "duration": 11,
    "start_time": "2021-12-07T04:51:36.040Z"
   },
   {
    "duration": 7,
    "start_time": "2021-12-07T04:51:36.053Z"
   },
   {
    "duration": 31,
    "start_time": "2021-12-07T04:51:36.062Z"
   },
   {
    "duration": 7,
    "start_time": "2021-12-07T04:51:36.095Z"
   },
   {
    "duration": 6,
    "start_time": "2021-12-07T04:51:36.104Z"
   },
   {
    "duration": 6,
    "start_time": "2021-12-07T10:59:05.602Z"
   },
   {
    "duration": 6,
    "start_time": "2021-12-07T11:06:32.203Z"
   },
   {
    "duration": 794,
    "start_time": "2021-12-07T11:08:03.688Z"
   },
   {
    "duration": 168,
    "start_time": "2021-12-07T11:08:04.485Z"
   },
   {
    "duration": 25,
    "start_time": "2021-12-07T11:08:04.656Z"
   },
   {
    "duration": 52,
    "start_time": "2021-12-07T11:08:04.684Z"
   },
   {
    "duration": 35,
    "start_time": "2021-12-07T11:08:04.738Z"
   },
   {
    "duration": 46,
    "start_time": "2021-12-07T11:08:04.776Z"
   },
   {
    "duration": 18,
    "start_time": "2021-12-07T11:08:04.824Z"
   },
   {
    "duration": 58,
    "start_time": "2021-12-07T11:08:04.844Z"
   },
   {
    "duration": 31,
    "start_time": "2021-12-07T11:08:04.906Z"
   },
   {
    "duration": 27,
    "start_time": "2021-12-07T11:08:04.941Z"
   },
   {
    "duration": 127,
    "start_time": "2021-12-07T11:08:04.971Z"
   },
   {
    "duration": 105,
    "start_time": "2021-12-07T11:08:05.101Z"
   },
   {
    "duration": 80,
    "start_time": "2021-12-07T11:08:05.209Z"
   },
   {
    "duration": 64,
    "start_time": "2021-12-07T11:08:05.291Z"
   },
   {
    "duration": 4,
    "start_time": "2021-12-07T11:08:05.357Z"
   },
   {
    "duration": 70,
    "start_time": "2021-12-07T11:08:05.363Z"
   },
   {
    "duration": 14,
    "start_time": "2021-12-07T11:08:05.435Z"
   },
   {
    "duration": 14,
    "start_time": "2021-12-07T11:08:05.451Z"
   },
   {
    "duration": 14,
    "start_time": "2021-12-07T11:08:05.467Z"
   },
   {
    "duration": 4,
    "start_time": "2021-12-07T11:08:05.484Z"
   },
   {
    "duration": 20,
    "start_time": "2021-12-07T11:08:05.522Z"
   },
   {
    "duration": 19,
    "start_time": "2021-12-07T11:08:05.544Z"
   },
   {
    "duration": 19,
    "start_time": "2021-12-07T11:08:05.566Z"
   },
   {
    "duration": 48,
    "start_time": "2021-12-07T11:08:05.587Z"
   },
   {
    "duration": 19,
    "start_time": "2021-12-07T11:08:05.638Z"
   },
   {
    "duration": 18,
    "start_time": "2021-12-07T11:08:05.659Z"
   },
   {
    "duration": 48,
    "start_time": "2021-12-07T11:08:05.684Z"
   },
   {
    "duration": 23,
    "start_time": "2021-12-07T11:08:05.735Z"
   },
   {
    "duration": 28,
    "start_time": "2021-12-07T11:08:05.761Z"
   },
   {
    "duration": 36,
    "start_time": "2021-12-07T11:08:05.791Z"
   },
   {
    "duration": 689,
    "start_time": "2021-12-07T11:08:05.829Z"
   },
   {
    "duration": -3247,
    "start_time": "2021-12-07T11:08:09.769Z"
   },
   {
    "duration": -3251,
    "start_time": "2021-12-07T11:08:09.775Z"
   },
   {
    "duration": -3252,
    "start_time": "2021-12-07T11:08:09.778Z"
   },
   {
    "duration": -3254,
    "start_time": "2021-12-07T11:08:09.782Z"
   },
   {
    "duration": -3254,
    "start_time": "2021-12-07T11:08:09.785Z"
   },
   {
    "duration": -3257,
    "start_time": "2021-12-07T11:08:09.790Z"
   },
   {
    "duration": -3259,
    "start_time": "2021-12-07T11:08:09.793Z"
   },
   {
    "duration": 4,
    "start_time": "2021-12-07T11:09:34.924Z"
   },
   {
    "duration": 226,
    "start_time": "2021-12-07T11:09:34.931Z"
   },
   {
    "duration": 16,
    "start_time": "2021-12-07T11:09:35.160Z"
   },
   {
    "duration": 50,
    "start_time": "2021-12-07T11:09:35.179Z"
   },
   {
    "duration": 6,
    "start_time": "2021-12-07T11:09:35.232Z"
   },
   {
    "duration": 20,
    "start_time": "2021-12-07T11:09:35.240Z"
   },
   {
    "duration": 5,
    "start_time": "2021-12-07T11:09:35.264Z"
   },
   {
    "duration": 63,
    "start_time": "2021-12-07T11:09:35.273Z"
   },
   {
    "duration": 22,
    "start_time": "2021-12-07T11:09:35.339Z"
   },
   {
    "duration": 30,
    "start_time": "2021-12-07T11:09:35.363Z"
   },
   {
    "duration": 104,
    "start_time": "2021-12-07T11:09:35.396Z"
   },
   {
    "duration": 94,
    "start_time": "2021-12-07T11:09:35.503Z"
   },
   {
    "duration": 81,
    "start_time": "2021-12-07T11:09:35.600Z"
   },
   {
    "duration": 68,
    "start_time": "2021-12-07T11:09:35.684Z"
   },
   {
    "duration": 4,
    "start_time": "2021-12-07T11:09:35.755Z"
   },
   {
    "duration": 61,
    "start_time": "2021-12-07T11:09:35.761Z"
   },
   {
    "duration": 14,
    "start_time": "2021-12-07T11:09:35.824Z"
   },
   {
    "duration": 15,
    "start_time": "2021-12-07T11:09:35.840Z"
   },
   {
    "duration": 15,
    "start_time": "2021-12-07T11:09:35.859Z"
   },
   {
    "duration": 5,
    "start_time": "2021-12-07T11:09:35.876Z"
   },
   {
    "duration": 58,
    "start_time": "2021-12-07T11:09:35.883Z"
   },
   {
    "duration": 17,
    "start_time": "2021-12-07T11:09:35.944Z"
   },
   {
    "duration": 18,
    "start_time": "2021-12-07T11:09:35.963Z"
   },
   {
    "duration": 49,
    "start_time": "2021-12-07T11:09:35.983Z"
   },
   {
    "duration": 20,
    "start_time": "2021-12-07T11:09:36.034Z"
   },
   {
    "duration": 18,
    "start_time": "2021-12-07T11:09:36.056Z"
   },
   {
    "duration": 16,
    "start_time": "2021-12-07T11:09:36.077Z"
   },
   {
    "duration": 14,
    "start_time": "2021-12-07T11:09:36.123Z"
   },
   {
    "duration": 19,
    "start_time": "2021-12-07T11:09:36.139Z"
   },
   {
    "duration": 10,
    "start_time": "2021-12-07T11:09:36.161Z"
   },
   {
    "duration": 558,
    "start_time": "2021-12-07T11:09:36.173Z"
   },
   {
    "duration": -3235,
    "start_time": "2021-12-07T11:09:39.969Z"
   },
   {
    "duration": -3247,
    "start_time": "2021-12-07T11:09:39.982Z"
   },
   {
    "duration": -3249,
    "start_time": "2021-12-07T11:09:39.986Z"
   },
   {
    "duration": -3255,
    "start_time": "2021-12-07T11:09:39.994Z"
   },
   {
    "duration": -3257,
    "start_time": "2021-12-07T11:09:39.997Z"
   },
   {
    "duration": -3258,
    "start_time": "2021-12-07T11:09:40.000Z"
   },
   {
    "duration": -3259,
    "start_time": "2021-12-07T11:09:40.003Z"
   },
   {
    "duration": 14,
    "start_time": "2021-12-07T11:10:55.013Z"
   },
   {
    "duration": 6,
    "start_time": "2021-12-07T11:15:17.108Z"
   },
   {
    "duration": 23,
    "start_time": "2021-12-07T11:15:21.317Z"
   },
   {
    "duration": 4,
    "start_time": "2021-12-07T11:16:07.412Z"
   },
   {
    "duration": 194,
    "start_time": "2021-12-07T11:16:07.418Z"
   },
   {
    "duration": 19,
    "start_time": "2021-12-07T11:16:07.615Z"
   },
   {
    "duration": 34,
    "start_time": "2021-12-07T11:16:07.637Z"
   },
   {
    "duration": 6,
    "start_time": "2021-12-07T11:16:07.673Z"
   },
   {
    "duration": 44,
    "start_time": "2021-12-07T11:16:07.681Z"
   },
   {
    "duration": 5,
    "start_time": "2021-12-07T11:16:07.728Z"
   },
   {
    "duration": 28,
    "start_time": "2021-12-07T11:16:07.736Z"
   },
   {
    "duration": 20,
    "start_time": "2021-12-07T11:16:07.766Z"
   },
   {
    "duration": 59,
    "start_time": "2021-12-07T11:16:07.788Z"
   },
   {
    "duration": 89,
    "start_time": "2021-12-07T11:16:07.849Z"
   },
   {
    "duration": 95,
    "start_time": "2021-12-07T11:16:07.940Z"
   },
   {
    "duration": 71,
    "start_time": "2021-12-07T11:16:08.037Z"
   },
   {
    "duration": 67,
    "start_time": "2021-12-07T11:16:08.123Z"
   },
   {
    "duration": 5,
    "start_time": "2021-12-07T11:16:08.192Z"
   },
   {
    "duration": 67,
    "start_time": "2021-12-07T11:16:08.199Z"
   },
   {
    "duration": 14,
    "start_time": "2021-12-07T11:16:08.268Z"
   },
   {
    "duration": 14,
    "start_time": "2021-12-07T11:16:08.284Z"
   },
   {
    "duration": 13,
    "start_time": "2021-12-07T11:16:08.323Z"
   },
   {
    "duration": 5,
    "start_time": "2021-12-07T11:16:08.339Z"
   },
   {
    "duration": 23,
    "start_time": "2021-12-07T11:16:08.346Z"
   },
   {
    "duration": 53,
    "start_time": "2021-12-07T11:16:08.371Z"
   },
   {
    "duration": 18,
    "start_time": "2021-12-07T11:16:08.426Z"
   },
   {
    "duration": 17,
    "start_time": "2021-12-07T11:16:08.446Z"
   },
   {
    "duration": 19,
    "start_time": "2021-12-07T11:16:08.466Z"
   },
   {
    "duration": 52,
    "start_time": "2021-12-07T11:16:08.487Z"
   },
   {
    "duration": 12,
    "start_time": "2021-12-07T11:16:08.542Z"
   },
   {
    "duration": 17,
    "start_time": "2021-12-07T11:16:08.557Z"
   },
   {
    "duration": 54,
    "start_time": "2021-12-07T11:16:08.576Z"
   },
   {
    "duration": 6,
    "start_time": "2021-12-07T11:16:08.632Z"
   },
   {
    "duration": 38,
    "start_time": "2021-12-07T11:16:08.640Z"
   },
   {
    "duration": 15,
    "start_time": "2021-12-07T11:16:08.681Z"
   },
   {
    "duration": 44,
    "start_time": "2021-12-07T11:16:08.699Z"
   },
   {
    "duration": 32,
    "start_time": "2021-12-07T11:16:08.746Z"
   },
   {
    "duration": 55,
    "start_time": "2021-12-07T11:16:08.781Z"
   },
   {
    "duration": 96,
    "start_time": "2021-12-07T11:16:08.839Z"
   },
   {
    "duration": 11,
    "start_time": "2021-12-07T11:16:08.938Z"
   },
   {
    "duration": 6,
    "start_time": "2021-12-07T11:16:08.952Z"
   },
   {
    "duration": 579,
    "start_time": "2021-12-07T19:09:10.565Z"
   },
   {
    "duration": 122,
    "start_time": "2021-12-07T19:09:11.146Z"
   },
   {
    "duration": 17,
    "start_time": "2021-12-07T19:09:11.270Z"
   },
   {
    "duration": 24,
    "start_time": "2021-12-07T19:09:11.290Z"
   },
   {
    "duration": 3,
    "start_time": "2021-12-07T19:09:11.316Z"
   },
   {
    "duration": 18,
    "start_time": "2021-12-07T19:09:11.321Z"
   },
   {
    "duration": 11,
    "start_time": "2021-12-07T19:09:11.340Z"
   },
   {
    "duration": 38,
    "start_time": "2021-12-07T19:09:11.353Z"
   },
   {
    "duration": 25,
    "start_time": "2021-12-07T19:09:11.393Z"
   },
   {
    "duration": 32,
    "start_time": "2021-12-07T19:09:11.419Z"
   },
   {
    "duration": 54,
    "start_time": "2021-12-07T19:09:11.452Z"
   },
   {
    "duration": 87,
    "start_time": "2021-12-07T19:09:11.507Z"
   },
   {
    "duration": 48,
    "start_time": "2021-12-07T19:09:11.596Z"
   },
   {
    "duration": 45,
    "start_time": "2021-12-07T19:09:11.646Z"
   },
   {
    "duration": 3,
    "start_time": "2021-12-07T19:09:11.693Z"
   },
   {
    "duration": 26,
    "start_time": "2021-12-07T19:09:11.698Z"
   },
   {
    "duration": 9,
    "start_time": "2021-12-07T19:09:11.726Z"
   },
   {
    "duration": 11,
    "start_time": "2021-12-07T19:09:11.737Z"
   },
   {
    "duration": 46,
    "start_time": "2021-12-07T19:09:11.750Z"
   },
   {
    "duration": 4,
    "start_time": "2021-12-07T19:09:11.798Z"
   },
   {
    "duration": 19,
    "start_time": "2021-12-07T19:09:11.803Z"
   },
   {
    "duration": 12,
    "start_time": "2021-12-07T19:09:11.824Z"
   },
   {
    "duration": 22,
    "start_time": "2021-12-07T19:09:11.837Z"
   },
   {
    "duration": 11,
    "start_time": "2021-12-07T19:09:11.861Z"
   },
   {
    "duration": 14,
    "start_time": "2021-12-07T19:09:11.887Z"
   },
   {
    "duration": 11,
    "start_time": "2021-12-07T19:09:11.903Z"
   },
   {
    "duration": 7,
    "start_time": "2021-12-07T19:09:11.917Z"
   },
   {
    "duration": 12,
    "start_time": "2021-12-07T19:09:11.926Z"
   },
   {
    "duration": 8,
    "start_time": "2021-12-07T19:09:11.940Z"
   },
   {
    "duration": 4,
    "start_time": "2021-12-07T19:09:11.949Z"
   },
   {
    "duration": 44,
    "start_time": "2021-12-07T19:09:11.954Z"
   },
   {
    "duration": 13,
    "start_time": "2021-12-07T19:09:12.000Z"
   },
   {
    "duration": 15,
    "start_time": "2021-12-07T19:09:12.014Z"
   },
   {
    "duration": 17,
    "start_time": "2021-12-07T19:09:12.030Z"
   },
   {
    "duration": 7,
    "start_time": "2021-12-07T19:09:12.048Z"
   },
   {
    "duration": 4,
    "start_time": "2021-12-07T19:09:12.056Z"
   },
   {
    "duration": 27,
    "start_time": "2021-12-07T19:09:12.061Z"
   },
   {
    "duration": 4,
    "start_time": "2021-12-07T19:09:12.090Z"
   },
   {
    "duration": 578,
    "start_time": "2021-12-07T19:10:49.194Z"
   },
   {
    "duration": 123,
    "start_time": "2021-12-07T19:10:49.773Z"
   },
   {
    "duration": 16,
    "start_time": "2021-12-07T19:10:49.900Z"
   },
   {
    "duration": 24,
    "start_time": "2021-12-07T19:10:49.917Z"
   },
   {
    "duration": 4,
    "start_time": "2021-12-07T19:10:49.943Z"
   },
   {
    "duration": 10,
    "start_time": "2021-12-07T19:10:49.948Z"
   },
   {
    "duration": 29,
    "start_time": "2021-12-07T19:10:49.960Z"
   },
   {
    "duration": 6,
    "start_time": "2021-12-07T19:10:49.991Z"
   },
   {
    "duration": 7,
    "start_time": "2021-12-07T19:10:49.999Z"
   },
   {
    "duration": 12,
    "start_time": "2021-12-07T19:10:50.007Z"
   },
   {
    "duration": 25,
    "start_time": "2021-12-07T19:10:50.020Z"
   },
   {
    "duration": 8,
    "start_time": "2021-12-07T19:10:50.047Z"
   },
   {
    "duration": 35,
    "start_time": "2021-12-07T19:10:50.057Z"
   },
   {
    "duration": 32,
    "start_time": "2021-12-07T19:10:50.094Z"
   },
   {
    "duration": 24,
    "start_time": "2021-12-07T19:10:50.127Z"
   },
   {
    "duration": 54,
    "start_time": "2021-12-07T19:10:50.153Z"
   },
   {
    "duration": 55,
    "start_time": "2021-12-07T19:10:50.209Z"
   },
   {
    "duration": 53,
    "start_time": "2021-12-07T19:10:50.266Z"
   },
   {
    "duration": 36,
    "start_time": "2021-12-07T19:10:50.321Z"
   },
   {
    "duration": 2,
    "start_time": "2021-12-07T19:10:50.359Z"
   },
   {
    "duration": 43,
    "start_time": "2021-12-07T19:10:50.362Z"
   },
   {
    "duration": 8,
    "start_time": "2021-12-07T19:10:50.408Z"
   },
   {
    "duration": 10,
    "start_time": "2021-12-07T19:10:50.418Z"
   },
   {
    "duration": 9,
    "start_time": "2021-12-07T19:10:50.429Z"
   },
   {
    "duration": 3,
    "start_time": "2021-12-07T19:10:50.439Z"
   },
   {
    "duration": 19,
    "start_time": "2021-12-07T19:10:50.444Z"
   },
   {
    "duration": 13,
    "start_time": "2021-12-07T19:10:50.488Z"
   },
   {
    "duration": 13,
    "start_time": "2021-12-07T19:10:50.503Z"
   },
   {
    "duration": 11,
    "start_time": "2021-12-07T19:10:50.517Z"
   },
   {
    "duration": 13,
    "start_time": "2021-12-07T19:10:50.530Z"
   },
   {
    "duration": 44,
    "start_time": "2021-12-07T19:10:50.544Z"
   },
   {
    "duration": 7,
    "start_time": "2021-12-07T19:10:50.590Z"
   },
   {
    "duration": 13,
    "start_time": "2021-12-07T19:10:50.598Z"
   },
   {
    "duration": 10,
    "start_time": "2021-12-07T19:10:50.612Z"
   },
   {
    "duration": 5,
    "start_time": "2021-12-07T19:10:50.623Z"
   },
   {
    "duration": 22,
    "start_time": "2021-12-07T19:10:50.629Z"
   },
   {
    "duration": 36,
    "start_time": "2021-12-07T19:10:50.653Z"
   },
   {
    "duration": 17,
    "start_time": "2021-12-07T19:10:50.690Z"
   },
   {
    "duration": 12,
    "start_time": "2021-12-07T19:10:50.709Z"
   },
   {
    "duration": 9,
    "start_time": "2021-12-07T19:10:50.722Z"
   },
   {
    "duration": 5,
    "start_time": "2021-12-07T19:10:50.732Z"
   },
   {
    "duration": 7,
    "start_time": "2021-12-07T19:10:50.739Z"
   },
   {
    "duration": 40,
    "start_time": "2021-12-07T19:10:50.748Z"
   },
   {
    "duration": 635,
    "start_time": "2021-12-07T19:14:05.286Z"
   },
   {
    "duration": 143,
    "start_time": "2021-12-07T19:14:05.923Z"
   },
   {
    "duration": 20,
    "start_time": "2021-12-07T19:14:06.068Z"
   },
   {
    "duration": 23,
    "start_time": "2021-12-07T19:14:06.090Z"
   },
   {
    "duration": 6,
    "start_time": "2021-12-07T19:14:06.114Z"
   },
   {
    "duration": 12,
    "start_time": "2021-12-07T19:14:06.122Z"
   },
   {
    "duration": 9,
    "start_time": "2021-12-07T19:14:06.136Z"
   },
   {
    "duration": 7,
    "start_time": "2021-12-07T19:14:06.146Z"
   },
   {
    "duration": 4,
    "start_time": "2021-12-07T19:14:06.155Z"
   },
   {
    "duration": 9,
    "start_time": "2021-12-07T19:14:06.188Z"
   },
   {
    "duration": 17,
    "start_time": "2021-12-07T19:14:06.199Z"
   },
   {
    "duration": 4,
    "start_time": "2021-12-07T19:14:06.218Z"
   },
   {
    "duration": 22,
    "start_time": "2021-12-07T19:14:06.223Z"
   },
   {
    "duration": 42,
    "start_time": "2021-12-07T19:14:06.246Z"
   },
   {
    "duration": 20,
    "start_time": "2021-12-07T19:14:06.289Z"
   },
   {
    "duration": 53,
    "start_time": "2021-12-07T19:14:06.310Z"
   },
   {
    "duration": 71,
    "start_time": "2021-12-07T19:14:06.365Z"
   },
   {
    "duration": 54,
    "start_time": "2021-12-07T19:14:06.437Z"
   },
   {
    "duration": 37,
    "start_time": "2021-12-07T19:14:06.492Z"
   },
   {
    "duration": 3,
    "start_time": "2021-12-07T19:14:06.531Z"
   },
   {
    "duration": 30,
    "start_time": "2021-12-07T19:14:06.535Z"
   },
   {
    "duration": 25,
    "start_time": "2021-12-07T19:14:06.567Z"
   },
   {
    "duration": 10,
    "start_time": "2021-12-07T19:14:06.594Z"
   },
   {
    "duration": 9,
    "start_time": "2021-12-07T19:14:06.605Z"
   },
   {
    "duration": 3,
    "start_time": "2021-12-07T19:14:06.616Z"
   },
   {
    "duration": 17,
    "start_time": "2021-12-07T19:14:06.620Z"
   },
   {
    "duration": 11,
    "start_time": "2021-12-07T19:14:06.640Z"
   },
   {
    "duration": 51,
    "start_time": "2021-12-07T19:14:06.653Z"
   },
   {
    "duration": 15,
    "start_time": "2021-12-07T19:14:06.706Z"
   },
   {
    "duration": 15,
    "start_time": "2021-12-07T19:14:06.723Z"
   },
   {
    "duration": 13,
    "start_time": "2021-12-07T19:14:06.740Z"
   },
   {
    "duration": 38,
    "start_time": "2021-12-07T19:14:06.755Z"
   },
   {
    "duration": 11,
    "start_time": "2021-12-07T19:14:06.795Z"
   },
   {
    "duration": 7,
    "start_time": "2021-12-07T19:14:06.808Z"
   },
   {
    "duration": 4,
    "start_time": "2021-12-07T19:14:06.816Z"
   },
   {
    "duration": 737,
    "start_time": "2021-12-07T19:14:06.821Z"
   },
   {
    "duration": -605,
    "start_time": "2021-12-07T19:14:08.165Z"
   },
   {
    "duration": -606,
    "start_time": "2021-12-07T19:14:08.167Z"
   },
   {
    "duration": -605,
    "start_time": "2021-12-07T19:14:08.168Z"
   },
   {
    "duration": -606,
    "start_time": "2021-12-07T19:14:08.170Z"
   },
   {
    "duration": -606,
    "start_time": "2021-12-07T19:14:08.171Z"
   },
   {
    "duration": -609,
    "start_time": "2021-12-07T19:14:08.175Z"
   },
   {
    "duration": -611,
    "start_time": "2021-12-07T19:14:08.177Z"
   },
   {
    "duration": 597,
    "start_time": "2021-12-07T19:14:22.915Z"
   },
   {
    "duration": 121,
    "start_time": "2021-12-07T19:14:23.514Z"
   },
   {
    "duration": 14,
    "start_time": "2021-12-07T19:14:23.637Z"
   },
   {
    "duration": 32,
    "start_time": "2021-12-07T19:14:23.653Z"
   },
   {
    "duration": 16,
    "start_time": "2021-12-07T19:14:23.688Z"
   },
   {
    "duration": 23,
    "start_time": "2021-12-07T19:14:23.706Z"
   },
   {
    "duration": 18,
    "start_time": "2021-12-07T19:14:23.731Z"
   },
   {
    "duration": 10,
    "start_time": "2021-12-07T19:14:23.751Z"
   },
   {
    "duration": 14,
    "start_time": "2021-12-07T19:14:23.763Z"
   },
   {
    "duration": 28,
    "start_time": "2021-12-07T19:14:23.779Z"
   },
   {
    "duration": 27,
    "start_time": "2021-12-07T19:14:23.809Z"
   },
   {
    "duration": 8,
    "start_time": "2021-12-07T19:14:23.837Z"
   },
   {
    "duration": 45,
    "start_time": "2021-12-07T19:14:23.847Z"
   },
   {
    "duration": 21,
    "start_time": "2021-12-07T19:14:23.894Z"
   },
   {
    "duration": 34,
    "start_time": "2021-12-07T19:14:23.917Z"
   },
   {
    "duration": 52,
    "start_time": "2021-12-07T19:14:23.952Z"
   },
   {
    "duration": 70,
    "start_time": "2021-12-07T19:14:24.006Z"
   },
   {
    "duration": 54,
    "start_time": "2021-12-07T19:14:24.077Z"
   },
   {
    "duration": 58,
    "start_time": "2021-12-07T19:14:24.133Z"
   },
   {
    "duration": 3,
    "start_time": "2021-12-07T19:14:24.193Z"
   },
   {
    "duration": 29,
    "start_time": "2021-12-07T19:14:24.197Z"
   },
   {
    "duration": 8,
    "start_time": "2021-12-07T19:14:24.227Z"
   },
   {
    "duration": 17,
    "start_time": "2021-12-07T19:14:24.236Z"
   },
   {
    "duration": 11,
    "start_time": "2021-12-07T19:14:24.255Z"
   },
   {
    "duration": 21,
    "start_time": "2021-12-07T19:14:24.267Z"
   },
   {
    "duration": 31,
    "start_time": "2021-12-07T19:14:24.290Z"
   },
   {
    "duration": 16,
    "start_time": "2021-12-07T19:14:24.324Z"
   },
   {
    "duration": 15,
    "start_time": "2021-12-07T19:14:24.342Z"
   },
   {
    "duration": 20,
    "start_time": "2021-12-07T19:14:24.359Z"
   },
   {
    "duration": 14,
    "start_time": "2021-12-07T19:14:24.380Z"
   },
   {
    "duration": 21,
    "start_time": "2021-12-07T19:14:24.395Z"
   },
   {
    "duration": 7,
    "start_time": "2021-12-07T19:14:24.417Z"
   },
   {
    "duration": 12,
    "start_time": "2021-12-07T19:14:24.426Z"
   },
   {
    "duration": 8,
    "start_time": "2021-12-07T19:14:24.440Z"
   },
   {
    "duration": 4,
    "start_time": "2021-12-07T19:14:24.449Z"
   },
   {
    "duration": 40,
    "start_time": "2021-12-07T19:14:24.455Z"
   },
   {
    "duration": 28,
    "start_time": "2021-12-07T19:14:24.497Z"
   },
   {
    "duration": 29,
    "start_time": "2021-12-07T19:14:24.526Z"
   },
   {
    "duration": 23,
    "start_time": "2021-12-07T19:14:24.556Z"
   },
   {
    "duration": 12,
    "start_time": "2021-12-07T19:14:24.581Z"
   },
   {
    "duration": 22,
    "start_time": "2021-12-07T19:14:24.595Z"
   },
   {
    "duration": 20,
    "start_time": "2021-12-07T19:14:24.619Z"
   },
   {
    "duration": 24,
    "start_time": "2021-12-07T19:14:24.640Z"
   },
   {
    "duration": 543,
    "start_time": "2021-12-08T13:33:56.533Z"
   },
   {
    "duration": 605,
    "start_time": "2021-12-08T13:33:57.078Z"
   },
   {
    "duration": 16,
    "start_time": "2021-12-08T13:33:57.685Z"
   },
   {
    "duration": 83,
    "start_time": "2021-12-08T13:33:57.703Z"
   },
   {
    "duration": 4,
    "start_time": "2021-12-08T13:33:57.788Z"
   },
   {
    "duration": 14,
    "start_time": "2021-12-08T13:33:57.794Z"
   },
   {
    "duration": 12,
    "start_time": "2021-12-08T13:33:57.809Z"
   },
   {
    "duration": 8,
    "start_time": "2021-12-08T13:33:57.824Z"
   },
   {
    "duration": 5,
    "start_time": "2021-12-08T13:33:57.835Z"
   },
   {
    "duration": 11,
    "start_time": "2021-12-08T13:33:57.841Z"
   },
   {
    "duration": 54,
    "start_time": "2021-12-08T13:33:57.855Z"
   },
   {
    "duration": 4,
    "start_time": "2021-12-08T13:33:57.911Z"
   },
   {
    "duration": 27,
    "start_time": "2021-12-08T13:33:57.917Z"
   },
   {
    "duration": 16,
    "start_time": "2021-12-08T13:33:57.946Z"
   },
   {
    "duration": 37,
    "start_time": "2021-12-08T13:33:57.964Z"
   },
   {
    "duration": 59,
    "start_time": "2021-12-08T13:33:58.003Z"
   },
   {
    "duration": 89,
    "start_time": "2021-12-08T13:33:58.063Z"
   },
   {
    "duration": 58,
    "start_time": "2021-12-08T13:33:58.154Z"
   },
   {
    "duration": 38,
    "start_time": "2021-12-08T13:33:58.214Z"
   },
   {
    "duration": 3,
    "start_time": "2021-12-08T13:33:58.253Z"
   },
   {
    "duration": 50,
    "start_time": "2021-12-08T13:33:58.257Z"
   },
   {
    "duration": 9,
    "start_time": "2021-12-08T13:33:58.309Z"
   },
   {
    "duration": 10,
    "start_time": "2021-12-08T13:33:58.322Z"
   },
   {
    "duration": 11,
    "start_time": "2021-12-08T13:33:58.334Z"
   },
   {
    "duration": 4,
    "start_time": "2021-12-08T13:33:58.346Z"
   },
   {
    "duration": 48,
    "start_time": "2021-12-08T13:33:58.352Z"
   },
   {
    "duration": 15,
    "start_time": "2021-12-08T13:33:58.401Z"
   },
   {
    "duration": 14,
    "start_time": "2021-12-08T13:33:58.418Z"
   },
   {
    "duration": 13,
    "start_time": "2021-12-08T13:33:58.434Z"
   },
   {
    "duration": 45,
    "start_time": "2021-12-08T13:33:58.449Z"
   },
   {
    "duration": 15,
    "start_time": "2021-12-08T13:33:58.496Z"
   },
   {
    "duration": 7,
    "start_time": "2021-12-08T13:33:58.513Z"
   },
   {
    "duration": 18,
    "start_time": "2021-12-08T13:33:58.521Z"
   },
   {
    "duration": 13,
    "start_time": "2021-12-08T13:33:58.540Z"
   },
   {
    "duration": 4,
    "start_time": "2021-12-08T13:33:58.555Z"
   },
   {
    "duration": 41,
    "start_time": "2021-12-08T13:33:58.561Z"
   },
   {
    "duration": 12,
    "start_time": "2021-12-08T13:33:58.604Z"
   },
   {
    "duration": 18,
    "start_time": "2021-12-08T13:33:58.618Z"
   },
   {
    "duration": 12,
    "start_time": "2021-12-08T13:33:58.638Z"
   },
   {
    "duration": 10,
    "start_time": "2021-12-08T13:33:58.651Z"
   },
   {
    "duration": 31,
    "start_time": "2021-12-08T13:33:58.662Z"
   },
   {
    "duration": 9,
    "start_time": "2021-12-08T13:33:58.694Z"
   },
   {
    "duration": 5,
    "start_time": "2021-12-08T13:33:58.705Z"
   }
  ],
  "colab": {
   "collapsed_sections": [
    "E0vqbgi9ay0H",
    "VUC88oWjTJw2"
   ],
   "name": "yandex_music_project_2021.2.ipynb",
   "provenance": []
  },
  "kernelspec": {
   "display_name": "Python 3 (ipykernel)",
   "language": "python",
   "name": "python3"
  },
  "language_info": {
   "codemirror_mode": {
    "name": "ipython",
    "version": 3
   },
   "file_extension": ".py",
   "mimetype": "text/x-python",
   "name": "python",
   "nbconvert_exporter": "python",
   "pygments_lexer": "ipython3",
   "version": "3.9.7"
  },
  "toc": {
   "base_numbering": 1,
   "nav_menu": {},
   "number_sections": true,
   "sideBar": true,
   "skip_h1_title": true,
   "title_cell": "Table of Contents",
   "title_sidebar": "Contents",
   "toc_cell": false,
   "toc_position": {
    "height": "calc(100% - 180px)",
    "left": "10px",
    "top": "150px",
    "width": "296.2px"
   },
   "toc_section_display": true,
   "toc_window_display": true
  }
 },
 "nbformat": 4,
 "nbformat_minor": 1
}
