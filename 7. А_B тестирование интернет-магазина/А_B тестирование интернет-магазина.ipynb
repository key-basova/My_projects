{
 "cells": [
  {
   "cell_type": "markdown",
   "id": "dfbaa820",
   "metadata": {},
   "source": [
    "# Содержание\n",
    "\n",
    "1. [Приоритезация гипотез](#hyp)   \n",
    "    1.1. [Обзор гипотез](#hyp_info)   \n",
    "    1.2. [Расчет ICE](#hyp_ice)   \n",
    "    1.3. [Расчет RICE](#hyp_rice)   \n",
    "    1.4. [Вывод](#hyp_result)   \n",
    "2. [Анализ А/В теста](#test)   \n",
    "    2.1. [Подготовка данных](#test_pre)   \n",
    "    [Вывод](#test_pre_result)  \n",
    "    \n",
    "    2.2. [Оценка куммулятивных данных](#test_cumm)   \n",
    "    [Выручка](#test_cumm1)   \n",
    "    [Средний чек](#test_cumm2)   \n",
    "    [Конверсия](#test_cumm3)   \n",
    "    [Вывод](#test_cumm_result)      \n",
    "    \n",
    "    2.3. [Анализ выбросов](#test_anomalis)   \n",
    "    [Вывод](#test_anomalis_result)      \n",
    "    \n",
    "    2.4. [Статичтический анализ](#test_stat)   \n",
    "    [Отличия конверсий по \"сырым\" данным](#test_stat1)   \n",
    "    [Отличия средних чеков по \"сырым\" данным](#test_stat2)   \n",
    "    [Отличия конверсий по \"чистым\" данным](#test_stat3)   \n",
    "    [Отличия средних чеков по \"чистым\" данным](#test_stat4)   \n",
    "    [Вывод](#test_stat_result)       \n",
    "3. [Общий вывод](#result) "
   ]
  },
  {
   "cell_type": "markdown",
   "id": "9fa00a62",
   "metadata": {},
   "source": [
    "# А/В тестирование в интернет-магазине\n",
    "\n",
    "В настоящем прокте рассматривается крупный интернет магазин. Совместно с отделом маркетинга подготовлены 9 гипотез, направленных на увеличение выручки.\n",
    "\n",
    "**Цель** - выбрать наиболее приоритетную гипотезу, провести по ней A/B тест и проанализировать результат."
   ]
  },
  {
   "cell_type": "markdown",
   "id": "04aebe38",
   "metadata": {},
   "source": [
    "## Приоретизация гипотез\n",
    "<a id='hyp'></a>\n",
    "\n",
    "Для проведения A/B теста необходимо выбрать гипотезу. Для этого ознакомимся со всеми девятью гипотезами, расчитаем приоритет для каждой из них двумя способами (ICE и RICE) и выберем самую приоритетную."
   ]
  },
  {
   "cell_type": "markdown",
   "id": "47f4e759",
   "metadata": {},
   "source": [
    "### Обзор гипотез\n",
    "<a id='hyp_info'></a>\n",
    "\n",
    "Для начала познакомимся с гипотезами."
   ]
  },
  {
   "cell_type": "code",
   "execution_count": 1,
   "id": "b9a7acc7",
   "metadata": {},
   "outputs": [],
   "source": [
    "import pandas as pd                                    # импорт библиотеки pandas\n",
    "import numpy as np                                     # импорт библиотеки numpy\n",
    "import datetime as dt                                  # импорт библиотеки datetime\n",
    "from scipy import stats as st                          # импорт модуля stats из библиотеки scipy\n",
    "import matplotlib.pyplot as plt                        # импорт модуля pyplot библиотеки matplotlib\n",
    "import warnings\n",
    "\n",
    "warnings.simplefilter(\"ignore\")\n",
    "%config InlineBackend.figure_formay = 'retina'\n",
    "pd.set_option('display.max_columns', None)             # вывод всех столбцов таблицы\n",
    "pd.set_option('display.max_rows', None)                # вывод всех строк\n",
    "pd.set_option(\"max_colwidth\", None)                    # вывод по ширине столбцов"
   ]
  },
  {
   "cell_type": "code",
   "execution_count": 2,
   "id": "a7a50ccb",
   "metadata": {
    "scrolled": true
   },
   "outputs": [
    {
     "data": {
      "text/html": [
       "<div>\n",
       "<style scoped>\n",
       "    .dataframe tbody tr th:only-of-type {\n",
       "        vertical-align: middle;\n",
       "    }\n",
       "\n",
       "    .dataframe tbody tr th {\n",
       "        vertical-align: top;\n",
       "    }\n",
       "\n",
       "    .dataframe thead th {\n",
       "        text-align: right;\n",
       "    }\n",
       "</style>\n",
       "<table border=\"1\" class=\"dataframe\">\n",
       "  <thead>\n",
       "    <tr style=\"text-align: right;\">\n",
       "      <th></th>\n",
       "      <th>Hypothesis</th>\n",
       "      <th>Reach</th>\n",
       "      <th>Impact</th>\n",
       "      <th>Confidence</th>\n",
       "      <th>Efforts</th>\n",
       "    </tr>\n",
       "  </thead>\n",
       "  <tbody>\n",
       "    <tr>\n",
       "      <th>0</th>\n",
       "      <td>Добавить два новых канала привлечения трафика, что позволит привлекать на 30% больше пользователей</td>\n",
       "      <td>3</td>\n",
       "      <td>10</td>\n",
       "      <td>8</td>\n",
       "      <td>6</td>\n",
       "    </tr>\n",
       "    <tr>\n",
       "      <th>1</th>\n",
       "      <td>Запустить собственную службу доставки, что сократит срок доставки заказов</td>\n",
       "      <td>2</td>\n",
       "      <td>5</td>\n",
       "      <td>4</td>\n",
       "      <td>10</td>\n",
       "    </tr>\n",
       "    <tr>\n",
       "      <th>2</th>\n",
       "      <td>Добавить блоки рекомендаций товаров на сайт интернет магазина, чтобы повысить конверсию и средний чек заказа</td>\n",
       "      <td>8</td>\n",
       "      <td>3</td>\n",
       "      <td>7</td>\n",
       "      <td>3</td>\n",
       "    </tr>\n",
       "    <tr>\n",
       "      <th>3</th>\n",
       "      <td>Изменить структура категорий, что увеличит конверсию, т.к. пользователи быстрее найдут нужный товар</td>\n",
       "      <td>8</td>\n",
       "      <td>3</td>\n",
       "      <td>3</td>\n",
       "      <td>8</td>\n",
       "    </tr>\n",
       "    <tr>\n",
       "      <th>4</th>\n",
       "      <td>Изменить цвет фона главной страницы, чтобы увеличить вовлеченность пользователей</td>\n",
       "      <td>3</td>\n",
       "      <td>1</td>\n",
       "      <td>1</td>\n",
       "      <td>1</td>\n",
       "    </tr>\n",
       "    <tr>\n",
       "      <th>5</th>\n",
       "      <td>Добавить страницу отзывов клиентов о магазине, что позволит увеличить количество заказов</td>\n",
       "      <td>3</td>\n",
       "      <td>2</td>\n",
       "      <td>2</td>\n",
       "      <td>3</td>\n",
       "    </tr>\n",
       "    <tr>\n",
       "      <th>6</th>\n",
       "      <td>Показать на главной странице баннеры с актуальными акциями и распродажами, чтобы увеличить конверсию</td>\n",
       "      <td>5</td>\n",
       "      <td>3</td>\n",
       "      <td>8</td>\n",
       "      <td>3</td>\n",
       "    </tr>\n",
       "    <tr>\n",
       "      <th>7</th>\n",
       "      <td>Добавить форму подписки на все основные страницы, чтобы собрать базу клиентов для email-рассылок</td>\n",
       "      <td>10</td>\n",
       "      <td>7</td>\n",
       "      <td>8</td>\n",
       "      <td>5</td>\n",
       "    </tr>\n",
       "    <tr>\n",
       "      <th>8</th>\n",
       "      <td>Запустить акцию, дающую скидку на товар в день рождения</td>\n",
       "      <td>1</td>\n",
       "      <td>9</td>\n",
       "      <td>9</td>\n",
       "      <td>5</td>\n",
       "    </tr>\n",
       "  </tbody>\n",
       "</table>\n",
       "</div>"
      ],
      "text/plain": [
       "                                                                                                     Hypothesis  \\\n",
       "0            Добавить два новых канала привлечения трафика, что позволит привлекать на 30% больше пользователей   \n",
       "1                                     Запустить собственную службу доставки, что сократит срок доставки заказов   \n",
       "2  Добавить блоки рекомендаций товаров на сайт интернет магазина, чтобы повысить конверсию и средний чек заказа   \n",
       "3           Изменить структура категорий, что увеличит конверсию, т.к. пользователи быстрее найдут нужный товар   \n",
       "4                              Изменить цвет фона главной страницы, чтобы увеличить вовлеченность пользователей   \n",
       "5                      Добавить страницу отзывов клиентов о магазине, что позволит увеличить количество заказов   \n",
       "6          Показать на главной странице баннеры с актуальными акциями и распродажами, чтобы увеличить конверсию   \n",
       "7              Добавить форму подписки на все основные страницы, чтобы собрать базу клиентов для email-рассылок   \n",
       "8                                                       Запустить акцию, дающую скидку на товар в день рождения   \n",
       "\n",
       "   Reach  Impact  Confidence  Efforts  \n",
       "0      3      10           8        6  \n",
       "1      2       5           4       10  \n",
       "2      8       3           7        3  \n",
       "3      8       3           3        8  \n",
       "4      3       1           1        1  \n",
       "5      3       2           2        3  \n",
       "6      5       3           8        3  \n",
       "7     10       7           8        5  \n",
       "8      1       9           9        5  "
      ]
     },
     "execution_count": 2,
     "metadata": {},
     "output_type": "execute_result"
    }
   ],
   "source": [
    "# открываем исходный файл с гипотезами и сохраняем его в переменную hypothesis\n",
    "hypothesis = pd.read_csv('hypothesis.csv')\n",
    "hypothesis"
   ]
  },
  {
   "cell_type": "markdown",
   "id": "3403ffa5",
   "metadata": {},
   "source": [
    "**В подготовленном списке 9 гипотез `Hypothesis`:**\n",
    "1. Добавить два новых канала привлечения трафика, что позволит привлекать на 30% больше пользователей.\n",
    "2. Запустить собственную службу доставки, что сократит срок доставки заказов.\n",
    "3. Добавить блоки рекомендаций товаров на сайт интернет магазина, чтобы повысить конверсию и средний чек заказа.\n",
    "4. Изменить структура категорий, что увеличит конверсию, т.к. пользователи быстрее найдут нужный товар.\n",
    "5. Изменить цвет фона главной страницы, чтобы увеличить вовлеченность пользователей.\n",
    "6. Добавить страницу отзывов клиентов о магазине, что позволит увеличить количество заказов.\n",
    "7. Показать на главной странице баннеры с актуальными акциями и распродажами, чтобы увеличить конверсию.\n",
    "8. Добавить форму подписки на все основные страницы, чтобы собрать базу клиентов для email-рассылок.\n",
    "9. Запустить акцию, дающую скидку на товар в день рождения.\n",
    "\n",
    "Для каждой гипотезы указаны такие параметры, как:\n",
    "- `Reach` - охват пользователей по 10-бальной шкале; \n",
    "- `Impact` - влияние на пользователей по 10-бальной шкале;\n",
    "- `Confidence` - уверенность в гипотезе по 10-бальной шкале;\n",
    "- `Efforts` - затраты ресурсов на проверку гипотезы по 10-бальной шкале.\n",
    "\n",
    "Для каждой гипотезы выполним расчет приоритета двумя методами - ICE и RICE. Сравним их результаты и выберем одну самую приоритетную гипотезу.\n",
    "\n",
    "$$ICE = \\frac{Impact * Confidence}{Efforts}$$\n",
    "\n",
    "$$RICE = \\frac{Rearch * Impact * Confidence}{Efforts}$$"
   ]
  },
  {
   "cell_type": "markdown",
   "id": "7df271a9",
   "metadata": {},
   "source": [
    "### Расчет ICE\n",
    "<a id='hyp_ice'></a>"
   ]
  },
  {
   "cell_type": "code",
   "execution_count": 3,
   "id": "2a025b98",
   "metadata": {},
   "outputs": [
    {
     "data": {
      "text/html": [
       "<div>\n",
       "<style scoped>\n",
       "    .dataframe tbody tr th:only-of-type {\n",
       "        vertical-align: middle;\n",
       "    }\n",
       "\n",
       "    .dataframe tbody tr th {\n",
       "        vertical-align: top;\n",
       "    }\n",
       "\n",
       "    .dataframe thead th {\n",
       "        text-align: right;\n",
       "    }\n",
       "</style>\n",
       "<table border=\"1\" class=\"dataframe\">\n",
       "  <thead>\n",
       "    <tr style=\"text-align: right;\">\n",
       "      <th></th>\n",
       "      <th>Hypothesis</th>\n",
       "      <th>ICE</th>\n",
       "    </tr>\n",
       "  </thead>\n",
       "  <tbody>\n",
       "    <tr>\n",
       "      <th>8</th>\n",
       "      <td>Запустить акцию, дающую скидку на товар в день рождения</td>\n",
       "      <td>16.200000</td>\n",
       "    </tr>\n",
       "    <tr>\n",
       "      <th>0</th>\n",
       "      <td>Добавить два новых канала привлечения трафика, что позволит привлекать на 30% больше пользователей</td>\n",
       "      <td>13.333333</td>\n",
       "    </tr>\n",
       "    <tr>\n",
       "      <th>7</th>\n",
       "      <td>Добавить форму подписки на все основные страницы, чтобы собрать базу клиентов для email-рассылок</td>\n",
       "      <td>11.200000</td>\n",
       "    </tr>\n",
       "    <tr>\n",
       "      <th>6</th>\n",
       "      <td>Показать на главной странице баннеры с актуальными акциями и распродажами, чтобы увеличить конверсию</td>\n",
       "      <td>8.000000</td>\n",
       "    </tr>\n",
       "    <tr>\n",
       "      <th>2</th>\n",
       "      <td>Добавить блоки рекомендаций товаров на сайт интернет магазина, чтобы повысить конверсию и средний чек заказа</td>\n",
       "      <td>7.000000</td>\n",
       "    </tr>\n",
       "    <tr>\n",
       "      <th>1</th>\n",
       "      <td>Запустить собственную службу доставки, что сократит срок доставки заказов</td>\n",
       "      <td>2.000000</td>\n",
       "    </tr>\n",
       "    <tr>\n",
       "      <th>5</th>\n",
       "      <td>Добавить страницу отзывов клиентов о магазине, что позволит увеличить количество заказов</td>\n",
       "      <td>1.333333</td>\n",
       "    </tr>\n",
       "    <tr>\n",
       "      <th>3</th>\n",
       "      <td>Изменить структура категорий, что увеличит конверсию, т.к. пользователи быстрее найдут нужный товар</td>\n",
       "      <td>1.125000</td>\n",
       "    </tr>\n",
       "    <tr>\n",
       "      <th>4</th>\n",
       "      <td>Изменить цвет фона главной страницы, чтобы увеличить вовлеченность пользователей</td>\n",
       "      <td>1.000000</td>\n",
       "    </tr>\n",
       "  </tbody>\n",
       "</table>\n",
       "</div>"
      ],
      "text/plain": [
       "                                                                                                     Hypothesis  \\\n",
       "8                                                       Запустить акцию, дающую скидку на товар в день рождения   \n",
       "0            Добавить два новых канала привлечения трафика, что позволит привлекать на 30% больше пользователей   \n",
       "7              Добавить форму подписки на все основные страницы, чтобы собрать базу клиентов для email-рассылок   \n",
       "6          Показать на главной странице баннеры с актуальными акциями и распродажами, чтобы увеличить конверсию   \n",
       "2  Добавить блоки рекомендаций товаров на сайт интернет магазина, чтобы повысить конверсию и средний чек заказа   \n",
       "1                                     Запустить собственную службу доставки, что сократит срок доставки заказов   \n",
       "5                      Добавить страницу отзывов клиентов о магазине, что позволит увеличить количество заказов   \n",
       "3           Изменить структура категорий, что увеличит конверсию, т.к. пользователи быстрее найдут нужный товар   \n",
       "4                              Изменить цвет фона главной страницы, чтобы увеличить вовлеченность пользователей   \n",
       "\n",
       "         ICE  \n",
       "8  16.200000  \n",
       "0  13.333333  \n",
       "7  11.200000  \n",
       "6   8.000000  \n",
       "2   7.000000  \n",
       "1   2.000000  \n",
       "5   1.333333  \n",
       "3   1.125000  \n",
       "4   1.000000  "
      ]
     },
     "execution_count": 3,
     "metadata": {},
     "output_type": "execute_result"
    }
   ],
   "source": [
    "# добавим в исходную таблицу значение приоритета ICE\n",
    "hypothesis['ICE'] = hypothesis['Impact'] * hypothesis['Confidence'] / hypothesis['Efforts']\n",
    "hypothesis[['Hypothesis', 'ICE']].sort_values(by='ICE', ascending=False)"
   ]
  },
  {
   "cell_type": "markdown",
   "id": "bf5811f5",
   "metadata": {},
   "source": [
    "По результатам расчета ICE самая приоритетная гипотеза №9:  \n",
    "_Запустить акцию, дающую скидку на товар в день рождения._"
   ]
  },
  {
   "cell_type": "markdown",
   "id": "66699485",
   "metadata": {},
   "source": [
    "### Расчет RICE\n",
    "<a id='hyp_rice'></a>"
   ]
  },
  {
   "cell_type": "code",
   "execution_count": 4,
   "id": "74cf1d38",
   "metadata": {
    "scrolled": true
   },
   "outputs": [
    {
     "data": {
      "text/html": [
       "<div>\n",
       "<style scoped>\n",
       "    .dataframe tbody tr th:only-of-type {\n",
       "        vertical-align: middle;\n",
       "    }\n",
       "\n",
       "    .dataframe tbody tr th {\n",
       "        vertical-align: top;\n",
       "    }\n",
       "\n",
       "    .dataframe thead th {\n",
       "        text-align: right;\n",
       "    }\n",
       "</style>\n",
       "<table border=\"1\" class=\"dataframe\">\n",
       "  <thead>\n",
       "    <tr style=\"text-align: right;\">\n",
       "      <th></th>\n",
       "      <th>Hypothesis</th>\n",
       "      <th>RICE</th>\n",
       "    </tr>\n",
       "  </thead>\n",
       "  <tbody>\n",
       "    <tr>\n",
       "      <th>7</th>\n",
       "      <td>Добавить форму подписки на все основные страницы, чтобы собрать базу клиентов для email-рассылок</td>\n",
       "      <td>112.0</td>\n",
       "    </tr>\n",
       "    <tr>\n",
       "      <th>2</th>\n",
       "      <td>Добавить блоки рекомендаций товаров на сайт интернет магазина, чтобы повысить конверсию и средний чек заказа</td>\n",
       "      <td>56.0</td>\n",
       "    </tr>\n",
       "    <tr>\n",
       "      <th>0</th>\n",
       "      <td>Добавить два новых канала привлечения трафика, что позволит привлекать на 30% больше пользователей</td>\n",
       "      <td>40.0</td>\n",
       "    </tr>\n",
       "    <tr>\n",
       "      <th>6</th>\n",
       "      <td>Показать на главной странице баннеры с актуальными акциями и распродажами, чтобы увеличить конверсию</td>\n",
       "      <td>40.0</td>\n",
       "    </tr>\n",
       "    <tr>\n",
       "      <th>8</th>\n",
       "      <td>Запустить акцию, дающую скидку на товар в день рождения</td>\n",
       "      <td>16.2</td>\n",
       "    </tr>\n",
       "    <tr>\n",
       "      <th>3</th>\n",
       "      <td>Изменить структура категорий, что увеличит конверсию, т.к. пользователи быстрее найдут нужный товар</td>\n",
       "      <td>9.0</td>\n",
       "    </tr>\n",
       "    <tr>\n",
       "      <th>1</th>\n",
       "      <td>Запустить собственную службу доставки, что сократит срок доставки заказов</td>\n",
       "      <td>4.0</td>\n",
       "    </tr>\n",
       "    <tr>\n",
       "      <th>5</th>\n",
       "      <td>Добавить страницу отзывов клиентов о магазине, что позволит увеличить количество заказов</td>\n",
       "      <td>4.0</td>\n",
       "    </tr>\n",
       "    <tr>\n",
       "      <th>4</th>\n",
       "      <td>Изменить цвет фона главной страницы, чтобы увеличить вовлеченность пользователей</td>\n",
       "      <td>3.0</td>\n",
       "    </tr>\n",
       "  </tbody>\n",
       "</table>\n",
       "</div>"
      ],
      "text/plain": [
       "                                                                                                     Hypothesis  \\\n",
       "7              Добавить форму подписки на все основные страницы, чтобы собрать базу клиентов для email-рассылок   \n",
       "2  Добавить блоки рекомендаций товаров на сайт интернет магазина, чтобы повысить конверсию и средний чек заказа   \n",
       "0            Добавить два новых канала привлечения трафика, что позволит привлекать на 30% больше пользователей   \n",
       "6          Показать на главной странице баннеры с актуальными акциями и распродажами, чтобы увеличить конверсию   \n",
       "8                                                       Запустить акцию, дающую скидку на товар в день рождения   \n",
       "3           Изменить структура категорий, что увеличит конверсию, т.к. пользователи быстрее найдут нужный товар   \n",
       "1                                     Запустить собственную службу доставки, что сократит срок доставки заказов   \n",
       "5                      Добавить страницу отзывов клиентов о магазине, что позволит увеличить количество заказов   \n",
       "4                              Изменить цвет фона главной страницы, чтобы увеличить вовлеченность пользователей   \n",
       "\n",
       "    RICE  \n",
       "7  112.0  \n",
       "2   56.0  \n",
       "0   40.0  \n",
       "6   40.0  \n",
       "8   16.2  \n",
       "3    9.0  \n",
       "1    4.0  \n",
       "5    4.0  \n",
       "4    3.0  "
      ]
     },
     "execution_count": 4,
     "metadata": {},
     "output_type": "execute_result"
    }
   ],
   "source": [
    "# добавим в исходную таблицу значение приоритета RICE\n",
    "hypothesis['RICE'] = hypothesis['Reach'] * hypothesis['Impact'] * hypothesis['Confidence'] / hypothesis['Efforts']\n",
    "hypothesis[['Hypothesis', 'RICE']].sort_values(by='RICE', ascending=False)"
   ]
  },
  {
   "cell_type": "markdown",
   "id": "7a7e5fd7",
   "metadata": {},
   "source": [
    "По результатам расчета RICE самая приоритетная гипотеза №8:  \n",
    "_Добавить форму подписки на все основные страницы, чтобы собрать базу клиентов для email-рассылок._"
   ]
  },
  {
   "cell_type": "markdown",
   "id": "40e4c7a8",
   "metadata": {},
   "source": [
    "### Вывод\n",
    "<a id='hyp_result'></a>\n",
    "1. При приоритезации гипотез по ICE и RICE получены разные результаты. Это связано с тем, что RICE содержит дополнительную переменную `Reach`. Выбор расчета связан с полнотой исходных данных - поэтому в данном случае ориентируемся на значения RICE.\n",
    "2. Будем проводить A/B тест по гипотезе:  \n",
    "_Добавить форму подписки на все основные страницы, чтобы собрать базу клиентов для email-рассылок._"
   ]
  },
  {
   "cell_type": "markdown",
   "id": "ed283ced",
   "metadata": {},
   "source": [
    "## Анализ А/В теста\n",
    "<a id='test'></a>\n",
    "\n",
    "A/B тест проведен. Изучим полученные в его результате данные. А также проанализируем основные метрики: выручку, средний чек и конверсию."
   ]
  },
  {
   "cell_type": "markdown",
   "id": "8512c2a1",
   "metadata": {},
   "source": [
    "### Подготовка данных\n",
    "<a id='test_pre'></a>"
   ]
  },
  {
   "cell_type": "code",
   "execution_count": 5,
   "id": "a2fc6e79",
   "metadata": {},
   "outputs": [],
   "source": [
    "# открываем исходные файлы с заказами и пользователями и сохраняем их в переменные orders и visitors\n",
    "orders, visitors = (\n",
    "    pd.read_csv('orders.csv'),\n",
    "    pd.read_csv('visitors.csv')\n",
    ")"
   ]
  },
  {
   "cell_type": "code",
   "execution_count": 6,
   "id": "da6f465f",
   "metadata": {},
   "outputs": [],
   "source": [
    "# функция вывода информации о таблице и ее первых 5 строк\n",
    "def info_view(data):\n",
    "    return display(data.head()), data.info()"
   ]
  },
  {
   "cell_type": "code",
   "execution_count": 7,
   "id": "87578b5a",
   "metadata": {},
   "outputs": [
    {
     "data": {
      "text/html": [
       "<div>\n",
       "<style scoped>\n",
       "    .dataframe tbody tr th:only-of-type {\n",
       "        vertical-align: middle;\n",
       "    }\n",
       "\n",
       "    .dataframe tbody tr th {\n",
       "        vertical-align: top;\n",
       "    }\n",
       "\n",
       "    .dataframe thead th {\n",
       "        text-align: right;\n",
       "    }\n",
       "</style>\n",
       "<table border=\"1\" class=\"dataframe\">\n",
       "  <thead>\n",
       "    <tr style=\"text-align: right;\">\n",
       "      <th></th>\n",
       "      <th>transactionId</th>\n",
       "      <th>visitorId</th>\n",
       "      <th>date</th>\n",
       "      <th>revenue</th>\n",
       "      <th>group</th>\n",
       "    </tr>\n",
       "  </thead>\n",
       "  <tbody>\n",
       "    <tr>\n",
       "      <th>0</th>\n",
       "      <td>3667963787</td>\n",
       "      <td>3312258926</td>\n",
       "      <td>2019-08-15</td>\n",
       "      <td>1650</td>\n",
       "      <td>B</td>\n",
       "    </tr>\n",
       "    <tr>\n",
       "      <th>1</th>\n",
       "      <td>2804400009</td>\n",
       "      <td>3642806036</td>\n",
       "      <td>2019-08-15</td>\n",
       "      <td>730</td>\n",
       "      <td>B</td>\n",
       "    </tr>\n",
       "    <tr>\n",
       "      <th>2</th>\n",
       "      <td>2961555356</td>\n",
       "      <td>4069496402</td>\n",
       "      <td>2019-08-15</td>\n",
       "      <td>400</td>\n",
       "      <td>A</td>\n",
       "    </tr>\n",
       "    <tr>\n",
       "      <th>3</th>\n",
       "      <td>3797467345</td>\n",
       "      <td>1196621759</td>\n",
       "      <td>2019-08-15</td>\n",
       "      <td>9759</td>\n",
       "      <td>B</td>\n",
       "    </tr>\n",
       "    <tr>\n",
       "      <th>4</th>\n",
       "      <td>2282983706</td>\n",
       "      <td>2322279887</td>\n",
       "      <td>2019-08-15</td>\n",
       "      <td>2308</td>\n",
       "      <td>B</td>\n",
       "    </tr>\n",
       "  </tbody>\n",
       "</table>\n",
       "</div>"
      ],
      "text/plain": [
       "   transactionId   visitorId        date  revenue group\n",
       "0     3667963787  3312258926  2019-08-15     1650     B\n",
       "1     2804400009  3642806036  2019-08-15      730     B\n",
       "2     2961555356  4069496402  2019-08-15      400     A\n",
       "3     3797467345  1196621759  2019-08-15     9759     B\n",
       "4     2282983706  2322279887  2019-08-15     2308     B"
      ]
     },
     "metadata": {},
     "output_type": "display_data"
    },
    {
     "name": "stdout",
     "output_type": "stream",
     "text": [
      "<class 'pandas.core.frame.DataFrame'>\n",
      "RangeIndex: 1197 entries, 0 to 1196\n",
      "Data columns (total 5 columns):\n",
      " #   Column         Non-Null Count  Dtype \n",
      "---  ------         --------------  ----- \n",
      " 0   transactionId  1197 non-null   int64 \n",
      " 1   visitorId      1197 non-null   int64 \n",
      " 2   date           1197 non-null   object\n",
      " 3   revenue        1197 non-null   int64 \n",
      " 4   group          1197 non-null   object\n",
      "dtypes: int64(3), object(2)\n",
      "memory usage: 46.9+ KB\n"
     ]
    },
    {
     "data": {
      "text/html": [
       "<div>\n",
       "<style scoped>\n",
       "    .dataframe tbody tr th:only-of-type {\n",
       "        vertical-align: middle;\n",
       "    }\n",
       "\n",
       "    .dataframe tbody tr th {\n",
       "        vertical-align: top;\n",
       "    }\n",
       "\n",
       "    .dataframe thead th {\n",
       "        text-align: right;\n",
       "    }\n",
       "</style>\n",
       "<table border=\"1\" class=\"dataframe\">\n",
       "  <thead>\n",
       "    <tr style=\"text-align: right;\">\n",
       "      <th></th>\n",
       "      <th>date</th>\n",
       "      <th>group</th>\n",
       "      <th>visitors</th>\n",
       "    </tr>\n",
       "  </thead>\n",
       "  <tbody>\n",
       "    <tr>\n",
       "      <th>0</th>\n",
       "      <td>2019-08-01</td>\n",
       "      <td>A</td>\n",
       "      <td>719</td>\n",
       "    </tr>\n",
       "    <tr>\n",
       "      <th>1</th>\n",
       "      <td>2019-08-02</td>\n",
       "      <td>A</td>\n",
       "      <td>619</td>\n",
       "    </tr>\n",
       "    <tr>\n",
       "      <th>2</th>\n",
       "      <td>2019-08-03</td>\n",
       "      <td>A</td>\n",
       "      <td>507</td>\n",
       "    </tr>\n",
       "    <tr>\n",
       "      <th>3</th>\n",
       "      <td>2019-08-04</td>\n",
       "      <td>A</td>\n",
       "      <td>717</td>\n",
       "    </tr>\n",
       "    <tr>\n",
       "      <th>4</th>\n",
       "      <td>2019-08-05</td>\n",
       "      <td>A</td>\n",
       "      <td>756</td>\n",
       "    </tr>\n",
       "  </tbody>\n",
       "</table>\n",
       "</div>"
      ],
      "text/plain": [
       "         date group  visitors\n",
       "0  2019-08-01     A       719\n",
       "1  2019-08-02     A       619\n",
       "2  2019-08-03     A       507\n",
       "3  2019-08-04     A       717\n",
       "4  2019-08-05     A       756"
      ]
     },
     "metadata": {},
     "output_type": "display_data"
    },
    {
     "name": "stdout",
     "output_type": "stream",
     "text": [
      "<class 'pandas.core.frame.DataFrame'>\n",
      "RangeIndex: 62 entries, 0 to 61\n",
      "Data columns (total 3 columns):\n",
      " #   Column    Non-Null Count  Dtype \n",
      "---  ------    --------------  ----- \n",
      " 0   date      62 non-null     object\n",
      " 1   group     62 non-null     object\n",
      " 2   visitors  62 non-null     int64 \n",
      "dtypes: int64(1), object(2)\n",
      "memory usage: 1.6+ KB\n"
     ]
    },
    {
     "data": {
      "text/plain": [
       "(None, None)"
      ]
     },
     "execution_count": 7,
     "metadata": {},
     "output_type": "execute_result"
    }
   ],
   "source": [
    "# вывод информации о visits, orders и costs\n",
    "info_view(orders)\n",
    "info_view(visitors)"
   ]
  },
  {
   "cell_type": "markdown",
   "id": "e2c6fea9",
   "metadata": {},
   "source": [
    "Данные о заказах `orders` содержат:\n",
    "- `transactionId` - идентификатор заказа;\n",
    "- `visitorId` - идентификатор пользователя, совершившего заказ;\n",
    "- `date` - дата, когда был совершен заказ;\n",
    "- `revenue`- выручка заказа;\n",
    "- `group` - группа А/В теста.\n",
    "\n",
    "Данные о заказах `visitors` содержат:\n",
    "- `date` - дата;\n",
    "- `group` - группа А/В теста;\n",
    "- `visitors` - количество пользователей в указанную дату в указанной группе А/В теста.\n",
    "\n",
    "Произведем следующие корректировки исходных данных:\n",
    "1. Названия столбцов `transactionId` и `visitorId` выполним \"змеиным стилем\".\n",
    "2. Преобразуем столбцы с датами в тип `datetime`.\n",
    "3. Проверим данные на дубликаты.\n",
    "4. Проверим количество посетителей по группам - должно быть примерно 50\\50.\n",
    "5. Проверим пересечение пользователей в обеих группах."
   ]
  },
  {
   "cell_type": "code",
   "execution_count": 8,
   "id": "a10f40a5",
   "metadata": {
    "scrolled": false
   },
   "outputs": [
    {
     "data": {
      "text/html": [
       "<div>\n",
       "<style scoped>\n",
       "    .dataframe tbody tr th:only-of-type {\n",
       "        vertical-align: middle;\n",
       "    }\n",
       "\n",
       "    .dataframe tbody tr th {\n",
       "        vertical-align: top;\n",
       "    }\n",
       "\n",
       "    .dataframe thead th {\n",
       "        text-align: right;\n",
       "    }\n",
       "</style>\n",
       "<table border=\"1\" class=\"dataframe\">\n",
       "  <thead>\n",
       "    <tr style=\"text-align: right;\">\n",
       "      <th></th>\n",
       "      <th>transaction_id</th>\n",
       "      <th>visitor_id</th>\n",
       "      <th>date</th>\n",
       "      <th>revenue</th>\n",
       "      <th>group</th>\n",
       "    </tr>\n",
       "  </thead>\n",
       "  <tbody>\n",
       "    <tr>\n",
       "      <th>0</th>\n",
       "      <td>3667963787</td>\n",
       "      <td>3312258926</td>\n",
       "      <td>2019-08-15</td>\n",
       "      <td>1650</td>\n",
       "      <td>B</td>\n",
       "    </tr>\n",
       "    <tr>\n",
       "      <th>1</th>\n",
       "      <td>2804400009</td>\n",
       "      <td>3642806036</td>\n",
       "      <td>2019-08-15</td>\n",
       "      <td>730</td>\n",
       "      <td>B</td>\n",
       "    </tr>\n",
       "    <tr>\n",
       "      <th>2</th>\n",
       "      <td>2961555356</td>\n",
       "      <td>4069496402</td>\n",
       "      <td>2019-08-15</td>\n",
       "      <td>400</td>\n",
       "      <td>A</td>\n",
       "    </tr>\n",
       "    <tr>\n",
       "      <th>3</th>\n",
       "      <td>3797467345</td>\n",
       "      <td>1196621759</td>\n",
       "      <td>2019-08-15</td>\n",
       "      <td>9759</td>\n",
       "      <td>B</td>\n",
       "    </tr>\n",
       "    <tr>\n",
       "      <th>4</th>\n",
       "      <td>2282983706</td>\n",
       "      <td>2322279887</td>\n",
       "      <td>2019-08-15</td>\n",
       "      <td>2308</td>\n",
       "      <td>B</td>\n",
       "    </tr>\n",
       "  </tbody>\n",
       "</table>\n",
       "</div>"
      ],
      "text/plain": [
       "   transaction_id  visitor_id       date  revenue group\n",
       "0      3667963787  3312258926 2019-08-15     1650     B\n",
       "1      2804400009  3642806036 2019-08-15      730     B\n",
       "2      2961555356  4069496402 2019-08-15      400     A\n",
       "3      3797467345  1196621759 2019-08-15     9759     B\n",
       "4      2282983706  2322279887 2019-08-15     2308     B"
      ]
     },
     "metadata": {},
     "output_type": "display_data"
    },
    {
     "name": "stdout",
     "output_type": "stream",
     "text": [
      "<class 'pandas.core.frame.DataFrame'>\n",
      "RangeIndex: 1197 entries, 0 to 1196\n",
      "Data columns (total 5 columns):\n",
      " #   Column          Non-Null Count  Dtype         \n",
      "---  ------          --------------  -----         \n",
      " 0   transaction_id  1197 non-null   int64         \n",
      " 1   visitor_id      1197 non-null   int64         \n",
      " 2   date            1197 non-null   datetime64[ns]\n",
      " 3   revenue         1197 non-null   int64         \n",
      " 4   group           1197 non-null   object        \n",
      "dtypes: datetime64[ns](1), int64(3), object(1)\n",
      "memory usage: 46.9+ KB\n"
     ]
    },
    {
     "data": {
      "text/html": [
       "<div>\n",
       "<style scoped>\n",
       "    .dataframe tbody tr th:only-of-type {\n",
       "        vertical-align: middle;\n",
       "    }\n",
       "\n",
       "    .dataframe tbody tr th {\n",
       "        vertical-align: top;\n",
       "    }\n",
       "\n",
       "    .dataframe thead th {\n",
       "        text-align: right;\n",
       "    }\n",
       "</style>\n",
       "<table border=\"1\" class=\"dataframe\">\n",
       "  <thead>\n",
       "    <tr style=\"text-align: right;\">\n",
       "      <th></th>\n",
       "      <th>date</th>\n",
       "      <th>group</th>\n",
       "      <th>visitors</th>\n",
       "    </tr>\n",
       "  </thead>\n",
       "  <tbody>\n",
       "    <tr>\n",
       "      <th>0</th>\n",
       "      <td>2019-08-01</td>\n",
       "      <td>A</td>\n",
       "      <td>719</td>\n",
       "    </tr>\n",
       "    <tr>\n",
       "      <th>1</th>\n",
       "      <td>2019-08-02</td>\n",
       "      <td>A</td>\n",
       "      <td>619</td>\n",
       "    </tr>\n",
       "    <tr>\n",
       "      <th>2</th>\n",
       "      <td>2019-08-03</td>\n",
       "      <td>A</td>\n",
       "      <td>507</td>\n",
       "    </tr>\n",
       "    <tr>\n",
       "      <th>3</th>\n",
       "      <td>2019-08-04</td>\n",
       "      <td>A</td>\n",
       "      <td>717</td>\n",
       "    </tr>\n",
       "    <tr>\n",
       "      <th>4</th>\n",
       "      <td>2019-08-05</td>\n",
       "      <td>A</td>\n",
       "      <td>756</td>\n",
       "    </tr>\n",
       "  </tbody>\n",
       "</table>\n",
       "</div>"
      ],
      "text/plain": [
       "        date group  visitors\n",
       "0 2019-08-01     A       719\n",
       "1 2019-08-02     A       619\n",
       "2 2019-08-03     A       507\n",
       "3 2019-08-04     A       717\n",
       "4 2019-08-05     A       756"
      ]
     },
     "metadata": {},
     "output_type": "display_data"
    },
    {
     "name": "stdout",
     "output_type": "stream",
     "text": [
      "<class 'pandas.core.frame.DataFrame'>\n",
      "RangeIndex: 62 entries, 0 to 61\n",
      "Data columns (total 3 columns):\n",
      " #   Column    Non-Null Count  Dtype         \n",
      "---  ------    --------------  -----         \n",
      " 0   date      62 non-null     datetime64[ns]\n",
      " 1   group     62 non-null     object        \n",
      " 2   visitors  62 non-null     int64         \n",
      "dtypes: datetime64[ns](1), int64(1), object(1)\n",
      "memory usage: 1.6+ KB\n"
     ]
    },
    {
     "data": {
      "text/plain": [
       "(None, None)"
      ]
     },
     "execution_count": 8,
     "metadata": {},
     "output_type": "execute_result"
    }
   ],
   "source": [
    "# заменим названия столбцов в orders\n",
    "orders = orders.rename(columns={'transactionId':'transaction_id', 'visitorId':'visitor_id'})\n",
    "\n",
    "#изменим тип данных в столбцах с датой и временем на тип datetime\n",
    "orders['date'], visitors['date'] = (\n",
    "    pd.to_datetime(orders['date']),\n",
    "    pd.to_datetime(visitors['date']),\n",
    ")\n",
    "\n",
    "# вывод информации о visits, orders и costs\n",
    "info_view(orders)\n",
    "info_view(visitors)"
   ]
  },
  {
   "cell_type": "code",
   "execution_count": 9,
   "id": "ceedfc72",
   "metadata": {},
   "outputs": [
    {
     "data": {
      "text/plain": [
       "(0, 0)"
      ]
     },
     "execution_count": 9,
     "metadata": {},
     "output_type": "execute_result"
    }
   ],
   "source": [
    "# проверим таблицы на дубликаты\n",
    "(\n",
    "    orders.duplicated().sum(),\n",
    "    visitors.duplicated().sum()\n",
    ")"
   ]
  },
  {
   "cell_type": "code",
   "execution_count": 10,
   "id": "4b70f531",
   "metadata": {},
   "outputs": [
    {
     "name": "stdout",
     "output_type": "stream",
     "text": [
      "Всего участвуют - 1031 человек \n",
      " Группа А - 49%\n",
      " Группа В - 57%\n"
     ]
    }
   ],
   "source": [
    "# проверим количество посетителей в каждой группе\n",
    "print(\n",
    "    'Всего участвуют - {} человек \\n Группа А - {:.0%}\\n Группа В - {:.0%}'\n",
    "    .format(\n",
    "        orders['visitor_id'].nunique(),\n",
    "        orders.query('group == \"A\"')['visitor_id'].nunique()/orders['visitor_id'].nunique(),\n",
    "        orders.query('group == \"B\"')['visitor_id'].nunique()/orders['visitor_id'].nunique()\n",
    "    )\n",
    ")"
   ]
  },
  {
   "cell_type": "code",
   "execution_count": 30,
   "id": "90f64cc7",
   "metadata": {},
   "outputs": [
    {
     "data": {
      "text/plain": [
       "89"
      ]
     },
     "execution_count": 30,
     "metadata": {},
     "output_type": "execute_result"
    }
   ],
   "source": [
    "# проверим, пересекаются ли пользователи в группах\n",
    "orders.query('group == \"A\"')['visitor_id'].isin(orders.query('group == \"B\"')['visitor_id']).sum()"
   ]
  },
  {
   "cell_type": "markdown",
   "id": "c7581e49",
   "metadata": {},
   "source": [
    "Названия столбцов заменены, типы данных дат исправлены, дубликаты не обнаружены. В группах количество пользователей примерно поравну. При этом, пользователей, оказавшихся в обеих группах - 89. Это говорит о некачественном делении трафика при подготовке к тесту.\n",
    "\n",
    "Теперь на основе данных `orders` и `visitors` создадим таблицу `data` для проведения дальнейшего анализа и проверки гипотезы. В неё войдут следующие данные:\n",
    "- `date` — дата;\n",
    "- `orders_A` — количество заказов в выбранную дату в группе A;\n",
    "- `revenue_A` — суммарная выручка в выбранную дату в группе A;\n",
    "- `orders_B` — количество заказов в выбранную дату в группе B;\n",
    "- `revenue_B` — суммарная выручка в выбранную дату в группе B;\n",
    "- `orders_cummulative_A` — суммарное число заказов до выбранной даты включительно в группе A;\n",
    "- `revenue_cummulative_A` — суммарная выручка до выбранной даты включительно в группе A;\n",
    "- `orders_cummulative_B` — суммарное количество заказов до выбранной даты включительно в группе B;\n",
    "- `revenue_cummulative_B` — суммарная выручка до выбранной даты включительно в группе B;\n",
    "- `visitors_A` — количество пользователей в выбранную дату в группе A;\n",
    "- `visitors_B` — количество пользователей в выбранную дату в группе B;\n",
    "- `visitors_cummulative_A` — количество пользователей до выбранной даты включительно в группе A;\n",
    "- `visitors_cummulative_B` — количество пользователей до выбранной даты включительно в группе B.\n",
    "\n",
    "Создадим промежуточные таблицы для группы А"
   ]
  },
  {
   "cell_type": "code",
   "execution_count": 12,
   "id": "502a02c1",
   "metadata": {},
   "outputs": [],
   "source": [
    "# создадим таблицу с количеством пользователей по дате группы А\n",
    "visitors_A = visitors.query('group == \"A\"')[['date', 'visitors']]\n",
    "visitors_A.columns = ['date', 'visitors_A']\n",
    "\n",
    "# создадим таблицу с кумулятивным количеством пользователей по дате группы А\n",
    "visitors_cummulative_A = visitors_A.apply(\n",
    "    lambda x: visitors_A[visitors_A['date'] <= x['date']].agg(\n",
    "        {'date': 'max', 'visitors_A': 'sum'}\n",
    "    ),\n",
    "    axis=1,\n",
    ")\n",
    "visitors_cummulative_A.columns = ['date', 'visitors_cummulative_A']\n",
    "\n",
    "# создадим таблицу с количеством заказов по дате группы А\n",
    "orders_A = (\n",
    "    orders.query('group == \"A\"')[['date', 'transaction_id', 'visitor_id', 'revenue']]\n",
    "    .groupby('date', as_index=False)\n",
    "    .agg({'transaction_id': pd.Series.nunique, 'revenue': 'sum'})\n",
    ")\n",
    "orders_A.columns = ['date', 'orders_A', 'revenue_A']\n",
    "\n",
    "# создадим таблицу с кумулятивным количеством заказов по дате группы А\n",
    "orders_cummulative_A = orders_A.apply(\n",
    "    lambda x: orders_A[orders_A['date'] <= x['date']].agg(\n",
    "        {'date': 'max', 'orders_A': 'sum', 'revenue_A': 'sum'}\n",
    "    ),\n",
    "    axis=1,\n",
    ").sort_values(by=['date'])\n",
    "orders_cummulative_A.columns = ['date', 'orders_cummulative_A','revenue_cummulative_A']\n"
   ]
  },
  {
   "cell_type": "markdown",
   "id": "12bb80ad",
   "metadata": {},
   "source": [
    "Теперь создадим промежуточные таблицы для группы В."
   ]
  },
  {
   "cell_type": "code",
   "execution_count": 13,
   "id": "c6215ef7",
   "metadata": {},
   "outputs": [],
   "source": [
    "# создадим таблицу с количеством пользователей по дате группы B\n",
    "visitors_B = visitors.query('group == \"B\"')[['date', 'visitors']]\n",
    "visitors_B.columns = ['date', 'visitors_B']\n",
    "\n",
    "# создадим таблицу с кумулятивным количеством пользователей по дате группы B\n",
    "visitors_cummulative_B = visitors_B.apply(\n",
    "    lambda x: visitors_B[visitors_B['date'] <= x['date']].agg(\n",
    "        {'date': 'max', 'visitors_B': 'sum'}\n",
    "    ),\n",
    "    axis=1,\n",
    ")\n",
    "visitors_cummulative_B.columns = ['date', 'visitors_cummulative_B']\n",
    "\n",
    "# создадим таблицу с количеством заказов по дате группы B\n",
    "orders_B = (\n",
    "    orders.query('group == \"B\"')[['date', 'transaction_id', 'visitor_id', 'revenue']]\n",
    "    .groupby('date', as_index=False)\n",
    "    .agg({'transaction_id': pd.Series.nunique, 'revenue': 'sum'})\n",
    ")\n",
    "orders_B.columns = ['date', 'orders_B', 'revenue_B']\n",
    "\n",
    "# создадим таблицу с кумулятивным количеством заказов по дате группы B\n",
    "orders_cummulative_B = orders_B.apply(\n",
    "    lambda x: orders_B[orders_B['date'] <= x['date']].agg(\n",
    "        {'date': 'max', 'orders_B': 'sum', 'revenue_B': 'sum'}\n",
    "    ),\n",
    "    axis=1,\n",
    ").sort_values(by=['date'])\n",
    "orders_cummulative_B.columns = ['date', 'orders_cummulative_B','revenue_cummulative_B']\n"
   ]
  },
  {
   "cell_type": "markdown",
   "id": "a066f2f3",
   "metadata": {},
   "source": [
    "Далее объединим все промежуточные таблицы в одну `data`."
   ]
  },
  {
   "cell_type": "code",
   "execution_count": 14,
   "id": "8d54ca35",
   "metadata": {
    "scrolled": false
   },
   "outputs": [
    {
     "data": {
      "text/html": [
       "<div>\n",
       "<style scoped>\n",
       "    .dataframe tbody tr th:only-of-type {\n",
       "        vertical-align: middle;\n",
       "    }\n",
       "\n",
       "    .dataframe tbody tr th {\n",
       "        vertical-align: top;\n",
       "    }\n",
       "\n",
       "    .dataframe thead th {\n",
       "        text-align: right;\n",
       "    }\n",
       "</style>\n",
       "<table border=\"1\" class=\"dataframe\">\n",
       "  <thead>\n",
       "    <tr style=\"text-align: right;\">\n",
       "      <th></th>\n",
       "      <th>date</th>\n",
       "      <th>orders_A</th>\n",
       "      <th>revenue_A</th>\n",
       "      <th>orders_B</th>\n",
       "      <th>revenue_B</th>\n",
       "      <th>orders_cummulative_A</th>\n",
       "      <th>revenue_cummulative_A</th>\n",
       "      <th>orders_cummulative_B</th>\n",
       "      <th>revenue_cummulative_B</th>\n",
       "      <th>visitors_A</th>\n",
       "      <th>visitors_B</th>\n",
       "      <th>visitors_cummulative_A</th>\n",
       "      <th>visitors_cummulative_B</th>\n",
       "    </tr>\n",
       "  </thead>\n",
       "  <tbody>\n",
       "    <tr>\n",
       "      <th>0</th>\n",
       "      <td>2019-08-01</td>\n",
       "      <td>24</td>\n",
       "      <td>148579</td>\n",
       "      <td>21</td>\n",
       "      <td>101217</td>\n",
       "      <td>24</td>\n",
       "      <td>148579</td>\n",
       "      <td>21</td>\n",
       "      <td>101217</td>\n",
       "      <td>719</td>\n",
       "      <td>713</td>\n",
       "      <td>719</td>\n",
       "      <td>713</td>\n",
       "    </tr>\n",
       "    <tr>\n",
       "      <th>1</th>\n",
       "      <td>2019-08-02</td>\n",
       "      <td>20</td>\n",
       "      <td>93822</td>\n",
       "      <td>24</td>\n",
       "      <td>165531</td>\n",
       "      <td>44</td>\n",
       "      <td>242401</td>\n",
       "      <td>45</td>\n",
       "      <td>266748</td>\n",
       "      <td>619</td>\n",
       "      <td>581</td>\n",
       "      <td>1338</td>\n",
       "      <td>1294</td>\n",
       "    </tr>\n",
       "    <tr>\n",
       "      <th>2</th>\n",
       "      <td>2019-08-03</td>\n",
       "      <td>24</td>\n",
       "      <td>112473</td>\n",
       "      <td>16</td>\n",
       "      <td>114248</td>\n",
       "      <td>68</td>\n",
       "      <td>354874</td>\n",
       "      <td>61</td>\n",
       "      <td>380996</td>\n",
       "      <td>507</td>\n",
       "      <td>509</td>\n",
       "      <td>1845</td>\n",
       "      <td>1803</td>\n",
       "    </tr>\n",
       "    <tr>\n",
       "      <th>3</th>\n",
       "      <td>2019-08-04</td>\n",
       "      <td>16</td>\n",
       "      <td>70825</td>\n",
       "      <td>17</td>\n",
       "      <td>108571</td>\n",
       "      <td>84</td>\n",
       "      <td>425699</td>\n",
       "      <td>78</td>\n",
       "      <td>489567</td>\n",
       "      <td>717</td>\n",
       "      <td>770</td>\n",
       "      <td>2562</td>\n",
       "      <td>2573</td>\n",
       "    </tr>\n",
       "    <tr>\n",
       "      <th>4</th>\n",
       "      <td>2019-08-05</td>\n",
       "      <td>25</td>\n",
       "      <td>124218</td>\n",
       "      <td>23</td>\n",
       "      <td>92428</td>\n",
       "      <td>109</td>\n",
       "      <td>549917</td>\n",
       "      <td>101</td>\n",
       "      <td>581995</td>\n",
       "      <td>756</td>\n",
       "      <td>707</td>\n",
       "      <td>3318</td>\n",
       "      <td>3280</td>\n",
       "    </tr>\n",
       "  </tbody>\n",
       "</table>\n",
       "</div>"
      ],
      "text/plain": [
       "        date  orders_A  revenue_A  orders_B  revenue_B  orders_cummulative_A  \\\n",
       "0 2019-08-01        24     148579        21     101217                    24   \n",
       "1 2019-08-02        20      93822        24     165531                    44   \n",
       "2 2019-08-03        24     112473        16     114248                    68   \n",
       "3 2019-08-04        16      70825        17     108571                    84   \n",
       "4 2019-08-05        25     124218        23      92428                   109   \n",
       "\n",
       "   revenue_cummulative_A  orders_cummulative_B  revenue_cummulative_B  \\\n",
       "0                 148579                    21                 101217   \n",
       "1                 242401                    45                 266748   \n",
       "2                 354874                    61                 380996   \n",
       "3                 425699                    78                 489567   \n",
       "4                 549917                   101                 581995   \n",
       "\n",
       "   visitors_A  visitors_B  visitors_cummulative_A  visitors_cummulative_B  \n",
       "0         719         713                     719                     713  \n",
       "1         619         581                    1338                    1294  \n",
       "2         507         509                    1845                    1803  \n",
       "3         717         770                    2562                    2573  \n",
       "4         756         707                    3318                    3280  "
      ]
     },
     "metadata": {},
     "output_type": "display_data"
    },
    {
     "name": "stdout",
     "output_type": "stream",
     "text": [
      "<class 'pandas.core.frame.DataFrame'>\n",
      "Int64Index: 31 entries, 0 to 30\n",
      "Data columns (total 13 columns):\n",
      " #   Column                  Non-Null Count  Dtype         \n",
      "---  ------                  --------------  -----         \n",
      " 0   date                    31 non-null     datetime64[ns]\n",
      " 1   orders_A                31 non-null     int64         \n",
      " 2   revenue_A               31 non-null     int64         \n",
      " 3   orders_B                31 non-null     int64         \n",
      " 4   revenue_B               31 non-null     int64         \n",
      " 5   orders_cummulative_A    31 non-null     int64         \n",
      " 6   revenue_cummulative_A   31 non-null     int64         \n",
      " 7   orders_cummulative_B    31 non-null     int64         \n",
      " 8   revenue_cummulative_B   31 non-null     int64         \n",
      " 9   visitors_A              31 non-null     int64         \n",
      " 10  visitors_B              31 non-null     int64         \n",
      " 11  visitors_cummulative_A  31 non-null     int64         \n",
      " 12  visitors_cummulative_B  31 non-null     int64         \n",
      "dtypes: datetime64[ns](1), int64(12)\n",
      "memory usage: 3.4 KB\n"
     ]
    },
    {
     "data": {
      "text/plain": [
       "(None, None)"
      ]
     },
     "execution_count": 14,
     "metadata": {},
     "output_type": "execute_result"
    }
   ],
   "source": [
    "data = (\n",
    "    orders_A.merge(\n",
    "        orders_B, left_on='date', right_on='date', how='left'\n",
    "    )\n",
    "    .merge(orders_cummulative_A, left_on='date', right_on='date', how='left')\n",
    "    .merge(orders_cummulative_B, left_on='date', right_on='date', how='left')\n",
    "    .merge(visitors_A, left_on='date', right_on='date', how='left')\n",
    "    .merge(visitors_B, left_on='date', right_on='date', how='left')\n",
    "    .merge(visitors_cummulative_A, left_on='date', right_on='date', how='left')\n",
    "    .merge(visitors_cummulative_B, left_on='date', right_on='date', how='left')\n",
    ")\n",
    "info_view(data)"
   ]
  },
  {
   "cell_type": "markdown",
   "id": "51ec2d64",
   "metadata": {},
   "source": [
    "#### Вывод\n",
    "<a id='test_pre_result'></a>\n",
    "1. Таблица с данными для дальнейшего анализа подготвлена.\n",
    "2. Данные в таблице за период с 01 по 31 августа 2019 года."
   ]
  },
  {
   "cell_type": "markdown",
   "id": "9a818853",
   "metadata": {},
   "source": [
    "### Оценка куммулятивных данных\n",
    "<a id='test_cumm'></a>\n",
    "\n",
    "Для оценки различных метрик построим несколько графиков:\n",
    "- График кумулятивной выручки по группам;\n",
    "- График кумулятивного среднего чека по группам;\n",
    "- График относительного изменения кумулятивного среднего чека группы В к группе А;\n",
    "- График кумулятивной коверсии по группам;\n",
    "- График относительного изменения кумулятивной конверсии группы В к группе А."
   ]
  },
  {
   "cell_type": "markdown",
   "id": "f8883e30",
   "metadata": {},
   "source": [
    "#### Выручка\n",
    "<a id='test_cumm1'></a>"
   ]
  },
  {
   "cell_type": "code",
   "execution_count": 15,
   "id": "09f7a30b",
   "metadata": {
    "scrolled": false
   },
   "outputs": [
    {
     "data": {
      "image/png": "[encoded data removed]",
      "text/plain": [
       "<Figure size 720x432 with 1 Axes>"
      ]
     },
     "metadata": {
      "needs_background": "light"
     },
     "output_type": "display_data"
    }
   ],
   "source": [
    "# строим график кумулятивной выручки по группам\n",
    "fig=plt.figure(figsize=(10,6))\n",
    "plt.plot(data['date'], data['revenue_cummulative_A'], label='A') # Строим график выручки группы А\n",
    "plt.plot(data['date'], data['revenue_cummulative_B'], label='B') # Строим график выручки группы B\n",
    "plt.legend() \n",
    "plt.title('Кумулятивная выручка по дням')\n",
    "plt.xlabel('Даты')\n",
    "plt.ylabel('Размер выручки')\n",
    "plt.xlim(dt.datetime(2019,8,1),dt.datetime(2019,8,31))\n",
    "plt.show()"
   ]
  },
  {
   "cell_type": "markdown",
   "id": "b73f1998",
   "metadata": {},
   "source": [
    "**Вывод:**\n",
    "\n",
    "Выручка группы В растет стабильно лучше, чем у группы А. При этом с 18 августа наблюдается резкий рост по отношению к группе А."
   ]
  },
  {
   "cell_type": "markdown",
   "id": "a29f8c00",
   "metadata": {},
   "source": [
    "#### Средний чек\n",
    "<a id='test_cumm2'></a>"
   ]
  },
  {
   "cell_type": "code",
   "execution_count": 16,
   "id": "7ecf9281",
   "metadata": {
    "scrolled": false
   },
   "outputs": [
    {
     "data": {
      "image/png": "[encoded data removed]",
      "text/plain": [
       "<Figure size 720x432 with 1 Axes>"
      ]
     },
     "metadata": {
      "needs_background": "light"
     },
     "output_type": "display_data"
    }
   ],
   "source": [
    "# строим график кумулятивного среднего чека по группам\n",
    "fig=plt.figure(figsize=(10,6))\n",
    "plt.plot(data['date'], data['revenue_cummulative_A']/data['orders_cummulative_A'], label='A')\n",
    "plt.plot(data['date'], data['revenue_cummulative_B']/data['orders_cummulative_B'], label='B')\n",
    "plt.legend() \n",
    "plt.title('Кумулятивный средний по дням')\n",
    "plt.xlabel('Даты')\n",
    "plt.ylabel('Размер среднего чека')\n",
    "plt.xlim(dt.datetime(2019,8,1),dt.datetime(2019,8,31))\n",
    "plt.show()"
   ]
  },
  {
   "cell_type": "code",
   "execution_count": 17,
   "id": "e7d4e117",
   "metadata": {
    "scrolled": false
   },
   "outputs": [
    {
     "data": {
      "image/png": "[encoded data removed]",
      "text/plain": [
       "<Figure size 720x432 with 1 Axes>"
      ]
     },
     "metadata": {
      "needs_background": "light"
     },
     "output_type": "display_data"
    }
   ],
   "source": [
    "# строим график относительного изменения кумулятивного среднего чека группы В к группе А\n",
    "fig=plt.figure(figsize=(10,6))\n",
    "plt.plot(\n",
    "    data['date'],\n",
    "    (data['revenue_cummulative_B']/data['orders_cummulative_B'])/(data['revenue_cummulative_A']/data['orders_cummulative_A'])-1\n",
    ")\n",
    "plt.axhline(y=0, color='black', linestyle='--') # добавляем ось X\n",
    "plt.title('Относительное изменение средних чеков группы В к группе А по дням')\n",
    "plt.xlabel('Даты')\n",
    "plt.xlim(dt.datetime(2019,8,1),dt.datetime(2019,8,31))\n",
    "plt.show()"
   ]
  },
  {
   "cell_type": "markdown",
   "id": "f5ca9c8e",
   "metadata": {},
   "source": [
    "**Вывод:**\n",
    "\n",
    "Средний чек группы В также выше, чем у группы А, вплоть до 50%. Несмотря на то, что он падал ниже группы А до 20% с 1 по 2 августа и с 11 по 15 августа.\n"
   ]
  },
  {
   "cell_type": "markdown",
   "id": "fd82bbd1",
   "metadata": {},
   "source": [
    "#### Конверсия\n",
    "<a id='test_cumm3'></a>"
   ]
  },
  {
   "cell_type": "code",
   "execution_count": 18,
   "id": "5a666a92",
   "metadata": {
    "scrolled": false
   },
   "outputs": [
    {
     "data": {
      "image/png": "[encoded data removed]",
      "text/plain": [
       "<Figure size 720x432 with 1 Axes>"
      ]
     },
     "metadata": {
      "needs_background": "light"
     },
     "output_type": "display_data"
    }
   ],
   "source": [
    "# строим график кумулятивной коверсии по группам\n",
    "fig=plt.figure(figsize=(10,6))\n",
    "plt.plot(data['date'], data['orders_cummulative_A']/data['visitors_cummulative_A'], label='A')\n",
    "plt.plot(data['date'], data['orders_cummulative_B']/data['visitors_cummulative_B'], label='B')\n",
    "plt.legend() \n",
    "plt.title('Кумулятивная конверсия по дням')\n",
    "plt.xlabel('Даты')\n",
    "plt.ylabel('Конверсия')\n",
    "plt.xlim(dt.datetime(2019,8,1),dt.datetime(2019,8,31))\n",
    "plt.show()"
   ]
  },
  {
   "cell_type": "code",
   "execution_count": 19,
   "id": "e01fb7bd",
   "metadata": {
    "scrolled": false
   },
   "outputs": [
    {
     "data": {
      "image/png": "[encoded data removed]",
      "text/plain": [
       "<Figure size 720x432 with 1 Axes>"
      ]
     },
     "metadata": {
      "needs_background": "light"
     },
     "output_type": "display_data"
    }
   ],
   "source": [
    "# строим график относительного изменения кумулятивной конверсии группы В к группе А\n",
    "fig=plt.figure(figsize=(10,6))\n",
    "plt.plot(\n",
    "    data['date'], \n",
    "    (data['orders_cummulative_B']/data['visitors_cummulative_B'])/(data['orders_cummulative_A']/data['visitors_cummulative_A'])-1\n",
    "        )\n",
    "plt.axhline(y=0, color='black', linestyle='--')\n",
    "plt.axhline(y=0.14, color='grey', linestyle='--')\n",
    "plt.title('Относительный прирост конверсии группы B относительно группы A')\n",
    "plt.xlabel('Даты')\n",
    "plt.xlim(dt.datetime(2019,8,1),dt.datetime(2019,8,31))\n",
    "plt.show()"
   ]
  },
  {
   "cell_type": "markdown",
   "id": "4ac1dc1f",
   "metadata": {},
   "source": [
    "**Вывод:**\n",
    "\n",
    "В начале месяца (примерно с 1 по 6 августа) конверсия группы В сильно колеблиться по отношению к группе А. Но далее конверсия стабильно выше и к концу периода устанавливается на отметке 14%."
   ]
  },
  {
   "cell_type": "markdown",
   "id": "21656f01",
   "metadata": {},
   "source": [
    "#### Вывод\n",
    "<a id='test_cumm_result'></a>\n",
    "\n",
    "По результатам анализа куммулятивных данных можно сказать, что в целом наблюдается положительная динамика метрик группы В по отношению к группе А. И если в начале августа наблюдабтя колебания этих метрик, то со второй половины месяца их рост стабилен.   \n",
    "К концу августа мы наблюдаем следующие изменения значений метрик для группы А и В:\n",
    "- выручка 4.1 млн -> 6.0 млн\n",
    "\n",
    "- средний 7300 -> 9200\n",
    "\n",
    "- конверсия 0.030 -> 0.034"
   ]
  },
  {
   "cell_type": "markdown",
   "id": "c4ddf4a5",
   "metadata": {},
   "source": [
    "### Анализ выбросов\n",
    "<a id='test_anomalis'></a>\n",
    "\n",
    "С помощью диаграмм оценим выбросы:\n",
    "- количества заказов по пользователям;\n",
    "- стоимостей заказов.\n",
    "\n",
    "Также посчитаем 95-й и 99-й перцентили и выберем границу для определения аномальных заказов."
   ]
  },
  {
   "cell_type": "code",
   "execution_count": 20,
   "id": "6a7a7271",
   "metadata": {},
   "outputs": [
    {
     "data": {
      "image/png": "[encoded data removed]",
      "text/plain": [
       "<Figure size 432x288 with 1 Axes>"
      ]
     },
     "metadata": {
      "needs_background": "light"
     },
     "output_type": "display_data"
    },
    {
     "name": "stdout",
     "output_type": "stream",
     "text": [
      "[2. 4.]\n"
     ]
    }
   ],
   "source": [
    "# таблица числа заказов по пользователям\n",
    "orders_by_users = (\n",
    "    orders.groupby('visitor_id', as_index=False)\n",
    "    .agg({'transaction_id':'nunique'})\n",
    "    .sort_values(by='transaction_id', ascending=False)\n",
    ")\n",
    "orders_by_users.columns=['visitor_id','orders']\n",
    "\n",
    "# строим диаграмму числа заказов по пользователям\n",
    "x_values = pd.Series(range(0,len(orders_by_users['orders'])))\n",
    "plt.scatter(x_values, orders_by_users['orders'])\n",
    "plt.title('Распределение числа заказов по пользователям')\n",
    "plt.xlabel('Пользователи')\n",
    "plt.ylabel('Число заказов')\n",
    "plt.show()\n",
    "\n",
    "# подсчет перцентилий по числу заказов\n",
    "print(np.percentile(orders_by_users['orders'], [95, 99]))"
   ]
  },
  {
   "cell_type": "code",
   "execution_count": 21,
   "id": "5dd9b56f",
   "metadata": {},
   "outputs": [
    {
     "data": {
      "image/png": "[encoded data removed]",
      "text/plain": [
       "<Figure size 432x288 with 1 Axes>"
      ]
     },
     "metadata": {
      "needs_background": "light"
     },
     "output_type": "display_data"
    },
    {
     "name": "stdout",
     "output_type": "stream",
     "text": [
      "[28000.  58233.2]\n"
     ]
    }
   ],
   "source": [
    "# строим диаграмму стоимости покупок\n",
    "x_values = pd.Series(range(0,len(orders['revenue'])))\n",
    "plt.scatter(x_values, orders['revenue']) \n",
    "plt.axhline(y=28000, color='black', linestyle='--')\n",
    "plt.title('Распределение стоимостей покупок')\n",
    "plt.xlabel('Покупки')\n",
    "plt.ylabel('Стоимость покупки')\n",
    "plt.show()\n",
    "\n",
    "# подсчет перцентилий стоимости покупок\n",
    "print(np.percentile(orders['revenue'], [95, 99]))"
   ]
  },
  {
   "cell_type": "markdown",
   "id": "7291b25e",
   "metadata": {},
   "source": [
    "#### Вывод\n",
    "<a id='test_anomalis_result'></a>\n",
    "\n",
    "1. Наибольшее число заказов среди пользователей - один. Две покупки встречаются редко, более - скорее аномалии. Возможно, срок в месяц - слишком мал для повторных покупок. Возможно, нужно работать над удержанием пользователей и повышением их _LTV_.\n",
    "2. Стоимость заказов в основном не превышает 28000. При этом заказов до 58000 тоже достаточно много - они не кажутся аномалиями.\n",
    "3. В качестве верхней границы примем число заказов, равное 2. А границу стоимости заказов примет 58000."
   ]
  },
  {
   "cell_type": "markdown",
   "id": "899300f0",
   "metadata": {},
   "source": [
    "### Статистический анализ\n",
    "<a id='test_stat'></a>\n",
    "\n",
    "Выполним расчет статистической значимости различий в конверсии и среднем чеке между группами.  \n",
    "Расчет выполним по исходным данным, а также по данным без выбросов.\n",
    "\n",
    "Сформулируем нулевую и альтернативную гипотезу для обеих метрик.\n",
    "\n",
    "**Для конверсии:**\n",
    "\n",
    "$\\begin{equation*}\n",
    " \\begin{cases}\n",
    "   H_0 :\\text{Конверсии в группах А и В не отличаются}\\\\\n",
    "   H_1 :\\text{Конверсии в группах А и В разные}\n",
    " \\end{cases}\n",
    "\\end{equation*}$\n",
    "\n",
    "**Для среднего чека:**\n",
    "\n",
    "$\\begin{equation*}\n",
    " \\begin{cases}\n",
    "   H_0 :\\text{Средний чек в группах А и В не отличается}\\\\\n",
    "   H_1 :\\text{Средний чек в группах А и В разный}\n",
    " \\end{cases}\n",
    "\\end{equation*}$"
   ]
  },
  {
   "cell_type": "markdown",
   "id": "33e2ce80",
   "metadata": {},
   "source": [
    "#### Отличия конверсий по \"сырым\" данным\n",
    "<a id='test_stat1'></a>\n",
    "\n",
    "Посчитаем статистическую значимость различия в конверсии между группами.\n",
    "В качестве критического уровня статистической значимости примем $\\alpha = 0.05$.  \n",
    "Т.к. \"сырые\" данные содержат выбросы, применим тест Манна_Уитни.  \n",
    "\n",
    "Для это подготовим две выборки:\n",
    "- `sample_A` (для группы А);\n",
    "- `sample_B` (для группы B)."
   ]
  },
  {
   "cell_type": "code",
   "execution_count": 22,
   "id": "8b0ca0a3",
   "metadata": {},
   "outputs": [
    {
     "name": "stdout",
     "output_type": "stream",
     "text": [
      "p-value = 0.017\n",
      "Относительный прирост группы В по отношению к группе А составляет 13.8%\n"
     ]
    }
   ],
   "source": [
    "# таблица числа заказов по пользователям для группы А\n",
    "orders_by_users_A = (\n",
    "    orders.query('group == \"A\"')\n",
    "    .groupby('visitor_id', as_index=False)\n",
    "    .agg({'transaction_id':'nunique'})\n",
    ")\n",
    "orders_by_users_A.columns=['visitor_id','orders']\n",
    "\n",
    "# выборка количества заказов для группы А\n",
    "sample_A = pd.concat(\n",
    "    [\n",
    "        orders_by_users_A['orders'],\n",
    "        pd.Series(\n",
    "            0, \n",
    "            index=np.arange(data['visitors_A'].sum() - len(orders_by_users_A['orders'])), \n",
    "            name='orders'\n",
    "        )\n",
    "    ]\n",
    "    ,axis=0\n",
    ")\n",
    "\n",
    "# таблица числа заказов по пользователям для группы B\n",
    "orders_by_users_B = (\n",
    "    orders.query('group == \"B\"')\n",
    "    .groupby('visitor_id', as_index=False)\n",
    "    .agg({'transaction_id':'nunique'})\n",
    ")\n",
    "orders_by_users_B.columns=['visitor_id','orders']\n",
    "\n",
    "# выборка количества заказов для группы B\n",
    "sample_B = pd.concat(\n",
    "    [\n",
    "        orders_by_users_B['orders'],\n",
    "        pd.Series(\n",
    "            0, \n",
    "            index=np.arange(data['visitors_B'].sum() - len(orders_by_users_B['orders'])), \n",
    "            name='orders'\n",
    "        )\n",
    "    ]\n",
    "    ,axis=0\n",
    ")\n",
    "\n",
    "print(\"p-value = {0:.3f}\".format(st.mannwhitneyu(sample_A, sample_B)[1]))\n",
    "\n",
    "print(\n",
    "    \"Относительный прирост группы В по отношению к группе А составляет {0:.1%}\"\n",
    "    .format(sample_B.mean() / sample_A.mean() - 1)\n",
    ")"
   ]
  },
  {
   "cell_type": "markdown",
   "id": "e3487262",
   "metadata": {},
   "source": [
    "**Вывод:**\n",
    "\n",
    "На имеющихся данных, на уровне значимости 5% есть основания отвергнуть нулевую гипотезу. Различия в конверсии между выборками А и В есть. Конверсия группы В выше конверсии группы А на 13.8%\n"
   ]
  },
  {
   "cell_type": "markdown",
   "id": "0c1f104f",
   "metadata": {},
   "source": [
    "#### Отличия средних чеков по \"сырым\" данным\n",
    "<a id='test_stat2'></a>\n",
    "\n",
    "Посчитаем статистическую значимость различия в среднем чеке между группами.\n",
    "В качестве критического уровня статистической значимости примем $\\alpha = 0.05$.  \n",
    "Т.к. \"сырые\" данные содержат выбросы, применим тест Манна_Уитни.  "
   ]
  },
  {
   "cell_type": "code",
   "execution_count": 23,
   "id": "96a5a0b9",
   "metadata": {},
   "outputs": [
    {
     "name": "stdout",
     "output_type": "stream",
     "text": [
      "p-value = 0.729\n",
      "Относительный прирост группы В по отношению к группе А составляет -20.6%\n"
     ]
    }
   ],
   "source": [
    "print(\n",
    "    'p-value = {0:.3f}'\n",
    "    .format(\n",
    "        st.mannwhitneyu(\n",
    "            orders.query('group == \"A\"')['revenue'], \n",
    "            orders.query('group == \"B\"')['revenue']\n",
    "        )\n",
    "        [1])\n",
    ")\n",
    "print(\n",
    "    'Относительный прирост группы В по отношению к группе А составляет {0:.1%}'\n",
    "    .format(\n",
    "        orders.query('group == \"A\"')['revenue'].mean()/orders.query('group == \"B\"')['revenue'].mean()-1\n",
    "    )\n",
    ") "
   ]
  },
  {
   "cell_type": "markdown",
   "id": "a585de9a",
   "metadata": {},
   "source": [
    "**Вывод:**\n",
    "\n",
    "На имеющихся данных, на уровне значимости 5% нет оснований отвергнуть нулевую гипотезу. Различий в среднем чеке между выборками А и В нет. При этом средний чек группы В ниже среднего чека группы А на 20.6%\n"
   ]
  },
  {
   "cell_type": "markdown",
   "id": "57a46214",
   "metadata": {},
   "source": [
    "#### Отличия конверсий по \"чистым\" данным\n",
    "<a id='test_stat3'></a>\n",
    "\n",
    "Посчитаем статистическую значимость различия в конверсии между группами.\n",
    "В качестве критического уровня статистической значимости примем $\\alpha = 0.05$.  \n",
    "Для \"чистых\" данных, в рамках эксперимента, также применим тест Манна_Уитни.  \n",
    "\n",
    "Для это подготовим две выборки:\n",
    "- `sample_A_filtered` (для группы А);\n",
    "- `sample_B_filtered` (для группы B)."
   ]
  },
  {
   "cell_type": "code",
   "execution_count": 24,
   "id": "fc32359f",
   "metadata": {},
   "outputs": [
    {
     "data": {
      "text/plain": [
       "(31,)"
      ]
     },
     "execution_count": 24,
     "metadata": {},
     "output_type": "execute_result"
    }
   ],
   "source": [
    "# Узнаем, сколько всего аномальных пользователей \n",
    "users_too_many_orders = pd.concat(\n",
    "    [\n",
    "        orders_by_users_A.query('orders > 2')['visitor_id'],\n",
    "        orders_by_users_B.query('orders > 2')['visitor_id'],\n",
    "    ],\n",
    "    axis=0,\n",
    ")\n",
    "users_too_expensive_orders = orders[orders['revenue'] > 58000]['visitor_id']\n",
    "abnormal_users = (\n",
    "    pd.concat([users_too_many_orders, users_too_expensive_orders], axis=0)\n",
    "    .drop_duplicates()\n",
    "    .sort_values()\n",
    ")\n",
    "\n",
    "abnormal_users.shape "
   ]
  },
  {
   "cell_type": "code",
   "execution_count": 25,
   "id": "06b42640",
   "metadata": {},
   "outputs": [
    {
     "name": "stdout",
     "output_type": "stream",
     "text": [
      "p-value = 0.010\n",
      "Относительный прирост группы В по отношению к группе А составляет 17.4%\n"
     ]
    }
   ],
   "source": [
    "# выборка количества заказов для группы А\n",
    "sample_A_filtered = pd.concat(\n",
    "    [\n",
    "        orders_by_users_A[\n",
    "            np.logical_not(orders_by_users_A['visitor_id'].isin(abnormal_users))\n",
    "        ]['orders'],\n",
    "        pd.Series(\n",
    "            0,\n",
    "            index=np.arange(\n",
    "                data['visitors_A'].sum() - len(orders_by_users_A['orders'])\n",
    "            ),\n",
    "            name='orders',\n",
    "        ),\n",
    "    ],\n",
    "    axis=0,\n",
    ")\n",
    "\n",
    "# выборка количества заказов для группы B\n",
    "sample_B_filtered = pd.concat(\n",
    "    [\n",
    "        orders_by_users_B[\n",
    "            np.logical_not(orders_by_users_B['visitor_id'].isin(abnormal_users))\n",
    "        ]['orders'],\n",
    "        pd.Series(\n",
    "            0,\n",
    "            index=np.arange(\n",
    "                data['visitors_B'].sum() - len(orders_by_users_B['orders'])\n",
    "            ),\n",
    "            name='orders',\n",
    "        ),\n",
    "    ],\n",
    "    axis=0,\n",
    ") \n",
    "\n",
    "print(\"p-value = {0:.3f}\".format(st.mannwhitneyu(sample_A_filtered, sample_B_filtered)[1]))\n",
    "\n",
    "print(\n",
    "    \"Относительный прирост группы В по отношению к группе А составляет {0:.1%}\"\n",
    "    .format(sample_B_filtered.mean() / sample_A_filtered.mean() - 1)\n",
    ")"
   ]
  },
  {
   "cell_type": "markdown",
   "id": "045b523e",
   "metadata": {},
   "source": [
    "**Вывод:**\n",
    "\n",
    "На имеющихся данных, на уровне значимости 5% есть основания отвергнуть нулевую гипотезу. Различия в конверсии между выборками А и В есть. Конверсия группы В выше конверсии группы А на 17.4%"
   ]
  },
  {
   "cell_type": "markdown",
   "id": "640a086a",
   "metadata": {},
   "source": [
    "#### Отличия средних чеков по \"чистым\" данным\n",
    "<a id='test_stat4'></a>\n",
    "\n",
    "Посчитаем статистическую значимость различия в среднем чеке между группами.\n",
    "В качестве критического уровня статистической значимости примем $\\alpha = 0.05$.  \n",
    "Для \"чистых\" данных, в рамках эксперимента, также применим тест Манна_Уитни. "
   ]
  },
  {
   "cell_type": "code",
   "execution_count": 26,
   "id": "4c43877e",
   "metadata": {},
   "outputs": [
    {
     "name": "stdout",
     "output_type": "stream",
     "text": [
      "p-value = 0.798\n",
      "Относительный прирост группы В по отношению к группе А составляет 2.0%\n"
     ]
    }
   ],
   "source": [
    "print(\n",
    "    'p-value = {0:.3f}'\n",
    "    .format(\n",
    "        st.mannwhitneyu(\n",
    "            orders[\n",
    "                np.logical_and(\n",
    "                    orders['group'] == 'A',\n",
    "                    np.logical_not(orders['visitor_id'].isin(abnormal_users)))\n",
    "                    ]['revenue'], \n",
    "            orders[\n",
    "                np.logical_and(\n",
    "                    orders['group'] == 'B',\n",
    "                    np.logical_not(orders['visitor_id'].isin(abnormal_users)))\n",
    "                    ]['revenue']\n",
    "        )\n",
    "        [1])\n",
    ")\n",
    "                \n",
    "print(\n",
    "    'Относительный прирост группы В по отношению к группе А составляет {0:.1%}'\n",
    "    .format(\n",
    "        orders[\n",
    "                np.logical_and(\n",
    "                    orders['group'] == 'A',\n",
    "                    np.logical_not(orders['visitor_id'].isin(abnormal_users)))\n",
    "                    ]['revenue'].mean()\n",
    "                    /orders[\n",
    "                np.logical_and(\n",
    "                    orders['group'] == 'B',\n",
    "                    np.logical_not(orders['visitor_id'].isin(abnormal_users)))\n",
    "                    ]['revenue'].mean()-1\n",
    "    )\n",
    ") "
   ]
  },
  {
   "cell_type": "markdown",
   "id": "c0be7c13",
   "metadata": {},
   "source": [
    "**Вывод:**\n",
    "\n",
    "На имеющихся данных, на уровне значимости 5% нет оснований отвергнуть нулевую гипотезу. Различий в среднем чеке между выборками А и В нет. При этом средний чек группы В выше среднего чека группы А на 2%\n"
   ]
  },
  {
   "cell_type": "markdown",
   "id": "13826ab5",
   "metadata": {},
   "source": [
    "#### Вывод\n",
    "<a id='test_stat_result'></a>\n",
    "\n",
    "Статистический анализ был проведен для исходных (\"сырых\") данных и данных, очищенных от выбросов.  \n",
    "По результатам анализа в обоих случаях вывод был одинаковым:\n",
    "\n",
    "1. **Различия в конверсии** между выборками А и В **есть**, на уровне значимости 5%.\n",
    "2. **Различий в среднем чеке** между выборками А и В **нет**, на уровне значимости 5%.\n",
    "\n",
    "При этом разница в самих значениях метрик между группами А и В отличалась существенно:\n",
    "\n",
    "- прирост конверсии по \"сырым\" данным составил 13.8%, по \"чистым\" - 17.4%;\n",
    "- средний чек выше по \"сырым\" данным на 20.6%, по \"чистым\" - всего на 2%.\n",
    "\n",
    "Необходимость анализа выбросов может не повлиять на оценку самой гипотезы. Однако, дает большее представление об истинном характере данных и позволяет строить более жизнеспособные предположения."
   ]
  },
  {
   "cell_type": "markdown",
   "id": "b894570d",
   "metadata": {},
   "source": [
    "## Общий вывод\n",
    "<a id='result'></a>\n",
    "\n",
    "В настоящем проекте были рассмотрены данные, собранные за месяц в ходе проведения A/B теста _\"Добавить форму подписки на все основные страницы, чтобы собрать базу клиентов для email-рассылок\"_.\n",
    "\n",
    "Результаты анализа данных показали, что:\n",
    "- средний чек в группе В остался таким же как в группе А;\n",
    "- конверсия в группе В выросла по отношению к группе А не менее, чем на 14% с 0.030 до 0.034;\n",
    "- соответственно, выросла и общая выручка с 4.1 млн в группе А до 6.0 млн в группе В.\n",
    "\n",
    "Кроме того, колебания данных, наблюдаемые в начале месяца сменились на стабильный рост метрик группы В по отношению к группе А.\n",
    "\n",
    "**Решение:** Остановить тест. Успех группы В по отношению к группе А."
   ]
  }
 ],
 "metadata": {
  "ExecuteTimeLog": [
   {
    "duration": 1295,
    "start_time": "2022-03-28T12:14:23.925Z"
   },
   {
    "duration": 23,
    "start_time": "2022-03-28T12:14:25.222Z"
   },
   {
    "duration": 4,
    "start_time": "2022-03-28T12:14:25.246Z"
   },
   {
    "duration": 17,
    "start_time": "2022-03-28T12:14:25.252Z"
   },
   {
    "duration": 10,
    "start_time": "2022-03-28T12:14:25.271Z"
   },
   {
    "duration": 29,
    "start_time": "2022-03-28T12:14:25.283Z"
   },
   {
    "duration": 3,
    "start_time": "2022-03-28T12:14:25.313Z"
   },
   {
    "duration": 31,
    "start_time": "2022-03-28T12:14:25.318Z"
   },
   {
    "duration": 139,
    "start_time": "2022-03-28T12:14:25.362Z"
   },
   {
    "duration": 0,
    "start_time": "2022-03-28T12:14:25.502Z"
   },
   {
    "duration": 0,
    "start_time": "2022-03-28T12:14:25.504Z"
   },
   {
    "duration": 0,
    "start_time": "2022-03-28T12:14:25.505Z"
   },
   {
    "duration": 0,
    "start_time": "2022-03-28T12:14:25.506Z"
   },
   {
    "duration": 0,
    "start_time": "2022-03-28T12:14:25.507Z"
   },
   {
    "duration": 0,
    "start_time": "2022-03-28T12:14:25.508Z"
   },
   {
    "duration": 0,
    "start_time": "2022-03-28T12:14:25.509Z"
   },
   {
    "duration": 0,
    "start_time": "2022-03-28T12:14:25.510Z"
   },
   {
    "duration": 0,
    "start_time": "2022-03-28T12:14:25.511Z"
   },
   {
    "duration": 0,
    "start_time": "2022-03-28T12:14:25.512Z"
   },
   {
    "duration": 0,
    "start_time": "2022-03-28T12:14:25.512Z"
   },
   {
    "duration": 0,
    "start_time": "2022-03-28T12:14:25.513Z"
   },
   {
    "duration": 0,
    "start_time": "2022-03-28T12:14:25.514Z"
   },
   {
    "duration": 0,
    "start_time": "2022-03-28T12:14:25.515Z"
   },
   {
    "duration": 0,
    "start_time": "2022-03-28T12:14:25.516Z"
   },
   {
    "duration": 0,
    "start_time": "2022-03-28T12:14:25.517Z"
   },
   {
    "duration": 1428,
    "start_time": "2022-03-29T05:44:07.563Z"
   },
   {
    "duration": 41,
    "start_time": "2022-03-29T05:44:08.994Z"
   },
   {
    "duration": 6,
    "start_time": "2022-03-29T05:44:09.037Z"
   },
   {
    "duration": 18,
    "start_time": "2022-03-29T05:44:09.046Z"
   },
   {
    "duration": 15,
    "start_time": "2022-03-29T05:44:09.066Z"
   },
   {
    "duration": 60,
    "start_time": "2022-03-29T05:44:09.084Z"
   },
   {
    "duration": 3,
    "start_time": "2022-03-29T05:44:09.147Z"
   },
   {
    "duration": 45,
    "start_time": "2022-03-29T05:44:09.153Z"
   },
   {
    "duration": 193,
    "start_time": "2022-03-29T05:44:09.200Z"
   },
   {
    "duration": 0,
    "start_time": "2022-03-29T05:44:09.396Z"
   },
   {
    "duration": 0,
    "start_time": "2022-03-29T05:44:09.397Z"
   },
   {
    "duration": 0,
    "start_time": "2022-03-29T05:44:09.399Z"
   },
   {
    "duration": 0,
    "start_time": "2022-03-29T05:44:09.401Z"
   },
   {
    "duration": 0,
    "start_time": "2022-03-29T05:44:09.402Z"
   },
   {
    "duration": 0,
    "start_time": "2022-03-29T05:44:09.404Z"
   },
   {
    "duration": 0,
    "start_time": "2022-03-29T05:44:09.406Z"
   },
   {
    "duration": 0,
    "start_time": "2022-03-29T05:44:09.409Z"
   },
   {
    "duration": 1,
    "start_time": "2022-03-29T05:44:09.410Z"
   },
   {
    "duration": 0,
    "start_time": "2022-03-29T05:44:09.413Z"
   },
   {
    "duration": 0,
    "start_time": "2022-03-29T05:44:09.415Z"
   },
   {
    "duration": 0,
    "start_time": "2022-03-29T05:44:09.417Z"
   },
   {
    "duration": 0,
    "start_time": "2022-03-29T05:44:09.419Z"
   },
   {
    "duration": 0,
    "start_time": "2022-03-29T05:44:09.421Z"
   },
   {
    "duration": 0,
    "start_time": "2022-03-29T05:44:09.424Z"
   },
   {
    "duration": 0,
    "start_time": "2022-03-29T05:44:09.426Z"
   },
   {
    "duration": 1416,
    "start_time": "2022-03-29T05:49:33.833Z"
   },
   {
    "duration": 44,
    "start_time": "2022-03-29T05:49:35.251Z"
   },
   {
    "duration": 5,
    "start_time": "2022-03-29T05:49:35.297Z"
   },
   {
    "duration": 16,
    "start_time": "2022-03-29T05:49:35.306Z"
   },
   {
    "duration": 24,
    "start_time": "2022-03-29T05:49:35.324Z"
   },
   {
    "duration": 61,
    "start_time": "2022-03-29T05:49:35.350Z"
   },
   {
    "duration": 4,
    "start_time": "2022-03-29T05:49:35.413Z"
   },
   {
    "duration": 45,
    "start_time": "2022-03-29T05:49:35.419Z"
   },
   {
    "duration": 46,
    "start_time": "2022-03-29T05:49:35.466Z"
   },
   {
    "duration": 12,
    "start_time": "2022-03-29T05:49:35.545Z"
   },
   {
    "duration": 195,
    "start_time": "2022-03-29T05:49:35.559Z"
   },
   {
    "duration": 197,
    "start_time": "2022-03-29T05:49:35.757Z"
   },
   {
    "duration": 59,
    "start_time": "2022-03-29T05:49:35.956Z"
   },
   {
    "duration": 447,
    "start_time": "2022-03-29T05:49:36.017Z"
   },
   {
    "duration": 307,
    "start_time": "2022-03-29T05:49:36.467Z"
   },
   {
    "duration": 372,
    "start_time": "2022-03-29T05:49:36.777Z"
   },
   {
    "duration": 326,
    "start_time": "2022-03-29T05:49:37.152Z"
   },
   {
    "duration": 383,
    "start_time": "2022-03-29T05:49:37.481Z"
   },
   {
    "duration": 180,
    "start_time": "2022-03-29T05:49:37.866Z"
   },
   {
    "duration": 306,
    "start_time": "2022-03-29T05:49:38.049Z"
   },
   {
    "duration": 52,
    "start_time": "2022-03-29T05:49:38.358Z"
   },
   {
    "duration": 45,
    "start_time": "2022-03-29T05:49:38.413Z"
   },
   {
    "duration": 25,
    "start_time": "2022-03-29T05:49:38.460Z"
   },
   {
    "duration": 22,
    "start_time": "2022-03-29T05:49:38.487Z"
   },
   {
    "duration": 39,
    "start_time": "2022-03-29T05:49:38.511Z"
   },
   {
    "duration": 1305,
    "start_time": "2022-03-29T11:09:14.974Z"
   },
   {
    "duration": 12,
    "start_time": "2022-03-29T11:09:21.896Z"
   },
   {
    "duration": 20,
    "start_time": "2022-03-29T11:09:21.910Z"
   },
   {
    "duration": 3,
    "start_time": "2022-03-29T11:09:21.932Z"
   },
   {
    "duration": 14,
    "start_time": "2022-03-29T11:09:21.937Z"
   },
   {
    "duration": 11,
    "start_time": "2022-03-29T11:09:21.953Z"
   },
   {
    "duration": 25,
    "start_time": "2022-03-29T11:09:21.966Z"
   },
   {
    "duration": 3,
    "start_time": "2022-03-29T11:09:21.993Z"
   },
   {
    "duration": 26,
    "start_time": "2022-03-29T11:09:22.008Z"
   },
   {
    "duration": 30,
    "start_time": "2022-03-29T11:09:22.036Z"
   },
   {
    "duration": 42,
    "start_time": "2022-03-29T11:09:22.067Z"
   },
   {
    "duration": 105,
    "start_time": "2022-03-29T11:09:22.110Z"
   },
   {
    "duration": 115,
    "start_time": "2022-03-29T11:09:22.216Z"
   },
   {
    "duration": 40,
    "start_time": "2022-03-29T11:09:22.332Z"
   },
   {
    "duration": 288,
    "start_time": "2022-03-29T11:09:22.376Z"
   },
   {
    "duration": 194,
    "start_time": "2022-03-29T11:09:22.666Z"
   },
   {
    "duration": 327,
    "start_time": "2022-03-29T11:09:22.862Z"
   },
   {
    "duration": 198,
    "start_time": "2022-03-29T11:09:23.191Z"
   },
   {
    "duration": 327,
    "start_time": "2022-03-29T11:09:23.391Z"
   },
   {
    "duration": 114,
    "start_time": "2022-03-29T11:09:23.720Z"
   },
   {
    "duration": 248,
    "start_time": "2022-03-29T11:09:23.835Z"
   },
   {
    "duration": 53,
    "start_time": "2022-03-29T11:09:24.085Z"
   },
   {
    "duration": 15,
    "start_time": "2022-03-29T11:09:24.140Z"
   },
   {
    "duration": 13,
    "start_time": "2022-03-29T11:09:24.156Z"
   },
   {
    "duration": 39,
    "start_time": "2022-03-29T11:09:24.171Z"
   },
   {
    "duration": 13,
    "start_time": "2022-03-29T11:09:24.212Z"
   },
   {
    "duration": 1281,
    "start_time": "2022-03-29T11:34:59.043Z"
   },
   {
    "duration": 1168,
    "start_time": "2022-03-29T11:35:16.497Z"
   },
   {
    "duration": 7995,
    "start_time": "2022-03-29T11:36:06.897Z"
   },
   {
    "duration": 1198,
    "start_time": "2022-03-29T11:36:42.953Z"
   },
   {
    "duration": 16,
    "start_time": "2022-03-29T11:36:59.411Z"
   },
   {
    "duration": 17,
    "start_time": "2022-03-29T11:36:59.429Z"
   },
   {
    "duration": 12,
    "start_time": "2022-03-29T11:36:59.447Z"
   },
   {
    "duration": 11,
    "start_time": "2022-03-29T11:36:59.461Z"
   },
   {
    "duration": 42,
    "start_time": "2022-03-29T11:36:59.474Z"
   },
   {
    "duration": 3,
    "start_time": "2022-03-29T11:36:59.518Z"
   },
   {
    "duration": 28,
    "start_time": "2022-03-29T11:36:59.522Z"
   },
   {
    "duration": 30,
    "start_time": "2022-03-29T11:36:59.551Z"
   },
   {
    "duration": 7,
    "start_time": "2022-03-29T11:36:59.609Z"
   },
   {
    "duration": 1186,
    "start_time": "2022-03-29T11:36:59.619Z"
   },
   {
    "duration": 0,
    "start_time": "2022-03-29T11:37:00.806Z"
   },
   {
    "duration": 0,
    "start_time": "2022-03-29T11:37:00.808Z"
   },
   {
    "duration": 0,
    "start_time": "2022-03-29T11:37:00.809Z"
   },
   {
    "duration": 0,
    "start_time": "2022-03-29T11:37:00.810Z"
   },
   {
    "duration": 0,
    "start_time": "2022-03-29T11:37:00.811Z"
   },
   {
    "duration": 0,
    "start_time": "2022-03-29T11:37:00.812Z"
   },
   {
    "duration": 0,
    "start_time": "2022-03-29T11:37:00.813Z"
   },
   {
    "duration": 0,
    "start_time": "2022-03-29T11:37:00.814Z"
   },
   {
    "duration": 0,
    "start_time": "2022-03-29T11:37:00.816Z"
   },
   {
    "duration": 0,
    "start_time": "2022-03-29T11:37:00.817Z"
   },
   {
    "duration": 0,
    "start_time": "2022-03-29T11:37:00.818Z"
   },
   {
    "duration": 0,
    "start_time": "2022-03-29T11:37:00.819Z"
   },
   {
    "duration": 0,
    "start_time": "2022-03-29T11:37:00.820Z"
   },
   {
    "duration": 0,
    "start_time": "2022-03-29T11:37:00.822Z"
   },
   {
    "duration": 0,
    "start_time": "2022-03-29T11:37:00.823Z"
   },
   {
    "duration": 7,
    "start_time": "2022-03-29T11:38:33.929Z"
   },
   {
    "duration": 3,
    "start_time": "2022-03-29T11:39:17.372Z"
   },
   {
    "duration": 7,
    "start_time": "2022-03-29T11:39:25.477Z"
   },
   {
    "duration": 14,
    "start_time": "2022-03-29T11:43:58.584Z"
   },
   {
    "duration": 10,
    "start_time": "2022-03-29T11:47:15.698Z"
   },
   {
    "duration": 14,
    "start_time": "2022-03-29T11:47:26.357Z"
   },
   {
    "duration": 14,
    "start_time": "2022-03-29T11:47:49.367Z"
   },
   {
    "duration": 9,
    "start_time": "2022-03-29T11:48:23.843Z"
   },
   {
    "duration": 10,
    "start_time": "2022-03-29T11:48:41.074Z"
   },
   {
    "duration": 53,
    "start_time": "2022-03-29T12:00:10.227Z"
   },
   {
    "duration": 1412,
    "start_time": "2022-03-29T12:00:19.901Z"
   },
   {
    "duration": 21,
    "start_time": "2022-03-29T12:00:21.316Z"
   },
   {
    "duration": 13,
    "start_time": "2022-03-29T12:00:21.339Z"
   },
   {
    "duration": 12,
    "start_time": "2022-03-29T12:00:21.354Z"
   },
   {
    "duration": 37,
    "start_time": "2022-03-29T12:00:21.368Z"
   },
   {
    "duration": 9,
    "start_time": "2022-03-29T12:00:21.407Z"
   },
   {
    "duration": 44,
    "start_time": "2022-03-29T12:00:21.419Z"
   },
   {
    "duration": 60,
    "start_time": "2022-03-29T12:00:21.465Z"
   },
   {
    "duration": 9,
    "start_time": "2022-03-29T12:00:21.527Z"
   },
   {
    "duration": 11,
    "start_time": "2022-03-29T12:00:21.539Z"
   },
   {
    "duration": 105,
    "start_time": "2022-03-29T12:00:21.552Z"
   },
   {
    "duration": 16,
    "start_time": "2022-03-29T12:00:47.497Z"
   },
   {
    "duration": 10,
    "start_time": "2022-03-29T12:01:01.779Z"
   },
   {
    "duration": 10,
    "start_time": "2022-03-29T12:01:55.240Z"
   },
   {
    "duration": 16,
    "start_time": "2022-03-29T12:02:34.595Z"
   },
   {
    "duration": 17,
    "start_time": "2022-03-29T12:03:54.128Z"
   },
   {
    "duration": 13,
    "start_time": "2022-03-29T12:05:17.876Z"
   },
   {
    "duration": 11,
    "start_time": "2022-03-29T12:05:37.494Z"
   },
   {
    "duration": 10,
    "start_time": "2022-03-29T12:05:47.415Z"
   },
   {
    "duration": 14,
    "start_time": "2022-03-29T12:10:28.744Z"
   },
   {
    "duration": 24,
    "start_time": "2022-03-29T12:10:28.761Z"
   },
   {
    "duration": 12,
    "start_time": "2022-03-29T12:10:28.786Z"
   },
   {
    "duration": 13,
    "start_time": "2022-03-29T12:10:28.801Z"
   },
   {
    "duration": 34,
    "start_time": "2022-03-29T12:10:28.816Z"
   },
   {
    "duration": 3,
    "start_time": "2022-03-29T12:10:28.852Z"
   },
   {
    "duration": 32,
    "start_time": "2022-03-29T12:10:28.857Z"
   },
   {
    "duration": 44,
    "start_time": "2022-03-29T12:10:28.890Z"
   },
   {
    "duration": 7,
    "start_time": "2022-03-29T12:10:28.936Z"
   },
   {
    "duration": 11,
    "start_time": "2022-03-29T12:10:28.945Z"
   },
   {
    "duration": 47,
    "start_time": "2022-03-29T12:10:28.958Z"
   },
   {
    "duration": 123,
    "start_time": "2022-03-29T12:10:29.007Z"
   },
   {
    "duration": 135,
    "start_time": "2022-03-29T12:10:29.132Z"
   },
   {
    "duration": 57,
    "start_time": "2022-03-29T12:10:29.269Z"
   },
   {
    "duration": 304,
    "start_time": "2022-03-29T12:10:29.328Z"
   },
   {
    "duration": 208,
    "start_time": "2022-03-29T12:10:29.634Z"
   },
   {
    "duration": 370,
    "start_time": "2022-03-29T12:10:29.844Z"
   },
   {
    "duration": 234,
    "start_time": "2022-03-29T12:10:30.216Z"
   },
   {
    "duration": 300,
    "start_time": "2022-03-29T12:10:30.452Z"
   },
   {
    "duration": 124,
    "start_time": "2022-03-29T12:10:30.754Z"
   },
   {
    "duration": 265,
    "start_time": "2022-03-29T12:10:30.880Z"
   },
   {
    "duration": 59,
    "start_time": "2022-03-29T12:10:31.147Z"
   },
   {
    "duration": 20,
    "start_time": "2022-03-29T12:10:31.208Z"
   },
   {
    "duration": 21,
    "start_time": "2022-03-29T12:10:31.232Z"
   },
   {
    "duration": 14,
    "start_time": "2022-03-29T12:10:31.254Z"
   },
   {
    "duration": 35,
    "start_time": "2022-03-29T12:10:31.270Z"
   },
   {
    "duration": 130,
    "start_time": "2022-03-29T12:11:34.738Z"
   },
   {
    "duration": 134,
    "start_time": "2022-03-29T12:12:14.754Z"
   },
   {
    "duration": 210,
    "start_time": "2022-03-29T12:14:00.687Z"
   },
   {
    "duration": 260,
    "start_time": "2022-03-29T12:14:12.656Z"
   },
   {
    "duration": 292,
    "start_time": "2022-03-29T12:14:54.991Z"
   },
   {
    "duration": 38,
    "start_time": "2022-03-29T12:18:28.786Z"
   },
   {
    "duration": 15,
    "start_time": "2022-03-29T12:19:09.137Z"
   },
   {
    "duration": 15,
    "start_time": "2022-03-29T12:19:31.515Z"
   },
   {
    "duration": 16,
    "start_time": "2022-03-29T12:19:48.129Z"
   },
   {
    "duration": 1160,
    "start_time": "2022-03-29T12:30:52.997Z"
   },
   {
    "duration": 23,
    "start_time": "2022-03-29T12:30:54.160Z"
   },
   {
    "duration": 22,
    "start_time": "2022-03-29T12:30:54.185Z"
   },
   {
    "duration": 12,
    "start_time": "2022-03-29T12:30:54.210Z"
   },
   {
    "duration": 33,
    "start_time": "2022-03-29T12:30:54.224Z"
   },
   {
    "duration": 3,
    "start_time": "2022-03-29T12:30:54.259Z"
   },
   {
    "duration": 42,
    "start_time": "2022-03-29T12:30:54.264Z"
   },
   {
    "duration": 36,
    "start_time": "2022-03-29T12:30:54.308Z"
   },
   {
    "duration": 7,
    "start_time": "2022-03-29T12:30:54.346Z"
   },
   {
    "duration": 11,
    "start_time": "2022-03-29T12:30:54.355Z"
   },
   {
    "duration": 11,
    "start_time": "2022-03-29T12:30:54.400Z"
   },
   {
    "duration": 123,
    "start_time": "2022-03-29T12:30:54.413Z"
   },
   {
    "duration": 124,
    "start_time": "2022-03-29T12:30:54.538Z"
   },
   {
    "duration": 52,
    "start_time": "2022-03-29T12:30:54.664Z"
   },
   {
    "duration": 288,
    "start_time": "2022-03-29T12:30:54.718Z"
   },
   {
    "duration": 207,
    "start_time": "2022-03-29T12:30:55.008Z"
   },
   {
    "duration": 305,
    "start_time": "2022-03-29T12:30:55.217Z"
   },
   {
    "duration": 219,
    "start_time": "2022-03-29T12:30:55.524Z"
   },
   {
    "duration": 285,
    "start_time": "2022-03-29T12:30:55.745Z"
   },
   {
    "duration": 140,
    "start_time": "2022-03-29T12:30:56.032Z"
   },
   {
    "duration": 305,
    "start_time": "2022-03-29T12:30:56.174Z"
   },
   {
    "duration": 52,
    "start_time": "2022-03-29T12:30:56.481Z"
   },
   {
    "duration": 17,
    "start_time": "2022-03-29T12:30:56.535Z"
   },
   {
    "duration": 13,
    "start_time": "2022-03-29T12:30:56.554Z"
   },
   {
    "duration": 59,
    "start_time": "2022-03-29T12:30:56.569Z"
   },
   {
    "duration": 16,
    "start_time": "2022-03-29T12:30:56.630Z"
   },
   {
    "duration": 2874,
    "start_time": "2022-03-30T03:51:27.124Z"
   },
   {
    "duration": 55,
    "start_time": "2022-03-30T03:51:30.003Z"
   },
   {
    "duration": 29,
    "start_time": "2022-03-30T03:51:30.060Z"
   },
   {
    "duration": 24,
    "start_time": "2022-03-30T03:51:30.093Z"
   },
   {
    "duration": 65,
    "start_time": "2022-03-30T03:51:30.119Z"
   },
   {
    "duration": 38,
    "start_time": "2022-03-30T03:51:30.186Z"
   },
   {
    "duration": 94,
    "start_time": "2022-03-30T03:51:30.226Z"
   },
   {
    "duration": 104,
    "start_time": "2022-03-30T03:51:30.323Z"
   },
   {
    "duration": 14,
    "start_time": "2022-03-30T03:51:30.431Z"
   },
   {
    "duration": 23,
    "start_time": "2022-03-30T03:51:30.480Z"
   },
   {
    "duration": 20,
    "start_time": "2022-03-30T03:51:30.507Z"
   },
   {
    "duration": 364,
    "start_time": "2022-03-30T03:51:30.531Z"
   },
   {
    "duration": 332,
    "start_time": "2022-03-30T03:51:30.899Z"
   },
   {
    "duration": 126,
    "start_time": "2022-03-30T03:51:31.234Z"
   },
   {
    "duration": 842,
    "start_time": "2022-03-30T03:51:31.364Z"
   },
   {
    "duration": 325,
    "start_time": "2022-03-30T03:51:32.209Z"
   },
   {
    "duration": 503,
    "start_time": "2022-03-30T03:51:32.536Z"
   },
   {
    "duration": 350,
    "start_time": "2022-03-30T03:51:33.042Z"
   },
   {
    "duration": 597,
    "start_time": "2022-03-30T03:51:33.394Z"
   },
   {
    "duration": 216,
    "start_time": "2022-03-30T03:51:33.995Z"
   },
   {
    "duration": 345,
    "start_time": "2022-03-30T03:51:34.214Z"
   },
   {
    "duration": 64,
    "start_time": "2022-03-30T03:51:34.561Z"
   },
   {
    "duration": 20,
    "start_time": "2022-03-30T03:51:34.628Z"
   },
   {
    "duration": 18,
    "start_time": "2022-03-30T03:51:34.674Z"
   },
   {
    "duration": 54,
    "start_time": "2022-03-30T03:51:34.695Z"
   },
   {
    "duration": 37,
    "start_time": "2022-03-30T03:51:34.751Z"
   },
   {
    "duration": 23,
    "start_time": "2022-03-30T03:57:15.296Z"
   },
   {
    "duration": 14,
    "start_time": "2022-03-30T04:01:07.399Z"
   },
   {
    "duration": 15,
    "start_time": "2022-03-30T04:01:21.472Z"
   },
   {
    "duration": 14,
    "start_time": "2022-03-30T04:01:38.149Z"
   }
  ],
  "kernelspec": {
   "display_name": "Python 3 (ipykernel)",
   "language": "python",
   "name": "python3"
  },
  "language_info": {
   "codemirror_mode": {
    "name": "ipython",
    "version": 3
   },
   "file_extension": ".py",
   "mimetype": "text/x-python",
   "name": "python",
   "nbconvert_exporter": "python",
   "pygments_lexer": "ipython3",
   "version": "3.9.7"
  },
  "toc": {
   "base_numbering": 1,
   "nav_menu": {},
   "number_sections": true,
   "sideBar": true,
   "skip_h1_title": true,
   "title_cell": "Table of Contents",
   "title_sidebar": "Contents",
   "toc_cell": false,
   "toc_position": {
    "height": "calc(100% - 180px)",
    "left": "10px",
    "top": "150px",
    "width": "320.2px"
   },
   "toc_section_display": true,
   "toc_window_display": true
  }
 },
 "nbformat": 4,
 "nbformat_minor": 5
}
