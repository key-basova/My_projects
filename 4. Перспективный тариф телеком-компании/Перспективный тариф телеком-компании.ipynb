{
 "cells": [
  {
   "cell_type": "markdown",
   "metadata": {},
   "source": [
    "# Содержание\n",
    "\n",
    "1. [Изучение общих данных](#start)     \n",
    "    1.1. [Вывод](#start_result)   \n",
    "2. [Предобработка данных](#pre)   \n",
    "    2.1. [Удаление столбцов](#pre_col)   \n",
    "    2.2. [Типы данных](#pre_type)   \n",
    "    2.3. [Проверка на дубликаты](#pre_duplicates)   \n",
    "    2.4. [Проверка данных](#pre_data)   \n",
    "    2.5. [Подготовка данных к анализу](#pre_add)   \n",
    "    2.6. [Выводы](#pre_result)   \n",
    "3. [Анализ данных](#analys)   \n",
    "4. [Проверка гипотез](#hyp)    \n",
    "    4.1. [Первая гипотеза](#hyp1)   \n",
    "    4.2. [Вторая гипотеза](#hyp2)   \n",
    "5. [Общий вывод](#result)   "
   ]
  },
  {
   "cell_type": "markdown",
   "metadata": {},
   "source": [
    "# Определение перспективного тарифа для телеком-компании\n",
    "\n",
    "Компания \"Мегалайн\" - федеральный оператор сотовой связи. Компания предлагает два тарифных плана \"Смарт\" и \"Ультра\". \n",
    "\n",
    "**Тариф «Смарт»**\n",
    "1.\tЕжемесячная плата: 550 рублей\n",
    "2.\tВключено 500 минут разговора, 50 сообщений и 15 Гб интернет-трафика\n",
    "3.\tСтоимость услуг сверх тарифного пакета: 1. минута разговора: 3 рубля; 2. сообщение: 3 рубля; 3. 1 Гб интернет-трафика: 200 рублей.\n",
    "\n",
    "**Тариф «Ультра»**\n",
    "1.\tЕжемесячная плата: 1950 рублей\n",
    "2.\tВключено 3000 минут разговора, 1000 сообщений и 30 Гб интернет-трафика\n",
    "3.\tСтоимость услуг сверх тарифного пакета: 1. минута разговора: 1 рубль; 2. сообщение: 1 рубль; 3. 1 Гб интернет-трафика: 150 рублей.\n",
    "\n",
    "**Примечание:**\n",
    "- «Мегалайн» всегда округляет секунды до минут, а мегабайты — до гигабайт. Каждый звонок округляется отдельно: даже если он длился всего 1 секунду, будет засчитан как 1 минута.\n",
    "- Для веб-трафика отдельные сессии не считаются. Вместо этого общая сумма за месяц округляется в бо́льшую сторону. Если абонент использует 1025 мегабайт в этом месяце, с него возьмут плату за 2 гигабайта.\n",
    "\n",
    "\n",
    "**Цель проекта** - определить, какой из двух тарифов приносит больше денег. А также проверить две **гипотезы**:\n",
    "1. Средняя выручка пользователей тарифов \"Ультра\" и \"Смарт\" различаются.\n",
    "2. Средняя выручка пользователей из Москвы отличается от выручки пользователей из других регионов."
   ]
  },
  {
   "cell_type": "markdown",
   "metadata": {},
   "source": [
    "## Изучение общих данных\n",
    "<a id='start'></a>\n",
    "Откроем исходные файлы и ознакомимся с данными."
   ]
  },
  {
   "cell_type": "code",
   "execution_count": 1,
   "metadata": {},
   "outputs": [],
   "source": [
    "import pandas as pd                        # импорт библиотеки pandas\n",
    "import numpy as np                         # импорт библиотеки numpy\n",
    "from scipy import stats as st              # импорт модуля stats из библиотеки scipy\n",
    "\n",
    "import matplotlib.pyplot as plt            # импорт модуля pyplot библиотеки matplotlib\n",
    "import math                                # импорт библиотеки math\n",
    "\n",
    "pd.set_option('display.max_columns', None) # вывод всех столбцов таблицы\n",
    "pd.set_option('display.max_rows', None)    # вывод всех строк\n",
    "pd.set_option('display.float_format', '{:,.2f}'.format)\n",
    "%config InlineBackend.figure_format = 'retina' # улучшение качество графиков"
   ]
  },
  {
   "cell_type": "code",
   "execution_count": 2,
   "metadata": {
    "scrolled": false
   },
   "outputs": [
    {
     "name": "stdout",
     "output_type": "stream",
     "text": [
      "<class 'pandas.core.frame.DataFrame'>\n",
      "RangeIndex: 202607 entries, 0 to 202606\n",
      "Data columns (total 4 columns):\n",
      "id           202607 non-null object\n",
      "call_date    202607 non-null object\n",
      "duration     202607 non-null float64\n",
      "user_id      202607 non-null int64\n",
      "dtypes: float64(1), int64(1), object(2)\n",
      "memory usage: 6.2+ MB\n"
     ]
    },
    {
     "data": {
      "text/plain": [
       "'Calls'"
      ]
     },
     "metadata": {},
     "output_type": "display_data"
    },
    {
     "data": {
      "text/html": [
       "<div>\n",
       "<style scoped>\n",
       "    .dataframe tbody tr th:only-of-type {\n",
       "        vertical-align: middle;\n",
       "    }\n",
       "\n",
       "    .dataframe tbody tr th {\n",
       "        vertical-align: top;\n",
       "    }\n",
       "\n",
       "    .dataframe thead th {\n",
       "        text-align: right;\n",
       "    }\n",
       "</style>\n",
       "<table border=\"1\" class=\"dataframe\">\n",
       "  <thead>\n",
       "    <tr style=\"text-align: right;\">\n",
       "      <th></th>\n",
       "      <th>id</th>\n",
       "      <th>call_date</th>\n",
       "      <th>duration</th>\n",
       "      <th>user_id</th>\n",
       "    </tr>\n",
       "  </thead>\n",
       "  <tbody>\n",
       "    <tr>\n",
       "      <td>0</td>\n",
       "      <td>1000_0</td>\n",
       "      <td>2018-07-25</td>\n",
       "      <td>0.00</td>\n",
       "      <td>1000</td>\n",
       "    </tr>\n",
       "    <tr>\n",
       "      <td>1</td>\n",
       "      <td>1000_1</td>\n",
       "      <td>2018-08-17</td>\n",
       "      <td>0.00</td>\n",
       "      <td>1000</td>\n",
       "    </tr>\n",
       "    <tr>\n",
       "      <td>2</td>\n",
       "      <td>1000_2</td>\n",
       "      <td>2018-06-11</td>\n",
       "      <td>2.85</td>\n",
       "      <td>1000</td>\n",
       "    </tr>\n",
       "    <tr>\n",
       "      <td>3</td>\n",
       "      <td>1000_3</td>\n",
       "      <td>2018-09-21</td>\n",
       "      <td>13.80</td>\n",
       "      <td>1000</td>\n",
       "    </tr>\n",
       "    <tr>\n",
       "      <td>4</td>\n",
       "      <td>1000_4</td>\n",
       "      <td>2018-12-15</td>\n",
       "      <td>5.18</td>\n",
       "      <td>1000</td>\n",
       "    </tr>\n",
       "    <tr>\n",
       "      <td>5</td>\n",
       "      <td>1000_5</td>\n",
       "      <td>2018-11-02</td>\n",
       "      <td>0.00</td>\n",
       "      <td>1000</td>\n",
       "    </tr>\n",
       "    <tr>\n",
       "      <td>6</td>\n",
       "      <td>1000_6</td>\n",
       "      <td>2018-10-18</td>\n",
       "      <td>0.00</td>\n",
       "      <td>1000</td>\n",
       "    </tr>\n",
       "    <tr>\n",
       "      <td>7</td>\n",
       "      <td>1000_7</td>\n",
       "      <td>2018-08-22</td>\n",
       "      <td>18.31</td>\n",
       "      <td>1000</td>\n",
       "    </tr>\n",
       "    <tr>\n",
       "      <td>8</td>\n",
       "      <td>1000_8</td>\n",
       "      <td>2018-09-15</td>\n",
       "      <td>18.44</td>\n",
       "      <td>1000</td>\n",
       "    </tr>\n",
       "    <tr>\n",
       "      <td>9</td>\n",
       "      <td>1000_9</td>\n",
       "      <td>2018-08-15</td>\n",
       "      <td>0.00</td>\n",
       "      <td>1000</td>\n",
       "    </tr>\n",
       "  </tbody>\n",
       "</table>\n",
       "</div>"
      ],
      "text/plain": [
       "       id   call_date  duration  user_id\n",
       "0  1000_0  2018-07-25      0.00     1000\n",
       "1  1000_1  2018-08-17      0.00     1000\n",
       "2  1000_2  2018-06-11      2.85     1000\n",
       "3  1000_3  2018-09-21     13.80     1000\n",
       "4  1000_4  2018-12-15      5.18     1000\n",
       "5  1000_5  2018-11-02      0.00     1000\n",
       "6  1000_6  2018-10-18      0.00     1000\n",
       "7  1000_7  2018-08-22     18.31     1000\n",
       "8  1000_8  2018-09-15     18.44     1000\n",
       "9  1000_9  2018-08-15      0.00     1000"
      ]
     },
     "metadata": {},
     "output_type": "display_data"
    },
    {
     "data": {
      "text/plain": [
       "None"
      ]
     },
     "metadata": {},
     "output_type": "display_data"
    },
    {
     "name": "stdout",
     "output_type": "stream",
     "text": [
      "<class 'pandas.core.frame.DataFrame'>\n",
      "RangeIndex: 149396 entries, 0 to 149395\n",
      "Data columns (total 5 columns):\n",
      "Unnamed: 0      149396 non-null int64\n",
      "id              149396 non-null object\n",
      "mb_used         149396 non-null float64\n",
      "session_date    149396 non-null object\n",
      "user_id         149396 non-null int64\n",
      "dtypes: float64(1), int64(2), object(2)\n",
      "memory usage: 5.7+ MB\n"
     ]
    },
    {
     "data": {
      "text/plain": [
       "'Internet'"
      ]
     },
     "metadata": {},
     "output_type": "display_data"
    },
    {
     "data": {
      "text/html": [
       "<div>\n",
       "<style scoped>\n",
       "    .dataframe tbody tr th:only-of-type {\n",
       "        vertical-align: middle;\n",
       "    }\n",
       "\n",
       "    .dataframe tbody tr th {\n",
       "        vertical-align: top;\n",
       "    }\n",
       "\n",
       "    .dataframe thead th {\n",
       "        text-align: right;\n",
       "    }\n",
       "</style>\n",
       "<table border=\"1\" class=\"dataframe\">\n",
       "  <thead>\n",
       "    <tr style=\"text-align: right;\">\n",
       "      <th></th>\n",
       "      <th>Unnamed: 0</th>\n",
       "      <th>id</th>\n",
       "      <th>mb_used</th>\n",
       "      <th>session_date</th>\n",
       "      <th>user_id</th>\n",
       "    </tr>\n",
       "  </thead>\n",
       "  <tbody>\n",
       "    <tr>\n",
       "      <td>0</td>\n",
       "      <td>0</td>\n",
       "      <td>1000_0</td>\n",
       "      <td>112.95</td>\n",
       "      <td>2018-11-25</td>\n",
       "      <td>1000</td>\n",
       "    </tr>\n",
       "    <tr>\n",
       "      <td>1</td>\n",
       "      <td>1</td>\n",
       "      <td>1000_1</td>\n",
       "      <td>1,052.81</td>\n",
       "      <td>2018-09-07</td>\n",
       "      <td>1000</td>\n",
       "    </tr>\n",
       "    <tr>\n",
       "      <td>2</td>\n",
       "      <td>2</td>\n",
       "      <td>1000_2</td>\n",
       "      <td>1,197.26</td>\n",
       "      <td>2018-06-25</td>\n",
       "      <td>1000</td>\n",
       "    </tr>\n",
       "    <tr>\n",
       "      <td>3</td>\n",
       "      <td>3</td>\n",
       "      <td>1000_3</td>\n",
       "      <td>550.27</td>\n",
       "      <td>2018-08-22</td>\n",
       "      <td>1000</td>\n",
       "    </tr>\n",
       "    <tr>\n",
       "      <td>4</td>\n",
       "      <td>4</td>\n",
       "      <td>1000_4</td>\n",
       "      <td>302.56</td>\n",
       "      <td>2018-09-24</td>\n",
       "      <td>1000</td>\n",
       "    </tr>\n",
       "    <tr>\n",
       "      <td>5</td>\n",
       "      <td>5</td>\n",
       "      <td>1000_5</td>\n",
       "      <td>399.97</td>\n",
       "      <td>2018-10-02</td>\n",
       "      <td>1000</td>\n",
       "    </tr>\n",
       "    <tr>\n",
       "      <td>6</td>\n",
       "      <td>6</td>\n",
       "      <td>1000_6</td>\n",
       "      <td>540.08</td>\n",
       "      <td>2018-09-07</td>\n",
       "      <td>1000</td>\n",
       "    </tr>\n",
       "    <tr>\n",
       "      <td>7</td>\n",
       "      <td>7</td>\n",
       "      <td>1000_7</td>\n",
       "      <td>415.70</td>\n",
       "      <td>2018-07-11</td>\n",
       "      <td>1000</td>\n",
       "    </tr>\n",
       "    <tr>\n",
       "      <td>8</td>\n",
       "      <td>8</td>\n",
       "      <td>1000_8</td>\n",
       "      <td>505.40</td>\n",
       "      <td>2018-10-08</td>\n",
       "      <td>1000</td>\n",
       "    </tr>\n",
       "    <tr>\n",
       "      <td>9</td>\n",
       "      <td>9</td>\n",
       "      <td>1000_9</td>\n",
       "      <td>345.54</td>\n",
       "      <td>2018-09-03</td>\n",
       "      <td>1000</td>\n",
       "    </tr>\n",
       "  </tbody>\n",
       "</table>\n",
       "</div>"
      ],
      "text/plain": [
       "   Unnamed: 0      id  mb_used session_date  user_id\n",
       "0           0  1000_0   112.95   2018-11-25     1000\n",
       "1           1  1000_1 1,052.81   2018-09-07     1000\n",
       "2           2  1000_2 1,197.26   2018-06-25     1000\n",
       "3           3  1000_3   550.27   2018-08-22     1000\n",
       "4           4  1000_4   302.56   2018-09-24     1000\n",
       "5           5  1000_5   399.97   2018-10-02     1000\n",
       "6           6  1000_6   540.08   2018-09-07     1000\n",
       "7           7  1000_7   415.70   2018-07-11     1000\n",
       "8           8  1000_8   505.40   2018-10-08     1000\n",
       "9           9  1000_9   345.54   2018-09-03     1000"
      ]
     },
     "metadata": {},
     "output_type": "display_data"
    },
    {
     "data": {
      "text/plain": [
       "None"
      ]
     },
     "metadata": {},
     "output_type": "display_data"
    },
    {
     "name": "stdout",
     "output_type": "stream",
     "text": [
      "<class 'pandas.core.frame.DataFrame'>\n",
      "RangeIndex: 123036 entries, 0 to 123035\n",
      "Data columns (total 3 columns):\n",
      "id              123036 non-null object\n",
      "message_date    123036 non-null object\n",
      "user_id         123036 non-null int64\n",
      "dtypes: int64(1), object(2)\n",
      "memory usage: 2.8+ MB\n"
     ]
    },
    {
     "data": {
      "text/plain": [
       "'Messages'"
      ]
     },
     "metadata": {},
     "output_type": "display_data"
    },
    {
     "data": {
      "text/html": [
       "<div>\n",
       "<style scoped>\n",
       "    .dataframe tbody tr th:only-of-type {\n",
       "        vertical-align: middle;\n",
       "    }\n",
       "\n",
       "    .dataframe tbody tr th {\n",
       "        vertical-align: top;\n",
       "    }\n",
       "\n",
       "    .dataframe thead th {\n",
       "        text-align: right;\n",
       "    }\n",
       "</style>\n",
       "<table border=\"1\" class=\"dataframe\">\n",
       "  <thead>\n",
       "    <tr style=\"text-align: right;\">\n",
       "      <th></th>\n",
       "      <th>id</th>\n",
       "      <th>message_date</th>\n",
       "      <th>user_id</th>\n",
       "    </tr>\n",
       "  </thead>\n",
       "  <tbody>\n",
       "    <tr>\n",
       "      <td>0</td>\n",
       "      <td>1000_0</td>\n",
       "      <td>2018-06-27</td>\n",
       "      <td>1000</td>\n",
       "    </tr>\n",
       "    <tr>\n",
       "      <td>1</td>\n",
       "      <td>1000_1</td>\n",
       "      <td>2018-10-08</td>\n",
       "      <td>1000</td>\n",
       "    </tr>\n",
       "    <tr>\n",
       "      <td>2</td>\n",
       "      <td>1000_2</td>\n",
       "      <td>2018-08-04</td>\n",
       "      <td>1000</td>\n",
       "    </tr>\n",
       "    <tr>\n",
       "      <td>3</td>\n",
       "      <td>1000_3</td>\n",
       "      <td>2018-06-16</td>\n",
       "      <td>1000</td>\n",
       "    </tr>\n",
       "    <tr>\n",
       "      <td>4</td>\n",
       "      <td>1000_4</td>\n",
       "      <td>2018-12-05</td>\n",
       "      <td>1000</td>\n",
       "    </tr>\n",
       "    <tr>\n",
       "      <td>5</td>\n",
       "      <td>1000_5</td>\n",
       "      <td>2018-06-20</td>\n",
       "      <td>1000</td>\n",
       "    </tr>\n",
       "    <tr>\n",
       "      <td>6</td>\n",
       "      <td>1000_6</td>\n",
       "      <td>2018-11-19</td>\n",
       "      <td>1000</td>\n",
       "    </tr>\n",
       "    <tr>\n",
       "      <td>7</td>\n",
       "      <td>1000_7</td>\n",
       "      <td>2018-10-29</td>\n",
       "      <td>1000</td>\n",
       "    </tr>\n",
       "    <tr>\n",
       "      <td>8</td>\n",
       "      <td>1000_8</td>\n",
       "      <td>2018-06-25</td>\n",
       "      <td>1000</td>\n",
       "    </tr>\n",
       "    <tr>\n",
       "      <td>9</td>\n",
       "      <td>1000_9</td>\n",
       "      <td>2018-12-18</td>\n",
       "      <td>1000</td>\n",
       "    </tr>\n",
       "  </tbody>\n",
       "</table>\n",
       "</div>"
      ],
      "text/plain": [
       "       id message_date  user_id\n",
       "0  1000_0   2018-06-27     1000\n",
       "1  1000_1   2018-10-08     1000\n",
       "2  1000_2   2018-08-04     1000\n",
       "3  1000_3   2018-06-16     1000\n",
       "4  1000_4   2018-12-05     1000\n",
       "5  1000_5   2018-06-20     1000\n",
       "6  1000_6   2018-11-19     1000\n",
       "7  1000_7   2018-10-29     1000\n",
       "8  1000_8   2018-06-25     1000\n",
       "9  1000_9   2018-12-18     1000"
      ]
     },
     "metadata": {},
     "output_type": "display_data"
    },
    {
     "data": {
      "text/plain": [
       "None"
      ]
     },
     "metadata": {},
     "output_type": "display_data"
    },
    {
     "name": "stdout",
     "output_type": "stream",
     "text": [
      "<class 'pandas.core.frame.DataFrame'>\n",
      "RangeIndex: 2 entries, 0 to 1\n",
      "Data columns (total 8 columns):\n",
      "messages_included        2 non-null int64\n",
      "mb_per_month_included    2 non-null int64\n",
      "minutes_included         2 non-null int64\n",
      "rub_monthly_fee          2 non-null int64\n",
      "rub_per_gb               2 non-null int64\n",
      "rub_per_message          2 non-null int64\n",
      "rub_per_minute           2 non-null int64\n",
      "tariff_name              2 non-null object\n",
      "dtypes: int64(7), object(1)\n",
      "memory usage: 256.0+ bytes\n"
     ]
    },
    {
     "data": {
      "text/plain": [
       "'Tariffs'"
      ]
     },
     "metadata": {},
     "output_type": "display_data"
    },
    {
     "data": {
      "text/html": [
       "<div>\n",
       "<style scoped>\n",
       "    .dataframe tbody tr th:only-of-type {\n",
       "        vertical-align: middle;\n",
       "    }\n",
       "\n",
       "    .dataframe tbody tr th {\n",
       "        vertical-align: top;\n",
       "    }\n",
       "\n",
       "    .dataframe thead th {\n",
       "        text-align: right;\n",
       "    }\n",
       "</style>\n",
       "<table border=\"1\" class=\"dataframe\">\n",
       "  <thead>\n",
       "    <tr style=\"text-align: right;\">\n",
       "      <th></th>\n",
       "      <th>messages_included</th>\n",
       "      <th>mb_per_month_included</th>\n",
       "      <th>minutes_included</th>\n",
       "      <th>rub_monthly_fee</th>\n",
       "      <th>rub_per_gb</th>\n",
       "      <th>rub_per_message</th>\n",
       "      <th>rub_per_minute</th>\n",
       "      <th>tariff_name</th>\n",
       "    </tr>\n",
       "  </thead>\n",
       "  <tbody>\n",
       "    <tr>\n",
       "      <td>0</td>\n",
       "      <td>50</td>\n",
       "      <td>15360</td>\n",
       "      <td>500</td>\n",
       "      <td>550</td>\n",
       "      <td>200</td>\n",
       "      <td>3</td>\n",
       "      <td>3</td>\n",
       "      <td>smart</td>\n",
       "    </tr>\n",
       "    <tr>\n",
       "      <td>1</td>\n",
       "      <td>1000</td>\n",
       "      <td>30720</td>\n",
       "      <td>3000</td>\n",
       "      <td>1950</td>\n",
       "      <td>150</td>\n",
       "      <td>1</td>\n",
       "      <td>1</td>\n",
       "      <td>ultra</td>\n",
       "    </tr>\n",
       "  </tbody>\n",
       "</table>\n",
       "</div>"
      ],
      "text/plain": [
       "   messages_included  mb_per_month_included  minutes_included  \\\n",
       "0                 50                  15360               500   \n",
       "1               1000                  30720              3000   \n",
       "\n",
       "   rub_monthly_fee  rub_per_gb  rub_per_message  rub_per_minute tariff_name  \n",
       "0              550         200                3               3       smart  \n",
       "1             1950         150                1               1       ultra  "
      ]
     },
     "metadata": {},
     "output_type": "display_data"
    },
    {
     "data": {
      "text/plain": [
       "None"
      ]
     },
     "metadata": {},
     "output_type": "display_data"
    },
    {
     "name": "stdout",
     "output_type": "stream",
     "text": [
      "<class 'pandas.core.frame.DataFrame'>\n",
      "RangeIndex: 500 entries, 0 to 499\n",
      "Data columns (total 8 columns):\n",
      "user_id       500 non-null int64\n",
      "age           500 non-null int64\n",
      "churn_date    38 non-null object\n",
      "city          500 non-null object\n",
      "first_name    500 non-null object\n",
      "last_name     500 non-null object\n",
      "reg_date      500 non-null object\n",
      "tariff        500 non-null object\n",
      "dtypes: int64(2), object(6)\n",
      "memory usage: 31.4+ KB\n"
     ]
    },
    {
     "data": {
      "text/plain": [
       "'Users'"
      ]
     },
     "metadata": {},
     "output_type": "display_data"
    },
    {
     "data": {
      "text/html": [
       "<div>\n",
       "<style scoped>\n",
       "    .dataframe tbody tr th:only-of-type {\n",
       "        vertical-align: middle;\n",
       "    }\n",
       "\n",
       "    .dataframe tbody tr th {\n",
       "        vertical-align: top;\n",
       "    }\n",
       "\n",
       "    .dataframe thead th {\n",
       "        text-align: right;\n",
       "    }\n",
       "</style>\n",
       "<table border=\"1\" class=\"dataframe\">\n",
       "  <thead>\n",
       "    <tr style=\"text-align: right;\">\n",
       "      <th></th>\n",
       "      <th>user_id</th>\n",
       "      <th>age</th>\n",
       "      <th>churn_date</th>\n",
       "      <th>city</th>\n",
       "      <th>first_name</th>\n",
       "      <th>last_name</th>\n",
       "      <th>reg_date</th>\n",
       "      <th>tariff</th>\n",
       "    </tr>\n",
       "  </thead>\n",
       "  <tbody>\n",
       "    <tr>\n",
       "      <td>0</td>\n",
       "      <td>1000</td>\n",
       "      <td>52</td>\n",
       "      <td>NaN</td>\n",
       "      <td>Краснодар</td>\n",
       "      <td>Рафаил</td>\n",
       "      <td>Верещагин</td>\n",
       "      <td>2018-05-25</td>\n",
       "      <td>ultra</td>\n",
       "    </tr>\n",
       "    <tr>\n",
       "      <td>1</td>\n",
       "      <td>1001</td>\n",
       "      <td>41</td>\n",
       "      <td>NaN</td>\n",
       "      <td>Москва</td>\n",
       "      <td>Иван</td>\n",
       "      <td>Ежов</td>\n",
       "      <td>2018-11-01</td>\n",
       "      <td>smart</td>\n",
       "    </tr>\n",
       "    <tr>\n",
       "      <td>2</td>\n",
       "      <td>1002</td>\n",
       "      <td>59</td>\n",
       "      <td>NaN</td>\n",
       "      <td>Стерлитамак</td>\n",
       "      <td>Евгений</td>\n",
       "      <td>Абрамович</td>\n",
       "      <td>2018-06-17</td>\n",
       "      <td>smart</td>\n",
       "    </tr>\n",
       "    <tr>\n",
       "      <td>3</td>\n",
       "      <td>1003</td>\n",
       "      <td>23</td>\n",
       "      <td>NaN</td>\n",
       "      <td>Москва</td>\n",
       "      <td>Белла</td>\n",
       "      <td>Белякова</td>\n",
       "      <td>2018-08-17</td>\n",
       "      <td>ultra</td>\n",
       "    </tr>\n",
       "    <tr>\n",
       "      <td>4</td>\n",
       "      <td>1004</td>\n",
       "      <td>68</td>\n",
       "      <td>NaN</td>\n",
       "      <td>Новокузнецк</td>\n",
       "      <td>Татьяна</td>\n",
       "      <td>Авдеенко</td>\n",
       "      <td>2018-05-14</td>\n",
       "      <td>ultra</td>\n",
       "    </tr>\n",
       "    <tr>\n",
       "      <td>5</td>\n",
       "      <td>1005</td>\n",
       "      <td>67</td>\n",
       "      <td>NaN</td>\n",
       "      <td>Набережные Челны</td>\n",
       "      <td>Афанасий</td>\n",
       "      <td>Горлов</td>\n",
       "      <td>2018-01-25</td>\n",
       "      <td>smart</td>\n",
       "    </tr>\n",
       "    <tr>\n",
       "      <td>6</td>\n",
       "      <td>1006</td>\n",
       "      <td>21</td>\n",
       "      <td>NaN</td>\n",
       "      <td>Ульяновск</td>\n",
       "      <td>Леонид</td>\n",
       "      <td>Ермолаев</td>\n",
       "      <td>2018-02-26</td>\n",
       "      <td>smart</td>\n",
       "    </tr>\n",
       "    <tr>\n",
       "      <td>7</td>\n",
       "      <td>1007</td>\n",
       "      <td>65</td>\n",
       "      <td>NaN</td>\n",
       "      <td>Москва</td>\n",
       "      <td>Юна</td>\n",
       "      <td>Березина</td>\n",
       "      <td>2018-04-19</td>\n",
       "      <td>smart</td>\n",
       "    </tr>\n",
       "    <tr>\n",
       "      <td>8</td>\n",
       "      <td>1008</td>\n",
       "      <td>63</td>\n",
       "      <td>NaN</td>\n",
       "      <td>Челябинск</td>\n",
       "      <td>Рустэм</td>\n",
       "      <td>Пономарёв</td>\n",
       "      <td>2018-12-19</td>\n",
       "      <td>smart</td>\n",
       "    </tr>\n",
       "    <tr>\n",
       "      <td>9</td>\n",
       "      <td>1009</td>\n",
       "      <td>24</td>\n",
       "      <td>NaN</td>\n",
       "      <td>Пермь</td>\n",
       "      <td>Василиса</td>\n",
       "      <td>Блинова</td>\n",
       "      <td>2018-03-22</td>\n",
       "      <td>smart</td>\n",
       "    </tr>\n",
       "  </tbody>\n",
       "</table>\n",
       "</div>"
      ],
      "text/plain": [
       "   user_id  age churn_date              city first_name  last_name  \\\n",
       "0     1000   52        NaN         Краснодар     Рафаил  Верещагин   \n",
       "1     1001   41        NaN            Москва       Иван       Ежов   \n",
       "2     1002   59        NaN       Стерлитамак    Евгений  Абрамович   \n",
       "3     1003   23        NaN            Москва      Белла   Белякова   \n",
       "4     1004   68        NaN       Новокузнецк    Татьяна   Авдеенко   \n",
       "5     1005   67        NaN  Набережные Челны   Афанасий     Горлов   \n",
       "6     1006   21        NaN         Ульяновск     Леонид   Ермолаев   \n",
       "7     1007   65        NaN            Москва        Юна   Березина   \n",
       "8     1008   63        NaN         Челябинск     Рустэм  Пономарёв   \n",
       "9     1009   24        NaN             Пермь   Василиса    Блинова   \n",
       "\n",
       "     reg_date tariff  \n",
       "0  2018-05-25  ultra  \n",
       "1  2018-11-01  smart  \n",
       "2  2018-06-17  smart  \n",
       "3  2018-08-17  ultra  \n",
       "4  2018-05-14  ultra  \n",
       "5  2018-01-25  smart  \n",
       "6  2018-02-26  smart  \n",
       "7  2018-04-19  smart  \n",
       "8  2018-12-19  smart  \n",
       "9  2018-03-22  smart  "
      ]
     },
     "metadata": {},
     "output_type": "display_data"
    },
    {
     "data": {
      "text/plain": [
       "None"
      ]
     },
     "metadata": {},
     "output_type": "display_data"
    }
   ],
   "source": [
    "df_calls = pd.read_csv('/datasets/calls.csv')       # чтение файла calls.csv и сохранения ее в переменную df_calls\n",
    "df_internet = pd.read_csv('/datasets/internet.csv') # чтение файла internet.csv и сохранения ее в переменную df_internet\n",
    "df_messages = pd.read_csv('/datasets/messages.csv') # чтение файла messages.csv и сохранения ее в переменную df_messages\n",
    "df_tariffs = pd.read_csv('/datasets/tariffs.csv')   # чтение файла tariffs.csv и сохранения ее в переменную df_tariffs\n",
    "df_users = pd.read_csv('/datasets/users.csv')       # чтение файла users.csv и сохранения ее в переменную df_users\n",
    "\n",
    "display('Calls', df_calls.head(10), df_calls.info())          # вывод на экран первых 10 строк таблицы и общей информации\n",
    "display('Internet', df_internet.head(10), df_internet.info()) # вывод на экран первых 10 строк таблицы и общей информации\n",
    "display('Messages', df_messages.head(10), df_messages.info()) # вывод на экран первых 10 строк таблицы и общей информации\n",
    "display('Tariffs', df_tariffs.head(10), df_tariffs.info())    # вывод на экран первых 10 строк таблицы и общей информации\n",
    "display('Users', df_users.head(10), df_users.info())          # вывод на экран первых 10 строк таблицы и общей информации"
   ]
  },
  {
   "cell_type": "markdown",
   "metadata": {},
   "source": [
    "1. В таблице `df_calls` содержится информация о звонках:\n",
    "- `id` — уникальный номер звонка;\n",
    "- `call_date` — дата звонка;\n",
    "- `duration` — длительность звонка в минутах;\n",
    "- `user_id` — идентификатор пользователя, сделавшего звонок.\n",
    "\n",
    "Пропущенных значений нет. Названия столбцов корректны. Столбец с датой `call_date` требует изменения типа на `datetime`.\n",
    "\n",
    "2. В таблице `df_internet` содержится информация об интернет-сессиях:\n",
    "- `id` — уникальный номер сессии;\n",
    "- `mb_used` — объём потраченного за сессию интернет-трафика (в мегабайтах);\n",
    "- `session_date` — дата интернет-сессии;\n",
    "- `user_id` — идентификатор пользователя.\n",
    "\n",
    "Пропущенных значений нет. Названия столбцов корректны. Есть столбец `Unnamed: 0`, повторяющий индексы таблицы, его стоит удалить. Столбец с датой `session_date` требует изменения типа на `datetime`.\n",
    "\n",
    "3. В таблице `df_messages` содержится информация о сообщениях:\n",
    "- `id` — уникальный номер сообщения;\n",
    "- `message_date` — дата сообщения;\n",
    "- `user_id` — идентификатор пользователя, отправившего сообщение.\n",
    "\n",
    "Пропущенных значений нет. Названия столбцов корректны. Столбец с датой `message_date` требует изменения типа на `datetime`.\n",
    "\n",
    "4. В таблице `df_tariffs` содержится информация о тарифах:\n",
    "- `tariff_name` — название тарифа;\n",
    "- `rub_monthly_fee` — ежемесячная абонентская плата в рублях;\n",
    "- `minutes_included` — количество минут разговора в месяц, включённых в абонентскую плату;\n",
    "- `messages_included` — количество сообщений в месяц, включённых в абонентскую плату;\n",
    "- `mb_per_month_included` — объём интернет-трафика, включённого в абонентскую плату (в мегабайтах);\n",
    "- `rub_per_minute` — стоимость минуты разговора сверх тарифного пакета (например, если в тарифе 100 минут разговора в месяц, то со 101 минуты будет взиматься плата);\n",
    "- `rub_per_message` — стоимость отправки сообщения сверх тарифного пакета;\n",
    "- `rub_per_gb` — стоимость дополнительного гигабайта интернет-трафика сверх тарифного пакета (1 гигабайт = 1024 мегабайта).\n",
    "\n",
    "Пропущенных значений нет. Названия столбцов корректны. Типы данных во всех столбцах корректные.\n",
    "\n",
    "5. В таблице `df_users` содержится информация о пользователях:\n",
    "- `user_id` — уникальный идентификатор пользователя;\n",
    "- `first_name` — имя пользователя;\n",
    "- `last_name` — фамилия пользователя;\n",
    "- `age` — возраст пользователя (годы);\n",
    "- `reg_date` — дата подключения тарифа (день, месяц, год);\n",
    "- `churn_date` — дата прекращения пользования тарифом (если значение пропущено, то тариф ещё действовал на момент выгрузки данных);\n",
    "- `city` — город проживания пользователя;\n",
    "- `tariff` — название тарифного плана.\n",
    "\n",
    "Много пропущенных данных в столбце `churn_date`, что не является ошибкой, а свидтельствует, что тариф еще действует. Названия столбцов корректны. Столбцы с датой `churn_date` и `reg_date` требуют изменения типа на `datetime`."
   ]
  },
  {
   "cell_type": "markdown",
   "metadata": {},
   "source": [
    "### Вывод\n",
    "<a id='start_result'></a>\n",
    "1. Данные в таблицах связаны между собой по `user_id`. Однако соединять таблицы между собой не имеет смысла, поскольку данные между собой не связаны и имеют разное количество строк.\n",
    "2. Необходимо удалить столбец `Unnamed: 0` из `df_internet`, а также изменить тип данных на `datetime` для всех столбцов с датами."
   ]
  },
  {
   "cell_type": "markdown",
   "metadata": {},
   "source": [
    "## Предобработка данных\n",
    "<a id='pre'></a>\n",
    "\n",
    "### Удаление столбцов\n",
    "<a id='pre_col'></a>\n",
    "\n",
    "Удалим столбец `Unnamed: 0` из таблицы `df_internet`."
   ]
  },
  {
   "cell_type": "code",
   "execution_count": 3,
   "metadata": {},
   "outputs": [
    {
     "name": "stdout",
     "output_type": "stream",
     "text": [
      "<class 'pandas.core.frame.DataFrame'>\n",
      "RangeIndex: 149396 entries, 0 to 149395\n",
      "Data columns (total 4 columns):\n",
      "id              149396 non-null object\n",
      "mb_used         149396 non-null float64\n",
      "session_date    149396 non-null object\n",
      "user_id         149396 non-null int64\n",
      "dtypes: float64(1), int64(1), object(2)\n",
      "memory usage: 4.6+ MB\n"
     ]
    }
   ],
   "source": [
    "df_internet.drop(columns='Unnamed: 0', inplace=True) # удаляем столбец Unnamed: 0 в df_internet\n",
    "df_internet.info()                                   # вывод информации о df_internet"
   ]
  },
  {
   "cell_type": "markdown",
   "metadata": {},
   "source": [
    "### Типы данных\n",
    "<a id='pre_type'></a>\n",
    "Изменим тип данных на `datetime` в столбцах:\n",
    "- `call_date` в таблице `df_calls`;\n",
    "- `session_date` в таблице `df_internet`; \n",
    "- `message_date` в таблице `df_messages`;\n",
    "- `churn_date` в таблице `df_users`; \n",
    "- `reg_date` в таблице `df_users`."
   ]
  },
  {
   "cell_type": "code",
   "execution_count": 4,
   "metadata": {},
   "outputs": [
    {
     "data": {
      "text/plain": [
       "id                   object\n",
       "call_date    datetime64[ns]\n",
       "duration            float64\n",
       "user_id               int64\n",
       "dtype: object"
      ]
     },
     "metadata": {},
     "output_type": "display_data"
    },
    {
     "data": {
      "text/plain": [
       "id                      object\n",
       "mb_used                float64\n",
       "session_date    datetime64[ns]\n",
       "user_id                  int64\n",
       "dtype: object"
      ]
     },
     "metadata": {},
     "output_type": "display_data"
    },
    {
     "data": {
      "text/plain": [
       "id                      object\n",
       "message_date    datetime64[ns]\n",
       "user_id                  int64\n",
       "dtype: object"
      ]
     },
     "metadata": {},
     "output_type": "display_data"
    },
    {
     "data": {
      "text/plain": [
       "user_id                int64\n",
       "age                    int64\n",
       "churn_date    datetime64[ns]\n",
       "city                  object\n",
       "first_name            object\n",
       "last_name             object\n",
       "reg_date      datetime64[ns]\n",
       "tariff                object\n",
       "dtype: object"
      ]
     },
     "metadata": {},
     "output_type": "display_data"
    }
   ],
   "source": [
    "# заменяем тип данных столбца call_date таблицы df_calls на datetime\n",
    "df_calls['call_date'] = pd.to_datetime(df_calls['call_date'], format='%Y-%m-%d')\n",
    "# заменяем тип данных столбца session_date таблицы df_internet на datetime\n",
    "df_internet['session_date'] = pd.to_datetime(df_internet['session_date'], format='%Y-%m-%d')\n",
    "# заменяем тип данных столбца message_date таблицы df_messages на datetime\n",
    "df_messages['message_date'] = pd.to_datetime(df_messages['message_date'], format='%Y-%m-%d')\n",
    "# заменяем тип данных столбца churn_date таблицы df_users на datetime\n",
    "df_users['churn_date'] = pd.to_datetime(df_users['churn_date'], format='%Y-%m-%d')\n",
    "# заменяем тип данных столбца reg_date таблицы df_users на datetime\n",
    "df_users['reg_date'] = pd.to_datetime(df_users['reg_date'], format='%Y-%m-%d')\n",
    "\n",
    "display(df_calls.dtypes,    # выводим на экран типы данных измененных таблиц\n",
    "        df_internet.dtypes,\n",
    "        df_messages.dtypes,\n",
    "        df_users.dtypes)"
   ]
  },
  {
   "cell_type": "markdown",
   "metadata": {},
   "source": [
    "### Проверка на дубликаты\n",
    "<a id='pre_duplicates'></a>\n",
    "Проверим наши таблицы на явные повторы (кроме таблицы с тарифами `df_tariffs` - там всего две строчки)."
   ]
  },
  {
   "cell_type": "code",
   "execution_count": 5,
   "metadata": {},
   "outputs": [
    {
     "data": {
      "text/plain": [
       "0"
      ]
     },
     "metadata": {},
     "output_type": "display_data"
    },
    {
     "data": {
      "text/plain": [
       "0"
      ]
     },
     "metadata": {},
     "output_type": "display_data"
    },
    {
     "data": {
      "text/plain": [
       "0"
      ]
     },
     "metadata": {},
     "output_type": "display_data"
    },
    {
     "data": {
      "text/plain": [
       "0"
      ]
     },
     "metadata": {},
     "output_type": "display_data"
    }
   ],
   "source": [
    "display(df_calls.duplicated().sum(),\n",
    "        df_internet.duplicated().sum(),\n",
    "        df_messages.duplicated().sum(),\n",
    "        df_users.duplicated().sum())"
   ]
  },
  {
   "cell_type": "markdown",
   "metadata": {},
   "source": [
    "Таблицы с данными по звонкам `df_calls`, интернету `df_internet`, сообщениям `df_messages` и пользователям `df_users` явных повторов не содержат."
   ]
  },
  {
   "cell_type": "markdown",
   "metadata": {},
   "source": [
    "### Проверка данных\n",
    "<a id='pre_data'></a>\n",
    "\n",
    "Проверим наши данные на корректность значений. Уточним долю пропущенных звонков (где значение `duration` равно нулю)."
   ]
  },
  {
   "cell_type": "code",
   "execution_count": 6,
   "metadata": {},
   "outputs": [
    {
     "data": {
      "text/plain": [
       "0.19551644316336553"
      ]
     },
     "execution_count": 6,
     "metadata": {},
     "output_type": "execute_result"
    }
   ],
   "source": [
    "df_calls.query('duration == 0')['duration'].count() / len(df_calls) # доля пропущенных звонков"
   ]
  },
  {
   "cell_type": "markdown",
   "metadata": {},
   "source": [
    "Доля пропущенных звонков - 20%. Учтем это, при анализе.  \n",
    "Проверим длительность звонков на выбросы значений, исключив пропущенные вызовы."
   ]
  },
  {
   "cell_type": "code",
   "execution_count": 7,
   "metadata": {},
   "outputs": [
    {
     "data": {
      "image/png": "[encoded data removed]",
      "text/plain": [
       "<Figure size 432x288 with 1 Axes>"
      ]
     },
     "metadata": {
      "image/png": {
       "height": 277,
       "width": 395
      },
      "needs_background": "light"
     },
     "output_type": "display_data"
    }
   ],
   "source": [
    "df_calls.query('duration != 0').hist('duration', bins=100) # гистограмма для duration в df_calls\n",
    "plt.title('Длительность звонков')\n",
    "plt.xlabel('Длительность, мин')\n",
    "plt.ylabel('Частота')\n",
    "plt.show()"
   ]
  },
  {
   "cell_type": "markdown",
   "metadata": {},
   "source": [
    "Длительность звонков не более 40 минут, в основном в пределах 12 минут. Данные распределены нормально с учетом отсутствия значений меньше нуля.  \n",
    "Проверим период данных по звонкам `df_calls`."
   ]
  },
  {
   "cell_type": "code",
   "execution_count": 8,
   "metadata": {},
   "outputs": [
    {
     "data": {
      "text/plain": [
       "Timestamp('2018-01-01 00:00:00')"
      ]
     },
     "metadata": {},
     "output_type": "display_data"
    },
    {
     "data": {
      "text/plain": [
       "Timestamp('2018-12-31 00:00:00')"
      ]
     },
     "metadata": {},
     "output_type": "display_data"
    },
    {
     "data": {
      "text/plain": [
       "Timedelta('364 days 00:00:00')"
      ]
     },
     "execution_count": 8,
     "metadata": {},
     "output_type": "execute_result"
    }
   ],
   "source": [
    "display(df_calls['call_date'].min(),                           # минимальное значение call_date в df_calls\n",
    "        df_calls['call_date'].max())                           # максимальное значение call_date в df_calls\n",
    "df_calls['call_date'].max() - df_calls['call_date'].min()      # суммарное количество дней"
   ]
  },
  {
   "cell_type": "markdown",
   "metadata": {},
   "source": [
    "Данные взяты за период с января по декабрь 2018 года.  \n",
    "\n",
    "Проверим долю тех, кто не пользуется интернетом."
   ]
  },
  {
   "cell_type": "code",
   "execution_count": 9,
   "metadata": {},
   "outputs": [
    {
     "data": {
      "text/plain": [
       "0.13118155773916304"
      ]
     },
     "execution_count": 9,
     "metadata": {},
     "output_type": "execute_result"
    }
   ],
   "source": [
    "df_internet.query('mb_used == 0')['mb_used'].count() / len(df_internet) # доля нулевого интернет-траффика"
   ]
  },
  {
   "cell_type": "markdown",
   "metadata": {},
   "source": [
    "Доля таких пользователей - 13%. Учтем это при анализе.  \n",
    "Проверим объем потраченного за сессию интернет-трафика на выбросы значений, исключив нулевые значения."
   ]
  },
  {
   "cell_type": "code",
   "execution_count": 10,
   "metadata": {},
   "outputs": [
    {
     "data": {
      "image/png": "[encoded data removed]",
      "text/plain": [
       "<Figure size 432x288 with 1 Axes>"
      ]
     },
     "metadata": {
      "image/png": {
       "height": 278,
       "width": 397
      },
      "needs_background": "light"
     },
     "output_type": "display_data"
    }
   ],
   "source": [
    "df_internet.query('mb_used != 0').hist('mb_used', bins=100) # гистограмм для mb_used в df_internet\n",
    "plt.title('Объем потраченного за сессию интернет-трафика')\n",
    "plt.xlabel('Интернет-трафик, мегабайты')\n",
    "plt.ylabel('Частота')\n",
    "plt.show()"
   ]
  },
  {
   "cell_type": "markdown",
   "metadata": {},
   "source": [
    "Объем интернет-траффика не превышает 2ГБ за сессию, в основном до 700Мб.  \n",
    "Проверим период данных по интернет сессиям `session_date`."
   ]
  },
  {
   "cell_type": "code",
   "execution_count": 11,
   "metadata": {},
   "outputs": [
    {
     "data": {
      "text/plain": [
       "Timestamp('2018-01-01 00:00:00')"
      ]
     },
     "metadata": {},
     "output_type": "display_data"
    },
    {
     "data": {
      "text/plain": [
       "Timestamp('2018-12-31 00:00:00')"
      ]
     },
     "metadata": {},
     "output_type": "display_data"
    },
    {
     "data": {
      "text/plain": [
       "Timedelta('364 days 00:00:00')"
      ]
     },
     "execution_count": 11,
     "metadata": {},
     "output_type": "execute_result"
    }
   ],
   "source": [
    "display(df_internet['session_date'].min(),                            # минимальное значение session_date в df_internet\n",
    "        df_internet['session_date'].max())                            # максимальное значение session_date в df_internet\n",
    "df_internet['session_date'].max() - df_internet['session_date'].min() # суммарное количество дней"
   ]
  },
  {
   "cell_type": "markdown",
   "metadata": {},
   "source": [
    "Данные также взяты за период с января по декабрь 2018 года. Проверим период данных по отправке сообщений `message_date`."
   ]
  },
  {
   "cell_type": "code",
   "execution_count": 12,
   "metadata": {},
   "outputs": [
    {
     "data": {
      "text/plain": [
       "Timestamp('2018-01-02 00:00:00')"
      ]
     },
     "metadata": {},
     "output_type": "display_data"
    },
    {
     "data": {
      "text/plain": [
       "Timestamp('2018-12-31 00:00:00')"
      ]
     },
     "metadata": {},
     "output_type": "display_data"
    },
    {
     "data": {
      "text/plain": [
       "Timedelta('363 days 00:00:00')"
      ]
     },
     "execution_count": 12,
     "metadata": {},
     "output_type": "execute_result"
    }
   ],
   "source": [
    "display(df_messages['message_date'].min(),                            # минимальное значение message_date в df_messages\n",
    "        df_messages['message_date'].max())                            # максимальное значение message_date в df_messages\n",
    "df_messages['message_date'].max() - df_messages['message_date'].min() # суммарное количество дней"
   ]
  },
  {
   "cell_type": "markdown",
   "metadata": {},
   "source": [
    "Данные также взяты за период с января по декабрь 2018 года.\n",
    "\n",
    "Проверим таблицу `df_users` дополнительно на совпадения имени и фамилии пользователей. Проверим столбец с именами `first_name` на отсутствие повторов в связи с разным написанием имен."
   ]
  },
  {
   "cell_type": "code",
   "execution_count": 13,
   "metadata": {},
   "outputs": [
    {
     "data": {
      "text/plain": [
       "Авксентий     3\n",
       "Агата         1\n",
       "Агафья        2\n",
       "Агнесса       2\n",
       "Адам          4\n",
       "Аким          1\n",
       "Аксён         2\n",
       "Алан          2\n",
       "Алевтина      2\n",
       "Александр     4\n",
       "Александра    3\n",
       "Алексей       2\n",
       "Алина         2\n",
       "Алиса         4\n",
       "Алла          3\n",
       "Альберта      2\n",
       "Альбин        3\n",
       "Альфред       2\n",
       "Алёна         1\n",
       "Анатолий      2\n",
       "Анвар         2\n",
       "Ангелина      1\n",
       "Андрей        4\n",
       "Анжелика      1\n",
       "Анита         1\n",
       "Антонина      3\n",
       "Анфиса        1\n",
       "Арина         3\n",
       "Арнольд       1\n",
       "Арсен         2\n",
       "Арсений       2\n",
       "Артемий       2\n",
       "Артём         4\n",
       "Аурелия       3\n",
       "Афанасий      2\n",
       "Ахмет         2\n",
       "Аюна          2\n",
       "Белла         1\n",
       "Берта         1\n",
       "Борис         2\n",
       "Вадим         3\n",
       "Валентина     2\n",
       "Валерий       3\n",
       "Валерия       2\n",
       "Варвара       1\n",
       "Варлам        1\n",
       "Василиса      3\n",
       "Вениамин      3\n",
       "Вера          3\n",
       "Вероника      2\n",
       "Веселина      4\n",
       "Виктор        1\n",
       "Виктория      3\n",
       "Виолетта      1\n",
       "Виталий       1\n",
       "Владимир      2\n",
       "Владислав     3\n",
       "Владислава    1\n",
       "Всеволод      4\n",
       "Габриель      4\n",
       "Габриэль      2\n",
       "Гайдар        3\n",
       "Галина        1\n",
       "Гарри         1\n",
       "Гектор        3\n",
       "Гелена        2\n",
       "Геннадий      1\n",
       "Геодар        1\n",
       "Георгий       1\n",
       "Георгина      1\n",
       "Геральд       3\n",
       "Герасим       1\n",
       "Глеб          1\n",
       "Гордей        2\n",
       "Григорий      2\n",
       "Дайна         1\n",
       "Дана          3\n",
       "Даниил        2\n",
       "Даниэла       2\n",
       "Дебора        1\n",
       "Демьян        2\n",
       "Денис         1\n",
       "Джемма        2\n",
       "Джозефина     1\n",
       "Джулия        1\n",
       "Динара        2\n",
       "Доминика      2\n",
       "Ева           1\n",
       "Евгений       3\n",
       "Евгения       2\n",
       "Евдокия       2\n",
       "Евфросинья    3\n",
       "Егор          1\n",
       "Екатерина     3\n",
       "Елена         2\n",
       "Еремей        1\n",
       "Ермолай       2\n",
       "Ефим          2\n",
       "Зинаида       1\n",
       "Иван          3\n",
       "Игнатий       1\n",
       "Игорь         2\n",
       "Изольда       3\n",
       "Илзе          2\n",
       "Илья          1\n",
       "Инара         1\n",
       "Инга          1\n",
       "Инесса        1\n",
       "Инна          3\n",
       "Иннокентий    1\n",
       "Ириней        3\n",
       "Исаак         1\n",
       "Исак          3\n",
       "Иулиан        3\n",
       "Камилла       1\n",
       "Карина        1\n",
       "Каролина      2\n",
       "Касьян        3\n",
       "Ким           2\n",
       "Клавдия       4\n",
       "Клара         1\n",
       "Клариса       2\n",
       "Константин    2\n",
       "Кристина      4\n",
       "Ксения        3\n",
       "Кузьма        2\n",
       "Лаврентий     1\n",
       "Лариса        1\n",
       "Лаура         1\n",
       "Лев           2\n",
       "Лейла         1\n",
       "Леон          4\n",
       "Леонид        5\n",
       "Леонтий       1\n",
       "Леся          1\n",
       "Лидия         3\n",
       "Лилия         2\n",
       "Лия           3\n",
       "Лола          4\n",
       "Лолита        4\n",
       "Луиза         1\n",
       "Лукий         1\n",
       "Людмила       1\n",
       "Мадина        1\n",
       "Майя          1\n",
       "Максим        1\n",
       "Мальвина      1\n",
       "Мануэла       3\n",
       "Маргарита     3\n",
       "Марианна      2\n",
       "Мариетта      4\n",
       "Марина        2\n",
       "Марица        2\n",
       "Мария         3\n",
       "Марта         4\n",
       "Марьяна       2\n",
       "Матвей        4\n",
       "Милана        1\n",
       "Милена        1\n",
       "Милица        1\n",
       "Мирослава     1\n",
       "Михаил        2\n",
       "Мстислав      3\n",
       "Надежда       3\n",
       "Наида         2\n",
       "Наталья       1\n",
       "Нателла       1\n",
       "Нелли         3\n",
       "Николай       1\n",
       "Нина          2\n",
       "Оксана        2\n",
       "Олег          3\n",
       "Олеся         1\n",
       "Онисим        3\n",
       "Павел         3\n",
       "Пётр          5\n",
       "Радим         6\n",
       "Радислав      3\n",
       "Радомир       2\n",
       "Раиса         1\n",
       "Рауль         4\n",
       "Рафаил        2\n",
       "Рафаэль       1\n",
       "Рашид         2\n",
       "Рем           1\n",
       "Ренальд       2\n",
       "Ренат         2\n",
       "Рената        1\n",
       "Ринат         1\n",
       "Роберт        2\n",
       "Роза          1\n",
       "Розалия       3\n",
       "Роксана       2\n",
       "Ростислав     1\n",
       "Рубен         4\n",
       "Рудольф       2\n",
       "Рузана        3\n",
       "Руслан        4\n",
       "Руслана       1\n",
       "Рустам        2\n",
       "Рустем        1\n",
       "Рустэм        2\n",
       "Рэм           2\n",
       "Сабина        1\n",
       "Саида         1\n",
       "Сара          3\n",
       "Светлана      1\n",
       "Святослав     3\n",
       "Семён         1\n",
       "Серафима      2\n",
       "Симона        2\n",
       "Снежана       3\n",
       "Софья         1\n",
       "Станислав     1\n",
       "Степан        1\n",
       "Таира         2\n",
       "Таисия        3\n",
       "Тала          2\n",
       "Тамара        4\n",
       "Татьяна       3\n",
       "Тимофей       1\n",
       "Тихон         1\n",
       "Трифон        1\n",
       "Трофим        1\n",
       "Фаддей        1\n",
       "Фёдор         2\n",
       "Харитон       3\n",
       "Эдита         1\n",
       "Эдуард        2\n",
       "Элеонора      2\n",
       "Элина         1\n",
       "Элла          1\n",
       "Эллада        1\n",
       "Эльвира       1\n",
       "Эльга         2\n",
       "Эльза         1\n",
       "Эльмира       1\n",
       "Эмилия        3\n",
       "Эсмеральда    1\n",
       "Юзефа         1\n",
       "Юлий          3\n",
       "Юлия          2\n",
       "Юна           3\n",
       "Юрий          1\n",
       "Яков          2\n",
       "Яна           3\n",
       "Name: first_name, dtype: int64"
      ]
     },
     "execution_count": 13,
     "metadata": {},
     "output_type": "execute_result"
    }
   ],
   "source": [
    "df_users['first_name'].value_counts().sort_index(ascending=True) # список уникальных имен first_name и их количество"
   ]
  },
  {
   "cell_type": "markdown",
   "metadata": {},
   "source": [
    "Имена написаны корректны. Проверим совпадение имен `first_name` и фамилий `last_name`."
   ]
  },
  {
   "cell_type": "code",
   "execution_count": 14,
   "metadata": {},
   "outputs": [
    {
     "data": {
      "text/plain": [
       "0"
      ]
     },
     "execution_count": 14,
     "metadata": {},
     "output_type": "execute_result"
    }
   ],
   "source": [
    "df_users.duplicated(subset=['first_name', 'last_name']).sum() # дубликаты по first_name last_name в df_users"
   ]
  },
  {
   "cell_type": "markdown",
   "metadata": {},
   "source": [
    "Повторений нет. Это свидетельствует в пользу корректности выборки.  \n",
    "Посмотрим на значения возраста `age` пользователей."
   ]
  },
  {
   "cell_type": "code",
   "execution_count": 15,
   "metadata": {},
   "outputs": [
    {
     "data": {
      "image/png": "[encoded data removed]",
      "text/plain": [
       "<Figure size 432x288 with 1 Axes>"
      ]
     },
     "metadata": {
      "image/png": {
       "height": 277,
       "width": 392
      },
      "needs_background": "light"
     },
     "output_type": "display_data"
    }
   ],
   "source": [
    "df_users['age'].hist(bins=50)          # гистограмма age в df_users\n",
    "plt.title('Возраст пользователей')\n",
    "plt.xlabel('Возраст, лет')\n",
    "plt.ylabel('Частота')\n",
    "plt.xticks(ticks=np.arange(15, 80, 5))\n",
    "plt.show()"
   ]
  },
  {
   "cell_type": "markdown",
   "metadata": {},
   "source": [
    "Все пользователи в возрасте от 18 до 75 лет, распределены примерно равномерно в рамках десятилетий."
   ]
  },
  {
   "cell_type": "code",
   "execution_count": 16,
   "metadata": {},
   "outputs": [
    {
     "data": {
      "text/plain": [
       "Timestamp('2018-01-01 00:00:00')"
      ]
     },
     "metadata": {},
     "output_type": "display_data"
    },
    {
     "data": {
      "text/plain": [
       "Timestamp('2018-12-31 00:00:00')"
      ]
     },
     "metadata": {},
     "output_type": "display_data"
    },
    {
     "data": {
      "text/plain": [
       "Timedelta('364 days 00:00:00')"
      ]
     },
     "execution_count": 16,
     "metadata": {},
     "output_type": "execute_result"
    }
   ],
   "source": [
    "display(df_users['reg_date'].min(),                     # минимальное значение message_date в df_messages\n",
    "        df_users['reg_date'].max())                     # максимальное значение message_date в df_messages\n",
    "df_users['reg_date'].max() - df_users['reg_date'].min() # суммарное количество дней"
   ]
  },
  {
   "cell_type": "markdown",
   "metadata": {},
   "source": [
    "Теперь посмотрим на количество дней пользования тарифом для тех пользователей, кто сменил тариф."
   ]
  },
  {
   "cell_type": "code",
   "execution_count": 17,
   "metadata": {},
   "outputs": [
    {
     "data": {
      "text/plain": [
       "19    142 days\n",
       "20     57 days\n",
       "34     87 days\n",
       "50    109 days\n",
       "51    139 days\n",
       "56    184 days\n",
       "62     23 days\n",
       "63    243 days\n",
       "64    284 days\n",
       "65    276 days\n",
       "71    234 days\n",
       "90     53 days\n",
       "128     8 days\n",
       "161   127 days\n",
       "163    43 days\n",
       "191    95 days\n",
       "201   119 days\n",
       "206    47 days\n",
       "232    54 days\n",
       "242    33 days\n",
       "254   225 days\n",
       "255   195 days\n",
       "265   102 days\n",
       "271   122 days\n",
       "293    78 days\n",
       "343    74 days\n",
       "353   218 days\n",
       "355   129 days\n",
       "367    63 days\n",
       "370   263 days\n",
       "371     5 days\n",
       "392   212 days\n",
       "399    49 days\n",
       "416   151 days\n",
       "422    70 days\n",
       "438    80 days\n",
       "480   224 days\n",
       "498    98 days\n",
       "dtype: timedelta64[ns]"
      ]
     },
     "execution_count": 17,
     "metadata": {},
     "output_type": "execute_result"
    }
   ],
   "source": [
    "# считаем разницу между датой подключения тарифа reg_date и датой прекращения churn_date\n",
    "df_users[~ df_users['churn_date'].isna()]['churn_date'] - df_users[~ df_users['churn_date'].isna()]['reg_date']"
   ]
  },
  {
   "cell_type": "markdown",
   "metadata": {},
   "source": [
    "Есть пользователи, которые пользовались тарифом всего несколько дней. Посчитаем также, сколько человек подулючились после 10 января 2018."
   ]
  },
  {
   "cell_type": "code",
   "execution_count": 18,
   "metadata": {},
   "outputs": [
    {
     "data": {
      "text/plain": [
       "23"
      ]
     },
     "execution_count": 18,
     "metadata": {},
     "output_type": "execute_result"
    }
   ],
   "source": [
    "df_users[df_users['reg_date'] > '2018-12-10']['user_id'].count()"
   ]
  },
  {
   "cell_type": "markdown",
   "metadata": {},
   "source": [
    "\n",
    "Удалим всех тех, кто пользовался тарифом менее 10 дней из выборки, т.к. нас интересует анализ помесячного пользования тарифами."
   ]
  },
  {
   "cell_type": "code",
   "execution_count": 19,
   "metadata": {},
   "outputs": [
    {
     "data": {
      "text/plain": [
       "(486, 8)"
      ]
     },
     "execution_count": 19,
     "metadata": {},
     "output_type": "execute_result"
    }
   ],
   "source": [
    "# оставляем в df_users тех пользователей, кто пользовался тарифом более 20 дней\n",
    "df_users = df_users[((df_users['churn_date'].isna() \n",
    "                     | ((df_users['churn_date'] - df_users['reg_date']) > '10 days')) \n",
    "                     & ( df_users['reg_date'] < '2018-12-20'))]\\\n",
    "          .reset_index(drop=True)\n",
    "df_users.shape # проверяем количество удаленных строк"
   ]
  },
  {
   "cell_type": "markdown",
   "metadata": {},
   "source": [
    "Проверим разброс городов `city` в выборке `df_users` и их повторения."
   ]
  },
  {
   "cell_type": "code",
   "execution_count": 20,
   "metadata": {},
   "outputs": [
    {
     "data": {
      "text/plain": [
       "Архангельск          1\n",
       "Астрахань            4\n",
       "Балашиха             5\n",
       "Барнаул              3\n",
       "Белгород             2\n",
       "Брянск               3\n",
       "Владивосток          5\n",
       "Владикавказ          2\n",
       "Владимир             3\n",
       "Волгоград            8\n",
       "Волжский             1\n",
       "Вологда              7\n",
       "Воронеж              5\n",
       "Грозный              2\n",
       "Екатеринбург        11\n",
       "Иваново              1\n",
       "Ижевск               2\n",
       "Иркутск              6\n",
       "Казань              14\n",
       "Калининград          2\n",
       "Калуга               4\n",
       "Кемерово             2\n",
       "Киров                4\n",
       "Кострома             4\n",
       "Краснодар           10\n",
       "Красноярск           7\n",
       "Курган               3\n",
       "Курск                2\n",
       "Липецк               2\n",
       "Магнитогорск         5\n",
       "Махачкала            5\n",
       "Москва              97\n",
       "Мурманск             4\n",
       "Набережные Челны    11\n",
       "Нижневартовск        1\n",
       "Нижний Новгород      8\n",
       "Нижний Тагил         3\n",
       "Новокузнецк          6\n",
       "Новороссийск         4\n",
       "Новосибирск         14\n",
       "Омск                13\n",
       "Оренбург             2\n",
       "Орёл                 3\n",
       "Пенза                6\n",
       "Пермь                8\n",
       "Петрозаводск         4\n",
       "Подольск             1\n",
       "Ростов-на-Дону       6\n",
       "Рязань               4\n",
       "Самара               9\n",
       "Санкт-Петербург     38\n",
       "Саранск              4\n",
       "Саратов              3\n",
       "Севастополь          3\n",
       "Смоленск             2\n",
       "Сочи                 6\n",
       "Ставрополь           5\n",
       "Стерлитамак          3\n",
       "Сургут               2\n",
       "Тамбов               2\n",
       "Тверь                3\n",
       "Тольятти             4\n",
       "Томск                6\n",
       "Тула                 2\n",
       "Тюмень               6\n",
       "Улан-Удэ             7\n",
       "Ульяновск           11\n",
       "Уфа                 11\n",
       "Хабаровск            4\n",
       "Химки                1\n",
       "Чебоксары            3\n",
       "Челябинск            9\n",
       "Череповец            3\n",
       "Чита                 4\n",
       "Якутск               2\n",
       "Ярославль            3\n",
       "Name: city, dtype: int64"
      ]
     },
     "execution_count": 20,
     "metadata": {},
     "output_type": "execute_result"
    }
   ],
   "source": [
    "df_users['city'].value_counts().sort_index(ascending=True) # выводим значения city в df_users"
   ]
  },
  {
   "cell_type": "markdown",
   "metadata": {},
   "source": [
    "Разброс городов и отсутствие повторов также говорят в пользу выборки.\n",
    "\n",
    "Посмотрим распределение тарифов `tariff` внутри выборки `df_users`."
   ]
  },
  {
   "cell_type": "code",
   "execution_count": 21,
   "metadata": {},
   "outputs": [
    {
     "data": {
      "text/plain": [
       "smart    341\n",
       "ultra    145\n",
       "Name: tariff, dtype: int64"
      ]
     },
     "execution_count": 21,
     "metadata": {},
     "output_type": "execute_result"
    }
   ],
   "source": [
    "df_users['tariff'].value_counts()"
   ]
  },
  {
   "cell_type": "markdown",
   "metadata": {},
   "source": [
    "Тариф smart популярнее тарифа ultra более чем в 2 раза. Учтем это при анализе."
   ]
  },
  {
   "cell_type": "markdown",
   "metadata": {},
   "source": [
    "### Подготовка данных к анализу\n",
    "<a id='pre_add'></a>\n",
    "\n",
    "Для последующего анализа подготовим сводную таблицу `df` для каждого пользователя `user_id` с указанием по месяцам `month`:\n",
    "- количества сделанных звонков `calls` и израсходованных минут разговора `duration`;\n",
    "- количества отправленных сообщений `messages`;\n",
    "- объема израсходованного интернет-траффика `traffic`;\n",
    "- выручки `proceeds`,\n",
    "- названия тарифа `tariff` (и данных по тарифу).\n",
    "\n",
    "Добавим в таблицы с данными по звонкам, интернету и сообщениям столбец с месяцем."
   ]
  },
  {
   "cell_type": "code",
   "execution_count": 22,
   "metadata": {},
   "outputs": [
    {
     "data": {
      "text/plain": [
       "id                   object\n",
       "call_date    datetime64[ns]\n",
       "duration            float64\n",
       "user_id               int64\n",
       "month                object\n",
       "dtype: object"
      ]
     },
     "metadata": {},
     "output_type": "display_data"
    },
    {
     "data": {
      "text/plain": [
       "id                      object\n",
       "mb_used                float64\n",
       "session_date    datetime64[ns]\n",
       "user_id                  int64\n",
       "month                   object\n",
       "dtype: object"
      ]
     },
     "metadata": {},
     "output_type": "display_data"
    },
    {
     "data": {
      "text/plain": [
       "id                      object\n",
       "message_date    datetime64[ns]\n",
       "user_id                  int64\n",
       "month                   object\n",
       "dtype: object"
      ]
     },
     "metadata": {},
     "output_type": "display_data"
    }
   ],
   "source": [
    "df_calls['month'] = df_calls['call_date'].dt.month_name()          # добавляем столбец month в df_calls\n",
    "df_internet['month'] = df_internet['session_date'].dt.month_name() # добавляем столбец month в df_internet\n",
    "df_messages['month'] = df_messages['message_date'].dt.month_name() # добавляем столбец month в df_messages\n",
    "\n",
    "display(df_calls.dtypes,    # выводим на экран типы данных измененных таблиц\n",
    "        df_internet.dtypes,\n",
    "        df_messages.dtypes)"
   ]
  },
  {
   "cell_type": "markdown",
   "metadata": {},
   "source": [
    "Теперь создадим сводную таблицу `df` для дальнейшего анализа.  "
   ]
  },
  {
   "cell_type": "code",
   "execution_count": 23,
   "metadata": {},
   "outputs": [
    {
     "data": {
      "text/html": [
       "<div>\n",
       "<style scoped>\n",
       "    .dataframe tbody tr th:only-of-type {\n",
       "        vertical-align: middle;\n",
       "    }\n",
       "\n",
       "    .dataframe tbody tr th {\n",
       "        vertical-align: top;\n",
       "    }\n",
       "\n",
       "    .dataframe thead th {\n",
       "        text-align: right;\n",
       "    }\n",
       "</style>\n",
       "<table border=\"1\" class=\"dataframe\">\n",
       "  <thead>\n",
       "    <tr style=\"text-align: right;\">\n",
       "      <th></th>\n",
       "      <th>user_id</th>\n",
       "      <th>month</th>\n",
       "      <th>calls</th>\n",
       "      <th>duration</th>\n",
       "      <th>traffic</th>\n",
       "      <th>messages</th>\n",
       "      <th>tariff</th>\n",
       "      <th>city</th>\n",
       "      <th>messages_included</th>\n",
       "      <th>mb_per_month_included</th>\n",
       "      <th>minutes_included</th>\n",
       "      <th>rub_monthly_fee</th>\n",
       "      <th>rub_per_gb</th>\n",
       "      <th>rub_per_message</th>\n",
       "      <th>rub_per_minute</th>\n",
       "    </tr>\n",
       "  </thead>\n",
       "  <tbody>\n",
       "    <tr>\n",
       "      <td>0</td>\n",
       "      <td>1000</td>\n",
       "      <td>August</td>\n",
       "      <td>52.00</td>\n",
       "      <td>389.87</td>\n",
       "      <td>14,055.93</td>\n",
       "      <td>81.00</td>\n",
       "      <td>ultra</td>\n",
       "      <td>Краснодар</td>\n",
       "      <td>1000</td>\n",
       "      <td>30720</td>\n",
       "      <td>3000</td>\n",
       "      <td>1950</td>\n",
       "      <td>150</td>\n",
       "      <td>1</td>\n",
       "      <td>1</td>\n",
       "    </tr>\n",
       "    <tr>\n",
       "      <td>1</td>\n",
       "      <td>1000</td>\n",
       "      <td>December</td>\n",
       "      <td>46.00</td>\n",
       "      <td>312.98</td>\n",
       "      <td>9,817.61</td>\n",
       "      <td>70.00</td>\n",
       "      <td>ultra</td>\n",
       "      <td>Краснодар</td>\n",
       "      <td>1000</td>\n",
       "      <td>30720</td>\n",
       "      <td>3000</td>\n",
       "      <td>1950</td>\n",
       "      <td>150</td>\n",
       "      <td>1</td>\n",
       "      <td>1</td>\n",
       "    </tr>\n",
       "    <tr>\n",
       "      <td>2</td>\n",
       "      <td>1000</td>\n",
       "      <td>July</td>\n",
       "      <td>47.00</td>\n",
       "      <td>318.80</td>\n",
       "      <td>14,003.64</td>\n",
       "      <td>75.00</td>\n",
       "      <td>ultra</td>\n",
       "      <td>Краснодар</td>\n",
       "      <td>1000</td>\n",
       "      <td>30720</td>\n",
       "      <td>3000</td>\n",
       "      <td>1950</td>\n",
       "      <td>150</td>\n",
       "      <td>1</td>\n",
       "      <td>1</td>\n",
       "    </tr>\n",
       "    <tr>\n",
       "      <td>3</td>\n",
       "      <td>1000</td>\n",
       "      <td>June</td>\n",
       "      <td>43.00</td>\n",
       "      <td>158.90</td>\n",
       "      <td>23,233.77</td>\n",
       "      <td>60.00</td>\n",
       "      <td>ultra</td>\n",
       "      <td>Краснодар</td>\n",
       "      <td>1000</td>\n",
       "      <td>30720</td>\n",
       "      <td>3000</td>\n",
       "      <td>1950</td>\n",
       "      <td>150</td>\n",
       "      <td>1</td>\n",
       "      <td>1</td>\n",
       "    </tr>\n",
       "    <tr>\n",
       "      <td>4</td>\n",
       "      <td>1000</td>\n",
       "      <td>May</td>\n",
       "      <td>22.00</td>\n",
       "      <td>150.06</td>\n",
       "      <td>2,253.49</td>\n",
       "      <td>22.00</td>\n",
       "      <td>ultra</td>\n",
       "      <td>Краснодар</td>\n",
       "      <td>1000</td>\n",
       "      <td>30720</td>\n",
       "      <td>3000</td>\n",
       "      <td>1950</td>\n",
       "      <td>150</td>\n",
       "      <td>1</td>\n",
       "      <td>1</td>\n",
       "    </tr>\n",
       "    <tr>\n",
       "      <td>5</td>\n",
       "      <td>1000</td>\n",
       "      <td>November</td>\n",
       "      <td>43.00</td>\n",
       "      <td>319.04</td>\n",
       "      <td>14,756.47</td>\n",
       "      <td>58.00</td>\n",
       "      <td>ultra</td>\n",
       "      <td>Краснодар</td>\n",
       "      <td>1000</td>\n",
       "      <td>30720</td>\n",
       "      <td>3000</td>\n",
       "      <td>1950</td>\n",
       "      <td>150</td>\n",
       "      <td>1</td>\n",
       "      <td>1</td>\n",
       "    </tr>\n",
       "    <tr>\n",
       "      <td>6</td>\n",
       "      <td>1000</td>\n",
       "      <td>October</td>\n",
       "      <td>57.00</td>\n",
       "      <td>328.45</td>\n",
       "      <td>14,702.49</td>\n",
       "      <td>73.00</td>\n",
       "      <td>ultra</td>\n",
       "      <td>Краснодар</td>\n",
       "      <td>1000</td>\n",
       "      <td>30720</td>\n",
       "      <td>3000</td>\n",
       "      <td>1950</td>\n",
       "      <td>150</td>\n",
       "      <td>1</td>\n",
       "      <td>1</td>\n",
       "    </tr>\n",
       "    <tr>\n",
       "      <td>7</td>\n",
       "      <td>1000</td>\n",
       "      <td>September</td>\n",
       "      <td>58.00</td>\n",
       "      <td>440.14</td>\n",
       "      <td>14,568.91</td>\n",
       "      <td>57.00</td>\n",
       "      <td>ultra</td>\n",
       "      <td>Краснодар</td>\n",
       "      <td>1000</td>\n",
       "      <td>30720</td>\n",
       "      <td>3000</td>\n",
       "      <td>1950</td>\n",
       "      <td>150</td>\n",
       "      <td>1</td>\n",
       "      <td>1</td>\n",
       "    </tr>\n",
       "    <tr>\n",
       "      <td>8</td>\n",
       "      <td>1003</td>\n",
       "      <td>August</td>\n",
       "      <td>55.00</td>\n",
       "      <td>355.67</td>\n",
       "      <td>8,565.21</td>\n",
       "      <td>37.00</td>\n",
       "      <td>ultra</td>\n",
       "      <td>Москва</td>\n",
       "      <td>1000</td>\n",
       "      <td>30720</td>\n",
       "      <td>3000</td>\n",
       "      <td>1950</td>\n",
       "      <td>150</td>\n",
       "      <td>1</td>\n",
       "      <td>1</td>\n",
       "    </tr>\n",
       "    <tr>\n",
       "      <td>9</td>\n",
       "      <td>1003</td>\n",
       "      <td>December</td>\n",
       "      <td>108.00</td>\n",
       "      <td>755.50</td>\n",
       "      <td>10,121.53</td>\n",
       "      <td>75.00</td>\n",
       "      <td>ultra</td>\n",
       "      <td>Москва</td>\n",
       "      <td>1000</td>\n",
       "      <td>30720</td>\n",
       "      <td>3000</td>\n",
       "      <td>1950</td>\n",
       "      <td>150</td>\n",
       "      <td>1</td>\n",
       "      <td>1</td>\n",
       "    </tr>\n",
       "  </tbody>\n",
       "</table>\n",
       "</div>"
      ],
      "text/plain": [
       "   user_id      month  calls  duration   traffic  messages tariff       city  \\\n",
       "0     1000     August  52.00    389.87 14,055.93     81.00  ultra  Краснодар   \n",
       "1     1000   December  46.00    312.98  9,817.61     70.00  ultra  Краснодар   \n",
       "2     1000       July  47.00    318.80 14,003.64     75.00  ultra  Краснодар   \n",
       "3     1000       June  43.00    158.90 23,233.77     60.00  ultra  Краснодар   \n",
       "4     1000        May  22.00    150.06  2,253.49     22.00  ultra  Краснодар   \n",
       "5     1000   November  43.00    319.04 14,756.47     58.00  ultra  Краснодар   \n",
       "6     1000    October  57.00    328.45 14,702.49     73.00  ultra  Краснодар   \n",
       "7     1000  September  58.00    440.14 14,568.91     57.00  ultra  Краснодар   \n",
       "8     1003     August  55.00    355.67  8,565.21     37.00  ultra     Москва   \n",
       "9     1003   December 108.00    755.50 10,121.53     75.00  ultra     Москва   \n",
       "\n",
       "   messages_included  mb_per_month_included  minutes_included  \\\n",
       "0               1000                  30720              3000   \n",
       "1               1000                  30720              3000   \n",
       "2               1000                  30720              3000   \n",
       "3               1000                  30720              3000   \n",
       "4               1000                  30720              3000   \n",
       "5               1000                  30720              3000   \n",
       "6               1000                  30720              3000   \n",
       "7               1000                  30720              3000   \n",
       "8               1000                  30720              3000   \n",
       "9               1000                  30720              3000   \n",
       "\n",
       "   rub_monthly_fee  rub_per_gb  rub_per_message  rub_per_minute  \n",
       "0             1950         150                1               1  \n",
       "1             1950         150                1               1  \n",
       "2             1950         150                1               1  \n",
       "3             1950         150                1               1  \n",
       "4             1950         150                1               1  \n",
       "5             1950         150                1               1  \n",
       "6             1950         150                1               1  \n",
       "7             1950         150                1               1  \n",
       "8             1950         150                1               1  \n",
       "9             1950         150                1               1  "
      ]
     },
     "execution_count": 23,
     "metadata": {},
     "output_type": "execute_result"
    }
   ],
   "source": [
    "# сводная таблица df по user_id и month с количеством звонков calls и общей длительностью звонков duration \n",
    "df = df_calls.pivot_table('duration', ['user_id', 'month'], aggfunc=['count', 'sum'])\\\n",
    "             .set_axis(['calls', 'duration'], axis=1, inplace=False).reset_index()\n",
    "# присоединяем к df данные объему траффика traffic по user_id и month\n",
    "df = df.merge(df_internet.pivot_table('mb_used', ['user_id', 'month'], aggfunc=['sum'])\\\n",
    "           .set_axis(['traffic'], axis=1, inplace=False).reset_index(), on=['user_id', 'month'], how='outer')\n",
    "# присоединяем к df данные по количеству сообщений messages по user_id и month\n",
    "df = df.merge(df_messages.pivot_table('id', ['user_id', 'month'], aggfunc=['count'])\\\n",
    "           .set_axis(['messages'], axis=1, inplace=False).reset_index(), on=['user_id', 'month'], how='outer')\n",
    "# присоединяем к df данные по названию тарифов tariff и city по user_id\n",
    "df = df.merge(df_users[['user_id', 'tariff', 'city']], on='user_id', how='right')\n",
    "\n",
    "df_tariffs = df_tariffs.rename(columns={'tariff_name':'tariff'}) # переименовываем tariff_name в df_tariffs в tariff\n",
    "df = df.merge(df_tariffs, on='tariff') # присоединяем к df данные по тарифам по tariff\n",
    "\n",
    "df.head(10) #выводим первые 10 строчек таблицы"
   ]
  },
  {
   "cell_type": "markdown",
   "metadata": {},
   "source": [
    "Теперь округлим минуты `duration` - в большую сторону, согласно правилам \"Мегалайн\"."
   ]
  },
  {
   "cell_type": "code",
   "execution_count": 24,
   "metadata": {},
   "outputs": [
    {
     "data": {
      "text/html": [
       "<div>\n",
       "<style scoped>\n",
       "    .dataframe tbody tr th:only-of-type {\n",
       "        vertical-align: middle;\n",
       "    }\n",
       "\n",
       "    .dataframe tbody tr th {\n",
       "        vertical-align: top;\n",
       "    }\n",
       "\n",
       "    .dataframe thead th {\n",
       "        text-align: right;\n",
       "    }\n",
       "</style>\n",
       "<table border=\"1\" class=\"dataframe\">\n",
       "  <thead>\n",
       "    <tr style=\"text-align: right;\">\n",
       "      <th></th>\n",
       "      <th>user_id</th>\n",
       "      <th>month</th>\n",
       "      <th>calls</th>\n",
       "      <th>duration</th>\n",
       "      <th>traffic</th>\n",
       "      <th>messages</th>\n",
       "      <th>tariff</th>\n",
       "      <th>city</th>\n",
       "      <th>messages_included</th>\n",
       "      <th>mb_per_month_included</th>\n",
       "      <th>minutes_included</th>\n",
       "      <th>rub_monthly_fee</th>\n",
       "      <th>rub_per_gb</th>\n",
       "      <th>rub_per_message</th>\n",
       "      <th>rub_per_minute</th>\n",
       "    </tr>\n",
       "  </thead>\n",
       "  <tbody>\n",
       "    <tr>\n",
       "      <td>0</td>\n",
       "      <td>1000</td>\n",
       "      <td>August</td>\n",
       "      <td>52.00</td>\n",
       "      <td>390.00</td>\n",
       "      <td>14,055.93</td>\n",
       "      <td>81.00</td>\n",
       "      <td>ultra</td>\n",
       "      <td>Краснодар</td>\n",
       "      <td>1000</td>\n",
       "      <td>30720</td>\n",
       "      <td>3000</td>\n",
       "      <td>1950</td>\n",
       "      <td>150</td>\n",
       "      <td>1</td>\n",
       "      <td>1</td>\n",
       "    </tr>\n",
       "    <tr>\n",
       "      <td>1</td>\n",
       "      <td>1000</td>\n",
       "      <td>December</td>\n",
       "      <td>46.00</td>\n",
       "      <td>313.00</td>\n",
       "      <td>9,817.61</td>\n",
       "      <td>70.00</td>\n",
       "      <td>ultra</td>\n",
       "      <td>Краснодар</td>\n",
       "      <td>1000</td>\n",
       "      <td>30720</td>\n",
       "      <td>3000</td>\n",
       "      <td>1950</td>\n",
       "      <td>150</td>\n",
       "      <td>1</td>\n",
       "      <td>1</td>\n",
       "    </tr>\n",
       "    <tr>\n",
       "      <td>2</td>\n",
       "      <td>1000</td>\n",
       "      <td>July</td>\n",
       "      <td>47.00</td>\n",
       "      <td>319.00</td>\n",
       "      <td>14,003.64</td>\n",
       "      <td>75.00</td>\n",
       "      <td>ultra</td>\n",
       "      <td>Краснодар</td>\n",
       "      <td>1000</td>\n",
       "      <td>30720</td>\n",
       "      <td>3000</td>\n",
       "      <td>1950</td>\n",
       "      <td>150</td>\n",
       "      <td>1</td>\n",
       "      <td>1</td>\n",
       "    </tr>\n",
       "    <tr>\n",
       "      <td>3</td>\n",
       "      <td>1000</td>\n",
       "      <td>June</td>\n",
       "      <td>43.00</td>\n",
       "      <td>159.00</td>\n",
       "      <td>23,233.77</td>\n",
       "      <td>60.00</td>\n",
       "      <td>ultra</td>\n",
       "      <td>Краснодар</td>\n",
       "      <td>1000</td>\n",
       "      <td>30720</td>\n",
       "      <td>3000</td>\n",
       "      <td>1950</td>\n",
       "      <td>150</td>\n",
       "      <td>1</td>\n",
       "      <td>1</td>\n",
       "    </tr>\n",
       "    <tr>\n",
       "      <td>4</td>\n",
       "      <td>1000</td>\n",
       "      <td>May</td>\n",
       "      <td>22.00</td>\n",
       "      <td>151.00</td>\n",
       "      <td>2,253.49</td>\n",
       "      <td>22.00</td>\n",
       "      <td>ultra</td>\n",
       "      <td>Краснодар</td>\n",
       "      <td>1000</td>\n",
       "      <td>30720</td>\n",
       "      <td>3000</td>\n",
       "      <td>1950</td>\n",
       "      <td>150</td>\n",
       "      <td>1</td>\n",
       "      <td>1</td>\n",
       "    </tr>\n",
       "    <tr>\n",
       "      <td>5</td>\n",
       "      <td>1000</td>\n",
       "      <td>November</td>\n",
       "      <td>43.00</td>\n",
       "      <td>320.00</td>\n",
       "      <td>14,756.47</td>\n",
       "      <td>58.00</td>\n",
       "      <td>ultra</td>\n",
       "      <td>Краснодар</td>\n",
       "      <td>1000</td>\n",
       "      <td>30720</td>\n",
       "      <td>3000</td>\n",
       "      <td>1950</td>\n",
       "      <td>150</td>\n",
       "      <td>1</td>\n",
       "      <td>1</td>\n",
       "    </tr>\n",
       "    <tr>\n",
       "      <td>6</td>\n",
       "      <td>1000</td>\n",
       "      <td>October</td>\n",
       "      <td>57.00</td>\n",
       "      <td>329.00</td>\n",
       "      <td>14,702.49</td>\n",
       "      <td>73.00</td>\n",
       "      <td>ultra</td>\n",
       "      <td>Краснодар</td>\n",
       "      <td>1000</td>\n",
       "      <td>30720</td>\n",
       "      <td>3000</td>\n",
       "      <td>1950</td>\n",
       "      <td>150</td>\n",
       "      <td>1</td>\n",
       "      <td>1</td>\n",
       "    </tr>\n",
       "    <tr>\n",
       "      <td>7</td>\n",
       "      <td>1000</td>\n",
       "      <td>September</td>\n",
       "      <td>58.00</td>\n",
       "      <td>441.00</td>\n",
       "      <td>14,568.91</td>\n",
       "      <td>57.00</td>\n",
       "      <td>ultra</td>\n",
       "      <td>Краснодар</td>\n",
       "      <td>1000</td>\n",
       "      <td>30720</td>\n",
       "      <td>3000</td>\n",
       "      <td>1950</td>\n",
       "      <td>150</td>\n",
       "      <td>1</td>\n",
       "      <td>1</td>\n",
       "    </tr>\n",
       "    <tr>\n",
       "      <td>8</td>\n",
       "      <td>1003</td>\n",
       "      <td>August</td>\n",
       "      <td>55.00</td>\n",
       "      <td>356.00</td>\n",
       "      <td>8,565.21</td>\n",
       "      <td>37.00</td>\n",
       "      <td>ultra</td>\n",
       "      <td>Москва</td>\n",
       "      <td>1000</td>\n",
       "      <td>30720</td>\n",
       "      <td>3000</td>\n",
       "      <td>1950</td>\n",
       "      <td>150</td>\n",
       "      <td>1</td>\n",
       "      <td>1</td>\n",
       "    </tr>\n",
       "    <tr>\n",
       "      <td>9</td>\n",
       "      <td>1003</td>\n",
       "      <td>December</td>\n",
       "      <td>108.00</td>\n",
       "      <td>756.00</td>\n",
       "      <td>10,121.53</td>\n",
       "      <td>75.00</td>\n",
       "      <td>ultra</td>\n",
       "      <td>Москва</td>\n",
       "      <td>1000</td>\n",
       "      <td>30720</td>\n",
       "      <td>3000</td>\n",
       "      <td>1950</td>\n",
       "      <td>150</td>\n",
       "      <td>1</td>\n",
       "      <td>1</td>\n",
       "    </tr>\n",
       "  </tbody>\n",
       "</table>\n",
       "</div>"
      ],
      "text/plain": [
       "   user_id      month  calls  duration   traffic  messages tariff       city  \\\n",
       "0     1000     August  52.00    390.00 14,055.93     81.00  ultra  Краснодар   \n",
       "1     1000   December  46.00    313.00  9,817.61     70.00  ultra  Краснодар   \n",
       "2     1000       July  47.00    319.00 14,003.64     75.00  ultra  Краснодар   \n",
       "3     1000       June  43.00    159.00 23,233.77     60.00  ultra  Краснодар   \n",
       "4     1000        May  22.00    151.00  2,253.49     22.00  ultra  Краснодар   \n",
       "5     1000   November  43.00    320.00 14,756.47     58.00  ultra  Краснодар   \n",
       "6     1000    October  57.00    329.00 14,702.49     73.00  ultra  Краснодар   \n",
       "7     1000  September  58.00    441.00 14,568.91     57.00  ultra  Краснодар   \n",
       "8     1003     August  55.00    356.00  8,565.21     37.00  ultra     Москва   \n",
       "9     1003   December 108.00    756.00 10,121.53     75.00  ultra     Москва   \n",
       "\n",
       "   messages_included  mb_per_month_included  minutes_included  \\\n",
       "0               1000                  30720              3000   \n",
       "1               1000                  30720              3000   \n",
       "2               1000                  30720              3000   \n",
       "3               1000                  30720              3000   \n",
       "4               1000                  30720              3000   \n",
       "5               1000                  30720              3000   \n",
       "6               1000                  30720              3000   \n",
       "7               1000                  30720              3000   \n",
       "8               1000                  30720              3000   \n",
       "9               1000                  30720              3000   \n",
       "\n",
       "   rub_monthly_fee  rub_per_gb  rub_per_message  rub_per_minute  \n",
       "0             1950         150                1               1  \n",
       "1             1950         150                1               1  \n",
       "2             1950         150                1               1  \n",
       "3             1950         150                1               1  \n",
       "4             1950         150                1               1  \n",
       "5             1950         150                1               1  \n",
       "6             1950         150                1               1  \n",
       "7             1950         150                1               1  \n",
       "8             1950         150                1               1  \n",
       "9             1950         150                1               1  "
      ]
     },
     "execution_count": 24,
     "metadata": {},
     "output_type": "execute_result"
    }
   ],
   "source": [
    "def duration_ceil(data):                         # создаем функцию округления минут duration_ceil\n",
    "    duration = data['duration']                  # переменная duration соответствует значению столбца duration\n",
    "    return np.ceil(duration)                     # возвращаем округленное вверх значение duration\n",
    "  \n",
    "df['duration'] = df.apply(duration_ceil, axis=1) # применяем фунцкцию duration_ceil к df\n",
    "df.head(10)                                      # выводим первые 10 строк таблицы"
   ]
  },
  {
   "cell_type": "markdown",
   "metadata": {},
   "source": [
    "Теперь необходимо округилть значения использованного интернет-траффика `traffic`, согласно правилам \"Мегалайн\" - в большую сторону до 1024 Мб (1Гб). Далее будем испльзовать гигобайты."
   ]
  },
  {
   "cell_type": "code",
   "execution_count": 25,
   "metadata": {},
   "outputs": [
    {
     "data": {
      "text/html": [
       "<div>\n",
       "<style scoped>\n",
       "    .dataframe tbody tr th:only-of-type {\n",
       "        vertical-align: middle;\n",
       "    }\n",
       "\n",
       "    .dataframe tbody tr th {\n",
       "        vertical-align: top;\n",
       "    }\n",
       "\n",
       "    .dataframe thead th {\n",
       "        text-align: right;\n",
       "    }\n",
       "</style>\n",
       "<table border=\"1\" class=\"dataframe\">\n",
       "  <thead>\n",
       "    <tr style=\"text-align: right;\">\n",
       "      <th></th>\n",
       "      <th>user_id</th>\n",
       "      <th>month</th>\n",
       "      <th>calls</th>\n",
       "      <th>duration</th>\n",
       "      <th>traffic</th>\n",
       "      <th>messages</th>\n",
       "      <th>tariff</th>\n",
       "      <th>city</th>\n",
       "      <th>messages_included</th>\n",
       "      <th>mb_per_month_included</th>\n",
       "      <th>minutes_included</th>\n",
       "      <th>rub_monthly_fee</th>\n",
       "      <th>rub_per_gb</th>\n",
       "      <th>rub_per_message</th>\n",
       "      <th>rub_per_minute</th>\n",
       "    </tr>\n",
       "  </thead>\n",
       "  <tbody>\n",
       "    <tr>\n",
       "      <td>0</td>\n",
       "      <td>1000</td>\n",
       "      <td>August</td>\n",
       "      <td>52.00</td>\n",
       "      <td>390.00</td>\n",
       "      <td>14.00</td>\n",
       "      <td>81.00</td>\n",
       "      <td>ultra</td>\n",
       "      <td>Краснодар</td>\n",
       "      <td>1000</td>\n",
       "      <td>30720</td>\n",
       "      <td>3000</td>\n",
       "      <td>1950</td>\n",
       "      <td>150</td>\n",
       "      <td>1</td>\n",
       "      <td>1</td>\n",
       "    </tr>\n",
       "    <tr>\n",
       "      <td>1</td>\n",
       "      <td>1000</td>\n",
       "      <td>December</td>\n",
       "      <td>46.00</td>\n",
       "      <td>313.00</td>\n",
       "      <td>10.00</td>\n",
       "      <td>70.00</td>\n",
       "      <td>ultra</td>\n",
       "      <td>Краснодар</td>\n",
       "      <td>1000</td>\n",
       "      <td>30720</td>\n",
       "      <td>3000</td>\n",
       "      <td>1950</td>\n",
       "      <td>150</td>\n",
       "      <td>1</td>\n",
       "      <td>1</td>\n",
       "    </tr>\n",
       "    <tr>\n",
       "      <td>2</td>\n",
       "      <td>1000</td>\n",
       "      <td>July</td>\n",
       "      <td>47.00</td>\n",
       "      <td>319.00</td>\n",
       "      <td>14.00</td>\n",
       "      <td>75.00</td>\n",
       "      <td>ultra</td>\n",
       "      <td>Краснодар</td>\n",
       "      <td>1000</td>\n",
       "      <td>30720</td>\n",
       "      <td>3000</td>\n",
       "      <td>1950</td>\n",
       "      <td>150</td>\n",
       "      <td>1</td>\n",
       "      <td>1</td>\n",
       "    </tr>\n",
       "    <tr>\n",
       "      <td>3</td>\n",
       "      <td>1000</td>\n",
       "      <td>June</td>\n",
       "      <td>43.00</td>\n",
       "      <td>159.00</td>\n",
       "      <td>23.00</td>\n",
       "      <td>60.00</td>\n",
       "      <td>ultra</td>\n",
       "      <td>Краснодар</td>\n",
       "      <td>1000</td>\n",
       "      <td>30720</td>\n",
       "      <td>3000</td>\n",
       "      <td>1950</td>\n",
       "      <td>150</td>\n",
       "      <td>1</td>\n",
       "      <td>1</td>\n",
       "    </tr>\n",
       "    <tr>\n",
       "      <td>4</td>\n",
       "      <td>1000</td>\n",
       "      <td>May</td>\n",
       "      <td>22.00</td>\n",
       "      <td>151.00</td>\n",
       "      <td>3.00</td>\n",
       "      <td>22.00</td>\n",
       "      <td>ultra</td>\n",
       "      <td>Краснодар</td>\n",
       "      <td>1000</td>\n",
       "      <td>30720</td>\n",
       "      <td>3000</td>\n",
       "      <td>1950</td>\n",
       "      <td>150</td>\n",
       "      <td>1</td>\n",
       "      <td>1</td>\n",
       "    </tr>\n",
       "    <tr>\n",
       "      <td>5</td>\n",
       "      <td>1000</td>\n",
       "      <td>November</td>\n",
       "      <td>43.00</td>\n",
       "      <td>320.00</td>\n",
       "      <td>15.00</td>\n",
       "      <td>58.00</td>\n",
       "      <td>ultra</td>\n",
       "      <td>Краснодар</td>\n",
       "      <td>1000</td>\n",
       "      <td>30720</td>\n",
       "      <td>3000</td>\n",
       "      <td>1950</td>\n",
       "      <td>150</td>\n",
       "      <td>1</td>\n",
       "      <td>1</td>\n",
       "    </tr>\n",
       "    <tr>\n",
       "      <td>6</td>\n",
       "      <td>1000</td>\n",
       "      <td>October</td>\n",
       "      <td>57.00</td>\n",
       "      <td>329.00</td>\n",
       "      <td>15.00</td>\n",
       "      <td>73.00</td>\n",
       "      <td>ultra</td>\n",
       "      <td>Краснодар</td>\n",
       "      <td>1000</td>\n",
       "      <td>30720</td>\n",
       "      <td>3000</td>\n",
       "      <td>1950</td>\n",
       "      <td>150</td>\n",
       "      <td>1</td>\n",
       "      <td>1</td>\n",
       "    </tr>\n",
       "    <tr>\n",
       "      <td>7</td>\n",
       "      <td>1000</td>\n",
       "      <td>September</td>\n",
       "      <td>58.00</td>\n",
       "      <td>441.00</td>\n",
       "      <td>15.00</td>\n",
       "      <td>57.00</td>\n",
       "      <td>ultra</td>\n",
       "      <td>Краснодар</td>\n",
       "      <td>1000</td>\n",
       "      <td>30720</td>\n",
       "      <td>3000</td>\n",
       "      <td>1950</td>\n",
       "      <td>150</td>\n",
       "      <td>1</td>\n",
       "      <td>1</td>\n",
       "    </tr>\n",
       "    <tr>\n",
       "      <td>8</td>\n",
       "      <td>1003</td>\n",
       "      <td>August</td>\n",
       "      <td>55.00</td>\n",
       "      <td>356.00</td>\n",
       "      <td>9.00</td>\n",
       "      <td>37.00</td>\n",
       "      <td>ultra</td>\n",
       "      <td>Москва</td>\n",
       "      <td>1000</td>\n",
       "      <td>30720</td>\n",
       "      <td>3000</td>\n",
       "      <td>1950</td>\n",
       "      <td>150</td>\n",
       "      <td>1</td>\n",
       "      <td>1</td>\n",
       "    </tr>\n",
       "    <tr>\n",
       "      <td>9</td>\n",
       "      <td>1003</td>\n",
       "      <td>December</td>\n",
       "      <td>108.00</td>\n",
       "      <td>756.00</td>\n",
       "      <td>10.00</td>\n",
       "      <td>75.00</td>\n",
       "      <td>ultra</td>\n",
       "      <td>Москва</td>\n",
       "      <td>1000</td>\n",
       "      <td>30720</td>\n",
       "      <td>3000</td>\n",
       "      <td>1950</td>\n",
       "      <td>150</td>\n",
       "      <td>1</td>\n",
       "      <td>1</td>\n",
       "    </tr>\n",
       "  </tbody>\n",
       "</table>\n",
       "</div>"
      ],
      "text/plain": [
       "   user_id      month  calls  duration  traffic  messages tariff       city  \\\n",
       "0     1000     August  52.00    390.00    14.00     81.00  ultra  Краснодар   \n",
       "1     1000   December  46.00    313.00    10.00     70.00  ultra  Краснодар   \n",
       "2     1000       July  47.00    319.00    14.00     75.00  ultra  Краснодар   \n",
       "3     1000       June  43.00    159.00    23.00     60.00  ultra  Краснодар   \n",
       "4     1000        May  22.00    151.00     3.00     22.00  ultra  Краснодар   \n",
       "5     1000   November  43.00    320.00    15.00     58.00  ultra  Краснодар   \n",
       "6     1000    October  57.00    329.00    15.00     73.00  ultra  Краснодар   \n",
       "7     1000  September  58.00    441.00    15.00     57.00  ultra  Краснодар   \n",
       "8     1003     August  55.00    356.00     9.00     37.00  ultra     Москва   \n",
       "9     1003   December 108.00    756.00    10.00     75.00  ultra     Москва   \n",
       "\n",
       "   messages_included  mb_per_month_included  minutes_included  \\\n",
       "0               1000                  30720              3000   \n",
       "1               1000                  30720              3000   \n",
       "2               1000                  30720              3000   \n",
       "3               1000                  30720              3000   \n",
       "4               1000                  30720              3000   \n",
       "5               1000                  30720              3000   \n",
       "6               1000                  30720              3000   \n",
       "7               1000                  30720              3000   \n",
       "8               1000                  30720              3000   \n",
       "9               1000                  30720              3000   \n",
       "\n",
       "   rub_monthly_fee  rub_per_gb  rub_per_message  rub_per_minute  \n",
       "0             1950         150                1               1  \n",
       "1             1950         150                1               1  \n",
       "2             1950         150                1               1  \n",
       "3             1950         150                1               1  \n",
       "4             1950         150                1               1  \n",
       "5             1950         150                1               1  \n",
       "6             1950         150                1               1  \n",
       "7             1950         150                1               1  \n",
       "8             1950         150                1               1  \n",
       "9             1950         150                1               1  "
      ]
     },
     "execution_count": 25,
     "metadata": {},
     "output_type": "execute_result"
    }
   ],
   "source": [
    "def traffic_round(data):                        # создаем функцию округления объема интернет-траффика traffic_round \n",
    "    n = np.floor(data['traffic']/1024)               # переменная n считает количество использованных Гб\n",
    "    if not data['traffic'] % 1024 == 0:         # если значение траффика - неполные Гб\n",
    "        return (n+1)                            # возвращаем округленное вверх значение\n",
    "    else:                                       # если нет\n",
    "        return n                                # возвращаем значение\n",
    "\n",
    "df['traffic'] = df.apply(traffic_round, axis=1) # применяем фунцкцию traffic_round к df\n",
    "df.head(10)                                     # выводим первые 10 строк таблицы"
   ]
  },
  {
   "cell_type": "markdown",
   "metadata": {},
   "source": [
    "Теперь добавим в таблицу `df` столбец с выручкой `proceeds` по каждому пользователю за каждый месяц."
   ]
  },
  {
   "cell_type": "code",
   "execution_count": 26,
   "metadata": {},
   "outputs": [
    {
     "name": "stdout",
     "output_type": "stream",
     "text": [
      "<class 'pandas.core.frame.DataFrame'>\n",
      "Int64Index: 3202 entries, 0 to 3201\n",
      "Data columns (total 16 columns):\n",
      "user_id                  3202 non-null int64\n",
      "month                    3202 non-null object\n",
      "calls                    3162 non-null float64\n",
      "duration                 3162 non-null float64\n",
      "traffic                  3191 non-null float64\n",
      "messages                 2707 non-null float64\n",
      "tariff                   3202 non-null object\n",
      "city                     3202 non-null object\n",
      "messages_included        3202 non-null int64\n",
      "mb_per_month_included    3202 non-null int64\n",
      "minutes_included         3202 non-null int64\n",
      "rub_monthly_fee          3202 non-null int64\n",
      "rub_per_gb               3202 non-null int64\n",
      "rub_per_message          3202 non-null int64\n",
      "rub_per_minute           3202 non-null int64\n",
      "proceeds                 3202 non-null float64\n",
      "dtypes: float64(5), int64(8), object(3)\n",
      "memory usage: 425.3+ KB\n"
     ]
    },
    {
     "data": {
      "text/html": [
       "<div>\n",
       "<style scoped>\n",
       "    .dataframe tbody tr th:only-of-type {\n",
       "        vertical-align: middle;\n",
       "    }\n",
       "\n",
       "    .dataframe tbody tr th {\n",
       "        vertical-align: top;\n",
       "    }\n",
       "\n",
       "    .dataframe thead th {\n",
       "        text-align: right;\n",
       "    }\n",
       "</style>\n",
       "<table border=\"1\" class=\"dataframe\">\n",
       "  <thead>\n",
       "    <tr style=\"text-align: right;\">\n",
       "      <th></th>\n",
       "      <th>user_id</th>\n",
       "      <th>month</th>\n",
       "      <th>calls</th>\n",
       "      <th>duration</th>\n",
       "      <th>traffic</th>\n",
       "      <th>messages</th>\n",
       "      <th>tariff</th>\n",
       "      <th>city</th>\n",
       "      <th>messages_included</th>\n",
       "      <th>mb_per_month_included</th>\n",
       "      <th>minutes_included</th>\n",
       "      <th>rub_monthly_fee</th>\n",
       "      <th>rub_per_gb</th>\n",
       "      <th>rub_per_message</th>\n",
       "      <th>rub_per_minute</th>\n",
       "      <th>proceeds</th>\n",
       "    </tr>\n",
       "  </thead>\n",
       "  <tbody>\n",
       "    <tr>\n",
       "      <td>0</td>\n",
       "      <td>1000</td>\n",
       "      <td>August</td>\n",
       "      <td>52.00</td>\n",
       "      <td>390.00</td>\n",
       "      <td>14.00</td>\n",
       "      <td>81.00</td>\n",
       "      <td>ultra</td>\n",
       "      <td>Краснодар</td>\n",
       "      <td>1000</td>\n",
       "      <td>30720</td>\n",
       "      <td>3000</td>\n",
       "      <td>1950</td>\n",
       "      <td>150</td>\n",
       "      <td>1</td>\n",
       "      <td>1</td>\n",
       "      <td>1,950.00</td>\n",
       "    </tr>\n",
       "    <tr>\n",
       "      <td>1</td>\n",
       "      <td>1000</td>\n",
       "      <td>December</td>\n",
       "      <td>46.00</td>\n",
       "      <td>313.00</td>\n",
       "      <td>10.00</td>\n",
       "      <td>70.00</td>\n",
       "      <td>ultra</td>\n",
       "      <td>Краснодар</td>\n",
       "      <td>1000</td>\n",
       "      <td>30720</td>\n",
       "      <td>3000</td>\n",
       "      <td>1950</td>\n",
       "      <td>150</td>\n",
       "      <td>1</td>\n",
       "      <td>1</td>\n",
       "      <td>1,950.00</td>\n",
       "    </tr>\n",
       "    <tr>\n",
       "      <td>2</td>\n",
       "      <td>1000</td>\n",
       "      <td>July</td>\n",
       "      <td>47.00</td>\n",
       "      <td>319.00</td>\n",
       "      <td>14.00</td>\n",
       "      <td>75.00</td>\n",
       "      <td>ultra</td>\n",
       "      <td>Краснодар</td>\n",
       "      <td>1000</td>\n",
       "      <td>30720</td>\n",
       "      <td>3000</td>\n",
       "      <td>1950</td>\n",
       "      <td>150</td>\n",
       "      <td>1</td>\n",
       "      <td>1</td>\n",
       "      <td>1,950.00</td>\n",
       "    </tr>\n",
       "    <tr>\n",
       "      <td>3</td>\n",
       "      <td>1000</td>\n",
       "      <td>June</td>\n",
       "      <td>43.00</td>\n",
       "      <td>159.00</td>\n",
       "      <td>23.00</td>\n",
       "      <td>60.00</td>\n",
       "      <td>ultra</td>\n",
       "      <td>Краснодар</td>\n",
       "      <td>1000</td>\n",
       "      <td>30720</td>\n",
       "      <td>3000</td>\n",
       "      <td>1950</td>\n",
       "      <td>150</td>\n",
       "      <td>1</td>\n",
       "      <td>1</td>\n",
       "      <td>1,950.00</td>\n",
       "    </tr>\n",
       "    <tr>\n",
       "      <td>4</td>\n",
       "      <td>1000</td>\n",
       "      <td>May</td>\n",
       "      <td>22.00</td>\n",
       "      <td>151.00</td>\n",
       "      <td>3.00</td>\n",
       "      <td>22.00</td>\n",
       "      <td>ultra</td>\n",
       "      <td>Краснодар</td>\n",
       "      <td>1000</td>\n",
       "      <td>30720</td>\n",
       "      <td>3000</td>\n",
       "      <td>1950</td>\n",
       "      <td>150</td>\n",
       "      <td>1</td>\n",
       "      <td>1</td>\n",
       "      <td>1,950.00</td>\n",
       "    </tr>\n",
       "  </tbody>\n",
       "</table>\n",
       "</div>"
      ],
      "text/plain": [
       "   user_id     month  calls  duration  traffic  messages tariff       city  \\\n",
       "0     1000    August  52.00    390.00    14.00     81.00  ultra  Краснодар   \n",
       "1     1000  December  46.00    313.00    10.00     70.00  ultra  Краснодар   \n",
       "2     1000      July  47.00    319.00    14.00     75.00  ultra  Краснодар   \n",
       "3     1000      June  43.00    159.00    23.00     60.00  ultra  Краснодар   \n",
       "4     1000       May  22.00    151.00     3.00     22.00  ultra  Краснодар   \n",
       "\n",
       "   messages_included  mb_per_month_included  minutes_included  \\\n",
       "0               1000                  30720              3000   \n",
       "1               1000                  30720              3000   \n",
       "2               1000                  30720              3000   \n",
       "3               1000                  30720              3000   \n",
       "4               1000                  30720              3000   \n",
       "\n",
       "   rub_monthly_fee  rub_per_gb  rub_per_message  rub_per_minute  proceeds  \n",
       "0             1950         150                1               1  1,950.00  \n",
       "1             1950         150                1               1  1,950.00  \n",
       "2             1950         150                1               1  1,950.00  \n",
       "3             1950         150                1               1  1,950.00  \n",
       "4             1950         150                1               1  1,950.00  "
      ]
     },
     "execution_count": 26,
     "metadata": {},
     "output_type": "execute_result"
    }
   ],
   "source": [
    "def proceeds(data):   # создаем функцию определения выручки за месяц proceeds\n",
    "    over_minutes = 0  # стоимость доп минут - ноль, в рамках лимита по тарифу\n",
    "    over_gb = 0       # стоимость доп Гб - ноль, в рамках лимита по тарифу\n",
    "    over_messages = 0 # стоимость доп сообщений - ноль, в рамках лимита по тарифу\n",
    "    if data['duration'] > data['minutes_included']:                                              # если есть доп минуты\n",
    "        over_minutes = (data['duration'] - data['minutes_included']) * data['rub_per_minute']    # стоимость доп минут\n",
    "    if data['traffic'] > (data['mb_per_month_included'] / 1024):                                 # если есть доп Гб\n",
    "        over_gb = (data['traffic'] - data['mb_per_month_included'] / 1024) * data['rub_per_gb']  # стоимость доп Гб\n",
    "    if data['messages'] > data['messages']:                                                      # если есть доп сообщения\n",
    "        over_messages = (data['messages'] - data['messages_included']) * data['rub_per_message'] # стоимость доп сообщений\n",
    "    return data['rub_monthly_fee'] + over_minutes + over_gb + over_messages                      # итоговая сумма\n",
    "\n",
    "df['proceeds'] = df.apply(proceeds, axis=1) # применяем функцию proceeds к df\n",
    "df.info()                                   # выведем информацию о таблице df\n",
    "df.head()"
   ]
  },
  {
   "cell_type": "markdown",
   "metadata": {},
   "source": [
    "### Выводы\n",
    "<a id='pre_result'></a>\n",
    "1. В сводной таблице содержатся данные о 486 пользователях в период за 2018 год.\n",
    "2. Выборка пользователей похожа на случайную.\n",
    "3. Данные содержат основную информацию о пользовании услуг клиентами."
   ]
  },
  {
   "cell_type": "markdown",
   "metadata": {},
   "source": [
    "## Анализ данных\n",
    "<a id='analys'></a>\n",
    "\n",
    "Оценим поведение пользователей каждого тарифа в месяц:\n",
    "- требуемые минуты разговора;\n",
    "- необходимый объем интернет-траффика;\n",
    "- требуемое количество сообщений.\n",
    "\n",
    "Для каждого параметра посчитаем также  среднее количество, дисперсию и стандартное отклонение. И построим гистограммы."
   ]
  },
  {
   "cell_type": "code",
   "execution_count": 27,
   "metadata": {
    "scrolled": true
   },
   "outputs": [
    {
     "data": {
      "text/html": [
       "<div>\n",
       "<style scoped>\n",
       "    .dataframe tbody tr th:only-of-type {\n",
       "        vertical-align: middle;\n",
       "    }\n",
       "\n",
       "    .dataframe tbody tr th {\n",
       "        vertical-align: top;\n",
       "    }\n",
       "\n",
       "    .dataframe thead tr th {\n",
       "        text-align: left;\n",
       "    }\n",
       "\n",
       "    .dataframe thead tr:last-of-type th {\n",
       "        text-align: right;\n",
       "    }\n",
       "</style>\n",
       "<table border=\"1\" class=\"dataframe\">\n",
       "  <thead>\n",
       "    <tr>\n",
       "      <th></th>\n",
       "      <th colspan=\"3\" halign=\"left\">duration</th>\n",
       "      <th colspan=\"3\" halign=\"left\">traffic</th>\n",
       "      <th colspan=\"3\" halign=\"left\">messages</th>\n",
       "    </tr>\n",
       "    <tr>\n",
       "      <th></th>\n",
       "      <th>median</th>\n",
       "      <th>var</th>\n",
       "      <th>std</th>\n",
       "      <th>median</th>\n",
       "      <th>var</th>\n",
       "      <th>std</th>\n",
       "      <th>median</th>\n",
       "      <th>var</th>\n",
       "      <th>std</th>\n",
       "    </tr>\n",
       "    <tr>\n",
       "      <th>tariff</th>\n",
       "      <th></th>\n",
       "      <th></th>\n",
       "      <th></th>\n",
       "      <th></th>\n",
       "      <th></th>\n",
       "      <th></th>\n",
       "      <th></th>\n",
       "      <th></th>\n",
       "      <th></th>\n",
       "    </tr>\n",
       "  </thead>\n",
       "  <tbody>\n",
       "    <tr>\n",
       "      <td>smart</td>\n",
       "      <td>398</td>\n",
       "      <td>32077</td>\n",
       "      <td>179</td>\n",
       "      <td>17</td>\n",
       "      <td>32</td>\n",
       "      <td>5</td>\n",
       "      <td>33</td>\n",
       "      <td>717</td>\n",
       "      <td>26</td>\n",
       "    </tr>\n",
       "    <tr>\n",
       "      <td>ultra</td>\n",
       "      <td>498</td>\n",
       "      <td>84133</td>\n",
       "      <td>290</td>\n",
       "      <td>19</td>\n",
       "      <td>94</td>\n",
       "      <td>9</td>\n",
       "      <td>51</td>\n",
       "      <td>2101</td>\n",
       "      <td>45</td>\n",
       "    </tr>\n",
       "  </tbody>\n",
       "</table>\n",
       "</div>"
      ],
      "text/plain": [
       "       duration             traffic         messages          \n",
       "         median    var  std  median var std   median   var std\n",
       "tariff                                                        \n",
       "smart       398  32077  179      17  32   5       33   717  26\n",
       "ultra       498  84133  290      19  94   9       51  2101  45"
      ]
     },
     "execution_count": 27,
     "metadata": {},
     "output_type": "execute_result"
    }
   ],
   "source": [
    "# таблица с основными показателями по duration, traffic, messages \n",
    "df.groupby('tariff')[['duration','traffic' ,'messages']].agg(['median', 'var', 'std']).astype('int')  "
   ]
  },
  {
   "cell_type": "markdown",
   "metadata": {},
   "source": [
    "Для удобства разделим нашу таблицу на две, в зависимости от используемого тарифа."
   ]
  },
  {
   "cell_type": "code",
   "execution_count": 28,
   "metadata": {},
   "outputs": [],
   "source": [
    "# таблица df_smart с основными данными по тарифу smart\n",
    "df_smart = df.query('tariff in \"smart\"')\\\n",
    "             .groupby('user_id')['duration','traffic' ,'messages', 'proceeds'].agg('median')\\\n",
    "             .reset_index()\n",
    "\n",
    "# таблица df_ultra с основными данными по тарифу ultra\n",
    "df_ultra = df.query('tariff in \"ultra\"')\\\n",
    "             .groupby('user_id')['duration','traffic' ,'messages', 'proceeds'].agg('median')\\\n",
    "             .reset_index()"
   ]
  },
  {
   "cell_type": "code",
   "execution_count": 29,
   "metadata": {},
   "outputs": [
    {
     "data": {
      "image/png": "[encoded data removed]",
      "text/plain": [
       "<Figure size 720x288 with 2 Axes>"
      ]
     },
     "metadata": {
      "image/png": {
       "height": 279,
       "width": 711
      },
      "needs_background": "light"
     },
     "output_type": "display_data"
    },
    {
     "data": {
      "image/png": "[encoded data removed]",
      "text/plain": [
       "<Figure size 720x288 with 2 Axes>"
      ]
     },
     "metadata": {
      "image/png": {
       "height": 279,
       "width": 711
      },
      "needs_background": "light"
     },
     "output_type": "display_data"
    },
    {
     "data": {
      "image/png": "[encoded data removed]",
      "text/plain": [
       "<Figure size 720x288 with 2 Axes>"
      ]
     },
     "metadata": {
      "image/png": {
       "height": 279,
       "width": 711
      },
      "needs_background": "light"
     },
     "output_type": "display_data"
    }
   ],
   "source": [
    "for index in range(1,4):                       # для данных duration, traffic, messages\n",
    "    fig = plt.figure(figsize=(10,4))\n",
    "    ax1 = fig.add_subplot(1,2,1)\n",
    "    ax2 = fig.add_subplot(1,2,2)\n",
    "    ax1.hist(df_smart.iloc[:, index], bins=30) # строим гистограммы для тарифа smart\n",
    "    ax1.set_title('Тариф Смарт')\n",
    "    ax1.set_xlabel(df_smart.columns[index])\n",
    "    ax2.hist(df_ultra.iloc[:, index], bins=30) # строим гистограммы для тарифа ultra\n",
    "    ax2.set_title('Тариф Ультра')\n",
    "    ax2.set_xlabel(df_ultra.columns[index])\n",
    "    fig.tight_layout()\n",
    "    plt.show()"
   ]
  },
  {
   "cell_type": "markdown",
   "metadata": {},
   "source": [
    "**Выводы:**\n",
    "\n",
    "*Длительность разговоров:*\n",
    "- Среднее время вызовов за месяц на обоих тарифах отличаются всего на 100 мин. - не так сильно как лимиты в пакетах. На тарифе \"Cмарт\" длительность составляет 417 мин. (лимит 500 мин.) и на тарифе \"Ультра\" - 514 мин.(лимит 3000). \n",
    "- Длительность вызовов рапределена нормально. Можно говорить о том, что 95% пользователей укладывается в диапазон 117-717 минут на тарифе \"Смарт\" (т.е. с превышением лимита) и в диапазон 40-1068 минут на тарифе \"Ультра\" (т.е. с запасом более 200%).\n",
    "\n",
    "*Объем интернет-траффика:*\n",
    "- Средний объем использованного интернет-траффика в месяц также примерно одинаковый. Для тарифа \"Смарт\" - 17Гб (лимит 15 Гб) и 20Гб для тарифа \"Ультра\" (30Гб). БОльшенству на тарифе \"Смарт\" приходится ежемесячно доплачивать за использованный интернет-траффик.\n",
    "- Распределение интернет-траффика близко к нормальному. Хотя для тарифа \"Ультра\" более широкое распределение. 95% пользователей используют в месяц 9-25 Гб на тарифе \"Смарт\" и 4-36 Гб на тарифе \"Ультра\". Превышение лимитов случается на обоих тарифах, но на тарифе \"Смарт\" намного чаще.\n",
    "\n",
    "*Количество отправленных сообщений:*\n",
    "- Среднее количество сообщений в месяц на тарифах \"Смарт\" и \"Ультра\" отличаются почти в 2 раза. Для тарифа \"Смарт\" это 35 сообщений (при лимите 50) и на тарифе \"Ультра\" 65 сообщений (при лимите 1000).\n",
    "- Распределение количества отправленных сообщений по обоим тарифам близко к нормальному, скошенному влево. Что свидетельствует о меньшей непопулярности такого вида связи. 95% пользователей ежемесячно отправляют до 86 сообщений на тарифе \"Смарт\" и до 153 сообщений на тарифе \"Ультра\", что свидетельствует о частом привышении лимитов на тарифе \"Смарт\" и огромнейшем запасе сообщений на тарифе \"Ультра\"."
   ]
  },
  {
   "cell_type": "markdown",
   "metadata": {},
   "source": [
    "## Проверка гипотез\n",
    "<a id='hyp'></a>"
   ]
  },
  {
   "cell_type": "markdown",
   "metadata": {},
   "source": [
    "Теперь необходимо проверить две гипотезы. Для каждой сформулируем нулевую (о равенстве средних) и альтернативную гипотезы, а также уровень значимости.  \n",
    "\n",
    "Посчитаем p-value для сравнения средних двух выборок.\n",
    "\n",
    "Если p-value будет меньше выбранного уровня значимости $\\alpha$, то нулевую гипотезу о равенстве средних отвергнем. Иначе сделаем вывод, что данные не позволили нам отвергнуть нулевую гипотезу.\n"
   ]
  },
  {
   "cell_type": "markdown",
   "metadata": {},
   "source": [
    "### Первая гипотеза\n",
    "<a id='hyp1'></a>\n"
   ]
  },
  {
   "cell_type": "markdown",
   "metadata": {},
   "source": [
    "**\"Средняя выручка пользователей тарифов \"Ультра\" и \"Смарт\" различаются\".**\n",
    "\n",
    "Сформулируем нулевую и альтернативную гипотезы для односторонней проверки, ведь цель - узнать, какой тариф приносит больше дохода. \n",
    "\n",
    "$\\begin{equation*}\n",
    " \\begin{cases}\n",
    "   H_0 :\\text{Средняя выручка пользователей тарифов \"Ультра\" и \"Смарт\" одинаковы.}\\\\\n",
    "   H_1 :\\text{Средняя выручка пользователей тарифа \"Ультра\" больше тарифа \"Смарт\".}\n",
    " \\end{cases}\n",
    "\\end{equation*}$\n",
    "\n",
    "Уровень значимости: $\\alpha = 0.05$\n",
    "\n",
    "Проверим нормальность распределения при помощи QQ-графиков."
   ]
  },
  {
   "cell_type": "code",
   "execution_count": 30,
   "metadata": {},
   "outputs": [
    {
     "data": {
      "image/png": "[encoded data removed]",
      "text/plain": [
       "<Figure size 864x576 with 2 Axes>"
      ]
     },
     "metadata": {
      "image/png": {
       "height": 257,
       "width": 730
      },
      "needs_background": "light"
     },
     "output_type": "display_data"
    }
   ],
   "source": [
    "# строим qq-plot для нормального распределения\n",
    "plt.figure(figsize=(12,8))\n",
    "plt.subplot(2,2,1)\n",
    "st.probplot(df_smart['proceeds'], dist=\"norm\", plot=plt) # для proceeds тарифа smart\n",
    "plt.title('Тариф \"Смарт\"')\n",
    "plt.subplot(2,2,2)\n",
    "st.probplot(df_ultra['proceeds'], dist=\"norm\", plot=plt) # для proceeds тарифа ultra\n",
    "plt.title('Тариф \"Ультра\"')\n",
    "plt.show()"
   ]
  },
  {
   "cell_type": "markdown",
   "metadata": {},
   "source": [
    "Распределение данных по выручке на тарифе \"Смарт\" - не нормальное, на тарифе \"Ультра\" - нормальное.  Поэтому будем использовать в качестве оценки - критерий Манна-Уитни."
   ]
  },
  {
   "cell_type": "code",
   "execution_count": 31,
   "metadata": {},
   "outputs": [
    {
     "name": "stdout",
     "output_type": "stream",
     "text": [
      "p-значение:  3.218394483922458e-39\n",
      "Отвергаем нулевую гипотезу\n"
     ]
    }
   ],
   "source": [
    "alpha = 0.05 # уровень значимости\n",
    "\n",
    "results = st.mannwhitneyu(df_ultra['proceeds'], df_smart['proceeds'], alternative='greater') # критерий Манна-Уитни\n",
    "print('p-значение: ', results.pvalue)\n",
    "\n",
    "if (results.pvalue < alpha):\n",
    "    print(\"Отвергаем нулевую гипотезу\")\n",
    "else:\n",
    "    print(\"Не получилось отвергнуть нулевую гипотезу\")"
   ]
  },
  {
   "cell_type": "markdown",
   "metadata": {},
   "source": [
    "Сравним среднюю и общую выручку по тарифам."
   ]
  },
  {
   "cell_type": "code",
   "execution_count": 32,
   "metadata": {},
   "outputs": [
    {
     "name": "stdout",
     "output_type": "stream",
     "text": [
      "Средняя выручка по тарифу \"Смарт\" 1235 руб. \n",
      "Средняя выручка по тарифу \"Ультра\" 2063 руб. \n",
      "\n",
      "Общая выручка по тарифу \"Смарт\" 421150 руб. \n",
      "Общая выручка по тарифу \"Ультра\" 299250 руб.\n"
     ]
    }
   ],
   "source": [
    "print('Средняя выручка по тарифу \"Смарт\"', int(df_smart['proceeds'].mean()), 'руб.','\\n'\n",
    "      'Средняя выручка по тарифу \"Ультра\"', int(df_ultra['proceeds'].mean()), 'руб.','\\n')\n",
    "\n",
    "print('Общая выручка по тарифу \"Смарт\"', int(df_smart['proceeds'].sum()), 'руб.','\\n'\n",
    "      'Общая выручка по тарифу \"Ультра\"', int(df_ultra['proceeds'].sum()), 'руб.')"
   ]
  },
  {
   "cell_type": "markdown",
   "metadata": {},
   "source": [
    "**Вывод:**\n",
    "\n",
    "На имеющихся данных, на уровне значимости 5% есть основания отвергнуть нулевую гипотезу в пользу альтернативной. Средняя выручка пользователей тарифа \"Ультра\" больше, чем тарифа \"Смарт\"."
   ]
  },
  {
   "cell_type": "markdown",
   "metadata": {},
   "source": [
    "### Вторая гипотеза\n",
    "<a id='hyp2'></a>\n",
    "\n",
    "**\"Средняя выручка пользователей из Москвы отличается от выручки пользователей из других регионов\".**\n",
    "\n",
    "Сформулируем нулевую и альтернативную гипотезы для двухсторонней проверки.\n",
    "\n",
    "$\\begin{equation*}\n",
    " \\begin{cases}\n",
    "   H_0 :\\text{Средняя выручка пользователей из Москвы и из других регионов одинаковы.}\\\\\n",
    "   H_1 :\\text{Средняя выручка пользователей из Москвы и из других регионов различаются.}\n",
    " \\end{cases}\n",
    "\\end{equation*}$\n",
    "\n",
    "Уровень значимости: $\\alpha = 0.05$\n",
    "\n",
    "Проверим нормальность распределения при помощи QQ-графиков."
   ]
  },
  {
   "cell_type": "code",
   "execution_count": 33,
   "metadata": {},
   "outputs": [
    {
     "data": {
      "image/png": "[encoded data removed]",
      "text/plain": [
       "<Figure size 864x576 with 2 Axes>"
      ]
     },
     "metadata": {
      "image/png": {
       "height": 257,
       "width": 730
      },
      "needs_background": "light"
     },
     "output_type": "display_data"
    }
   ],
   "source": [
    "# строим qq-plot для нормального распределения\n",
    "plt.figure(figsize=(12,8))\n",
    "plt.subplot(2,2,1)\n",
    "st.probplot(df.query('city in \"Москва\"')['proceeds'], dist=\"norm\", plot=plt)     # для proceeds по Москве\n",
    "plt.title('Москва')\n",
    "plt.subplot(2,2,2)\n",
    "st.probplot(df.query('not city in \"Москва\"')['proceeds'], dist=\"norm\", plot=plt) # для proceeds по другим регионам\n",
    "plt.title('Другие регионы')\n",
    "plt.show()"
   ]
  },
  {
   "cell_type": "markdown",
   "metadata": {},
   "source": [
    "Оба распределения выручки по Москве и другим регионам - не нормальные. Поэтому будем использовать в качестве оценки - критерий Манна-Уитни."
   ]
  },
  {
   "cell_type": "code",
   "execution_count": 34,
   "metadata": {},
   "outputs": [
    {
     "name": "stdout",
     "output_type": "stream",
     "text": [
      "p-значение:  0.21145620734200632\n",
      "Не получилось отвергнуть нулевую гипотезу\n"
     ]
    }
   ],
   "source": [
    "alpha = 0.05 # уровень значимости\n",
    "\n",
    "results = st.mannwhitneyu(df.query('city in \"Москва\"')['proceeds'],     # критерий Манна-Уитни\n",
    "                          df.query('not city in \"Москва\"')['proceeds'],\n",
    "                          alternative='two-sided')\n",
    "print('p-значение: ', results.pvalue)\n",
    "\n",
    "if (results.pvalue < alpha):\n",
    "    print(\"Отвергаем нулевую гипотезу\")\n",
    "else:\n",
    "    print(\"Не получилось отвергнуть нулевую гипотезу\")"
   ]
  },
  {
   "cell_type": "markdown",
   "metadata": {},
   "source": [
    "**Вывод:**\n",
    "\n",
    "На имеющихся данных, на уровне значимости 5% нет основания отвергнуть нулевую гипотезу. Средняя выручка пользователей из Москвы не отличается от выручки пользователей из других регионов."
   ]
  },
  {
   "cell_type": "markdown",
   "metadata": {},
   "source": [
    "## Общий вывод\n",
    "<a id='result'></a>\n",
    "В настоящем проекте были проанализированы данные о пользователях двух тарифов компании \"Мегалайн\" в течение 2018 года - тарифа \"Смарт\" и тарифа \"Ультра\". Есть общие наблюдения:\n",
    "\n",
    "- Пользователи тарифом \"Смарт\" чаще доплачивают за дополнительные минуты, гигобайты и сообщения. \n",
    "- Пользователей тарифом \"Смарт\" в 2,3 раза больше, чем пользователей тарифом \"Ультра\".\n",
    "\n",
    "Проверка гипотез показала:\n",
    "1. Гипотеза об отличии средней выручки пользователей двух тарифов подтвердилась. А точнее средняя выручка по тарифу \"Ультра\" выше, чем по тарифу \"Смарт\". И даже при условии, что пользователей тарифом \"Смарт\" по имеющейся случайной выборке существенно больше, общая вырука за год по тарифу \"Ультра\" больше, чем по тарифу \"Смарт\", примерно на 20%.\n",
    "2. Гипотеза о разной средней выручке пользователей из Москвы и других регионов не подтвердилась. "
   ]
  }
 ],
 "metadata": {
  "ExecuteTimeLog": [
   {
    "duration": 380,
    "start_time": "2022-01-26T11:01:27.272Z"
   },
   {
    "duration": 638,
    "start_time": "2022-01-26T11:01:31.663Z"
   },
   {
    "duration": 154,
    "start_time": "2022-01-26T11:01:33.564Z"
   },
   {
    "duration": 3,
    "start_time": "2022-01-26T11:03:39.767Z"
   },
   {
    "duration": 824,
    "start_time": "2022-01-26T11:03:59.364Z"
   },
   {
    "duration": 3,
    "start_time": "2022-01-26T11:08:34.739Z"
   },
   {
    "duration": 1231,
    "start_time": "2022-01-26T11:09:04.313Z"
   },
   {
    "duration": 2,
    "start_time": "2022-01-26T11:09:24.135Z"
   },
   {
    "duration": 3,
    "start_time": "2022-01-26T11:09:28.629Z"
   },
   {
    "duration": 1065,
    "start_time": "2022-01-26T11:09:29.773Z"
   },
   {
    "duration": 2,
    "start_time": "2022-01-26T11:09:57.264Z"
   },
   {
    "duration": 420,
    "start_time": "2022-01-26T11:09:59.458Z"
   },
   {
    "duration": 2,
    "start_time": "2022-01-26T11:14:35.142Z"
   },
   {
    "duration": 1032,
    "start_time": "2022-01-26T11:14:36.874Z"
   },
   {
    "duration": 3,
    "start_time": "2022-01-26T11:15:00.245Z"
   },
   {
    "duration": 1128,
    "start_time": "2022-01-26T11:15:02.158Z"
   },
   {
    "duration": 402,
    "start_time": "2022-01-26T11:15:14.435Z"
   },
   {
    "duration": 2,
    "start_time": "2022-01-26T11:15:58.067Z"
   },
   {
    "duration": 390,
    "start_time": "2022-01-26T11:16:00.015Z"
   },
   {
    "duration": 992,
    "start_time": "2022-01-26T11:16:15.335Z"
   },
   {
    "duration": 3,
    "start_time": "2022-01-26T11:16:26.054Z"
   },
   {
    "duration": 1126,
    "start_time": "2022-01-26T11:16:27.920Z"
   },
   {
    "duration": 3,
    "start_time": "2022-01-26T11:17:11.094Z"
   },
   {
    "duration": 1135,
    "start_time": "2022-01-26T11:17:12.991Z"
   },
   {
    "duration": 901,
    "start_time": "2022-01-26T11:20:33.360Z"
   },
   {
    "duration": 399,
    "start_time": "2022-01-26T11:20:53.716Z"
   },
   {
    "duration": 411,
    "start_time": "2022-01-26T11:26:32.879Z"
   },
   {
    "duration": 401,
    "start_time": "2022-01-26T11:27:11.831Z"
   },
   {
    "duration": 821,
    "start_time": "2022-01-26T11:27:44.634Z"
   },
   {
    "duration": 396,
    "start_time": "2022-01-26T11:27:51.647Z"
   },
   {
    "duration": 504,
    "start_time": "2022-01-26T11:29:23.286Z"
   },
   {
    "duration": 3,
    "start_time": "2022-01-26T11:41:39.885Z"
   },
   {
    "duration": 515,
    "start_time": "2022-01-26T11:41:41.970Z"
   },
   {
    "duration": 23,
    "start_time": "2022-01-26T12:01:54.769Z"
   },
   {
    "duration": 29,
    "start_time": "2022-01-26T12:11:35.516Z"
   },
   {
    "duration": 11,
    "start_time": "2022-01-26T12:11:53.063Z"
   },
   {
    "duration": 335,
    "start_time": "2022-01-26T12:12:08.215Z"
   },
   {
    "duration": 8,
    "start_time": "2022-01-26T12:13:48.253Z"
   },
   {
    "duration": 8,
    "start_time": "2022-01-26T12:13:59.662Z"
   },
   {
    "duration": 9,
    "start_time": "2022-01-26T12:15:24.458Z"
   },
   {
    "duration": 9,
    "start_time": "2022-01-26T12:15:30.817Z"
   },
   {
    "duration": 8248,
    "start_time": "2022-01-26T12:19:46.904Z"
   },
   {
    "duration": 959,
    "start_time": "2022-01-26T12:20:08.227Z"
   },
   {
    "duration": 340,
    "start_time": "2022-01-26T12:23:10.281Z"
   },
   {
    "duration": 17,
    "start_time": "2022-01-26T12:25:02.065Z"
   },
   {
    "duration": 18,
    "start_time": "2022-01-26T12:25:32.440Z"
   },
   {
    "duration": 329,
    "start_time": "2022-01-26T12:25:37.535Z"
   },
   {
    "duration": 7,
    "start_time": "2022-01-26T12:26:06.991Z"
   },
   {
    "duration": 8,
    "start_time": "2022-01-26T12:26:58.200Z"
   },
   {
    "duration": 23,
    "start_time": "2022-01-26T12:28:49.296Z"
   },
   {
    "duration": 103,
    "start_time": "2022-01-26T12:29:44.575Z"
   },
   {
    "duration": 435,
    "start_time": "2022-01-26T12:29:53.569Z"
   },
   {
    "duration": 78,
    "start_time": "2022-01-26T12:39:17.103Z"
   },
   {
    "duration": 150,
    "start_time": "2022-01-26T12:40:52.808Z"
   },
   {
    "duration": 448,
    "start_time": "2022-01-26T12:52:17.327Z"
   },
   {
    "duration": 327,
    "start_time": "2022-01-26T12:58:15.146Z"
   },
   {
    "duration": 52,
    "start_time": "2022-01-26T12:58:45.902Z"
   },
   {
    "duration": 9,
    "start_time": "2022-01-26T13:02:56.288Z"
   },
   {
    "duration": 557,
    "start_time": "2022-01-26T13:04:32.125Z"
   },
   {
    "duration": 323,
    "start_time": "2022-01-26T13:05:26.059Z"
   },
   {
    "duration": 884,
    "start_time": "2022-01-26T13:05:45.240Z"
   },
   {
    "duration": 337,
    "start_time": "2022-01-26T13:06:19.141Z"
   },
   {
    "duration": 498,
    "start_time": "2022-01-26T13:06:50.941Z"
   },
   {
    "duration": 574,
    "start_time": "2022-01-26T13:07:12.987Z"
   },
   {
    "duration": 544,
    "start_time": "2022-01-26T13:07:30.297Z"
   },
   {
    "duration": 3,
    "start_time": "2022-01-26T13:08:56.851Z"
   },
   {
    "duration": 474,
    "start_time": "2022-01-26T13:09:15.098Z"
   },
   {
    "duration": 478,
    "start_time": "2022-01-26T13:11:39.518Z"
   },
   {
    "duration": 809,
    "start_time": "2022-01-26T13:12:51.606Z"
   },
   {
    "duration": 584,
    "start_time": "2022-01-26T13:13:00.191Z"
   },
   {
    "duration": 554,
    "start_time": "2022-01-26T13:13:32.519Z"
   },
   {
    "duration": 26198,
    "start_time": "2022-01-26T13:13:38.946Z"
   },
   {
    "duration": 1804,
    "start_time": "2022-01-26T13:14:10.352Z"
   },
   {
    "duration": 910,
    "start_time": "2022-01-26T13:14:55.146Z"
   },
   {
    "duration": 1292,
    "start_time": "2022-01-26T13:15:36.204Z"
   },
   {
    "duration": 1245,
    "start_time": "2022-01-26T13:15:57.207Z"
   },
   {
    "duration": 3,
    "start_time": "2022-01-26T13:17:12.592Z"
   },
   {
    "duration": 441,
    "start_time": "2022-01-26T13:17:12.597Z"
   },
   {
    "duration": 49,
    "start_time": "2022-01-26T13:17:13.040Z"
   },
   {
    "duration": 81,
    "start_time": "2022-01-26T13:17:13.091Z"
   },
   {
    "duration": 126,
    "start_time": "2022-01-26T13:17:13.174Z"
   },
   {
    "duration": 1191,
    "start_time": "2022-01-26T13:17:13.302Z"
   },
   {
    "duration": 933,
    "start_time": "2022-01-26T13:17:28.415Z"
   },
   {
    "duration": 1237,
    "start_time": "2022-01-26T13:17:34.087Z"
   },
   {
    "duration": 618,
    "start_time": "2022-01-26T13:18:11.398Z"
   },
   {
    "duration": 453,
    "start_time": "2022-01-26T13:18:12.019Z"
   },
   {
    "duration": 22,
    "start_time": "2022-01-26T13:18:12.475Z"
   },
   {
    "duration": 89,
    "start_time": "2022-01-26T13:18:12.499Z"
   },
   {
    "duration": 158,
    "start_time": "2022-01-26T13:18:12.590Z"
   },
   {
    "duration": 967,
    "start_time": "2022-01-26T13:18:12.750Z"
   },
   {
    "duration": 1537,
    "start_time": "2022-01-26T13:18:20.978Z"
   },
   {
    "duration": 1269,
    "start_time": "2022-01-26T13:18:42.289Z"
   },
   {
    "duration": 322,
    "start_time": "2022-01-26T13:22:35.839Z"
   },
   {
    "duration": 341,
    "start_time": "2022-01-26T13:22:53.739Z"
   },
   {
    "duration": 13,
    "start_time": "2022-01-26T13:23:31.784Z"
   },
   {
    "duration": 11,
    "start_time": "2022-01-26T13:24:32.707Z"
   },
   {
    "duration": 10,
    "start_time": "2022-01-26T13:29:52.376Z"
   },
   {
    "duration": 12,
    "start_time": "2022-01-26T13:31:20.908Z"
   },
   {
    "duration": 99,
    "start_time": "2022-01-26T13:34:29.551Z"
   },
   {
    "duration": 909,
    "start_time": "2022-01-26T13:35:02.443Z"
   },
   {
    "duration": 9,
    "start_time": "2022-01-26T13:35:36.307Z"
   },
   {
    "duration": 1031,
    "start_time": "2022-01-26T13:35:57.581Z"
   },
   {
    "duration": 266,
    "start_time": "2022-01-26T13:36:22.826Z"
   },
   {
    "duration": 497,
    "start_time": "2022-01-26T13:36:30.306Z"
   },
   {
    "duration": 313,
    "start_time": "2022-01-26T13:36:37.284Z"
   },
   {
    "duration": 9,
    "start_time": "2022-01-26T13:37:45.172Z"
   },
   {
    "duration": 8,
    "start_time": "2022-01-26T13:40:28.719Z"
   },
   {
    "duration": 5,
    "start_time": "2022-01-26T13:47:16.423Z"
   },
   {
    "duration": 6,
    "start_time": "2022-01-26T13:47:31.479Z"
   },
   {
    "duration": 9,
    "start_time": "2022-01-26T13:48:39.475Z"
   },
   {
    "duration": 8,
    "start_time": "2022-01-26T13:49:24.765Z"
   },
   {
    "duration": 8,
    "start_time": "2022-01-26T13:49:44.692Z"
   },
   {
    "duration": 306,
    "start_time": "2022-01-26T13:50:05.160Z"
   },
   {
    "duration": 349,
    "start_time": "2022-01-26T13:50:29.916Z"
   },
   {
    "duration": 301,
    "start_time": "2022-01-26T13:51:57.874Z"
   },
   {
    "duration": 9,
    "start_time": "2022-01-26T13:52:11.116Z"
   },
   {
    "duration": 8,
    "start_time": "2022-01-26T13:55:08.097Z"
   },
   {
    "duration": 10,
    "start_time": "2022-01-26T13:56:22.267Z"
   },
   {
    "duration": 6,
    "start_time": "2022-01-26T14:00:18.982Z"
   },
   {
    "duration": 9,
    "start_time": "2022-01-26T14:01:44.383Z"
   },
   {
    "duration": 10,
    "start_time": "2022-01-26T14:02:21.870Z"
   },
   {
    "duration": 26,
    "start_time": "2022-01-26T14:02:59.188Z"
   },
   {
    "duration": 6,
    "start_time": "2022-01-26T14:04:17.667Z"
   },
   {
    "duration": 9,
    "start_time": "2022-01-26T14:05:27.544Z"
   },
   {
    "duration": 6,
    "start_time": "2022-01-26T14:05:50.140Z"
   },
   {
    "duration": 321,
    "start_time": "2022-01-26T14:06:34.285Z"
   },
   {
    "duration": 333,
    "start_time": "2022-01-26T14:06:47.805Z"
   },
   {
    "duration": 253,
    "start_time": "2022-01-26T14:07:14.444Z"
   },
   {
    "duration": 236,
    "start_time": "2022-01-26T14:07:23.198Z"
   },
   {
    "duration": 5,
    "start_time": "2022-01-26T14:09:29.510Z"
   },
   {
    "duration": 249,
    "start_time": "2022-01-26T14:09:46.270Z"
   },
   {
    "duration": 225,
    "start_time": "2022-01-26T14:10:04.814Z"
   },
   {
    "duration": 254,
    "start_time": "2022-01-26T14:10:22.143Z"
   },
   {
    "duration": 7,
    "start_time": "2022-01-26T14:11:22.929Z"
   },
   {
    "duration": 5,
    "start_time": "2022-01-26T14:13:17.191Z"
   },
   {
    "duration": 8306,
    "start_time": "2022-01-26T14:14:27.980Z"
   },
   {
    "duration": 5,
    "start_time": "2022-01-26T14:15:25.152Z"
   },
   {
    "duration": 6,
    "start_time": "2022-01-26T14:16:28.231Z"
   },
   {
    "duration": 1055,
    "start_time": "2022-01-26T19:26:22.180Z"
   },
   {
    "duration": 750,
    "start_time": "2022-01-26T19:26:23.238Z"
   },
   {
    "duration": 76,
    "start_time": "2022-01-26T19:26:23.993Z"
   },
   {
    "duration": 208,
    "start_time": "2022-01-26T19:26:24.073Z"
   },
   {
    "duration": 355,
    "start_time": "2022-01-26T19:26:24.284Z"
   },
   {
    "duration": 43,
    "start_time": "2022-01-26T19:26:24.642Z"
   },
   {
    "duration": 996,
    "start_time": "2022-01-26T19:26:24.688Z"
   },
   {
    "duration": 15,
    "start_time": "2022-01-26T19:26:25.688Z"
   },
   {
    "duration": 17,
    "start_time": "2022-01-26T19:26:25.709Z"
   },
   {
    "duration": 655,
    "start_time": "2022-01-26T19:26:25.758Z"
   },
   {
    "duration": 12,
    "start_time": "2022-01-26T19:26:26.416Z"
   },
   {
    "duration": 37,
    "start_time": "2022-01-26T19:26:26.430Z"
   },
   {
    "duration": 8,
    "start_time": "2022-01-26T19:26:26.470Z"
   },
   {
    "duration": 15,
    "start_time": "2022-01-26T19:26:26.481Z"
   },
   {
    "duration": 500,
    "start_time": "2022-01-26T19:26:26.499Z"
   },
   {
    "duration": 14,
    "start_time": "2022-01-26T19:26:27.002Z"
   },
   {
    "duration": 40,
    "start_time": "2022-01-26T19:26:27.019Z"
   },
   {
    "duration": 14,
    "start_time": "2022-01-26T19:26:27.063Z"
   },
   {
    "duration": 10,
    "start_time": "2022-01-26T19:26:27.080Z"
   },
   {
    "duration": 837,
    "start_time": "2022-01-26T19:26:29.581Z"
   },
   {
    "duration": 375,
    "start_time": "2022-01-26T19:30:13.662Z"
   },
   {
    "duration": 100,
    "start_time": "2022-01-26T19:30:23.618Z"
   },
   {
    "duration": 207,
    "start_time": "2022-01-26T19:32:12.996Z"
   },
   {
    "duration": 230,
    "start_time": "2022-01-26T19:33:10.319Z"
   },
   {
    "duration": 754,
    "start_time": "2022-01-26T19:34:50.751Z"
   },
   {
    "duration": 871,
    "start_time": "2022-01-26T19:35:58.896Z"
   },
   {
    "duration": 500,
    "start_time": "2022-01-26T19:38:10.910Z"
   },
   {
    "duration": 506,
    "start_time": "2022-01-26T19:44:03.279Z"
   },
   {
    "duration": 598,
    "start_time": "2022-01-26T19:49:56.049Z"
   },
   {
    "duration": 595,
    "start_time": "2022-01-26T19:52:20.044Z"
   },
   {
    "duration": 214,
    "start_time": "2022-01-26T19:52:45.931Z"
   },
   {
    "duration": 958,
    "start_time": "2022-01-26T19:52:54.831Z"
   },
   {
    "duration": 898,
    "start_time": "2022-01-26T20:02:33.009Z"
   },
   {
    "duration": 221,
    "start_time": "2022-01-26T20:03:20.147Z"
   },
   {
    "duration": 388,
    "start_time": "2022-01-26T20:17:08.741Z"
   },
   {
    "duration": 54,
    "start_time": "2022-01-26T20:22:48.002Z"
   },
   {
    "duration": 58,
    "start_time": "2022-01-26T20:23:21.029Z"
   },
   {
    "duration": 998,
    "start_time": "2022-01-26T20:23:30.233Z"
   },
   {
    "duration": 6,
    "start_time": "2022-01-26T20:25:06.347Z"
   },
   {
    "duration": 736,
    "start_time": "2022-01-26T20:25:06.356Z"
   },
   {
    "duration": 70,
    "start_time": "2022-01-26T20:25:07.095Z"
   },
   {
    "duration": 119,
    "start_time": "2022-01-26T20:25:07.168Z"
   },
   {
    "duration": 270,
    "start_time": "2022-01-26T20:25:07.289Z"
   },
   {
    "duration": 15,
    "start_time": "2022-01-26T20:25:07.561Z"
   },
   {
    "duration": 590,
    "start_time": "2022-01-26T20:25:07.579Z"
   },
   {
    "duration": 12,
    "start_time": "2022-01-26T20:25:08.173Z"
   },
   {
    "duration": 18,
    "start_time": "2022-01-26T20:25:08.187Z"
   },
   {
    "duration": 1062,
    "start_time": "2022-01-26T20:25:08.208Z"
   },
   {
    "duration": 16,
    "start_time": "2022-01-26T20:25:09.273Z"
   },
   {
    "duration": 14,
    "start_time": "2022-01-26T20:25:09.292Z"
   },
   {
    "duration": 51,
    "start_time": "2022-01-26T20:25:09.308Z"
   },
   {
    "duration": 12,
    "start_time": "2022-01-26T20:25:09.361Z"
   },
   {
    "duration": 620,
    "start_time": "2022-01-26T20:25:09.376Z"
   },
   {
    "duration": 13,
    "start_time": "2022-01-26T20:25:09.999Z"
   },
   {
    "duration": 44,
    "start_time": "2022-01-26T20:25:10.015Z"
   },
   {
    "duration": 13,
    "start_time": "2022-01-26T20:25:10.063Z"
   },
   {
    "duration": 10,
    "start_time": "2022-01-26T20:25:10.082Z"
   },
   {
    "duration": 239,
    "start_time": "2022-01-26T20:25:10.095Z"
   },
   {
    "duration": 277,
    "start_time": "2022-01-26T20:25:10.336Z"
   },
   {
    "duration": 983,
    "start_time": "2022-01-26T20:25:10.615Z"
   },
   {
    "duration": 6,
    "start_time": "2022-01-26T20:26:14.649Z"
   },
   {
    "duration": 1017,
    "start_time": "2022-01-26T20:26:14.659Z"
   },
   {
    "duration": 43,
    "start_time": "2022-01-26T20:26:15.680Z"
   },
   {
    "duration": 193,
    "start_time": "2022-01-26T20:26:15.727Z"
   },
   {
    "duration": 244,
    "start_time": "2022-01-26T20:26:15.923Z"
   },
   {
    "duration": 15,
    "start_time": "2022-01-26T20:26:16.169Z"
   },
   {
    "duration": 930,
    "start_time": "2022-01-26T20:26:16.189Z"
   },
   {
    "duration": 15,
    "start_time": "2022-01-26T20:26:17.123Z"
   },
   {
    "duration": 16,
    "start_time": "2022-01-26T20:26:17.161Z"
   },
   {
    "duration": 679,
    "start_time": "2022-01-26T20:26:17.180Z"
   },
   {
    "duration": 12,
    "start_time": "2022-01-26T20:26:17.862Z"
   },
   {
    "duration": 11,
    "start_time": "2022-01-26T20:26:17.876Z"
   },
   {
    "duration": 7,
    "start_time": "2022-01-26T20:26:17.889Z"
   },
   {
    "duration": 65,
    "start_time": "2022-01-26T20:26:17.898Z"
   },
   {
    "duration": 444,
    "start_time": "2022-01-26T20:26:17.967Z"
   },
   {
    "duration": 10,
    "start_time": "2022-01-26T20:26:18.414Z"
   },
   {
    "duration": 36,
    "start_time": "2022-01-26T20:26:18.427Z"
   },
   {
    "duration": 10,
    "start_time": "2022-01-26T20:26:18.465Z"
   },
   {
    "duration": 8,
    "start_time": "2022-01-26T20:26:18.479Z"
   },
   {
    "duration": 269,
    "start_time": "2022-01-26T20:26:18.490Z"
   },
   {
    "duration": 246,
    "start_time": "2022-01-26T20:26:18.762Z"
   },
   {
    "duration": 9770,
    "start_time": "2022-01-26T20:26:19.011Z"
   },
   {
    "duration": 516,
    "start_time": "2022-01-26T20:27:08.837Z"
   },
   {
    "duration": 904,
    "start_time": "2022-01-26T20:29:06.547Z"
   },
   {
    "duration": 709,
    "start_time": "2022-01-26T20:29:07.454Z"
   },
   {
    "duration": 31,
    "start_time": "2022-01-26T20:29:08.166Z"
   },
   {
    "duration": 150,
    "start_time": "2022-01-26T20:29:08.200Z"
   },
   {
    "duration": 249,
    "start_time": "2022-01-26T20:29:08.360Z"
   },
   {
    "duration": 19,
    "start_time": "2022-01-26T20:29:08.612Z"
   },
   {
    "duration": 617,
    "start_time": "2022-01-26T20:29:08.633Z"
   },
   {
    "duration": 15,
    "start_time": "2022-01-26T20:29:09.261Z"
   },
   {
    "duration": 14,
    "start_time": "2022-01-26T20:29:09.279Z"
   },
   {
    "duration": 625,
    "start_time": "2022-01-26T20:29:09.296Z"
   },
   {
    "duration": 35,
    "start_time": "2022-01-26T20:29:09.924Z"
   },
   {
    "duration": 14,
    "start_time": "2022-01-26T20:29:09.962Z"
   },
   {
    "duration": 9,
    "start_time": "2022-01-26T20:29:09.979Z"
   },
   {
    "duration": 23,
    "start_time": "2022-01-26T20:29:09.990Z"
   },
   {
    "duration": 516,
    "start_time": "2022-01-26T20:29:10.015Z"
   },
   {
    "duration": 28,
    "start_time": "2022-01-26T20:29:10.533Z"
   },
   {
    "duration": 9,
    "start_time": "2022-01-26T20:29:10.564Z"
   },
   {
    "duration": 13,
    "start_time": "2022-01-26T20:29:10.576Z"
   },
   {
    "duration": 10,
    "start_time": "2022-01-26T20:29:10.591Z"
   },
   {
    "duration": 262,
    "start_time": "2022-01-26T20:29:10.604Z"
   },
   {
    "duration": 303,
    "start_time": "2022-01-26T20:29:10.868Z"
   },
   {
    "duration": 13,
    "start_time": "2022-01-26T20:38:13.144Z"
   },
   {
    "duration": 240,
    "start_time": "2022-01-26T20:39:29.485Z"
   },
   {
    "duration": 142,
    "start_time": "2022-01-26T20:50:03.015Z"
   },
   {
    "duration": 1882,
    "start_time": "2022-01-26T20:52:29.886Z"
   },
   {
    "duration": 1681,
    "start_time": "2022-01-26T20:53:08.407Z"
   },
   {
    "duration": 1754,
    "start_time": "2022-01-26T20:53:59.852Z"
   },
   {
    "duration": 1918,
    "start_time": "2022-01-26T20:56:14.172Z"
   },
   {
    "duration": 1626,
    "start_time": "2022-01-26T20:56:50.537Z"
   },
   {
    "duration": 4,
    "start_time": "2022-01-26T20:57:05.124Z"
   },
   {
    "duration": 755,
    "start_time": "2022-01-26T20:57:05.131Z"
   },
   {
    "duration": 29,
    "start_time": "2022-01-26T20:57:05.889Z"
   },
   {
    "duration": 192,
    "start_time": "2022-01-26T20:57:05.921Z"
   },
   {
    "duration": 285,
    "start_time": "2022-01-26T20:57:06.116Z"
   },
   {
    "duration": 16,
    "start_time": "2022-01-26T20:57:06.403Z"
   },
   {
    "duration": 582,
    "start_time": "2022-01-26T20:57:06.421Z"
   },
   {
    "duration": 12,
    "start_time": "2022-01-26T20:57:07.007Z"
   },
   {
    "duration": 39,
    "start_time": "2022-01-26T20:57:07.022Z"
   },
   {
    "duration": 613,
    "start_time": "2022-01-26T20:57:07.063Z"
   },
   {
    "duration": 11,
    "start_time": "2022-01-26T20:57:07.678Z"
   },
   {
    "duration": 11,
    "start_time": "2022-01-26T20:57:07.692Z"
   },
   {
    "duration": 58,
    "start_time": "2022-01-26T20:57:07.705Z"
   },
   {
    "duration": 14,
    "start_time": "2022-01-26T20:57:07.766Z"
   },
   {
    "duration": 442,
    "start_time": "2022-01-26T20:57:07.782Z"
   },
   {
    "duration": 11,
    "start_time": "2022-01-26T20:57:08.227Z"
   },
   {
    "duration": 26,
    "start_time": "2022-01-26T20:57:08.241Z"
   },
   {
    "duration": 10,
    "start_time": "2022-01-26T20:57:08.269Z"
   },
   {
    "duration": 11,
    "start_time": "2022-01-26T20:57:08.282Z"
   },
   {
    "duration": 244,
    "start_time": "2022-01-26T20:57:08.296Z"
   },
   {
    "duration": 416,
    "start_time": "2022-01-26T20:57:08.543Z"
   },
   {
    "duration": 5456,
    "start_time": "2022-01-26T21:00:32.712Z"
   },
   {
    "duration": 346,
    "start_time": "2022-01-26T21:01:08.331Z"
   },
   {
    "duration": 102,
    "start_time": "2022-01-26T21:01:14.533Z"
   },
   {
    "duration": 446,
    "start_time": "2022-01-26T21:23:29.634Z"
   },
   {
    "duration": 357,
    "start_time": "2022-01-26T21:24:19.100Z"
   },
   {
    "duration": 379,
    "start_time": "2022-01-26T21:24:30.008Z"
   },
   {
    "duration": 5,
    "start_time": "2022-01-26T21:30:08.399Z"
   },
   {
    "duration": 330,
    "start_time": "2022-01-26T21:30:33.660Z"
   },
   {
    "duration": 357,
    "start_time": "2022-01-26T21:30:56.811Z"
   },
   {
    "duration": 332,
    "start_time": "2022-01-26T21:31:28.199Z"
   },
   {
    "duration": 188,
    "start_time": "2022-01-26T21:36:20.717Z"
   },
   {
    "duration": 71,
    "start_time": "2022-01-26T21:36:31.897Z"
   },
   {
    "duration": 233,
    "start_time": "2022-01-26T21:45:15.445Z"
   },
   {
    "duration": 1163,
    "start_time": "2022-01-26T21:45:38.542Z"
   },
   {
    "duration": 869,
    "start_time": "2022-01-26T21:52:26.819Z"
   },
   {
    "duration": 684,
    "start_time": "2022-01-26T21:52:27.690Z"
   },
   {
    "duration": 32,
    "start_time": "2022-01-26T21:52:28.377Z"
   },
   {
    "duration": 139,
    "start_time": "2022-01-26T21:52:28.411Z"
   },
   {
    "duration": 240,
    "start_time": "2022-01-26T21:52:28.560Z"
   },
   {
    "duration": 22,
    "start_time": "2022-01-26T21:52:28.802Z"
   },
   {
    "duration": 589,
    "start_time": "2022-01-26T21:52:28.826Z"
   },
   {
    "duration": 11,
    "start_time": "2022-01-26T21:52:29.419Z"
   },
   {
    "duration": 35,
    "start_time": "2022-01-26T21:52:29.433Z"
   },
   {
    "duration": 611,
    "start_time": "2022-01-26T21:52:29.470Z"
   },
   {
    "duration": 13,
    "start_time": "2022-01-26T21:52:30.083Z"
   },
   {
    "duration": 12,
    "start_time": "2022-01-26T21:52:30.099Z"
   },
   {
    "duration": 47,
    "start_time": "2022-01-26T21:52:30.114Z"
   },
   {
    "duration": 13,
    "start_time": "2022-01-26T21:52:30.164Z"
   },
   {
    "duration": 526,
    "start_time": "2022-01-26T21:52:30.180Z"
   },
   {
    "duration": 12,
    "start_time": "2022-01-26T21:52:30.708Z"
   },
   {
    "duration": 9,
    "start_time": "2022-01-26T21:52:30.723Z"
   },
   {
    "duration": 11,
    "start_time": "2022-01-26T21:52:30.760Z"
   },
   {
    "duration": 9,
    "start_time": "2022-01-26T21:52:30.773Z"
   },
   {
    "duration": 241,
    "start_time": "2022-01-26T21:52:30.785Z"
   },
   {
    "duration": 309,
    "start_time": "2022-01-26T21:52:31.028Z"
   },
   {
    "duration": 86,
    "start_time": "2022-01-26T21:52:31.339Z"
   },
   {
    "duration": 114,
    "start_time": "2022-01-26T21:52:31.429Z"
   },
   {
    "duration": 1192,
    "start_time": "2022-01-26T21:52:31.546Z"
   },
   {
    "duration": 13,
    "start_time": "2022-01-26T22:09:54.486Z"
   },
   {
    "duration": 132,
    "start_time": "2022-01-26T22:18:07.019Z"
   },
   {
    "duration": 9,
    "start_time": "2022-01-26T22:21:03.149Z"
   },
   {
    "duration": 673,
    "start_time": "2022-01-27T10:17:41.172Z"
   },
   {
    "duration": 529,
    "start_time": "2022-01-27T10:17:41.848Z"
   },
   {
    "duration": 24,
    "start_time": "2022-01-27T10:17:42.379Z"
   },
   {
    "duration": 103,
    "start_time": "2022-01-27T10:17:42.405Z"
   },
   {
    "duration": 184,
    "start_time": "2022-01-27T10:17:42.510Z"
   },
   {
    "duration": 16,
    "start_time": "2022-01-27T10:17:42.695Z"
   },
   {
    "duration": 355,
    "start_time": "2022-01-27T10:17:42.713Z"
   },
   {
    "duration": 9,
    "start_time": "2022-01-27T10:17:43.070Z"
   },
   {
    "duration": 37,
    "start_time": "2022-01-27T10:17:43.081Z"
   },
   {
    "duration": 349,
    "start_time": "2022-01-27T10:17:43.120Z"
   },
   {
    "duration": 8,
    "start_time": "2022-01-27T10:17:43.471Z"
   },
   {
    "duration": 22,
    "start_time": "2022-01-27T10:17:43.480Z"
   },
   {
    "duration": 40,
    "start_time": "2022-01-27T10:17:43.504Z"
   },
   {
    "duration": 33,
    "start_time": "2022-01-27T10:17:43.546Z"
   },
   {
    "duration": 349,
    "start_time": "2022-01-27T10:17:43.581Z"
   },
   {
    "duration": 7,
    "start_time": "2022-01-27T10:17:43.932Z"
   },
   {
    "duration": 13,
    "start_time": "2022-01-27T10:17:47.476Z"
   },
   {
    "duration": 84,
    "start_time": "2022-01-27T10:18:32.237Z"
   },
   {
    "duration": 8,
    "start_time": "2022-01-27T10:18:40.534Z"
   },
   {
    "duration": 10,
    "start_time": "2022-01-27T10:19:08.446Z"
   },
   {
    "duration": 18,
    "start_time": "2022-01-27T10:20:20.309Z"
   },
   {
    "duration": 9,
    "start_time": "2022-01-27T10:20:52.881Z"
   },
   {
    "duration": 89,
    "start_time": "2022-01-27T10:28:39.802Z"
   },
   {
    "duration": 616,
    "start_time": "2022-01-27T10:29:11.954Z"
   },
   {
    "duration": 14,
    "start_time": "2022-01-27T10:30:01.128Z"
   },
   {
    "duration": 15,
    "start_time": "2022-01-27T10:30:29.483Z"
   },
   {
    "duration": 13,
    "start_time": "2022-01-27T10:30:44.807Z"
   },
   {
    "duration": 289,
    "start_time": "2022-01-27T10:32:50.662Z"
   },
   {
    "duration": 299,
    "start_time": "2022-01-27T10:34:00.131Z"
   },
   {
    "duration": 10,
    "start_time": "2022-01-27T10:34:20.888Z"
   },
   {
    "duration": 4,
    "start_time": "2022-01-27T10:36:18.281Z"
   },
   {
    "duration": 538,
    "start_time": "2022-01-27T10:36:18.287Z"
   },
   {
    "duration": 54,
    "start_time": "2022-01-27T10:36:18.827Z"
   },
   {
    "duration": 83,
    "start_time": "2022-01-27T10:36:18.884Z"
   },
   {
    "duration": 203,
    "start_time": "2022-01-27T10:36:18.969Z"
   },
   {
    "duration": 14,
    "start_time": "2022-01-27T10:36:19.175Z"
   },
   {
    "duration": 409,
    "start_time": "2022-01-27T10:36:19.191Z"
   },
   {
    "duration": 10,
    "start_time": "2022-01-27T10:36:19.602Z"
   },
   {
    "duration": 10,
    "start_time": "2022-01-27T10:36:19.613Z"
   },
   {
    "duration": 378,
    "start_time": "2022-01-27T10:36:19.625Z"
   },
   {
    "duration": 9,
    "start_time": "2022-01-27T10:36:20.005Z"
   },
   {
    "duration": 18,
    "start_time": "2022-01-27T10:36:20.016Z"
   },
   {
    "duration": 31,
    "start_time": "2022-01-27T10:36:20.036Z"
   },
   {
    "duration": 14,
    "start_time": "2022-01-27T10:36:20.069Z"
   },
   {
    "duration": 275,
    "start_time": "2022-01-27T10:36:20.085Z"
   },
   {
    "duration": 10,
    "start_time": "2022-01-27T10:36:20.363Z"
   },
   {
    "duration": 18,
    "start_time": "2022-01-27T10:36:20.375Z"
   },
   {
    "duration": 11,
    "start_time": "2022-01-27T10:36:23.127Z"
   },
   {
    "duration": 267,
    "start_time": "2022-01-27T10:36:33.654Z"
   },
   {
    "duration": 7,
    "start_time": "2022-01-27T10:37:50.344Z"
   },
   {
    "duration": 7,
    "start_time": "2022-01-27T10:50:46.082Z"
   },
   {
    "duration": 8,
    "start_time": "2022-01-27T10:54:06.284Z"
   },
   {
    "duration": 18,
    "start_time": "2022-01-27T10:54:14.612Z"
   },
   {
    "duration": 8,
    "start_time": "2022-01-27T10:55:15.189Z"
   },
   {
    "duration": 8,
    "start_time": "2022-01-27T10:57:29.475Z"
   },
   {
    "duration": 4,
    "start_time": "2022-01-27T11:03:34.418Z"
   },
   {
    "duration": 535,
    "start_time": "2022-01-27T11:03:34.427Z"
   },
   {
    "duration": 22,
    "start_time": "2022-01-27T11:03:34.963Z"
   },
   {
    "duration": 106,
    "start_time": "2022-01-27T11:03:34.987Z"
   },
   {
    "duration": 152,
    "start_time": "2022-01-27T11:03:35.095Z"
   },
   {
    "duration": 20,
    "start_time": "2022-01-27T11:03:35.248Z"
   },
   {
    "duration": 336,
    "start_time": "2022-01-27T11:03:35.269Z"
   },
   {
    "duration": 8,
    "start_time": "2022-01-27T11:03:35.606Z"
   },
   {
    "duration": 45,
    "start_time": "2022-01-27T11:03:35.617Z"
   },
   {
    "duration": 372,
    "start_time": "2022-01-27T11:03:35.664Z"
   },
   {
    "duration": 9,
    "start_time": "2022-01-27T11:03:36.038Z"
   },
   {
    "duration": 34,
    "start_time": "2022-01-27T11:03:36.049Z"
   },
   {
    "duration": 30,
    "start_time": "2022-01-27T11:03:36.085Z"
   },
   {
    "duration": 23,
    "start_time": "2022-01-27T11:03:36.117Z"
   },
   {
    "duration": 343,
    "start_time": "2022-01-27T11:03:36.142Z"
   },
   {
    "duration": 7,
    "start_time": "2022-01-27T11:03:36.487Z"
   },
   {
    "duration": 29,
    "start_time": "2022-01-27T11:03:36.496Z"
   },
   {
    "duration": 38,
    "start_time": "2022-01-27T11:03:36.526Z"
   },
   {
    "duration": 8,
    "start_time": "2022-01-27T11:03:38.897Z"
   },
   {
    "duration": 14,
    "start_time": "2022-01-27T11:04:44.900Z"
   },
   {
    "duration": 9,
    "start_time": "2022-01-27T11:06:57.292Z"
   },
   {
    "duration": 6,
    "start_time": "2022-01-27T11:07:38.623Z"
   },
   {
    "duration": 7,
    "start_time": "2022-01-27T11:10:26.272Z"
   },
   {
    "duration": 255,
    "start_time": "2022-01-27T11:14:10.695Z"
   },
   {
    "duration": 150,
    "start_time": "2022-01-27T11:14:21.546Z"
   },
   {
    "duration": 216,
    "start_time": "2022-01-27T11:14:25.324Z"
   },
   {
    "duration": 254,
    "start_time": "2022-01-27T11:14:29.539Z"
   },
   {
    "duration": 281,
    "start_time": "2022-01-27T11:15:26.449Z"
   },
   {
    "duration": 6,
    "start_time": "2022-01-27T11:15:33.525Z"
   },
   {
    "duration": 4,
    "start_time": "2022-01-27T11:25:53.327Z"
   },
   {
    "duration": 560,
    "start_time": "2022-01-27T11:25:53.335Z"
   },
   {
    "duration": 24,
    "start_time": "2022-01-27T11:25:53.897Z"
   },
   {
    "duration": 76,
    "start_time": "2022-01-27T11:25:53.960Z"
   },
   {
    "duration": 191,
    "start_time": "2022-01-27T11:25:54.039Z"
   },
   {
    "duration": 31,
    "start_time": "2022-01-27T11:25:54.232Z"
   },
   {
    "duration": 343,
    "start_time": "2022-01-27T11:25:54.265Z"
   },
   {
    "duration": 11,
    "start_time": "2022-01-27T11:25:54.610Z"
   },
   {
    "duration": 36,
    "start_time": "2022-01-27T11:25:54.625Z"
   },
   {
    "duration": 348,
    "start_time": "2022-01-27T11:25:54.663Z"
   },
   {
    "duration": 11,
    "start_time": "2022-01-27T11:25:55.013Z"
   },
   {
    "duration": 28,
    "start_time": "2022-01-27T11:25:55.025Z"
   },
   {
    "duration": 31,
    "start_time": "2022-01-27T11:25:55.055Z"
   },
   {
    "duration": 24,
    "start_time": "2022-01-27T11:25:55.088Z"
   },
   {
    "duration": 292,
    "start_time": "2022-01-27T11:25:55.113Z"
   },
   {
    "duration": 8,
    "start_time": "2022-01-27T11:25:55.407Z"
   },
   {
    "duration": 11,
    "start_time": "2022-01-27T11:25:55.416Z"
   },
   {
    "duration": 9,
    "start_time": "2022-01-27T11:25:55.428Z"
   },
   {
    "duration": 30,
    "start_time": "2022-01-27T11:25:55.438Z"
   },
   {
    "duration": 21,
    "start_time": "2022-01-27T11:25:55.470Z"
   },
   {
    "duration": 16,
    "start_time": "2022-01-27T11:25:55.492Z"
   },
   {
    "duration": 168,
    "start_time": "2022-01-27T11:25:55.509Z"
   },
   {
    "duration": 217,
    "start_time": "2022-01-27T11:25:55.678Z"
   },
   {
    "duration": 6,
    "start_time": "2022-01-27T11:25:58.365Z"
   },
   {
    "duration": 669,
    "start_time": "2022-01-27T11:54:55.862Z"
   },
   {
    "duration": 544,
    "start_time": "2022-01-27T11:54:56.533Z"
   },
   {
    "duration": 24,
    "start_time": "2022-01-27T11:54:57.079Z"
   },
   {
    "duration": 105,
    "start_time": "2022-01-27T11:54:57.105Z"
   },
   {
    "duration": 171,
    "start_time": "2022-01-27T11:54:57.212Z"
   },
   {
    "duration": 16,
    "start_time": "2022-01-27T11:54:57.384Z"
   },
   {
    "duration": 352,
    "start_time": "2022-01-27T11:54:57.402Z"
   },
   {
    "duration": 8,
    "start_time": "2022-01-27T11:54:57.757Z"
   },
   {
    "duration": 11,
    "start_time": "2022-01-27T11:54:57.767Z"
   },
   {
    "duration": 372,
    "start_time": "2022-01-27T11:54:57.780Z"
   },
   {
    "duration": 12,
    "start_time": "2022-01-27T11:54:58.154Z"
   },
   {
    "duration": 7,
    "start_time": "2022-01-27T11:54:58.168Z"
   },
   {
    "duration": 26,
    "start_time": "2022-01-27T11:54:58.176Z"
   },
   {
    "duration": 23,
    "start_time": "2022-01-27T11:54:58.204Z"
   },
   {
    "duration": 334,
    "start_time": "2022-01-27T11:54:58.229Z"
   },
   {
    "duration": 8,
    "start_time": "2022-01-27T11:54:58.565Z"
   },
   {
    "duration": 14,
    "start_time": "2022-01-27T11:54:58.575Z"
   },
   {
    "duration": 22,
    "start_time": "2022-01-27T11:54:58.590Z"
   },
   {
    "duration": 13,
    "start_time": "2022-01-27T11:54:58.614Z"
   },
   {
    "duration": 29,
    "start_time": "2022-01-27T11:54:58.628Z"
   },
   {
    "duration": 22,
    "start_time": "2022-01-27T11:54:58.659Z"
   },
   {
    "duration": 150,
    "start_time": "2022-01-27T11:54:58.683Z"
   },
   {
    "duration": 220,
    "start_time": "2022-01-27T11:54:58.836Z"
   },
   {
    "duration": 590,
    "start_time": "2022-01-27T11:54:59.058Z"
   },
   {
    "duration": -55,
    "start_time": "2022-01-27T11:54:59.705Z"
   },
   {
    "duration": -56,
    "start_time": "2022-01-27T11:54:59.708Z"
   },
   {
    "duration": 513,
    "start_time": "2022-01-27T11:57:41.744Z"
   },
   {
    "duration": 11,
    "start_time": "2022-01-27T11:58:38.732Z"
   },
   {
    "duration": 177,
    "start_time": "2022-01-27T12:00:35.550Z"
   },
   {
    "duration": 780,
    "start_time": "2022-01-27T12:01:03.952Z"
   },
   {
    "duration": 536,
    "start_time": "2022-01-27T12:01:04.734Z"
   },
   {
    "duration": 26,
    "start_time": "2022-01-27T12:01:05.272Z"
   },
   {
    "duration": 105,
    "start_time": "2022-01-27T12:01:05.300Z"
   },
   {
    "duration": 199,
    "start_time": "2022-01-27T12:01:05.407Z"
   },
   {
    "duration": 17,
    "start_time": "2022-01-27T12:01:05.609Z"
   },
   {
    "duration": 388,
    "start_time": "2022-01-27T12:01:05.628Z"
   },
   {
    "duration": 9,
    "start_time": "2022-01-27T12:01:06.018Z"
   },
   {
    "duration": 43,
    "start_time": "2022-01-27T12:01:06.029Z"
   },
   {
    "duration": 364,
    "start_time": "2022-01-27T12:01:06.074Z"
   },
   {
    "duration": 8,
    "start_time": "2022-01-27T12:01:06.440Z"
   },
   {
    "duration": 16,
    "start_time": "2022-01-27T12:01:06.450Z"
   },
   {
    "duration": 8,
    "start_time": "2022-01-27T12:01:06.467Z"
   },
   {
    "duration": 7,
    "start_time": "2022-01-27T12:01:06.477Z"
   },
   {
    "duration": 346,
    "start_time": "2022-01-27T12:01:06.485Z"
   },
   {
    "duration": 8,
    "start_time": "2022-01-27T12:01:06.833Z"
   },
   {
    "duration": 42,
    "start_time": "2022-01-27T12:01:06.843Z"
   },
   {
    "duration": 6,
    "start_time": "2022-01-27T12:01:06.887Z"
   },
   {
    "duration": 10,
    "start_time": "2022-01-27T12:01:06.895Z"
   },
   {
    "duration": 11,
    "start_time": "2022-01-27T12:01:06.907Z"
   },
   {
    "duration": 9,
    "start_time": "2022-01-27T12:01:06.920Z"
   },
   {
    "duration": 168,
    "start_time": "2022-01-27T12:01:06.930Z"
   },
   {
    "duration": 230,
    "start_time": "2022-01-27T12:01:07.101Z"
   },
   {
    "duration": 11,
    "start_time": "2022-01-27T12:01:07.333Z"
   },
   {
    "duration": 44,
    "start_time": "2022-01-27T12:01:07.361Z"
   },
   {
    "duration": 76,
    "start_time": "2022-01-27T12:01:07.407Z"
   },
   {
    "duration": 146,
    "start_time": "2022-01-27T12:01:07.485Z"
   },
   {
    "duration": 669,
    "start_time": "2022-01-27T12:02:36.289Z"
   },
   {
    "duration": 526,
    "start_time": "2022-01-27T12:02:36.960Z"
   },
   {
    "duration": 26,
    "start_time": "2022-01-27T12:02:37.488Z"
   },
   {
    "duration": 112,
    "start_time": "2022-01-27T12:02:37.516Z"
   },
   {
    "duration": 195,
    "start_time": "2022-01-27T12:02:37.629Z"
   },
   {
    "duration": 16,
    "start_time": "2022-01-27T12:02:37.825Z"
   },
   {
    "duration": 355,
    "start_time": "2022-01-27T12:02:37.843Z"
   },
   {
    "duration": 9,
    "start_time": "2022-01-27T12:02:38.200Z"
   },
   {
    "duration": 37,
    "start_time": "2022-01-27T12:02:38.210Z"
   },
   {
    "duration": 344,
    "start_time": "2022-01-27T12:02:38.248Z"
   },
   {
    "duration": 8,
    "start_time": "2022-01-27T12:02:38.594Z"
   },
   {
    "duration": 35,
    "start_time": "2022-01-27T12:02:38.604Z"
   },
   {
    "duration": 36,
    "start_time": "2022-01-27T12:02:38.641Z"
   },
   {
    "duration": 31,
    "start_time": "2022-01-27T12:02:38.679Z"
   },
   {
    "duration": 331,
    "start_time": "2022-01-27T12:02:38.712Z"
   },
   {
    "duration": 16,
    "start_time": "2022-01-27T12:02:39.045Z"
   },
   {
    "duration": 34,
    "start_time": "2022-01-27T12:02:39.063Z"
   },
   {
    "duration": 25,
    "start_time": "2022-01-27T12:02:39.099Z"
   },
   {
    "duration": 40,
    "start_time": "2022-01-27T12:02:39.125Z"
   },
   {
    "duration": 27,
    "start_time": "2022-01-27T12:02:39.167Z"
   },
   {
    "duration": 29,
    "start_time": "2022-01-27T12:02:39.196Z"
   },
   {
    "duration": 170,
    "start_time": "2022-01-27T12:02:39.226Z"
   },
   {
    "duration": 218,
    "start_time": "2022-01-27T12:02:39.399Z"
   },
   {
    "duration": 55,
    "start_time": "2022-01-27T12:02:39.620Z"
   },
   {
    "duration": 59,
    "start_time": "2022-01-27T12:02:39.676Z"
   },
   {
    "duration": 146,
    "start_time": "2022-01-27T12:02:39.737Z"
   },
   {
    "duration": 180,
    "start_time": "2022-01-27T12:29:47.039Z"
   },
   {
    "duration": 354,
    "start_time": "2022-01-27T12:34:12.021Z"
   },
   {
    "duration": 9,
    "start_time": "2022-01-27T12:34:17.591Z"
   },
   {
    "duration": 12,
    "start_time": "2022-01-27T12:34:31.183Z"
   },
   {
    "duration": 13,
    "start_time": "2022-01-27T12:34:50.214Z"
   },
   {
    "duration": 13,
    "start_time": "2022-01-27T12:37:17.887Z"
   },
   {
    "duration": 28,
    "start_time": "2022-01-27T12:39:03.191Z"
   },
   {
    "duration": 15,
    "start_time": "2022-01-27T12:41:29.773Z"
   },
   {
    "duration": 333,
    "start_time": "2022-01-27T19:45:51.535Z"
   },
   {
    "duration": 712,
    "start_time": "2022-01-27T19:46:01.591Z"
   },
   {
    "duration": 510,
    "start_time": "2022-01-27T19:46:02.305Z"
   },
   {
    "duration": 22,
    "start_time": "2022-01-27T19:46:02.817Z"
   },
   {
    "duration": 102,
    "start_time": "2022-01-27T19:46:02.841Z"
   },
   {
    "duration": 170,
    "start_time": "2022-01-27T19:46:02.944Z"
   },
   {
    "duration": 12,
    "start_time": "2022-01-27T19:46:03.115Z"
   },
   {
    "duration": 401,
    "start_time": "2022-01-27T19:46:03.129Z"
   },
   {
    "duration": 8,
    "start_time": "2022-01-27T19:46:03.533Z"
   },
   {
    "duration": 12,
    "start_time": "2022-01-27T19:46:03.543Z"
   },
   {
    "duration": 411,
    "start_time": "2022-01-27T19:46:03.557Z"
   },
   {
    "duration": 8,
    "start_time": "2022-01-27T19:46:03.970Z"
   },
   {
    "duration": 23,
    "start_time": "2022-01-27T19:46:03.980Z"
   },
   {
    "duration": 8,
    "start_time": "2022-01-27T19:46:04.005Z"
   },
   {
    "duration": 8,
    "start_time": "2022-01-27T19:46:04.014Z"
   },
   {
    "duration": 355,
    "start_time": "2022-01-27T19:46:04.023Z"
   },
   {
    "duration": 7,
    "start_time": "2022-01-27T19:46:04.380Z"
   },
   {
    "duration": 9,
    "start_time": "2022-01-27T19:46:04.398Z"
   },
   {
    "duration": 7,
    "start_time": "2022-01-27T19:46:04.409Z"
   },
   {
    "duration": 13,
    "start_time": "2022-01-27T19:46:04.418Z"
   },
   {
    "duration": 9,
    "start_time": "2022-01-27T19:46:04.433Z"
   },
   {
    "duration": 7,
    "start_time": "2022-01-27T19:46:04.443Z"
   },
   {
    "duration": 173,
    "start_time": "2022-01-27T19:46:04.452Z"
   },
   {
    "duration": 208,
    "start_time": "2022-01-27T19:46:04.629Z"
   },
   {
    "duration": 58,
    "start_time": "2022-01-27T19:46:04.840Z"
   },
   {
    "duration": 64,
    "start_time": "2022-01-27T19:46:04.900Z"
   },
   {
    "duration": 158,
    "start_time": "2022-01-27T19:46:04.966Z"
   },
   {
    "duration": 15,
    "start_time": "2022-01-27T19:46:05.126Z"
   },
   {
    "duration": 1817,
    "start_time": "2022-01-27T19:46:05.142Z"
   },
   {
    "duration": 7011,
    "start_time": "2022-01-27T19:46:37.961Z"
   },
   {
    "duration": 7,
    "start_time": "2022-01-27T19:47:00.529Z"
   },
   {
    "duration": 6,
    "start_time": "2022-01-27T19:47:31.033Z"
   },
   {
    "duration": 274,
    "start_time": "2022-01-27T19:50:23.053Z"
   },
   {
    "duration": 6,
    "start_time": "2022-01-27T19:50:38.213Z"
   },
   {
    "duration": 7,
    "start_time": "2022-01-27T19:51:07.558Z"
   },
   {
    "duration": 264,
    "start_time": "2022-01-27T19:59:18.980Z"
   },
   {
    "duration": 6943,
    "start_time": "2022-01-27T19:59:38.898Z"
   },
   {
    "duration": 96,
    "start_time": "2022-01-27T20:00:03.988Z"
   },
   {
    "duration": 5,
    "start_time": "2022-01-27T20:00:28.022Z"
   },
   {
    "duration": 9,
    "start_time": "2022-01-27T20:00:45.496Z"
   },
   {
    "duration": 7,
    "start_time": "2022-01-27T20:00:58.645Z"
   },
   {
    "duration": 5,
    "start_time": "2022-01-27T20:01:27.034Z"
   },
   {
    "duration": 611,
    "start_time": "2022-01-27T20:03:43.988Z"
   },
   {
    "duration": 918,
    "start_time": "2022-01-27T20:03:52.144Z"
   },
   {
    "duration": 999,
    "start_time": "2022-01-27T20:04:20.381Z"
   },
   {
    "duration": 1078,
    "start_time": "2022-01-27T20:04:37.720Z"
   },
   {
    "duration": 332,
    "start_time": "2022-01-27T20:07:53.467Z"
   },
   {
    "duration": 4,
    "start_time": "2022-01-27T20:08:04.388Z"
   },
   {
    "duration": 600,
    "start_time": "2022-01-27T20:09:49.285Z"
   },
   {
    "duration": 1131,
    "start_time": "2022-01-27T20:10:07.824Z"
   },
   {
    "duration": 1357,
    "start_time": "2022-01-27T20:12:11.210Z"
   },
   {
    "duration": 1201,
    "start_time": "2022-01-27T20:12:17.770Z"
   },
   {
    "duration": 1228,
    "start_time": "2022-01-27T20:12:33.315Z"
   },
   {
    "duration": 591,
    "start_time": "2022-01-27T20:13:13.726Z"
   },
   {
    "duration": 630,
    "start_time": "2022-01-27T20:13:22.602Z"
   },
   {
    "duration": 619,
    "start_time": "2022-01-27T20:15:13.982Z"
   },
   {
    "duration": 1233,
    "start_time": "2022-01-27T20:15:20.375Z"
   },
   {
    "duration": 645,
    "start_time": "2022-01-27T20:17:15.510Z"
   },
   {
    "duration": 1185,
    "start_time": "2022-01-27T20:17:27.866Z"
   },
   {
    "duration": 1134,
    "start_time": "2022-01-27T20:17:43.195Z"
   },
   {
    "duration": 1883,
    "start_time": "2022-01-27T20:19:04.211Z"
   },
   {
    "duration": 2254,
    "start_time": "2022-01-27T20:19:19.529Z"
   },
   {
    "duration": 1896,
    "start_time": "2022-01-27T20:19:30.967Z"
   },
   {
    "duration": 638,
    "start_time": "2022-01-27T20:19:52.836Z"
   },
   {
    "duration": 700,
    "start_time": "2022-01-27T20:21:21.264Z"
   },
   {
    "duration": 1931,
    "start_time": "2022-01-27T20:21:45.428Z"
   },
   {
    "duration": 1926,
    "start_time": "2022-01-27T20:22:10.754Z"
   },
   {
    "duration": 2016,
    "start_time": "2022-01-27T20:23:03.389Z"
   },
   {
    "duration": 1921,
    "start_time": "2022-01-27T20:23:08.596Z"
   },
   {
    "duration": 1819,
    "start_time": "2022-01-27T20:23:13.941Z"
   },
   {
    "duration": 1872,
    "start_time": "2022-01-27T20:23:45.875Z"
   },
   {
    "duration": 1802,
    "start_time": "2022-01-27T20:24:15.432Z"
   },
   {
    "duration": 2004,
    "start_time": "2022-01-27T20:24:24.381Z"
   },
   {
    "duration": 722,
    "start_time": "2022-01-27T20:29:01.296Z"
   },
   {
    "duration": 5,
    "start_time": "2022-01-27T20:31:03.001Z"
   },
   {
    "duration": 7,
    "start_time": "2022-01-27T20:31:21.936Z"
   },
   {
    "duration": 7,
    "start_time": "2022-01-27T20:32:16.573Z"
   },
   {
    "duration": 7,
    "start_time": "2022-01-27T20:32:46.440Z"
   },
   {
    "duration": 305,
    "start_time": "2022-01-27T20:34:54.489Z"
   },
   {
    "duration": 3909,
    "start_time": "2022-01-27T20:35:25.787Z"
   },
   {
    "duration": 7,
    "start_time": "2022-01-27T20:35:40.310Z"
   },
   {
    "duration": 289,
    "start_time": "2022-01-27T20:37:57.426Z"
   },
   {
    "duration": 278,
    "start_time": "2022-01-27T20:42:44.965Z"
   },
   {
    "duration": 6676,
    "start_time": "2022-01-27T20:43:39.099Z"
   },
   {
    "duration": 6,
    "start_time": "2022-01-27T20:44:14.140Z"
   },
   {
    "duration": 305,
    "start_time": "2022-01-27T20:45:06.629Z"
   },
   {
    "duration": 260,
    "start_time": "2022-01-27T20:45:58.351Z"
   },
   {
    "duration": 262,
    "start_time": "2022-01-27T20:46:38.025Z"
   },
   {
    "duration": 268,
    "start_time": "2022-01-27T20:47:07.837Z"
   },
   {
    "duration": 11,
    "start_time": "2022-01-27T20:47:34.873Z"
   },
   {
    "duration": 11,
    "start_time": "2022-01-27T20:48:41.517Z"
   },
   {
    "duration": 13,
    "start_time": "2022-01-27T20:49:53.714Z"
   },
   {
    "duration": 133,
    "start_time": "2022-01-27T20:52:12.010Z"
   },
   {
    "duration": 16,
    "start_time": "2022-01-27T20:52:20.431Z"
   },
   {
    "duration": 16,
    "start_time": "2022-01-27T21:02:38.828Z"
   },
   {
    "duration": 274,
    "start_time": "2022-01-27T21:06:25.382Z"
   },
   {
    "duration": 12,
    "start_time": "2022-01-27T21:07:48.308Z"
   },
   {
    "duration": 7,
    "start_time": "2022-01-27T21:10:09.889Z"
   },
   {
    "duration": 9,
    "start_time": "2022-01-27T21:11:15.932Z"
   },
   {
    "duration": 9,
    "start_time": "2022-01-27T21:11:26.006Z"
   },
   {
    "duration": 275,
    "start_time": "2022-01-27T21:12:46.965Z"
   },
   {
    "duration": 8,
    "start_time": "2022-01-27T21:15:30.390Z"
   },
   {
    "duration": 12,
    "start_time": "2022-01-27T21:15:42.426Z"
   },
   {
    "duration": 11,
    "start_time": "2022-01-27T21:16:03.699Z"
   },
   {
    "duration": 12,
    "start_time": "2022-01-27T21:16:09.025Z"
   },
   {
    "duration": 17,
    "start_time": "2022-01-27T21:20:03.273Z"
   },
   {
    "duration": 16,
    "start_time": "2022-01-27T21:22:37.494Z"
   },
   {
    "duration": 1057,
    "start_time": "2022-01-27T21:23:19.494Z"
   },
   {
    "duration": 1124,
    "start_time": "2022-01-27T21:23:44.033Z"
   },
   {
    "duration": 21,
    "start_time": "2022-01-27T21:24:18.302Z"
   },
   {
    "duration": 1067,
    "start_time": "2022-01-27T21:24:36.241Z"
   },
   {
    "duration": 18,
    "start_time": "2022-01-27T21:25:15.198Z"
   },
   {
    "duration": 1149,
    "start_time": "2022-01-27T21:25:30.900Z"
   },
   {
    "duration": 12,
    "start_time": "2022-01-27T21:26:43.686Z"
   },
   {
    "duration": 12,
    "start_time": "2022-01-27T21:26:47.928Z"
   },
   {
    "duration": 20,
    "start_time": "2022-01-27T21:27:01.217Z"
   },
   {
    "duration": 4433,
    "start_time": "2022-01-27T21:27:49.604Z"
   },
   {
    "duration": 13,
    "start_time": "2022-01-27T21:32:44.681Z"
   },
   {
    "duration": 1073,
    "start_time": "2022-01-27T21:33:17.551Z"
   },
   {
    "duration": 1071,
    "start_time": "2022-01-27T21:33:25.912Z"
   },
   {
    "duration": 1058,
    "start_time": "2022-01-27T21:34:08.946Z"
   },
   {
    "duration": 17,
    "start_time": "2022-01-27T21:36:08.378Z"
   },
   {
    "duration": 1773,
    "start_time": "2022-01-27T21:36:55.570Z"
   },
   {
    "duration": 17,
    "start_time": "2022-01-27T21:38:04.565Z"
   },
   {
    "duration": 18,
    "start_time": "2022-01-27T21:38:27.561Z"
   },
   {
    "duration": 18,
    "start_time": "2022-01-27T21:40:09.059Z"
   },
   {
    "duration": 679,
    "start_time": "2022-01-28T04:48:33.857Z"
   },
   {
    "duration": 488,
    "start_time": "2022-01-28T04:48:34.538Z"
   },
   {
    "duration": 53,
    "start_time": "2022-01-28T04:48:35.028Z"
   },
   {
    "duration": 102,
    "start_time": "2022-01-28T04:48:35.083Z"
   },
   {
    "duration": 175,
    "start_time": "2022-01-28T04:48:35.187Z"
   },
   {
    "duration": 17,
    "start_time": "2022-01-28T04:48:35.364Z"
   },
   {
    "duration": 335,
    "start_time": "2022-01-28T04:48:35.383Z"
   },
   {
    "duration": 10,
    "start_time": "2022-01-28T04:48:35.722Z"
   },
   {
    "duration": 27,
    "start_time": "2022-01-28T04:48:35.734Z"
   },
   {
    "duration": 342,
    "start_time": "2022-01-28T04:48:35.764Z"
   },
   {
    "duration": 10,
    "start_time": "2022-01-28T04:48:36.108Z"
   },
   {
    "duration": 8,
    "start_time": "2022-01-28T04:48:36.119Z"
   },
   {
    "duration": 34,
    "start_time": "2022-01-28T04:48:36.128Z"
   },
   {
    "duration": 6,
    "start_time": "2022-01-28T04:48:36.163Z"
   },
   {
    "duration": 303,
    "start_time": "2022-01-28T04:48:36.171Z"
   },
   {
    "duration": 7,
    "start_time": "2022-01-28T04:48:36.475Z"
   },
   {
    "duration": 17,
    "start_time": "2022-01-28T04:48:36.483Z"
   },
   {
    "duration": 19,
    "start_time": "2022-01-28T04:48:36.502Z"
   },
   {
    "duration": 17,
    "start_time": "2022-01-28T04:48:36.523Z"
   },
   {
    "duration": 19,
    "start_time": "2022-01-28T04:48:36.542Z"
   },
   {
    "duration": 7,
    "start_time": "2022-01-28T04:48:36.562Z"
   },
   {
    "duration": 149,
    "start_time": "2022-01-28T04:48:36.571Z"
   },
   {
    "duration": 212,
    "start_time": "2022-01-28T04:48:36.723Z"
   },
   {
    "duration": 47,
    "start_time": "2022-01-28T04:48:36.937Z"
   },
   {
    "duration": 57,
    "start_time": "2022-01-28T04:48:36.986Z"
   },
   {
    "duration": 143,
    "start_time": "2022-01-28T04:48:37.045Z"
   },
   {
    "duration": 14,
    "start_time": "2022-01-28T04:48:37.190Z"
   },
   {
    "duration": 310,
    "start_time": "2022-01-28T04:48:37.205Z"
   },
   {
    "duration": -61,
    "start_time": "2022-01-28T04:48:37.578Z"
   },
   {
    "duration": 87,
    "start_time": "2022-01-28T04:50:29.653Z"
   },
   {
    "duration": 19,
    "start_time": "2022-01-28T04:51:02.063Z"
   },
   {
    "duration": 20,
    "start_time": "2022-01-28T04:52:05.968Z"
   },
   {
    "duration": 661,
    "start_time": "2022-01-28T04:52:34.944Z"
   },
   {
    "duration": 486,
    "start_time": "2022-01-28T04:52:35.607Z"
   },
   {
    "duration": 23,
    "start_time": "2022-01-28T04:52:36.096Z"
   },
   {
    "duration": 110,
    "start_time": "2022-01-28T04:52:36.121Z"
   },
   {
    "duration": 160,
    "start_time": "2022-01-28T04:52:36.232Z"
   },
   {
    "duration": 15,
    "start_time": "2022-01-28T04:52:36.394Z"
   },
   {
    "duration": 405,
    "start_time": "2022-01-28T04:52:36.411Z"
   },
   {
    "duration": 9,
    "start_time": "2022-01-28T04:52:36.820Z"
   },
   {
    "duration": 26,
    "start_time": "2022-01-28T04:52:36.831Z"
   },
   {
    "duration": 349,
    "start_time": "2022-01-28T04:52:36.858Z"
   },
   {
    "duration": 8,
    "start_time": "2022-01-28T04:52:37.209Z"
   },
   {
    "duration": 9,
    "start_time": "2022-01-28T04:52:37.219Z"
   },
   {
    "duration": 31,
    "start_time": "2022-01-28T04:52:37.230Z"
   },
   {
    "duration": 12,
    "start_time": "2022-01-28T04:52:37.263Z"
   },
   {
    "duration": 300,
    "start_time": "2022-01-28T04:52:37.277Z"
   },
   {
    "duration": 7,
    "start_time": "2022-01-28T04:52:37.578Z"
   },
   {
    "duration": 8,
    "start_time": "2022-01-28T04:52:37.587Z"
   },
   {
    "duration": 6,
    "start_time": "2022-01-28T04:52:37.596Z"
   },
   {
    "duration": 8,
    "start_time": "2022-01-28T04:52:37.603Z"
   },
   {
    "duration": 7,
    "start_time": "2022-01-28T04:52:37.613Z"
   },
   {
    "duration": 41,
    "start_time": "2022-01-28T04:52:37.621Z"
   },
   {
    "duration": 143,
    "start_time": "2022-01-28T04:52:37.664Z"
   },
   {
    "duration": 202,
    "start_time": "2022-01-28T04:52:37.810Z"
   },
   {
    "duration": 51,
    "start_time": "2022-01-28T04:52:38.014Z"
   },
   {
    "duration": 59,
    "start_time": "2022-01-28T04:52:38.066Z"
   },
   {
    "duration": 145,
    "start_time": "2022-01-28T04:52:38.126Z"
   },
   {
    "duration": 13,
    "start_time": "2022-01-28T04:52:38.272Z"
   },
   {
    "duration": 19,
    "start_time": "2022-01-28T04:52:38.287Z"
   },
   {
    "duration": 1691,
    "start_time": "2022-01-28T04:52:38.308Z"
   },
   {
    "duration": 19,
    "start_time": "2022-01-28T04:59:07.915Z"
   },
   {
    "duration": 20,
    "start_time": "2022-01-28T05:02:20.143Z"
   },
   {
    "duration": 613,
    "start_time": "2022-01-28T10:29:04.938Z"
   },
   {
    "duration": 468,
    "start_time": "2022-01-28T10:29:05.553Z"
   },
   {
    "duration": 22,
    "start_time": "2022-01-28T10:29:06.022Z"
   },
   {
    "duration": 92,
    "start_time": "2022-01-28T10:29:06.046Z"
   },
   {
    "duration": 167,
    "start_time": "2022-01-28T10:29:06.140Z"
   },
   {
    "duration": 12,
    "start_time": "2022-01-28T10:29:06.308Z"
   },
   {
    "duration": 370,
    "start_time": "2022-01-28T10:29:06.321Z"
   },
   {
    "duration": 20,
    "start_time": "2022-01-28T10:29:06.693Z"
   },
   {
    "duration": 9,
    "start_time": "2022-01-28T10:29:06.715Z"
   },
   {
    "duration": 380,
    "start_time": "2022-01-28T10:29:06.726Z"
   },
   {
    "duration": 10,
    "start_time": "2022-01-28T10:29:07.107Z"
   },
   {
    "duration": 7,
    "start_time": "2022-01-28T10:29:07.118Z"
   },
   {
    "duration": 8,
    "start_time": "2022-01-28T10:29:07.126Z"
   },
   {
    "duration": 7,
    "start_time": "2022-01-28T10:29:07.135Z"
   },
   {
    "duration": 338,
    "start_time": "2022-01-28T10:29:07.143Z"
   },
   {
    "duration": 7,
    "start_time": "2022-01-28T10:29:07.482Z"
   },
   {
    "duration": 28,
    "start_time": "2022-01-28T10:29:07.490Z"
   },
   {
    "duration": 5,
    "start_time": "2022-01-28T10:29:07.519Z"
   },
   {
    "duration": 7,
    "start_time": "2022-01-28T10:29:07.526Z"
   },
   {
    "duration": 6,
    "start_time": "2022-01-28T10:29:07.535Z"
   },
   {
    "duration": 6,
    "start_time": "2022-01-28T10:29:07.542Z"
   },
   {
    "duration": 167,
    "start_time": "2022-01-28T10:29:07.549Z"
   },
   {
    "duration": 202,
    "start_time": "2022-01-28T10:29:07.717Z"
   },
   {
    "duration": 42,
    "start_time": "2022-01-28T10:29:07.920Z"
   },
   {
    "duration": 74,
    "start_time": "2022-01-28T10:29:07.964Z"
   },
   {
    "duration": 5,
    "start_time": "2022-01-28T10:29:08.039Z"
   },
   {
    "duration": 138,
    "start_time": "2022-01-28T10:29:08.047Z"
   },
   {
    "duration": 14,
    "start_time": "2022-01-28T10:29:08.187Z"
   },
   {
    "duration": 18,
    "start_time": "2022-01-28T10:29:08.212Z"
   },
   {
    "duration": 1780,
    "start_time": "2022-01-28T10:29:08.232Z"
   },
   {
    "duration": 67,
    "start_time": "2022-01-28T10:30:03.869Z"
   },
   {
    "duration": 6,
    "start_time": "2022-01-28T10:30:09.216Z"
   },
   {
    "duration": 55,
    "start_time": "2022-01-28T10:41:00.841Z"
   },
   {
    "duration": 136,
    "start_time": "2022-01-28T10:41:26.363Z"
   },
   {
    "duration": 14,
    "start_time": "2022-01-28T10:41:32.179Z"
   },
   {
    "duration": 20,
    "start_time": "2022-01-28T10:41:35.631Z"
   },
   {
    "duration": 1734,
    "start_time": "2022-01-28T10:41:46.083Z"
   },
   {
    "duration": 64,
    "start_time": "2022-01-28T11:15:38.970Z"
   },
   {
    "duration": 17,
    "start_time": "2022-01-28T11:43:50.891Z"
   },
   {
    "duration": 2274,
    "start_time": "2022-01-28T11:44:03.827Z"
   },
   {
    "duration": 685,
    "start_time": "2022-01-28T11:57:43.516Z"
   },
   {
    "duration": 423,
    "start_time": "2022-01-28T12:01:13.505Z"
   },
   {
    "duration": 652,
    "start_time": "2022-01-28T12:01:19.880Z"
   },
   {
    "duration": 640,
    "start_time": "2022-01-28T12:02:29.764Z"
   },
   {
    "duration": 623,
    "start_time": "2022-01-28T12:02:46.722Z"
   },
   {
    "duration": 249,
    "start_time": "2022-01-28T12:08:03.163Z"
   },
   {
    "duration": 287,
    "start_time": "2022-01-28T12:08:14.407Z"
   },
   {
    "duration": 422,
    "start_time": "2022-01-28T12:08:23.146Z"
   },
   {
    "duration": 147,
    "start_time": "2022-01-28T12:10:31.845Z"
   },
   {
    "duration": 45,
    "start_time": "2022-01-28T12:10:42.958Z"
   },
   {
    "duration": 63,
    "start_time": "2022-01-28T12:10:44.284Z"
   },
   {
    "duration": 139,
    "start_time": "2022-01-28T12:10:46.905Z"
   },
   {
    "duration": 17,
    "start_time": "2022-01-28T12:10:50.242Z"
   },
   {
    "duration": 18,
    "start_time": "2022-01-28T12:10:52.239Z"
   },
   {
    "duration": 2274,
    "start_time": "2022-01-28T12:10:53.123Z"
   },
   {
    "duration": 629,
    "start_time": "2022-01-28T12:11:02.663Z"
   },
   {
    "duration": 250,
    "start_time": "2022-01-28T12:17:09.281Z"
   },
   {
    "duration": 6,
    "start_time": "2022-01-28T12:17:21.529Z"
   },
   {
    "duration": 5,
    "start_time": "2022-01-28T12:18:21.646Z"
   },
   {
    "duration": 612,
    "start_time": "2022-01-28T12:26:53.716Z"
   },
   {
    "duration": 911,
    "start_time": "2022-01-28T12:27:22.626Z"
   },
   {
    "duration": 648,
    "start_time": "2022-01-28T12:27:32.452Z"
   },
   {
    "duration": 9,
    "start_time": "2022-01-28T12:29:54.690Z"
   },
   {
    "duration": 6,
    "start_time": "2022-01-28T12:35:19.328Z"
   },
   {
    "duration": 5,
    "start_time": "2022-01-28T12:35:34.217Z"
   },
   {
    "duration": 5,
    "start_time": "2022-01-28T12:35:46.485Z"
   },
   {
    "duration": 6,
    "start_time": "2022-01-28T12:37:55.833Z"
   },
   {
    "duration": 8,
    "start_time": "2022-01-28T12:39:45.013Z"
   },
   {
    "duration": 71,
    "start_time": "2022-01-28T12:44:44.517Z"
   },
   {
    "duration": 4,
    "start_time": "2022-01-28T12:44:55.405Z"
   },
   {
    "duration": 65,
    "start_time": "2022-01-28T12:44:59.965Z"
   },
   {
    "duration": 4,
    "start_time": "2022-01-28T12:45:05.856Z"
   },
   {
    "duration": 182,
    "start_time": "2022-01-28T12:45:40.088Z"
   },
   {
    "duration": 4,
    "start_time": "2022-01-28T12:46:02.286Z"
   },
   {
    "duration": 5,
    "start_time": "2022-01-28T12:46:37.705Z"
   },
   {
    "duration": 7,
    "start_time": "2022-01-28T13:10:17.506Z"
   },
   {
    "duration": 10,
    "start_time": "2022-01-28T13:10:41.323Z"
   },
   {
    "duration": 1067,
    "start_time": "2022-01-28T13:19:22.010Z"
   },
   {
    "duration": 500,
    "start_time": "2022-01-28T13:19:23.079Z"
   },
   {
    "duration": 56,
    "start_time": "2022-01-28T13:19:23.581Z"
   },
   {
    "duration": 93,
    "start_time": "2022-01-28T13:19:23.639Z"
   },
   {
    "duration": 169,
    "start_time": "2022-01-28T13:19:23.734Z"
   },
   {
    "duration": 14,
    "start_time": "2022-01-28T13:19:23.917Z"
   },
   {
    "duration": 474,
    "start_time": "2022-01-28T13:19:23.933Z"
   },
   {
    "duration": 19,
    "start_time": "2022-01-28T13:19:24.409Z"
   },
   {
    "duration": 14,
    "start_time": "2022-01-28T13:19:24.430Z"
   },
   {
    "duration": 509,
    "start_time": "2022-01-28T13:19:24.445Z"
   },
   {
    "duration": 8,
    "start_time": "2022-01-28T13:19:24.955Z"
   },
   {
    "duration": 19,
    "start_time": "2022-01-28T13:19:24.964Z"
   },
   {
    "duration": 9,
    "start_time": "2022-01-28T13:19:24.984Z"
   },
   {
    "duration": 27,
    "start_time": "2022-01-28T13:19:24.994Z"
   },
   {
    "duration": 392,
    "start_time": "2022-01-28T13:19:25.022Z"
   },
   {
    "duration": 10,
    "start_time": "2022-01-28T13:19:25.417Z"
   },
   {
    "duration": 12,
    "start_time": "2022-01-28T13:19:25.429Z"
   },
   {
    "duration": 17,
    "start_time": "2022-01-28T13:19:25.442Z"
   },
   {
    "duration": 21,
    "start_time": "2022-01-28T13:19:25.461Z"
   },
   {
    "duration": 16,
    "start_time": "2022-01-28T13:19:25.484Z"
   },
   {
    "duration": 20,
    "start_time": "2022-01-28T13:19:25.501Z"
   },
   {
    "duration": 158,
    "start_time": "2022-01-28T13:19:25.523Z"
   },
   {
    "duration": 211,
    "start_time": "2022-01-28T13:19:25.684Z"
   },
   {
    "duration": 58,
    "start_time": "2022-01-28T13:19:25.897Z"
   },
   {
    "duration": 71,
    "start_time": "2022-01-28T13:19:25.956Z"
   },
   {
    "duration": 133,
    "start_time": "2022-01-28T13:19:26.029Z"
   },
   {
    "duration": 13,
    "start_time": "2022-01-28T13:19:26.164Z"
   },
   {
    "duration": 27,
    "start_time": "2022-01-28T13:19:26.178Z"
   },
   {
    "duration": 2389,
    "start_time": "2022-01-28T13:19:26.220Z"
   },
   {
    "duration": 641,
    "start_time": "2022-01-28T13:19:28.611Z"
   },
   {
    "duration": 5,
    "start_time": "2022-01-28T13:19:29.254Z"
   },
   {
    "duration": 8,
    "start_time": "2022-01-28T13:19:29.260Z"
   },
   {
    "duration": 676,
    "start_time": "2022-01-28T13:19:29.269Z"
   },
   {
    "duration": 9,
    "start_time": "2022-01-28T13:19:29.946Z"
   },
   {
    "duration": 1026,
    "start_time": "2022-02-06T08:44:40.926Z"
   },
   {
    "duration": 463,
    "start_time": "2022-02-06T08:44:41.954Z"
   },
   {
    "duration": 21,
    "start_time": "2022-02-06T08:44:42.419Z"
   },
   {
    "duration": 96,
    "start_time": "2022-02-06T08:44:42.442Z"
   },
   {
    "duration": 169,
    "start_time": "2022-02-06T08:44:42.539Z"
   },
   {
    "duration": 12,
    "start_time": "2022-02-06T08:44:42.709Z"
   },
   {
    "duration": 466,
    "start_time": "2022-02-06T08:44:42.723Z"
   },
   {
    "duration": 21,
    "start_time": "2022-02-06T08:44:43.192Z"
   },
   {
    "duration": 9,
    "start_time": "2022-02-06T08:44:43.215Z"
   },
   {
    "duration": 476,
    "start_time": "2022-02-06T08:44:43.226Z"
   },
   {
    "duration": 8,
    "start_time": "2022-02-06T08:44:43.711Z"
   },
   {
    "duration": 7,
    "start_time": "2022-02-06T08:44:43.720Z"
   },
   {
    "duration": 7,
    "start_time": "2022-02-06T08:44:43.729Z"
   },
   {
    "duration": 6,
    "start_time": "2022-02-06T08:44:43.737Z"
   },
   {
    "duration": 386,
    "start_time": "2022-02-06T08:44:43.745Z"
   },
   {
    "duration": 7,
    "start_time": "2022-02-06T08:44:44.132Z"
   },
   {
    "duration": 7,
    "start_time": "2022-02-06T08:44:44.140Z"
   },
   {
    "duration": 4,
    "start_time": "2022-02-06T08:44:44.149Z"
   },
   {
    "duration": 7,
    "start_time": "2022-02-06T08:44:44.154Z"
   },
   {
    "duration": 6,
    "start_time": "2022-02-06T08:44:44.163Z"
   },
   {
    "duration": 44,
    "start_time": "2022-02-06T08:44:44.170Z"
   },
   {
    "duration": 149,
    "start_time": "2022-02-06T08:44:44.216Z"
   },
   {
    "duration": 197,
    "start_time": "2022-02-06T08:44:44.369Z"
   },
   {
    "duration": 51,
    "start_time": "2022-02-06T08:44:44.568Z"
   },
   {
    "duration": 56,
    "start_time": "2022-02-06T08:44:44.621Z"
   },
   {
    "duration": 142,
    "start_time": "2022-02-06T08:44:44.679Z"
   },
   {
    "duration": 13,
    "start_time": "2022-02-06T08:44:44.823Z"
   },
   {
    "duration": 21,
    "start_time": "2022-02-06T08:44:44.838Z"
   },
   {
    "duration": 2321,
    "start_time": "2022-02-06T08:44:44.861Z"
   },
   {
    "duration": 615,
    "start_time": "2022-02-06T08:44:47.184Z"
   },
   {
    "duration": 6,
    "start_time": "2022-02-06T08:44:47.801Z"
   },
   {
    "duration": 7,
    "start_time": "2022-02-06T08:44:47.813Z"
   },
   {
    "duration": 632,
    "start_time": "2022-02-06T08:44:47.822Z"
   },
   {
    "duration": 11,
    "start_time": "2022-02-06T08:44:48.456Z"
   },
   {
    "duration": 596,
    "start_time": "2022-02-06T08:46:55.054Z"
   },
   {
    "duration": 5,
    "start_time": "2022-02-06T08:47:06.312Z"
   },
   {
    "duration": 4,
    "start_time": "2022-02-06T08:47:51.153Z"
   },
   {
    "duration": 997,
    "start_time": "2022-02-06T08:50:52.651Z"
   },
   {
    "duration": 466,
    "start_time": "2022-02-06T08:50:53.650Z"
   },
   {
    "duration": 23,
    "start_time": "2022-02-06T08:50:54.118Z"
   },
   {
    "duration": 95,
    "start_time": "2022-02-06T08:50:54.143Z"
   },
   {
    "duration": 159,
    "start_time": "2022-02-06T08:50:54.240Z"
   },
   {
    "duration": 21,
    "start_time": "2022-02-06T08:50:54.400Z"
   },
   {
    "duration": 453,
    "start_time": "2022-02-06T08:50:54.423Z"
   },
   {
    "duration": 8,
    "start_time": "2022-02-06T08:50:54.879Z"
   },
   {
    "duration": 25,
    "start_time": "2022-02-06T08:50:54.889Z"
   },
   {
    "duration": 462,
    "start_time": "2022-02-06T08:50:54.915Z"
   },
   {
    "duration": 8,
    "start_time": "2022-02-06T08:50:55.379Z"
   },
   {
    "duration": 26,
    "start_time": "2022-02-06T08:50:55.389Z"
   },
   {
    "duration": 8,
    "start_time": "2022-02-06T08:50:55.417Z"
   },
   {
    "duration": 8,
    "start_time": "2022-02-06T08:50:55.426Z"
   },
   {
    "duration": 358,
    "start_time": "2022-02-06T08:50:55.436Z"
   },
   {
    "duration": 17,
    "start_time": "2022-02-06T08:50:55.796Z"
   },
   {
    "duration": 9,
    "start_time": "2022-02-06T08:50:55.814Z"
   },
   {
    "duration": 6,
    "start_time": "2022-02-06T08:50:55.824Z"
   },
   {
    "duration": 8,
    "start_time": "2022-02-06T08:50:55.831Z"
   },
   {
    "duration": 7,
    "start_time": "2022-02-06T08:50:55.841Z"
   },
   {
    "duration": 6,
    "start_time": "2022-02-06T08:50:55.849Z"
   },
   {
    "duration": 167,
    "start_time": "2022-02-06T08:50:55.856Z"
   },
   {
    "duration": 188,
    "start_time": "2022-02-06T08:50:56.025Z"
   },
   {
    "duration": 617,
    "start_time": "2022-02-06T08:50:56.214Z"
   },
   {
    "duration": -2030,
    "start_time": "2022-02-06T08:50:58.863Z"
   },
   {
    "duration": -2087,
    "start_time": "2022-02-06T08:50:58.921Z"
   },
   {
    "duration": -2093,
    "start_time": "2022-02-06T08:50:58.928Z"
   },
   {
    "duration": -2099,
    "start_time": "2022-02-06T08:50:58.935Z"
   },
   {
    "duration": -2104,
    "start_time": "2022-02-06T08:50:58.941Z"
   },
   {
    "duration": -2109,
    "start_time": "2022-02-06T08:50:58.947Z"
   },
   {
    "duration": -2115,
    "start_time": "2022-02-06T08:50:58.953Z"
   },
   {
    "duration": -2125,
    "start_time": "2022-02-06T08:50:58.964Z"
   },
   {
    "duration": -2131,
    "start_time": "2022-02-06T08:50:58.971Z"
   },
   {
    "duration": -2144,
    "start_time": "2022-02-06T08:50:58.985Z"
   },
   {
    "duration": 1046,
    "start_time": "2022-02-06T08:51:28.908Z"
   },
   {
    "duration": 472,
    "start_time": "2022-02-06T08:51:29.956Z"
   },
   {
    "duration": 22,
    "start_time": "2022-02-06T08:51:30.431Z"
   },
   {
    "duration": 102,
    "start_time": "2022-02-06T08:51:30.455Z"
   },
   {
    "duration": 177,
    "start_time": "2022-02-06T08:51:30.559Z"
   },
   {
    "duration": 11,
    "start_time": "2022-02-06T08:51:30.738Z"
   },
   {
    "duration": 481,
    "start_time": "2022-02-06T08:51:30.751Z"
   },
   {
    "duration": 11,
    "start_time": "2022-02-06T08:51:31.234Z"
   },
   {
    "duration": 9,
    "start_time": "2022-02-06T08:51:31.248Z"
   },
   {
    "duration": 488,
    "start_time": "2022-02-06T08:51:31.258Z"
   },
   {
    "duration": 7,
    "start_time": "2022-02-06T08:51:31.748Z"
   },
   {
    "duration": 12,
    "start_time": "2022-02-06T08:51:31.757Z"
   },
   {
    "duration": 8,
    "start_time": "2022-02-06T08:51:31.770Z"
   },
   {
    "duration": 33,
    "start_time": "2022-02-06T08:51:31.780Z"
   },
   {
    "duration": 367,
    "start_time": "2022-02-06T08:51:31.814Z"
   },
   {
    "duration": 8,
    "start_time": "2022-02-06T08:51:32.182Z"
   },
   {
    "duration": 26,
    "start_time": "2022-02-06T08:51:32.192Z"
   },
   {
    "duration": 5,
    "start_time": "2022-02-06T08:51:32.220Z"
   },
   {
    "duration": 8,
    "start_time": "2022-02-06T08:51:32.226Z"
   },
   {
    "duration": 7,
    "start_time": "2022-02-06T08:51:32.235Z"
   },
   {
    "duration": 5,
    "start_time": "2022-02-06T08:51:32.244Z"
   },
   {
    "duration": 166,
    "start_time": "2022-02-06T08:51:32.250Z"
   },
   {
    "duration": 196,
    "start_time": "2022-02-06T08:51:32.417Z"
   },
   {
    "duration": 4,
    "start_time": "2022-02-06T08:51:32.615Z"
   },
   {
    "duration": 45,
    "start_time": "2022-02-06T08:51:32.621Z"
   },
   {
    "duration": 78,
    "start_time": "2022-02-06T08:51:32.668Z"
   },
   {
    "duration": 135,
    "start_time": "2022-02-06T08:51:32.749Z"
   },
   {
    "duration": 13,
    "start_time": "2022-02-06T08:51:32.886Z"
   },
   {
    "duration": 27,
    "start_time": "2022-02-06T08:51:32.900Z"
   },
   {
    "duration": 2242,
    "start_time": "2022-02-06T08:51:32.928Z"
   },
   {
    "duration": 608,
    "start_time": "2022-02-06T08:51:35.172Z"
   },
   {
    "duration": 5,
    "start_time": "2022-02-06T08:51:35.782Z"
   },
   {
    "duration": 7,
    "start_time": "2022-02-06T08:51:35.789Z"
   },
   {
    "duration": 639,
    "start_time": "2022-02-06T08:51:35.813Z"
   },
   {
    "duration": 11,
    "start_time": "2022-02-06T08:51:36.453Z"
   },
   {
    "duration": 10,
    "start_time": "2022-02-06T08:52:20.710Z"
   },
   {
    "duration": 10,
    "start_time": "2022-02-06T08:53:01.167Z"
   },
   {
    "duration": 616,
    "start_time": "2022-02-06T08:53:36.315Z"
   },
   {
    "duration": 5,
    "start_time": "2022-02-06T08:53:53.367Z"
   },
   {
    "duration": 613,
    "start_time": "2022-02-06T08:54:03.316Z"
   },
   {
    "duration": 6,
    "start_time": "2022-02-06T08:56:25.299Z"
   },
   {
    "duration": 6,
    "start_time": "2022-02-06T08:56:39.275Z"
   },
   {
    "duration": 51,
    "start_time": "2022-02-06T08:57:05.257Z"
   },
   {
    "duration": 52,
    "start_time": "2022-02-06T08:57:09.727Z"
   },
   {
    "duration": 1063,
    "start_time": "2022-02-06T08:58:52.904Z"
   },
   {
    "duration": 466,
    "start_time": "2022-02-06T08:58:53.969Z"
   },
   {
    "duration": 23,
    "start_time": "2022-02-06T08:58:54.437Z"
   },
   {
    "duration": 107,
    "start_time": "2022-02-06T08:58:54.462Z"
   },
   {
    "duration": 185,
    "start_time": "2022-02-06T08:58:54.571Z"
   },
   {
    "duration": 13,
    "start_time": "2022-02-06T08:58:54.757Z"
   },
   {
    "duration": 464,
    "start_time": "2022-02-06T08:58:54.772Z"
   },
   {
    "duration": 8,
    "start_time": "2022-02-06T08:58:55.239Z"
   },
   {
    "duration": 9,
    "start_time": "2022-02-06T08:58:55.250Z"
   },
   {
    "duration": 488,
    "start_time": "2022-02-06T08:58:55.261Z"
   },
   {
    "duration": 11,
    "start_time": "2022-02-06T08:58:55.751Z"
   },
   {
    "duration": 10,
    "start_time": "2022-02-06T08:58:55.763Z"
   },
   {
    "duration": 42,
    "start_time": "2022-02-06T08:58:55.774Z"
   },
   {
    "duration": 7,
    "start_time": "2022-02-06T08:58:55.818Z"
   },
   {
    "duration": 370,
    "start_time": "2022-02-06T08:58:55.827Z"
   },
   {
    "duration": 14,
    "start_time": "2022-02-06T08:58:56.198Z"
   },
   {
    "duration": 8,
    "start_time": "2022-02-06T08:58:56.213Z"
   },
   {
    "duration": 6,
    "start_time": "2022-02-06T08:58:56.222Z"
   },
   {
    "duration": 9,
    "start_time": "2022-02-06T08:58:56.229Z"
   },
   {
    "duration": 6,
    "start_time": "2022-02-06T08:58:56.240Z"
   },
   {
    "duration": 6,
    "start_time": "2022-02-06T08:58:56.247Z"
   },
   {
    "duration": 176,
    "start_time": "2022-02-06T08:58:56.255Z"
   },
   {
    "duration": 205,
    "start_time": "2022-02-06T08:58:56.434Z"
   },
   {
    "duration": 6,
    "start_time": "2022-02-06T08:58:56.641Z"
   },
   {
    "duration": 64,
    "start_time": "2022-02-06T08:58:56.649Z"
   },
   {
    "duration": 96,
    "start_time": "2022-02-06T08:58:56.715Z"
   },
   {
    "duration": -1834,
    "start_time": "2022-02-06T08:58:58.647Z"
   },
   {
    "duration": -1838,
    "start_time": "2022-02-06T08:58:58.652Z"
   },
   {
    "duration": -1841,
    "start_time": "2022-02-06T08:58:58.656Z"
   },
   {
    "duration": -1843,
    "start_time": "2022-02-06T08:58:58.660Z"
   },
   {
    "duration": -1846,
    "start_time": "2022-02-06T08:58:58.664Z"
   },
   {
    "duration": -1849,
    "start_time": "2022-02-06T08:58:58.669Z"
   },
   {
    "duration": -1851,
    "start_time": "2022-02-06T08:58:58.672Z"
   },
   {
    "duration": -1859,
    "start_time": "2022-02-06T08:58:58.682Z"
   },
   {
    "duration": -1862,
    "start_time": "2022-02-06T08:58:58.686Z"
   },
   {
    "duration": -1863,
    "start_time": "2022-02-06T08:58:58.688Z"
   },
   {
    "duration": 143,
    "start_time": "2022-02-06T08:59:29.792Z"
   },
   {
    "duration": 102,
    "start_time": "2022-02-06T08:59:43.469Z"
   },
   {
    "duration": 45,
    "start_time": "2022-02-06T08:59:57.862Z"
   },
   {
    "duration": 1010,
    "start_time": "2022-02-06T09:00:02.958Z"
   },
   {
    "duration": 469,
    "start_time": "2022-02-06T09:00:03.970Z"
   },
   {
    "duration": 22,
    "start_time": "2022-02-06T09:00:04.440Z"
   },
   {
    "duration": 102,
    "start_time": "2022-02-06T09:00:04.464Z"
   },
   {
    "duration": 184,
    "start_time": "2022-02-06T09:00:04.567Z"
   },
   {
    "duration": 13,
    "start_time": "2022-02-06T09:00:04.753Z"
   },
   {
    "duration": 470,
    "start_time": "2022-02-06T09:00:04.767Z"
   },
   {
    "duration": 9,
    "start_time": "2022-02-06T09:00:05.239Z"
   },
   {
    "duration": 10,
    "start_time": "2022-02-06T09:00:05.251Z"
   },
   {
    "duration": 500,
    "start_time": "2022-02-06T09:00:05.263Z"
   },
   {
    "duration": 10,
    "start_time": "2022-02-06T09:00:05.765Z"
   },
   {
    "duration": 36,
    "start_time": "2022-02-06T09:00:05.777Z"
   },
   {
    "duration": 9,
    "start_time": "2022-02-06T09:00:05.816Z"
   },
   {
    "duration": 15,
    "start_time": "2022-02-06T09:00:05.827Z"
   },
   {
    "duration": 379,
    "start_time": "2022-02-06T09:00:05.844Z"
   },
   {
    "duration": 10,
    "start_time": "2022-02-06T09:00:06.225Z"
   },
   {
    "duration": 10,
    "start_time": "2022-02-06T09:00:06.237Z"
   },
   {
    "duration": 6,
    "start_time": "2022-02-06T09:00:06.249Z"
   },
   {
    "duration": 10,
    "start_time": "2022-02-06T09:00:06.257Z"
   },
   {
    "duration": 46,
    "start_time": "2022-02-06T09:00:06.269Z"
   },
   {
    "duration": 9,
    "start_time": "2022-02-06T09:00:06.317Z"
   },
   {
    "duration": 161,
    "start_time": "2022-02-06T09:00:06.327Z"
   },
   {
    "duration": 215,
    "start_time": "2022-02-06T09:00:06.491Z"
   },
   {
    "duration": 7,
    "start_time": "2022-02-06T09:00:06.708Z"
   },
   {
    "duration": 52,
    "start_time": "2022-02-06T09:00:06.716Z"
   },
   {
    "duration": 55,
    "start_time": "2022-02-06T09:00:06.770Z"
   },
   {
    "duration": 41,
    "start_time": "2022-02-06T09:00:06.826Z"
   },
   {
    "duration": 146,
    "start_time": "2022-02-06T09:00:06.869Z"
   },
   {
    "duration": 15,
    "start_time": "2022-02-06T09:00:07.017Z"
   },
   {
    "duration": 20,
    "start_time": "2022-02-06T09:00:07.033Z"
   },
   {
    "duration": 2351,
    "start_time": "2022-02-06T09:00:07.055Z"
   },
   {
    "duration": 636,
    "start_time": "2022-02-06T09:00:09.407Z"
   },
   {
    "duration": 6,
    "start_time": "2022-02-06T09:00:10.045Z"
   },
   {
    "duration": 11,
    "start_time": "2022-02-06T09:00:10.052Z"
   },
   {
    "duration": 663,
    "start_time": "2022-02-06T09:00:10.064Z"
   },
   {
    "duration": 98,
    "start_time": "2022-02-06T09:00:10.728Z"
   },
   {
    "duration": 10,
    "start_time": "2022-02-06T09:00:18.265Z"
   },
   {
    "duration": 40,
    "start_time": "2022-02-06T09:01:09.896Z"
   },
   {
    "duration": 60,
    "start_time": "2022-02-06T09:01:47.057Z"
   },
   {
    "duration": 52,
    "start_time": "2022-02-06T09:01:49.139Z"
   },
   {
    "duration": 1061,
    "start_time": "2022-02-06T09:03:34.501Z"
   },
   {
    "duration": 468,
    "start_time": "2022-02-06T09:03:35.564Z"
   },
   {
    "duration": 23,
    "start_time": "2022-02-06T09:03:36.034Z"
   },
   {
    "duration": 106,
    "start_time": "2022-02-06T09:03:36.059Z"
   },
   {
    "duration": 184,
    "start_time": "2022-02-06T09:03:36.166Z"
   },
   {
    "duration": 13,
    "start_time": "2022-02-06T09:03:36.353Z"
   },
   {
    "duration": 480,
    "start_time": "2022-02-06T09:03:36.368Z"
   },
   {
    "duration": 10,
    "start_time": "2022-02-06T09:03:36.851Z"
   },
   {
    "duration": 11,
    "start_time": "2022-02-06T09:03:36.865Z"
   },
   {
    "duration": 501,
    "start_time": "2022-02-06T09:03:36.878Z"
   },
   {
    "duration": 10,
    "start_time": "2022-02-06T09:03:37.381Z"
   },
   {
    "duration": 26,
    "start_time": "2022-02-06T09:03:37.392Z"
   },
   {
    "duration": 8,
    "start_time": "2022-02-06T09:03:37.419Z"
   },
   {
    "duration": 6,
    "start_time": "2022-02-06T09:03:37.429Z"
   },
   {
    "duration": 393,
    "start_time": "2022-02-06T09:03:37.436Z"
   },
   {
    "duration": 7,
    "start_time": "2022-02-06T09:03:37.830Z"
   },
   {
    "duration": 7,
    "start_time": "2022-02-06T09:03:37.839Z"
   },
   {
    "duration": 5,
    "start_time": "2022-02-06T09:03:37.848Z"
   },
   {
    "duration": 8,
    "start_time": "2022-02-06T09:03:37.854Z"
   },
   {
    "duration": 7,
    "start_time": "2022-02-06T09:03:37.863Z"
   },
   {
    "duration": 6,
    "start_time": "2022-02-06T09:03:37.871Z"
   },
   {
    "duration": 185,
    "start_time": "2022-02-06T09:03:37.878Z"
   },
   {
    "duration": 211,
    "start_time": "2022-02-06T09:03:38.065Z"
   },
   {
    "duration": 5,
    "start_time": "2022-02-06T09:03:38.277Z"
   },
   {
    "duration": 56,
    "start_time": "2022-02-06T09:03:38.283Z"
   },
   {
    "duration": 62,
    "start_time": "2022-02-06T09:03:38.341Z"
   },
   {
    "duration": 364,
    "start_time": "2022-02-06T09:03:38.414Z"
   },
   {
    "duration": -1876,
    "start_time": "2022-02-06T09:03:40.656Z"
   },
   {
    "duration": -1877,
    "start_time": "2022-02-06T09:03:40.659Z"
   },
   {
    "duration": -1879,
    "start_time": "2022-02-06T09:03:40.662Z"
   },
   {
    "duration": -1883,
    "start_time": "2022-02-06T09:03:40.667Z"
   },
   {
    "duration": -1886,
    "start_time": "2022-02-06T09:03:40.671Z"
   },
   {
    "duration": -1889,
    "start_time": "2022-02-06T09:03:40.675Z"
   },
   {
    "duration": -1891,
    "start_time": "2022-02-06T09:03:40.678Z"
   },
   {
    "duration": -1894,
    "start_time": "2022-02-06T09:03:40.682Z"
   },
   {
    "duration": -1905,
    "start_time": "2022-02-06T09:03:40.694Z"
   },
   {
    "duration": 1035,
    "start_time": "2022-02-06T09:03:59.330Z"
   },
   {
    "duration": 481,
    "start_time": "2022-02-06T09:04:00.367Z"
   },
   {
    "duration": 22,
    "start_time": "2022-02-06T09:04:00.850Z"
   },
   {
    "duration": 116,
    "start_time": "2022-02-06T09:04:00.874Z"
   },
   {
    "duration": 176,
    "start_time": "2022-02-06T09:04:00.991Z"
   },
   {
    "duration": 13,
    "start_time": "2022-02-06T09:04:01.168Z"
   },
   {
    "duration": 457,
    "start_time": "2022-02-06T09:04:01.183Z"
   },
   {
    "duration": 8,
    "start_time": "2022-02-06T09:04:01.641Z"
   },
   {
    "duration": 11,
    "start_time": "2022-02-06T09:04:01.652Z"
   },
   {
    "duration": 504,
    "start_time": "2022-02-06T09:04:01.665Z"
   },
   {
    "duration": 8,
    "start_time": "2022-02-06T09:04:02.171Z"
   },
   {
    "duration": 8,
    "start_time": "2022-02-06T09:04:02.180Z"
   },
   {
    "duration": 29,
    "start_time": "2022-02-06T09:04:02.190Z"
   },
   {
    "duration": 7,
    "start_time": "2022-02-06T09:04:02.220Z"
   },
   {
    "duration": 378,
    "start_time": "2022-02-06T09:04:02.228Z"
   },
   {
    "duration": 9,
    "start_time": "2022-02-06T09:04:02.608Z"
   },
   {
    "duration": 10,
    "start_time": "2022-02-06T09:04:02.618Z"
   },
   {
    "duration": 6,
    "start_time": "2022-02-06T09:04:02.629Z"
   },
   {
    "duration": 9,
    "start_time": "2022-02-06T09:04:02.636Z"
   },
   {
    "duration": 6,
    "start_time": "2022-02-06T09:04:02.647Z"
   },
   {
    "duration": 7,
    "start_time": "2022-02-06T09:04:02.654Z"
   },
   {
    "duration": 189,
    "start_time": "2022-02-06T09:04:02.663Z"
   },
   {
    "duration": 214,
    "start_time": "2022-02-06T09:04:02.853Z"
   },
   {
    "duration": 5,
    "start_time": "2022-02-06T09:04:03.069Z"
   },
   {
    "duration": 58,
    "start_time": "2022-02-06T09:04:03.075Z"
   },
   {
    "duration": 60,
    "start_time": "2022-02-06T09:04:03.134Z"
   },
   {
    "duration": 364,
    "start_time": "2022-02-06T09:04:03.198Z"
   },
   {
    "duration": -1870,
    "start_time": "2022-02-06T09:04:05.434Z"
   },
   {
    "duration": -1881,
    "start_time": "2022-02-06T09:04:05.446Z"
   },
   {
    "duration": -1883,
    "start_time": "2022-02-06T09:04:05.449Z"
   },
   {
    "duration": -1886,
    "start_time": "2022-02-06T09:04:05.453Z"
   },
   {
    "duration": -1889,
    "start_time": "2022-02-06T09:04:05.457Z"
   },
   {
    "duration": -1893,
    "start_time": "2022-02-06T09:04:05.462Z"
   },
   {
    "duration": -1895,
    "start_time": "2022-02-06T09:04:05.465Z"
   },
   {
    "duration": -1898,
    "start_time": "2022-02-06T09:04:05.469Z"
   },
   {
    "duration": -1899,
    "start_time": "2022-02-06T09:04:05.471Z"
   },
   {
    "duration": 4,
    "start_time": "2022-02-06T09:04:30.373Z"
   },
   {
    "duration": 1029,
    "start_time": "2022-02-06T09:04:35.539Z"
   },
   {
    "duration": 462,
    "start_time": "2022-02-06T09:04:36.569Z"
   },
   {
    "duration": 21,
    "start_time": "2022-02-06T09:04:37.033Z"
   },
   {
    "duration": 102,
    "start_time": "2022-02-06T09:04:37.056Z"
   },
   {
    "duration": 164,
    "start_time": "2022-02-06T09:04:37.159Z"
   },
   {
    "duration": 12,
    "start_time": "2022-02-06T09:04:37.325Z"
   },
   {
    "duration": 466,
    "start_time": "2022-02-06T09:04:37.339Z"
   },
   {
    "duration": 11,
    "start_time": "2022-02-06T09:04:37.808Z"
   },
   {
    "duration": 10,
    "start_time": "2022-02-06T09:04:37.822Z"
   },
   {
    "duration": 480,
    "start_time": "2022-02-06T09:04:37.834Z"
   },
   {
    "duration": 7,
    "start_time": "2022-02-06T09:04:38.316Z"
   },
   {
    "duration": 6,
    "start_time": "2022-02-06T09:04:38.325Z"
   },
   {
    "duration": 7,
    "start_time": "2022-02-06T09:04:38.333Z"
   },
   {
    "duration": 6,
    "start_time": "2022-02-06T09:04:38.342Z"
   },
   {
    "duration": 389,
    "start_time": "2022-02-06T09:04:38.349Z"
   },
   {
    "duration": 8,
    "start_time": "2022-02-06T09:04:38.740Z"
   },
   {
    "duration": 9,
    "start_time": "2022-02-06T09:04:38.750Z"
   },
   {
    "duration": 4,
    "start_time": "2022-02-06T09:04:38.760Z"
   },
   {
    "duration": 11,
    "start_time": "2022-02-06T09:04:38.766Z"
   },
   {
    "duration": 35,
    "start_time": "2022-02-06T09:04:38.779Z"
   },
   {
    "duration": 4,
    "start_time": "2022-02-06T09:04:38.816Z"
   },
   {
    "duration": 147,
    "start_time": "2022-02-06T09:04:38.822Z"
   },
   {
    "duration": 205,
    "start_time": "2022-02-06T09:04:38.972Z"
   },
   {
    "duration": 4,
    "start_time": "2022-02-06T09:04:39.179Z"
   },
   {
    "duration": 59,
    "start_time": "2022-02-06T09:04:39.184Z"
   },
   {
    "duration": 84,
    "start_time": "2022-02-06T09:04:39.245Z"
   },
   {
    "duration": 4,
    "start_time": "2022-02-06T09:04:39.330Z"
   },
   {
    "duration": 138,
    "start_time": "2022-02-06T09:04:39.335Z"
   },
   {
    "duration": 13,
    "start_time": "2022-02-06T09:04:39.475Z"
   },
   {
    "duration": 29,
    "start_time": "2022-02-06T09:04:39.490Z"
   },
   {
    "duration": 2268,
    "start_time": "2022-02-06T09:04:39.521Z"
   },
   {
    "duration": 602,
    "start_time": "2022-02-06T09:04:41.790Z"
   },
   {
    "duration": 5,
    "start_time": "2022-02-06T09:04:42.393Z"
   },
   {
    "duration": 6,
    "start_time": "2022-02-06T09:04:42.412Z"
   },
   {
    "duration": 622,
    "start_time": "2022-02-06T09:04:42.419Z"
   },
   {
    "duration": 10,
    "start_time": "2022-02-06T09:04:43.042Z"
   },
   {
    "duration": 1054,
    "start_time": "2022-02-06T09:07:11.916Z"
   },
   {
    "duration": 474,
    "start_time": "2022-02-06T09:07:12.972Z"
   },
   {
    "duration": 22,
    "start_time": "2022-02-06T09:07:13.448Z"
   },
   {
    "duration": 110,
    "start_time": "2022-02-06T09:07:13.472Z"
   },
   {
    "duration": 187,
    "start_time": "2022-02-06T09:07:13.584Z"
   },
   {
    "duration": 13,
    "start_time": "2022-02-06T09:07:13.773Z"
   },
   {
    "duration": 476,
    "start_time": "2022-02-06T09:07:13.788Z"
   },
   {
    "duration": 9,
    "start_time": "2022-02-06T09:07:14.266Z"
   },
   {
    "duration": 9,
    "start_time": "2022-02-06T09:07:14.277Z"
   },
   {
    "duration": 494,
    "start_time": "2022-02-06T09:07:14.287Z"
   },
   {
    "duration": 7,
    "start_time": "2022-02-06T09:07:14.783Z"
   },
   {
    "duration": 23,
    "start_time": "2022-02-06T09:07:14.792Z"
   },
   {
    "duration": 8,
    "start_time": "2022-02-06T09:07:14.817Z"
   },
   {
    "duration": 6,
    "start_time": "2022-02-06T09:07:14.827Z"
   },
   {
    "duration": 390,
    "start_time": "2022-02-06T09:07:14.834Z"
   },
   {
    "duration": 7,
    "start_time": "2022-02-06T09:07:15.226Z"
   },
   {
    "duration": 8,
    "start_time": "2022-02-06T09:07:15.235Z"
   },
   {
    "duration": 6,
    "start_time": "2022-02-06T09:07:15.244Z"
   },
   {
    "duration": 11,
    "start_time": "2022-02-06T09:07:15.252Z"
   },
   {
    "duration": 6,
    "start_time": "2022-02-06T09:07:15.265Z"
   },
   {
    "duration": 43,
    "start_time": "2022-02-06T09:07:15.272Z"
   },
   {
    "duration": 154,
    "start_time": "2022-02-06T09:07:15.316Z"
   },
   {
    "duration": 209,
    "start_time": "2022-02-06T09:07:15.473Z"
   },
   {
    "duration": 5,
    "start_time": "2022-02-06T09:07:15.684Z"
   },
   {
    "duration": 57,
    "start_time": "2022-02-06T09:07:15.690Z"
   },
   {
    "duration": 13,
    "start_time": "2022-02-06T09:07:15.749Z"
   },
   {
    "duration": 140,
    "start_time": "2022-02-06T09:07:15.763Z"
   },
   {
    "duration": 17,
    "start_time": "2022-02-06T09:07:15.905Z"
   },
   {
    "duration": 18,
    "start_time": "2022-02-06T09:07:15.924Z"
   },
   {
    "duration": 2366,
    "start_time": "2022-02-06T09:07:15.943Z"
   },
   {
    "duration": 621,
    "start_time": "2022-02-06T09:07:18.312Z"
   },
   {
    "duration": 6,
    "start_time": "2022-02-06T09:07:18.935Z"
   },
   {
    "duration": 9,
    "start_time": "2022-02-06T09:07:18.942Z"
   },
   {
    "duration": 668,
    "start_time": "2022-02-06T09:07:18.953Z"
   },
   {
    "duration": 10,
    "start_time": "2022-02-06T09:07:19.622Z"
   },
   {
    "duration": 1074,
    "start_time": "2022-02-06T09:09:44.995Z"
   },
   {
    "duration": 457,
    "start_time": "2022-02-06T09:09:46.071Z"
   },
   {
    "duration": 21,
    "start_time": "2022-02-06T09:09:46.530Z"
   },
   {
    "duration": 95,
    "start_time": "2022-02-06T09:09:46.553Z"
   },
   {
    "duration": 174,
    "start_time": "2022-02-06T09:09:46.649Z"
   },
   {
    "duration": 13,
    "start_time": "2022-02-06T09:09:46.825Z"
   },
   {
    "duration": 453,
    "start_time": "2022-02-06T09:09:46.839Z"
   },
   {
    "duration": 19,
    "start_time": "2022-02-06T09:09:47.294Z"
   },
   {
    "duration": 9,
    "start_time": "2022-02-06T09:09:47.315Z"
   },
   {
    "duration": 476,
    "start_time": "2022-02-06T09:09:47.326Z"
   },
   {
    "duration": 13,
    "start_time": "2022-02-06T09:09:47.803Z"
   },
   {
    "duration": 7,
    "start_time": "2022-02-06T09:09:47.817Z"
   },
   {
    "duration": 7,
    "start_time": "2022-02-06T09:09:47.826Z"
   },
   {
    "duration": 6,
    "start_time": "2022-02-06T09:09:47.834Z"
   },
   {
    "duration": 388,
    "start_time": "2022-02-06T09:09:47.842Z"
   },
   {
    "duration": 7,
    "start_time": "2022-02-06T09:09:48.232Z"
   },
   {
    "duration": 7,
    "start_time": "2022-02-06T09:09:48.241Z"
   },
   {
    "duration": 5,
    "start_time": "2022-02-06T09:09:48.250Z"
   },
   {
    "duration": 8,
    "start_time": "2022-02-06T09:09:48.257Z"
   },
   {
    "duration": 6,
    "start_time": "2022-02-06T09:09:48.266Z"
   },
   {
    "duration": 39,
    "start_time": "2022-02-06T09:09:48.274Z"
   },
   {
    "duration": 151,
    "start_time": "2022-02-06T09:09:48.314Z"
   },
   {
    "duration": 202,
    "start_time": "2022-02-06T09:09:48.468Z"
   },
   {
    "duration": 49,
    "start_time": "2022-02-06T09:09:48.672Z"
   },
   {
    "duration": 54,
    "start_time": "2022-02-06T09:09:48.723Z"
   },
   {
    "duration": 147,
    "start_time": "2022-02-06T09:09:48.779Z"
   },
   {
    "duration": 12,
    "start_time": "2022-02-06T09:09:48.928Z"
   },
   {
    "duration": 19,
    "start_time": "2022-02-06T09:09:48.941Z"
   },
   {
    "duration": 2262,
    "start_time": "2022-02-06T09:09:48.961Z"
   },
   {
    "duration": 621,
    "start_time": "2022-02-06T09:09:51.225Z"
   },
   {
    "duration": 5,
    "start_time": "2022-02-06T09:09:51.847Z"
   },
   {
    "duration": 13,
    "start_time": "2022-02-06T09:09:51.854Z"
   },
   {
    "duration": 646,
    "start_time": "2022-02-06T09:09:51.868Z"
   },
   {
    "duration": 9,
    "start_time": "2022-02-06T09:09:52.516Z"
   },
   {
    "duration": 1013,
    "start_time": "2022-02-06T09:10:51.245Z"
   },
   {
    "duration": 456,
    "start_time": "2022-02-06T09:10:52.260Z"
   },
   {
    "duration": 21,
    "start_time": "2022-02-06T09:10:52.718Z"
   },
   {
    "duration": 96,
    "start_time": "2022-02-06T09:10:52.741Z"
   },
   {
    "duration": 173,
    "start_time": "2022-02-06T09:10:52.839Z"
   },
   {
    "duration": 12,
    "start_time": "2022-02-06T09:10:53.013Z"
   },
   {
    "duration": 446,
    "start_time": "2022-02-06T09:10:53.027Z"
   },
   {
    "duration": 8,
    "start_time": "2022-02-06T09:10:53.475Z"
   },
   {
    "duration": 9,
    "start_time": "2022-02-06T09:10:53.485Z"
   },
   {
    "duration": 447,
    "start_time": "2022-02-06T09:10:53.512Z"
   },
   {
    "duration": 8,
    "start_time": "2022-02-06T09:10:53.960Z"
   },
   {
    "duration": 6,
    "start_time": "2022-02-06T09:10:53.970Z"
   },
   {
    "duration": 7,
    "start_time": "2022-02-06T09:10:53.978Z"
   },
   {
    "duration": 26,
    "start_time": "2022-02-06T09:10:53.987Z"
   },
   {
    "duration": 359,
    "start_time": "2022-02-06T09:10:54.014Z"
   },
   {
    "duration": 7,
    "start_time": "2022-02-06T09:10:54.374Z"
   },
   {
    "duration": 8,
    "start_time": "2022-02-06T09:10:54.383Z"
   },
   {
    "duration": 5,
    "start_time": "2022-02-06T09:10:54.412Z"
   },
   {
    "duration": 7,
    "start_time": "2022-02-06T09:10:54.419Z"
   },
   {
    "duration": 7,
    "start_time": "2022-02-06T09:10:54.428Z"
   },
   {
    "duration": 6,
    "start_time": "2022-02-06T09:10:54.436Z"
   },
   {
    "duration": 163,
    "start_time": "2022-02-06T09:10:54.443Z"
   },
   {
    "duration": 214,
    "start_time": "2022-02-06T09:10:54.614Z"
   },
   {
    "duration": 42,
    "start_time": "2022-02-06T09:10:54.830Z"
   },
   {
    "duration": 74,
    "start_time": "2022-02-06T09:10:54.873Z"
   },
   {
    "duration": 343,
    "start_time": "2022-02-06T09:10:54.948Z"
   },
   {
    "duration": -2070,
    "start_time": "2022-02-06T09:10:57.363Z"
   },
   {
    "duration": -2072,
    "start_time": "2022-02-06T09:10:57.366Z"
   },
   {
    "duration": -2074,
    "start_time": "2022-02-06T09:10:57.369Z"
   },
   {
    "duration": -2076,
    "start_time": "2022-02-06T09:10:57.372Z"
   },
   {
    "duration": -2078,
    "start_time": "2022-02-06T09:10:57.375Z"
   },
   {
    "duration": -2080,
    "start_time": "2022-02-06T09:10:57.378Z"
   },
   {
    "duration": -2082,
    "start_time": "2022-02-06T09:10:57.381Z"
   },
   {
    "duration": -2084,
    "start_time": "2022-02-06T09:10:57.384Z"
   },
   {
    "duration": -2085,
    "start_time": "2022-02-06T09:10:57.386Z"
   },
   {
    "duration": 1056,
    "start_time": "2022-02-06T09:11:11.416Z"
   },
   {
    "duration": 472,
    "start_time": "2022-02-06T09:11:12.474Z"
   },
   {
    "duration": 23,
    "start_time": "2022-02-06T09:11:12.948Z"
   },
   {
    "duration": 109,
    "start_time": "2022-02-06T09:11:12.973Z"
   },
   {
    "duration": 183,
    "start_time": "2022-02-06T09:11:13.084Z"
   },
   {
    "duration": 13,
    "start_time": "2022-02-06T09:11:13.269Z"
   },
   {
    "duration": 471,
    "start_time": "2022-02-06T09:11:13.284Z"
   },
   {
    "duration": 9,
    "start_time": "2022-02-06T09:11:13.758Z"
   },
   {
    "duration": 10,
    "start_time": "2022-02-06T09:11:13.769Z"
   },
   {
    "duration": 489,
    "start_time": "2022-02-06T09:11:13.781Z"
   },
   {
    "duration": 9,
    "start_time": "2022-02-06T09:11:14.272Z"
   },
   {
    "duration": 29,
    "start_time": "2022-02-06T09:11:14.283Z"
   },
   {
    "duration": 8,
    "start_time": "2022-02-06T09:11:14.314Z"
   },
   {
    "duration": 6,
    "start_time": "2022-02-06T09:11:14.324Z"
   },
   {
    "duration": 382,
    "start_time": "2022-02-06T09:11:14.331Z"
   },
   {
    "duration": 8,
    "start_time": "2022-02-06T09:11:14.715Z"
   },
   {
    "duration": 10,
    "start_time": "2022-02-06T09:11:14.724Z"
   },
   {
    "duration": 6,
    "start_time": "2022-02-06T09:11:14.735Z"
   },
   {
    "duration": 10,
    "start_time": "2022-02-06T09:11:14.743Z"
   },
   {
    "duration": 7,
    "start_time": "2022-02-06T09:11:14.755Z"
   },
   {
    "duration": 6,
    "start_time": "2022-02-06T09:11:14.763Z"
   },
   {
    "duration": 186,
    "start_time": "2022-02-06T09:11:14.771Z"
   },
   {
    "duration": 221,
    "start_time": "2022-02-06T09:11:14.960Z"
   },
   {
    "duration": 51,
    "start_time": "2022-02-06T09:11:15.183Z"
   },
   {
    "duration": 61,
    "start_time": "2022-02-06T09:11:15.236Z"
   },
   {
    "duration": 15,
    "start_time": "2022-02-06T09:11:15.299Z"
   },
   {
    "duration": 176,
    "start_time": "2022-02-06T09:11:15.316Z"
   },
   {
    "duration": 18,
    "start_time": "2022-02-06T09:11:15.494Z"
   },
   {
    "duration": 35,
    "start_time": "2022-02-06T09:11:15.514Z"
   },
   {
    "duration": 2259,
    "start_time": "2022-02-06T09:11:15.550Z"
   },
   {
    "duration": 616,
    "start_time": "2022-02-06T09:11:17.811Z"
   },
   {
    "duration": 5,
    "start_time": "2022-02-06T09:11:18.429Z"
   },
   {
    "duration": 8,
    "start_time": "2022-02-06T09:11:18.435Z"
   },
   {
    "duration": 653,
    "start_time": "2022-02-06T09:11:18.444Z"
   },
   {
    "duration": 17,
    "start_time": "2022-02-06T09:11:19.098Z"
   },
   {
    "duration": 1039,
    "start_time": "2022-02-06T09:13:42.361Z"
   },
   {
    "duration": 476,
    "start_time": "2022-02-06T09:13:43.402Z"
   },
   {
    "duration": 54,
    "start_time": "2022-02-06T09:13:43.880Z"
   },
   {
    "duration": 99,
    "start_time": "2022-02-06T09:13:43.935Z"
   },
   {
    "duration": 178,
    "start_time": "2022-02-06T09:13:44.035Z"
   },
   {
    "duration": 13,
    "start_time": "2022-02-06T09:13:44.214Z"
   },
   {
    "duration": 469,
    "start_time": "2022-02-06T09:13:44.228Z"
   },
   {
    "duration": 20,
    "start_time": "2022-02-06T09:13:44.699Z"
   },
   {
    "duration": 9,
    "start_time": "2022-02-06T09:13:44.721Z"
   },
   {
    "duration": 501,
    "start_time": "2022-02-06T09:13:44.732Z"
   },
   {
    "duration": 8,
    "start_time": "2022-02-06T09:13:45.235Z"
   },
   {
    "duration": 7,
    "start_time": "2022-02-06T09:13:45.244Z"
   },
   {
    "duration": 8,
    "start_time": "2022-02-06T09:13:45.253Z"
   },
   {
    "duration": 6,
    "start_time": "2022-02-06T09:13:45.262Z"
   },
   {
    "duration": 406,
    "start_time": "2022-02-06T09:13:45.270Z"
   },
   {
    "duration": 7,
    "start_time": "2022-02-06T09:13:45.678Z"
   },
   {
    "duration": 28,
    "start_time": "2022-02-06T09:13:45.687Z"
   },
   {
    "duration": 7,
    "start_time": "2022-02-06T09:13:45.717Z"
   },
   {
    "duration": 8,
    "start_time": "2022-02-06T09:13:45.725Z"
   },
   {
    "duration": 8,
    "start_time": "2022-02-06T09:13:45.734Z"
   },
   {
    "duration": 8,
    "start_time": "2022-02-06T09:13:45.744Z"
   },
   {
    "duration": 170,
    "start_time": "2022-02-06T09:13:45.753Z"
   },
   {
    "duration": 204,
    "start_time": "2022-02-06T09:13:45.926Z"
   },
   {
    "duration": 44,
    "start_time": "2022-02-06T09:13:46.132Z"
   },
   {
    "duration": 74,
    "start_time": "2022-02-06T09:13:46.178Z"
   },
   {
    "duration": 138,
    "start_time": "2022-02-06T09:13:46.254Z"
   },
   {
    "duration": 21,
    "start_time": "2022-02-06T09:13:46.394Z"
   },
   {
    "duration": 19,
    "start_time": "2022-02-06T09:13:46.416Z"
   },
   {
    "duration": 2321,
    "start_time": "2022-02-06T09:13:46.437Z"
   },
   {
    "duration": 630,
    "start_time": "2022-02-06T09:13:48.759Z"
   },
   {
    "duration": 6,
    "start_time": "2022-02-06T09:13:49.390Z"
   },
   {
    "duration": 17,
    "start_time": "2022-02-06T09:13:49.398Z"
   },
   {
    "duration": 642,
    "start_time": "2022-02-06T09:13:49.417Z"
   },
   {
    "duration": 9,
    "start_time": "2022-02-06T09:13:50.060Z"
   },
   {
    "duration": 987,
    "start_time": "2022-02-06T11:31:39.821Z"
   },
   {
    "duration": 471,
    "start_time": "2022-02-06T11:31:40.810Z"
   },
   {
    "duration": 22,
    "start_time": "2022-02-06T11:31:41.283Z"
   },
   {
    "duration": 102,
    "start_time": "2022-02-06T11:31:41.307Z"
   },
   {
    "duration": 177,
    "start_time": "2022-02-06T11:31:41.410Z"
   },
   {
    "duration": 12,
    "start_time": "2022-02-06T11:31:41.589Z"
   },
   {
    "duration": 432,
    "start_time": "2022-02-06T11:31:41.603Z"
   },
   {
    "duration": 25,
    "start_time": "2022-02-06T11:31:42.037Z"
   },
   {
    "duration": 18,
    "start_time": "2022-02-06T11:31:42.064Z"
   },
   {
    "duration": 454,
    "start_time": "2022-02-06T11:31:42.084Z"
   },
   {
    "duration": 19,
    "start_time": "2022-02-06T11:31:42.539Z"
   },
   {
    "duration": 8,
    "start_time": "2022-02-06T11:31:42.560Z"
   },
   {
    "duration": 11,
    "start_time": "2022-02-06T11:31:42.569Z"
   },
   {
    "duration": 15,
    "start_time": "2022-02-06T11:31:42.581Z"
   },
   {
    "duration": 345,
    "start_time": "2022-02-06T11:31:42.598Z"
   },
   {
    "duration": 15,
    "start_time": "2022-02-06T11:31:42.945Z"
   },
   {
    "duration": 10,
    "start_time": "2022-02-06T11:31:42.961Z"
   },
   {
    "duration": 17,
    "start_time": "2022-02-06T11:31:42.972Z"
   },
   {
    "duration": 18,
    "start_time": "2022-02-06T11:31:42.990Z"
   },
   {
    "duration": 25,
    "start_time": "2022-02-06T11:31:43.010Z"
   },
   {
    "duration": 28,
    "start_time": "2022-02-06T11:31:43.037Z"
   },
   {
    "duration": 151,
    "start_time": "2022-02-06T11:31:43.066Z"
   },
   {
    "duration": 270,
    "start_time": "2022-02-06T11:31:43.220Z"
   },
   {
    "duration": -633,
    "start_time": "2022-02-06T11:31:44.125Z"
   },
   {
    "duration": -638,
    "start_time": "2022-02-06T11:31:44.131Z"
   },
   {
    "duration": -642,
    "start_time": "2022-02-06T11:31:44.136Z"
   },
   {
    "duration": -647,
    "start_time": "2022-02-06T11:31:44.142Z"
   },
   {
    "duration": -652,
    "start_time": "2022-02-06T11:31:44.148Z"
   },
   {
    "duration": -654,
    "start_time": "2022-02-06T11:31:44.151Z"
   },
   {
    "duration": -656,
    "start_time": "2022-02-06T11:31:44.154Z"
   },
   {
    "duration": -660,
    "start_time": "2022-02-06T11:31:44.159Z"
   },
   {
    "duration": -663,
    "start_time": "2022-02-06T11:31:44.163Z"
   },
   {
    "duration": -666,
    "start_time": "2022-02-06T11:31:44.167Z"
   },
   {
    "duration": -668,
    "start_time": "2022-02-06T11:31:44.170Z"
   },
   {
    "duration": -671,
    "start_time": "2022-02-06T11:31:44.174Z"
   },
   {
    "duration": -674,
    "start_time": "2022-02-06T11:31:44.178Z"
   },
   {
    "duration": 185,
    "start_time": "2022-02-06T11:32:18.070Z"
   },
   {
    "duration": 4644,
    "start_time": "2022-02-06T11:32:22.010Z"
   },
   {
    "duration": 5,
    "start_time": "2022-02-06T11:32:46.843Z"
   },
   {
    "duration": 9,
    "start_time": "2022-02-06T11:37:21.163Z"
   },
   {
    "duration": 492,
    "start_time": "2022-02-06T11:37:21.174Z"
   },
   {
    "duration": 19,
    "start_time": "2022-02-06T11:37:21.668Z"
   },
   {
    "duration": 84,
    "start_time": "2022-02-06T11:37:21.689Z"
   },
   {
    "duration": 159,
    "start_time": "2022-02-06T11:37:21.774Z"
   },
   {
    "duration": 10,
    "start_time": "2022-02-06T11:37:21.935Z"
   },
   {
    "duration": 447,
    "start_time": "2022-02-06T11:37:21.959Z"
   },
   {
    "duration": 9,
    "start_time": "2022-02-06T11:37:22.409Z"
   },
   {
    "duration": 12,
    "start_time": "2022-02-06T11:37:22.420Z"
   },
   {
    "duration": 537,
    "start_time": "2022-02-06T11:37:22.433Z"
   },
   {
    "duration": 8,
    "start_time": "2022-02-06T11:37:22.972Z"
   },
   {
    "duration": 8,
    "start_time": "2022-02-06T11:37:22.982Z"
   },
   {
    "duration": 7,
    "start_time": "2022-02-06T11:37:22.992Z"
   },
   {
    "duration": 7,
    "start_time": "2022-02-06T11:37:23.001Z"
   },
   {
    "duration": 366,
    "start_time": "2022-02-06T11:37:23.010Z"
   },
   {
    "duration": 7,
    "start_time": "2022-02-06T11:37:23.378Z"
   },
   {
    "duration": 9,
    "start_time": "2022-02-06T11:37:23.386Z"
   },
   {
    "duration": 6,
    "start_time": "2022-02-06T11:37:23.396Z"
   },
   {
    "duration": 9,
    "start_time": "2022-02-06T11:37:23.403Z"
   },
   {
    "duration": 9,
    "start_time": "2022-02-06T11:37:23.413Z"
   },
   {
    "duration": 37,
    "start_time": "2022-02-06T11:37:23.423Z"
   },
   {
    "duration": 155,
    "start_time": "2022-02-06T11:37:23.461Z"
   },
   {
    "duration": 4233,
    "start_time": "2022-02-06T11:37:27.470Z"
   },
   {
    "duration": 175,
    "start_time": "2022-02-06T11:37:47.911Z"
   },
   {
    "duration": 9,
    "start_time": "2022-02-06T11:38:05.591Z"
   },
   {
    "duration": 4,
    "start_time": "2022-02-06T11:38:16.802Z"
   },
   {
    "duration": 95,
    "start_time": "2022-02-06T11:39:39.489Z"
   },
   {
    "duration": 4,
    "start_time": "2022-02-06T11:40:30.298Z"
   },
   {
    "duration": 10,
    "start_time": "2022-02-06T11:41:42.814Z"
   },
   {
    "duration": 490,
    "start_time": "2022-02-06T11:41:42.826Z"
   },
   {
    "duration": 49,
    "start_time": "2022-02-06T11:41:43.318Z"
   },
   {
    "duration": 68,
    "start_time": "2022-02-06T11:41:43.369Z"
   },
   {
    "duration": 174,
    "start_time": "2022-02-06T11:41:43.439Z"
   },
   {
    "duration": 10,
    "start_time": "2022-02-06T11:41:43.615Z"
   },
   {
    "duration": 426,
    "start_time": "2022-02-06T11:41:43.627Z"
   },
   {
    "duration": 8,
    "start_time": "2022-02-06T11:41:44.056Z"
   },
   {
    "duration": 10,
    "start_time": "2022-02-06T11:41:44.066Z"
   },
   {
    "duration": 466,
    "start_time": "2022-02-06T11:41:44.077Z"
   },
   {
    "duration": 16,
    "start_time": "2022-02-06T11:41:44.545Z"
   },
   {
    "duration": 7,
    "start_time": "2022-02-06T11:41:44.562Z"
   },
   {
    "duration": 8,
    "start_time": "2022-02-06T11:41:44.570Z"
   },
   {
    "duration": 11,
    "start_time": "2022-02-06T11:41:44.579Z"
   },
   {
    "duration": 361,
    "start_time": "2022-02-06T11:41:44.592Z"
   },
   {
    "duration": 9,
    "start_time": "2022-02-06T11:41:44.954Z"
   },
   {
    "duration": 8,
    "start_time": "2022-02-06T11:41:44.965Z"
   },
   {
    "duration": 5,
    "start_time": "2022-02-06T11:41:44.975Z"
   },
   {
    "duration": 8,
    "start_time": "2022-02-06T11:41:44.981Z"
   },
   {
    "duration": 7,
    "start_time": "2022-02-06T11:41:44.991Z"
   },
   {
    "duration": 11,
    "start_time": "2022-02-06T11:41:44.999Z"
   },
   {
    "duration": 176,
    "start_time": "2022-02-06T11:41:45.012Z"
   },
   {
    "duration": 94,
    "start_time": "2022-02-06T11:41:48.214Z"
   },
   {
    "duration": 4,
    "start_time": "2022-02-06T11:41:52.628Z"
   },
   {
    "duration": 128,
    "start_time": "2022-02-06T11:43:50.668Z"
   },
   {
    "duration": 5,
    "start_time": "2022-02-06T11:43:53.567Z"
   },
   {
    "duration": 1022,
    "start_time": "2022-02-06T11:48:40.993Z"
   },
   {
    "duration": 506,
    "start_time": "2022-02-06T11:48:42.018Z"
   },
   {
    "duration": 52,
    "start_time": "2022-02-06T11:48:42.526Z"
   },
   {
    "duration": 92,
    "start_time": "2022-02-06T11:48:42.581Z"
   },
   {
    "duration": 186,
    "start_time": "2022-02-06T11:48:42.675Z"
   },
   {
    "duration": 13,
    "start_time": "2022-02-06T11:48:42.863Z"
   },
   {
    "duration": 459,
    "start_time": "2022-02-06T11:48:42.878Z"
   },
   {
    "duration": 22,
    "start_time": "2022-02-06T11:48:43.340Z"
   },
   {
    "duration": 38,
    "start_time": "2022-02-06T11:48:43.365Z"
   },
   {
    "duration": 450,
    "start_time": "2022-02-06T11:48:43.405Z"
   },
   {
    "duration": 10,
    "start_time": "2022-02-06T11:48:43.859Z"
   },
   {
    "duration": 17,
    "start_time": "2022-02-06T11:48:43.871Z"
   },
   {
    "duration": 25,
    "start_time": "2022-02-06T11:48:43.890Z"
   },
   {
    "duration": 28,
    "start_time": "2022-02-06T11:48:43.917Z"
   },
   {
    "duration": 377,
    "start_time": "2022-02-06T11:48:43.948Z"
   },
   {
    "duration": 8,
    "start_time": "2022-02-06T11:48:44.327Z"
   },
   {
    "duration": 25,
    "start_time": "2022-02-06T11:48:44.336Z"
   },
   {
    "duration": 10,
    "start_time": "2022-02-06T11:48:44.363Z"
   },
   {
    "duration": 14,
    "start_time": "2022-02-06T11:48:44.375Z"
   },
   {
    "duration": 18,
    "start_time": "2022-02-06T11:48:44.391Z"
   },
   {
    "duration": 11,
    "start_time": "2022-02-06T11:48:44.412Z"
   },
   {
    "duration": 163,
    "start_time": "2022-02-06T11:48:44.425Z"
   },
   {
    "duration": 291,
    "start_time": "2022-02-06T11:48:44.592Z"
   },
   {
    "duration": 184,
    "start_time": "2022-02-06T11:49:00.836Z"
   },
   {
    "duration": 8,
    "start_time": "2022-02-06T11:49:33.547Z"
   },
   {
    "duration": 407,
    "start_time": "2022-02-06T11:50:08.483Z"
   },
   {
    "duration": 10,
    "start_time": "2022-02-06T11:50:51.545Z"
   },
   {
    "duration": 94,
    "start_time": "2022-02-06T11:51:39.035Z"
   },
   {
    "duration": 85,
    "start_time": "2022-02-06T11:52:05.290Z"
   },
   {
    "duration": 10,
    "start_time": "2022-02-06T11:52:10.927Z"
   },
   {
    "duration": 63,
    "start_time": "2022-02-06T11:55:39.766Z"
   },
   {
    "duration": 127,
    "start_time": "2022-02-06T11:55:54.401Z"
   },
   {
    "duration": 11,
    "start_time": "2022-02-06T11:56:35.381Z"
   },
   {
    "duration": 155,
    "start_time": "2022-02-06T11:57:01.093Z"
   },
   {
    "duration": 12,
    "start_time": "2022-02-06T11:57:06.744Z"
   },
   {
    "duration": 166,
    "start_time": "2022-02-06T11:58:09.648Z"
   },
   {
    "duration": 11,
    "start_time": "2022-02-06T11:58:16.054Z"
   },
   {
    "duration": 156,
    "start_time": "2022-02-06T11:58:30.566Z"
   },
   {
    "duration": 10,
    "start_time": "2022-02-06T11:58:33.639Z"
   },
   {
    "duration": 11,
    "start_time": "2022-02-06T12:01:41.297Z"
   },
   {
    "duration": 468,
    "start_time": "2022-02-06T12:01:41.310Z"
   },
   {
    "duration": 20,
    "start_time": "2022-02-06T12:01:41.780Z"
   },
   {
    "duration": 93,
    "start_time": "2022-02-06T12:01:41.802Z"
   },
   {
    "duration": 195,
    "start_time": "2022-02-06T12:01:41.896Z"
   },
   {
    "duration": 12,
    "start_time": "2022-02-06T12:01:42.093Z"
   },
   {
    "duration": 434,
    "start_time": "2022-02-06T12:01:42.106Z"
   },
   {
    "duration": 19,
    "start_time": "2022-02-06T12:01:42.543Z"
   },
   {
    "duration": 9,
    "start_time": "2022-02-06T12:01:42.565Z"
   },
   {
    "duration": 525,
    "start_time": "2022-02-06T12:01:42.576Z"
   },
   {
    "duration": 9,
    "start_time": "2022-02-06T12:01:43.104Z"
   },
   {
    "duration": 10,
    "start_time": "2022-02-06T12:01:43.115Z"
   },
   {
    "duration": 39,
    "start_time": "2022-02-06T12:01:43.126Z"
   },
   {
    "duration": 8,
    "start_time": "2022-02-06T12:01:43.167Z"
   },
   {
    "duration": 346,
    "start_time": "2022-02-06T12:01:43.176Z"
   },
   {
    "duration": 9,
    "start_time": "2022-02-06T12:01:43.524Z"
   },
   {
    "duration": 8,
    "start_time": "2022-02-06T12:01:43.535Z"
   },
   {
    "duration": 6,
    "start_time": "2022-02-06T12:01:43.559Z"
   },
   {
    "duration": 8,
    "start_time": "2022-02-06T12:01:43.567Z"
   },
   {
    "duration": 7,
    "start_time": "2022-02-06T12:01:43.577Z"
   },
   {
    "duration": 8,
    "start_time": "2022-02-06T12:01:43.586Z"
   },
   {
    "duration": 160,
    "start_time": "2022-02-06T12:01:43.595Z"
   },
   {
    "duration": 188,
    "start_time": "2022-02-06T12:01:43.760Z"
   },
   {
    "duration": 379,
    "start_time": "2022-02-06T12:01:43.950Z"
   },
   {
    "duration": -1008,
    "start_time": "2022-02-06T12:01:45.338Z"
   },
   {
    "duration": -1011,
    "start_time": "2022-02-06T12:01:45.342Z"
   },
   {
    "duration": -1015,
    "start_time": "2022-02-06T12:01:45.347Z"
   },
   {
    "duration": -1018,
    "start_time": "2022-02-06T12:01:45.351Z"
   },
   {
    "duration": -1021,
    "start_time": "2022-02-06T12:01:45.355Z"
   },
   {
    "duration": -1023,
    "start_time": "2022-02-06T12:01:45.358Z"
   },
   {
    "duration": -1025,
    "start_time": "2022-02-06T12:01:45.361Z"
   },
   {
    "duration": -1027,
    "start_time": "2022-02-06T12:01:45.364Z"
   },
   {
    "duration": -1029,
    "start_time": "2022-02-06T12:01:45.367Z"
   },
   {
    "duration": -1031,
    "start_time": "2022-02-06T12:01:45.370Z"
   },
   {
    "duration": 48,
    "start_time": "2022-02-06T12:07:28.565Z"
   },
   {
    "duration": 53,
    "start_time": "2022-02-06T12:07:53.031Z"
   },
   {
    "duration": 345,
    "start_time": "2022-02-06T12:07:53.086Z"
   },
   {
    "duration": -1052,
    "start_time": "2022-02-06T12:07:54.485Z"
   },
   {
    "duration": -1062,
    "start_time": "2022-02-06T12:07:54.496Z"
   },
   {
    "duration": -1065,
    "start_time": "2022-02-06T12:07:54.500Z"
   },
   {
    "duration": -1068,
    "start_time": "2022-02-06T12:07:54.504Z"
   },
   {
    "duration": -1071,
    "start_time": "2022-02-06T12:07:54.508Z"
   },
   {
    "duration": -1074,
    "start_time": "2022-02-06T12:07:54.512Z"
   },
   {
    "duration": -1076,
    "start_time": "2022-02-06T12:07:54.515Z"
   },
   {
    "duration": -1079,
    "start_time": "2022-02-06T12:07:54.518Z"
   },
   {
    "duration": -1084,
    "start_time": "2022-02-06T12:07:54.524Z"
   },
   {
    "duration": 11,
    "start_time": "2022-02-06T12:09:33.332Z"
   },
   {
    "duration": 515,
    "start_time": "2022-02-06T12:09:33.345Z"
   },
   {
    "duration": 23,
    "start_time": "2022-02-06T12:09:33.862Z"
   },
   {
    "duration": 89,
    "start_time": "2022-02-06T12:09:33.887Z"
   },
   {
    "duration": 194,
    "start_time": "2022-02-06T12:09:33.977Z"
   },
   {
    "duration": 12,
    "start_time": "2022-02-06T12:09:34.172Z"
   },
   {
    "duration": 443,
    "start_time": "2022-02-06T12:09:34.186Z"
   },
   {
    "duration": 8,
    "start_time": "2022-02-06T12:09:34.632Z"
   },
   {
    "duration": 24,
    "start_time": "2022-02-06T12:09:34.642Z"
   },
   {
    "duration": 465,
    "start_time": "2022-02-06T12:09:34.667Z"
   },
   {
    "duration": 7,
    "start_time": "2022-02-06T12:09:35.134Z"
   },
   {
    "duration": 21,
    "start_time": "2022-02-06T12:09:35.142Z"
   },
   {
    "duration": 10,
    "start_time": "2022-02-06T12:09:35.164Z"
   },
   {
    "duration": 6,
    "start_time": "2022-02-06T12:09:35.176Z"
   },
   {
    "duration": 377,
    "start_time": "2022-02-06T12:09:35.183Z"
   },
   {
    "duration": 6,
    "start_time": "2022-02-06T12:09:35.562Z"
   },
   {
    "duration": 8,
    "start_time": "2022-02-06T12:09:35.570Z"
   },
   {
    "duration": 4,
    "start_time": "2022-02-06T12:09:35.580Z"
   },
   {
    "duration": 8,
    "start_time": "2022-02-06T12:09:35.585Z"
   },
   {
    "duration": 12,
    "start_time": "2022-02-06T12:09:35.595Z"
   },
   {
    "duration": 18,
    "start_time": "2022-02-06T12:09:35.608Z"
   },
   {
    "duration": 162,
    "start_time": "2022-02-06T12:09:35.628Z"
   },
   {
    "duration": 208,
    "start_time": "2022-02-06T12:09:35.793Z"
   },
   {
    "duration": 61,
    "start_time": "2022-02-06T12:09:36.003Z"
   },
   {
    "duration": 73,
    "start_time": "2022-02-06T12:09:36.066Z"
   },
   {
    "duration": 219,
    "start_time": "2022-02-06T12:09:36.141Z"
   },
   {
    "duration": 12,
    "start_time": "2022-02-06T12:09:36.362Z"
   },
   {
    "duration": 22,
    "start_time": "2022-02-06T12:09:36.376Z"
   },
   {
    "duration": 2320,
    "start_time": "2022-02-06T12:09:36.400Z"
   },
   {
    "duration": 607,
    "start_time": "2022-02-06T12:09:38.722Z"
   },
   {
    "duration": 5,
    "start_time": "2022-02-06T12:09:39.331Z"
   },
   {
    "duration": 22,
    "start_time": "2022-02-06T12:09:39.338Z"
   },
   {
    "duration": 642,
    "start_time": "2022-02-06T12:09:39.362Z"
   },
   {
    "duration": 11,
    "start_time": "2022-02-06T12:09:40.006Z"
   },
   {
    "duration": 52,
    "start_time": "2022-02-06T12:25:49.030Z"
   },
   {
    "duration": 176,
    "start_time": "2022-02-06T12:37:09.053Z"
   },
   {
    "duration": 9,
    "start_time": "2022-02-06T12:37:19.646Z"
   },
   {
    "duration": 9,
    "start_time": "2022-02-06T12:38:20.379Z"
   },
   {
    "duration": 222,
    "start_time": "2022-02-06T12:38:46.865Z"
   },
   {
    "duration": 182,
    "start_time": "2022-02-06T12:38:58.160Z"
   },
   {
    "duration": 17,
    "start_time": "2022-02-06T12:39:13.046Z"
   },
   {
    "duration": 19,
    "start_time": "2022-02-06T12:44:40.141Z"
   },
   {
    "duration": 20,
    "start_time": "2022-02-06T12:45:00.631Z"
   },
   {
    "duration": 191,
    "start_time": "2022-02-06T12:45:30.131Z"
   },
   {
    "duration": 20,
    "start_time": "2022-02-06T12:45:45.237Z"
   },
   {
    "duration": 33,
    "start_time": "2022-02-06T12:46:53.420Z"
   },
   {
    "duration": 20,
    "start_time": "2022-02-06T12:47:09.356Z"
   },
   {
    "duration": 978,
    "start_time": "2022-02-06T12:52:48.620Z"
   },
   {
    "duration": 468,
    "start_time": "2022-02-06T12:52:49.600Z"
   },
   {
    "duration": 22,
    "start_time": "2022-02-06T12:52:50.069Z"
   },
   {
    "duration": 96,
    "start_time": "2022-02-06T12:52:50.092Z"
   },
   {
    "duration": 182,
    "start_time": "2022-02-06T12:52:50.189Z"
   },
   {
    "duration": 12,
    "start_time": "2022-02-06T12:52:50.373Z"
   },
   {
    "duration": 439,
    "start_time": "2022-02-06T12:52:50.387Z"
   },
   {
    "duration": 8,
    "start_time": "2022-02-06T12:52:50.827Z"
   },
   {
    "duration": 26,
    "start_time": "2022-02-06T12:52:50.838Z"
   },
   {
    "duration": 449,
    "start_time": "2022-02-06T12:52:50.865Z"
   },
   {
    "duration": 7,
    "start_time": "2022-02-06T12:52:51.316Z"
   },
   {
    "duration": 14,
    "start_time": "2022-02-06T12:52:51.324Z"
   },
   {
    "duration": 23,
    "start_time": "2022-02-06T12:52:51.339Z"
   },
   {
    "duration": 5,
    "start_time": "2022-02-06T12:52:51.364Z"
   },
   {
    "duration": 339,
    "start_time": "2022-02-06T12:52:51.370Z"
   },
   {
    "duration": 7,
    "start_time": "2022-02-06T12:52:51.711Z"
   },
   {
    "duration": 14,
    "start_time": "2022-02-06T12:52:51.719Z"
   },
   {
    "duration": 8,
    "start_time": "2022-02-06T12:52:51.735Z"
   },
   {
    "duration": 21,
    "start_time": "2022-02-06T12:52:51.745Z"
   },
   {
    "duration": 8,
    "start_time": "2022-02-06T12:52:51.767Z"
   },
   {
    "duration": 6,
    "start_time": "2022-02-06T12:52:51.777Z"
   },
   {
    "duration": 158,
    "start_time": "2022-02-06T12:52:51.785Z"
   },
   {
    "duration": 198,
    "start_time": "2022-02-06T12:52:51.944Z"
   },
   {
    "duration": 62,
    "start_time": "2022-02-06T12:52:52.143Z"
   },
   {
    "duration": 77,
    "start_time": "2022-02-06T12:52:52.207Z"
   },
   {
    "duration": 187,
    "start_time": "2022-02-06T12:52:52.286Z"
   },
   {
    "duration": 20,
    "start_time": "2022-02-06T12:52:52.475Z"
   },
   {
    "duration": 11,
    "start_time": "2022-02-06T12:52:52.496Z"
   },
   {
    "duration": 2220,
    "start_time": "2022-02-06T12:52:52.509Z"
   },
   {
    "duration": 598,
    "start_time": "2022-02-06T12:52:54.731Z"
   },
   {
    "duration": 6,
    "start_time": "2022-02-06T12:52:55.331Z"
   },
   {
    "duration": 20,
    "start_time": "2022-02-06T12:52:55.339Z"
   },
   {
    "duration": 606,
    "start_time": "2022-02-06T12:52:55.361Z"
   },
   {
    "duration": 10,
    "start_time": "2022-02-06T12:52:55.968Z"
   },
   {
    "duration": 1062,
    "start_time": "2022-02-06T12:58:31.572Z"
   },
   {
    "duration": 521,
    "start_time": "2022-02-06T12:58:32.639Z"
   },
   {
    "duration": 24,
    "start_time": "2022-02-06T12:58:33.162Z"
   },
   {
    "duration": 109,
    "start_time": "2022-02-06T12:58:33.188Z"
   },
   {
    "duration": 212,
    "start_time": "2022-02-06T12:58:33.298Z"
   },
   {
    "duration": 14,
    "start_time": "2022-02-06T12:58:33.511Z"
   },
   {
    "duration": 448,
    "start_time": "2022-02-06T12:58:33.527Z"
   },
   {
    "duration": 9,
    "start_time": "2022-02-06T12:58:33.977Z"
   },
   {
    "duration": 12,
    "start_time": "2022-02-06T12:58:33.988Z"
   },
   {
    "duration": 466,
    "start_time": "2022-02-06T12:58:34.002Z"
   },
   {
    "duration": 8,
    "start_time": "2022-02-06T12:58:34.469Z"
   },
   {
    "duration": 8,
    "start_time": "2022-02-06T12:58:34.479Z"
   },
   {
    "duration": 9,
    "start_time": "2022-02-06T12:58:34.489Z"
   },
   {
    "duration": 10,
    "start_time": "2022-02-06T12:58:34.500Z"
   },
   {
    "duration": 382,
    "start_time": "2022-02-06T12:58:34.511Z"
   },
   {
    "duration": 8,
    "start_time": "2022-02-06T12:58:34.896Z"
   },
   {
    "duration": 15,
    "start_time": "2022-02-06T12:58:34.905Z"
   },
   {
    "duration": 11,
    "start_time": "2022-02-06T12:58:34.922Z"
   },
   {
    "duration": 29,
    "start_time": "2022-02-06T12:58:34.935Z"
   },
   {
    "duration": 12,
    "start_time": "2022-02-06T12:58:34.966Z"
   },
   {
    "duration": 8,
    "start_time": "2022-02-06T12:58:34.980Z"
   },
   {
    "duration": 156,
    "start_time": "2022-02-06T12:58:34.992Z"
   },
   {
    "duration": 225,
    "start_time": "2022-02-06T12:58:35.160Z"
   },
   {
    "duration": 53,
    "start_time": "2022-02-06T12:58:35.388Z"
   },
   {
    "duration": 85,
    "start_time": "2022-02-06T12:58:35.443Z"
   },
   {
    "duration": 206,
    "start_time": "2022-02-06T12:58:35.531Z"
   },
   {
    "duration": 33,
    "start_time": "2022-02-06T12:58:35.739Z"
   },
   {
    "duration": 14,
    "start_time": "2022-02-06T12:58:35.774Z"
   },
   {
    "duration": 2247,
    "start_time": "2022-02-06T12:58:35.790Z"
   },
   {
    "duration": 592,
    "start_time": "2022-02-06T12:58:38.039Z"
   },
   {
    "duration": 7,
    "start_time": "2022-02-06T12:58:38.633Z"
   },
   {
    "duration": 21,
    "start_time": "2022-02-06T12:58:38.642Z"
   },
   {
    "duration": 606,
    "start_time": "2022-02-06T12:58:38.665Z"
   },
   {
    "duration": 10,
    "start_time": "2022-02-06T12:58:39.273Z"
   }
  ],
  "kernelspec": {
   "display_name": "Python 3 (ipykernel)",
   "language": "python",
   "name": "python3"
  },
  "language_info": {
   "codemirror_mode": {
    "name": "ipython",
    "version": 3
   },
   "file_extension": ".py",
   "mimetype": "text/x-python",
   "name": "python",
   "nbconvert_exporter": "python",
   "pygments_lexer": "ipython3",
   "version": "3.9.7"
  },
  "toc": {
   "base_numbering": 1,
   "nav_menu": {},
   "number_sections": true,
   "sideBar": true,
   "skip_h1_title": true,
   "title_cell": "Table of Contents",
   "title_sidebar": "Contents",
   "toc_cell": false,
   "toc_position": {},
   "toc_section_display": true,
   "toc_window_display": true
  }
 },
 "nbformat": 4,
 "nbformat_minor": 2
}
